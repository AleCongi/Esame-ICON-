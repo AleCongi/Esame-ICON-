{
  "nbformat": 4,
  "nbformat_minor": 0,
  "metadata": {
    "colab": {
      "provenance": [],
      "collapsed_sections": [
        "7ZP2H94Q0dzc",
        "EykRlnQNx3Se",
        "TGSsIChIx7Ze",
        "BM5VMUcgEni5",
        "cLCb7MwRNklu",
        "0E_S_wcDOZi2"
      ],
      "include_colab_link": true
    },
    "kernelspec": {
      "name": "python3",
      "display_name": "Python 3"
    },
    "language_info": {
      "name": "python"
    }
  },
  "cells": [
    {
      "cell_type": "markdown",
      "metadata": {
        "id": "view-in-github",
        "colab_type": "text"
      },
      "source": [
        "<a href=\"https://colab.research.google.com/github/AleCongi/Esame-ICON-/blob/main/10Febbraio.ipynb\" target=\"_parent\"><img src=\"https://colab.research.google.com/assets/colab-badge.svg\" alt=\"Open In Colab\"/></a>"
      ]
    },
    {
      "cell_type": "markdown",
      "source": [
        "#ICON"
      ],
      "metadata": {
        "id": "g3GCD6NAFsy9"
      }
    },
    {
      "cell_type": "code",
      "source": [
        "!pip install nltk\n",
        "!pip install scikit-multilearn"
      ],
      "metadata": {
        "colab": {
          "base_uri": "https://localhost:8080/"
        },
        "id": "T8QNuY9K3Iy7",
        "outputId": "957da9b9-8026-4f38-b1a1-8322fa49a58e"
      },
      "execution_count": 2,
      "outputs": [
        {
          "output_type": "stream",
          "name": "stdout",
          "text": [
            "Looking in indexes: https://pypi.org/simple, https://us-python.pkg.dev/colab-wheels/public/simple/\n",
            "Requirement already satisfied: nltk in /usr/local/lib/python3.8/dist-packages (3.7)\n",
            "Requirement already satisfied: tqdm in /usr/local/lib/python3.8/dist-packages (from nltk) (4.64.1)\n",
            "Requirement already satisfied: click in /usr/local/lib/python3.8/dist-packages (from nltk) (7.1.2)\n",
            "Requirement already satisfied: regex>=2021.8.3 in /usr/local/lib/python3.8/dist-packages (from nltk) (2022.6.2)\n",
            "Requirement already satisfied: joblib in /usr/local/lib/python3.8/dist-packages (from nltk) (1.2.0)\n",
            "Looking in indexes: https://pypi.org/simple, https://us-python.pkg.dev/colab-wheels/public/simple/\n",
            "Collecting scikit-multilearn\n",
            "  Downloading scikit_multilearn-0.2.0-py3-none-any.whl (89 kB)\n",
            "\u001b[2K     \u001b[90m━━━━━━━━━━━━━━━━━━━━━━━━━━━━━━━━━━━━━━━━\u001b[0m \u001b[32m89.4/89.4 KB\u001b[0m \u001b[31m3.1 MB/s\u001b[0m eta \u001b[36m0:00:00\u001b[0m\n",
            "\u001b[?25hInstalling collected packages: scikit-multilearn\n",
            "Successfully installed scikit-multilearn-0.2.0\n"
          ]
        }
      ]
    },
    {
      "cell_type": "code",
      "execution_count": 40,
      "metadata": {
        "colab": {
          "base_uri": "https://localhost:8080/"
        },
        "id": "xUtfUST4Lhjw",
        "outputId": "9e393ad0-44b0-42a3-fc62-d2919a970d4c"
      },
      "outputs": [
        {
          "output_type": "stream",
          "name": "stderr",
          "text": [
            "[nltk_data] Downloading package wordnet to /root/nltk_data...\n",
            "[nltk_data]   Package wordnet is already up-to-date!\n",
            "[nltk_data] Downloading package omw-1.4 to /root/nltk_data...\n",
            "[nltk_data]   Package omw-1.4 is already up-to-date!\n",
            "[nltk_data] Downloading package punkt to /root/nltk_data...\n",
            "[nltk_data]   Package punkt is already up-to-date!\n",
            "[nltk_data] Downloading package stopwords to /root/nltk_data...\n",
            "[nltk_data]   Package stopwords is already up-to-date!\n"
          ]
        },
        {
          "output_type": "stream",
          "name": "stdout",
          "text": [
            "Drive already mounted at /content/drive; to attempt to forcibly remount, call drive.mount(\"/content/drive\", force_remount=True).\n"
          ]
        }
      ],
      "source": [
        "import numpy as np\n",
        "from numpy.ma.core import outer\n",
        "import pandas as pd\n",
        "import seaborn as sns\n",
        "from re import sub as sub\n",
        "from sys import exit as exit\n",
        "import matplotlib.pyplot as plt\n",
        "import string\n",
        "\n",
        "import networkx as nx\n",
        "\n",
        "from sklearn.metrics.pairwise import cosine_similarity\n",
        "\n",
        "import sys\n",
        "\n",
        "from wordcloud import WordCloud\n",
        "\n",
        "from sklearn.metrics import pairwise_distances\n",
        "\n",
        "\n",
        "from nltk.corpus import wordnet as wn\n",
        "from nltk.corpus import stopwords\n",
        "from nltk.stem import WordNetLemmatizer\n",
        "from nltk import download as dl\n",
        "from nltk import word_tokenize as tkn\n",
        "\n",
        "\n",
        "from sklearn.model_selection import train_test_split, GridSearchCV\n",
        "from sklearn.feature_extraction.text import CountVectorizer,TfidfVectorizer\n",
        "from sklearn.cluster import KMeans, AffinityPropagation\n",
        "from sklearn.naive_bayes import GaussianNB,BernoulliNB,CategoricalNB\n",
        "from sklearn.linear_model import SGDClassifier\n",
        "from sklearn.neighbors import KNeighborsClassifier\n",
        "from sklearn.svm import SVC\n",
        "from sklearn.ensemble import RandomForestClassifier\n",
        "\n",
        "\n",
        "#Metrics\n",
        "from sklearn.metrics import accuracy_score, average_precision_score, f1_score, hamming_loss, label_ranking_average_precision_score, precision_recall_curve, recall_score, classification_report, r2_score\n",
        "\n",
        "#Multilable\n",
        "from skmultilearn.problem_transform import BinaryRelevance, LabelPowerset\n",
        "from skmultilearn.ensemble import RakelD, RakelO, LabelSpacePartitioningClassifier\n",
        "from skmultilearn.adapt import MLkNN\n",
        "\n",
        "dl('wordnet')\n",
        "dl('omw-1.4')\n",
        "dl('punkt')\n",
        "dl('stopwords')\n",
        "\n",
        "from google.colab import drive\n",
        "drive.mount('/content/drive', force_remount=False)"
      ]
    },
    {
      "cell_type": "code",
      "source": [
        "tot=pd.read_csv('/content/drive/MyDrive/Colab Notebooks/eventsFixed.csv')\n",
        "\n",
        "tot.head(10)"
      ],
      "metadata": {
        "colab": {
          "base_uri": "https://localhost:8080/",
          "height": 352
        },
        "id": "wkMIjegi3pzH",
        "outputId": "7b410726-c7e8-4a59-dc56-8b084d004850"
      },
      "execution_count": 41,
      "outputs": [
        {
          "output_type": "execute_result",
          "data": {
            "text/plain": [
              "                 id  fun  food  culture  isOpen  isMusic  \\\n",
              "0  1000187186721956    1     0        1      -1        0   \n",
              "1  1007051849450711    0     0        0      -1        0   \n",
              "2   100731190460200    0     0        1      -1        1   \n",
              "3  1014507045355357    0     0        0      -1        1   \n",
              "4  1015563648832823    0     0        1      -1        1   \n",
              "5  1021806692027608    0     0        0      -1        1   \n",
              "6  1023358881203820    1     0        0      -1        0   \n",
              "7  1026307021482635    1     0        1      -1        0   \n",
              "8  1026761354178792    1     0        1      -1        0   \n",
              "9   103006560538403    0     1        1      -1        1   \n",
              "\n",
              "                                                text  \n",
              "0  Martedi 05 gennaio super tombolata al Barfly!\\...  \n",
              "1                                                NaN  \n",
              "2  Ingresso free senza obbligo di consumazione,se...  \n",
              "3  Giovedi 8 Marzo, Napulitanata \"celebra la donn...  \n",
              "4  yn e lieta di presentare\\n\\nNapoolyn x Resilie...  \n",
              "5  Serata live \\nVENERDI' 18 MARZO \\nUn piacevole...  \n",
              "6  Quest'anno in occasione di san Valentino il ri...  \n",
              "7              Menu adulti 30.00\\nMenu bambini 15.00  \n",
              "8              Menu adulti 30.00\\nMenu bambini 15.00  \n",
              "9  La 1 Esposizione dei disegni di DIPSTER accomp...  "
            ],
            "text/html": [
              "\n",
              "  <div id=\"df-75755592-bad2-432f-8567-054f90009133\">\n",
              "    <div class=\"colab-df-container\">\n",
              "      <div>\n",
              "<style scoped>\n",
              "    .dataframe tbody tr th:only-of-type {\n",
              "        vertical-align: middle;\n",
              "    }\n",
              "\n",
              "    .dataframe tbody tr th {\n",
              "        vertical-align: top;\n",
              "    }\n",
              "\n",
              "    .dataframe thead th {\n",
              "        text-align: right;\n",
              "    }\n",
              "</style>\n",
              "<table border=\"1\" class=\"dataframe\">\n",
              "  <thead>\n",
              "    <tr style=\"text-align: right;\">\n",
              "      <th></th>\n",
              "      <th>id</th>\n",
              "      <th>fun</th>\n",
              "      <th>food</th>\n",
              "      <th>culture</th>\n",
              "      <th>isOpen</th>\n",
              "      <th>isMusic</th>\n",
              "      <th>text</th>\n",
              "    </tr>\n",
              "  </thead>\n",
              "  <tbody>\n",
              "    <tr>\n",
              "      <th>0</th>\n",
              "      <td>1000187186721956</td>\n",
              "      <td>1</td>\n",
              "      <td>0</td>\n",
              "      <td>1</td>\n",
              "      <td>-1</td>\n",
              "      <td>0</td>\n",
              "      <td>Martedi 05 gennaio super tombolata al Barfly!\\...</td>\n",
              "    </tr>\n",
              "    <tr>\n",
              "      <th>1</th>\n",
              "      <td>1007051849450711</td>\n",
              "      <td>0</td>\n",
              "      <td>0</td>\n",
              "      <td>0</td>\n",
              "      <td>-1</td>\n",
              "      <td>0</td>\n",
              "      <td>NaN</td>\n",
              "    </tr>\n",
              "    <tr>\n",
              "      <th>2</th>\n",
              "      <td>100731190460200</td>\n",
              "      <td>0</td>\n",
              "      <td>0</td>\n",
              "      <td>1</td>\n",
              "      <td>-1</td>\n",
              "      <td>1</td>\n",
              "      <td>Ingresso free senza obbligo di consumazione,se...</td>\n",
              "    </tr>\n",
              "    <tr>\n",
              "      <th>3</th>\n",
              "      <td>1014507045355357</td>\n",
              "      <td>0</td>\n",
              "      <td>0</td>\n",
              "      <td>0</td>\n",
              "      <td>-1</td>\n",
              "      <td>1</td>\n",
              "      <td>Giovedi 8 Marzo, Napulitanata \"celebra la donn...</td>\n",
              "    </tr>\n",
              "    <tr>\n",
              "      <th>4</th>\n",
              "      <td>1015563648832823</td>\n",
              "      <td>0</td>\n",
              "      <td>0</td>\n",
              "      <td>1</td>\n",
              "      <td>-1</td>\n",
              "      <td>1</td>\n",
              "      <td>yn e lieta di presentare\\n\\nNapoolyn x Resilie...</td>\n",
              "    </tr>\n",
              "    <tr>\n",
              "      <th>5</th>\n",
              "      <td>1021806692027608</td>\n",
              "      <td>0</td>\n",
              "      <td>0</td>\n",
              "      <td>0</td>\n",
              "      <td>-1</td>\n",
              "      <td>1</td>\n",
              "      <td>Serata live \\nVENERDI' 18 MARZO \\nUn piacevole...</td>\n",
              "    </tr>\n",
              "    <tr>\n",
              "      <th>6</th>\n",
              "      <td>1023358881203820</td>\n",
              "      <td>1</td>\n",
              "      <td>0</td>\n",
              "      <td>0</td>\n",
              "      <td>-1</td>\n",
              "      <td>0</td>\n",
              "      <td>Quest'anno in occasione di san Valentino il ri...</td>\n",
              "    </tr>\n",
              "    <tr>\n",
              "      <th>7</th>\n",
              "      <td>1026307021482635</td>\n",
              "      <td>1</td>\n",
              "      <td>0</td>\n",
              "      <td>1</td>\n",
              "      <td>-1</td>\n",
              "      <td>0</td>\n",
              "      <td>Menu adulti 30.00\\nMenu bambini 15.00</td>\n",
              "    </tr>\n",
              "    <tr>\n",
              "      <th>8</th>\n",
              "      <td>1026761354178792</td>\n",
              "      <td>1</td>\n",
              "      <td>0</td>\n",
              "      <td>1</td>\n",
              "      <td>-1</td>\n",
              "      <td>0</td>\n",
              "      <td>Menu adulti 30.00\\nMenu bambini 15.00</td>\n",
              "    </tr>\n",
              "    <tr>\n",
              "      <th>9</th>\n",
              "      <td>103006560538403</td>\n",
              "      <td>0</td>\n",
              "      <td>1</td>\n",
              "      <td>1</td>\n",
              "      <td>-1</td>\n",
              "      <td>1</td>\n",
              "      <td>La 1 Esposizione dei disegni di DIPSTER accomp...</td>\n",
              "    </tr>\n",
              "  </tbody>\n",
              "</table>\n",
              "</div>\n",
              "      <button class=\"colab-df-convert\" onclick=\"convertToInteractive('df-75755592-bad2-432f-8567-054f90009133')\"\n",
              "              title=\"Convert this dataframe to an interactive table.\"\n",
              "              style=\"display:none;\">\n",
              "        \n",
              "  <svg xmlns=\"http://www.w3.org/2000/svg\" height=\"24px\"viewBox=\"0 0 24 24\"\n",
              "       width=\"24px\">\n",
              "    <path d=\"M0 0h24v24H0V0z\" fill=\"none\"/>\n",
              "    <path d=\"M18.56 5.44l.94 2.06.94-2.06 2.06-.94-2.06-.94-.94-2.06-.94 2.06-2.06.94zm-11 1L8.5 8.5l.94-2.06 2.06-.94-2.06-.94L8.5 2.5l-.94 2.06-2.06.94zm10 10l.94 2.06.94-2.06 2.06-.94-2.06-.94-.94-2.06-.94 2.06-2.06.94z\"/><path d=\"M17.41 7.96l-1.37-1.37c-.4-.4-.92-.59-1.43-.59-.52 0-1.04.2-1.43.59L10.3 9.45l-7.72 7.72c-.78.78-.78 2.05 0 2.83L4 21.41c.39.39.9.59 1.41.59.51 0 1.02-.2 1.41-.59l7.78-7.78 2.81-2.81c.8-.78.8-2.07 0-2.86zM5.41 20L4 18.59l7.72-7.72 1.47 1.35L5.41 20z\"/>\n",
              "  </svg>\n",
              "      </button>\n",
              "      \n",
              "  <style>\n",
              "    .colab-df-container {\n",
              "      display:flex;\n",
              "      flex-wrap:wrap;\n",
              "      gap: 12px;\n",
              "    }\n",
              "\n",
              "    .colab-df-convert {\n",
              "      background-color: #E8F0FE;\n",
              "      border: none;\n",
              "      border-radius: 50%;\n",
              "      cursor: pointer;\n",
              "      display: none;\n",
              "      fill: #1967D2;\n",
              "      height: 32px;\n",
              "      padding: 0 0 0 0;\n",
              "      width: 32px;\n",
              "    }\n",
              "\n",
              "    .colab-df-convert:hover {\n",
              "      background-color: #E2EBFA;\n",
              "      box-shadow: 0px 1px 2px rgba(60, 64, 67, 0.3), 0px 1px 3px 1px rgba(60, 64, 67, 0.15);\n",
              "      fill: #174EA6;\n",
              "    }\n",
              "\n",
              "    [theme=dark] .colab-df-convert {\n",
              "      background-color: #3B4455;\n",
              "      fill: #D2E3FC;\n",
              "    }\n",
              "\n",
              "    [theme=dark] .colab-df-convert:hover {\n",
              "      background-color: #434B5C;\n",
              "      box-shadow: 0px 1px 3px 1px rgba(0, 0, 0, 0.15);\n",
              "      filter: drop-shadow(0px 1px 2px rgba(0, 0, 0, 0.3));\n",
              "      fill: #FFFFFF;\n",
              "    }\n",
              "  </style>\n",
              "\n",
              "      <script>\n",
              "        const buttonEl =\n",
              "          document.querySelector('#df-75755592-bad2-432f-8567-054f90009133 button.colab-df-convert');\n",
              "        buttonEl.style.display =\n",
              "          google.colab.kernel.accessAllowed ? 'block' : 'none';\n",
              "\n",
              "        async function convertToInteractive(key) {\n",
              "          const element = document.querySelector('#df-75755592-bad2-432f-8567-054f90009133');\n",
              "          const dataTable =\n",
              "            await google.colab.kernel.invokeFunction('convertToInteractive',\n",
              "                                                     [key], {});\n",
              "          if (!dataTable) return;\n",
              "\n",
              "          const docLinkHtml = 'Like what you see? Visit the ' +\n",
              "            '<a target=\"_blank\" href=https://colab.research.google.com/notebooks/data_table.ipynb>data table notebook</a>'\n",
              "            + ' to learn more about interactive tables.';\n",
              "          element.innerHTML = '';\n",
              "          dataTable['output_type'] = 'display_data';\n",
              "          await google.colab.output.renderOutput(dataTable, element);\n",
              "          const docLink = document.createElement('div');\n",
              "          docLink.innerHTML = docLinkHtml;\n",
              "          element.appendChild(docLink);\n",
              "        }\n",
              "      </script>\n",
              "    </div>\n",
              "  </div>\n",
              "  "
            ]
          },
          "metadata": {},
          "execution_count": 41
        }
      ]
    },
    {
      "cell_type": "code",
      "source": [
        "tot.count()"
      ],
      "metadata": {
        "colab": {
          "base_uri": "https://localhost:8080/"
        },
        "id": "hhs99Yrh5J99",
        "outputId": "6eba9bba-eadb-4d24-c166-3b9b9dab043d"
      },
      "execution_count": 72,
      "outputs": [
        {
          "output_type": "execute_result",
          "data": {
            "text/plain": [
              "id         7688\n",
              "fun        7688\n",
              "food       7688\n",
              "culture    7688\n",
              "isOpen     7688\n",
              "isMusic    7688\n",
              "text       7170\n",
              "dtype: int64"
            ]
          },
          "metadata": {},
          "execution_count": 72
        }
      ]
    },
    {
      "cell_type": "markdown",
      "source": [
        "È chiaro che ci siano dei testi nulli. È possibile che siano eventi senza descrizione. Me ne accerto:"
      ],
      "metadata": {
        "id": "hj30YqWGCDRu"
      }
    },
    {
      "cell_type": "code",
      "source": [
        "sns.heatmap(tot.isna(), cbar=False)"
      ],
      "metadata": {
        "colab": {
          "base_uri": "https://localhost:8080/",
          "height": 287
        },
        "id": "CudRXskiAW-5",
        "outputId": "f5a26278-12ed-4512-f8dc-83ce1278eb6f"
      },
      "execution_count": null,
      "outputs": [
        {
          "output_type": "execute_result",
          "data": {
            "text/plain": [
              "<matplotlib.axes._subplots.AxesSubplot at 0x7fa206588dc0>"
            ]
          },
          "metadata": {},
          "execution_count": 14
        },
        {
          "output_type": "display_data",
          "data": {
            "text/plain": [
              "<Figure size 432x288 with 1 Axes>"
            ],
            "image/png": "[encoded data removed]"
          },
          "metadata": {
            "needs_background": "light"
          }
        }
      ]
    },
    {
      "cell_type": "markdown",
      "source": [
        "##Quickfix"
      ],
      "metadata": {
        "id": "eTz9oWxwFogj"
      }
    },
    {
      "cell_type": "markdown",
      "source": [
        "Sapendo che \"id\" è la nostra colonna primaria, controllo che il numero di valori unici nella colonna primaria sia uguale al numero di righe. Questo mi permette di accertarmi di non avere la stessa riga per più di una volta nel mio dataset."
      ],
      "metadata": {
        "id": "Gh0B9OgaCTmg"
      }
    },
    {
      "cell_type": "code",
      "source": [
        "tot['id'].nunique() == len(tot['id'])"
      ],
      "metadata": {
        "colab": {
          "base_uri": "https://localhost:8080/"
        },
        "id": "jqzIa_MkB9Ma",
        "outputId": "0381bd5c-8993-4f18-9823-bdc061efd0be"
      },
      "execution_count": 73,
      "outputs": [
        {
          "output_type": "execute_result",
          "data": {
            "text/plain": [
              "False"
            ]
          },
          "metadata": {},
          "execution_count": 73
        }
      ]
    },
    {
      "cell_type": "code",
      "source": [
        "tot = tot.drop_duplicates(subset=\"id\", keep='last')\n",
        "tot = tot.drop_duplicates(subset=\"text\", keep='last')\n",
        "for index, row in tot.iterrows():  \n",
        "  try:\n",
        "    trashId = row['id']\n",
        "    trash = row['text'].lower()\n",
        "  except AttributeError as ae:\n",
        "    tot.drop(tot[tot['id'] == trashId].index, inplace=True)\n"
      ],
      "metadata": {
        "id": "-MwpT4sA8W8t"
      },
      "execution_count": 74,
      "outputs": []
    },
    {
      "cell_type": "code",
      "source": [
        "tot['id'].nunique() == len(tot['id'])"
      ],
      "metadata": {
        "colab": {
          "base_uri": "https://localhost:8080/"
        },
        "id": "2cl7KnrbBuBZ",
        "outputId": "f40918c0-bdcb-47dc-f620-8a0ec3c6a9d3"
      },
      "execution_count": 75,
      "outputs": [
        {
          "output_type": "execute_result",
          "data": {
            "text/plain": [
              "True"
            ]
          },
          "metadata": {},
          "execution_count": 75
        }
      ]
    },
    {
      "cell_type": "code",
      "source": [
        "tot.drop('id',inplace=True,axis=1)\n",
        "tot"
      ],
      "metadata": {
        "colab": {
          "base_uri": "https://localhost:8080/",
          "height": 411
        },
        "id": "V-9T-F_2B2GM",
        "outputId": "3e220042-1e51-4031-8ed6-fabd8bbcdc93"
      },
      "execution_count": 76,
      "outputs": [
        {
          "output_type": "execute_result",
          "data": {
            "text/plain": [
              "      fun  food  culture  isOpen  isMusic  \\\n",
              "0       1     0        1      -1        0   \n",
              "2       0     0        1      -1        1   \n",
              "3       0     0        0      -1        1   \n",
              "4       0     0        1      -1        1   \n",
              "5       0     0        0      -1        1   \n",
              "...   ...   ...      ...     ...      ...   \n",
              "7683    0     0        0      -1        1   \n",
              "7684    0     1        0      -1        0   \n",
              "7685    0     1        1       1        1   \n",
              "7686    0     0        1      -1        0   \n",
              "7687    0     1        0      -1        0   \n",
              "\n",
              "                                                   text  \n",
              "0     Martedi 05 gennaio super tombolata al Barfly!\\...  \n",
              "2     Ingresso free senza obbligo di consumazione,se...  \n",
              "3     Giovedi 8 Marzo, Napulitanata \"celebra la donn...  \n",
              "4     yn e lieta di presentare\\n\\nNapoolyn x Resilie...  \n",
              "5     Serata live \\nVENERDI' 18 MARZO \\nUn piacevole...  \n",
              "...                                                 ...  \n",
              "7683  Hot Club Roma Trio\\n\\nMoreno Viglione chitarra...  \n",
              "7684  Presentazione del libro:\\n \"Tasmania\" (Einaudi...  \n",
              "7685  In occasione delle GIORNATE EUROPEE DEL PATRIM...  \n",
              "7686  Vieni a Danzare gratuitamente per un giorno co...  \n",
              "7687  Il convegno, in linea col precedente Leducazio...  \n",
              "\n",
              "[6327 rows x 6 columns]"
            ],
            "text/html": [
              "\n",
              "  <div id=\"df-116d2bfd-ef6d-486a-ade0-1967bd1b0760\">\n",
              "    <div class=\"colab-df-container\">\n",
              "      <div>\n",
              "<style scoped>\n",
              "    .dataframe tbody tr th:only-of-type {\n",
              "        vertical-align: middle;\n",
              "    }\n",
              "\n",
              "    .dataframe tbody tr th {\n",
              "        vertical-align: top;\n",
              "    }\n",
              "\n",
              "    .dataframe thead th {\n",
              "        text-align: right;\n",
              "    }\n",
              "</style>\n",
              "<table border=\"1\" class=\"dataframe\">\n",
              "  <thead>\n",
              "    <tr style=\"text-align: right;\">\n",
              "      <th></th>\n",
              "      <th>fun</th>\n",
              "      <th>food</th>\n",
              "      <th>culture</th>\n",
              "      <th>isOpen</th>\n",
              "      <th>isMusic</th>\n",
              "      <th>text</th>\n",
              "    </tr>\n",
              "  </thead>\n",
              "  <tbody>\n",
              "    <tr>\n",
              "      <th>0</th>\n",
              "      <td>1</td>\n",
              "      <td>0</td>\n",
              "      <td>1</td>\n",
              "      <td>-1</td>\n",
              "      <td>0</td>\n",
              "      <td>Martedi 05 gennaio super tombolata al Barfly!\\...</td>\n",
              "    </tr>\n",
              "    <tr>\n",
              "      <th>2</th>\n",
              "      <td>0</td>\n",
              "      <td>0</td>\n",
              "      <td>1</td>\n",
              "      <td>-1</td>\n",
              "      <td>1</td>\n",
              "      <td>Ingresso free senza obbligo di consumazione,se...</td>\n",
              "    </tr>\n",
              "    <tr>\n",
              "      <th>3</th>\n",
              "      <td>0</td>\n",
              "      <td>0</td>\n",
              "      <td>0</td>\n",
              "      <td>-1</td>\n",
              "      <td>1</td>\n",
              "      <td>Giovedi 8 Marzo, Napulitanata \"celebra la donn...</td>\n",
              "    </tr>\n",
              "    <tr>\n",
              "      <th>4</th>\n",
              "      <td>0</td>\n",
              "      <td>0</td>\n",
              "      <td>1</td>\n",
              "      <td>-1</td>\n",
              "      <td>1</td>\n",
              "      <td>yn e lieta di presentare\\n\\nNapoolyn x Resilie...</td>\n",
              "    </tr>\n",
              "    <tr>\n",
              "      <th>5</th>\n",
              "      <td>0</td>\n",
              "      <td>0</td>\n",
              "      <td>0</td>\n",
              "      <td>-1</td>\n",
              "      <td>1</td>\n",
              "      <td>Serata live \\nVENERDI' 18 MARZO \\nUn piacevole...</td>\n",
              "    </tr>\n",
              "    <tr>\n",
              "      <th>...</th>\n",
              "      <td>...</td>\n",
              "      <td>...</td>\n",
              "      <td>...</td>\n",
              "      <td>...</td>\n",
              "      <td>...</td>\n",
              "      <td>...</td>\n",
              "    </tr>\n",
              "    <tr>\n",
              "      <th>7683</th>\n",
              "      <td>0</td>\n",
              "      <td>0</td>\n",
              "      <td>0</td>\n",
              "      <td>-1</td>\n",
              "      <td>1</td>\n",
              "      <td>Hot Club Roma Trio\\n\\nMoreno Viglione chitarra...</td>\n",
              "    </tr>\n",
              "    <tr>\n",
              "      <th>7684</th>\n",
              "      <td>0</td>\n",
              "      <td>1</td>\n",
              "      <td>0</td>\n",
              "      <td>-1</td>\n",
              "      <td>0</td>\n",
              "      <td>Presentazione del libro:\\n \"Tasmania\" (Einaudi...</td>\n",
              "    </tr>\n",
              "    <tr>\n",
              "      <th>7685</th>\n",
              "      <td>0</td>\n",
              "      <td>1</td>\n",
              "      <td>1</td>\n",
              "      <td>1</td>\n",
              "      <td>1</td>\n",
              "      <td>In occasione delle GIORNATE EUROPEE DEL PATRIM...</td>\n",
              "    </tr>\n",
              "    <tr>\n",
              "      <th>7686</th>\n",
              "      <td>0</td>\n",
              "      <td>0</td>\n",
              "      <td>1</td>\n",
              "      <td>-1</td>\n",
              "      <td>0</td>\n",
              "      <td>Vieni a Danzare gratuitamente per un giorno co...</td>\n",
              "    </tr>\n",
              "    <tr>\n",
              "      <th>7687</th>\n",
              "      <td>0</td>\n",
              "      <td>1</td>\n",
              "      <td>0</td>\n",
              "      <td>-1</td>\n",
              "      <td>0</td>\n",
              "      <td>Il convegno, in linea col precedente Leducazio...</td>\n",
              "    </tr>\n",
              "  </tbody>\n",
              "</table>\n",
              "<p>6327 rows × 6 columns</p>\n",
              "</div>\n",
              "      <button class=\"colab-df-convert\" onclick=\"convertToInteractive('df-116d2bfd-ef6d-486a-ade0-1967bd1b0760')\"\n",
              "              title=\"Convert this dataframe to an interactive table.\"\n",
              "              style=\"display:none;\">\n",
              "        \n",
              "  <svg xmlns=\"http://www.w3.org/2000/svg\" height=\"24px\"viewBox=\"0 0 24 24\"\n",
              "       width=\"24px\">\n",
              "    <path d=\"M0 0h24v24H0V0z\" fill=\"none\"/>\n",
              "    <path d=\"M18.56 5.44l.94 2.06.94-2.06 2.06-.94-2.06-.94-.94-2.06-.94 2.06-2.06.94zm-11 1L8.5 8.5l.94-2.06 2.06-.94-2.06-.94L8.5 2.5l-.94 2.06-2.06.94zm10 10l.94 2.06.94-2.06 2.06-.94-2.06-.94-.94-2.06-.94 2.06-2.06.94z\"/><path d=\"M17.41 7.96l-1.37-1.37c-.4-.4-.92-.59-1.43-.59-.52 0-1.04.2-1.43.59L10.3 9.45l-7.72 7.72c-.78.78-.78 2.05 0 2.83L4 21.41c.39.39.9.59 1.41.59.51 0 1.02-.2 1.41-.59l7.78-7.78 2.81-2.81c.8-.78.8-2.07 0-2.86zM5.41 20L4 18.59l7.72-7.72 1.47 1.35L5.41 20z\"/>\n",
              "  </svg>\n",
              "      </button>\n",
              "      \n",
              "  <style>\n",
              "    .colab-df-container {\n",
              "      display:flex;\n",
              "      flex-wrap:wrap;\n",
              "      gap: 12px;\n",
              "    }\n",
              "\n",
              "    .colab-df-convert {\n",
              "      background-color: #E8F0FE;\n",
              "      border: none;\n",
              "      border-radius: 50%;\n",
              "      cursor: pointer;\n",
              "      display: none;\n",
              "      fill: #1967D2;\n",
              "      height: 32px;\n",
              "      padding: 0 0 0 0;\n",
              "      width: 32px;\n",
              "    }\n",
              "\n",
              "    .colab-df-convert:hover {\n",
              "      background-color: #E2EBFA;\n",
              "      box-shadow: 0px 1px 2px rgba(60, 64, 67, 0.3), 0px 1px 3px 1px rgba(60, 64, 67, 0.15);\n",
              "      fill: #174EA6;\n",
              "    }\n",
              "\n",
              "    [theme=dark] .colab-df-convert {\n",
              "      background-color: #3B4455;\n",
              "      fill: #D2E3FC;\n",
              "    }\n",
              "\n",
              "    [theme=dark] .colab-df-convert:hover {\n",
              "      background-color: #434B5C;\n",
              "      box-shadow: 0px 1px 3px 1px rgba(0, 0, 0, 0.15);\n",
              "      filter: drop-shadow(0px 1px 2px rgba(0, 0, 0, 0.3));\n",
              "      fill: #FFFFFF;\n",
              "    }\n",
              "  </style>\n",
              "\n",
              "      <script>\n",
              "        const buttonEl =\n",
              "          document.querySelector('#df-116d2bfd-ef6d-486a-ade0-1967bd1b0760 button.colab-df-convert');\n",
              "        buttonEl.style.display =\n",
              "          google.colab.kernel.accessAllowed ? 'block' : 'none';\n",
              "\n",
              "        async function convertToInteractive(key) {\n",
              "          const element = document.querySelector('#df-116d2bfd-ef6d-486a-ade0-1967bd1b0760');\n",
              "          const dataTable =\n",
              "            await google.colab.kernel.invokeFunction('convertToInteractive',\n",
              "                                                     [key], {});\n",
              "          if (!dataTable) return;\n",
              "\n",
              "          const docLinkHtml = 'Like what you see? Visit the ' +\n",
              "            '<a target=\"_blank\" href=https://colab.research.google.com/notebooks/data_table.ipynb>data table notebook</a>'\n",
              "            + ' to learn more about interactive tables.';\n",
              "          element.innerHTML = '';\n",
              "          dataTable['output_type'] = 'display_data';\n",
              "          await google.colab.output.renderOutput(dataTable, element);\n",
              "          const docLink = document.createElement('div');\n",
              "          docLink.innerHTML = docLinkHtml;\n",
              "          element.appendChild(docLink);\n",
              "        }\n",
              "      </script>\n",
              "    </div>\n",
              "  </div>\n",
              "  "
            ]
          },
          "metadata": {},
          "execution_count": 76
        }
      ]
    },
    {
      "cell_type": "code",
      "source": [
        "tot.count()"
      ],
      "metadata": {
        "colab": {
          "base_uri": "https://localhost:8080/"
        },
        "id": "ptB1Oeqf8ffG",
        "outputId": "f2e995a2-3e30-49c3-800e-dd87a8678d8a"
      },
      "execution_count": 77,
      "outputs": [
        {
          "output_type": "execute_result",
          "data": {
            "text/plain": [
              "fun        6327\n",
              "food       6327\n",
              "culture    6327\n",
              "isOpen     6327\n",
              "isMusic    6327\n",
              "text       6327\n",
              "dtype: int64"
            ]
          },
          "metadata": {},
          "execution_count": 77
        }
      ]
    },
    {
      "cell_type": "code",
      "source": [
        "print(tot['text'][200])\n",
        "print(tot['food'][200])\n",
        "print(tot['fun'][200])\n",
        "print(tot['isMusic'][200])\n",
        "print(tot['culture'][200])"
      ],
      "metadata": {
        "colab": {
          "base_uri": "https://localhost:8080/"
        },
        "id": "7bU-Mv6Wx2GA",
        "outputId": "22a2a122-3574-4af2-b646-ea4762e6ee60"
      },
      "execution_count": 78,
      "outputs": [
        {
          "output_type": "stream",
          "name": "stdout",
          "text": [
            "GIOVEDi 26 MAGGIO 2016 // 'NAPERITIVO IN OFFICINA...\n",
            "Una serata speciale al borgo marinaro con mini fish burger, prosecco e dj set live. Ti aspettiamo!\n",
            "INFO t. 081 19353543\n",
            "0\n",
            "1\n",
            "0\n",
            "1\n"
          ]
        }
      ]
    },
    {
      "cell_type": "markdown",
      "source": [
        "##SomePlots"
      ],
      "metadata": {
        "id": "DwY_Pz15v7Dp"
      }
    },
    {
      "cell_type": "markdown",
      "source": [
        "Ecco i primi elementi del dataset."
      ],
      "metadata": {
        "id": "dvJ9Lm8aweaN"
      }
    },
    {
      "cell_type": "code",
      "source": [
        "tot.head()"
      ],
      "metadata": {
        "colab": {
          "base_uri": "https://localhost:8080/",
          "height": 201
        },
        "id": "LY8K8O1KwXSZ",
        "outputId": "4c286296-d41a-476a-93aa-8b81de16eb23"
      },
      "execution_count": 83,
      "outputs": [
        {
          "output_type": "execute_result",
          "data": {
            "text/plain": [
              "   fun  food  culture  isOpen  isMusic  \\\n",
              "0    1     0        1      -1        0   \n",
              "2    0     0        1      -1        1   \n",
              "3    0     0        0      -1        1   \n",
              "4    0     0        1      -1        1   \n",
              "5    0     0        0      -1        1   \n",
              "\n",
              "                                                text  \n",
              "0  Martedi 05 gennaio super tombolata al Barfly!\\...  \n",
              "2  Ingresso free senza obbligo di consumazione,se...  \n",
              "3  Giovedi 8 Marzo, Napulitanata \"celebra la donn...  \n",
              "4  yn e lieta di presentare\\n\\nNapoolyn x Resilie...  \n",
              "5  Serata live \\nVENERDI' 18 MARZO \\nUn piacevole...  "
            ],
            "text/html": [
              "\n",
              "  <div id=\"df-23cb4ddf-e310-47f4-af75-d23aee100c86\">\n",
              "    <div class=\"colab-df-container\">\n",
              "      <div>\n",
              "<style scoped>\n",
              "    .dataframe tbody tr th:only-of-type {\n",
              "        vertical-align: middle;\n",
              "    }\n",
              "\n",
              "    .dataframe tbody tr th {\n",
              "        vertical-align: top;\n",
              "    }\n",
              "\n",
              "    .dataframe thead th {\n",
              "        text-align: right;\n",
              "    }\n",
              "</style>\n",
              "<table border=\"1\" class=\"dataframe\">\n",
              "  <thead>\n",
              "    <tr style=\"text-align: right;\">\n",
              "      <th></th>\n",
              "      <th>fun</th>\n",
              "      <th>food</th>\n",
              "      <th>culture</th>\n",
              "      <th>isOpen</th>\n",
              "      <th>isMusic</th>\n",
              "      <th>text</th>\n",
              "    </tr>\n",
              "  </thead>\n",
              "  <tbody>\n",
              "    <tr>\n",
              "      <th>0</th>\n",
              "      <td>1</td>\n",
              "      <td>0</td>\n",
              "      <td>1</td>\n",
              "      <td>-1</td>\n",
              "      <td>0</td>\n",
              "      <td>Martedi 05 gennaio super tombolata al Barfly!\\...</td>\n",
              "    </tr>\n",
              "    <tr>\n",
              "      <th>2</th>\n",
              "      <td>0</td>\n",
              "      <td>0</td>\n",
              "      <td>1</td>\n",
              "      <td>-1</td>\n",
              "      <td>1</td>\n",
              "      <td>Ingresso free senza obbligo di consumazione,se...</td>\n",
              "    </tr>\n",
              "    <tr>\n",
              "      <th>3</th>\n",
              "      <td>0</td>\n",
              "      <td>0</td>\n",
              "      <td>0</td>\n",
              "      <td>-1</td>\n",
              "      <td>1</td>\n",
              "      <td>Giovedi 8 Marzo, Napulitanata \"celebra la donn...</td>\n",
              "    </tr>\n",
              "    <tr>\n",
              "      <th>4</th>\n",
              "      <td>0</td>\n",
              "      <td>0</td>\n",
              "      <td>1</td>\n",
              "      <td>-1</td>\n",
              "      <td>1</td>\n",
              "      <td>yn e lieta di presentare\\n\\nNapoolyn x Resilie...</td>\n",
              "    </tr>\n",
              "    <tr>\n",
              "      <th>5</th>\n",
              "      <td>0</td>\n",
              "      <td>0</td>\n",
              "      <td>0</td>\n",
              "      <td>-1</td>\n",
              "      <td>1</td>\n",
              "      <td>Serata live \\nVENERDI' 18 MARZO \\nUn piacevole...</td>\n",
              "    </tr>\n",
              "  </tbody>\n",
              "</table>\n",
              "</div>\n",
              "      <button class=\"colab-df-convert\" onclick=\"convertToInteractive('df-23cb4ddf-e310-47f4-af75-d23aee100c86')\"\n",
              "              title=\"Convert this dataframe to an interactive table.\"\n",
              "              style=\"display:none;\">\n",
              "        \n",
              "  <svg xmlns=\"http://www.w3.org/2000/svg\" height=\"24px\"viewBox=\"0 0 24 24\"\n",
              "       width=\"24px\">\n",
              "    <path d=\"M0 0h24v24H0V0z\" fill=\"none\"/>\n",
              "    <path d=\"M18.56 5.44l.94 2.06.94-2.06 2.06-.94-2.06-.94-.94-2.06-.94 2.06-2.06.94zm-11 1L8.5 8.5l.94-2.06 2.06-.94-2.06-.94L8.5 2.5l-.94 2.06-2.06.94zm10 10l.94 2.06.94-2.06 2.06-.94-2.06-.94-.94-2.06-.94 2.06-2.06.94z\"/><path d=\"M17.41 7.96l-1.37-1.37c-.4-.4-.92-.59-1.43-.59-.52 0-1.04.2-1.43.59L10.3 9.45l-7.72 7.72c-.78.78-.78 2.05 0 2.83L4 21.41c.39.39.9.59 1.41.59.51 0 1.02-.2 1.41-.59l7.78-7.78 2.81-2.81c.8-.78.8-2.07 0-2.86zM5.41 20L4 18.59l7.72-7.72 1.47 1.35L5.41 20z\"/>\n",
              "  </svg>\n",
              "      </button>\n",
              "      \n",
              "  <style>\n",
              "    .colab-df-container {\n",
              "      display:flex;\n",
              "      flex-wrap:wrap;\n",
              "      gap: 12px;\n",
              "    }\n",
              "\n",
              "    .colab-df-convert {\n",
              "      background-color: #E8F0FE;\n",
              "      border: none;\n",
              "      border-radius: 50%;\n",
              "      cursor: pointer;\n",
              "      display: none;\n",
              "      fill: #1967D2;\n",
              "      height: 32px;\n",
              "      padding: 0 0 0 0;\n",
              "      width: 32px;\n",
              "    }\n",
              "\n",
              "    .colab-df-convert:hover {\n",
              "      background-color: #E2EBFA;\n",
              "      box-shadow: 0px 1px 2px rgba(60, 64, 67, 0.3), 0px 1px 3px 1px rgba(60, 64, 67, 0.15);\n",
              "      fill: #174EA6;\n",
              "    }\n",
              "\n",
              "    [theme=dark] .colab-df-convert {\n",
              "      background-color: #3B4455;\n",
              "      fill: #D2E3FC;\n",
              "    }\n",
              "\n",
              "    [theme=dark] .colab-df-convert:hover {\n",
              "      background-color: #434B5C;\n",
              "      box-shadow: 0px 1px 3px 1px rgba(0, 0, 0, 0.15);\n",
              "      filter: drop-shadow(0px 1px 2px rgba(0, 0, 0, 0.3));\n",
              "      fill: #FFFFFF;\n",
              "    }\n",
              "  </style>\n",
              "\n",
              "      <script>\n",
              "        const buttonEl =\n",
              "          document.querySelector('#df-23cb4ddf-e310-47f4-af75-d23aee100c86 button.colab-df-convert');\n",
              "        buttonEl.style.display =\n",
              "          google.colab.kernel.accessAllowed ? 'block' : 'none';\n",
              "\n",
              "        async function convertToInteractive(key) {\n",
              "          const element = document.querySelector('#df-23cb4ddf-e310-47f4-af75-d23aee100c86');\n",
              "          const dataTable =\n",
              "            await google.colab.kernel.invokeFunction('convertToInteractive',\n",
              "                                                     [key], {});\n",
              "          if (!dataTable) return;\n",
              "\n",
              "          const docLinkHtml = 'Like what you see? Visit the ' +\n",
              "            '<a target=\"_blank\" href=https://colab.research.google.com/notebooks/data_table.ipynb>data table notebook</a>'\n",
              "            + ' to learn more about interactive tables.';\n",
              "          element.innerHTML = '';\n",
              "          dataTable['output_type'] = 'display_data';\n",
              "          await google.colab.output.renderOutput(dataTable, element);\n",
              "          const docLink = document.createElement('div');\n",
              "          docLink.innerHTML = docLinkHtml;\n",
              "          element.appendChild(docLink);\n",
              "        }\n",
              "      </script>\n",
              "    </div>\n",
              "  </div>\n",
              "  "
            ]
          },
          "metadata": {},
          "execution_count": 83
        }
      ]
    },
    {
      "cell_type": "code",
      "source": [
        "tot.dtypes"
      ],
      "metadata": {
        "colab": {
          "base_uri": "https://localhost:8080/"
        },
        "id": "DUBObwy6w4FS",
        "outputId": "f83f8c97-a511-4229-f41e-bd426c272d38"
      },
      "execution_count": 84,
      "outputs": [
        {
          "output_type": "execute_result",
          "data": {
            "text/plain": [
              "fun         int64\n",
              "food        int64\n",
              "culture     int64\n",
              "isOpen      int64\n",
              "isMusic     int64\n",
              "text       object\n",
              "dtype: object"
            ]
          },
          "metadata": {},
          "execution_count": 84
        }
      ]
    },
    {
      "cell_type": "code",
      "source": [
        "sns.countplot(tot['isMusic'])"
      ],
      "metadata": {
        "colab": {
          "base_uri": "https://localhost:8080/",
          "height": 349
        },
        "id": "8g71sbx2w420",
        "outputId": "938bc2ec-2922-404c-d6fa-8887825e9638"
      },
      "execution_count": 87,
      "outputs": [
        {
          "output_type": "stream",
          "name": "stderr",
          "text": [
            "/usr/local/lib/python3.8/dist-packages/seaborn/_decorators.py:36: FutureWarning: Pass the following variable as a keyword arg: x. From version 0.12, the only valid positional argument will be `data`, and passing other arguments without an explicit keyword will result in an error or misinterpretation.\n",
            "  warnings.warn(\n"
          ]
        },
        {
          "output_type": "execute_result",
          "data": {
            "text/plain": [
              "<matplotlib.axes._subplots.AxesSubplot at 0x7f0ed3ca7a90>"
            ]
          },
          "metadata": {},
          "execution_count": 87
        },
        {
          "output_type": "display_data",
          "data": {
            "text/plain": [
              "<Figure size 432x288 with 1 Axes>"
            ],
            "image/png": "[encoded data removed]"
          },
          "metadata": {
            "needs_background": "light"
          }
        }
      ]
    },
    {
      "cell_type": "code",
      "source": [
        "sns.countplot((tot[\"text\"] == None))"
      ],
      "metadata": {
        "colab": {
          "base_uri": "https://localhost:8080/",
          "height": 348
        },
        "id": "M_8CTs070mQU",
        "outputId": "16bd6d97-6fd2-44a8-d07d-a23cf43eb82a"
      },
      "execution_count": 86,
      "outputs": [
        {
          "output_type": "stream",
          "name": "stderr",
          "text": [
            "/usr/local/lib/python3.8/dist-packages/seaborn/_decorators.py:36: FutureWarning: Pass the following variable as a keyword arg: x. From version 0.12, the only valid positional argument will be `data`, and passing other arguments without an explicit keyword will result in an error or misinterpretation.\n",
            "  warnings.warn(\n"
          ]
        },
        {
          "output_type": "execute_result",
          "data": {
            "text/plain": [
              "<matplotlib.axes._subplots.AxesSubplot at 0x7f0ed374a940>"
            ]
          },
          "metadata": {},
          "execution_count": 86
        },
        {
          "output_type": "display_data",
          "data": {
            "text/plain": [
              "<Figure size 432x288 with 1 Axes>"
            ],
            "image/png": "[encoded data removed]"
          },
          "metadata": {
            "needs_background": "light"
          }
        }
      ]
    },
    {
      "cell_type": "markdown",
      "source": [
        "##Preprocess del testo"
      ],
      "metadata": {
        "id": "Gyt1jv97HSVg"
      }
    },
    {
      "cell_type": "markdown",
      "source": [
        "###Funzioni"
      ],
      "metadata": {
        "id": "VGOdBAaRuLNS"
      }
    },
    {
      "cell_type": "code",
      "source": [
        "def remove_numbers(input_string):\n",
        "    # Crea una tabella di traduzione che mappa tutti i numeri a None\n",
        "    translate_table = input_string.maketrans(\"\", \"\", string.digits)\n",
        "    # Utilizza la tabella di traduzione per rimuovere tutti i numeri\n",
        "    return input_string.translate(translate_table)\n",
        "\n",
        "def remove_punctuation(input_string):\n",
        "    for char in string.punctuation:\n",
        "          input_string = input_string.replace(char, \" \")\n",
        "    return input_string\n",
        "\n",
        "def preProcessDescription(description,tokenizer,stopwordsTotali,maxSeqLen):\n",
        "  words = remove_punctuation(remove_numbers(description.lower())).split()\n",
        "\n",
        "  parole_filtrate = [parola for parola in words if not parola in stopwordsTotali]\n",
        " \n",
        "  descrizione_filtrata = \" \".join(parole_filtrate)\n",
        "  print(descrizione_filtrata)\n",
        "  # convert the text to a numerical representation\n",
        "  input_data = tokenizer.texts_to_sequences([descrizione_filtrata])\n",
        "  input_data = pad_sequences(input_data, maxlen=maxSeqLen,padding='post')\n",
        "  original_description = \"\"\n",
        "  for i, word in enumerate(input_data[0]):\n",
        "    if word == 1:\n",
        "      for key, value in tokenizer.word_index.items():\n",
        "        if value == i :\n",
        "          original_description += key + \" \"\n",
        "  print('Traduzione della sequenza numero in parole: ')\n",
        "  print(original_description)\n",
        "  return input_data"
      ],
      "metadata": {
        "id": "4QeY8IGtuNEm"
      },
      "execution_count": 42,
      "outputs": []
    },
    {
      "cell_type": "markdown",
      "source": [
        "###Preprocessing"
      ],
      "metadata": {
        "id": "3X-GaEPguBRC"
      }
    },
    {
      "cell_type": "code",
      "source": [
        "stp = open(\"/content/drive/MyDrive/Colab Notebooks/stopwordsita.txt\", \"r\")\n",
        "data = stp.read().split(\"\\n\")\n",
        "stp.close()\n",
        "stopwordsTotali = stopwords.words('italian') + stopwords.words('english') + data\n",
        "stopwordsTotali = list(set(stopwordsTotali))"
      ],
      "metadata": {
        "id": "P3oZZBH8v0Lk"
      },
      "execution_count": 79,
      "outputs": []
    },
    {
      "cell_type": "code",
      "source": [
        "descrizioni_filtrate = []\n",
        "for index, descrizione in tot.iterrows():\n",
        "  parole = tkn(remove_punctuation(remove_numbers(str(descrizione['text']).lower())))\n",
        "  parole_filtrate = [parola for parola in parole if not parola in stopwordsTotali]\n",
        "  descrizione_filtrata = \" \".join(parole_filtrate)\n",
        "  descrizioni_filtrate.append(descrizione_filtrata)"
      ],
      "metadata": {
        "id": "EAhQT3bVxBlj"
      },
      "execution_count": 80,
      "outputs": []
    },
    {
      "cell_type": "code",
      "source": [
        "descrizioni_filtrate[0]"
      ],
      "metadata": {
        "colab": {
          "base_uri": "https://localhost:8080/",
          "height": 34
        },
        "id": "WUVsBmcwx7aF",
        "outputId": "cff1111a-f1ba-4400-b578-c9405870605f"
      },
      "execution_count": 81,
      "outputs": [
        {
          "output_type": "execute_result",
          "data": {
            "text/plain": [
              "'super tombolata barfly tante calze vincere formula panino patatine bibita cartella offriamo consigliata prenotazione'"
            ],
            "application/vnd.google.colaboratory.intrinsic+json": {
              "type": "string"
            }
          },
          "metadata": {},
          "execution_count": 81
        }
      ]
    },
    {
      "cell_type": "code",
      "source": [
        "tot['text'][0]"
      ],
      "metadata": {
        "colab": {
          "base_uri": "https://localhost:8080/",
          "height": 50
        },
        "id": "Bg9uI0-sEKyH",
        "outputId": "bbfaa3ed-b7fb-482a-f33e-6ee12b9e4b02"
      },
      "execution_count": 88,
      "outputs": [
        {
          "output_type": "execute_result",
          "data": {
            "text/plain": [
              "'Martedi 05 gennaio super tombolata al Barfly!\\nTante calze da vincere!!!\\nFormula 10 euro panino patatine e bibita e la cartella la offriamo noi!\\nConsigliata la prenotazione\\n081660023'"
            ],
            "application/vnd.google.colaboratory.intrinsic+json": {
              "type": "string"
            }
          },
          "metadata": {},
          "execution_count": 88
        }
      ]
    },
    {
      "cell_type": "code",
      "source": [
        "corpus = descrizioni_filtrate"
      ],
      "metadata": {
        "id": "5qQmQ9Lh92YC"
      },
      "execution_count": 82,
      "outputs": []
    },
    {
      "cell_type": "code",
      "source": [
        "type(corpus)"
      ],
      "metadata": {
        "colab": {
          "base_uri": "https://localhost:8080/"
        },
        "id": "9H1i7q-JFGnK",
        "outputId": "eec63384-969c-4168-9743-c3e2931179f1"
      },
      "execution_count": 93,
      "outputs": [
        {
          "output_type": "execute_result",
          "data": {
            "text/plain": [
              "list"
            ]
          },
          "metadata": {},
          "execution_count": 93
        }
      ]
    },
    {
      "cell_type": "code",
      "source": [
        "print(len(tot['text']) == len(corpus))"
      ],
      "metadata": {
        "colab": {
          "base_uri": "https://localhost:8080/"
        },
        "id": "CERubiWYEsUg",
        "outputId": "86e64f3e-b689-4d90-92bb-a5c73c7110da"
      },
      "execution_count": 92,
      "outputs": [
        {
          "output_type": "stream",
          "name": "stdout",
          "text": [
            "True\n"
          ]
        }
      ]
    },
    {
      "cell_type": "code",
      "source": [
        "tot['description']=corpus\n",
        "tot=tot.drop('text',axis=1)"
      ],
      "metadata": {
        "id": "ko4uVBbFDk06"
      },
      "execution_count": 94,
      "outputs": []
    },
    {
      "cell_type": "code",
      "source": [
        "tot"
      ],
      "metadata": {
        "colab": {
          "base_uri": "https://localhost:8080/",
          "height": 411
        },
        "id": "2S9jzm8mFa6i",
        "outputId": "b6ca19a6-92cb-4783-ac9a-ac76c92c506c"
      },
      "execution_count": 95,
      "outputs": [
        {
          "output_type": "execute_result",
          "data": {
            "text/plain": [
              "      fun  food  culture  isOpen  isMusic  \\\n",
              "0       1     0        1      -1        0   \n",
              "2       0     0        1      -1        1   \n",
              "3       0     0        0      -1        1   \n",
              "4       0     0        1      -1        1   \n",
              "5       0     0        0      -1        1   \n",
              "...   ...   ...      ...     ...      ...   \n",
              "7683    0     0        0      -1        1   \n",
              "7684    0     1        0      -1        0   \n",
              "7685    0     1        1       1        1   \n",
              "7686    0     0        1      -1        0   \n",
              "7687    0     1        0      -1        0   \n",
              "\n",
              "                                            description  \n",
              "0     super tombolata barfly tante calze vincere for...  \n",
              "2     ingresso free obbligo consumazione serata disc...  \n",
              "3     napulitanata celebra donna serata eccezione ma...  \n",
              "4     yn lieta presentare napoolyn x resilienza reco...  \n",
              "5     serata live piacevole ritorno palco biergrube ...  \n",
              "...                                                 ...  \n",
              "7683  hot club trio moreno viglione chitarra solista...  \n",
              "7684  presentazione libro tasmania einaudi editore p...  \n",
              "7685  occasione giornate europee patrimonio ore muse...  \n",
              "7686  vieni danzare gratuitamente giorno amici tagga...  \n",
              "7687  convegno linea precedente leducazione scoperta...  \n",
              "\n",
              "[6327 rows x 6 columns]"
            ],
            "text/html": [
              "\n",
              "  <div id=\"df-cc34e62d-a453-439a-8996-739e8bf61331\">\n",
              "    <div class=\"colab-df-container\">\n",
              "      <div>\n",
              "<style scoped>\n",
              "    .dataframe tbody tr th:only-of-type {\n",
              "        vertical-align: middle;\n",
              "    }\n",
              "\n",
              "    .dataframe tbody tr th {\n",
              "        vertical-align: top;\n",
              "    }\n",
              "\n",
              "    .dataframe thead th {\n",
              "        text-align: right;\n",
              "    }\n",
              "</style>\n",
              "<table border=\"1\" class=\"dataframe\">\n",
              "  <thead>\n",
              "    <tr style=\"text-align: right;\">\n",
              "      <th></th>\n",
              "      <th>fun</th>\n",
              "      <th>food</th>\n",
              "      <th>culture</th>\n",
              "      <th>isOpen</th>\n",
              "      <th>isMusic</th>\n",
              "      <th>description</th>\n",
              "    </tr>\n",
              "  </thead>\n",
              "  <tbody>\n",
              "    <tr>\n",
              "      <th>0</th>\n",
              "      <td>1</td>\n",
              "      <td>0</td>\n",
              "      <td>1</td>\n",
              "      <td>-1</td>\n",
              "      <td>0</td>\n",
              "      <td>super tombolata barfly tante calze vincere for...</td>\n",
              "    </tr>\n",
              "    <tr>\n",
              "      <th>2</th>\n",
              "      <td>0</td>\n",
              "      <td>0</td>\n",
              "      <td>1</td>\n",
              "      <td>-1</td>\n",
              "      <td>1</td>\n",
              "      <td>ingresso free obbligo consumazione serata disc...</td>\n",
              "    </tr>\n",
              "    <tr>\n",
              "      <th>3</th>\n",
              "      <td>0</td>\n",
              "      <td>0</td>\n",
              "      <td>0</td>\n",
              "      <td>-1</td>\n",
              "      <td>1</td>\n",
              "      <td>napulitanata celebra donna serata eccezione ma...</td>\n",
              "    </tr>\n",
              "    <tr>\n",
              "      <th>4</th>\n",
              "      <td>0</td>\n",
              "      <td>0</td>\n",
              "      <td>1</td>\n",
              "      <td>-1</td>\n",
              "      <td>1</td>\n",
              "      <td>yn lieta presentare napoolyn x resilienza reco...</td>\n",
              "    </tr>\n",
              "    <tr>\n",
              "      <th>5</th>\n",
              "      <td>0</td>\n",
              "      <td>0</td>\n",
              "      <td>0</td>\n",
              "      <td>-1</td>\n",
              "      <td>1</td>\n",
              "      <td>serata live piacevole ritorno palco biergrube ...</td>\n",
              "    </tr>\n",
              "    <tr>\n",
              "      <th>...</th>\n",
              "      <td>...</td>\n",
              "      <td>...</td>\n",
              "      <td>...</td>\n",
              "      <td>...</td>\n",
              "      <td>...</td>\n",
              "      <td>...</td>\n",
              "    </tr>\n",
              "    <tr>\n",
              "      <th>7683</th>\n",
              "      <td>0</td>\n",
              "      <td>0</td>\n",
              "      <td>0</td>\n",
              "      <td>-1</td>\n",
              "      <td>1</td>\n",
              "      <td>hot club trio moreno viglione chitarra solista...</td>\n",
              "    </tr>\n",
              "    <tr>\n",
              "      <th>7684</th>\n",
              "      <td>0</td>\n",
              "      <td>1</td>\n",
              "      <td>0</td>\n",
              "      <td>-1</td>\n",
              "      <td>0</td>\n",
              "      <td>presentazione libro tasmania einaudi editore p...</td>\n",
              "    </tr>\n",
              "    <tr>\n",
              "      <th>7685</th>\n",
              "      <td>0</td>\n",
              "      <td>1</td>\n",
              "      <td>1</td>\n",
              "      <td>1</td>\n",
              "      <td>1</td>\n",
              "      <td>occasione giornate europee patrimonio ore muse...</td>\n",
              "    </tr>\n",
              "    <tr>\n",
              "      <th>7686</th>\n",
              "      <td>0</td>\n",
              "      <td>0</td>\n",
              "      <td>1</td>\n",
              "      <td>-1</td>\n",
              "      <td>0</td>\n",
              "      <td>vieni danzare gratuitamente giorno amici tagga...</td>\n",
              "    </tr>\n",
              "    <tr>\n",
              "      <th>7687</th>\n",
              "      <td>0</td>\n",
              "      <td>1</td>\n",
              "      <td>0</td>\n",
              "      <td>-1</td>\n",
              "      <td>0</td>\n",
              "      <td>convegno linea precedente leducazione scoperta...</td>\n",
              "    </tr>\n",
              "  </tbody>\n",
              "</table>\n",
              "<p>6327 rows × 6 columns</p>\n",
              "</div>\n",
              "      <button class=\"colab-df-convert\" onclick=\"convertToInteractive('df-cc34e62d-a453-439a-8996-739e8bf61331')\"\n",
              "              title=\"Convert this dataframe to an interactive table.\"\n",
              "              style=\"display:none;\">\n",
              "        \n",
              "  <svg xmlns=\"http://www.w3.org/2000/svg\" height=\"24px\"viewBox=\"0 0 24 24\"\n",
              "       width=\"24px\">\n",
              "    <path d=\"M0 0h24v24H0V0z\" fill=\"none\"/>\n",
              "    <path d=\"M18.56 5.44l.94 2.06.94-2.06 2.06-.94-2.06-.94-.94-2.06-.94 2.06-2.06.94zm-11 1L8.5 8.5l.94-2.06 2.06-.94-2.06-.94L8.5 2.5l-.94 2.06-2.06.94zm10 10l.94 2.06.94-2.06 2.06-.94-2.06-.94-.94-2.06-.94 2.06-2.06.94z\"/><path d=\"M17.41 7.96l-1.37-1.37c-.4-.4-.92-.59-1.43-.59-.52 0-1.04.2-1.43.59L10.3 9.45l-7.72 7.72c-.78.78-.78 2.05 0 2.83L4 21.41c.39.39.9.59 1.41.59.51 0 1.02-.2 1.41-.59l7.78-7.78 2.81-2.81c.8-.78.8-2.07 0-2.86zM5.41 20L4 18.59l7.72-7.72 1.47 1.35L5.41 20z\"/>\n",
              "  </svg>\n",
              "      </button>\n",
              "      \n",
              "  <style>\n",
              "    .colab-df-container {\n",
              "      display:flex;\n",
              "      flex-wrap:wrap;\n",
              "      gap: 12px;\n",
              "    }\n",
              "\n",
              "    .colab-df-convert {\n",
              "      background-color: #E8F0FE;\n",
              "      border: none;\n",
              "      border-radius: 50%;\n",
              "      cursor: pointer;\n",
              "      display: none;\n",
              "      fill: #1967D2;\n",
              "      height: 32px;\n",
              "      padding: 0 0 0 0;\n",
              "      width: 32px;\n",
              "    }\n",
              "\n",
              "    .colab-df-convert:hover {\n",
              "      background-color: #E2EBFA;\n",
              "      box-shadow: 0px 1px 2px rgba(60, 64, 67, 0.3), 0px 1px 3px 1px rgba(60, 64, 67, 0.15);\n",
              "      fill: #174EA6;\n",
              "    }\n",
              "\n",
              "    [theme=dark] .colab-df-convert {\n",
              "      background-color: #3B4455;\n",
              "      fill: #D2E3FC;\n",
              "    }\n",
              "\n",
              "    [theme=dark] .colab-df-convert:hover {\n",
              "      background-color: #434B5C;\n",
              "      box-shadow: 0px 1px 3px 1px rgba(0, 0, 0, 0.15);\n",
              "      filter: drop-shadow(0px 1px 2px rgba(0, 0, 0, 0.3));\n",
              "      fill: #FFFFFF;\n",
              "    }\n",
              "  </style>\n",
              "\n",
              "      <script>\n",
              "        const buttonEl =\n",
              "          document.querySelector('#df-cc34e62d-a453-439a-8996-739e8bf61331 button.colab-df-convert');\n",
              "        buttonEl.style.display =\n",
              "          google.colab.kernel.accessAllowed ? 'block' : 'none';\n",
              "\n",
              "        async function convertToInteractive(key) {\n",
              "          const element = document.querySelector('#df-cc34e62d-a453-439a-8996-739e8bf61331');\n",
              "          const dataTable =\n",
              "            await google.colab.kernel.invokeFunction('convertToInteractive',\n",
              "                                                     [key], {});\n",
              "          if (!dataTable) return;\n",
              "\n",
              "          const docLinkHtml = 'Like what you see? Visit the ' +\n",
              "            '<a target=\"_blank\" href=https://colab.research.google.com/notebooks/data_table.ipynb>data table notebook</a>'\n",
              "            + ' to learn more about interactive tables.';\n",
              "          element.innerHTML = '';\n",
              "          dataTable['output_type'] = 'display_data';\n",
              "          await google.colab.output.renderOutput(dataTable, element);\n",
              "          const docLink = document.createElement('div');\n",
              "          docLink.innerHTML = docLinkHtml;\n",
              "          element.appendChild(docLink);\n",
              "        }\n",
              "      </script>\n",
              "    </div>\n",
              "  </div>\n",
              "  "
            ]
          },
          "metadata": {},
          "execution_count": 95
        }
      ]
    },
    {
      "cell_type": "markdown",
      "source": [
        "###Tokenizzazione, trasformazione in sequenza e padding"
      ],
      "metadata": {
        "id": "C-zaR9jHb7ke"
      }
    },
    {
      "cell_type": "code",
      "source": [
        "from tensorflow.keras.preprocessing.text import Tokenizer\n",
        "from tensorflow.keras.preprocessing.sequence import pad_sequences\n",
        "\n",
        "MAX_NB_WORDS = 30000\n",
        "\n",
        "tokenizer = Tokenizer(num_words=MAX_NB_WORDS, char_level=False)\n",
        "tokenizer.fit_on_texts(corpus)\n",
        "sequences = tokenizer.texts_to_sequences(corpus)\n",
        "seq_lens = [len(s) for s in sequences]"
      ],
      "metadata": {
        "id": "p9r7hIIUb6rF"
      },
      "execution_count": 49,
      "outputs": []
    },
    {
      "cell_type": "code",
      "source": [
        "sampleIndex = 1998\n",
        "print('Sequenza parola numero %s: ' % sampleIndex)\n",
        "for x in sequences[sampleIndex]:\n",
        "  print('%d,' % x, end =' ')"
      ],
      "metadata": {
        "colab": {
          "base_uri": "https://localhost:8080/"
        },
        "id": "Rn2n_9xHHmOG",
        "outputId": "247521eb-45dc-481b-9b1a-707eae96e64d"
      },
      "execution_count": 50,
      "outputs": [
        {
          "output_type": "stream",
          "name": "stdout",
          "text": [
            "Sequenza parola numero 1998: \n",
            "9131, 2758, 10595, 15246, 13274, 19368, 548, 3833, 2062, 4312, 2452, 4229, 1480, 20, 19716, 2222, 1101, 2416, 5113, 2867, 2528, 10, 15976, "
          ]
        }
      ]
    },
    {
      "cell_type": "code",
      "source": [
        "print('Traduzione della sequenza numero %d in parole: ' % sampleIndex)\n",
        "index_to_word = dict((i, w) for w, i in tokenizer.word_index.items())\n",
        "\" \".join([index_to_word[i] for i in sequences[sampleIndex]])"
      ],
      "metadata": {
        "colab": {
          "base_uri": "https://localhost:8080/",
          "height": 50
        },
        "id": "-XqNP5E1-Jx3",
        "outputId": "17b3ac66-8d73-4918-925f-7b00aab58ac4"
      },
      "execution_count": 51,
      "outputs": [
        {
          "output_type": "stream",
          "name": "stdout",
          "text": [
            "Traduzione della sequenza numero 1998 in parole: \n"
          ]
        },
        {
          "output_type": "execute_result",
          "data": {
            "text/plain": [
              "'raduno targato apulia tekken esports gamer room community pugliese riunisce clima festivita giocare insieme appassionatamente buone feste get ready next battle ingresso freeplay'"
            ],
            "application/vnd.google.colaboratory.intrinsic+json": {
              "type": "string"
            }
          },
          "metadata": {},
          "execution_count": 51
        }
      ]
    },
    {
      "cell_type": "code",
      "source": [
        "%matplotlib inline\n",
        "import matplotlib.pyplot as plt\n",
        "\n",
        "plt.hist(seq_lens, bins=500, color = 'purple')\n",
        "plt.xlabel('#words')\n",
        "plt.ylabel('#descriptions')\n",
        "plt.title('Y documenti con X parole')"
      ],
      "metadata": {
        "colab": {
          "base_uri": "https://localhost:8080/",
          "height": 310
        },
        "id": "O3htyl3c_UzP",
        "outputId": "fe419298-8e9d-4b0a-af54-d3b4e746d5c1"
      },
      "execution_count": 52,
      "outputs": [
        {
          "output_type": "execute_result",
          "data": {
            "text/plain": [
              "Text(0.5, 1.0, 'Y documenti con X parole')"
            ]
          },
          "metadata": {},
          "execution_count": 52
        },
        {
          "output_type": "display_data",
          "data": {
            "text/plain": [
              "<Figure size 432x288 with 1 Axes>"
            ],
            "image/png": "[encoded data removed]"
          },
          "metadata": {
            "needs_background": "light"
          }
        }
      ]
    },
    {
      "cell_type": "code",
      "source": [
        "media=np.mean(seq_lens)\n",
        "print(\"average length: %0.1f\" % media)\n",
        "print(\"max length: %d\" % max(seq_lens))\n",
        "y = 0\n",
        "for i in seq_lens:\n",
        "  if i < media:\n",
        "    y = y + 1\n",
        "\n",
        "print(\"percentuale descrizioni di lunghezza inferiore ad average length: %d%%\" % (int(y*100/len(seq_lens))))\n"
      ],
      "metadata": {
        "colab": {
          "base_uri": "https://localhost:8080/"
        },
        "id": "rF9fciyQ-cUk",
        "outputId": "668f7e84-f1f0-43b1-bfac-29f175fd4b98"
      },
      "execution_count": 53,
      "outputs": [
        {
          "output_type": "stream",
          "name": "stdout",
          "text": [
            "average length: 62.2\n",
            "max length: 670\n",
            "percentuale descrizioni di lunghezza inferiore ad average length: 67%\n"
          ]
        }
      ]
    },
    {
      "cell_type": "markdown",
      "source": [
        "####Padding\n",
        "La lunghezza media dei testi è di circa 65: eseguo il pad con massima lunghezza 70, valutando che la maggior parte delle descrizioni non supera quel numero di parole."
      ],
      "metadata": {
        "id": "BpCi29f6-dvQ"
      }
    },
    {
      "cell_type": "code",
      "source": [
        "MAX_SEQUENCE_LENGTH = 70\n",
        "\n",
        "# pad sequences with 0s\n",
        "padded = pad_sequences(sequences, maxlen=MAX_SEQUENCE_LENGTH,padding='post')\n",
        "\n",
        "print('Shape of data tensor:', padded.shape)\n",
        "\n",
        "word_index = tokenizer.word_index\n",
        "print('Found %s unique tokens.' % len(word_index))"
      ],
      "metadata": {
        "colab": {
          "base_uri": "https://localhost:8080/"
        },
        "id": "DA_Jod7w-AaM",
        "outputId": "5a02a4fb-0be2-411c-df3b-0f3b79bacf52"
      },
      "execution_count": 54,
      "outputs": [
        {
          "output_type": "stream",
          "name": "stdout",
          "text": [
            "Shape of data tensor: (7688, 70)\n",
            "Found 56019 unique tokens.\n"
          ]
        }
      ]
    },
    {
      "cell_type": "code",
      "source": [
        "padded[sampleIndex].shape[0]"
      ],
      "metadata": {
        "colab": {
          "base_uri": "https://localhost:8080/"
        },
        "id": "wQrPJ9ol_Rdm",
        "outputId": "c6ebb8c5-4752-4e4e-b863-d862f0b5f0c2"
      },
      "execution_count": 55,
      "outputs": [
        {
          "output_type": "execute_result",
          "data": {
            "text/plain": [
              "70"
            ]
          },
          "metadata": {},
          "execution_count": 55
        }
      ]
    },
    {
      "cell_type": "markdown",
      "source": [
        "###Test nuovo evento"
      ],
      "metadata": {
        "id": "7ZP2H94Q0dzc"
      }
    },
    {
      "cell_type": "code",
      "source": [
        "preProcessDescription('techno rave party festa scuola',tokenizer,stopwordsTotali, MAX_SEQUENCE_LENGTH)"
      ],
      "metadata": {
        "colab": {
          "base_uri": "https://localhost:8080/"
        },
        "id": "-FzeY0H0vSr_",
        "outputId": "75f9e2ad-de13-42eb-e6d0-70ab5aa5d7ac"
      },
      "execution_count": 56,
      "outputs": [
        {
          "output_type": "stream",
          "name": "stdout",
          "text": [
            "techno rave party festa scuola\n",
            "Traduzione della sequenza numero in parole: \n",
            "\n"
          ]
        },
        {
          "output_type": "execute_result",
          "data": {
            "text/plain": [
              "array([[1386, 8683,  131,  109,  119,    0,    0,    0,    0,    0,    0,\n",
              "           0,    0,    0,    0,    0,    0,    0,    0,    0,    0,    0,\n",
              "           0,    0,    0,    0,    0,    0,    0,    0,    0,    0,    0,\n",
              "           0,    0,    0,    0,    0,    0,    0,    0,    0,    0,    0,\n",
              "           0,    0,    0,    0,    0,    0,    0,    0,    0,    0,    0,\n",
              "           0,    0,    0,    0,    0,    0,    0,    0,    0,    0,    0,\n",
              "           0,    0,    0,    0]], dtype=int32)"
            ]
          },
          "metadata": {},
          "execution_count": 56
        }
      ]
    },
    {
      "cell_type": "markdown",
      "source": [
        "###Vettorizzazione: alternativa numero 1\n",
        "Via Word2Vec"
      ],
      "metadata": {
        "id": "EykRlnQNx3Se"
      }
    },
    {
      "cell_type": "code",
      "source": [
        "'''import gensim.downloader as api\n",
        "\n",
        "# Download the models (1660MB)\n",
        "word2vec_model300 = api.load('word2vec-google-news-300')'''"
      ],
      "metadata": {
        "colab": {
          "base_uri": "https://localhost:8080/",
          "height": 34
        },
        "id": "EP4cs4c1YzJy",
        "outputId": "7d882262-b778-4481-e7f8-0c220f04c894"
      },
      "execution_count": 57,
      "outputs": [
        {
          "output_type": "execute_result",
          "data": {
            "text/plain": [
              "\"import gensim.downloader as api\\n\\n# Download the models (1660MB)\\nword2vec_model300 = api.load('word2vec-google-news-300')\""
            ],
            "application/vnd.google.colaboratory.intrinsic+json": {
              "type": "string"
            }
          },
          "metadata": {},
          "execution_count": 57
        }
      ]
    },
    {
      "cell_type": "code",
      "source": [
        "'''\n",
        "x_emb = []\n",
        "for sentence in padded:\n",
        "  print('sentence')\n",
        "  print(sentence)\n",
        "  sent_emb = [0 for k in range(300)] \n",
        "  \n",
        "  num_tok = 0\n",
        "  for tok in sentence:\n",
        "    if tok != 0:\n",
        "      word=list(word_index.keys())[list(word_index.values()).index(tok)]\n",
        "      print('word: '+ word)\n",
        "      try:\n",
        "          emb = word2vec_model300.wv[word]\n",
        "          sent_emb = [x + y for x, y in zip(sent_emb, emb)]\n",
        "          num_tok = num_tok +1\n",
        "      except:\n",
        "          pass\n",
        "  if num_tok != 0:\n",
        "    final_sent_emb = [x / num_tok for x in sent_emb]         \n",
        "  x_emb.append(final_sent_emb)\n",
        "  \n",
        "\n",
        "x_emb = np.array(x_emb)\n",
        "with open('/content/drive/MyDrive/Colab Notebooks/embeddings.npy', 'wb') as f:\n",
        "    np.save(f, x_emb)\n",
        "'''\n",
        "with open('/content/drive/MyDrive/Colab Notebooks/embeddings.npy', 'rb') as f:\n",
        "    x_emb = np.load(f)\n",
        "print(type(x_emb))\n",
        "print(len(x_emb))"
      ],
      "metadata": {
        "id": "mPraSkoHEuK-",
        "colab": {
          "base_uri": "https://localhost:8080/"
        },
        "outputId": "25027909-9fb5-4fcf-fdb7-de17a54fbcd7"
      },
      "execution_count": 58,
      "outputs": [
        {
          "output_type": "stream",
          "name": "stdout",
          "text": [
            "<class 'numpy.ndarray'>\n",
            "6327\n"
          ]
        }
      ]
    },
    {
      "cell_type": "code",
      "source": [
        "x_emb.shape"
      ],
      "metadata": {
        "id": "zVI0FdubxGo9",
        "colab": {
          "base_uri": "https://localhost:8080/"
        },
        "outputId": "c0bbf2c1-8f05-4728-8247-34c6be1f3fd3"
      },
      "execution_count": 59,
      "outputs": [
        {
          "output_type": "execute_result",
          "data": {
            "text/plain": [
              "(6327, 300)"
            ]
          },
          "metadata": {},
          "execution_count": 59
        }
      ]
    },
    {
      "cell_type": "code",
      "source": [
        "print(x_emb[sampleIndex])"
      ],
      "metadata": {
        "colab": {
          "base_uri": "https://localhost:8080/"
        },
        "id": "9RqFQ3iOxNo1",
        "outputId": "723c688b-fd9a-46d8-e05c-1bca3a52bb4a"
      },
      "execution_count": 60,
      "outputs": [
        {
          "output_type": "stream",
          "name": "stdout",
          "text": [
            "[-3.05786133e-02  7.58842699e-02  6.14662170e-02  1.44120419e-01\n",
            " -1.97686282e-02  8.10065992e-02 -5.22960316e-03 -4.96363784e-02\n",
            " -2.35274344e-03  1.17864435e-01 -9.83539928e-02 -1.38018984e-01\n",
            " -1.41777270e-01  2.63907404e-02 -1.08870564e-01  1.45015832e-01\n",
            "  1.37676239e-01  1.15994540e-01  2.90367820e-02  8.41785778e-02\n",
            " -1.09778664e-01 -3.43318130e-02  1.43727389e-01  8.06704434e-02\n",
            " -9.10098914e-02 -8.65139094e-02 -1.10806956e-01  9.51815518e-02\n",
            " -7.71336411e-02 -2.72553473e-02  1.11357949e-02  7.65165271e-02\n",
            "  2.58844549e-02 -3.79208651e-02 -9.34795033e-02 -6.82362643e-02\n",
            " -6.14663326e-02  4.35656923e-02  9.75188631e-02 -1.69354217e-02\n",
            " -2.76641846e-02 -5.28555205e-02  1.05245879e-01  9.82952696e-02\n",
            "  5.44472897e-03 -1.37826631e-01 -1.16993528e-01 -5.18678607e-02\n",
            " -2.40528222e-02  1.39574918e-01 -1.13349683e-01  1.99734775e-01\n",
            "  9.40972530e-02  5.69162080e-02 -6.25702829e-02  1.85667327e-01\n",
            " -1.14800655e-01 -1.09507243e-01  5.17938787e-02 -1.35975231e-01\n",
            " -1.49469202e-01  1.08104359e-01 -8.77846805e-02 -6.15924488e-02\n",
            "  3.38624896e-02 -1.65609331e-01 -9.47893090e-02 -7.83843994e-02\n",
            "  4.85032977e-02  1.53809981e-01  6.21957490e-02  6.84500030e-02\n",
            "  2.64712247e-02  7.61584369e-02 -5.86317814e-02 -3.55543657e-02\n",
            "  1.43758022e-02  3.15348307e-03 -4.19091889e-02 -4.12544482e-02\n",
            "  1.15152995e-02 -1.40649044e-02  1.46596504e-02 -1.51260145e-01\n",
            "  7.95040709e-02  5.43841738e-02 -6.29939455e-02  1.79260254e-01\n",
            "  5.94757542e-03  3.60269258e-02 -1.95367987e-02 -2.83195033e-02\n",
            " -7.77541652e-02 -2.56844723e-02  8.20229270e-03  4.23362038e-03\n",
            " -2.47983066e-02  3.44025583e-02  1.45578558e-01 -6.03390318e-02\n",
            " -9.66297496e-02  2.88855813e-02 -3.47101616e-02  4.23338919e-02\n",
            " -6.92182599e-02  4.92532181e-02 -4.39554850e-02  5.22797324e-02\n",
            "  2.51941103e-02  5.26964592e-02 -3.75153513e-02 -1.60517837e-01\n",
            "  6.79968632e-02 -7.78086113e-02  3.92012163e-03  9.85740893e-02\n",
            " -6.49585724e-02 -1.28793427e-01  1.21110858e-02 -3.96427964e-02\n",
            "  9.27318226e-02 -8.09192079e-02 -1.08231284e-01  3.05111047e-02\n",
            "  1.45270781e-01 -1.28740715e-01 -1.70828155e-01  6.15801956e-03\n",
            "  2.44780454e-02  8.13672615e-02 -1.27611565e-01  1.44358548e-02\n",
            "  1.10765515e-02  1.77431974e-02 -5.66045588e-02  7.64608672e-02\n",
            " -4.81373180e-02 -5.80939091e-02  2.01140433e-01  5.22744150e-02\n",
            "  1.30906539e-01 -1.49627686e-01 -5.74124365e-02  2.00879646e-02\n",
            "  9.14140181e-04 -1.60718036e-02 -6.93287705e-02  9.11023689e-02\n",
            " -7.60298064e-02 -5.51058451e-02  9.24546213e-02 -1.44130822e-01\n",
            " -6.64958087e-02  4.70611110e-02 -1.79963545e-02 -1.42991499e-01\n",
            "  1.03681160e-02  2.11171930e-01 -8.23608167e-02 -8.07076656e-02\n",
            " -3.26105754e-02  5.75991544e-02 -1.83614095e-02  8.92962831e-03\n",
            " -3.46661192e-02 -8.71798197e-02  1.29765366e-01  4.36493845e-04\n",
            " -8.33469738e-02  3.59062426e-02 -1.34682626e-01 -1.24968558e-01\n",
            " -1.73657735e-02 -3.96367853e-02 -5.03056844e-02  8.81948182e-02\n",
            "  1.72497836e-01 -1.66512229e-01  6.51645082e-02 -1.03328589e-02\n",
            " -1.94637414e-02 -6.13886615e-02 -2.25729509e-02 -3.14839681e-02\n",
            "  2.57022742e-02  4.79082050e-02 -3.69331475e-02 -2.09738991e-03\n",
            " -8.44423699e-02  8.02855058e-03  4.49708881e-02  1.20516690e-02\n",
            " -9.01729699e-02  2.64673522e-02  8.76686790e-02  6.10157360e-02\n",
            " -5.33551303e-02  1.59435850e-02  2.16369629e-02  4.22078913e-02\n",
            " -1.42394557e-02  3.93897548e-02 -1.21894605e-01 -1.05534828e-01\n",
            "  9.56402403e-02 -1.42042218e-01  3.51172938e-02  2.47862845e-02\n",
            " -8.45947266e-02  3.97126169e-02  3.72099443e-02 -5.85058964e-03\n",
            " -1.74858729e-01  8.40870250e-02 -9.23811017e-02  6.38561827e-02\n",
            "  5.91024919e-02 -6.99453643e-02 -9.63869962e-02 -3.58858975e-02\n",
            " -1.01771499e-03  1.00629344e-01  2.05913313e-02  1.36790420e-02\n",
            "  6.83286262e-02 -8.03495465e-02  8.39806759e-02  2.12013071e-02\n",
            "  2.28218599e-02 -2.83429695e-02 -1.90388073e-03 -1.08876460e-01\n",
            " -3.39818434e-02  2.46623646e-02  1.32373752e-02 -1.29158714e-02\n",
            " -1.26210993e-02  8.34883393e-02  2.02322187e-02  2.79731173e-02\n",
            "  6.76008282e-02 -2.36511230e-03  1.05069247e-01  2.03640100e-02\n",
            " -6.03438869e-02 -6.81288748e-02 -5.65342759e-02  1.46451777e-01\n",
            " -1.19964101e-02 -5.55712382e-02  5.25896477e-02  5.11215672e-02\n",
            "  8.72405081e-02  3.20134018e-02  6.79203380e-02 -1.27347773e-01\n",
            " -9.07752731e-02 -5.92595881e-02  1.21903853e-02 -3.63578083e-02\n",
            "  6.11643936e-02  1.15278764e-01  1.26362656e-01 -5.76030847e-02\n",
            " -6.65881995e-02 -4.78439331e-02 -5.68736683e-02  3.46256603e-02\n",
            " -4.85039913e-02 -3.79712654e-02 -7.56392045e-02 -5.14722304e-02\n",
            " -3.74802098e-02  3.40391217e-02  1.48439350e-01  1.59731778e-02\n",
            " -1.57637163e-01 -4.74806121e-02 -1.21924660e-01  1.04364337e-01\n",
            " -8.69935932e-02  1.03826349e-01  1.40741522e-02 -4.85541604e-03\n",
            "  6.20709044e-02 -5.89867794e-03  6.45030629e-05  5.58860085e-02\n",
            " -1.35677569e-01  5.47053019e-02  4.77553859e-03 -4.80607929e-02\n",
            " -1.11471465e-01  6.80588231e-02  4.02577718e-02 -1.17691502e-02\n",
            " -3.70973529e-02 -5.54991057e-02 -4.64514530e-02  1.07676651e-01]\n"
          ]
        }
      ]
    },
    {
      "cell_type": "markdown",
      "source": [
        "###Vettorizzazione: alternativa numero 2\n",
        "Via Deep Learning"
      ],
      "metadata": {
        "id": "TGSsIChIx7Ze"
      }
    },
    {
      "cell_type": "code",
      "source": [
        "import numpy as np\n",
        "import keras\n",
        "from keras.models import Sequential\n",
        "from keras.layers import Dense, Embedding, Flatten\n",
        "\n",
        "embedding_size = 100\n",
        "\n",
        "# Creare la rete neurale feed-forward\n",
        "model = Sequential()\n",
        "model.add(Embedding(input_dim=len(tokenizer.word_index)+1, output_dim=embedding_size, input_length=MAX_SEQUENCE_LENGTH))\n",
        "model.add(Flatten())\n",
        "model.add(Dense(32, activation='relu'))\n",
        "model.add(Dense(1, activation='sigmoid'))\n",
        "model.compile(loss='binary_crossentropy', optimizer='adam', metrics=['accuracy'])\n",
        "\n",
        "# Creare la matrice di vettorizzazione delle descrizioni degli eventi\n",
        "#POTREI PROVARE CON \"CORPUS\" AL POSTO DI PADDINGS\n",
        "token_matrix = model.predict(padded)"
      ],
      "metadata": {
        "colab": {
          "base_uri": "https://localhost:8080/"
        },
        "id": "JTk_zuky0bjf",
        "outputId": "d3b1f1b1-4337-4048-98c1-c71f9f1b2977"
      },
      "execution_count": 62,
      "outputs": [
        {
          "output_type": "stream",
          "name": "stdout",
          "text": [
            "241/241 [==============================] - 1s 5ms/step\n"
          ]
        }
      ]
    },
    {
      "cell_type": "markdown",
      "source": [
        "###Vettorizzazzione: Alternativa numero 3\n",
        "Via vettorizzatore tf idf"
      ],
      "metadata": {
        "id": "zRXl9UQe6mc4"
      }
    },
    {
      "cell_type": "code",
      "source": [
        "vectorizer = TfidfVectorizer()\n",
        "\n",
        "X = vectorizer.fit_transform(corpus)"
      ],
      "metadata": {
        "id": "wRIhGcF96jUl"
      },
      "execution_count": 63,
      "outputs": []
    },
    {
      "cell_type": "markdown",
      "source": [
        "###Classificazione"
      ],
      "metadata": {
        "id": "BM5VMUcgEni5"
      }
    },
    {
      "cell_type": "code",
      "source": [
        "y = tot[['fun', 'food', 'culture', 'isMusic']]"
      ],
      "metadata": {
        "id": "Rh5z0z-T74kf"
      },
      "execution_count": 64,
      "outputs": []
    },
    {
      "cell_type": "markdown",
      "source": [
        "####Split"
      ],
      "metadata": {
        "id": "Ujr0O_QlMIJ0"
      }
    },
    {
      "cell_type": "code",
      "source": [
        "X_train,X_test,y_train,y_test = train_test_split(X,y,test_size=0.25,random_state=42)"
      ],
      "metadata": {
        "id": "OWgXvZQjMOyq"
      },
      "execution_count": 65,
      "outputs": []
    },
    {
      "cell_type": "code",
      "source": [
        "from sklearn.utils import class_weight\n",
        "weights = class_weight.compute_sample_weight(class_weight=\"balanced\", y=y_train)"
      ],
      "metadata": {
        "id": "Pf1gNSR88CcQ"
      },
      "execution_count": 66,
      "outputs": []
    },
    {
      "cell_type": "code",
      "source": [
        "weights"
      ],
      "metadata": {
        "colab": {
          "base_uri": "https://localhost:8080/"
        },
        "id": "Y4ePMJ---iaa",
        "outputId": "aab79b46-d884-4c80-f6fe-1d07ae8cfdd6"
      },
      "execution_count": 67,
      "outputs": [
        {
          "output_type": "execute_result",
          "data": {
            "text/plain": [
              "array([2.22982934, 0.62244866, 1.13861071, ..., 0.73075983, 1.43548654,\n",
              "       1.21898932])"
            ]
          },
          "metadata": {},
          "execution_count": 67
        }
      ]
    },
    {
      "cell_type": "code",
      "source": [
        "from sklearn.decomposition import PCA\n",
        "pca = PCA (170)\n",
        "\n",
        "reduced = pca.fit_transform(x_emb)\n",
        "\n",
        "X_reduced,X_testReduced,y_trainReduced,y_testReduced = train_test_split(reduced,y,test_size=0.25,random_state=42)\n",
        "reduced.shape"
      ],
      "metadata": {
        "colab": {
          "base_uri": "https://localhost:8080/",
          "height": 364
        },
        "id": "WHexH5pHwP1N",
        "outputId": "72aab916-af4d-4c60-9f84-545614ec5a3f"
      },
      "execution_count": 70,
      "outputs": [
        {
          "output_type": "error",
          "ename": "ValueError",
          "evalue": "ignored",
          "traceback": [
            "\u001b[0;31m---------------------------------------------------------------------------\u001b[0m",
            "\u001b[0;31mValueError\u001b[0m                                Traceback (most recent call last)",
            "\u001b[0;32m<ipython-input-70-34e342a91600>\u001b[0m in \u001b[0;36m<module>\u001b[0;34m\u001b[0m\n\u001b[1;32m      2\u001b[0m \u001b[0mpca\u001b[0m \u001b[0;34m=\u001b[0m \u001b[0mPCA\u001b[0m \u001b[0;34m(\u001b[0m\u001b[0;36m170\u001b[0m\u001b[0;34m)\u001b[0m\u001b[0;34m\u001b[0m\u001b[0;34m\u001b[0m\u001b[0m\n\u001b[1;32m      3\u001b[0m \u001b[0;34m\u001b[0m\u001b[0m\n\u001b[0;32m----> 4\u001b[0;31m \u001b[0mreduced\u001b[0m \u001b[0;34m=\u001b[0m \u001b[0mpca\u001b[0m\u001b[0;34m.\u001b[0m\u001b[0mfit_transform\u001b[0m\u001b[0;34m(\u001b[0m\u001b[0mtoken_matrix\u001b[0m\u001b[0;34m)\u001b[0m\u001b[0;34m\u001b[0m\u001b[0;34m\u001b[0m\u001b[0m\n\u001b[0m\u001b[1;32m      5\u001b[0m \u001b[0;34m\u001b[0m\u001b[0m\n\u001b[1;32m      6\u001b[0m \u001b[0mX_reduced\u001b[0m\u001b[0;34m,\u001b[0m\u001b[0mX_testReduced\u001b[0m\u001b[0;34m,\u001b[0m\u001b[0my_trainReduced\u001b[0m\u001b[0;34m,\u001b[0m\u001b[0my_testReduced\u001b[0m \u001b[0;34m=\u001b[0m \u001b[0mtrain_test_split\u001b[0m\u001b[0;34m(\u001b[0m\u001b[0mreduced\u001b[0m\u001b[0;34m,\u001b[0m\u001b[0my\u001b[0m\u001b[0;34m,\u001b[0m\u001b[0mtest_size\u001b[0m\u001b[0;34m=\u001b[0m\u001b[0;36m0.25\u001b[0m\u001b[0;34m,\u001b[0m\u001b[0mrandom_state\u001b[0m\u001b[0;34m=\u001b[0m\u001b[0;36m42\u001b[0m\u001b[0;34m)\u001b[0m\u001b[0;34m\u001b[0m\u001b[0;34m\u001b[0m\u001b[0m\n",
            "\u001b[0;32m/usr/local/lib/python3.8/dist-packages/sklearn/decomposition/_pca.py\u001b[0m in \u001b[0;36mfit_transform\u001b[0;34m(self, X, y)\u001b[0m\n\u001b[1;32m    405\u001b[0m         \u001b[0mC\u001b[0m\u001b[0;34m-\u001b[0m\u001b[0mordered\u001b[0m \u001b[0marray\u001b[0m\u001b[0;34m,\u001b[0m \u001b[0muse\u001b[0m \u001b[0;34m'np.ascontiguousarray'\u001b[0m\u001b[0;34m.\u001b[0m\u001b[0;34m\u001b[0m\u001b[0;34m\u001b[0m\u001b[0m\n\u001b[1;32m    406\u001b[0m         \"\"\"\n\u001b[0;32m--> 407\u001b[0;31m         \u001b[0mU\u001b[0m\u001b[0;34m,\u001b[0m \u001b[0mS\u001b[0m\u001b[0;34m,\u001b[0m \u001b[0mVt\u001b[0m \u001b[0;34m=\u001b[0m \u001b[0mself\u001b[0m\u001b[0;34m.\u001b[0m\u001b[0m_fit\u001b[0m\u001b[0;34m(\u001b[0m\u001b[0mX\u001b[0m\u001b[0;34m)\u001b[0m\u001b[0;34m\u001b[0m\u001b[0;34m\u001b[0m\u001b[0m\n\u001b[0m\u001b[1;32m    408\u001b[0m         \u001b[0mU\u001b[0m \u001b[0;34m=\u001b[0m \u001b[0mU\u001b[0m\u001b[0;34m[\u001b[0m\u001b[0;34m:\u001b[0m\u001b[0;34m,\u001b[0m \u001b[0;34m:\u001b[0m \u001b[0mself\u001b[0m\u001b[0;34m.\u001b[0m\u001b[0mn_components_\u001b[0m\u001b[0;34m]\u001b[0m\u001b[0;34m\u001b[0m\u001b[0;34m\u001b[0m\u001b[0m\n\u001b[1;32m    409\u001b[0m \u001b[0;34m\u001b[0m\u001b[0m\n",
            "\u001b[0;32m/usr/local/lib/python3.8/dist-packages/sklearn/decomposition/_pca.py\u001b[0m in \u001b[0;36m_fit\u001b[0;34m(self, X)\u001b[0m\n\u001b[1;32m    455\u001b[0m         \u001b[0;31m# Call different fits for either full or truncated SVD\u001b[0m\u001b[0;34m\u001b[0m\u001b[0;34m\u001b[0m\u001b[0;34m\u001b[0m\u001b[0m\n\u001b[1;32m    456\u001b[0m         \u001b[0;32mif\u001b[0m \u001b[0mself\u001b[0m\u001b[0;34m.\u001b[0m\u001b[0m_fit_svd_solver\u001b[0m \u001b[0;34m==\u001b[0m \u001b[0;34m\"full\"\u001b[0m\u001b[0;34m:\u001b[0m\u001b[0;34m\u001b[0m\u001b[0;34m\u001b[0m\u001b[0m\n\u001b[0;32m--> 457\u001b[0;31m             \u001b[0;32mreturn\u001b[0m \u001b[0mself\u001b[0m\u001b[0;34m.\u001b[0m\u001b[0m_fit_full\u001b[0m\u001b[0;34m(\u001b[0m\u001b[0mX\u001b[0m\u001b[0;34m,\u001b[0m \u001b[0mn_components\u001b[0m\u001b[0;34m)\u001b[0m\u001b[0;34m\u001b[0m\u001b[0;34m\u001b[0m\u001b[0m\n\u001b[0m\u001b[1;32m    458\u001b[0m         \u001b[0;32melif\u001b[0m \u001b[0mself\u001b[0m\u001b[0;34m.\u001b[0m\u001b[0m_fit_svd_solver\u001b[0m \u001b[0;32min\u001b[0m \u001b[0;34m[\u001b[0m\u001b[0;34m\"arpack\"\u001b[0m\u001b[0;34m,\u001b[0m \u001b[0;34m\"randomized\"\u001b[0m\u001b[0;34m]\u001b[0m\u001b[0;34m:\u001b[0m\u001b[0;34m\u001b[0m\u001b[0;34m\u001b[0m\u001b[0m\n\u001b[1;32m    459\u001b[0m             \u001b[0;32mreturn\u001b[0m \u001b[0mself\u001b[0m\u001b[0;34m.\u001b[0m\u001b[0m_fit_truncated\u001b[0m\u001b[0;34m(\u001b[0m\u001b[0mX\u001b[0m\u001b[0;34m,\u001b[0m \u001b[0mn_components\u001b[0m\u001b[0;34m,\u001b[0m \u001b[0mself\u001b[0m\u001b[0;34m.\u001b[0m\u001b[0m_fit_svd_solver\u001b[0m\u001b[0;34m)\u001b[0m\u001b[0;34m\u001b[0m\u001b[0;34m\u001b[0m\u001b[0m\n",
            "\u001b[0;32m/usr/local/lib/python3.8/dist-packages/sklearn/decomposition/_pca.py\u001b[0m in \u001b[0;36m_fit_full\u001b[0;34m(self, X, n_components)\u001b[0m\n\u001b[1;32m    473\u001b[0m                 )\n\u001b[1;32m    474\u001b[0m         \u001b[0;32melif\u001b[0m \u001b[0;32mnot\u001b[0m \u001b[0;36m0\u001b[0m \u001b[0;34m<=\u001b[0m \u001b[0mn_components\u001b[0m \u001b[0;34m<=\u001b[0m \u001b[0mmin\u001b[0m\u001b[0;34m(\u001b[0m\u001b[0mn_samples\u001b[0m\u001b[0;34m,\u001b[0m \u001b[0mn_features\u001b[0m\u001b[0;34m)\u001b[0m\u001b[0;34m:\u001b[0m\u001b[0;34m\u001b[0m\u001b[0;34m\u001b[0m\u001b[0m\n\u001b[0;32m--> 475\u001b[0;31m             raise ValueError(\n\u001b[0m\u001b[1;32m    476\u001b[0m                 \u001b[0;34m\"n_components=%r must be between 0 and \"\u001b[0m\u001b[0;34m\u001b[0m\u001b[0;34m\u001b[0m\u001b[0m\n\u001b[1;32m    477\u001b[0m                 \u001b[0;34m\"min(n_samples, n_features)=%r with \"\u001b[0m\u001b[0;34m\u001b[0m\u001b[0;34m\u001b[0m\u001b[0m\n",
            "\u001b[0;31mValueError\u001b[0m: n_components=170 must be between 0 and min(n_samples, n_features)=1 with svd_solver='full'"
          ]
        }
      ]
    },
    {
      "cell_type": "markdown",
      "source": [
        "####Logistic Regression"
      ],
      "metadata": {
        "id": "cLCb7MwRNklu"
      }
    },
    {
      "cell_type": "code",
      "source": [
        "import pandas as pd\n",
        "import numpy as np\n",
        "from sklearn.feature_extraction.text import TfidfVectorizer\n",
        "from sklearn.linear_model import LogisticRegression\n",
        "from sklearn.metrics import accuracy_score\n",
        "from sklearn.multiclass import OneVsRestClassifier\n",
        "from sklearn.metrics import classification_report"
      ],
      "metadata": {
        "id": "LDpRa44J9gMx"
      },
      "execution_count": null,
      "outputs": []
    },
    {
      "cell_type": "code",
      "source": [
        "# Estrai le etichette target\n",
        "y_fun = tot['fun'].values\n",
        "y_food = tot['food'].values\n",
        "y_culture = tot['culture'].values\n",
        "y_music = tot['isMusic'].values\n",
        "\n",
        "# Addestra un modello di regressione logistica per ogni classe\n",
        "clf_fun = LogisticRegression(max_iter=10000)\n",
        "clf_fun.fit(X, y_fun)\n",
        "\n",
        "clf_food = LogisticRegression(max_iter=10000)\n",
        "clf_food.fit(X, y_food)\n",
        "\n",
        "clf_culture = LogisticRegression(max_iter=10000)\n",
        "clf_culture.fit(X, y_culture)\n",
        "\n",
        "clf_music = LogisticRegression(max_iter=10000)\n",
        "clf_music.fit(X, y_music)\n",
        "\n",
        "# Prevedi le etichette per un nuovo evento\n",
        "new_event = ['Techno rave musica ballo amici alcohol']\n",
        "X_new = vectorizer.transform(new_event)\n",
        "\n",
        "y_pred_fun = clf_fun.predict_proba(X_new)[0][1]\n",
        "y_pred_food = clf_food.predict_proba(X_new)[0][1]\n",
        "y_pred_culture = clf_culture.predict_proba(X_new)[0][1]\n",
        "y_pred_music = clf_music.predict_proba(X_new)[0][1]\n",
        "\n",
        "# Confronta i risultati per evincere la categoria di appartenenza dell'evento\n",
        "probs = [y_pred_fun, y_pred_food, y_pred_culture, y_pred_music]\n",
        "pred_class = ['fun', 'food', 'culture', 'music'][np.argmax(probs)]\n",
        "print(f\"The new event belongs to the {pred_class} class with a probability of {np.max(probs):.2f}\")"
      ],
      "metadata": {
        "id": "4-NywfQD9MMd"
      },
      "execution_count": null,
      "outputs": []
    },
    {
      "cell_type": "markdown",
      "source": [
        "####Da Multi-label a Multi-classe\n",
        "A questo punto potremmo pensare di rappresentare il nostro Multi-Label problem come un Multi-Class binary classification problem. È utile costruire questo modello come base di confronto per i prossimi modelli: esso tratterà le label come singoli classification problems. Costruiamo il modello di base."
      ],
      "metadata": {
        "id": "0E_S_wcDOZi2"
      }
    },
    {
      "cell_type": "code",
      "source": [
        "y_test"
      ],
      "metadata": {
        "id": "LmLCZIW0Kmcw"
      },
      "execution_count": null,
      "outputs": []
    },
    {
      "cell_type": "code",
      "source": [
        "\n",
        "# Convert Our Multi-Label Prob to Multi-Class\n",
        "# Binary Classficiation\n",
        "biRel = BinaryRelevance(KNeighborsClassifier())\n",
        "biRel2 = BinaryRelevance(SVC())\n",
        "biRelRed = BinaryRelevance(SVC())\n",
        "rfc= RandomForestClassifier()\n",
        "\n",
        "'''\n",
        "BISOGNA PROVARE COMBINAZIONI FRA CLAS E MOD:\n",
        "CLAS                | MOD\n",
        "GaussianNB            BinaryRelevance\n",
        "BernoulliNB           LabelPowerset\n",
        "CategoricalNB         RakelD\n",
        "SVC                   RakelO\n",
        "KNeighborsClassifier  LabelSpacePartitioningClassifier\n",
        "SGDClassifier         MLkNN\n",
        "LogisticRegression\n",
        "'''\n",
        "\n",
        "rfc.fit(X_train,y_train, sample_weight=weights)\n",
        "biRel.fit(X_train,y_train)\n",
        "biRel2.fit(X_train,y_train)\n",
        "biRelRed.fit(X_reduced, y_trainReduced)"
      ],
      "metadata": {
        "id": "zv_D-D5qPurq"
      },
      "execution_count": null,
      "outputs": []
    },
    {
      "cell_type": "code",
      "source": [
        "# Predictions\n",
        "prediction = biRel.predict(X_test).toarray()\n",
        "prediction2 = biRel2.predict(X_test).toarray()\n",
        "predictionRed = biRelRed.predict(X_testReduced).toarray()"
      ],
      "metadata": {
        "id": "ayphmqNHQ4QY"
      },
      "execution_count": null,
      "outputs": []
    },
    {
      "cell_type": "code",
      "source": [
        "print('accuracy: %0.5f' % accuracy_score(y_test,prediction))\n",
        "print('loss di hamming: %0.5f' % hamming_loss(y_test,prediction))\n",
        "print('label ranking average precision: %0.5f' % label_ranking_average_precision_score(y_test,prediction))\n",
        "sns.heatmap(pd.DataFrame(classification_report(y_test,prediction, zero_division=1, output_dict=True, target_names=['fun ', 'food', 'culture', 'music'])).iloc[:-1, :].T, annot=True, linecolor='purple')"
      ],
      "metadata": {
        "id": "WnaVoxvvR_so"
      },
      "execution_count": null,
      "outputs": []
    },
    {
      "cell_type": "code",
      "source": [
        "print('accuracy: %0.5f' % accuracy_score(y_testReduced,predictionRed))\n",
        "print('loss di hamming: %0.5f' % hamming_loss(y_testReduced,predictionRed))\n",
        "print('label ranking average precision: %0.5f' % label_ranking_average_precision_score(y_testReduced,predictionRed))\n",
        "sns.heatmap(pd.DataFrame(classification_report(y_testReduced,predictionRed, zero_division=1, output_dict=True, target_names=['fun ', 'food', 'culture', 'music'])).iloc[:-1, :].T, annot=True, linecolor='purple')"
      ],
      "metadata": {
        "id": "kuHBF1p9yhd8"
      },
      "execution_count": null,
      "outputs": []
    },
    {
      "cell_type": "code",
      "source": [
        "print('accuracy: %0.5f' % accuracy_score(y_test,prediction2))\n",
        "print('loss di hamming: %0.5f' % hamming_loss(y_test,prediction2))\n",
        "print('label ranking average precision: %0.5f' % label_ranking_average_precision_score(y_test,prediction2))\n",
        "sns.heatmap(pd.DataFrame(classification_report(y_test,prediction2, zero_division=1, output_dict=True, target_names=['fun ', 'food', 'culture', 'music'])).iloc[:-1, :].T, annot=True, linecolor='purple')"
      ],
      "metadata": {
        "id": "v4G_BrBcQl4R"
      },
      "execution_count": null,
      "outputs": []
    },
    {
      "cell_type": "markdown",
      "source": [
        "##Deep Learning"
      ],
      "metadata": {
        "id": "XL7j0_VwaZOI"
      }
    },
    {
      "cell_type": "code",
      "source": [
        "# mlp for multi-label classification\n",
        "from numpy import mean\n",
        "from numpy import std\n",
        "from sklearn.model_selection import RepeatedKFold\n",
        "from keras.models import Sequential\n",
        "from keras.layers import Dense\n",
        "from matplotlib import pyplot as plt\n",
        "\n",
        "# get the model\n",
        "def get_model(n_inputs, n_outputs):\n",
        "  model = Sequential()\n",
        "  model.add(Dense(256, input_dim=n_inputs, kernel_initializer='he_uniform', activation='relu'))\n",
        "  model.add(Dense(16, activation='relu'))\n",
        "  model.add(Dense(n_outputs, activation='sigmoid'))\n",
        "  model.compile(loss='binary_crossentropy', optimizer='adam', metrics='accuracy')\n",
        "  return model\n",
        "\n",
        "# evaluate a model using repeated k-fold cross-validation\n",
        "def evaluate_model(X_train, y_train, X_test, y_test):\n",
        "  results = list()\n",
        "  # define evaluation procedure\n",
        "  cv = RepeatedKFold(n_splits=10, n_repeats=3, random_state=1)\n",
        "  model = get_model(X_train.shape[1], y_train.shape[1])\n",
        "  # fit model\n",
        "  fit=model.fit(X_train, y_train, verbose=1, epochs=50)\n",
        "  # make a prediction on the test set\n",
        "  yhat = model.predict(X_test)\n",
        "    # calculate accuracy\n",
        "  acc = accuracy_score(y_test.round(), yhat.round())\n",
        "  # store result\n",
        "  print('>%.3f' % acc)\n",
        "  results.append(acc)\n",
        "  print(yhat)\n",
        "  return results,model\n",
        "\n",
        "# evaluate model\n",
        "results,model = evaluate_model(X_train, y_train, X_test, y_test)\n",
        "# summarize performance\n",
        "print('Accuracy: %.3f (%.3f)' % (mean(results), std(results)))"
      ],
      "metadata": {
        "colab": {
          "base_uri": "https://localhost:8080/",
          "height": 1000
        },
        "id": "uFx2yc-qFu1V",
        "outputId": "31c25858-13dd-4f38-b5a4-fea399f4c929"
      },
      "execution_count": null,
      "outputs": [
        {
          "output_type": "stream",
          "name": "stdout",
          "text": [
            "Epoch 1/30\n",
            "149/149 [==============================] - 1s 3ms/step - loss: 0.6060 - accuracy: 0.2875\n",
            "Epoch 2/30\n",
            "149/149 [==============================] - 0s 3ms/step - loss: 0.5224 - accuracy: 0.4529\n",
            "Epoch 3/30\n",
            "149/149 [==============================] - 0s 3ms/step - loss: 0.4956 - accuracy: 0.4725\n",
            "Epoch 4/30\n",
            "149/149 [==============================] - 0s 3ms/step - loss: 0.4830 - accuracy: 0.4917\n",
            "Epoch 5/30\n",
            "149/149 [==============================] - 0s 3ms/step - loss: 0.4692 - accuracy: 0.4961\n",
            "Epoch 6/30\n",
            "149/149 [==============================] - 0s 3ms/step - loss: 0.4605 - accuracy: 0.5128\n",
            "Epoch 7/30\n",
            "149/149 [==============================] - 0s 3ms/step - loss: 0.4537 - accuracy: 0.5180\n",
            "Epoch 8/30\n",
            "149/149 [==============================] - 0s 2ms/step - loss: 0.4467 - accuracy: 0.5227\n",
            "Epoch 9/30\n",
            "149/149 [==============================] - 0s 3ms/step - loss: 0.4434 - accuracy: 0.5353\n",
            "Epoch 10/30\n",
            "149/149 [==============================] - 1s 4ms/step - loss: 0.4381 - accuracy: 0.5250\n",
            "Epoch 11/30\n",
            "149/149 [==============================] - 1s 5ms/step - loss: 0.4326 - accuracy: 0.5383\n",
            "Epoch 12/30\n",
            "149/149 [==============================] - 1s 5ms/step - loss: 0.4314 - accuracy: 0.5336\n",
            "Epoch 13/30\n",
            "149/149 [==============================] - 1s 5ms/step - loss: 0.4242 - accuracy: 0.5380\n",
            "Epoch 14/30\n",
            "149/149 [==============================] - 1s 4ms/step - loss: 0.4194 - accuracy: 0.5410\n",
            "Epoch 15/30\n",
            "149/149 [==============================] - 1s 4ms/step - loss: 0.4174 - accuracy: 0.5414\n",
            "Epoch 16/30\n",
            "149/149 [==============================] - 1s 4ms/step - loss: 0.4101 - accuracy: 0.5467\n",
            "Epoch 17/30\n",
            "149/149 [==============================] - 0s 3ms/step - loss: 0.4060 - accuracy: 0.5492\n",
            "Epoch 18/30\n",
            "149/149 [==============================] - 0s 3ms/step - loss: 0.4039 - accuracy: 0.5475\n",
            "Epoch 19/30\n",
            "149/149 [==============================] - 0s 3ms/step - loss: 0.4016 - accuracy: 0.5526\n",
            "Epoch 20/30\n",
            "149/149 [==============================] - 0s 3ms/step - loss: 0.3958 - accuracy: 0.5536\n",
            "Epoch 21/30\n",
            "149/149 [==============================] - 0s 3ms/step - loss: 0.3904 - accuracy: 0.5574\n",
            "Epoch 22/30\n",
            "149/149 [==============================] - 0s 3ms/step - loss: 0.3855 - accuracy: 0.5616\n",
            "Epoch 23/30\n",
            "149/149 [==============================] - 0s 3ms/step - loss: 0.3837 - accuracy: 0.5650\n",
            "Epoch 24/30\n",
            "149/149 [==============================] - 0s 3ms/step - loss: 0.3803 - accuracy: 0.5623\n",
            "Epoch 25/30\n",
            "149/149 [==============================] - 0s 3ms/step - loss: 0.3844 - accuracy: 0.5555\n",
            "Epoch 26/30\n",
            "149/149 [==============================] - 0s 3ms/step - loss: 0.3710 - accuracy: 0.5680\n",
            "Epoch 27/30\n",
            "149/149 [==============================] - 0s 3ms/step - loss: 0.3701 - accuracy: 0.5661\n",
            "Epoch 28/30\n",
            "149/149 [==============================] - 0s 3ms/step - loss: 0.3667 - accuracy: 0.5722\n",
            "Epoch 29/30\n",
            "149/149 [==============================] - 0s 3ms/step - loss: 0.3608 - accuracy: 0.5715\n",
            "Epoch 30/30\n",
            "149/149 [==============================] - 0s 3ms/step - loss: 0.3606 - accuracy: 0.5730\n",
            "50/50 [==============================] - 0s 2ms/step\n"
          ]
        },
        {
          "output_type": "display_data",
          "data": {
            "text/plain": [
              "<Figure size 576x360 with 1 Axes>"
            ],
            "image/png": "[encoded data removed]"
          },
          "metadata": {
            "needs_background": "light"
          }
        }
      ]
    },
    {
      "cell_type": "markdown",
      "source": [
        "###Funzione per costruire il modello"
      ],
      "metadata": {
        "id": "L3qQdvsDjhm_"
      }
    },
    {
      "cell_type": "code",
      "source": [
        "def build_model(modello,mlb_estimator,xtrain,ytrain,xtest,ytest):\n",
        "    # Create an Instance\n",
        "    clf = mlb_estimator(modello)\n",
        "    clf.fit(xtrain,ytrain)\n",
        "    # Predict\n",
        "    clf_predictions = clf.predict(xtest)\n",
        "    # Check For Accuracy\n",
        "    acc = accuracy_score(ytest,clf_predictions)\n",
        "    ham = hamming_loss(ytest,clf_predictions)\n",
        "    result = {\"accuracy:\":acc,\"hamming_score\":ham}\n",
        "    return result"
      ],
      "metadata": {
        "id": "oKZl78x9jl8b"
      },
      "execution_count": null,
      "outputs": []
    },
    {
      "cell_type": "markdown",
      "source": [
        "assegnarli categorie dobbiamo trovare dove la semantica dio un evento che poi puo’derivare da più dati che adesso abbiamo trascurato, in manieraa tale da collocare semantica anche tramite un ontologie esterne il nostro evento in una specie di spazio\n",
        "\n",
        "questo  ci potrebbe servire per rendere la ricerca di un evento il suo essere consigliato qualcosa di più semantica .\n",
        "\n",
        "\n",
        "non ci sarà nessun evento in cui ci sarà scritto 'qui si beve alcol' però ci stara degustazione di birra.\n",
        "\n",
        "potrebbe essere collocare dei termini nello spazio e vedere tramite i dati che noi estraiamo in che posto dello spazio il nostro evento si colloca\n",
        "\n",
        "Caso d’uso:\n",
        "\n",
        "mettiamo che tu cerchi :’alcol a bari a quest ora’ .\n",
        "\n",
        "prendo i "
      ],
      "metadata": {
        "id": "UpfMLKcenAeJ"
      }
    },
    {
      "cell_type": "markdown",
      "source": [
        "##RAPPRESENTAZIONE"
      ],
      "metadata": {
        "id": "D2CNXQg1-TFx"
      }
    },
    {
      "cell_type": "markdown",
      "source": [
        "###Ontologie: WordNet"
      ],
      "metadata": {
        "id": "HA0ZMUwNam3P"
      }
    },
    {
      "cell_type": "code",
      "source": [
        "def get_syns(description):\n",
        "  test=[]\n",
        "  words = nltk.word_tokenize(description)\n",
        "  for every in words:\n",
        "    if (every not in stopwordsTotali):\n",
        "      if(wn.synsets(every, lang ='ita') == []):\n",
        "        \n",
        "          test.append(wn.synsets(every))\n",
        "      else:\n",
        "        \n",
        "          test.append(wn.synsets(every, lang ='ita'))\n",
        "\n",
        "  lemmatizer = WordNetLemmatizer()\n",
        "  out =[]\n",
        "  for each in range(len(test)):\n",
        "    for q in range(len(test[each])):\n",
        "      wordToAdd=lemmatizer.lemmatize(test[each][q].name().split('.')[0])\n",
        "      out.append(wordToAdd)\n",
        "\n",
        "  out=list(set(out))\n",
        "  return out\n",
        "\n",
        "def predict_closest_clusters(description, km, X_train1, vectorizerTfIdf):\n",
        "    description=get_syns(description)\n",
        "    newWords = ''\n",
        "    for each in description:\n",
        "      newWords = newWords + ' ' + each\n",
        "    description=newWords\n",
        "    # Transform the input description into a tf-idf representation\n",
        "    input_tfidf = vectorizerTfIdf.transform([description])\n",
        "    # Calculate the distances between the input and each of the 10 clusters\n",
        "    cluster_distances = km.transform(input_tfidf).flatten()\n",
        "    # Get the index of the closest cluster\n",
        "    closest_cluster_index = np.argmin(cluster_distances)\n",
        "    print(\"The closest cluster is cluster\", closest_cluster_index)\n",
        "    terms = vectorizerTfIdf.get_feature_names()\n",
        "    top_ten_words = [terms[ind] for ind in order_centroids[closest_cluster_index, :5]]\n",
        "    print(\"Its top ten words are: {}\".format(', '.join(top_ten_words)))\n",
        "    # Calculate the distances between the input and each sample in X_train1\n",
        "    sample_distances = pairwise_distances(input_tfidf, X_train1).flatten()\n",
        "    # Get the indices of the 5 closest samples\n",
        "    closest_sample_indices = sample_distances.argsort()[:5]\n",
        "    print(\"The 5 closest samples in X_train1 are:\")\n",
        "    for i in closest_sample_indices:\n",
        "        print(i)"
      ],
      "metadata": {
        "id": "2lFxU5_B5s01"
      },
      "execution_count": null,
      "outputs": []
    },
    {
      "cell_type": "code",
      "source": [
        "X1 = []\n",
        "newText=corpus.tolist()\n",
        "\n",
        "for description in newText:   \n",
        "    feature =[]\n",
        "    features = get_syns(str(description))\n",
        "    words = ''\n",
        "    for each in features:\n",
        "      words = words + ' ' + each\n",
        "    X1.append(words)"
      ],
      "metadata": {
        "id": "lqbLqncq65lR"
      },
      "execution_count": null,
      "outputs": []
    },
    {
      "cell_type": "code",
      "source": [
        "print(corpus[0])\n",
        "print(X1[0])"
      ],
      "metadata": {
        "id": "5D_TenuM7EpZ"
      },
      "execution_count": null,
      "outputs": []
    },
    {
      "cell_type": "code",
      "source": [
        "vectorizerTfIdf=TfidfVectorizer()\n",
        "vectorTfIdf=vectorizerTfIdf.fit_transform(X1)\n",
        "X_train1, X_test1 = train_test_split(vectorTfIdf, test_size=0.2, random_state=42) "
      ],
      "metadata": {
        "id": "sNH4c7XO7MgM"
      },
      "execution_count": null,
      "outputs": []
    },
    {
      "cell_type": "code",
      "source": [
        "number_of_clusters=10\n",
        "km = KMeans(n_clusters=number_of_clusters)\n",
        "# Normally people fit the matrix\n",
        "km.fit(X_train1)"
      ],
      "metadata": {
        "id": "H-ooXcoA7NPf"
      },
      "execution_count": null,
      "outputs": []
    },
    {
      "cell_type": "code",
      "source": [
        "# But you could fit the idf_df instea\n",
        "print(\"Top terms per cluster:\")\n",
        "order_centroids = km.cluster_centers_.argsort()[:, ::-1]\n",
        "terms = vectorizerTfIdf.get_feature_names()\n",
        "for i in range(number_of_clusters):\n",
        "    top_ten_words = [terms[ind] for ind in order_centroids[i, :5]]\n",
        "    print(\"Cluster {}: {}\".format(i, ' '.join(top_ten_words)))"
      ],
      "metadata": {
        "id": "ngBEXbpu7TzB"
      },
      "execution_count": null,
      "outputs": []
    },
    {
      "cell_type": "code",
      "source": [
        "cluster_labels=km.labels_\n",
        "len(cluster_labels)"
      ],
      "metadata": {
        "id": "WdiAObTc7UX2"
      },
      "execution_count": null,
      "outputs": []
    },
    {
      "cell_type": "code",
      "source": [
        "descrizione='presentazione nuovo libro di narrativa'\n",
        "predict_closest_clusters(description, km, X_train1,vectorizerTfIdf)"
      ],
      "metadata": {
        "id": "DBN17pDl7Y_S"
      },
      "execution_count": null,
      "outputs": []
    },
    {
      "cell_type": "code",
      "source": [
        "labels=km.labels_\n",
        "cluster_labels = np.unique(labels)\n",
        "cluster_sizes = [(labels == c).sum() for c in cluster_labels]\n",
        "sizes_idx = np.argsort(cluster_sizes)[::-1][:5]\n",
        "X1=X1[:5061]\n",
        "# Plot dei risultati\n",
        "for i, c in enumerate(cluster_labels[sizes_idx]):\n",
        "    mask = (labels == c)\n",
        "    descrizioni_c = np.array(X1)[mask]\n",
        "    text = \" \".join(descrizioni_c)\n",
        "    \n",
        "    wordcloud = WordCloud(width = 800, height = 800, \n",
        "                background_color ='white', \n",
        "                stopwords = swSet, \n",
        "                min_font_size = 10).generate(text)\n",
        "\n",
        "    plt.figure(figsize = (8, 8), facecolor = None) \n",
        "    plt.imshow(wordcloud) \n",
        "    plt.axis(\"off\") \n",
        "    plt.tight_layout(pad = 0)"
      ],
      "metadata": {
        "id": "cK9pH2io7v1d"
      },
      "execution_count": null,
      "outputs": []
    },
    {
      "cell_type": "markdown",
      "source": [
        "###Semantic web"
      ],
      "metadata": {
        "id": "_BKk5qI7-egP"
      }
    },
    {
      "cell_type": "code",
      "source": [
        "!pip install scipy==1.8.0"
      ],
      "metadata": {
        "colab": {
          "base_uri": "https://localhost:8080/",
          "height": 281
        },
        "id": "N0FUV9Z8KVt1",
        "outputId": "03e2e85e-5c90-477b-fa6e-15def69f411c"
      },
      "execution_count": 112,
      "outputs": [
        {
          "output_type": "stream",
          "name": "stdout",
          "text": [
            "Looking in indexes: https://pypi.org/simple, https://us-python.pkg.dev/colab-wheels/public/simple/\n",
            "Collecting scipy==1.8.0\n",
            "  Downloading scipy-1.8.0-cp38-cp38-manylinux_2_17_x86_64.manylinux2014_x86_64.whl (41.6 MB)\n",
            "\u001b[2K     \u001b[90m━━━━━━━━━━━━━━━━━━━━━━━━━━━━━━━━━━━━━━━━\u001b[0m \u001b[32m41.6/41.6 MB\u001b[0m \u001b[31m11.5 MB/s\u001b[0m eta \u001b[36m0:00:00\u001b[0m\n",
            "\u001b[?25hRequirement already satisfied: numpy<1.25.0,>=1.17.3 in /usr/local/lib/python3.8/dist-packages (from scipy==1.8.0) (1.21.6)\n",
            "Installing collected packages: scipy\n",
            "  Attempting uninstall: scipy\n",
            "    Found existing installation: scipy 1.7.3\n",
            "    Uninstalling scipy-1.7.3:\n",
            "      Successfully uninstalled scipy-1.7.3\n",
            "Successfully installed scipy-1.8.0\n"
          ]
        },
        {
          "output_type": "display_data",
          "data": {
            "application/vnd.colab-display-data+json": {
              "pip_warning": {
                "packages": [
                  "scipy"
                ]
              }
            }
          },
          "metadata": {}
        }
      ]
    },
    {
      "cell_type": "code",
      "source": [
        "import  scipy.sparse"
      ],
      "metadata": {
        "id": "x9UW1LE-JuRW"
      },
      "execution_count": 108,
      "outputs": []
    },
    {
      "cell_type": "code",
      "source": [
        "G = nx.Graph()\n",
        "\n",
        "\n",
        "# Aggiungi i nodi per ogni categoria (fun, food, culture, music)\n",
        "G.add_node(\"fun\")\n",
        "G.add_node(\"food\")\n",
        "G.add_node(\"culture\")\n",
        "G.add_node(\"isMusic\")\n",
        "    \n",
        "# Aggiungi gli archi tra le categorie per ogni evento\n",
        "for index, row in tot.iterrows():\n",
        "    description = row[\"description\"]\n",
        "    for header in [\"fun\", \"food\", \"culture\", \"isMusic\"]:\n",
        "        if row[header] == 1:\n",
        "            \n",
        "            G.add_edge(header, description)\n",
        "pos = nx.spring_layout(G, seed=225)  # Seed for reproducible layout\n",
        "nx.draw(G, pos, node_color='red', edge_color='gray', with_labels=True)\n",
        "plt.show()   \n",
        "\n",
        "'''\n",
        "# Calcola la centralità di grado per ogni nodo\n",
        "degree_centrality = nx.degree_centrality(G)\n",
        "\n",
        "# Trova il nodo più centrale in base alla centralità di grado\n",
        "most_central = max(degree_centrality, key=degree_centrality.get)\n",
        "print(\"Il nodo più centrale in base alla centralità di grado è:\", most_central)\n",
        "\n",
        "# Trova il percorso più breve tra due nodi\n",
        "shortest_path = nx.shortest_path(G, \"fun\", \"music\")\n",
        "print(\"Il percorso più breve tra 'fun' e 'music' è:\", shortest_path)\n",
        "\n",
        "# Calcola la centralità di PageRank per ogni nodo\n",
        "pagerank = nx.pagerank(G)\n",
        "\n",
        "# Trova il nodo con la più alta centralità di PageRank\n",
        "most_important = max(pagerank, key=pagerank.get)\n",
        "print(\"Il nodo più importante in base alla centralità di PageRank è:\", most_important)\n",
        "'''"
      ],
      "metadata": {
        "colab": {
          "base_uri": "https://localhost:8080/",
          "height": 688
        },
        "id": "N0XG15DV-kgo",
        "outputId": "30670eea-0cd6-4394-bb00-c77602e77bc1"
      },
      "execution_count": 111,
      "outputs": [
        {
          "output_type": "error",
          "ename": "AttributeError",
          "evalue": "ignored",
          "traceback": [
            "\u001b[0;31m---------------------------------------------------------------------------\u001b[0m",
            "\u001b[0;31mAttributeError\u001b[0m                            Traceback (most recent call last)",
            "\u001b[0;32m<ipython-input-111-61a2a25832e8>\u001b[0m in \u001b[0;36m<module>\u001b[0;34m\u001b[0m\n\u001b[1;32m     16\u001b[0m             \u001b[0mG\u001b[0m\u001b[0;34m.\u001b[0m\u001b[0madd_edge\u001b[0m\u001b[0;34m(\u001b[0m\u001b[0mheader\u001b[0m\u001b[0;34m,\u001b[0m \u001b[0mdescription\u001b[0m\u001b[0;34m)\u001b[0m\u001b[0;34m\u001b[0m\u001b[0;34m\u001b[0m\u001b[0m\n\u001b[1;32m     17\u001b[0m \u001b[0;34m\u001b[0m\u001b[0m\n\u001b[0;32m---> 18\u001b[0;31m \u001b[0mnx\u001b[0m\u001b[0;34m.\u001b[0m\u001b[0mdraw\u001b[0m\u001b[0;34m(\u001b[0m\u001b[0mG\u001b[0m\u001b[0;34m,\u001b[0m \u001b[0mnode_color\u001b[0m\u001b[0;34m=\u001b[0m\u001b[0;34m'red'\u001b[0m\u001b[0;34m,\u001b[0m \u001b[0medge_color\u001b[0m\u001b[0;34m=\u001b[0m\u001b[0;34m'gray'\u001b[0m\u001b[0;34m,\u001b[0m \u001b[0mwith_labels\u001b[0m\u001b[0;34m=\u001b[0m\u001b[0;32mTrue\u001b[0m\u001b[0;34m)\u001b[0m\u001b[0;34m\u001b[0m\u001b[0;34m\u001b[0m\u001b[0m\n\u001b[0m\u001b[1;32m     19\u001b[0m \u001b[0mplt\u001b[0m\u001b[0;34m.\u001b[0m\u001b[0mshow\u001b[0m\u001b[0;34m(\u001b[0m\u001b[0;34m)\u001b[0m\u001b[0;34m\u001b[0m\u001b[0;34m\u001b[0m\u001b[0m\n\u001b[1;32m     20\u001b[0m \u001b[0;34m\u001b[0m\u001b[0m\n",
            "\u001b[0;32m/usr/local/lib/python3.8/dist-packages/networkx/drawing/nx_pylab.py\u001b[0m in \u001b[0;36mdraw\u001b[0;34m(G, pos, ax, **kwds)\u001b[0m\n\u001b[1;32m    119\u001b[0m         \u001b[0mkwds\u001b[0m\u001b[0;34m[\u001b[0m\u001b[0;34m\"with_labels\"\u001b[0m\u001b[0;34m]\u001b[0m \u001b[0;34m=\u001b[0m \u001b[0;34m\"labels\"\u001b[0m \u001b[0;32min\u001b[0m \u001b[0mkwds\u001b[0m\u001b[0;34m\u001b[0m\u001b[0;34m\u001b[0m\u001b[0m\n\u001b[1;32m    120\u001b[0m \u001b[0;34m\u001b[0m\u001b[0m\n\u001b[0;32m--> 121\u001b[0;31m     \u001b[0mdraw_networkx\u001b[0m\u001b[0;34m(\u001b[0m\u001b[0mG\u001b[0m\u001b[0;34m,\u001b[0m \u001b[0mpos\u001b[0m\u001b[0;34m=\u001b[0m\u001b[0mpos\u001b[0m\u001b[0;34m,\u001b[0m \u001b[0max\u001b[0m\u001b[0;34m=\u001b[0m\u001b[0max\u001b[0m\u001b[0;34m,\u001b[0m \u001b[0;34m**\u001b[0m\u001b[0mkwds\u001b[0m\u001b[0;34m)\u001b[0m\u001b[0;34m\u001b[0m\u001b[0;34m\u001b[0m\u001b[0m\n\u001b[0m\u001b[1;32m    122\u001b[0m     \u001b[0max\u001b[0m\u001b[0;34m.\u001b[0m\u001b[0mset_axis_off\u001b[0m\u001b[0;34m(\u001b[0m\u001b[0;34m)\u001b[0m\u001b[0;34m\u001b[0m\u001b[0;34m\u001b[0m\u001b[0m\n\u001b[1;32m    123\u001b[0m     \u001b[0mplt\u001b[0m\u001b[0;34m.\u001b[0m\u001b[0mdraw_if_interactive\u001b[0m\u001b[0;34m(\u001b[0m\u001b[0;34m)\u001b[0m\u001b[0;34m\u001b[0m\u001b[0;34m\u001b[0m\u001b[0m\n",
            "\u001b[0;32m/usr/local/lib/python3.8/dist-packages/networkx/drawing/nx_pylab.py\u001b[0m in \u001b[0;36mdraw_networkx\u001b[0;34m(G, pos, arrows, with_labels, **kwds)\u001b[0m\n\u001b[1;32m    299\u001b[0m \u001b[0;34m\u001b[0m\u001b[0m\n\u001b[1;32m    300\u001b[0m     \u001b[0;32mif\u001b[0m \u001b[0mpos\u001b[0m \u001b[0;32mis\u001b[0m \u001b[0;32mNone\u001b[0m\u001b[0;34m:\u001b[0m\u001b[0;34m\u001b[0m\u001b[0;34m\u001b[0m\u001b[0m\n\u001b[0;32m--> 301\u001b[0;31m         \u001b[0mpos\u001b[0m \u001b[0;34m=\u001b[0m \u001b[0mnx\u001b[0m\u001b[0;34m.\u001b[0m\u001b[0mdrawing\u001b[0m\u001b[0;34m.\u001b[0m\u001b[0mspring_layout\u001b[0m\u001b[0;34m(\u001b[0m\u001b[0mG\u001b[0m\u001b[0;34m)\u001b[0m  \u001b[0;31m# default to spring layout\u001b[0m\u001b[0;34m\u001b[0m\u001b[0;34m\u001b[0m\u001b[0m\n\u001b[0m\u001b[1;32m    302\u001b[0m \u001b[0;34m\u001b[0m\u001b[0m\n\u001b[1;32m    303\u001b[0m     \u001b[0mdraw_networkx_nodes\u001b[0m\u001b[0;34m(\u001b[0m\u001b[0mG\u001b[0m\u001b[0;34m,\u001b[0m \u001b[0mpos\u001b[0m\u001b[0;34m,\u001b[0m \u001b[0;34m**\u001b[0m\u001b[0mnode_kwds\u001b[0m\u001b[0;34m)\u001b[0m\u001b[0;34m\u001b[0m\u001b[0;34m\u001b[0m\u001b[0m\n",
            "\u001b[0;32m/usr/local/lib/python3.8/dist-packages/networkx/utils/decorators.py\u001b[0m in \u001b[0;36margmap_spring_layout_1\u001b[0;34m(G, k, pos, fixed, iterations, threshold, weight, scale, center, dim, seed)\u001b[0m\n\u001b[1;32m      2\u001b[0m \u001b[0;32mimport\u001b[0m \u001b[0mcollections\u001b[0m\u001b[0;34m\u001b[0m\u001b[0;34m\u001b[0m\u001b[0m\n\u001b[1;32m      3\u001b[0m \u001b[0;32mimport\u001b[0m \u001b[0mgzip\u001b[0m\u001b[0;34m\u001b[0m\u001b[0;34m\u001b[0m\u001b[0m\n\u001b[0;32m----> 4\u001b[0;31m \u001b[0;32mimport\u001b[0m \u001b[0minspect\u001b[0m\u001b[0;34m\u001b[0m\u001b[0;34m\u001b[0m\u001b[0m\n\u001b[0m\u001b[1;32m      5\u001b[0m \u001b[0;32mimport\u001b[0m \u001b[0mitertools\u001b[0m\u001b[0;34m\u001b[0m\u001b[0;34m\u001b[0m\u001b[0m\n\u001b[1;32m      6\u001b[0m \u001b[0;32mimport\u001b[0m \u001b[0mre\u001b[0m\u001b[0;34m\u001b[0m\u001b[0;34m\u001b[0m\u001b[0m\n",
            "\u001b[0;32m/usr/local/lib/python3.8/dist-packages/networkx/drawing/layout.py\u001b[0m in \u001b[0;36mspring_layout\u001b[0;34m(G, k, pos, fixed, iterations, threshold, weight, scale, center, dim, seed)\u001b[0m\n\u001b[1;32m    475\u001b[0m         \u001b[0;32mif\u001b[0m \u001b[0mlen\u001b[0m\u001b[0;34m(\u001b[0m\u001b[0mG\u001b[0m\u001b[0;34m)\u001b[0m \u001b[0;34m<\u001b[0m \u001b[0;36m500\u001b[0m\u001b[0;34m:\u001b[0m  \u001b[0;31m# sparse solver for large graphs\u001b[0m\u001b[0;34m\u001b[0m\u001b[0;34m\u001b[0m\u001b[0m\n\u001b[1;32m    476\u001b[0m             \u001b[0;32mraise\u001b[0m \u001b[0mValueError\u001b[0m\u001b[0;34m\u001b[0m\u001b[0;34m\u001b[0m\u001b[0m\n\u001b[0;32m--> 477\u001b[0;31m         \u001b[0mA\u001b[0m \u001b[0;34m=\u001b[0m \u001b[0mnx\u001b[0m\u001b[0;34m.\u001b[0m\u001b[0mto_scipy_sparse_array\u001b[0m\u001b[0;34m(\u001b[0m\u001b[0mG\u001b[0m\u001b[0;34m,\u001b[0m \u001b[0mweight\u001b[0m\u001b[0;34m=\u001b[0m\u001b[0mweight\u001b[0m\u001b[0;34m,\u001b[0m \u001b[0mdtype\u001b[0m\u001b[0;34m=\u001b[0m\u001b[0;34m\"f\"\u001b[0m\u001b[0;34m)\u001b[0m\u001b[0;34m\u001b[0m\u001b[0;34m\u001b[0m\u001b[0m\n\u001b[0m\u001b[1;32m    478\u001b[0m         \u001b[0;32mif\u001b[0m \u001b[0mk\u001b[0m \u001b[0;32mis\u001b[0m \u001b[0;32mNone\u001b[0m \u001b[0;32mand\u001b[0m \u001b[0mfixed\u001b[0m \u001b[0;32mis\u001b[0m \u001b[0;32mnot\u001b[0m \u001b[0;32mNone\u001b[0m\u001b[0;34m:\u001b[0m\u001b[0;34m\u001b[0m\u001b[0;34m\u001b[0m\u001b[0m\n\u001b[1;32m    479\u001b[0m             \u001b[0;31m# We must adjust k by domain size for layouts not near 1x1\u001b[0m\u001b[0;34m\u001b[0m\u001b[0;34m\u001b[0m\u001b[0;34m\u001b[0m\u001b[0m\n",
            "\u001b[0;32m/usr/local/lib/python3.8/dist-packages/networkx/convert_matrix.py\u001b[0m in \u001b[0;36mto_scipy_sparse_array\u001b[0;34m(G, nodelist, dtype, weight, format)\u001b[0m\n\u001b[1;32m    591\u001b[0m             \u001b[0mr\u001b[0m \u001b[0;34m+=\u001b[0m \u001b[0mdiag_index\u001b[0m\u001b[0;34m\u001b[0m\u001b[0;34m\u001b[0m\u001b[0m\n\u001b[1;32m    592\u001b[0m             \u001b[0mc\u001b[0m \u001b[0;34m+=\u001b[0m \u001b[0mdiag_index\u001b[0m\u001b[0;34m\u001b[0m\u001b[0;34m\u001b[0m\u001b[0m\n\u001b[0;32m--> 593\u001b[0;31m         \u001b[0mA\u001b[0m \u001b[0;34m=\u001b[0m \u001b[0msp\u001b[0m\u001b[0;34m.\u001b[0m\u001b[0msparse\u001b[0m\u001b[0;34m.\u001b[0m\u001b[0mcoo_array\u001b[0m\u001b[0;34m(\u001b[0m\u001b[0;34m(\u001b[0m\u001b[0md\u001b[0m\u001b[0;34m,\u001b[0m \u001b[0;34m(\u001b[0m\u001b[0mr\u001b[0m\u001b[0;34m,\u001b[0m \u001b[0mc\u001b[0m\u001b[0;34m)\u001b[0m\u001b[0;34m)\u001b[0m\u001b[0;34m,\u001b[0m \u001b[0mshape\u001b[0m\u001b[0;34m=\u001b[0m\u001b[0;34m(\u001b[0m\u001b[0mnlen\u001b[0m\u001b[0;34m,\u001b[0m \u001b[0mnlen\u001b[0m\u001b[0;34m)\u001b[0m\u001b[0;34m,\u001b[0m \u001b[0mdtype\u001b[0m\u001b[0;34m=\u001b[0m\u001b[0mdtype\u001b[0m\u001b[0;34m)\u001b[0m\u001b[0;34m\u001b[0m\u001b[0;34m\u001b[0m\u001b[0m\n\u001b[0m\u001b[1;32m    594\u001b[0m     \u001b[0;32mtry\u001b[0m\u001b[0;34m:\u001b[0m\u001b[0;34m\u001b[0m\u001b[0;34m\u001b[0m\u001b[0m\n\u001b[1;32m    595\u001b[0m         \u001b[0;32mreturn\u001b[0m \u001b[0mA\u001b[0m\u001b[0;34m.\u001b[0m\u001b[0masformat\u001b[0m\u001b[0;34m(\u001b[0m\u001b[0mformat\u001b[0m\u001b[0;34m)\u001b[0m\u001b[0;34m\u001b[0m\u001b[0;34m\u001b[0m\u001b[0m\n",
            "\u001b[0;31mAttributeError\u001b[0m: module 'scipy.sparse' has no attribute 'coo_array'"
          ]
        },
        {
          "output_type": "display_data",
          "data": {
            "text/plain": [
              "<Figure size 432x288 with 1 Axes>"
            ],
            "image/png": "[encoded data removed]"
          },
          "metadata": {}
        }
      ]
    },
    {
      "cell_type": "markdown",
      "source": [
        "##CNN"
      ],
      "metadata": {
        "id": "365okRRs8g3m"
      }
    },
    {
      "cell_type": "code",
      "source": [],
      "metadata": {
        "id": "agDTWW3n8jI9"
      },
      "execution_count": null,
      "outputs": []
    }
  ]
}