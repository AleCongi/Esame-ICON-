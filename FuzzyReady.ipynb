{
  "cells": [
    {
      "cell_type": "markdown",
      "metadata": {
        "id": "view-in-github",
        "colab_type": "text"
      },
      "source": [
        "<a href=\"https://colab.research.google.com/github/AleCongi/Esame-ICON-/blob/main/FuzzyReady.ipynb\" target=\"_parent\"><img src=\"https://colab.research.google.com/assets/colab-badge.svg\" alt=\"Open In Colab\"/></a>"
      ]
    },
    {
      "cell_type": "markdown",
      "metadata": {
        "id": "g3GCD6NAFsy9"
      },
      "source": [
        "#Ingegneria della Conoscenza\n",
        "Università degli studi di Bari \"Aldo Moro\", Dipartimento di Informatica.\n",
        "\n",
        "Il seguente notebook è stato elaborato degli studenti:\n",
        "\n",
        "\n",
        "*   Congedo Alessandro (mat. 677315)\n",
        "*   Romano Andrea (mat. XXXXXX)"
      ]
    },
    {
      "cell_type": "markdown",
      "source": [
        "Il progetto che presentiamo è un esempio di come l'IA possa essere utilizzata per classificare eventi in base a descrizioni e categorie.\n",
        "\n",
        "---\n",
        "\n",
        "\n",
        "\n",
        "L'obiettivo di questo studio è quello di sviluppare un sistema di apprendimento automatico che sia in grado di rappresentare la conoscenza sia a basso livello che ad alto livello, garantendo una gestione d'incertezza.\n",
        "\n",
        "Il progetto è stato condotto nell'ottica di arricchire il precedente lavoro dei [**BroUsers**](https://www.instagram.com/bro__users) chiamato [**OneNight**](https://t.me/wannight_bot), un **bot Telegram** che raccoglie informazioni sugli eventi in una determinata zona geografica.\n",
        "\n",
        "---\n",
        "L'esigenza di una filtrazione ulteriore degli eventi mediante delle categorie prestabilite si configura come una nuova espansione del progetto.\n",
        "\n",
        "La passione che abbiamo per il nostro lavoro, sia quello sviluppato in passato che quello presentato, ci ha spinto a esplorare nuove soluzioni e a sviluppare un sistema che possa fornire un contributo significativo alla comunità."
      ],
      "metadata": {
        "id": "x8LtpLPlDwA8"
      }
    },
    {
      "cell_type": "markdown",
      "source": [
        "**Indice delle sezioni:**\n",
        "\n",
        "\n",
        "*   **A**: *CARICAMENTO E FIX DEL DATASET*\n",
        "  * **A1**: *PLOT DEL DATASET*\n",
        "*   **B**: *PREPROCESS DELLE DESCRIZIONI*\n",
        "  * **B1**: *FUNZIONI PREPROCESSING*\n",
        "  * **B2**: *PREPROCESSING*\n",
        "  * **B3**: *TOKENIZATION, SEQUENCING & PADDING*\n",
        "  * **B4**: *RAPPRESENTAZIONE DEL TESTO A BASSO LIVELLO*\n",
        "      * **B4.1** *ALTERNATIVA EMBEDDINGS VIA WORLD2VEC*\n",
        "      * **B4.2** *ALTERNATIVA FEATURE EXTRACTION VIA RETE NEURALE*\n",
        "      * **B4.3** *ALTERNATIVA VECTORIZATION VIA TERM FREQUENCY - INVERSE DOCUMENT FREQUENCY*\n",
        "*   **C**: *CLASSIFICAZIONE*\n",
        "*   **D**: *RETE NEURALE*\n",
        "*   **E**: *LOGICHE FUZZY*\n",
        "*   **F**: *RAPPRESENTAZIONE DELLA CONOSCENZA*\n",
        "  * **F1**: *ONTOLOGIA: WORDNET*\n",
        "  * **F2**: *RETE SEMANTICA*\n",
        "\n"
      ],
      "metadata": {
        "id": "FpZXgZjMIXdk"
      }
    },
    {
      "cell_type": "code",
      "execution_count": 98,
      "metadata": {
        "colab": {
          "base_uri": "https://localhost:8080/"
        },
        "id": "T8QNuY9K3Iy7",
        "outputId": "51400e1d-59f4-4708-f39f-ce5b3900dab8"
      },
      "outputs": [
        {
          "output_type": "stream",
          "name": "stdout",
          "text": [
            "Looking in indexes: https://pypi.org/simple, https://us-python.pkg.dev/colab-wheels/public/simple/\n",
            "Requirement already satisfied: nltk in /usr/local/lib/python3.8/dist-packages (3.7)\n",
            "Requirement already satisfied: tqdm in /usr/local/lib/python3.8/dist-packages (from nltk) (4.64.1)\n",
            "Requirement already satisfied: click in /usr/local/lib/python3.8/dist-packages (from nltk) (7.1.2)\n",
            "Requirement already satisfied: regex>=2021.8.3 in /usr/local/lib/python3.8/dist-packages (from nltk) (2022.6.2)\n",
            "Requirement already satisfied: joblib in /usr/local/lib/python3.8/dist-packages (from nltk) (1.2.0)\n",
            "Looking in indexes: https://pypi.org/simple, https://us-python.pkg.dev/colab-wheels/public/simple/\n",
            "Requirement already satisfied: scikit-multilearn in /usr/local/lib/python3.8/dist-packages (0.2.0)\n"
          ]
        }
      ],
      "source": [
        "!pip install nltk\n",
        "!pip install scikit-multilearn"
      ]
    },
    {
      "cell_type": "code",
      "execution_count": 99,
      "metadata": {
        "colab": {
          "base_uri": "https://localhost:8080/"
        },
        "id": "xUtfUST4Lhjw",
        "outputId": "2062a96a-5905-4bd2-bcb5-deb3100e5cc2"
      },
      "outputs": [
        {
          "output_type": "stream",
          "name": "stderr",
          "text": [
            "[nltk_data] Downloading package wordnet to /root/nltk_data...\n",
            "[nltk_data]   Package wordnet is already up-to-date!\n",
            "[nltk_data] Downloading package omw-1.4 to /root/nltk_data...\n",
            "[nltk_data]   Package omw-1.4 is already up-to-date!\n",
            "[nltk_data] Downloading package punkt to /root/nltk_data...\n",
            "[nltk_data]   Package punkt is already up-to-date!\n",
            "[nltk_data] Downloading package stopwords to /root/nltk_data...\n",
            "[nltk_data]   Package stopwords is already up-to-date!\n"
          ]
        },
        {
          "output_type": "stream",
          "name": "stdout",
          "text": [
            "Drive already mounted at /content/drive; to attempt to forcibly remount, call drive.mount(\"/content/drive\", force_remount=True).\n"
          ]
        }
      ],
      "source": [
        "import numpy as np\n",
        "from numpy.ma.core import outer\n",
        "import pandas as pd\n",
        "import seaborn as sns\n",
        "from re import sub as sub\n",
        "from sys import exit as exit\n",
        "import matplotlib.pyplot as plt\n",
        "import string\n",
        "\n",
        "import networkx as nx\n",
        "\n",
        "from sklearn.metrics.pairwise import cosine_similarity\n",
        "\n",
        "import sys\n",
        "\n",
        "from wordcloud import WordCloud\n",
        "\n",
        "from sklearn.metrics import pairwise_distances\n",
        "\n",
        "\n",
        "from nltk.corpus import wordnet as wn\n",
        "from nltk.corpus import stopwords\n",
        "from nltk.stem import WordNetLemmatizer\n",
        "from nltk import download as dl\n",
        "from nltk import word_tokenize as tkn\n",
        "\n",
        "\n",
        "from sklearn.model_selection import train_test_split, GridSearchCV\n",
        "from sklearn.feature_extraction.text import CountVectorizer,TfidfVectorizer\n",
        "from sklearn.cluster import KMeans, AffinityPropagation\n",
        "from sklearn.naive_bayes import GaussianNB,BernoulliNB,CategoricalNB\n",
        "from sklearn.linear_model import SGDClassifier\n",
        "from sklearn.neighbors import KNeighborsClassifier\n",
        "from sklearn.svm import SVC\n",
        "from sklearn.ensemble import RandomForestClassifier\n",
        "\n",
        "\n",
        "#Metrics\n",
        "from sklearn.metrics import accuracy_score, average_precision_score, f1_score, hamming_loss, label_ranking_average_precision_score, precision_recall_curve, recall_score, classification_report, r2_score\n",
        "\n",
        "#Multilable\n",
        "from skmultilearn.problem_transform import BinaryRelevance, LabelPowerset\n",
        "from skmultilearn.ensemble import RakelD, RakelO, LabelSpacePartitioningClassifier\n",
        "from skmultilearn.adapt import MLkNN\n",
        "\n",
        "dl('wordnet')\n",
        "dl('omw-1.4')\n",
        "dl('punkt')\n",
        "dl('stopwords')\n",
        "\n",
        "from google.colab import drive\n",
        "drive.mount('/content/drive', force_remount=False)"
      ]
    },
    {
      "cell_type": "markdown",
      "metadata": {
        "id": "eTz9oWxwFogj"
      },
      "source": [
        "##**A**: *CARICAMENTO E FIX DEL DATASET*"
      ]
    },
    {
      "cell_type": "code",
      "execution_count": 100,
      "metadata": {
        "colab": {
          "base_uri": "https://localhost:8080/",
          "height": 363
        },
        "id": "wkMIjegi3pzH",
        "outputId": "f43c99f3-eaf1-4b37-a160-fa2bca3875a0"
      },
      "outputs": [
        {
          "output_type": "execute_result",
          "data": {
            "text/plain": [
              "                 id  fun  food  culture  isOpen  isMusic  \\\n",
              "0  1000187186721956    1     0        1      -1        0   \n",
              "1  1007051849450711    0     0        0      -1        0   \n",
              "2   100731190460200    0     0        1      -1        1   \n",
              "3  1014507045355357    0     0        0      -1        1   \n",
              "4  1015563648832823    0     0        1      -1        1   \n",
              "5  1021806692027608    0     0        0      -1        1   \n",
              "6  1023358881203820    1     0        0      -1        0   \n",
              "7  1026307021482635    1     0        1      -1        0   \n",
              "8  1026761354178792    1     0        1      -1        0   \n",
              "9   103006560538403    0     1        1      -1        1   \n",
              "\n",
              "                                                text  \n",
              "0  Martedi 05 gennaio super tombolata al Barfly!\\...  \n",
              "1                                                NaN  \n",
              "2  Ingresso free senza obbligo di consumazione,se...  \n",
              "3  Giovedi 8 Marzo, Napulitanata \"celebra la donn...  \n",
              "4  yn e lieta di presentare\\n\\nNapoolyn x Resilie...  \n",
              "5  Serata live \\nVENERDI' 18 MARZO \\nUn piacevole...  \n",
              "6  Quest'anno in occasione di san Valentino il ri...  \n",
              "7              Menu adulti 30.00\\nMenu bambini 15.00  \n",
              "8              Menu adulti 30.00\\nMenu bambini 15.00  \n",
              "9  La 1 Esposizione dei disegni di DIPSTER accomp...  "
            ],
            "text/html": [
              "\n",
              "  <div id=\"df-1a44c8c0-8cc0-4c4f-9b8c-58129198cd0a\">\n",
              "    <div class=\"colab-df-container\">\n",
              "      <div>\n",
              "<style scoped>\n",
              "    .dataframe tbody tr th:only-of-type {\n",
              "        vertical-align: middle;\n",
              "    }\n",
              "\n",
              "    .dataframe tbody tr th {\n",
              "        vertical-align: top;\n",
              "    }\n",
              "\n",
              "    .dataframe thead th {\n",
              "        text-align: right;\n",
              "    }\n",
              "</style>\n",
              "<table border=\"1\" class=\"dataframe\">\n",
              "  <thead>\n",
              "    <tr style=\"text-align: right;\">\n",
              "      <th></th>\n",
              "      <th>id</th>\n",
              "      <th>fun</th>\n",
              "      <th>food</th>\n",
              "      <th>culture</th>\n",
              "      <th>isOpen</th>\n",
              "      <th>isMusic</th>\n",
              "      <th>text</th>\n",
              "    </tr>\n",
              "  </thead>\n",
              "  <tbody>\n",
              "    <tr>\n",
              "      <th>0</th>\n",
              "      <td>1000187186721956</td>\n",
              "      <td>1</td>\n",
              "      <td>0</td>\n",
              "      <td>1</td>\n",
              "      <td>-1</td>\n",
              "      <td>0</td>\n",
              "      <td>Martedi 05 gennaio super tombolata al Barfly!\\...</td>\n",
              "    </tr>\n",
              "    <tr>\n",
              "      <th>1</th>\n",
              "      <td>1007051849450711</td>\n",
              "      <td>0</td>\n",
              "      <td>0</td>\n",
              "      <td>0</td>\n",
              "      <td>-1</td>\n",
              "      <td>0</td>\n",
              "      <td>NaN</td>\n",
              "    </tr>\n",
              "    <tr>\n",
              "      <th>2</th>\n",
              "      <td>100731190460200</td>\n",
              "      <td>0</td>\n",
              "      <td>0</td>\n",
              "      <td>1</td>\n",
              "      <td>-1</td>\n",
              "      <td>1</td>\n",
              "      <td>Ingresso free senza obbligo di consumazione,se...</td>\n",
              "    </tr>\n",
              "    <tr>\n",
              "      <th>3</th>\n",
              "      <td>1014507045355357</td>\n",
              "      <td>0</td>\n",
              "      <td>0</td>\n",
              "      <td>0</td>\n",
              "      <td>-1</td>\n",
              "      <td>1</td>\n",
              "      <td>Giovedi 8 Marzo, Napulitanata \"celebra la donn...</td>\n",
              "    </tr>\n",
              "    <tr>\n",
              "      <th>4</th>\n",
              "      <td>1015563648832823</td>\n",
              "      <td>0</td>\n",
              "      <td>0</td>\n",
              "      <td>1</td>\n",
              "      <td>-1</td>\n",
              "      <td>1</td>\n",
              "      <td>yn e lieta di presentare\\n\\nNapoolyn x Resilie...</td>\n",
              "    </tr>\n",
              "    <tr>\n",
              "      <th>5</th>\n",
              "      <td>1021806692027608</td>\n",
              "      <td>0</td>\n",
              "      <td>0</td>\n",
              "      <td>0</td>\n",
              "      <td>-1</td>\n",
              "      <td>1</td>\n",
              "      <td>Serata live \\nVENERDI' 18 MARZO \\nUn piacevole...</td>\n",
              "    </tr>\n",
              "    <tr>\n",
              "      <th>6</th>\n",
              "      <td>1023358881203820</td>\n",
              "      <td>1</td>\n",
              "      <td>0</td>\n",
              "      <td>0</td>\n",
              "      <td>-1</td>\n",
              "      <td>0</td>\n",
              "      <td>Quest'anno in occasione di san Valentino il ri...</td>\n",
              "    </tr>\n",
              "    <tr>\n",
              "      <th>7</th>\n",
              "      <td>1026307021482635</td>\n",
              "      <td>1</td>\n",
              "      <td>0</td>\n",
              "      <td>1</td>\n",
              "      <td>-1</td>\n",
              "      <td>0</td>\n",
              "      <td>Menu adulti 30.00\\nMenu bambini 15.00</td>\n",
              "    </tr>\n",
              "    <tr>\n",
              "      <th>8</th>\n",
              "      <td>1026761354178792</td>\n",
              "      <td>1</td>\n",
              "      <td>0</td>\n",
              "      <td>1</td>\n",
              "      <td>-1</td>\n",
              "      <td>0</td>\n",
              "      <td>Menu adulti 30.00\\nMenu bambini 15.00</td>\n",
              "    </tr>\n",
              "    <tr>\n",
              "      <th>9</th>\n",
              "      <td>103006560538403</td>\n",
              "      <td>0</td>\n",
              "      <td>1</td>\n",
              "      <td>1</td>\n",
              "      <td>-1</td>\n",
              "      <td>1</td>\n",
              "      <td>La 1 Esposizione dei disegni di DIPSTER accomp...</td>\n",
              "    </tr>\n",
              "  </tbody>\n",
              "</table>\n",
              "</div>\n",
              "      <button class=\"colab-df-convert\" onclick=\"convertToInteractive('df-1a44c8c0-8cc0-4c4f-9b8c-58129198cd0a')\"\n",
              "              title=\"Convert this dataframe to an interactive table.\"\n",
              "              style=\"display:none;\">\n",
              "        \n",
              "  <svg xmlns=\"http://www.w3.org/2000/svg\" height=\"24px\"viewBox=\"0 0 24 24\"\n",
              "       width=\"24px\">\n",
              "    <path d=\"M0 0h24v24H0V0z\" fill=\"none\"/>\n",
              "    <path d=\"M18.56 5.44l.94 2.06.94-2.06 2.06-.94-2.06-.94-.94-2.06-.94 2.06-2.06.94zm-11 1L8.5 8.5l.94-2.06 2.06-.94-2.06-.94L8.5 2.5l-.94 2.06-2.06.94zm10 10l.94 2.06.94-2.06 2.06-.94-2.06-.94-.94-2.06-.94 2.06-2.06.94z\"/><path d=\"M17.41 7.96l-1.37-1.37c-.4-.4-.92-.59-1.43-.59-.52 0-1.04.2-1.43.59L10.3 9.45l-7.72 7.72c-.78.78-.78 2.05 0 2.83L4 21.41c.39.39.9.59 1.41.59.51 0 1.02-.2 1.41-.59l7.78-7.78 2.81-2.81c.8-.78.8-2.07 0-2.86zM5.41 20L4 18.59l7.72-7.72 1.47 1.35L5.41 20z\"/>\n",
              "  </svg>\n",
              "      </button>\n",
              "      \n",
              "  <style>\n",
              "    .colab-df-container {\n",
              "      display:flex;\n",
              "      flex-wrap:wrap;\n",
              "      gap: 12px;\n",
              "    }\n",
              "\n",
              "    .colab-df-convert {\n",
              "      background-color: #E8F0FE;\n",
              "      border: none;\n",
              "      border-radius: 50%;\n",
              "      cursor: pointer;\n",
              "      display: none;\n",
              "      fill: #1967D2;\n",
              "      height: 32px;\n",
              "      padding: 0 0 0 0;\n",
              "      width: 32px;\n",
              "    }\n",
              "\n",
              "    .colab-df-convert:hover {\n",
              "      background-color: #E2EBFA;\n",
              "      box-shadow: 0px 1px 2px rgba(60, 64, 67, 0.3), 0px 1px 3px 1px rgba(60, 64, 67, 0.15);\n",
              "      fill: #174EA6;\n",
              "    }\n",
              "\n",
              "    [theme=dark] .colab-df-convert {\n",
              "      background-color: #3B4455;\n",
              "      fill: #D2E3FC;\n",
              "    }\n",
              "\n",
              "    [theme=dark] .colab-df-convert:hover {\n",
              "      background-color: #434B5C;\n",
              "      box-shadow: 0px 1px 3px 1px rgba(0, 0, 0, 0.15);\n",
              "      filter: drop-shadow(0px 1px 2px rgba(0, 0, 0, 0.3));\n",
              "      fill: #FFFFFF;\n",
              "    }\n",
              "  </style>\n",
              "\n",
              "      <script>\n",
              "        const buttonEl =\n",
              "          document.querySelector('#df-1a44c8c0-8cc0-4c4f-9b8c-58129198cd0a button.colab-df-convert');\n",
              "        buttonEl.style.display =\n",
              "          google.colab.kernel.accessAllowed ? 'block' : 'none';\n",
              "\n",
              "        async function convertToInteractive(key) {\n",
              "          const element = document.querySelector('#df-1a44c8c0-8cc0-4c4f-9b8c-58129198cd0a');\n",
              "          const dataTable =\n",
              "            await google.colab.kernel.invokeFunction('convertToInteractive',\n",
              "                                                     [key], {});\n",
              "          if (!dataTable) return;\n",
              "\n",
              "          const docLinkHtml = 'Like what you see? Visit the ' +\n",
              "            '<a target=\"_blank\" href=https://colab.research.google.com/notebooks/data_table.ipynb>data table notebook</a>'\n",
              "            + ' to learn more about interactive tables.';\n",
              "          element.innerHTML = '';\n",
              "          dataTable['output_type'] = 'display_data';\n",
              "          await google.colab.output.renderOutput(dataTable, element);\n",
              "          const docLink = document.createElement('div');\n",
              "          docLink.innerHTML = docLinkHtml;\n",
              "          element.appendChild(docLink);\n",
              "        }\n",
              "      </script>\n",
              "    </div>\n",
              "  </div>\n",
              "  "
            ]
          },
          "metadata": {},
          "execution_count": 100
        }
      ],
      "source": [
        "tot=pd.read_csv('/content/drive/MyDrive/Colab Notebooks/eventsFixed.csv')\n",
        "\n",
        "tot.head(10)"
      ]
    },
    {
      "cell_type": "code",
      "execution_count": 101,
      "metadata": {
        "colab": {
          "base_uri": "https://localhost:8080/"
        },
        "id": "hhs99Yrh5J99",
        "outputId": "44fc9b55-db1f-401d-bec4-19301cb613bf"
      },
      "outputs": [
        {
          "output_type": "execute_result",
          "data": {
            "text/plain": [
              "id         7688\n",
              "fun        7688\n",
              "food       7688\n",
              "culture    7688\n",
              "isOpen     7688\n",
              "isMusic    7688\n",
              "text       7170\n",
              "dtype: int64"
            ]
          },
          "metadata": {},
          "execution_count": 101
        }
      ],
      "source": [
        "tot.count()"
      ]
    },
    {
      "cell_type": "markdown",
      "metadata": {
        "id": "hj30YqWGCDRu"
      },
      "source": [
        "È chiaro che ci siano dei testi nulli. È possibile che siano eventi senza descrizione. Me ne accerto:"
      ]
    },
    {
      "cell_type": "code",
      "execution_count": 102,
      "metadata": {
        "colab": {
          "base_uri": "https://localhost:8080/",
          "height": 287
        },
        "id": "CudRXskiAW-5",
        "outputId": "c52a8217-45c0-4687-f5c2-44ef31927c53"
      },
      "outputs": [
        {
          "output_type": "execute_result",
          "data": {
            "text/plain": [
              "<matplotlib.axes._subplots.AxesSubplot at 0x7f4d17d413a0>"
            ]
          },
          "metadata": {},
          "execution_count": 102
        },
        {
          "output_type": "display_data",
          "data": {
            "text/plain": [
              "<Figure size 432x288 with 1 Axes>"
            ],
            "image/png": "[encoded data removed]"
          },
          "metadata": {
            "needs_background": "light"
          }
        }
      ],
      "source": [
        "sns.heatmap(tot.isna(), cbar=False)"
      ]
    },
    {
      "cell_type": "markdown",
      "metadata": {
        "id": "Gh0B9OgaCTmg"
      },
      "source": [
        "Sapendo che \"id\" è la nostra colonna primaria, controllo che il numero di valori unici nella colonna primaria sia uguale al numero di righe. Questo mi permette di accertarmi di non avere la stessa riga per più di una volta nel mio dataset."
      ]
    },
    {
      "cell_type": "code",
      "execution_count": 103,
      "metadata": {
        "colab": {
          "base_uri": "https://localhost:8080/"
        },
        "id": "jqzIa_MkB9Ma",
        "outputId": "abe71af0-8d69-4879-8cf3-9372d257b1ff"
      },
      "outputs": [
        {
          "output_type": "execute_result",
          "data": {
            "text/plain": [
              "False"
            ]
          },
          "metadata": {},
          "execution_count": 103
        }
      ],
      "source": [
        "tot['id'].nunique() == len(tot['id'])"
      ]
    },
    {
      "cell_type": "code",
      "execution_count": 104,
      "metadata": {
        "id": "-MwpT4sA8W8t"
      },
      "outputs": [],
      "source": [
        "tot = tot.drop_duplicates(subset=\"id\", keep='last')\n",
        "tot = tot.drop_duplicates(subset=\"text\", keep='last')\n",
        "\n",
        "for index, row in tot.iterrows():  \n",
        "  try:\n",
        "    trashId = row['id']\n",
        "    trash = row['text'].lower()\n",
        "  except AttributeError as ae:\n",
        "    tot.drop(tot[tot['id'] == trashId].index, inplace=True)\n"
      ]
    },
    {
      "cell_type": "code",
      "execution_count": 105,
      "metadata": {
        "colab": {
          "base_uri": "https://localhost:8080/"
        },
        "id": "2cl7KnrbBuBZ",
        "outputId": "4847f4e1-7de3-41a8-e636-0a32310c77de"
      },
      "outputs": [
        {
          "output_type": "execute_result",
          "data": {
            "text/plain": [
              "True"
            ]
          },
          "metadata": {},
          "execution_count": 105
        }
      ],
      "source": [
        "tot['id'].nunique() == len(tot['id'])"
      ]
    },
    {
      "cell_type": "code",
      "execution_count": 106,
      "metadata": {
        "colab": {
          "base_uri": "https://localhost:8080/",
          "height": 424
        },
        "id": "V-9T-F_2B2GM",
        "outputId": "4ee8152b-506d-4d69-9d8a-968c07e21bcd"
      },
      "outputs": [
        {
          "output_type": "execute_result",
          "data": {
            "text/plain": [
              "                    id  fun  food  culture  isMusic  \\\n",
              "0     1000187186721956    1     0        1        0   \n",
              "1      100731190460200    0     0        1        1   \n",
              "2     1014507045355357    0     0        0        1   \n",
              "3     1015563648832823    0     0        1        1   \n",
              "4     1021806692027608    0     0        0        1   \n",
              "...                ...  ...   ...      ...      ...   \n",
              "6322   996956944037551    0     0        0        1   \n",
              "6323   997255064998935    0     1        0        0   \n",
              "6324   997824980996408    0     1        1        1   \n",
              "6325   998364400508276    0     0        1        0   \n",
              "6326   998894123521159    0     1        0        0   \n",
              "\n",
              "                                                   text  \n",
              "0     Martedi 05 gennaio super tombolata al Barfly!\\...  \n",
              "1     Ingresso free senza obbligo di consumazione,se...  \n",
              "2     Giovedi 8 Marzo, Napulitanata \"celebra la donn...  \n",
              "3     yn e lieta di presentare\\n\\nNapoolyn x Resilie...  \n",
              "4     Serata live \\nVENERDI' 18 MARZO \\nUn piacevole...  \n",
              "...                                                 ...  \n",
              "6322  Hot Club Roma Trio\\n\\nMoreno Viglione chitarra...  \n",
              "6323  Presentazione del libro:\\n \"Tasmania\" (Einaudi...  \n",
              "6324  In occasione delle GIORNATE EUROPEE DEL PATRIM...  \n",
              "6325  Vieni a Danzare gratuitamente per un giorno co...  \n",
              "6326  Il convegno, in linea col precedente Leducazio...  \n",
              "\n",
              "[6327 rows x 6 columns]"
            ],
            "text/html": [
              "\n",
              "  <div id=\"df-69edef85-0387-466d-a6b0-eaf2e6331939\">\n",
              "    <div class=\"colab-df-container\">\n",
              "      <div>\n",
              "<style scoped>\n",
              "    .dataframe tbody tr th:only-of-type {\n",
              "        vertical-align: middle;\n",
              "    }\n",
              "\n",
              "    .dataframe tbody tr th {\n",
              "        vertical-align: top;\n",
              "    }\n",
              "\n",
              "    .dataframe thead th {\n",
              "        text-align: right;\n",
              "    }\n",
              "</style>\n",
              "<table border=\"1\" class=\"dataframe\">\n",
              "  <thead>\n",
              "    <tr style=\"text-align: right;\">\n",
              "      <th></th>\n",
              "      <th>id</th>\n",
              "      <th>fun</th>\n",
              "      <th>food</th>\n",
              "      <th>culture</th>\n",
              "      <th>isMusic</th>\n",
              "      <th>text</th>\n",
              "    </tr>\n",
              "  </thead>\n",
              "  <tbody>\n",
              "    <tr>\n",
              "      <th>0</th>\n",
              "      <td>1000187186721956</td>\n",
              "      <td>1</td>\n",
              "      <td>0</td>\n",
              "      <td>1</td>\n",
              "      <td>0</td>\n",
              "      <td>Martedi 05 gennaio super tombolata al Barfly!\\...</td>\n",
              "    </tr>\n",
              "    <tr>\n",
              "      <th>1</th>\n",
              "      <td>100731190460200</td>\n",
              "      <td>0</td>\n",
              "      <td>0</td>\n",
              "      <td>1</td>\n",
              "      <td>1</td>\n",
              "      <td>Ingresso free senza obbligo di consumazione,se...</td>\n",
              "    </tr>\n",
              "    <tr>\n",
              "      <th>2</th>\n",
              "      <td>1014507045355357</td>\n",
              "      <td>0</td>\n",
              "      <td>0</td>\n",
              "      <td>0</td>\n",
              "      <td>1</td>\n",
              "      <td>Giovedi 8 Marzo, Napulitanata \"celebra la donn...</td>\n",
              "    </tr>\n",
              "    <tr>\n",
              "      <th>3</th>\n",
              "      <td>1015563648832823</td>\n",
              "      <td>0</td>\n",
              "      <td>0</td>\n",
              "      <td>1</td>\n",
              "      <td>1</td>\n",
              "      <td>yn e lieta di presentare\\n\\nNapoolyn x Resilie...</td>\n",
              "    </tr>\n",
              "    <tr>\n",
              "      <th>4</th>\n",
              "      <td>1021806692027608</td>\n",
              "      <td>0</td>\n",
              "      <td>0</td>\n",
              "      <td>0</td>\n",
              "      <td>1</td>\n",
              "      <td>Serata live \\nVENERDI' 18 MARZO \\nUn piacevole...</td>\n",
              "    </tr>\n",
              "    <tr>\n",
              "      <th>...</th>\n",
              "      <td>...</td>\n",
              "      <td>...</td>\n",
              "      <td>...</td>\n",
              "      <td>...</td>\n",
              "      <td>...</td>\n",
              "      <td>...</td>\n",
              "    </tr>\n",
              "    <tr>\n",
              "      <th>6322</th>\n",
              "      <td>996956944037551</td>\n",
              "      <td>0</td>\n",
              "      <td>0</td>\n",
              "      <td>0</td>\n",
              "      <td>1</td>\n",
              "      <td>Hot Club Roma Trio\\n\\nMoreno Viglione chitarra...</td>\n",
              "    </tr>\n",
              "    <tr>\n",
              "      <th>6323</th>\n",
              "      <td>997255064998935</td>\n",
              "      <td>0</td>\n",
              "      <td>1</td>\n",
              "      <td>0</td>\n",
              "      <td>0</td>\n",
              "      <td>Presentazione del libro:\\n \"Tasmania\" (Einaudi...</td>\n",
              "    </tr>\n",
              "    <tr>\n",
              "      <th>6324</th>\n",
              "      <td>997824980996408</td>\n",
              "      <td>0</td>\n",
              "      <td>1</td>\n",
              "      <td>1</td>\n",
              "      <td>1</td>\n",
              "      <td>In occasione delle GIORNATE EUROPEE DEL PATRIM...</td>\n",
              "    </tr>\n",
              "    <tr>\n",
              "      <th>6325</th>\n",
              "      <td>998364400508276</td>\n",
              "      <td>0</td>\n",
              "      <td>0</td>\n",
              "      <td>1</td>\n",
              "      <td>0</td>\n",
              "      <td>Vieni a Danzare gratuitamente per un giorno co...</td>\n",
              "    </tr>\n",
              "    <tr>\n",
              "      <th>6326</th>\n",
              "      <td>998894123521159</td>\n",
              "      <td>0</td>\n",
              "      <td>1</td>\n",
              "      <td>0</td>\n",
              "      <td>0</td>\n",
              "      <td>Il convegno, in linea col precedente Leducazio...</td>\n",
              "    </tr>\n",
              "  </tbody>\n",
              "</table>\n",
              "<p>6327 rows × 6 columns</p>\n",
              "</div>\n",
              "      <button class=\"colab-df-convert\" onclick=\"convertToInteractive('df-69edef85-0387-466d-a6b0-eaf2e6331939')\"\n",
              "              title=\"Convert this dataframe to an interactive table.\"\n",
              "              style=\"display:none;\">\n",
              "        \n",
              "  <svg xmlns=\"http://www.w3.org/2000/svg\" height=\"24px\"viewBox=\"0 0 24 24\"\n",
              "       width=\"24px\">\n",
              "    <path d=\"M0 0h24v24H0V0z\" fill=\"none\"/>\n",
              "    <path d=\"M18.56 5.44l.94 2.06.94-2.06 2.06-.94-2.06-.94-.94-2.06-.94 2.06-2.06.94zm-11 1L8.5 8.5l.94-2.06 2.06-.94-2.06-.94L8.5 2.5l-.94 2.06-2.06.94zm10 10l.94 2.06.94-2.06 2.06-.94-2.06-.94-.94-2.06-.94 2.06-2.06.94z\"/><path d=\"M17.41 7.96l-1.37-1.37c-.4-.4-.92-.59-1.43-.59-.52 0-1.04.2-1.43.59L10.3 9.45l-7.72 7.72c-.78.78-.78 2.05 0 2.83L4 21.41c.39.39.9.59 1.41.59.51 0 1.02-.2 1.41-.59l7.78-7.78 2.81-2.81c.8-.78.8-2.07 0-2.86zM5.41 20L4 18.59l7.72-7.72 1.47 1.35L5.41 20z\"/>\n",
              "  </svg>\n",
              "      </button>\n",
              "      \n",
              "  <style>\n",
              "    .colab-df-container {\n",
              "      display:flex;\n",
              "      flex-wrap:wrap;\n",
              "      gap: 12px;\n",
              "    }\n",
              "\n",
              "    .colab-df-convert {\n",
              "      background-color: #E8F0FE;\n",
              "      border: none;\n",
              "      border-radius: 50%;\n",
              "      cursor: pointer;\n",
              "      display: none;\n",
              "      fill: #1967D2;\n",
              "      height: 32px;\n",
              "      padding: 0 0 0 0;\n",
              "      width: 32px;\n",
              "    }\n",
              "\n",
              "    .colab-df-convert:hover {\n",
              "      background-color: #E2EBFA;\n",
              "      box-shadow: 0px 1px 2px rgba(60, 64, 67, 0.3), 0px 1px 3px 1px rgba(60, 64, 67, 0.15);\n",
              "      fill: #174EA6;\n",
              "    }\n",
              "\n",
              "    [theme=dark] .colab-df-convert {\n",
              "      background-color: #3B4455;\n",
              "      fill: #D2E3FC;\n",
              "    }\n",
              "\n",
              "    [theme=dark] .colab-df-convert:hover {\n",
              "      background-color: #434B5C;\n",
              "      box-shadow: 0px 1px 3px 1px rgba(0, 0, 0, 0.15);\n",
              "      filter: drop-shadow(0px 1px 2px rgba(0, 0, 0, 0.3));\n",
              "      fill: #FFFFFF;\n",
              "    }\n",
              "  </style>\n",
              "\n",
              "      <script>\n",
              "        const buttonEl =\n",
              "          document.querySelector('#df-69edef85-0387-466d-a6b0-eaf2e6331939 button.colab-df-convert');\n",
              "        buttonEl.style.display =\n",
              "          google.colab.kernel.accessAllowed ? 'block' : 'none';\n",
              "\n",
              "        async function convertToInteractive(key) {\n",
              "          const element = document.querySelector('#df-69edef85-0387-466d-a6b0-eaf2e6331939');\n",
              "          const dataTable =\n",
              "            await google.colab.kernel.invokeFunction('convertToInteractive',\n",
              "                                                     [key], {});\n",
              "          if (!dataTable) return;\n",
              "\n",
              "          const docLinkHtml = 'Like what you see? Visit the ' +\n",
              "            '<a target=\"_blank\" href=https://colab.research.google.com/notebooks/data_table.ipynb>data table notebook</a>'\n",
              "            + ' to learn more about interactive tables.';\n",
              "          element.innerHTML = '';\n",
              "          dataTable['output_type'] = 'display_data';\n",
              "          await google.colab.output.renderOutput(dataTable, element);\n",
              "          const docLink = document.createElement('div');\n",
              "          docLink.innerHTML = docLinkHtml;\n",
              "          element.appendChild(docLink);\n",
              "        }\n",
              "      </script>\n",
              "    </div>\n",
              "  </div>\n",
              "  "
            ]
          },
          "metadata": {},
          "execution_count": 106
        }
      ],
      "source": [
        "tot.drop('isOpen',inplace=True,axis=1)\n"
      ]
    },
    {
      "cell_type": "code",
      "source": [
        "tot=tot.reset_index(drop=True)"
      ],
      "metadata": {
        "id": "d0bI7Sh4cazY"
      },
      "execution_count": 149,
      "outputs": []
    },
    {
      "cell_type": "code",
      "execution_count": 107,
      "metadata": {
        "colab": {
          "base_uri": "https://localhost:8080/"
        },
        "id": "ptB1Oeqf8ffG",
        "outputId": "68fc9abe-5556-411a-c4c7-068577432f6f"
      },
      "outputs": [
        {
          "output_type": "execute_result",
          "data": {
            "text/plain": [
              "id         6327\n",
              "fun        6327\n",
              "food       6327\n",
              "culture    6327\n",
              "isMusic    6327\n",
              "text       6327\n",
              "dtype: int64"
            ]
          },
          "metadata": {},
          "execution_count": 107
        }
      ],
      "source": [
        "tot.count()"
      ]
    },
    {
      "cell_type": "code",
      "execution_count": 108,
      "metadata": {
        "colab": {
          "base_uri": "https://localhost:8080/"
        },
        "id": "7bU-Mv6Wx2GA",
        "outputId": "835e0ff2-e3cd-4b65-a771-68e0ac6b0152"
      },
      "outputs": [
        {
          "output_type": "stream",
          "name": "stdout",
          "text": [
            "GIOVEDi 26 MAGGIO 2016 // 'NAPERITIVO IN OFFICINA...\n",
            "Una serata speciale al borgo marinaro con mini fish burger, prosecco e dj set live. Ti aspettiamo!\n",
            "INFO t. 081 19353543\n",
            "0\n",
            "1\n",
            "0\n",
            "1\n"
          ]
        }
      ],
      "source": [
        "print(tot['text'][200])\n",
        "print(tot['food'][200])\n",
        "print(tot['fun'][200])\n",
        "print(tot['isMusic'][200])\n",
        "print(tot['culture'][200])"
      ]
    },
    {
      "cell_type": "markdown",
      "metadata": {
        "id": "DwY_Pz15v7Dp"
      },
      "source": [
        "###**A1**: *PLOT DEL DATASET*"
      ]
    },
    {
      "cell_type": "markdown",
      "metadata": {
        "id": "dvJ9Lm8aweaN"
      },
      "source": [
        "Ecco i primi elementi del dataset."
      ]
    },
    {
      "cell_type": "code",
      "execution_count": 109,
      "metadata": {
        "colab": {
          "base_uri": "https://localhost:8080/",
          "height": 0
        },
        "id": "LY8K8O1KwXSZ",
        "outputId": "84b4daf9-b88d-4aa4-cd39-08ffb61ea4d9"
      },
      "outputs": [
        {
          "output_type": "execute_result",
          "data": {
            "text/plain": [
              "                 id  fun  food  culture  isMusic  \\\n",
              "0  1000187186721956    1     0        1        0   \n",
              "2   100731190460200    0     0        1        1   \n",
              "3  1014507045355357    0     0        0        1   \n",
              "4  1015563648832823    0     0        1        1   \n",
              "5  1021806692027608    0     0        0        1   \n",
              "\n",
              "                                                text  \n",
              "0  Martedi 05 gennaio super tombolata al Barfly!\\...  \n",
              "2  Ingresso free senza obbligo di consumazione,se...  \n",
              "3  Giovedi 8 Marzo, Napulitanata \"celebra la donn...  \n",
              "4  yn e lieta di presentare\\n\\nNapoolyn x Resilie...  \n",
              "5  Serata live \\nVENERDI' 18 MARZO \\nUn piacevole...  "
            ],
            "text/html": [
              "\n",
              "  <div id=\"df-67bda36d-7dfb-44c4-8094-8e6ac70a12a4\">\n",
              "    <div class=\"colab-df-container\">\n",
              "      <div>\n",
              "<style scoped>\n",
              "    .dataframe tbody tr th:only-of-type {\n",
              "        vertical-align: middle;\n",
              "    }\n",
              "\n",
              "    .dataframe tbody tr th {\n",
              "        vertical-align: top;\n",
              "    }\n",
              "\n",
              "    .dataframe thead th {\n",
              "        text-align: right;\n",
              "    }\n",
              "</style>\n",
              "<table border=\"1\" class=\"dataframe\">\n",
              "  <thead>\n",
              "    <tr style=\"text-align: right;\">\n",
              "      <th></th>\n",
              "      <th>id</th>\n",
              "      <th>fun</th>\n",
              "      <th>food</th>\n",
              "      <th>culture</th>\n",
              "      <th>isMusic</th>\n",
              "      <th>text</th>\n",
              "    </tr>\n",
              "  </thead>\n",
              "  <tbody>\n",
              "    <tr>\n",
              "      <th>0</th>\n",
              "      <td>1000187186721956</td>\n",
              "      <td>1</td>\n",
              "      <td>0</td>\n",
              "      <td>1</td>\n",
              "      <td>0</td>\n",
              "      <td>Martedi 05 gennaio super tombolata al Barfly!\\...</td>\n",
              "    </tr>\n",
              "    <tr>\n",
              "      <th>2</th>\n",
              "      <td>100731190460200</td>\n",
              "      <td>0</td>\n",
              "      <td>0</td>\n",
              "      <td>1</td>\n",
              "      <td>1</td>\n",
              "      <td>Ingresso free senza obbligo di consumazione,se...</td>\n",
              "    </tr>\n",
              "    <tr>\n",
              "      <th>3</th>\n",
              "      <td>1014507045355357</td>\n",
              "      <td>0</td>\n",
              "      <td>0</td>\n",
              "      <td>0</td>\n",
              "      <td>1</td>\n",
              "      <td>Giovedi 8 Marzo, Napulitanata \"celebra la donn...</td>\n",
              "    </tr>\n",
              "    <tr>\n",
              "      <th>4</th>\n",
              "      <td>1015563648832823</td>\n",
              "      <td>0</td>\n",
              "      <td>0</td>\n",
              "      <td>1</td>\n",
              "      <td>1</td>\n",
              "      <td>yn e lieta di presentare\\n\\nNapoolyn x Resilie...</td>\n",
              "    </tr>\n",
              "    <tr>\n",
              "      <th>5</th>\n",
              "      <td>1021806692027608</td>\n",
              "      <td>0</td>\n",
              "      <td>0</td>\n",
              "      <td>0</td>\n",
              "      <td>1</td>\n",
              "      <td>Serata live \\nVENERDI' 18 MARZO \\nUn piacevole...</td>\n",
              "    </tr>\n",
              "  </tbody>\n",
              "</table>\n",
              "</div>\n",
              "      <button class=\"colab-df-convert\" onclick=\"convertToInteractive('df-67bda36d-7dfb-44c4-8094-8e6ac70a12a4')\"\n",
              "              title=\"Convert this dataframe to an interactive table.\"\n",
              "              style=\"display:none;\">\n",
              "        \n",
              "  <svg xmlns=\"http://www.w3.org/2000/svg\" height=\"24px\"viewBox=\"0 0 24 24\"\n",
              "       width=\"24px\">\n",
              "    <path d=\"M0 0h24v24H0V0z\" fill=\"none\"/>\n",
              "    <path d=\"M18.56 5.44l.94 2.06.94-2.06 2.06-.94-2.06-.94-.94-2.06-.94 2.06-2.06.94zm-11 1L8.5 8.5l.94-2.06 2.06-.94-2.06-.94L8.5 2.5l-.94 2.06-2.06.94zm10 10l.94 2.06.94-2.06 2.06-.94-2.06-.94-.94-2.06-.94 2.06-2.06.94z\"/><path d=\"M17.41 7.96l-1.37-1.37c-.4-.4-.92-.59-1.43-.59-.52 0-1.04.2-1.43.59L10.3 9.45l-7.72 7.72c-.78.78-.78 2.05 0 2.83L4 21.41c.39.39.9.59 1.41.59.51 0 1.02-.2 1.41-.59l7.78-7.78 2.81-2.81c.8-.78.8-2.07 0-2.86zM5.41 20L4 18.59l7.72-7.72 1.47 1.35L5.41 20z\"/>\n",
              "  </svg>\n",
              "      </button>\n",
              "      \n",
              "  <style>\n",
              "    .colab-df-container {\n",
              "      display:flex;\n",
              "      flex-wrap:wrap;\n",
              "      gap: 12px;\n",
              "    }\n",
              "\n",
              "    .colab-df-convert {\n",
              "      background-color: #E8F0FE;\n",
              "      border: none;\n",
              "      border-radius: 50%;\n",
              "      cursor: pointer;\n",
              "      display: none;\n",
              "      fill: #1967D2;\n",
              "      height: 32px;\n",
              "      padding: 0 0 0 0;\n",
              "      width: 32px;\n",
              "    }\n",
              "\n",
              "    .colab-df-convert:hover {\n",
              "      background-color: #E2EBFA;\n",
              "      box-shadow: 0px 1px 2px rgba(60, 64, 67, 0.3), 0px 1px 3px 1px rgba(60, 64, 67, 0.15);\n",
              "      fill: #174EA6;\n",
              "    }\n",
              "\n",
              "    [theme=dark] .colab-df-convert {\n",
              "      background-color: #3B4455;\n",
              "      fill: #D2E3FC;\n",
              "    }\n",
              "\n",
              "    [theme=dark] .colab-df-convert:hover {\n",
              "      background-color: #434B5C;\n",
              "      box-shadow: 0px 1px 3px 1px rgba(0, 0, 0, 0.15);\n",
              "      filter: drop-shadow(0px 1px 2px rgba(0, 0, 0, 0.3));\n",
              "      fill: #FFFFFF;\n",
              "    }\n",
              "  </style>\n",
              "\n",
              "      <script>\n",
              "        const buttonEl =\n",
              "          document.querySelector('#df-67bda36d-7dfb-44c4-8094-8e6ac70a12a4 button.colab-df-convert');\n",
              "        buttonEl.style.display =\n",
              "          google.colab.kernel.accessAllowed ? 'block' : 'none';\n",
              "\n",
              "        async function convertToInteractive(key) {\n",
              "          const element = document.querySelector('#df-67bda36d-7dfb-44c4-8094-8e6ac70a12a4');\n",
              "          const dataTable =\n",
              "            await google.colab.kernel.invokeFunction('convertToInteractive',\n",
              "                                                     [key], {});\n",
              "          if (!dataTable) return;\n",
              "\n",
              "          const docLinkHtml = 'Like what you see? Visit the ' +\n",
              "            '<a target=\"_blank\" href=https://colab.research.google.com/notebooks/data_table.ipynb>data table notebook</a>'\n",
              "            + ' to learn more about interactive tables.';\n",
              "          element.innerHTML = '';\n",
              "          dataTable['output_type'] = 'display_data';\n",
              "          await google.colab.output.renderOutput(dataTable, element);\n",
              "          const docLink = document.createElement('div');\n",
              "          docLink.innerHTML = docLinkHtml;\n",
              "          element.appendChild(docLink);\n",
              "        }\n",
              "      </script>\n",
              "    </div>\n",
              "  </div>\n",
              "  "
            ]
          },
          "metadata": {},
          "execution_count": 109
        }
      ],
      "source": [
        "tot.head()"
      ]
    },
    {
      "cell_type": "code",
      "execution_count": 110,
      "metadata": {
        "colab": {
          "base_uri": "https://localhost:8080/"
        },
        "id": "DUBObwy6w4FS",
        "outputId": "ebe30e6d-cbdb-4cff-8ef5-3bb65c25bc2a"
      },
      "outputs": [
        {
          "output_type": "execute_result",
          "data": {
            "text/plain": [
              "id          int64\n",
              "fun         int64\n",
              "food        int64\n",
              "culture     int64\n",
              "isMusic     int64\n",
              "text       object\n",
              "dtype: object"
            ]
          },
          "metadata": {},
          "execution_count": 110
        }
      ],
      "source": [
        "tot.dtypes"
      ]
    },
    {
      "cell_type": "code",
      "execution_count": 111,
      "metadata": {
        "colab": {
          "base_uri": "https://localhost:8080/",
          "height": 0
        },
        "id": "8g71sbx2w420",
        "outputId": "031b10d4-f9b9-49ab-a8fa-c4f6f250d2c8"
      },
      "outputs": [
        {
          "output_type": "stream",
          "name": "stderr",
          "text": [
            "/usr/local/lib/python3.8/dist-packages/seaborn/_decorators.py:36: FutureWarning: Pass the following variable as a keyword arg: x. From version 0.12, the only valid positional argument will be `data`, and passing other arguments without an explicit keyword will result in an error or misinterpretation.\n",
            "  warnings.warn(\n"
          ]
        },
        {
          "output_type": "execute_result",
          "data": {
            "text/plain": [
              "<matplotlib.axes._subplots.AxesSubplot at 0x7f4d22f98b80>"
            ]
          },
          "metadata": {},
          "execution_count": 111
        },
        {
          "output_type": "display_data",
          "data": {
            "text/plain": [
              "<Figure size 432x288 with 1 Axes>"
            ],
            "image/png": "[encoded data removed]"
          },
          "metadata": {
            "needs_background": "light"
          }
        }
      ],
      "source": [
        "sns.countplot(tot['isMusic'])"
      ]
    },
    {
      "cell_type": "code",
      "execution_count": 112,
      "metadata": {
        "colab": {
          "base_uri": "https://localhost:8080/",
          "height": 0
        },
        "id": "M_8CTs070mQU",
        "outputId": "e810e7aa-33c3-4b3c-c339-f98185b06c24"
      },
      "outputs": [
        {
          "output_type": "stream",
          "name": "stderr",
          "text": [
            "/usr/local/lib/python3.8/dist-packages/seaborn/_decorators.py:36: FutureWarning: Pass the following variable as a keyword arg: x. From version 0.12, the only valid positional argument will be `data`, and passing other arguments without an explicit keyword will result in an error or misinterpretation.\n",
            "  warnings.warn(\n"
          ]
        },
        {
          "output_type": "execute_result",
          "data": {
            "text/plain": [
              "<matplotlib.axes._subplots.AxesSubplot at 0x7f4d172337f0>"
            ]
          },
          "metadata": {},
          "execution_count": 112
        },
        {
          "output_type": "display_data",
          "data": {
            "text/plain": [
              "<Figure size 432x288 with 1 Axes>"
            ],
            "image/png": "[encoded data removed]"
          },
          "metadata": {
            "needs_background": "light"
          }
        }
      ],
      "source": [
        "sns.countplot((tot[\"text\"] == None))"
      ]
    },
    {
      "cell_type": "markdown",
      "metadata": {
        "id": "Gyt1jv97HSVg"
      },
      "source": [
        "##**B**: *PREPROCESS DELLE DESCRIZIONI*"
      ]
    },
    {
      "cell_type": "markdown",
      "metadata": {
        "id": "VGOdBAaRuLNS"
      },
      "source": [
        "###**B1**: *FUNZIONI PREPROCESSING*"
      ]
    },
    {
      "cell_type": "code",
      "execution_count": 113,
      "metadata": {
        "id": "4QeY8IGtuNEm"
      },
      "outputs": [],
      "source": [
        "def remove_numbers(input_string):\n",
        "    # Crea una tabella di traduzione che mappa tutti i numeri a None\n",
        "    translate_table = input_string.maketrans(\"\", \"\", string.digits)\n",
        "    # Utilizza la tabella di traduzione per rimuovere tutti i numeri\n",
        "    return input_string.translate(translate_table)\n",
        "\n",
        "def remove_punctuation(input_string):\n",
        "    for char in string.punctuation:\n",
        "          input_string = input_string.replace(char, \" \")\n",
        "    return input_string\n",
        "\n",
        "def preProcessDescription(description,tokenizer,stopwordsTotali,maxSeqLen):\n",
        "  words = remove_punctuation(remove_numbers(description.lower())).split()\n",
        "\n",
        "  parole_filtrate = [parola for parola in words if not parola in stopwordsTotali]\n",
        " \n",
        "  descrizione_filtrata = \" \".join(parole_filtrate)\n",
        "  print(descrizione_filtrata)\n",
        "  # convert the text to a numerical representation\n",
        "  input_data = tokenizer.texts_to_sequences([descrizione_filtrata])\n",
        "  input_data = pad_sequences(input_data, maxlen=maxSeqLen,padding='post')\n",
        "  original_description = \"\"\n",
        "  for i, word in enumerate(input_data[0]):\n",
        "    if word == 1:\n",
        "      for key, value in tokenizer.word_index.items():\n",
        "        if value == i :\n",
        "          original_description += key + \" \"\n",
        "  print('Traduzione della sequenza numero in parole: ')\n",
        "  print(original_description)\n",
        "  return input_data"
      ]
    },
    {
      "cell_type": "markdown",
      "metadata": {
        "id": "3X-GaEPguBRC"
      },
      "source": [
        "###**B2**: *PREPROCESSING*"
      ]
    },
    {
      "cell_type": "code",
      "execution_count": 114,
      "metadata": {
        "id": "P3oZZBH8v0Lk"
      },
      "outputs": [],
      "source": [
        "stp = open(\"/content/drive/MyDrive/Colab Notebooks/stopwordsita.txt\", \"r\")\n",
        "data = stp.read().split(\"\\n\")\n",
        "stp.close()\n",
        "stopwordsTotali = stopwords.words('italian') + stopwords.words('english') + data\n",
        "stopwordsTotali = list(set(stopwordsTotali))"
      ]
    },
    {
      "cell_type": "code",
      "execution_count": 115,
      "metadata": {
        "id": "EAhQT3bVxBlj"
      },
      "outputs": [],
      "source": [
        "descrizioni_filtrate = []\n",
        "for index, descrizione in tot.iterrows():\n",
        "  parole = tkn(remove_punctuation(remove_numbers(str(descrizione['text']).lower())))\n",
        "  parole_filtrate = [parola for parola in parole if not parola in stopwordsTotali]\n",
        "  descrizione_filtrata = \" \".join(parole_filtrate)\n",
        "  descrizioni_filtrate.append(descrizione_filtrata)"
      ]
    },
    {
      "cell_type": "code",
      "execution_count": 116,
      "metadata": {
        "colab": {
          "base_uri": "https://localhost:8080/",
          "height": 0
        },
        "id": "WUVsBmcwx7aF",
        "outputId": "6fed17ad-dab1-4867-f980-ee9327e4b4f2"
      },
      "outputs": [
        {
          "output_type": "execute_result",
          "data": {
            "text/plain": [
              "'super tombolata barfly tante calze vincere formula panino patatine bibita cartella offriamo consigliata prenotazione'"
            ],
            "application/vnd.google.colaboratory.intrinsic+json": {
              "type": "string"
            }
          },
          "metadata": {},
          "execution_count": 116
        }
      ],
      "source": [
        "descrizioni_filtrate[0]"
      ]
    },
    {
      "cell_type": "code",
      "execution_count": 117,
      "metadata": {
        "colab": {
          "base_uri": "https://localhost:8080/",
          "height": 0
        },
        "id": "Bg9uI0-sEKyH",
        "outputId": "4d18df8d-4ee9-4c07-c85f-ed673bd7a892"
      },
      "outputs": [
        {
          "output_type": "execute_result",
          "data": {
            "text/plain": [
              "'Martedi 05 gennaio super tombolata al Barfly!\\nTante calze da vincere!!!\\nFormula 10 euro panino patatine e bibita e la cartella la offriamo noi!\\nConsigliata la prenotazione\\n081660023'"
            ],
            "application/vnd.google.colaboratory.intrinsic+json": {
              "type": "string"
            }
          },
          "metadata": {},
          "execution_count": 117
        }
      ],
      "source": [
        "tot['text'][0]"
      ]
    },
    {
      "cell_type": "code",
      "execution_count": 118,
      "metadata": {
        "id": "5qQmQ9Lh92YC"
      },
      "outputs": [],
      "source": [
        "corpus = descrizioni_filtrate"
      ]
    },
    {
      "cell_type": "code",
      "execution_count": 119,
      "metadata": {
        "colab": {
          "base_uri": "https://localhost:8080/"
        },
        "id": "9H1i7q-JFGnK",
        "outputId": "345e2029-3e51-4304-90dc-9ae5a3adaef9"
      },
      "outputs": [
        {
          "output_type": "execute_result",
          "data": {
            "text/plain": [
              "list"
            ]
          },
          "metadata": {},
          "execution_count": 119
        }
      ],
      "source": [
        "type(corpus)"
      ]
    },
    {
      "cell_type": "code",
      "execution_count": 120,
      "metadata": {
        "colab": {
          "base_uri": "https://localhost:8080/"
        },
        "id": "CERubiWYEsUg",
        "outputId": "3f7a6e7d-97e0-4092-92f4-4360f4fa4bdb"
      },
      "outputs": [
        {
          "output_type": "stream",
          "name": "stdout",
          "text": [
            "True\n"
          ]
        }
      ],
      "source": [
        "print(len(tot['text']) == len(corpus))"
      ]
    },
    {
      "cell_type": "code",
      "execution_count": 121,
      "metadata": {
        "id": "ko4uVBbFDk06"
      },
      "outputs": [],
      "source": [
        "tot['filtered_desc']=corpus"
      ]
    },
    {
      "cell_type": "code",
      "execution_count": 122,
      "metadata": {
        "colab": {
          "base_uri": "https://localhost:8080/",
          "height": 0
        },
        "id": "2S9jzm8mFa6i",
        "outputId": "d22bec69-bc98-4267-c0c3-c5183ee9e1ec"
      },
      "outputs": [
        {
          "output_type": "execute_result",
          "data": {
            "text/plain": [
              "                    id  fun  food  culture  isMusic  \\\n",
              "0     1000187186721956    1     0        1        0   \n",
              "2      100731190460200    0     0        1        1   \n",
              "3     1014507045355357    0     0        0        1   \n",
              "4     1015563648832823    0     0        1        1   \n",
              "5     1021806692027608    0     0        0        1   \n",
              "...                ...  ...   ...      ...      ...   \n",
              "7683   996956944037551    0     0        0        1   \n",
              "7684   997255064998935    0     1        0        0   \n",
              "7685   997824980996408    0     1        1        1   \n",
              "7686   998364400508276    0     0        1        0   \n",
              "7687   998894123521159    0     1        0        0   \n",
              "\n",
              "                                                   text  \\\n",
              "0     Martedi 05 gennaio super tombolata al Barfly!\\...   \n",
              "2     Ingresso free senza obbligo di consumazione,se...   \n",
              "3     Giovedi 8 Marzo, Napulitanata \"celebra la donn...   \n",
              "4     yn e lieta di presentare\\n\\nNapoolyn x Resilie...   \n",
              "5     Serata live \\nVENERDI' 18 MARZO \\nUn piacevole...   \n",
              "...                                                 ...   \n",
              "7683  Hot Club Roma Trio\\n\\nMoreno Viglione chitarra...   \n",
              "7684  Presentazione del libro:\\n \"Tasmania\" (Einaudi...   \n",
              "7685  In occasione delle GIORNATE EUROPEE DEL PATRIM...   \n",
              "7686  Vieni a Danzare gratuitamente per un giorno co...   \n",
              "7687  Il convegno, in linea col precedente Leducazio...   \n",
              "\n",
              "                                          filtered_desc  \n",
              "0     super tombolata barfly tante calze vincere for...  \n",
              "2     ingresso free obbligo consumazione serata disc...  \n",
              "3     napulitanata celebra donna serata eccezione ma...  \n",
              "4     yn lieta presentare napoolyn x resilienza reco...  \n",
              "5     serata live piacevole ritorno palco biergrube ...  \n",
              "...                                                 ...  \n",
              "7683  hot club trio moreno viglione chitarra solista...  \n",
              "7684  presentazione libro tasmania einaudi editore p...  \n",
              "7685  occasione giornate europee patrimonio ore muse...  \n",
              "7686  vieni danzare gratuitamente giorno amici tagga...  \n",
              "7687  convegno linea precedente leducazione scoperta...  \n",
              "\n",
              "[6327 rows x 7 columns]"
            ],
            "text/html": [
              "\n",
              "  <div id=\"df-0b66af77-acdc-4b4b-8a40-5bbfef4356c5\">\n",
              "    <div class=\"colab-df-container\">\n",
              "      <div>\n",
              "<style scoped>\n",
              "    .dataframe tbody tr th:only-of-type {\n",
              "        vertical-align: middle;\n",
              "    }\n",
              "\n",
              "    .dataframe tbody tr th {\n",
              "        vertical-align: top;\n",
              "    }\n",
              "\n",
              "    .dataframe thead th {\n",
              "        text-align: right;\n",
              "    }\n",
              "</style>\n",
              "<table border=\"1\" class=\"dataframe\">\n",
              "  <thead>\n",
              "    <tr style=\"text-align: right;\">\n",
              "      <th></th>\n",
              "      <th>id</th>\n",
              "      <th>fun</th>\n",
              "      <th>food</th>\n",
              "      <th>culture</th>\n",
              "      <th>isMusic</th>\n",
              "      <th>text</th>\n",
              "      <th>filtered_desc</th>\n",
              "    </tr>\n",
              "  </thead>\n",
              "  <tbody>\n",
              "    <tr>\n",
              "      <th>0</th>\n",
              "      <td>1000187186721956</td>\n",
              "      <td>1</td>\n",
              "      <td>0</td>\n",
              "      <td>1</td>\n",
              "      <td>0</td>\n",
              "      <td>Martedi 05 gennaio super tombolata al Barfly!\\...</td>\n",
              "      <td>super tombolata barfly tante calze vincere for...</td>\n",
              "    </tr>\n",
              "    <tr>\n",
              "      <th>2</th>\n",
              "      <td>100731190460200</td>\n",
              "      <td>0</td>\n",
              "      <td>0</td>\n",
              "      <td>1</td>\n",
              "      <td>1</td>\n",
              "      <td>Ingresso free senza obbligo di consumazione,se...</td>\n",
              "      <td>ingresso free obbligo consumazione serata disc...</td>\n",
              "    </tr>\n",
              "    <tr>\n",
              "      <th>3</th>\n",
              "      <td>1014507045355357</td>\n",
              "      <td>0</td>\n",
              "      <td>0</td>\n",
              "      <td>0</td>\n",
              "      <td>1</td>\n",
              "      <td>Giovedi 8 Marzo, Napulitanata \"celebra la donn...</td>\n",
              "      <td>napulitanata celebra donna serata eccezione ma...</td>\n",
              "    </tr>\n",
              "    <tr>\n",
              "      <th>4</th>\n",
              "      <td>1015563648832823</td>\n",
              "      <td>0</td>\n",
              "      <td>0</td>\n",
              "      <td>1</td>\n",
              "      <td>1</td>\n",
              "      <td>yn e lieta di presentare\\n\\nNapoolyn x Resilie...</td>\n",
              "      <td>yn lieta presentare napoolyn x resilienza reco...</td>\n",
              "    </tr>\n",
              "    <tr>\n",
              "      <th>5</th>\n",
              "      <td>1021806692027608</td>\n",
              "      <td>0</td>\n",
              "      <td>0</td>\n",
              "      <td>0</td>\n",
              "      <td>1</td>\n",
              "      <td>Serata live \\nVENERDI' 18 MARZO \\nUn piacevole...</td>\n",
              "      <td>serata live piacevole ritorno palco biergrube ...</td>\n",
              "    </tr>\n",
              "    <tr>\n",
              "      <th>...</th>\n",
              "      <td>...</td>\n",
              "      <td>...</td>\n",
              "      <td>...</td>\n",
              "      <td>...</td>\n",
              "      <td>...</td>\n",
              "      <td>...</td>\n",
              "      <td>...</td>\n",
              "    </tr>\n",
              "    <tr>\n",
              "      <th>7683</th>\n",
              "      <td>996956944037551</td>\n",
              "      <td>0</td>\n",
              "      <td>0</td>\n",
              "      <td>0</td>\n",
              "      <td>1</td>\n",
              "      <td>Hot Club Roma Trio\\n\\nMoreno Viglione chitarra...</td>\n",
              "      <td>hot club trio moreno viglione chitarra solista...</td>\n",
              "    </tr>\n",
              "    <tr>\n",
              "      <th>7684</th>\n",
              "      <td>997255064998935</td>\n",
              "      <td>0</td>\n",
              "      <td>1</td>\n",
              "      <td>0</td>\n",
              "      <td>0</td>\n",
              "      <td>Presentazione del libro:\\n \"Tasmania\" (Einaudi...</td>\n",
              "      <td>presentazione libro tasmania einaudi editore p...</td>\n",
              "    </tr>\n",
              "    <tr>\n",
              "      <th>7685</th>\n",
              "      <td>997824980996408</td>\n",
              "      <td>0</td>\n",
              "      <td>1</td>\n",
              "      <td>1</td>\n",
              "      <td>1</td>\n",
              "      <td>In occasione delle GIORNATE EUROPEE DEL PATRIM...</td>\n",
              "      <td>occasione giornate europee patrimonio ore muse...</td>\n",
              "    </tr>\n",
              "    <tr>\n",
              "      <th>7686</th>\n",
              "      <td>998364400508276</td>\n",
              "      <td>0</td>\n",
              "      <td>0</td>\n",
              "      <td>1</td>\n",
              "      <td>0</td>\n",
              "      <td>Vieni a Danzare gratuitamente per un giorno co...</td>\n",
              "      <td>vieni danzare gratuitamente giorno amici tagga...</td>\n",
              "    </tr>\n",
              "    <tr>\n",
              "      <th>7687</th>\n",
              "      <td>998894123521159</td>\n",
              "      <td>0</td>\n",
              "      <td>1</td>\n",
              "      <td>0</td>\n",
              "      <td>0</td>\n",
              "      <td>Il convegno, in linea col precedente Leducazio...</td>\n",
              "      <td>convegno linea precedente leducazione scoperta...</td>\n",
              "    </tr>\n",
              "  </tbody>\n",
              "</table>\n",
              "<p>6327 rows × 7 columns</p>\n",
              "</div>\n",
              "      <button class=\"colab-df-convert\" onclick=\"convertToInteractive('df-0b66af77-acdc-4b4b-8a40-5bbfef4356c5')\"\n",
              "              title=\"Convert this dataframe to an interactive table.\"\n",
              "              style=\"display:none;\">\n",
              "        \n",
              "  <svg xmlns=\"http://www.w3.org/2000/svg\" height=\"24px\"viewBox=\"0 0 24 24\"\n",
              "       width=\"24px\">\n",
              "    <path d=\"M0 0h24v24H0V0z\" fill=\"none\"/>\n",
              "    <path d=\"M18.56 5.44l.94 2.06.94-2.06 2.06-.94-2.06-.94-.94-2.06-.94 2.06-2.06.94zm-11 1L8.5 8.5l.94-2.06 2.06-.94-2.06-.94L8.5 2.5l-.94 2.06-2.06.94zm10 10l.94 2.06.94-2.06 2.06-.94-2.06-.94-.94-2.06-.94 2.06-2.06.94z\"/><path d=\"M17.41 7.96l-1.37-1.37c-.4-.4-.92-.59-1.43-.59-.52 0-1.04.2-1.43.59L10.3 9.45l-7.72 7.72c-.78.78-.78 2.05 0 2.83L4 21.41c.39.39.9.59 1.41.59.51 0 1.02-.2 1.41-.59l7.78-7.78 2.81-2.81c.8-.78.8-2.07 0-2.86zM5.41 20L4 18.59l7.72-7.72 1.47 1.35L5.41 20z\"/>\n",
              "  </svg>\n",
              "      </button>\n",
              "      \n",
              "  <style>\n",
              "    .colab-df-container {\n",
              "      display:flex;\n",
              "      flex-wrap:wrap;\n",
              "      gap: 12px;\n",
              "    }\n",
              "\n",
              "    .colab-df-convert {\n",
              "      background-color: #E8F0FE;\n",
              "      border: none;\n",
              "      border-radius: 50%;\n",
              "      cursor: pointer;\n",
              "      display: none;\n",
              "      fill: #1967D2;\n",
              "      height: 32px;\n",
              "      padding: 0 0 0 0;\n",
              "      width: 32px;\n",
              "    }\n",
              "\n",
              "    .colab-df-convert:hover {\n",
              "      background-color: #E2EBFA;\n",
              "      box-shadow: 0px 1px 2px rgba(60, 64, 67, 0.3), 0px 1px 3px 1px rgba(60, 64, 67, 0.15);\n",
              "      fill: #174EA6;\n",
              "    }\n",
              "\n",
              "    [theme=dark] .colab-df-convert {\n",
              "      background-color: #3B4455;\n",
              "      fill: #D2E3FC;\n",
              "    }\n",
              "\n",
              "    [theme=dark] .colab-df-convert:hover {\n",
              "      background-color: #434B5C;\n",
              "      box-shadow: 0px 1px 3px 1px rgba(0, 0, 0, 0.15);\n",
              "      filter: drop-shadow(0px 1px 2px rgba(0, 0, 0, 0.3));\n",
              "      fill: #FFFFFF;\n",
              "    }\n",
              "  </style>\n",
              "\n",
              "      <script>\n",
              "        const buttonEl =\n",
              "          document.querySelector('#df-0b66af77-acdc-4b4b-8a40-5bbfef4356c5 button.colab-df-convert');\n",
              "        buttonEl.style.display =\n",
              "          google.colab.kernel.accessAllowed ? 'block' : 'none';\n",
              "\n",
              "        async function convertToInteractive(key) {\n",
              "          const element = document.querySelector('#df-0b66af77-acdc-4b4b-8a40-5bbfef4356c5');\n",
              "          const dataTable =\n",
              "            await google.colab.kernel.invokeFunction('convertToInteractive',\n",
              "                                                     [key], {});\n",
              "          if (!dataTable) return;\n",
              "\n",
              "          const docLinkHtml = 'Like what you see? Visit the ' +\n",
              "            '<a target=\"_blank\" href=https://colab.research.google.com/notebooks/data_table.ipynb>data table notebook</a>'\n",
              "            + ' to learn more about interactive tables.';\n",
              "          element.innerHTML = '';\n",
              "          dataTable['output_type'] = 'display_data';\n",
              "          await google.colab.output.renderOutput(dataTable, element);\n",
              "          const docLink = document.createElement('div');\n",
              "          docLink.innerHTML = docLinkHtml;\n",
              "          element.appendChild(docLink);\n",
              "        }\n",
              "      </script>\n",
              "    </div>\n",
              "  </div>\n",
              "  "
            ]
          },
          "metadata": {},
          "execution_count": 122
        }
      ],
      "source": [
        "tot"
      ]
    },
    {
      "cell_type": "markdown",
      "metadata": {
        "id": "C-zaR9jHb7ke"
      },
      "source": [
        "###**B3**: *TOKENIZATION, SEQUENCING & PADDING*"
      ]
    },
    {
      "cell_type": "code",
      "execution_count": 123,
      "metadata": {
        "id": "p9r7hIIUb6rF"
      },
      "outputs": [],
      "source": [
        "from tensorflow.keras.preprocessing.text import Tokenizer\n",
        "from tensorflow.keras.preprocessing.sequence import pad_sequences\n",
        "\n",
        "MAX_NB_WORDS = 30000\n",
        "\n",
        "tokenizer = Tokenizer(num_words=MAX_NB_WORDS, char_level=False)\n",
        "tokenizer.fit_on_texts(corpus)\n",
        "sequences = tokenizer.texts_to_sequences(corpus)\n",
        "seq_lens = [len(s) for s in sequences]"
      ]
    },
    {
      "cell_type": "code",
      "execution_count": 124,
      "metadata": {
        "colab": {
          "base_uri": "https://localhost:8080/"
        },
        "id": "Rn2n_9xHHmOG",
        "outputId": "543d51d9-c183-4291-f871-20e4575de4b6"
      },
      "outputs": [
        {
          "output_type": "stream",
          "name": "stdout",
          "text": [
            "Sequenza parola numero 1998: \n",
            "1939, 367, 12159, 23666, 1939, 839, 367, 23667, 839, 1473, 19, 1438, 783, 23667, 839, 881, 590, 5658, 416, 2670, 2876, 15954, 431, 1939, 17825, 3889, 1536, 6204, 1671, 187, 109, 5313, 1299, 4716, 204, 23, 8341, 89, 170, 62, 9073, 89, 10234, 917, 963, 5416, 13568, 10492, 611, 1426, 1276, 18041, 1578, 1529, 23668, 12159, 267, 2488, 54, 8341, 971, 4854, 22671, "
          ]
        }
      ],
      "source": [
        "sampleIndex = 1998\n",
        "print('Sequenza parola numero %s: ' % sampleIndex)\n",
        "for x in sequences[sampleIndex]:\n",
        "  print('%d,' % x, end =' ')"
      ]
    },
    {
      "cell_type": "code",
      "execution_count": 125,
      "metadata": {
        "colab": {
          "base_uri": "https://localhost:8080/",
          "height": 0
        },
        "id": "-XqNP5E1-Jx3",
        "outputId": "07b560e2-64a4-46e3-8bd1-c9fa77580e78"
      },
      "outputs": [
        {
          "output_type": "stream",
          "name": "stdout",
          "text": [
            "Traduzione della sequenza numero 1998 in parole: \n"
          ]
        },
        {
          "output_type": "execute_result",
          "data": {
            "text/plain": [
              "'carbonara day malanghino rilancia carbonara roll day carbo roll regalo ogni ordine almeno carbo roll pesce bianco avocado interno scampi uova quaglia salsa carbonara briciole guanciale croccante ordina app oppure whatsapp delivery take away pranzo cena palese san paolo citta modugno san girolamo santo spirito giovinazzo bitonto elenco completo quartieri paesi citati scrivici privato arriviamo malanghino esperienza giappone casa palese vittorio veneto newopening'"
            ],
            "application/vnd.google.colaboratory.intrinsic+json": {
              "type": "string"
            }
          },
          "metadata": {},
          "execution_count": 125
        }
      ],
      "source": [
        "print('Traduzione della sequenza numero %d in parole: ' % sampleIndex)\n",
        "index_to_word = dict((i, w) for w, i in tokenizer.word_index.items())\n",
        "\" \".join([index_to_word[i] for i in sequences[sampleIndex]])"
      ]
    },
    {
      "cell_type": "code",
      "execution_count": 126,
      "metadata": {
        "colab": {
          "base_uri": "https://localhost:8080/",
          "height": 0
        },
        "id": "O3htyl3c_UzP",
        "outputId": "11d6a553-dc86-46c9-9e53-77338fa82b94"
      },
      "outputs": [
        {
          "output_type": "execute_result",
          "data": {
            "text/plain": [
              "Text(0.5, 1.0, 'Y documenti con X parole')"
            ]
          },
          "metadata": {},
          "execution_count": 126
        },
        {
          "output_type": "display_data",
          "data": {
            "text/plain": [
              "<Figure size 432x288 with 1 Axes>"
            ],
            "image/png": "[encoded data removed]"
          },
          "metadata": {
            "needs_background": "light"
          }
        }
      ],
      "source": [
        "%matplotlib inline\n",
        "import matplotlib.pyplot as plt\n",
        "\n",
        "plt.hist(seq_lens, bins=500, color = 'purple')\n",
        "plt.xlabel('#words')\n",
        "plt.ylabel('#descriptions')\n",
        "plt.title('Y documenti con X parole')"
      ]
    },
    {
      "cell_type": "code",
      "execution_count": 127,
      "metadata": {
        "colab": {
          "base_uri": "https://localhost:8080/"
        },
        "id": "rF9fciyQ-cUk",
        "outputId": "d649f3a4-f46c-45ba-cabf-a51ac0423e6b"
      },
      "outputs": [
        {
          "output_type": "stream",
          "name": "stdout",
          "text": [
            "average length: 64.3\n",
            "max length: 670\n",
            "percentuale descrizioni di lunghezza inferiore ad average length: 66%\n"
          ]
        }
      ],
      "source": [
        "media=np.mean(seq_lens)\n",
        "print(\"average length: %0.1f\" % media)\n",
        "print(\"max length: %d\" % max(seq_lens))\n",
        "y = 0\n",
        "for i in seq_lens:\n",
        "  if i < media:\n",
        "    y = y + 1\n",
        "\n",
        "print(\"percentuale descrizioni di lunghezza inferiore ad average length: %d%%\" % (int(y*100/len(seq_lens))))\n"
      ]
    },
    {
      "cell_type": "markdown",
      "metadata": {
        "id": "BpCi29f6-dvQ"
      },
      "source": [
        "La lunghezza media dei testi è di circa 65: eseguo il pad con massima lunghezza 70, valutando che la maggior parte delle descrizioni non supera quel numero di parole."
      ]
    },
    {
      "cell_type": "code",
      "execution_count": 128,
      "metadata": {
        "colab": {
          "base_uri": "https://localhost:8080/"
        },
        "id": "DA_Jod7w-AaM",
        "outputId": "37db7a51-1c1e-4c75-9ae0-d2b0bf48e6a8"
      },
      "outputs": [
        {
          "output_type": "stream",
          "name": "stdout",
          "text": [
            "Shape of data tensor: (6327, 70)\n",
            "Found 56018 unique tokens.\n"
          ]
        }
      ],
      "source": [
        "MAX_SEQUENCE_LENGTH = 70\n",
        "\n",
        "# pad sequences with 0s\n",
        "padded = pad_sequences(sequences, maxlen=MAX_SEQUENCE_LENGTH,padding='post')\n",
        "\n",
        "print('Shape of data tensor:', padded.shape)\n",
        "\n",
        "word_index = tokenizer.word_index\n",
        "print('Found %s unique tokens.' % len(word_index))"
      ]
    },
    {
      "cell_type": "code",
      "execution_count": 129,
      "metadata": {
        "colab": {
          "base_uri": "https://localhost:8080/"
        },
        "id": "wQrPJ9ol_Rdm",
        "outputId": "7c48bdf1-e7a0-4b9d-8818-ab82a9b6813c"
      },
      "outputs": [
        {
          "output_type": "execute_result",
          "data": {
            "text/plain": [
              "70"
            ]
          },
          "metadata": {},
          "execution_count": 129
        }
      ],
      "source": [
        "padded[sampleIndex].shape[0]"
      ]
    },
    {
      "cell_type": "code",
      "execution_count": 130,
      "metadata": {
        "colab": {
          "base_uri": "https://localhost:8080/"
        },
        "id": "-FzeY0H0vSr_",
        "outputId": "26e032be-db8f-4d6e-cdc3-ee777800276e"
      },
      "outputs": [
        {
          "output_type": "stream",
          "name": "stdout",
          "text": [
            "techno rave party festa scuola\n",
            "Traduzione della sequenza numero in parole: \n",
            "\n"
          ]
        },
        {
          "output_type": "execute_result",
          "data": {
            "text/plain": [
              "array([[1307, 7550,  112,   86,  138,    0,    0,    0,    0,    0,    0,\n",
              "           0,    0,    0,    0,    0,    0,    0,    0,    0,    0,    0,\n",
              "           0,    0,    0,    0,    0,    0,    0,    0,    0,    0,    0,\n",
              "           0,    0,    0,    0,    0,    0,    0,    0,    0,    0,    0,\n",
              "           0,    0,    0,    0,    0,    0,    0,    0,    0,    0,    0,\n",
              "           0,    0,    0,    0,    0,    0,    0,    0,    0,    0,    0,\n",
              "           0,    0,    0,    0]], dtype=int32)"
            ]
          },
          "metadata": {},
          "execution_count": 130
        }
      ],
      "source": [
        "preProcessDescription('techno rave party festa scuola',tokenizer,stopwordsTotali, MAX_SEQUENCE_LENGTH)"
      ]
    },
    {
      "cell_type": "markdown",
      "source": [
        "###**B4**: *RAPPRESENTAZIONE DEL TESTO A BASSO LIVELLO*"
      ],
      "metadata": {
        "id": "O8RihMMrOjM1"
      }
    },
    {
      "cell_type": "markdown",
      "metadata": {
        "id": "EykRlnQNx3Se"
      },
      "source": [
        "####**B4.1**: *ALTERNATIVA EMBEDDINGS VIA WORLD2VEC*\n"
      ]
    },
    {
      "cell_type": "code",
      "execution_count": 131,
      "metadata": {
        "colab": {
          "base_uri": "https://localhost:8080/",
          "height": 0
        },
        "id": "EP4cs4c1YzJy",
        "outputId": "0e453716-c932-44ca-b862-40736ec3b07e"
      },
      "outputs": [
        {
          "output_type": "execute_result",
          "data": {
            "text/plain": [
              "\"import gensim.downloader as api\\n\\n# Download the models (1660MB)\\nword2vec_model300 = api.load('word2vec-google-news-300')\""
            ],
            "application/vnd.google.colaboratory.intrinsic+json": {
              "type": "string"
            }
          },
          "metadata": {},
          "execution_count": 131
        }
      ],
      "source": [
        "'''import gensim.downloader as api\n",
        "\n",
        "# Download the models (1660MB)\n",
        "word2vec_model300 = api.load('word2vec-google-news-300')'''"
      ]
    },
    {
      "cell_type": "code",
      "execution_count": 132,
      "metadata": {
        "colab": {
          "base_uri": "https://localhost:8080/"
        },
        "id": "mPraSkoHEuK-",
        "outputId": "07059a85-468d-4941-e5de-4befd31a0a9e"
      },
      "outputs": [
        {
          "output_type": "stream",
          "name": "stdout",
          "text": [
            "<class 'numpy.ndarray'>\n",
            "6327\n"
          ]
        }
      ],
      "source": [
        "'''\n",
        "x_emb = []\n",
        "for sentence in padded:\n",
        "  print('sentence')\n",
        "  print(sentence)\n",
        "  sent_emb = [0 for k in range(300)] \n",
        "  \n",
        "  num_tok = 0\n",
        "  for tok in sentence:\n",
        "    if tok != 0:\n",
        "      word=list(word_index.keys())[list(word_index.values()).index(tok)]\n",
        "      print('word: '+ word)\n",
        "      try:\n",
        "          emb = word2vec_model300.wv[word]\n",
        "          sent_emb = [x + y for x, y in zip(sent_emb, emb)]\n",
        "          num_tok = num_tok +1\n",
        "      except:\n",
        "          pass\n",
        "  if num_tok != 0:\n",
        "    final_sent_emb = [x / num_tok for x in sent_emb]         \n",
        "  x_emb.append(final_sent_emb)\n",
        "  \n",
        "\n",
        "x_emb = np.array(x_emb)\n",
        "with open('/content/drive/MyDrive/Colab Notebooks/embeddings.npy', 'wb') as f:\n",
        "    np.save(f, x_emb)\n",
        "'''\n",
        "with open('/content/drive/MyDrive/Colab Notebooks/embeddings.npy', 'rb') as f:\n",
        "    x_emb = np.load(f)\n",
        "print(type(x_emb))\n",
        "print(len(x_emb))"
      ]
    },
    {
      "cell_type": "code",
      "execution_count": 133,
      "metadata": {
        "colab": {
          "base_uri": "https://localhost:8080/"
        },
        "id": "zVI0FdubxGo9",
        "outputId": "658f24fa-db80-4479-c47f-a5bc28033364"
      },
      "outputs": [
        {
          "output_type": "execute_result",
          "data": {
            "text/plain": [
              "(6327, 300)"
            ]
          },
          "metadata": {},
          "execution_count": 133
        }
      ],
      "source": [
        "x_emb.shape"
      ]
    },
    {
      "cell_type": "code",
      "execution_count": 134,
      "metadata": {
        "colab": {
          "base_uri": "https://localhost:8080/"
        },
        "id": "9RqFQ3iOxNo1",
        "outputId": "6eb36e0b-e952-42d2-a6e7-6b0f8e37dc0f"
      },
      "outputs": [
        {
          "output_type": "stream",
          "name": "stdout",
          "text": [
            "[-3.05786133e-02  7.58842699e-02  6.14662170e-02  1.44120419e-01\n",
            " -1.97686282e-02  8.10065992e-02 -5.22960316e-03 -4.96363784e-02\n",
            " -2.35274344e-03  1.17864435e-01 -9.83539928e-02 -1.38018984e-01\n",
            " -1.41777270e-01  2.63907404e-02 -1.08870564e-01  1.45015832e-01\n",
            "  1.37676239e-01  1.15994540e-01  2.90367820e-02  8.41785778e-02\n",
            " -1.09778664e-01 -3.43318130e-02  1.43727389e-01  8.06704434e-02\n",
            " -9.10098914e-02 -8.65139094e-02 -1.10806956e-01  9.51815518e-02\n",
            " -7.71336411e-02 -2.72553473e-02  1.11357949e-02  7.65165271e-02\n",
            "  2.58844549e-02 -3.79208651e-02 -9.34795033e-02 -6.82362643e-02\n",
            " -6.14663326e-02  4.35656923e-02  9.75188631e-02 -1.69354217e-02\n",
            " -2.76641846e-02 -5.28555205e-02  1.05245879e-01  9.82952696e-02\n",
            "  5.44472897e-03 -1.37826631e-01 -1.16993528e-01 -5.18678607e-02\n",
            " -2.40528222e-02  1.39574918e-01 -1.13349683e-01  1.99734775e-01\n",
            "  9.40972530e-02  5.69162080e-02 -6.25702829e-02  1.85667327e-01\n",
            " -1.14800655e-01 -1.09507243e-01  5.17938787e-02 -1.35975231e-01\n",
            " -1.49469202e-01  1.08104359e-01 -8.77846805e-02 -6.15924488e-02\n",
            "  3.38624896e-02 -1.65609331e-01 -9.47893090e-02 -7.83843994e-02\n",
            "  4.85032977e-02  1.53809981e-01  6.21957490e-02  6.84500030e-02\n",
            "  2.64712247e-02  7.61584369e-02 -5.86317814e-02 -3.55543657e-02\n",
            "  1.43758022e-02  3.15348307e-03 -4.19091889e-02 -4.12544482e-02\n",
            "  1.15152995e-02 -1.40649044e-02  1.46596504e-02 -1.51260145e-01\n",
            "  7.95040709e-02  5.43841738e-02 -6.29939455e-02  1.79260254e-01\n",
            "  5.94757542e-03  3.60269258e-02 -1.95367987e-02 -2.83195033e-02\n",
            " -7.77541652e-02 -2.56844723e-02  8.20229270e-03  4.23362038e-03\n",
            " -2.47983066e-02  3.44025583e-02  1.45578558e-01 -6.03390318e-02\n",
            " -9.66297496e-02  2.88855813e-02 -3.47101616e-02  4.23338919e-02\n",
            " -6.92182599e-02  4.92532181e-02 -4.39554850e-02  5.22797324e-02\n",
            "  2.51941103e-02  5.26964592e-02 -3.75153513e-02 -1.60517837e-01\n",
            "  6.79968632e-02 -7.78086113e-02  3.92012163e-03  9.85740893e-02\n",
            " -6.49585724e-02 -1.28793427e-01  1.21110858e-02 -3.96427964e-02\n",
            "  9.27318226e-02 -8.09192079e-02 -1.08231284e-01  3.05111047e-02\n",
            "  1.45270781e-01 -1.28740715e-01 -1.70828155e-01  6.15801956e-03\n",
            "  2.44780454e-02  8.13672615e-02 -1.27611565e-01  1.44358548e-02\n",
            "  1.10765515e-02  1.77431974e-02 -5.66045588e-02  7.64608672e-02\n",
            " -4.81373180e-02 -5.80939091e-02  2.01140433e-01  5.22744150e-02\n",
            "  1.30906539e-01 -1.49627686e-01 -5.74124365e-02  2.00879646e-02\n",
            "  9.14140181e-04 -1.60718036e-02 -6.93287705e-02  9.11023689e-02\n",
            " -7.60298064e-02 -5.51058451e-02  9.24546213e-02 -1.44130822e-01\n",
            " -6.64958087e-02  4.70611110e-02 -1.79963545e-02 -1.42991499e-01\n",
            "  1.03681160e-02  2.11171930e-01 -8.23608167e-02 -8.07076656e-02\n",
            " -3.26105754e-02  5.75991544e-02 -1.83614095e-02  8.92962831e-03\n",
            " -3.46661192e-02 -8.71798197e-02  1.29765366e-01  4.36493845e-04\n",
            " -8.33469738e-02  3.59062426e-02 -1.34682626e-01 -1.24968558e-01\n",
            " -1.73657735e-02 -3.96367853e-02 -5.03056844e-02  8.81948182e-02\n",
            "  1.72497836e-01 -1.66512229e-01  6.51645082e-02 -1.03328589e-02\n",
            " -1.94637414e-02 -6.13886615e-02 -2.25729509e-02 -3.14839681e-02\n",
            "  2.57022742e-02  4.79082050e-02 -3.69331475e-02 -2.09738991e-03\n",
            " -8.44423699e-02  8.02855058e-03  4.49708881e-02  1.20516690e-02\n",
            " -9.01729699e-02  2.64673522e-02  8.76686790e-02  6.10157360e-02\n",
            " -5.33551303e-02  1.59435850e-02  2.16369629e-02  4.22078913e-02\n",
            " -1.42394557e-02  3.93897548e-02 -1.21894605e-01 -1.05534828e-01\n",
            "  9.56402403e-02 -1.42042218e-01  3.51172938e-02  2.47862845e-02\n",
            " -8.45947266e-02  3.97126169e-02  3.72099443e-02 -5.85058964e-03\n",
            " -1.74858729e-01  8.40870250e-02 -9.23811017e-02  6.38561827e-02\n",
            "  5.91024919e-02 -6.99453643e-02 -9.63869962e-02 -3.58858975e-02\n",
            " -1.01771499e-03  1.00629344e-01  2.05913313e-02  1.36790420e-02\n",
            "  6.83286262e-02 -8.03495465e-02  8.39806759e-02  2.12013071e-02\n",
            "  2.28218599e-02 -2.83429695e-02 -1.90388073e-03 -1.08876460e-01\n",
            " -3.39818434e-02  2.46623646e-02  1.32373752e-02 -1.29158714e-02\n",
            " -1.26210993e-02  8.34883393e-02  2.02322187e-02  2.79731173e-02\n",
            "  6.76008282e-02 -2.36511230e-03  1.05069247e-01  2.03640100e-02\n",
            " -6.03438869e-02 -6.81288748e-02 -5.65342759e-02  1.46451777e-01\n",
            " -1.19964101e-02 -5.55712382e-02  5.25896477e-02  5.11215672e-02\n",
            "  8.72405081e-02  3.20134018e-02  6.79203380e-02 -1.27347773e-01\n",
            " -9.07752731e-02 -5.92595881e-02  1.21903853e-02 -3.63578083e-02\n",
            "  6.11643936e-02  1.15278764e-01  1.26362656e-01 -5.76030847e-02\n",
            " -6.65881995e-02 -4.78439331e-02 -5.68736683e-02  3.46256603e-02\n",
            " -4.85039913e-02 -3.79712654e-02 -7.56392045e-02 -5.14722304e-02\n",
            " -3.74802098e-02  3.40391217e-02  1.48439350e-01  1.59731778e-02\n",
            " -1.57637163e-01 -4.74806121e-02 -1.21924660e-01  1.04364337e-01\n",
            " -8.69935932e-02  1.03826349e-01  1.40741522e-02 -4.85541604e-03\n",
            "  6.20709044e-02 -5.89867794e-03  6.45030629e-05  5.58860085e-02\n",
            " -1.35677569e-01  5.47053019e-02  4.77553859e-03 -4.80607929e-02\n",
            " -1.11471465e-01  6.80588231e-02  4.02577718e-02 -1.17691502e-02\n",
            " -3.70973529e-02 -5.54991057e-02 -4.64514530e-02  1.07676651e-01]\n"
          ]
        }
      ],
      "source": [
        "print(x_emb[sampleIndex])"
      ]
    },
    {
      "cell_type": "markdown",
      "metadata": {
        "id": "TGSsIChIx7Ze"
      },
      "source": [
        "####**B4.2**: *ALTERNATIVA FEATURE EXTRACTION VIA RETE NEURALE*"
      ]
    },
    {
      "cell_type": "code",
      "execution_count": 135,
      "metadata": {
        "colab": {
          "base_uri": "https://localhost:8080/"
        },
        "id": "JTk_zuky0bjf",
        "outputId": "2eaf4067-3ed6-4371-cabe-4ef28d949f0c"
      },
      "outputs": [
        {
          "output_type": "stream",
          "name": "stdout",
          "text": [
            "198/198 [==============================] - 2s 9ms/step\n"
          ]
        }
      ],
      "source": [
        "import numpy as np\n",
        "import keras\n",
        "from keras.models import Sequential\n",
        "from keras.layers import Dense, Embedding, Flatten\n",
        "\n",
        "embedding_size = 100\n",
        "\n",
        "# Creare la rete neurale feed-forward\n",
        "model = Sequential()\n",
        "model.add(Embedding(input_dim=len(tokenizer.word_index)+1, output_dim=embedding_size, input_length=MAX_SEQUENCE_LENGTH))\n",
        "model.add(Flatten())\n",
        "model.add(Dense(32, activation='relu'))\n",
        "model.add(Dense(1, activation='sigmoid'))\n",
        "model.compile(loss='binary_crossentropy', optimizer='adam', metrics=['accuracy'])\n",
        "\n",
        "# Creare la matrice di vettorizzazione delle descrizioni degli eventi\n",
        "#POTREI PROVARE CON \"CORPUS\" AL POSTO DI PADDINGS\n",
        "token_matrix = model.predict(padded)"
      ]
    },
    {
      "cell_type": "markdown",
      "metadata": {
        "id": "zRXl9UQe6mc4"
      },
      "source": [
        "####**B4.3**: *ALTERNATIVA VECTORIZATION VIA TERM FREQUENCY - INVERSE DOCUMENT FREQUENCY*"
      ]
    },
    {
      "cell_type": "code",
      "execution_count": 136,
      "metadata": {
        "id": "wRIhGcF96jUl"
      },
      "outputs": [],
      "source": [
        "vectorizer = TfidfVectorizer()\n",
        "\n",
        "X = vectorizer.fit_transform(corpus)"
      ]
    },
    {
      "cell_type": "markdown",
      "metadata": {
        "id": "BM5VMUcgEni5"
      },
      "source": [
        "##**C**: *CLASSIFICAZIONE*"
      ]
    },
    {
      "cell_type": "code",
      "execution_count": 137,
      "metadata": {
        "id": "Rh5z0z-T74kf"
      },
      "outputs": [],
      "source": [
        "y = tot[['fun', 'food', 'culture', 'isMusic']]"
      ]
    },
    {
      "cell_type": "markdown",
      "metadata": {
        "id": "Ujr0O_QlMIJ0"
      },
      "source": [
        "####Split"
      ]
    },
    {
      "cell_type": "code",
      "execution_count": 138,
      "metadata": {
        "id": "OWgXvZQjMOyq"
      },
      "outputs": [],
      "source": [
        "X_train,X_test,y_train,y_test = train_test_split(X,y,test_size=0.25,random_state=42)"
      ]
    },
    {
      "cell_type": "code",
      "execution_count": 139,
      "metadata": {
        "id": "Pf1gNSR88CcQ"
      },
      "outputs": [],
      "source": [
        "from sklearn.utils import class_weight\n",
        "weights = class_weight.compute_sample_weight(class_weight=\"balanced\", y=y_train)"
      ]
    },
    {
      "cell_type": "code",
      "execution_count": 140,
      "metadata": {
        "colab": {
          "base_uri": "https://localhost:8080/"
        },
        "id": "Y4ePMJ---iaa",
        "outputId": "51feeb59-e1ab-45f2-b29c-067242706414"
      },
      "outputs": [
        {
          "output_type": "execute_result",
          "data": {
            "text/plain": [
              "array([0.66168141, 0.99593683, 0.85697774, ..., 1.04496771, 0.80683042,\n",
              "       0.66168141])"
            ]
          },
          "metadata": {},
          "execution_count": 140
        }
      ],
      "source": [
        "weights"
      ]
    },
    {
      "cell_type": "code",
      "execution_count": 141,
      "metadata": {
        "colab": {
          "base_uri": "https://localhost:8080/"
        },
        "id": "WHexH5pHwP1N",
        "outputId": "3f4bb17f-4d3a-4dbc-e8c5-6698d173586f"
      },
      "outputs": [
        {
          "output_type": "execute_result",
          "data": {
            "text/plain": [
              "(6327, 170)"
            ]
          },
          "metadata": {},
          "execution_count": 141
        }
      ],
      "source": [
        "from sklearn.decomposition import PCA\n",
        "pca = PCA (170)\n",
        "\n",
        "reduced = pca.fit_transform(x_emb)\n",
        "\n",
        "X_reduced,X_testReduced,y_trainReduced,y_testReduced = train_test_split(reduced,y,test_size=0.25,random_state=42)\n",
        "reduced.shape"
      ]
    },
    {
      "cell_type": "markdown",
      "metadata": {
        "id": "cLCb7MwRNklu"
      },
      "source": [
        "####Logistic Regression"
      ]
    },
    {
      "cell_type": "code",
      "execution_count": 142,
      "metadata": {
        "id": "LDpRa44J9gMx"
      },
      "outputs": [],
      "source": [
        "import pandas as pd\n",
        "import numpy as np\n",
        "from sklearn.feature_extraction.text import TfidfVectorizer\n",
        "from sklearn.linear_model import LogisticRegression\n",
        "from sklearn.metrics import accuracy_score\n",
        "from sklearn.multiclass import OneVsRestClassifier\n",
        "from sklearn.metrics import classification_report"
      ]
    },
    {
      "cell_type": "markdown",
      "source": [
        "test per trasformazione del dataset"
      ],
      "metadata": {
        "id": "T8aTy_LY2lVO"
      }
    },
    {
      "cell_type": "code",
      "source": [
        "target_variables = [\"fun\", \"food\", \"culture\", \"isMusic\"]\n",
        "\n",
        "# Fit a logistic regression model for each target variable\n",
        "models = []\n",
        "for target in target_variables:\n",
        "    clf = LogisticRegression(random_state=0)\n",
        "    clf.fit(X, tot[target])\n",
        "    models.append(clf)\n",
        "\n",
        "# Generate probability estimates for each target variable\n",
        "probabilities = np.zeros((tot.shape[0], len(target_variables)))\n",
        "for i, clf in enumerate(models):\n",
        "    probabilities[:, i] = clf.predict_proba(vectorizer.fit_transform(tot[\"filtered_desc\"]))[:, 1]\n",
        "\n",
        "# Normalize the probabilities so that they sum up to 1 for each sample\n",
        "probabilities /= probabilities.sum(axis=1, keepdims=True)\n",
        "\n",
        "# Creare un nuovo dataset con le probabilità\n",
        "new_df = pd.DataFrame(probabilities, columns=target_variables)\n",
        "\n",
        "# Aggiungere le descrizioni come nuova colonna\n",
        "new_df[\"filtered_desc\"] = tot[\"filtered_desc\"]\n",
        "new_df[\"text\"] = tot[\"text\"]\n",
        "new_df[\"id\"]=tot[\"id\"].astype(str)\n",
        "# Salvare il nuovo dataset\n",
        "#new_df.to_csv(\"probabilities.csv\", index=False)"
      ],
      "metadata": {
        "id": "ZQqdbR-O2krI"
      },
      "execution_count": 150,
      "outputs": []
    },
    {
      "cell_type": "code",
      "source": [
        "new_df"
      ],
      "metadata": {
        "colab": {
          "base_uri": "https://localhost:8080/",
          "height": 424
        },
        "id": "TCjgbtuXOrYq",
        "outputId": "9dbf5a15-913b-4260-c223-79fae615682c"
      },
      "execution_count": 160,
      "outputs": [
        {
          "output_type": "execute_result",
          "data": {
            "text/plain": [
              "           fun      food   culture   isMusic  \\\n",
              "0     0.394694  0.064840  0.430425  0.110041   \n",
              "1     0.215571  0.033047  0.390544  0.360837   \n",
              "2     0.113385  0.203644  0.281463  0.401508   \n",
              "3     0.032159  0.191603  0.306882  0.469356   \n",
              "4     0.102005  0.133685  0.312649  0.451660   \n",
              "...        ...       ...       ...       ...   \n",
              "6322  0.057426  0.168657  0.269371  0.504545   \n",
              "6323  0.071540  0.623399  0.200155  0.104906   \n",
              "6324  0.047366  0.348093  0.247839  0.356701   \n",
              "6325  0.095056  0.238075  0.459258  0.207610   \n",
              "6326  0.119086  0.446996  0.315105  0.118814   \n",
              "\n",
              "                                          filtered_desc  \\\n",
              "0     super tombolata barfly tante calze vincere for...   \n",
              "1     ingresso free obbligo consumazione serata disc...   \n",
              "2     napulitanata celebra donna serata eccezione ma...   \n",
              "3     yn lieta presentare napoolyn x resilienza reco...   \n",
              "4     serata live piacevole ritorno palco biergrube ...   \n",
              "...                                                 ...   \n",
              "6322  hot club trio moreno viglione chitarra solista...   \n",
              "6323  presentazione libro tasmania einaudi editore p...   \n",
              "6324  occasione giornate europee patrimonio ore muse...   \n",
              "6325  vieni danzare gratuitamente giorno amici tagga...   \n",
              "6326  convegno linea precedente leducazione scoperta...   \n",
              "\n",
              "                                                   text                id  \n",
              "0     Martedi 05 gennaio super tombolata al Barfly!\\...  1000187186721956  \n",
              "1     Ingresso free senza obbligo di consumazione,se...   100731190460200  \n",
              "2     Giovedi 8 Marzo, Napulitanata \"celebra la donn...  1014507045355357  \n",
              "3     yn e lieta di presentare\\n\\nNapoolyn x Resilie...  1015563648832823  \n",
              "4     Serata live \\nVENERDI' 18 MARZO \\nUn piacevole...  1021806692027608  \n",
              "...                                                 ...               ...  \n",
              "6322  Hot Club Roma Trio\\n\\nMoreno Viglione chitarra...   996956944037551  \n",
              "6323  Presentazione del libro:\\n \"Tasmania\" (Einaudi...   997255064998935  \n",
              "6324  In occasione delle GIORNATE EUROPEE DEL PATRIM...   997824980996408  \n",
              "6325  Vieni a Danzare gratuitamente per un giorno co...   998364400508276  \n",
              "6326  Il convegno, in linea col precedente Leducazio...   998894123521159  \n",
              "\n",
              "[6327 rows x 7 columns]"
            ],
            "text/html": [
              "\n",
              "  <div id=\"df-c8109285-8ecc-4e7c-99b8-d3617982cb35\">\n",
              "    <div class=\"colab-df-container\">\n",
              "      <div>\n",
              "<style scoped>\n",
              "    .dataframe tbody tr th:only-of-type {\n",
              "        vertical-align: middle;\n",
              "    }\n",
              "\n",
              "    .dataframe tbody tr th {\n",
              "        vertical-align: top;\n",
              "    }\n",
              "\n",
              "    .dataframe thead th {\n",
              "        text-align: right;\n",
              "    }\n",
              "</style>\n",
              "<table border=\"1\" class=\"dataframe\">\n",
              "  <thead>\n",
              "    <tr style=\"text-align: right;\">\n",
              "      <th></th>\n",
              "      <th>fun</th>\n",
              "      <th>food</th>\n",
              "      <th>culture</th>\n",
              "      <th>isMusic</th>\n",
              "      <th>filtered_desc</th>\n",
              "      <th>text</th>\n",
              "      <th>id</th>\n",
              "    </tr>\n",
              "  </thead>\n",
              "  <tbody>\n",
              "    <tr>\n",
              "      <th>0</th>\n",
              "      <td>0.394694</td>\n",
              "      <td>0.064840</td>\n",
              "      <td>0.430425</td>\n",
              "      <td>0.110041</td>\n",
              "      <td>super tombolata barfly tante calze vincere for...</td>\n",
              "      <td>Martedi 05 gennaio super tombolata al Barfly!\\...</td>\n",
              "      <td>1000187186721956</td>\n",
              "    </tr>\n",
              "    <tr>\n",
              "      <th>1</th>\n",
              "      <td>0.215571</td>\n",
              "      <td>0.033047</td>\n",
              "      <td>0.390544</td>\n",
              "      <td>0.360837</td>\n",
              "      <td>ingresso free obbligo consumazione serata disc...</td>\n",
              "      <td>Ingresso free senza obbligo di consumazione,se...</td>\n",
              "      <td>100731190460200</td>\n",
              "    </tr>\n",
              "    <tr>\n",
              "      <th>2</th>\n",
              "      <td>0.113385</td>\n",
              "      <td>0.203644</td>\n",
              "      <td>0.281463</td>\n",
              "      <td>0.401508</td>\n",
              "      <td>napulitanata celebra donna serata eccezione ma...</td>\n",
              "      <td>Giovedi 8 Marzo, Napulitanata \"celebra la donn...</td>\n",
              "      <td>1014507045355357</td>\n",
              "    </tr>\n",
              "    <tr>\n",
              "      <th>3</th>\n",
              "      <td>0.032159</td>\n",
              "      <td>0.191603</td>\n",
              "      <td>0.306882</td>\n",
              "      <td>0.469356</td>\n",
              "      <td>yn lieta presentare napoolyn x resilienza reco...</td>\n",
              "      <td>yn e lieta di presentare\\n\\nNapoolyn x Resilie...</td>\n",
              "      <td>1015563648832823</td>\n",
              "    </tr>\n",
              "    <tr>\n",
              "      <th>4</th>\n",
              "      <td>0.102005</td>\n",
              "      <td>0.133685</td>\n",
              "      <td>0.312649</td>\n",
              "      <td>0.451660</td>\n",
              "      <td>serata live piacevole ritorno palco biergrube ...</td>\n",
              "      <td>Serata live \\nVENERDI' 18 MARZO \\nUn piacevole...</td>\n",
              "      <td>1021806692027608</td>\n",
              "    </tr>\n",
              "    <tr>\n",
              "      <th>...</th>\n",
              "      <td>...</td>\n",
              "      <td>...</td>\n",
              "      <td>...</td>\n",
              "      <td>...</td>\n",
              "      <td>...</td>\n",
              "      <td>...</td>\n",
              "      <td>...</td>\n",
              "    </tr>\n",
              "    <tr>\n",
              "      <th>6322</th>\n",
              "      <td>0.057426</td>\n",
              "      <td>0.168657</td>\n",
              "      <td>0.269371</td>\n",
              "      <td>0.504545</td>\n",
              "      <td>hot club trio moreno viglione chitarra solista...</td>\n",
              "      <td>Hot Club Roma Trio\\n\\nMoreno Viglione chitarra...</td>\n",
              "      <td>996956944037551</td>\n",
              "    </tr>\n",
              "    <tr>\n",
              "      <th>6323</th>\n",
              "      <td>0.071540</td>\n",
              "      <td>0.623399</td>\n",
              "      <td>0.200155</td>\n",
              "      <td>0.104906</td>\n",
              "      <td>presentazione libro tasmania einaudi editore p...</td>\n",
              "      <td>Presentazione del libro:\\n \"Tasmania\" (Einaudi...</td>\n",
              "      <td>997255064998935</td>\n",
              "    </tr>\n",
              "    <tr>\n",
              "      <th>6324</th>\n",
              "      <td>0.047366</td>\n",
              "      <td>0.348093</td>\n",
              "      <td>0.247839</td>\n",
              "      <td>0.356701</td>\n",
              "      <td>occasione giornate europee patrimonio ore muse...</td>\n",
              "      <td>In occasione delle GIORNATE EUROPEE DEL PATRIM...</td>\n",
              "      <td>997824980996408</td>\n",
              "    </tr>\n",
              "    <tr>\n",
              "      <th>6325</th>\n",
              "      <td>0.095056</td>\n",
              "      <td>0.238075</td>\n",
              "      <td>0.459258</td>\n",
              "      <td>0.207610</td>\n",
              "      <td>vieni danzare gratuitamente giorno amici tagga...</td>\n",
              "      <td>Vieni a Danzare gratuitamente per un giorno co...</td>\n",
              "      <td>998364400508276</td>\n",
              "    </tr>\n",
              "    <tr>\n",
              "      <th>6326</th>\n",
              "      <td>0.119086</td>\n",
              "      <td>0.446996</td>\n",
              "      <td>0.315105</td>\n",
              "      <td>0.118814</td>\n",
              "      <td>convegno linea precedente leducazione scoperta...</td>\n",
              "      <td>Il convegno, in linea col precedente Leducazio...</td>\n",
              "      <td>998894123521159</td>\n",
              "    </tr>\n",
              "  </tbody>\n",
              "</table>\n",
              "<p>6327 rows × 7 columns</p>\n",
              "</div>\n",
              "      <button class=\"colab-df-convert\" onclick=\"convertToInteractive('df-c8109285-8ecc-4e7c-99b8-d3617982cb35')\"\n",
              "              title=\"Convert this dataframe to an interactive table.\"\n",
              "              style=\"display:none;\">\n",
              "        \n",
              "  <svg xmlns=\"http://www.w3.org/2000/svg\" height=\"24px\"viewBox=\"0 0 24 24\"\n",
              "       width=\"24px\">\n",
              "    <path d=\"M0 0h24v24H0V0z\" fill=\"none\"/>\n",
              "    <path d=\"M18.56 5.44l.94 2.06.94-2.06 2.06-.94-2.06-.94-.94-2.06-.94 2.06-2.06.94zm-11 1L8.5 8.5l.94-2.06 2.06-.94-2.06-.94L8.5 2.5l-.94 2.06-2.06.94zm10 10l.94 2.06.94-2.06 2.06-.94-2.06-.94-.94-2.06-.94 2.06-2.06.94z\"/><path d=\"M17.41 7.96l-1.37-1.37c-.4-.4-.92-.59-1.43-.59-.52 0-1.04.2-1.43.59L10.3 9.45l-7.72 7.72c-.78.78-.78 2.05 0 2.83L4 21.41c.39.39.9.59 1.41.59.51 0 1.02-.2 1.41-.59l7.78-7.78 2.81-2.81c.8-.78.8-2.07 0-2.86zM5.41 20L4 18.59l7.72-7.72 1.47 1.35L5.41 20z\"/>\n",
              "  </svg>\n",
              "      </button>\n",
              "      \n",
              "  <style>\n",
              "    .colab-df-container {\n",
              "      display:flex;\n",
              "      flex-wrap:wrap;\n",
              "      gap: 12px;\n",
              "    }\n",
              "\n",
              "    .colab-df-convert {\n",
              "      background-color: #E8F0FE;\n",
              "      border: none;\n",
              "      border-radius: 50%;\n",
              "      cursor: pointer;\n",
              "      display: none;\n",
              "      fill: #1967D2;\n",
              "      height: 32px;\n",
              "      padding: 0 0 0 0;\n",
              "      width: 32px;\n",
              "    }\n",
              "\n",
              "    .colab-df-convert:hover {\n",
              "      background-color: #E2EBFA;\n",
              "      box-shadow: 0px 1px 2px rgba(60, 64, 67, 0.3), 0px 1px 3px 1px rgba(60, 64, 67, 0.15);\n",
              "      fill: #174EA6;\n",
              "    }\n",
              "\n",
              "    [theme=dark] .colab-df-convert {\n",
              "      background-color: #3B4455;\n",
              "      fill: #D2E3FC;\n",
              "    }\n",
              "\n",
              "    [theme=dark] .colab-df-convert:hover {\n",
              "      background-color: #434B5C;\n",
              "      box-shadow: 0px 1px 3px 1px rgba(0, 0, 0, 0.15);\n",
              "      filter: drop-shadow(0px 1px 2px rgba(0, 0, 0, 0.3));\n",
              "      fill: #FFFFFF;\n",
              "    }\n",
              "  </style>\n",
              "\n",
              "      <script>\n",
              "        const buttonEl =\n",
              "          document.querySelector('#df-c8109285-8ecc-4e7c-99b8-d3617982cb35 button.colab-df-convert');\n",
              "        buttonEl.style.display =\n",
              "          google.colab.kernel.accessAllowed ? 'block' : 'none';\n",
              "\n",
              "        async function convertToInteractive(key) {\n",
              "          const element = document.querySelector('#df-c8109285-8ecc-4e7c-99b8-d3617982cb35');\n",
              "          const dataTable =\n",
              "            await google.colab.kernel.invokeFunction('convertToInteractive',\n",
              "                                                     [key], {});\n",
              "          if (!dataTable) return;\n",
              "\n",
              "          const docLinkHtml = 'Like what you see? Visit the ' +\n",
              "            '<a target=\"_blank\" href=https://colab.research.google.com/notebooks/data_table.ipynb>data table notebook</a>'\n",
              "            + ' to learn more about interactive tables.';\n",
              "          element.innerHTML = '';\n",
              "          dataTable['output_type'] = 'display_data';\n",
              "          await google.colab.output.renderOutput(dataTable, element);\n",
              "          const docLink = document.createElement('div');\n",
              "          docLink.innerHTML = docLinkHtml;\n",
              "          element.appendChild(docLink);\n",
              "        }\n",
              "      </script>\n",
              "    </div>\n",
              "  </div>\n",
              "  "
            ]
          },
          "metadata": {},
          "execution_count": 160
        }
      ]
    },
    {
      "cell_type": "code",
      "source": [
        "tot"
      ],
      "metadata": {
        "colab": {
          "base_uri": "https://localhost:8080/",
          "height": 424
        },
        "id": "og6vG43eOtTQ",
        "outputId": "4267e01c-586e-4ea9-d76d-2dc99b1cb6c5"
      },
      "execution_count": 161,
      "outputs": [
        {
          "output_type": "execute_result",
          "data": {
            "text/plain": [
              "                    id  fun  food  culture  isMusic  \\\n",
              "0     1000187186721956    1     0        1        0   \n",
              "1      100731190460200    0     0        1        1   \n",
              "2     1014507045355357    0     0        0        1   \n",
              "3     1015563648832823    0     0        1        1   \n",
              "4     1021806692027608    0     0        0        1   \n",
              "...                ...  ...   ...      ...      ...   \n",
              "6322   996956944037551    0     0        0        1   \n",
              "6323   997255064998935    0     1        0        0   \n",
              "6324   997824980996408    0     1        1        1   \n",
              "6325   998364400508276    0     0        1        0   \n",
              "6326   998894123521159    0     1        0        0   \n",
              "\n",
              "                                                   text  \\\n",
              "0     Martedi 05 gennaio super tombolata al Barfly!\\...   \n",
              "1     Ingresso free senza obbligo di consumazione,se...   \n",
              "2     Giovedi 8 Marzo, Napulitanata \"celebra la donn...   \n",
              "3     yn e lieta di presentare\\n\\nNapoolyn x Resilie...   \n",
              "4     Serata live \\nVENERDI' 18 MARZO \\nUn piacevole...   \n",
              "...                                                 ...   \n",
              "6322  Hot Club Roma Trio\\n\\nMoreno Viglione chitarra...   \n",
              "6323  Presentazione del libro:\\n \"Tasmania\" (Einaudi...   \n",
              "6324  In occasione delle GIORNATE EUROPEE DEL PATRIM...   \n",
              "6325  Vieni a Danzare gratuitamente per un giorno co...   \n",
              "6326  Il convegno, in linea col precedente Leducazio...   \n",
              "\n",
              "                                          filtered_desc  \n",
              "0     super tombolata barfly tante calze vincere for...  \n",
              "1     ingresso free obbligo consumazione serata disc...  \n",
              "2     napulitanata celebra donna serata eccezione ma...  \n",
              "3     yn lieta presentare napoolyn x resilienza reco...  \n",
              "4     serata live piacevole ritorno palco biergrube ...  \n",
              "...                                                 ...  \n",
              "6322  hot club trio moreno viglione chitarra solista...  \n",
              "6323  presentazione libro tasmania einaudi editore p...  \n",
              "6324  occasione giornate europee patrimonio ore muse...  \n",
              "6325  vieni danzare gratuitamente giorno amici tagga...  \n",
              "6326  convegno linea precedente leducazione scoperta...  \n",
              "\n",
              "[6327 rows x 7 columns]"
            ],
            "text/html": [
              "\n",
              "  <div id=\"df-008c6b78-228c-4e3b-88ff-d137d20199a3\">\n",
              "    <div class=\"colab-df-container\">\n",
              "      <div>\n",
              "<style scoped>\n",
              "    .dataframe tbody tr th:only-of-type {\n",
              "        vertical-align: middle;\n",
              "    }\n",
              "\n",
              "    .dataframe tbody tr th {\n",
              "        vertical-align: top;\n",
              "    }\n",
              "\n",
              "    .dataframe thead th {\n",
              "        text-align: right;\n",
              "    }\n",
              "</style>\n",
              "<table border=\"1\" class=\"dataframe\">\n",
              "  <thead>\n",
              "    <tr style=\"text-align: right;\">\n",
              "      <th></th>\n",
              "      <th>id</th>\n",
              "      <th>fun</th>\n",
              "      <th>food</th>\n",
              "      <th>culture</th>\n",
              "      <th>isMusic</th>\n",
              "      <th>text</th>\n",
              "      <th>filtered_desc</th>\n",
              "    </tr>\n",
              "  </thead>\n",
              "  <tbody>\n",
              "    <tr>\n",
              "      <th>0</th>\n",
              "      <td>1000187186721956</td>\n",
              "      <td>1</td>\n",
              "      <td>0</td>\n",
              "      <td>1</td>\n",
              "      <td>0</td>\n",
              "      <td>Martedi 05 gennaio super tombolata al Barfly!\\...</td>\n",
              "      <td>super tombolata barfly tante calze vincere for...</td>\n",
              "    </tr>\n",
              "    <tr>\n",
              "      <th>1</th>\n",
              "      <td>100731190460200</td>\n",
              "      <td>0</td>\n",
              "      <td>0</td>\n",
              "      <td>1</td>\n",
              "      <td>1</td>\n",
              "      <td>Ingresso free senza obbligo di consumazione,se...</td>\n",
              "      <td>ingresso free obbligo consumazione serata disc...</td>\n",
              "    </tr>\n",
              "    <tr>\n",
              "      <th>2</th>\n",
              "      <td>1014507045355357</td>\n",
              "      <td>0</td>\n",
              "      <td>0</td>\n",
              "      <td>0</td>\n",
              "      <td>1</td>\n",
              "      <td>Giovedi 8 Marzo, Napulitanata \"celebra la donn...</td>\n",
              "      <td>napulitanata celebra donna serata eccezione ma...</td>\n",
              "    </tr>\n",
              "    <tr>\n",
              "      <th>3</th>\n",
              "      <td>1015563648832823</td>\n",
              "      <td>0</td>\n",
              "      <td>0</td>\n",
              "      <td>1</td>\n",
              "      <td>1</td>\n",
              "      <td>yn e lieta di presentare\\n\\nNapoolyn x Resilie...</td>\n",
              "      <td>yn lieta presentare napoolyn x resilienza reco...</td>\n",
              "    </tr>\n",
              "    <tr>\n",
              "      <th>4</th>\n",
              "      <td>1021806692027608</td>\n",
              "      <td>0</td>\n",
              "      <td>0</td>\n",
              "      <td>0</td>\n",
              "      <td>1</td>\n",
              "      <td>Serata live \\nVENERDI' 18 MARZO \\nUn piacevole...</td>\n",
              "      <td>serata live piacevole ritorno palco biergrube ...</td>\n",
              "    </tr>\n",
              "    <tr>\n",
              "      <th>...</th>\n",
              "      <td>...</td>\n",
              "      <td>...</td>\n",
              "      <td>...</td>\n",
              "      <td>...</td>\n",
              "      <td>...</td>\n",
              "      <td>...</td>\n",
              "      <td>...</td>\n",
              "    </tr>\n",
              "    <tr>\n",
              "      <th>6322</th>\n",
              "      <td>996956944037551</td>\n",
              "      <td>0</td>\n",
              "      <td>0</td>\n",
              "      <td>0</td>\n",
              "      <td>1</td>\n",
              "      <td>Hot Club Roma Trio\\n\\nMoreno Viglione chitarra...</td>\n",
              "      <td>hot club trio moreno viglione chitarra solista...</td>\n",
              "    </tr>\n",
              "    <tr>\n",
              "      <th>6323</th>\n",
              "      <td>997255064998935</td>\n",
              "      <td>0</td>\n",
              "      <td>1</td>\n",
              "      <td>0</td>\n",
              "      <td>0</td>\n",
              "      <td>Presentazione del libro:\\n \"Tasmania\" (Einaudi...</td>\n",
              "      <td>presentazione libro tasmania einaudi editore p...</td>\n",
              "    </tr>\n",
              "    <tr>\n",
              "      <th>6324</th>\n",
              "      <td>997824980996408</td>\n",
              "      <td>0</td>\n",
              "      <td>1</td>\n",
              "      <td>1</td>\n",
              "      <td>1</td>\n",
              "      <td>In occasione delle GIORNATE EUROPEE DEL PATRIM...</td>\n",
              "      <td>occasione giornate europee patrimonio ore muse...</td>\n",
              "    </tr>\n",
              "    <tr>\n",
              "      <th>6325</th>\n",
              "      <td>998364400508276</td>\n",
              "      <td>0</td>\n",
              "      <td>0</td>\n",
              "      <td>1</td>\n",
              "      <td>0</td>\n",
              "      <td>Vieni a Danzare gratuitamente per un giorno co...</td>\n",
              "      <td>vieni danzare gratuitamente giorno amici tagga...</td>\n",
              "    </tr>\n",
              "    <tr>\n",
              "      <th>6326</th>\n",
              "      <td>998894123521159</td>\n",
              "      <td>0</td>\n",
              "      <td>1</td>\n",
              "      <td>0</td>\n",
              "      <td>0</td>\n",
              "      <td>Il convegno, in linea col precedente Leducazio...</td>\n",
              "      <td>convegno linea precedente leducazione scoperta...</td>\n",
              "    </tr>\n",
              "  </tbody>\n",
              "</table>\n",
              "<p>6327 rows × 7 columns</p>\n",
              "</div>\n",
              "      <button class=\"colab-df-convert\" onclick=\"convertToInteractive('df-008c6b78-228c-4e3b-88ff-d137d20199a3')\"\n",
              "              title=\"Convert this dataframe to an interactive table.\"\n",
              "              style=\"display:none;\">\n",
              "        \n",
              "  <svg xmlns=\"http://www.w3.org/2000/svg\" height=\"24px\"viewBox=\"0 0 24 24\"\n",
              "       width=\"24px\">\n",
              "    <path d=\"M0 0h24v24H0V0z\" fill=\"none\"/>\n",
              "    <path d=\"M18.56 5.44l.94 2.06.94-2.06 2.06-.94-2.06-.94-.94-2.06-.94 2.06-2.06.94zm-11 1L8.5 8.5l.94-2.06 2.06-.94-2.06-.94L8.5 2.5l-.94 2.06-2.06.94zm10 10l.94 2.06.94-2.06 2.06-.94-2.06-.94-.94-2.06-.94 2.06-2.06.94z\"/><path d=\"M17.41 7.96l-1.37-1.37c-.4-.4-.92-.59-1.43-.59-.52 0-1.04.2-1.43.59L10.3 9.45l-7.72 7.72c-.78.78-.78 2.05 0 2.83L4 21.41c.39.39.9.59 1.41.59.51 0 1.02-.2 1.41-.59l7.78-7.78 2.81-2.81c.8-.78.8-2.07 0-2.86zM5.41 20L4 18.59l7.72-7.72 1.47 1.35L5.41 20z\"/>\n",
              "  </svg>\n",
              "      </button>\n",
              "      \n",
              "  <style>\n",
              "    .colab-df-container {\n",
              "      display:flex;\n",
              "      flex-wrap:wrap;\n",
              "      gap: 12px;\n",
              "    }\n",
              "\n",
              "    .colab-df-convert {\n",
              "      background-color: #E8F0FE;\n",
              "      border: none;\n",
              "      border-radius: 50%;\n",
              "      cursor: pointer;\n",
              "      display: none;\n",
              "      fill: #1967D2;\n",
              "      height: 32px;\n",
              "      padding: 0 0 0 0;\n",
              "      width: 32px;\n",
              "    }\n",
              "\n",
              "    .colab-df-convert:hover {\n",
              "      background-color: #E2EBFA;\n",
              "      box-shadow: 0px 1px 2px rgba(60, 64, 67, 0.3), 0px 1px 3px 1px rgba(60, 64, 67, 0.15);\n",
              "      fill: #174EA6;\n",
              "    }\n",
              "\n",
              "    [theme=dark] .colab-df-convert {\n",
              "      background-color: #3B4455;\n",
              "      fill: #D2E3FC;\n",
              "    }\n",
              "\n",
              "    [theme=dark] .colab-df-convert:hover {\n",
              "      background-color: #434B5C;\n",
              "      box-shadow: 0px 1px 3px 1px rgba(0, 0, 0, 0.15);\n",
              "      filter: drop-shadow(0px 1px 2px rgba(0, 0, 0, 0.3));\n",
              "      fill: #FFFFFF;\n",
              "    }\n",
              "  </style>\n",
              "\n",
              "      <script>\n",
              "        const buttonEl =\n",
              "          document.querySelector('#df-008c6b78-228c-4e3b-88ff-d137d20199a3 button.colab-df-convert');\n",
              "        buttonEl.style.display =\n",
              "          google.colab.kernel.accessAllowed ? 'block' : 'none';\n",
              "\n",
              "        async function convertToInteractive(key) {\n",
              "          const element = document.querySelector('#df-008c6b78-228c-4e3b-88ff-d137d20199a3');\n",
              "          const dataTable =\n",
              "            await google.colab.kernel.invokeFunction('convertToInteractive',\n",
              "                                                     [key], {});\n",
              "          if (!dataTable) return;\n",
              "\n",
              "          const docLinkHtml = 'Like what you see? Visit the ' +\n",
              "            '<a target=\"_blank\" href=https://colab.research.google.com/notebooks/data_table.ipynb>data table notebook</a>'\n",
              "            + ' to learn more about interactive tables.';\n",
              "          element.innerHTML = '';\n",
              "          dataTable['output_type'] = 'display_data';\n",
              "          await google.colab.output.renderOutput(dataTable, element);\n",
              "          const docLink = document.createElement('div');\n",
              "          docLink.innerHTML = docLinkHtml;\n",
              "          element.appendChild(docLink);\n",
              "        }\n",
              "      </script>\n",
              "    </div>\n",
              "  </div>\n",
              "  "
            ]
          },
          "metadata": {},
          "execution_count": 161
        }
      ]
    },
    {
      "cell_type": "code",
      "execution_count": 159,
      "metadata": {
        "colab": {
          "base_uri": "https://localhost:8080/"
        },
        "id": "4-NywfQD9MMd",
        "outputId": "fda28b93-0482-499c-c4d5-c05f379b4edc"
      },
      "outputs": [
        {
          "output_type": "stream",
          "name": "stdout",
          "text": [
            "The new event belongs to the culture class with a probability of 0.96\n"
          ]
        }
      ],
      "source": [
        "# Prevedi le etichette per un nuovo evento\n",
        "new_event = ['Techno rave musica ballo amici alcohol']\n",
        "X_new = vectorizer.transform(new_event)\n",
        "\n",
        "y_pred_fun = models[0].predict_proba(X_new)[0][1]\n",
        "y_pred_food = models[1].predict_proba(X_new)[0][1]\n",
        "y_pred_culture = models[2].predict_proba(X_new)[0][1]\n",
        "y_pred_music = models[3].predict_proba(X_new)[0][1]\n",
        "\n",
        "# Confronta i risultati per evincere la categoria di appartenenza dell'evento\n",
        "probs = [y_pred_fun, y_pred_food, y_pred_culture, y_pred_music]\n",
        "pred_class = ['fun', 'food', 'culture', 'music'][np.argmax(probs)]\n",
        "print(f\"The new event belongs to the {pred_class} class with a probability of {np.max(probs):.2f}\")"
      ]
    },
    {
      "cell_type": "markdown",
      "metadata": {
        "id": "0E_S_wcDOZi2"
      },
      "source": [
        "####Da Multi-label a Multi-classe\n",
        "A questo punto potremmo pensare di rappresentare il nostro Multi-Label problem come un Multi-Class binary classification problem. È utile costruire questo modello come base di confronto per i prossimi modelli: esso tratterà le label come singoli classification problems. Costruiamo il modello di base."
      ]
    },
    {
      "cell_type": "code",
      "execution_count": 147,
      "metadata": {
        "colab": {
          "base_uri": "https://localhost:8080/",
          "height": 0
        },
        "id": "LmLCZIW0Kmcw",
        "outputId": "87dc5273-c9b9-4193-90c9-00b62c881b35"
      },
      "outputs": [
        {
          "output_type": "execute_result",
          "data": {
            "text/plain": [
              "      fun  food  culture  isMusic\n",
              "1293    1     1        1        0\n",
              "7141    0     0        1        1\n",
              "3846    0     0        1        1\n",
              "4310    0     1        0        0\n",
              "5319    0     1        0        0\n",
              "...   ...   ...      ...      ...\n",
              "3448    0     1        1        0\n",
              "6162    0     0        0        1\n",
              "1159    1     0        1        1\n",
              "6140    1     1        1        1\n",
              "4563    1     1        1        0\n",
              "\n",
              "[1582 rows x 4 columns]"
            ],
            "text/html": [
              "\n",
              "  <div id=\"df-84525688-cce6-4fa3-a3b0-542af54336df\">\n",
              "    <div class=\"colab-df-container\">\n",
              "      <div>\n",
              "<style scoped>\n",
              "    .dataframe tbody tr th:only-of-type {\n",
              "        vertical-align: middle;\n",
              "    }\n",
              "\n",
              "    .dataframe tbody tr th {\n",
              "        vertical-align: top;\n",
              "    }\n",
              "\n",
              "    .dataframe thead th {\n",
              "        text-align: right;\n",
              "    }\n",
              "</style>\n",
              "<table border=\"1\" class=\"dataframe\">\n",
              "  <thead>\n",
              "    <tr style=\"text-align: right;\">\n",
              "      <th></th>\n",
              "      <th>fun</th>\n",
              "      <th>food</th>\n",
              "      <th>culture</th>\n",
              "      <th>isMusic</th>\n",
              "    </tr>\n",
              "  </thead>\n",
              "  <tbody>\n",
              "    <tr>\n",
              "      <th>1293</th>\n",
              "      <td>1</td>\n",
              "      <td>1</td>\n",
              "      <td>1</td>\n",
              "      <td>0</td>\n",
              "    </tr>\n",
              "    <tr>\n",
              "      <th>7141</th>\n",
              "      <td>0</td>\n",
              "      <td>0</td>\n",
              "      <td>1</td>\n",
              "      <td>1</td>\n",
              "    </tr>\n",
              "    <tr>\n",
              "      <th>3846</th>\n",
              "      <td>0</td>\n",
              "      <td>0</td>\n",
              "      <td>1</td>\n",
              "      <td>1</td>\n",
              "    </tr>\n",
              "    <tr>\n",
              "      <th>4310</th>\n",
              "      <td>0</td>\n",
              "      <td>1</td>\n",
              "      <td>0</td>\n",
              "      <td>0</td>\n",
              "    </tr>\n",
              "    <tr>\n",
              "      <th>5319</th>\n",
              "      <td>0</td>\n",
              "      <td>1</td>\n",
              "      <td>0</td>\n",
              "      <td>0</td>\n",
              "    </tr>\n",
              "    <tr>\n",
              "      <th>...</th>\n",
              "      <td>...</td>\n",
              "      <td>...</td>\n",
              "      <td>...</td>\n",
              "      <td>...</td>\n",
              "    </tr>\n",
              "    <tr>\n",
              "      <th>3448</th>\n",
              "      <td>0</td>\n",
              "      <td>1</td>\n",
              "      <td>1</td>\n",
              "      <td>0</td>\n",
              "    </tr>\n",
              "    <tr>\n",
              "      <th>6162</th>\n",
              "      <td>0</td>\n",
              "      <td>0</td>\n",
              "      <td>0</td>\n",
              "      <td>1</td>\n",
              "    </tr>\n",
              "    <tr>\n",
              "      <th>1159</th>\n",
              "      <td>1</td>\n",
              "      <td>0</td>\n",
              "      <td>1</td>\n",
              "      <td>1</td>\n",
              "    </tr>\n",
              "    <tr>\n",
              "      <th>6140</th>\n",
              "      <td>1</td>\n",
              "      <td>1</td>\n",
              "      <td>1</td>\n",
              "      <td>1</td>\n",
              "    </tr>\n",
              "    <tr>\n",
              "      <th>4563</th>\n",
              "      <td>1</td>\n",
              "      <td>1</td>\n",
              "      <td>1</td>\n",
              "      <td>0</td>\n",
              "    </tr>\n",
              "  </tbody>\n",
              "</table>\n",
              "<p>1582 rows × 4 columns</p>\n",
              "</div>\n",
              "      <button class=\"colab-df-convert\" onclick=\"convertToInteractive('df-84525688-cce6-4fa3-a3b0-542af54336df')\"\n",
              "              title=\"Convert this dataframe to an interactive table.\"\n",
              "              style=\"display:none;\">\n",
              "        \n",
              "  <svg xmlns=\"http://www.w3.org/2000/svg\" height=\"24px\"viewBox=\"0 0 24 24\"\n",
              "       width=\"24px\">\n",
              "    <path d=\"M0 0h24v24H0V0z\" fill=\"none\"/>\n",
              "    <path d=\"M18.56 5.44l.94 2.06.94-2.06 2.06-.94-2.06-.94-.94-2.06-.94 2.06-2.06.94zm-11 1L8.5 8.5l.94-2.06 2.06-.94-2.06-.94L8.5 2.5l-.94 2.06-2.06.94zm10 10l.94 2.06.94-2.06 2.06-.94-2.06-.94-.94-2.06-.94 2.06-2.06.94z\"/><path d=\"M17.41 7.96l-1.37-1.37c-.4-.4-.92-.59-1.43-.59-.52 0-1.04.2-1.43.59L10.3 9.45l-7.72 7.72c-.78.78-.78 2.05 0 2.83L4 21.41c.39.39.9.59 1.41.59.51 0 1.02-.2 1.41-.59l7.78-7.78 2.81-2.81c.8-.78.8-2.07 0-2.86zM5.41 20L4 18.59l7.72-7.72 1.47 1.35L5.41 20z\"/>\n",
              "  </svg>\n",
              "      </button>\n",
              "      \n",
              "  <style>\n",
              "    .colab-df-container {\n",
              "      display:flex;\n",
              "      flex-wrap:wrap;\n",
              "      gap: 12px;\n",
              "    }\n",
              "\n",
              "    .colab-df-convert {\n",
              "      background-color: #E8F0FE;\n",
              "      border: none;\n",
              "      border-radius: 50%;\n",
              "      cursor: pointer;\n",
              "      display: none;\n",
              "      fill: #1967D2;\n",
              "      height: 32px;\n",
              "      padding: 0 0 0 0;\n",
              "      width: 32px;\n",
              "    }\n",
              "\n",
              "    .colab-df-convert:hover {\n",
              "      background-color: #E2EBFA;\n",
              "      box-shadow: 0px 1px 2px rgba(60, 64, 67, 0.3), 0px 1px 3px 1px rgba(60, 64, 67, 0.15);\n",
              "      fill: #174EA6;\n",
              "    }\n",
              "\n",
              "    [theme=dark] .colab-df-convert {\n",
              "      background-color: #3B4455;\n",
              "      fill: #D2E3FC;\n",
              "    }\n",
              "\n",
              "    [theme=dark] .colab-df-convert:hover {\n",
              "      background-color: #434B5C;\n",
              "      box-shadow: 0px 1px 3px 1px rgba(0, 0, 0, 0.15);\n",
              "      filter: drop-shadow(0px 1px 2px rgba(0, 0, 0, 0.3));\n",
              "      fill: #FFFFFF;\n",
              "    }\n",
              "  </style>\n",
              "\n",
              "      <script>\n",
              "        const buttonEl =\n",
              "          document.querySelector('#df-84525688-cce6-4fa3-a3b0-542af54336df button.colab-df-convert');\n",
              "        buttonEl.style.display =\n",
              "          google.colab.kernel.accessAllowed ? 'block' : 'none';\n",
              "\n",
              "        async function convertToInteractive(key) {\n",
              "          const element = document.querySelector('#df-84525688-cce6-4fa3-a3b0-542af54336df');\n",
              "          const dataTable =\n",
              "            await google.colab.kernel.invokeFunction('convertToInteractive',\n",
              "                                                     [key], {});\n",
              "          if (!dataTable) return;\n",
              "\n",
              "          const docLinkHtml = 'Like what you see? Visit the ' +\n",
              "            '<a target=\"_blank\" href=https://colab.research.google.com/notebooks/data_table.ipynb>data table notebook</a>'\n",
              "            + ' to learn more about interactive tables.';\n",
              "          element.innerHTML = '';\n",
              "          dataTable['output_type'] = 'display_data';\n",
              "          await google.colab.output.renderOutput(dataTable, element);\n",
              "          const docLink = document.createElement('div');\n",
              "          docLink.innerHTML = docLinkHtml;\n",
              "          element.appendChild(docLink);\n",
              "        }\n",
              "      </script>\n",
              "    </div>\n",
              "  </div>\n",
              "  "
            ]
          },
          "metadata": {},
          "execution_count": 147
        }
      ],
      "source": [
        "y_test"
      ]
    },
    {
      "cell_type": "code",
      "execution_count": 148,
      "metadata": {
        "id": "zv_D-D5qPurq",
        "colab": {
          "base_uri": "https://localhost:8080/",
          "height": 0
        },
        "outputId": "e4e2fae0-0926-4247-ca7d-c24447253cca"
      },
      "outputs": [
        {
          "output_type": "error",
          "ename": "KeyboardInterrupt",
          "evalue": "ignored",
          "traceback": [
            "\u001b[0;31m---------------------------------------------------------------------------\u001b[0m",
            "\u001b[0;31mKeyboardInterrupt\u001b[0m                         Traceback (most recent call last)",
            "\u001b[0;32m<ipython-input-148-39c6dee50f66>\u001b[0m in \u001b[0;36m<module>\u001b[0;34m\u001b[0m\n\u001b[1;32m     18\u001b[0m '''\n\u001b[1;32m     19\u001b[0m \u001b[0;34m\u001b[0m\u001b[0m\n\u001b[0;32m---> 20\u001b[0;31m \u001b[0mrfc\u001b[0m\u001b[0;34m.\u001b[0m\u001b[0mfit\u001b[0m\u001b[0;34m(\u001b[0m\u001b[0mX_train\u001b[0m\u001b[0;34m,\u001b[0m\u001b[0my_train\u001b[0m\u001b[0;34m,\u001b[0m \u001b[0msample_weight\u001b[0m\u001b[0;34m=\u001b[0m\u001b[0mweights\u001b[0m\u001b[0;34m)\u001b[0m\u001b[0;34m\u001b[0m\u001b[0;34m\u001b[0m\u001b[0m\n\u001b[0m\u001b[1;32m     21\u001b[0m \u001b[0mbiRel\u001b[0m\u001b[0;34m.\u001b[0m\u001b[0mfit\u001b[0m\u001b[0;34m(\u001b[0m\u001b[0mX_train\u001b[0m\u001b[0;34m,\u001b[0m\u001b[0my_train\u001b[0m\u001b[0;34m)\u001b[0m\u001b[0;34m\u001b[0m\u001b[0;34m\u001b[0m\u001b[0m\n\u001b[1;32m     22\u001b[0m \u001b[0mbiRel2\u001b[0m\u001b[0;34m.\u001b[0m\u001b[0mfit\u001b[0m\u001b[0;34m(\u001b[0m\u001b[0mX_train\u001b[0m\u001b[0;34m,\u001b[0m\u001b[0my_train\u001b[0m\u001b[0;34m)\u001b[0m\u001b[0;34m\u001b[0m\u001b[0;34m\u001b[0m\u001b[0m\n",
            "\u001b[0;32m/usr/local/lib/python3.8/dist-packages/sklearn/ensemble/_forest.py\u001b[0m in \u001b[0;36mfit\u001b[0;34m(self, X, y, sample_weight)\u001b[0m\n\u001b[1;32m    448\u001b[0m             \u001b[0;31m# parallel_backend contexts set at a higher level,\u001b[0m\u001b[0;34m\u001b[0m\u001b[0;34m\u001b[0m\u001b[0;34m\u001b[0m\u001b[0m\n\u001b[1;32m    449\u001b[0m             \u001b[0;31m# since correctness does not rely on using threads.\u001b[0m\u001b[0;34m\u001b[0m\u001b[0;34m\u001b[0m\u001b[0;34m\u001b[0m\u001b[0m\n\u001b[0;32m--> 450\u001b[0;31m             trees = Parallel(\n\u001b[0m\u001b[1;32m    451\u001b[0m                 \u001b[0mn_jobs\u001b[0m\u001b[0;34m=\u001b[0m\u001b[0mself\u001b[0m\u001b[0;34m.\u001b[0m\u001b[0mn_jobs\u001b[0m\u001b[0;34m,\u001b[0m\u001b[0;34m\u001b[0m\u001b[0;34m\u001b[0m\u001b[0m\n\u001b[1;32m    452\u001b[0m                 \u001b[0mverbose\u001b[0m\u001b[0;34m=\u001b[0m\u001b[0mself\u001b[0m\u001b[0;34m.\u001b[0m\u001b[0mverbose\u001b[0m\u001b[0;34m,\u001b[0m\u001b[0;34m\u001b[0m\u001b[0;34m\u001b[0m\u001b[0m\n",
            "\u001b[0;32m/usr/local/lib/python3.8/dist-packages/joblib/parallel.py\u001b[0m in \u001b[0;36m__call__\u001b[0;34m(self, iterable)\u001b[0m\n\u001b[1;32m   1086\u001b[0m                 \u001b[0mself\u001b[0m\u001b[0;34m.\u001b[0m\u001b[0m_iterating\u001b[0m \u001b[0;34m=\u001b[0m \u001b[0mself\u001b[0m\u001b[0;34m.\u001b[0m\u001b[0m_original_iterator\u001b[0m \u001b[0;32mis\u001b[0m \u001b[0;32mnot\u001b[0m \u001b[0;32mNone\u001b[0m\u001b[0;34m\u001b[0m\u001b[0;34m\u001b[0m\u001b[0m\n\u001b[1;32m   1087\u001b[0m \u001b[0;34m\u001b[0m\u001b[0m\n\u001b[0;32m-> 1088\u001b[0;31m             \u001b[0;32mwhile\u001b[0m \u001b[0mself\u001b[0m\u001b[0;34m.\u001b[0m\u001b[0mdispatch_one_batch\u001b[0m\u001b[0;34m(\u001b[0m\u001b[0miterator\u001b[0m\u001b[0;34m)\u001b[0m\u001b[0;34m:\u001b[0m\u001b[0;34m\u001b[0m\u001b[0;34m\u001b[0m\u001b[0m\n\u001b[0m\u001b[1;32m   1089\u001b[0m                 \u001b[0;32mpass\u001b[0m\u001b[0;34m\u001b[0m\u001b[0;34m\u001b[0m\u001b[0m\n\u001b[1;32m   1090\u001b[0m \u001b[0;34m\u001b[0m\u001b[0m\n",
            "\u001b[0;32m/usr/local/lib/python3.8/dist-packages/joblib/parallel.py\u001b[0m in \u001b[0;36mdispatch_one_batch\u001b[0;34m(self, iterator)\u001b[0m\n\u001b[1;32m    899\u001b[0m                 \u001b[0;32mreturn\u001b[0m \u001b[0;32mFalse\u001b[0m\u001b[0;34m\u001b[0m\u001b[0;34m\u001b[0m\u001b[0m\n\u001b[1;32m    900\u001b[0m             \u001b[0;32melse\u001b[0m\u001b[0;34m:\u001b[0m\u001b[0;34m\u001b[0m\u001b[0;34m\u001b[0m\u001b[0m\n\u001b[0;32m--> 901\u001b[0;31m                 \u001b[0mself\u001b[0m\u001b[0;34m.\u001b[0m\u001b[0m_dispatch\u001b[0m\u001b[0;34m(\u001b[0m\u001b[0mtasks\u001b[0m\u001b[0;34m)\u001b[0m\u001b[0;34m\u001b[0m\u001b[0;34m\u001b[0m\u001b[0m\n\u001b[0m\u001b[1;32m    902\u001b[0m                 \u001b[0;32mreturn\u001b[0m \u001b[0;32mTrue\u001b[0m\u001b[0;34m\u001b[0m\u001b[0;34m\u001b[0m\u001b[0m\n\u001b[1;32m    903\u001b[0m \u001b[0;34m\u001b[0m\u001b[0m\n",
            "\u001b[0;32m/usr/local/lib/python3.8/dist-packages/joblib/parallel.py\u001b[0m in \u001b[0;36m_dispatch\u001b[0;34m(self, batch)\u001b[0m\n\u001b[1;32m    817\u001b[0m         \u001b[0;32mwith\u001b[0m \u001b[0mself\u001b[0m\u001b[0;34m.\u001b[0m\u001b[0m_lock\u001b[0m\u001b[0;34m:\u001b[0m\u001b[0;34m\u001b[0m\u001b[0;34m\u001b[0m\u001b[0m\n\u001b[1;32m    818\u001b[0m             \u001b[0mjob_idx\u001b[0m \u001b[0;34m=\u001b[0m \u001b[0mlen\u001b[0m\u001b[0;34m(\u001b[0m\u001b[0mself\u001b[0m\u001b[0;34m.\u001b[0m\u001b[0m_jobs\u001b[0m\u001b[0;34m)\u001b[0m\u001b[0;34m\u001b[0m\u001b[0;34m\u001b[0m\u001b[0m\n\u001b[0;32m--> 819\u001b[0;31m             \u001b[0mjob\u001b[0m \u001b[0;34m=\u001b[0m \u001b[0mself\u001b[0m\u001b[0;34m.\u001b[0m\u001b[0m_backend\u001b[0m\u001b[0;34m.\u001b[0m\u001b[0mapply_async\u001b[0m\u001b[0;34m(\u001b[0m\u001b[0mbatch\u001b[0m\u001b[0;34m,\u001b[0m \u001b[0mcallback\u001b[0m\u001b[0;34m=\u001b[0m\u001b[0mcb\u001b[0m\u001b[0;34m)\u001b[0m\u001b[0;34m\u001b[0m\u001b[0;34m\u001b[0m\u001b[0m\n\u001b[0m\u001b[1;32m    820\u001b[0m             \u001b[0;31m# A job can complete so quickly than its callback is\u001b[0m\u001b[0;34m\u001b[0m\u001b[0;34m\u001b[0m\u001b[0;34m\u001b[0m\u001b[0m\n\u001b[1;32m    821\u001b[0m             \u001b[0;31m# called before we get here, causing self._jobs to\u001b[0m\u001b[0;34m\u001b[0m\u001b[0;34m\u001b[0m\u001b[0;34m\u001b[0m\u001b[0m\n",
            "\u001b[0;32m/usr/local/lib/python3.8/dist-packages/joblib/_parallel_backends.py\u001b[0m in \u001b[0;36mapply_async\u001b[0;34m(self, func, callback)\u001b[0m\n\u001b[1;32m    206\u001b[0m     \u001b[0;32mdef\u001b[0m \u001b[0mapply_async\u001b[0m\u001b[0;34m(\u001b[0m\u001b[0mself\u001b[0m\u001b[0;34m,\u001b[0m \u001b[0mfunc\u001b[0m\u001b[0;34m,\u001b[0m \u001b[0mcallback\u001b[0m\u001b[0;34m=\u001b[0m\u001b[0;32mNone\u001b[0m\u001b[0;34m)\u001b[0m\u001b[0;34m:\u001b[0m\u001b[0;34m\u001b[0m\u001b[0;34m\u001b[0m\u001b[0m\n\u001b[1;32m    207\u001b[0m         \u001b[0;34m\"\"\"Schedule a func to be run\"\"\"\u001b[0m\u001b[0;34m\u001b[0m\u001b[0;34m\u001b[0m\u001b[0m\n\u001b[0;32m--> 208\u001b[0;31m         \u001b[0mresult\u001b[0m \u001b[0;34m=\u001b[0m \u001b[0mImmediateResult\u001b[0m\u001b[0;34m(\u001b[0m\u001b[0mfunc\u001b[0m\u001b[0;34m)\u001b[0m\u001b[0;34m\u001b[0m\u001b[0;34m\u001b[0m\u001b[0m\n\u001b[0m\u001b[1;32m    209\u001b[0m         \u001b[0;32mif\u001b[0m \u001b[0mcallback\u001b[0m\u001b[0;34m:\u001b[0m\u001b[0;34m\u001b[0m\u001b[0;34m\u001b[0m\u001b[0m\n\u001b[1;32m    210\u001b[0m             \u001b[0mcallback\u001b[0m\u001b[0;34m(\u001b[0m\u001b[0mresult\u001b[0m\u001b[0;34m)\u001b[0m\u001b[0;34m\u001b[0m\u001b[0;34m\u001b[0m\u001b[0m\n",
            "\u001b[0;32m/usr/local/lib/python3.8/dist-packages/joblib/_parallel_backends.py\u001b[0m in \u001b[0;36m__init__\u001b[0;34m(self, batch)\u001b[0m\n\u001b[1;32m    595\u001b[0m         \u001b[0;31m# Don't delay the application, to avoid keeping the input\u001b[0m\u001b[0;34m\u001b[0m\u001b[0;34m\u001b[0m\u001b[0;34m\u001b[0m\u001b[0m\n\u001b[1;32m    596\u001b[0m         \u001b[0;31m# arguments in memory\u001b[0m\u001b[0;34m\u001b[0m\u001b[0;34m\u001b[0m\u001b[0;34m\u001b[0m\u001b[0m\n\u001b[0;32m--> 597\u001b[0;31m         \u001b[0mself\u001b[0m\u001b[0;34m.\u001b[0m\u001b[0mresults\u001b[0m \u001b[0;34m=\u001b[0m \u001b[0mbatch\u001b[0m\u001b[0;34m(\u001b[0m\u001b[0;34m)\u001b[0m\u001b[0;34m\u001b[0m\u001b[0;34m\u001b[0m\u001b[0m\n\u001b[0m\u001b[1;32m    598\u001b[0m \u001b[0;34m\u001b[0m\u001b[0m\n\u001b[1;32m    599\u001b[0m     \u001b[0;32mdef\u001b[0m \u001b[0mget\u001b[0m\u001b[0;34m(\u001b[0m\u001b[0mself\u001b[0m\u001b[0;34m)\u001b[0m\u001b[0;34m:\u001b[0m\u001b[0;34m\u001b[0m\u001b[0;34m\u001b[0m\u001b[0m\n",
            "\u001b[0;32m/usr/local/lib/python3.8/dist-packages/joblib/parallel.py\u001b[0m in \u001b[0;36m__call__\u001b[0;34m(self)\u001b[0m\n\u001b[1;32m    286\u001b[0m         \u001b[0;31m# change the default number of processes to -1\u001b[0m\u001b[0;34m\u001b[0m\u001b[0;34m\u001b[0m\u001b[0;34m\u001b[0m\u001b[0m\n\u001b[1;32m    287\u001b[0m         \u001b[0;32mwith\u001b[0m \u001b[0mparallel_backend\u001b[0m\u001b[0;34m(\u001b[0m\u001b[0mself\u001b[0m\u001b[0;34m.\u001b[0m\u001b[0m_backend\u001b[0m\u001b[0;34m,\u001b[0m \u001b[0mn_jobs\u001b[0m\u001b[0;34m=\u001b[0m\u001b[0mself\u001b[0m\u001b[0;34m.\u001b[0m\u001b[0m_n_jobs\u001b[0m\u001b[0;34m)\u001b[0m\u001b[0;34m:\u001b[0m\u001b[0;34m\u001b[0m\u001b[0;34m\u001b[0m\u001b[0m\n\u001b[0;32m--> 288\u001b[0;31m             return [func(*args, **kwargs)\n\u001b[0m\u001b[1;32m    289\u001b[0m                     for func, args, kwargs in self.items]\n\u001b[1;32m    290\u001b[0m \u001b[0;34m\u001b[0m\u001b[0m\n",
            "\u001b[0;32m/usr/local/lib/python3.8/dist-packages/joblib/parallel.py\u001b[0m in \u001b[0;36m<listcomp>\u001b[0;34m(.0)\u001b[0m\n\u001b[1;32m    286\u001b[0m         \u001b[0;31m# change the default number of processes to -1\u001b[0m\u001b[0;34m\u001b[0m\u001b[0;34m\u001b[0m\u001b[0;34m\u001b[0m\u001b[0m\n\u001b[1;32m    287\u001b[0m         \u001b[0;32mwith\u001b[0m \u001b[0mparallel_backend\u001b[0m\u001b[0;34m(\u001b[0m\u001b[0mself\u001b[0m\u001b[0;34m.\u001b[0m\u001b[0m_backend\u001b[0m\u001b[0;34m,\u001b[0m \u001b[0mn_jobs\u001b[0m\u001b[0;34m=\u001b[0m\u001b[0mself\u001b[0m\u001b[0;34m.\u001b[0m\u001b[0m_n_jobs\u001b[0m\u001b[0;34m)\u001b[0m\u001b[0;34m:\u001b[0m\u001b[0;34m\u001b[0m\u001b[0;34m\u001b[0m\u001b[0m\n\u001b[0;32m--> 288\u001b[0;31m             return [func(*args, **kwargs)\n\u001b[0m\u001b[1;32m    289\u001b[0m                     for func, args, kwargs in self.items]\n\u001b[1;32m    290\u001b[0m \u001b[0;34m\u001b[0m\u001b[0m\n",
            "\u001b[0;32m/usr/local/lib/python3.8/dist-packages/sklearn/utils/fixes.py\u001b[0m in \u001b[0;36m__call__\u001b[0;34m(self, *args, **kwargs)\u001b[0m\n\u001b[1;32m    214\u001b[0m     \u001b[0;32mdef\u001b[0m \u001b[0m__call__\u001b[0m\u001b[0;34m(\u001b[0m\u001b[0mself\u001b[0m\u001b[0;34m,\u001b[0m \u001b[0;34m*\u001b[0m\u001b[0margs\u001b[0m\u001b[0;34m,\u001b[0m \u001b[0;34m**\u001b[0m\u001b[0mkwargs\u001b[0m\u001b[0;34m)\u001b[0m\u001b[0;34m:\u001b[0m\u001b[0;34m\u001b[0m\u001b[0;34m\u001b[0m\u001b[0m\n\u001b[1;32m    215\u001b[0m         \u001b[0;32mwith\u001b[0m \u001b[0mconfig_context\u001b[0m\u001b[0;34m(\u001b[0m\u001b[0;34m**\u001b[0m\u001b[0mself\u001b[0m\u001b[0;34m.\u001b[0m\u001b[0mconfig\u001b[0m\u001b[0;34m)\u001b[0m\u001b[0;34m:\u001b[0m\u001b[0;34m\u001b[0m\u001b[0;34m\u001b[0m\u001b[0m\n\u001b[0;32m--> 216\u001b[0;31m             \u001b[0;32mreturn\u001b[0m \u001b[0mself\u001b[0m\u001b[0;34m.\u001b[0m\u001b[0mfunction\u001b[0m\u001b[0;34m(\u001b[0m\u001b[0;34m*\u001b[0m\u001b[0margs\u001b[0m\u001b[0;34m,\u001b[0m \u001b[0;34m**\u001b[0m\u001b[0mkwargs\u001b[0m\u001b[0;34m)\u001b[0m\u001b[0;34m\u001b[0m\u001b[0;34m\u001b[0m\u001b[0m\n\u001b[0m\u001b[1;32m    217\u001b[0m \u001b[0;34m\u001b[0m\u001b[0m\n\u001b[1;32m    218\u001b[0m \u001b[0;34m\u001b[0m\u001b[0m\n",
            "\u001b[0;32m/usr/local/lib/python3.8/dist-packages/sklearn/ensemble/_forest.py\u001b[0m in \u001b[0;36m_parallel_build_trees\u001b[0;34m(tree, forest, X, y, sample_weight, tree_idx, n_trees, verbose, class_weight, n_samples_bootstrap)\u001b[0m\n\u001b[1;32m    183\u001b[0m             \u001b[0mcurr_sample_weight\u001b[0m \u001b[0;34m*=\u001b[0m \u001b[0mcompute_sample_weight\u001b[0m\u001b[0;34m(\u001b[0m\u001b[0;34m\"balanced\"\u001b[0m\u001b[0;34m,\u001b[0m \u001b[0my\u001b[0m\u001b[0;34m,\u001b[0m \u001b[0mindices\u001b[0m\u001b[0;34m=\u001b[0m\u001b[0mindices\u001b[0m\u001b[0;34m)\u001b[0m\u001b[0;34m\u001b[0m\u001b[0;34m\u001b[0m\u001b[0m\n\u001b[1;32m    184\u001b[0m \u001b[0;34m\u001b[0m\u001b[0m\n\u001b[0;32m--> 185\u001b[0;31m         \u001b[0mtree\u001b[0m\u001b[0;34m.\u001b[0m\u001b[0mfit\u001b[0m\u001b[0;34m(\u001b[0m\u001b[0mX\u001b[0m\u001b[0;34m,\u001b[0m \u001b[0my\u001b[0m\u001b[0;34m,\u001b[0m \u001b[0msample_weight\u001b[0m\u001b[0;34m=\u001b[0m\u001b[0mcurr_sample_weight\u001b[0m\u001b[0;34m,\u001b[0m \u001b[0mcheck_input\u001b[0m\u001b[0;34m=\u001b[0m\u001b[0;32mFalse\u001b[0m\u001b[0;34m)\u001b[0m\u001b[0;34m\u001b[0m\u001b[0;34m\u001b[0m\u001b[0m\n\u001b[0m\u001b[1;32m    186\u001b[0m     \u001b[0;32melse\u001b[0m\u001b[0;34m:\u001b[0m\u001b[0;34m\u001b[0m\u001b[0;34m\u001b[0m\u001b[0m\n\u001b[1;32m    187\u001b[0m         \u001b[0mtree\u001b[0m\u001b[0;34m.\u001b[0m\u001b[0mfit\u001b[0m\u001b[0;34m(\u001b[0m\u001b[0mX\u001b[0m\u001b[0;34m,\u001b[0m \u001b[0my\u001b[0m\u001b[0;34m,\u001b[0m \u001b[0msample_weight\u001b[0m\u001b[0;34m=\u001b[0m\u001b[0msample_weight\u001b[0m\u001b[0;34m,\u001b[0m \u001b[0mcheck_input\u001b[0m\u001b[0;34m=\u001b[0m\u001b[0;32mFalse\u001b[0m\u001b[0;34m)\u001b[0m\u001b[0;34m\u001b[0m\u001b[0;34m\u001b[0m\u001b[0m\n",
            "\u001b[0;32m/usr/local/lib/python3.8/dist-packages/sklearn/tree/_classes.py\u001b[0m in \u001b[0;36mfit\u001b[0;34m(self, X, y, sample_weight, check_input, X_idx_sorted)\u001b[0m\n\u001b[1;32m    935\u001b[0m         \"\"\"\n\u001b[1;32m    936\u001b[0m \u001b[0;34m\u001b[0m\u001b[0m\n\u001b[0;32m--> 937\u001b[0;31m         super().fit(\n\u001b[0m\u001b[1;32m    938\u001b[0m             \u001b[0mX\u001b[0m\u001b[0;34m,\u001b[0m\u001b[0;34m\u001b[0m\u001b[0;34m\u001b[0m\u001b[0m\n\u001b[1;32m    939\u001b[0m             \u001b[0my\u001b[0m\u001b[0;34m,\u001b[0m\u001b[0;34m\u001b[0m\u001b[0;34m\u001b[0m\u001b[0m\n",
            "\u001b[0;32m/usr/local/lib/python3.8/dist-packages/sklearn/tree/_classes.py\u001b[0m in \u001b[0;36mfit\u001b[0;34m(self, X, y, sample_weight, check_input, X_idx_sorted)\u001b[0m\n\u001b[1;32m    418\u001b[0m             )\n\u001b[1;32m    419\u001b[0m \u001b[0;34m\u001b[0m\u001b[0m\n\u001b[0;32m--> 420\u001b[0;31m         \u001b[0mbuilder\u001b[0m\u001b[0;34m.\u001b[0m\u001b[0mbuild\u001b[0m\u001b[0;34m(\u001b[0m\u001b[0mself\u001b[0m\u001b[0;34m.\u001b[0m\u001b[0mtree_\u001b[0m\u001b[0;34m,\u001b[0m \u001b[0mX\u001b[0m\u001b[0;34m,\u001b[0m \u001b[0my\u001b[0m\u001b[0;34m,\u001b[0m \u001b[0msample_weight\u001b[0m\u001b[0;34m)\u001b[0m\u001b[0;34m\u001b[0m\u001b[0;34m\u001b[0m\u001b[0m\n\u001b[0m\u001b[1;32m    421\u001b[0m \u001b[0;34m\u001b[0m\u001b[0m\n\u001b[1;32m    422\u001b[0m         \u001b[0;32mif\u001b[0m \u001b[0mself\u001b[0m\u001b[0;34m.\u001b[0m\u001b[0mn_outputs_\u001b[0m \u001b[0;34m==\u001b[0m \u001b[0;36m1\u001b[0m \u001b[0;32mand\u001b[0m \u001b[0mis_classifier\u001b[0m\u001b[0;34m(\u001b[0m\u001b[0mself\u001b[0m\u001b[0;34m)\u001b[0m\u001b[0;34m:\u001b[0m\u001b[0;34m\u001b[0m\u001b[0;34m\u001b[0m\u001b[0m\n",
            "\u001b[0;31mKeyboardInterrupt\u001b[0m: "
          ]
        }
      ],
      "source": [
        "\n",
        "# Convert Our Multi-Label Prob to Multi-Class\n",
        "# Binary Classficiation\n",
        "biRel = BinaryRelevance(KNeighborsClassifier())\n",
        "biRel2 = BinaryRelevance(SVC())\n",
        "biRelRed = BinaryRelevance(SVC())\n",
        "rfc= RandomForestClassifier()\n",
        "\n",
        "'''\n",
        "BISOGNA PROVARE COMBINAZIONI FRA CLAS E MOD:\n",
        "CLAS                | MOD\n",
        "GaussianNB            BinaryRelevance\n",
        "BernoulliNB           LabelPowerset\n",
        "CategoricalNB         RakelD\n",
        "SVC                   RakelO\n",
        "KNeighborsClassifier  LabelSpacePartitioningClassifier\n",
        "SGDClassifier         MLkNN\n",
        "LogisticRegression\n",
        "'''\n",
        "\n",
        "rfc.fit(X_train,y_train, sample_weight=weights)\n",
        "biRel.fit(X_train,y_train)\n",
        "biRel2.fit(X_train,y_train)\n",
        "biRelRed.fit(X_reduced, y_trainReduced)"
      ]
    },
    {
      "cell_type": "code",
      "execution_count": null,
      "metadata": {
        "id": "ayphmqNHQ4QY"
      },
      "outputs": [],
      "source": [
        "# Predictions\n",
        "prediction = biRel.predict(X_test).toarray()\n",
        "prediction2 = biRel2.predict(X_test).toarray()\n",
        "predictionRed = biRelRed.predict(X_testReduced).toarray()"
      ]
    },
    {
      "cell_type": "code",
      "execution_count": null,
      "metadata": {
        "id": "WnaVoxvvR_so"
      },
      "outputs": [],
      "source": [
        "print('accuracy: %0.5f' % accuracy_score(y_test,prediction))\n",
        "print('loss di hamming: %0.5f' % hamming_loss(y_test,prediction))\n",
        "print('label ranking average precision: %0.5f' % label_ranking_average_precision_score(y_test,prediction))\n",
        "sns.heatmap(pd.DataFrame(classification_report(y_test,prediction, zero_division=1, output_dict=True, target_names=['fun ', 'food', 'culture', 'music'])).iloc[:-1, :].T, annot=True, linecolor='purple')"
      ]
    },
    {
      "cell_type": "code",
      "execution_count": null,
      "metadata": {
        "id": "kuHBF1p9yhd8"
      },
      "outputs": [],
      "source": [
        "print('accuracy: %0.5f' % accuracy_score(y_testReduced,predictionRed))\n",
        "print('loss di hamming: %0.5f' % hamming_loss(y_testReduced,predictionRed))\n",
        "print('label ranking average precision: %0.5f' % label_ranking_average_precision_score(y_testReduced,predictionRed))\n",
        "sns.heatmap(pd.DataFrame(classification_report(y_testReduced,predictionRed, zero_division=1, output_dict=True, target_names=['fun ', 'food', 'culture', 'music'])).iloc[:-1, :].T, annot=True, linecolor='purple')"
      ]
    },
    {
      "cell_type": "code",
      "execution_count": null,
      "metadata": {
        "id": "v4G_BrBcQl4R"
      },
      "outputs": [],
      "source": [
        "print('accuracy: %0.5f' % accuracy_score(y_test,prediction2))\n",
        "print('loss di hamming: %0.5f' % hamming_loss(y_test,prediction2))\n",
        "print('label ranking average precision: %0.5f' % label_ranking_average_precision_score(y_test,prediction2))\n",
        "sns.heatmap(pd.DataFrame(classification_report(y_test,prediction2, zero_division=1, output_dict=True, target_names=['fun ', 'food', 'culture', 'music'])).iloc[:-1, :].T, annot=True, linecolor='purple')"
      ]
    },
    {
      "cell_type": "markdown",
      "metadata": {
        "id": "XL7j0_VwaZOI"
      },
      "source": [
        "##**D**: *RETE NEURALE*"
      ]
    },
    {
      "cell_type": "code",
      "execution_count": null,
      "metadata": {
        "id": "uFx2yc-qFu1V"
      },
      "outputs": [],
      "source": [
        "# mlp for multi-label classification\n",
        "from numpy import mean\n",
        "from numpy import std\n",
        "from sklearn.model_selection import RepeatedKFold\n",
        "from keras.models import Sequential\n",
        "from keras.layers import Dense\n",
        "from matplotlib import pyplot as plt\n",
        "\n",
        "# get the model\n",
        "def get_model(n_inputs, n_outputs):\n",
        "  model = Sequential()\n",
        "  model.add(Dense(256, input_dim=n_inputs, kernel_initializer='he_uniform', activation='relu'))\n",
        "  model.add(Dense(16, activation='relu'))\n",
        "  model.add(Dense(n_outputs, activation='sigmoid'))\n",
        "  model.compile(loss='binary_crossentropy', optimizer='adam', metrics='accuracy')\n",
        "  return model\n",
        "\n",
        "# evaluate a model using repeated k-fold cross-validation\n",
        "def evaluate_model(X_train, y_train, X_test, y_test):\n",
        "  results = list()\n",
        "  # define evaluation procedure\n",
        "  cv = RepeatedKFold(n_splits=10, n_repeats=3, random_state=1)\n",
        "  model = get_model(X_train.shape[1], y_train.shape[1])\n",
        "  # fit model\n",
        "  fit=model.fit(X_train, y_train, verbose=1, epochs=50)\n",
        "  # make a prediction on the test set\n",
        "  yhat = model.predict(X_test)\n",
        "    # calculate accuracy\n",
        "  acc = accuracy_score(y_test.round(), yhat.round())\n",
        "  # store result\n",
        "  print('>%.3f' % acc)\n",
        "  results.append(acc)\n",
        "  print(yhat)\n",
        "  return results,model\n",
        "\n",
        "# evaluate model\n",
        "results,model = evaluate_model(X_train, y_train, X_test, y_test)\n",
        "# summarize performance\n",
        "print('Accuracy: %.3f (%.3f)' % (mean(results), std(results)))"
      ]
    },
    {
      "cell_type": "markdown",
      "metadata": {
        "id": "L3qQdvsDjhm_"
      },
      "source": [
        "###Funzione per costruire il modello"
      ]
    },
    {
      "cell_type": "code",
      "execution_count": null,
      "metadata": {
        "id": "oKZl78x9jl8b"
      },
      "outputs": [],
      "source": [
        "def build_model(modello,mlb_estimator,xtrain,ytrain,xtest,ytest):\n",
        "    # Create an Instance\n",
        "    clf = mlb_estimator(modello)\n",
        "    clf.fit(xtrain,ytrain)\n",
        "    # Predict\n",
        "    clf_predictions = clf.predict(xtest)\n",
        "    # Check For Accuracy\n",
        "    acc = accuracy_score(ytest,clf_predictions)\n",
        "    ham = hamming_loss(ytest,clf_predictions)\n",
        "    result = {\"accuracy:\":acc,\"hamming_score\":ham}\n",
        "    return result"
      ]
    },
    {
      "cell_type": "markdown",
      "metadata": {
        "id": "UpfMLKcenAeJ"
      },
      "source": [
        "assegnarli categorie dobbiamo trovare dove la semantica dio un evento che poi puo’derivare da più dati che adesso abbiamo trascurato, in manieraa tale da collocare semantica anche tramite un ontologie esterne il nostro evento in una specie di spazio\n",
        "\n",
        "questo  ci potrebbe servire per rendere la ricerca di un evento il suo essere consigliato qualcosa di più semantica .\n",
        "\n",
        "\n",
        "non ci sarà nessun evento in cui ci sarà scritto 'qui si beve alcol' però ci stara degustazione di birra.\n",
        "\n",
        "potrebbe essere collocare dei termini nello spazio e vedere tramite i dati che noi estraiamo in che posto dello spazio il nostro evento si colloca\n",
        "\n",
        "Caso d’uso:\n",
        "\n",
        "mettiamo che tu cerchi :’alcol a bari a quest ora’ .\n",
        "\n",
        "prendo i "
      ]
    },
    {
      "cell_type": "markdown",
      "metadata": {
        "id": "PxY64ZdNS52a"
      },
      "source": [
        "##**E**: *LOGICHE FUZZY*"
      ]
    },
    {
      "cell_type": "code",
      "execution_count": 173,
      "metadata": {
        "colab": {
          "base_uri": "https://localhost:8080/"
        },
        "id": "nh4zQQuETmYD",
        "outputId": "55a9af45-7ece-4696-ba35-0af81a5eb6a1"
      },
      "outputs": [
        {
          "output_type": "stream",
          "name": "stdout",
          "text": [
            "Looking in indexes: https://pypi.org/simple, https://us-python.pkg.dev/colab-wheels/public/simple/\n",
            "Collecting scikit-fuzzy\n",
            "  Downloading scikit-fuzzy-0.4.2.tar.gz (993 kB)\n",
            "\u001b[2K     \u001b[90m━━━━━━━━━━━━━━━━━━━━━━━━━━━━━━━━━━━━━━\u001b[0m \u001b[32m994.0/994.0 KB\u001b[0m \u001b[31m11.4 MB/s\u001b[0m eta \u001b[36m0:00:00\u001b[0m\n",
            "\u001b[?25h  Preparing metadata (setup.py) ... \u001b[?25l\u001b[?25hdone\n",
            "Requirement already satisfied: numpy>=1.6.0 in /usr/local/lib/python3.8/dist-packages (from scikit-fuzzy) (1.21.6)\n",
            "Requirement already satisfied: scipy>=0.9.0 in /usr/local/lib/python3.8/dist-packages (from scikit-fuzzy) (1.8.0)\n",
            "Requirement already satisfied: networkx>=1.9.0 in /usr/local/lib/python3.8/dist-packages (from scikit-fuzzy) (3.0)\n",
            "Building wheels for collected packages: scikit-fuzzy\n",
            "  Building wheel for scikit-fuzzy (setup.py) ... \u001b[?25l\u001b[?25hdone\n",
            "  Created wheel for scikit-fuzzy: filename=scikit_fuzzy-0.4.2-py3-none-any.whl size=894088 sha256=19332c08e167df8045ea35c5e18881142a7790248c89b1f8099158dff9ac6c47\n",
            "  Stored in directory: /root/.cache/pip/wheels/2c/04/80/7eefb1a2de7d36aefd06432fab2a1486caf0a0596a7067391a\n",
            "Successfully built scikit-fuzzy\n",
            "Installing collected packages: scikit-fuzzy\n",
            "Successfully installed scikit-fuzzy-0.4.2\n",
            "Looking in indexes: https://pypi.org/simple, https://us-python.pkg.dev/colab-wheels/public/simple/\n",
            "Collecting fuzzywuzzy\n",
            "  Downloading fuzzywuzzy-0.18.0-py2.py3-none-any.whl (18 kB)\n",
            "Installing collected packages: fuzzywuzzy\n",
            "Successfully installed fuzzywuzzy-0.18.0\n"
          ]
        }
      ],
      "source": [
        "!pip install scikit-fuzzy\n",
        "!pip install fuzzywuzzy\n",
        "from skfuzzy import control as ctrl"
      ]
    },
    {
      "cell_type": "code",
      "execution_count": null,
      "metadata": {
        "id": "fCpLL67MS-dq"
      },
      "outputs": [],
      "source": [
        "import skfuzzy as skf\n",
        "\n",
        "# Caricamento del dataset\n",
        "df = tot\n",
        "\n",
        "# Creazione dei sistemi di inferenza fuzzy\n",
        "fun_ctrl = ctrl.Antecedent(np.arange(0, 11, 1), \"fun\")\n",
        "food_ctrl = ctrl.Antecedent(np.arange(0, 11, 1), \"food\")\n",
        "culture_ctrl = ctrl.Antecedent(np.arange(0, 11, 1), \"culture\")\n",
        "music_ctrl = ctrl.Antecedent(np.arange(0, 11, 1), \"music\")\n",
        "\n",
        "# Definizione delle funzioni d'appartenenza fuzzy per ciascuna categoria\n",
        "fun_ctrl[\"low\"] = fuzz.trimf(fun_ctrl.universe, [0, 0, 5])\n",
        "fun_ctrl[\"medium\"] = fuzz.trimf(fun_ctrl.universe, [0, 5, 10])\n",
        "fun_ctrl[\"high\"] = fuzz.trimf(fun_ctrl.universe, [5, 10, 10])\n",
        "\n",
        "food_ctrl[\"low\"] = fuzz.trimf(food_ctrl.universe, [0, 0, 5])\n",
        "food_ctrl[\"medium\"] = fuzz.trimf(food_ctrl.universe, [0, 5, 10])\n",
        "food_ctrl[\"high\"] = fuzz.trimf(food_ctrl.universe, [5, 10, 10])\n",
        "\n",
        "culture_ctrl[\"low\"] = fuzz.trimf(culture_ctrl.universe, [0, 0, 5])\n",
        "culture_ctrl[\"medium\"] = fuzz.trimf(culture_ctrl.universe, [0, 5, 10])\n",
        "culture_ctrl[\"high\"] = fuzz.trimf(culture_ctrl.universe, [5, 10, 10])\n",
        "\n",
        "music_ctrl[\"low\"] = fuzz.trimf(music_ctrl.universe, [0, 0, 5])\n",
        "music_ctrl[\"medium\"] = fuzz.trimf(music_ctrl.universe, [0, 5, 10])\n",
        "music_ctrl[\"high\"] = fuzz.trimf(music_ctrl.universe, [5, 10, 10])\n",
        "\n",
        "# Creazione del sistema di inferenza fuzzy per la classificazione degli eventi\n",
        "event_ctrl = ctrl.Consequent(np.arange(0, 11, 1), \"event_type\")"
      ]
    },
    {
      "cell_type": "code",
      "source": [
        "from fuzzywuzzy import fuzz\n",
        "\n",
        "# Definisci una soglia di soglia per determinare la percentuale di similitudine tra descrizioni\n",
        "threshold = 50\n",
        "\n",
        "\n",
        "# Prendi una descrizione di evento di riferimento\n",
        "reference_description = new_df.iloc[10]['text']\n",
        "\n",
        "# Cicla su tutte le righe del dataframe\n",
        "for index, row in new_df.iterrows():\n",
        "    \n",
        "    # Calcola la percentuale di somiglianza tra la descrizione di riferimento e la descrizione corrente\n",
        "    similarity = fuzz.ratio(reference_description, row['text'])\n",
        "    \n",
        "    # Se la somiglianza è superiore alla soglia, stampa un messaggio\n",
        "    if similarity > threshold:\n",
        "        print(f\"La descrizione \\\"{row['text'][:10]}...\\\" è simile alla descrizione di riferimento con una somiglianza del {similarity}%\")"
      ],
      "metadata": {
        "colab": {
          "base_uri": "https://localhost:8080/"
        },
        "id": "_KYc5oxjg9_u",
        "outputId": "310e1a0a-2927-4326-b34a-8f85587baf08"
      },
      "execution_count": 180,
      "outputs": [
        {
          "output_type": "stream",
          "name": "stdout",
          "text": [
            "La descrizione \"\n",
            "Siamo spi...\" è simile alla descrizione di riferimento con una somiglianza del 100%\n"
          ]
        }
      ]
    },
    {
      "cell_type": "markdown",
      "metadata": {
        "id": "D2CNXQg1-TFx"
      },
      "source": [
        "##**F**: *RAPPRESENTAZIONE DELLA CONOSCENZA*"
      ]
    },
    {
      "cell_type": "markdown",
      "metadata": {
        "id": "HA0ZMUwNam3P"
      },
      "source": [
        "###**F1**: *ONTOLOGIA: WORDNET*"
      ]
    },
    {
      "cell_type": "code",
      "execution_count": null,
      "metadata": {
        "id": "IkBXU3DuWqf7"
      },
      "outputs": [],
      "source": [
        "from nltk import word_tokenize\n",
        "dl('averaged_perceptron_tagger')\n",
        "dl('wordnet')\n",
        "from nltk import pos_tag\n"
      ]
    },
    {
      "cell_type": "code",
      "execution_count": null,
      "metadata": {
        "id": "2lFxU5_B5s01"
      },
      "outputs": [],
      "source": [
        "from operator import pos\n",
        "def get_syns(description):\n",
        "  test=[]\n",
        "  words = word_tokenize(description)\n",
        "  for every in words:\n",
        "    if (every not in stopwordsTotali):\n",
        "      if(wn.synsets(every, lang ='ita') == []):\n",
        "        \n",
        "          test.append(wn.synsets(every))\n",
        "      else:\n",
        "        \n",
        "          test.append(wn.synsets(every, lang ='ita'))\n",
        "      print('parola iniziale: ',every)\n",
        "      print('synset: ',wn.synsets(every, lang ='ita'))\n",
        "  lemmatizer = WordNetLemmatizer()\n",
        "  out =[]\n",
        "  for each in range(len(test)):\n",
        "    for q in range(len(test[each])):\n",
        "      wordToAdd=lemmatizer.lemmatize(test[each][q].name().split('.')[0])\n",
        "      out.append(wordToAdd)\n",
        "      if(q==1):\n",
        "        print(out)\n",
        "        break\n",
        "  out=test\n",
        "  out=list(set(out))\n",
        "  return out\n",
        "\n",
        "def reduced_description(description):\n",
        "    # Tokenize the description\n",
        "    tokens = word_tokenize(description)\n",
        "    # Reduce the words to their most common synset\n",
        "    reduced_description = []\n",
        "    for token in tokens:\n",
        "      try:\n",
        "          synset = wn.synsets(token, lang='ita',pos=wn.NOUN)\n",
        "         \n",
        "          \n",
        "          lemma = max(synset[0].lemmas(), key=lambda x: x.count()).name()\n",
        "          reduced_description.append(lemma)\n",
        "      except:\n",
        "        try:\n",
        "          synset = wn.synsets(token, lang='ita',pos=wn.VERB)\n",
        "          lemma = max(synset[0].lemmas(), key=lambda x: x.count()).name()\n",
        "          reduced_description.append(lemma)\n",
        "        except:\n",
        "          try:\n",
        "            synset = wn.synsets(token, lang='eng',pos=wn.NOUN)\n",
        "            lemma = max(synset[0].lemmas(), key=lambda x: x.count()).name()\n",
        "            reduced_description.append(lemma)\n",
        "          except:\n",
        "            try:\n",
        "                synset = wn.synsets(token, lang='eng',pos=wn.VERB)\n",
        "                lemma = max(synset[0].lemmas(), key=lambda x: x.count()).name()\n",
        "                reduced_description.append(lemma)\n",
        "            except:\n",
        "                \n",
        "                continue\n",
        "   \n",
        "    return list(set(reduced_description))\n",
        "\n",
        "\n",
        "def predict_closest_clusters(description, km, X_train1, vectorizerTfIdf):\n",
        "    description=get_syns(description)\n",
        "    newWords = ''\n",
        "    for each in description:\n",
        "      newWords = newWords + ' ' + each\n",
        "    description=newWords\n",
        "    # Transform the input description into a tf-idf representation\n",
        "    input_tfidf = vectorizerTfIdf.transform([description])\n",
        "    # Calculate the distances between the input and each of the 10 clusters\n",
        "    cluster_distances = km.transform(input_tfidf).flatten()\n",
        "    # Get the index of the closest cluster\n",
        "    closest_cluster_index = np.argmin(cluster_distances)\n",
        "    print(\"The closest cluster is cluster\", closest_cluster_index)\n",
        "    terms = vectorizerTfIdf.get_feature_names()\n",
        "    top_ten_words = [terms[ind] for ind in order_centroids[closest_cluster_index, :5]]\n",
        "    print(\"Its top ten words are: {}\".format(', '.join(top_ten_words)))\n",
        "    # Calculate the distances between the input and each sample in X_train1\n",
        "    sample_distances = pairwise_distances(input_tfidf, X_train1).flatten()\n",
        "    # Get the indices of the 5 closest samples\n",
        "    closest_sample_indices = sample_distances.argsort()[:5]\n",
        "    print(\"The 5 closest samples in X_train1 are:\")\n",
        "    for i in closest_sample_indices:\n",
        "        print(i)"
      ]
    },
    {
      "cell_type": "code",
      "execution_count": null,
      "metadata": {
        "id": "lqbLqncq65lR"
      },
      "outputs": [],
      "source": [
        "X1 = []\n",
        "newText=corpus\n",
        "\n",
        "for description in newText:   \n",
        "    feature =[]\n",
        "    features = reduced_description(str(description))\n",
        "    words = ''\n",
        "    for each in features:\n",
        "      words = words + ' ' + each\n",
        "    X1.append(words)"
      ]
    },
    {
      "cell_type": "code",
      "execution_count": null,
      "metadata": {
        "id": "5D_TenuM7EpZ"
      },
      "outputs": [],
      "source": [
        "inx=7\n",
        "print(corpus[inx])\n",
        "print(X1[inx])"
      ]
    },
    {
      "cell_type": "code",
      "execution_count": null,
      "metadata": {
        "id": "sNH4c7XO7MgM"
      },
      "outputs": [],
      "source": [
        "vectorizerTfIdf=TfidfVectorizer()\n",
        "vectorTfIdf=vectorizerTfIdf.fit_transform(X1)\n",
        "X_train1, X_test1 = train_test_split(vectorTfIdf, test_size=0.2, random_state=42) "
      ]
    },
    {
      "cell_type": "code",
      "execution_count": null,
      "metadata": {
        "id": "H-ooXcoA7NPf"
      },
      "outputs": [],
      "source": [
        "number_of_clusters=10\n",
        "km = KMeans(n_clusters=number_of_clusters)\n",
        "# Normally people fit the matrix\n",
        "km.fit(X_train1)"
      ]
    },
    {
      "cell_type": "code",
      "execution_count": null,
      "metadata": {
        "id": "ngBEXbpu7TzB"
      },
      "outputs": [],
      "source": [
        "# But you could fit the idf_df instea\n",
        "print(\"Top terms per cluster:\")\n",
        "order_centroids = km.cluster_centers_.argsort()[:, ::-1]\n",
        "terms = vectorizerTfIdf.get_feature_names()\n",
        "for i in range(number_of_clusters):\n",
        "    top_ten_words = [terms[ind] for ind in order_centroids[i, :5]]\n",
        "    print(\"Cluster {}: {}\".format(i, ' '.join(top_ten_words)))"
      ]
    },
    {
      "cell_type": "code",
      "execution_count": null,
      "metadata": {
        "id": "WdiAObTc7UX2"
      },
      "outputs": [],
      "source": [
        "cluster_labels=km.labels_\n",
        "len(cluster_labels)"
      ]
    },
    {
      "cell_type": "code",
      "execution_count": null,
      "metadata": {
        "id": "DBN17pDl7Y_S"
      },
      "outputs": [],
      "source": [
        "descrizione='presentazione nuovo libro di narrativa'\n",
        "predict_closest_clusters(description, km, X_train1,vectorizerTfIdf)"
      ]
    },
    {
      "cell_type": "code",
      "execution_count": null,
      "metadata": {
        "id": "cK9pH2io7v1d"
      },
      "outputs": [],
      "source": [
        "labels=km.labels_\n",
        "cluster_labels = np.unique(labels)\n",
        "cluster_sizes = [(labels == c).sum() for c in cluster_labels]\n",
        "sizes_idx = np.argsort(cluster_sizes)[::-1][:5]\n",
        "X1=X1[:5061]\n",
        "# Plot dei risultati\n",
        "for i, c in enumerate(cluster_labels[sizes_idx]):\n",
        "    mask = (labels == c)\n",
        "    descrizioni_c = np.array(X1)[mask]\n",
        "    text = \" \".join(descrizioni_c)\n",
        "    \n",
        "    wordcloud = WordCloud(width = 800, height = 800, \n",
        "                background_color ='white', \n",
        "                stopwords = swSet, \n",
        "                min_font_size = 10).generate(text)\n",
        "\n",
        "    plt.figure(figsize = (8, 8), facecolor = None) \n",
        "    plt.imshow(wordcloud) \n",
        "    plt.axis(\"off\") \n",
        "    plt.tight_layout(pad = 0)"
      ]
    },
    {
      "cell_type": "markdown",
      "metadata": {
        "id": "_BKk5qI7-egP"
      },
      "source": [
        "###**F2**: *RETE SEMANTICA*"
      ]
    },
    {
      "cell_type": "code",
      "execution_count": 165,
      "metadata": {
        "colab": {
          "base_uri": "https://localhost:8080/",
          "height": 294
        },
        "id": "N0FUV9Z8KVt1",
        "outputId": "5efbf991-b1af-4be1-9cf2-f05ee8f0bb05"
      },
      "outputs": [
        {
          "output_type": "stream",
          "name": "stdout",
          "text": [
            "Looking in indexes: https://pypi.org/simple, https://us-python.pkg.dev/colab-wheels/public/simple/\n",
            "Collecting scipy==1.8.0\n",
            "  Downloading scipy-1.8.0-cp38-cp38-manylinux_2_17_x86_64.manylinux2014_x86_64.whl (41.6 MB)\n",
            "\u001b[2K     \u001b[90m━━━━━━━━━━━━━━━━━━━━━━━━━━━━━━━━━━━━━━━━\u001b[0m \u001b[32m41.6/41.6 MB\u001b[0m \u001b[31m12.1 MB/s\u001b[0m eta \u001b[36m0:00:00\u001b[0m\n",
            "\u001b[?25hRequirement already satisfied: numpy<1.25.0,>=1.17.3 in /usr/local/lib/python3.8/dist-packages (from scipy==1.8.0) (1.21.6)\n",
            "Installing collected packages: scipy\n",
            "  Attempting uninstall: scipy\n",
            "    Found existing installation: scipy 1.7.3\n",
            "    Uninstalling scipy-1.7.3:\n",
            "      Successfully uninstalled scipy-1.7.3\n",
            "Successfully installed scipy-1.8.0\n"
          ]
        },
        {
          "output_type": "display_data",
          "data": {
            "application/vnd.colab-display-data+json": {
              "pip_warning": {
                "packages": [
                  "scipy"
                ]
              }
            }
          },
          "metadata": {}
        }
      ],
      "source": [
        "!pip install scipy==1.8.0"
      ]
    },
    {
      "cell_type": "code",
      "execution_count": 166,
      "metadata": {
        "id": "x9UW1LE-JuRW"
      },
      "outputs": [],
      "source": [
        "import  scipy.sparse"
      ]
    },
    {
      "cell_type": "code",
      "execution_count": 178,
      "metadata": {
        "colab": {
          "base_uri": "https://localhost:8080/",
          "height": 160
        },
        "id": "N0XG15DV-kgo",
        "outputId": "cba0af50-0efb-4ef7-dfee-6df843b22002"
      },
      "outputs": [
        {
          "output_type": "stream",
          "name": "stdout",
          "text": [
            "Il percorso più breve tra 'fun' e 'music' è: ['fun', 'Martedi 05 gennaio super tombolata al Barfly!\\nTante calze da vincere!!!\\nFormula 10 euro panino patatine e bibita e la cartella la offriamo noi!\\nConsigliata la prenotazione\\n081660023', 'isMusic']\n",
            "Neighbor 1: fun\n",
            "Neighbor 2: food\n",
            "Neighbor 3: culture\n",
            "Neighbor 4: isMusic\n"
          ]
        },
        {
          "output_type": "execute_result",
          "data": {
            "text/plain": [
              "'\\n# Calcola la centralità di PageRank per ogni nodo\\npagerank = nx.pagerank(G)\\n\\n# Trova il nodo con la più alta centralità di PageRank\\nmost_important = max(pagerank, key=pagerank.get)\\nprint(\"Il nodo più importante in base alla centralità di PageRank è:\", most_important)\\n'"
            ],
            "application/vnd.google.colaboratory.intrinsic+json": {
              "type": "string"
            }
          },
          "metadata": {},
          "execution_count": 178
        }
      ],
      "source": [
        "G = nx.Graph()\n",
        "\n",
        "\n",
        "# Aggiungi i nodi per ogni categoria (fun, food, culture, music)\n",
        "G.add_node(\"fun\")\n",
        "G.add_node(\"food\")\n",
        "G.add_node(\"culture\")\n",
        "G.add_node(\"isMusic\")\n",
        "    \n",
        "# Aggiungi gli archi tra le categorie per ogni evento\n",
        "for index, row in new_df.iterrows():\n",
        "    description = row[\"text\"]\n",
        "    for header in [\"fun\", \"food\", \"culture\", \"isMusic\"]:\n",
        "        if row[header] != 0:\n",
        "            G.add_edge(header, description, weight=row[header])\n",
        "'''\n",
        "pos = nx.spring_layout(G, seed=225)  # Seed for reproducible layout\n",
        "nx.draw(G, pos, node_color='red', edge_color='gray', with_labels=True)\n",
        "plt.show()   \n",
        "\n",
        "'''\n",
        "'''# Calcola la centralità di grado per ogni nodo\n",
        "degree_centrality = nx.degree_centrality(G)\n",
        "\n",
        "# Trova il nodo più centrale in base alla centralità di grado\n",
        "most_central = max(degree_centrality, key=degree_centrality.get)\n",
        "print(\"Il nodo più centrale in base alla centralità di grado è:\", most_central)\n",
        "'''\n",
        "# Trova il percorso più breve tra due nodi\n",
        "shortest_path = nx.shortest_path(G, \"fun\", \"isMusic\")\n",
        "print(\"Il percorso più breve tra 'fun' e 'music' è:\", shortest_path)\n",
        "\n",
        "neighbors = nx.neighbors(G, new_df['text'][10])\n",
        "for i, neighbor in enumerate(neighbors):\n",
        "    if i >= 10:\n",
        "        break\n",
        "    print(\"Neighbor {}: {}\".format(i + 1, neighbor))\n",
        "'''\n",
        "# Calcola la centralità di PageRank per ogni nodo\n",
        "pagerank = nx.pagerank(G)\n",
        "\n",
        "# Trova il nodo con la più alta centralità di PageRank\n",
        "most_important = max(pagerank, key=pagerank.get)\n",
        "print(\"Il nodo più importante in base alla centralità di PageRank è:\", most_important)\n",
        "'''"
      ]
    },
    {
      "cell_type": "code",
      "execution_count": 171,
      "metadata": {
        "colab": {
          "base_uri": "https://localhost:8080/",
          "height": 319
        },
        "id": "pBhqwrv-QI76",
        "outputId": "f24efce0-7b87-4d5c-ca46-a19a539f8dad"
      },
      "outputs": [
        {
          "output_type": "display_data",
          "data": {
            "text/plain": [
              "<Figure size 432x288 with 1 Axes>"
            ],
            "image/png": "[encoded data removed]"
          },
          "metadata": {}
        }
      ],
      "source": [
        "# Find the most important nodes\n",
        "degree_dict = dict(G.degree(G.nodes()))\n",
        "sorted_degree = sorted(degree_dict.items(), key=lambda x: x[1], reverse=True)\n",
        "top_nodes = [n for n, d in sorted_degree[:5]] # Plot only the top 50 nodes\n",
        "\n",
        "# Plot the graph\n",
        "subgraph = G.subgraph(top_nodes)\n",
        "nx.draw(subgraph, with_labels=True)\n",
        "plt.show()"
      ]
    },
    {
      "cell_type": "markdown",
      "metadata": {
        "id": "365okRRs8g3m"
      },
      "source": [
        "##CNN"
      ]
    },
    {
      "cell_type": "code",
      "execution_count": null,
      "metadata": {
        "id": "agDTWW3n8jI9"
      },
      "outputs": [],
      "source": []
    }
  ],
  "metadata": {
    "colab": {
      "collapsed_sections": [
        "7ZP2H94Q0dzc",
        "EykRlnQNx3Se",
        "TGSsIChIx7Ze",
        "BM5VMUcgEni5",
        "cLCb7MwRNklu",
        "0E_S_wcDOZi2"
      ],
      "provenance": [],
      "include_colab_link": true
    },
    "kernelspec": {
      "display_name": "Python 3",
      "name": "python3"
    },
    "language_info": {
      "name": "python"
    }
  },
  "nbformat": 4,
  "nbformat_minor": 0
}