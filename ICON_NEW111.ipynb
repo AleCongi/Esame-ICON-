{
  "nbformat": 4,
  "nbformat_minor": 0,
  "metadata": {
    "colab": {
      "provenance": [],
      "collapsed_sections": [
        "eTz9oWxwFogj",
        "DwY_Pz15v7Dp",
        "L3qQdvsDjhm_"
      ],
      "include_colab_link": true
    },
    "kernelspec": {
      "name": "python3",
      "display_name": "Python 3"
    },
    "language_info": {
      "name": "python"
    }
  },
  "cells": [
    {
      "cell_type": "markdown",
      "metadata": {
        "id": "view-in-github",
        "colab_type": "text"
      },
      "source": [
        "<a href=\"https://colab.research.google.com/github/AleCongi/Esame-ICON-/blob/main/ICON_NEW111.ipynb\" target=\"_parent\"><img src=\"https://colab.research.google.com/assets/colab-badge.svg\" alt=\"Open In Colab\"/></a>"
      ]
    },
    {
      "cell_type": "markdown",
      "source": [
        "#ICON"
      ],
      "metadata": {
        "id": "g3GCD6NAFsy9"
      }
    },
    {
      "cell_type": "code",
      "execution_count": 1,
      "metadata": {
        "colab": {
          "base_uri": "https://localhost:8080/",
          "height": 380
        },
        "id": "xUtfUST4Lhjw",
        "outputId": "5ce7a50c-9d45-479e-8566-4222b09cc6df"
      },
      "outputs": [
        {
          "output_type": "stream",
          "name": "stdout",
          "text": [
            "Mounted at /content/drive\n"
          ]
        },
        {
          "output_type": "execute_result",
          "data": {
            "text/plain": [
              "                 id  fun  food  culture  isOpen  isMusic  \\\n",
              "0  1000187186721956    1     0        1      -1        0   \n",
              "1  1007051849450711    0     0        0      -1        0   \n",
              "2   100731190460200    0     0        1      -1        1   \n",
              "3  1014507045355357    0     0        0      -1        1   \n",
              "4  1015563648832823    0     0        1      -1        1   \n",
              "5  1021806692027608    0     0        0      -1        1   \n",
              "6  1023358881203820    1     0        0      -1        0   \n",
              "7  1026307021482635    1     0        1      -1        0   \n",
              "8  1026761354178792    1     0        1      -1        0   \n",
              "9   103006560538403    0     1        1      -1        1   \n",
              "\n",
              "                                                text  \n",
              "0  Martedi 05 gennaio super tombolata al Barfly!\\...  \n",
              "1                                                NaN  \n",
              "2  Ingresso free senza obbligo di consumazione,se...  \n",
              "3  Giovedi 8 Marzo, Napulitanata \"celebra la donn...  \n",
              "4  yn e lieta di presentare\\n\\nNapoolyn x Resilie...  \n",
              "5  Serata live \\nVENERDI' 18 MARZO \\nUn piacevole...  \n",
              "6  Quest'anno in occasione di san Valentino il ri...  \n",
              "7              Menu adulti 30.00\\nMenu bambini 15.00  \n",
              "8              Menu adulti 30.00\\nMenu bambini 15.00  \n",
              "9  La 1 Esposizione dei disegni di DIPSTER accomp...  "
            ],
            "text/html": [
              "\n",
              "  <div id=\"df-9e214fa7-cc46-42e2-a860-5ac2b8f5ad4d\">\n",
              "    <div class=\"colab-df-container\">\n",
              "      <div>\n",
              "<style scoped>\n",
              "    .dataframe tbody tr th:only-of-type {\n",
              "        vertical-align: middle;\n",
              "    }\n",
              "\n",
              "    .dataframe tbody tr th {\n",
              "        vertical-align: top;\n",
              "    }\n",
              "\n",
              "    .dataframe thead th {\n",
              "        text-align: right;\n",
              "    }\n",
              "</style>\n",
              "<table border=\"1\" class=\"dataframe\">\n",
              "  <thead>\n",
              "    <tr style=\"text-align: right;\">\n",
              "      <th></th>\n",
              "      <th>id</th>\n",
              "      <th>fun</th>\n",
              "      <th>food</th>\n",
              "      <th>culture</th>\n",
              "      <th>isOpen</th>\n",
              "      <th>isMusic</th>\n",
              "      <th>text</th>\n",
              "    </tr>\n",
              "  </thead>\n",
              "  <tbody>\n",
              "    <tr>\n",
              "      <th>0</th>\n",
              "      <td>1000187186721956</td>\n",
              "      <td>1</td>\n",
              "      <td>0</td>\n",
              "      <td>1</td>\n",
              "      <td>-1</td>\n",
              "      <td>0</td>\n",
              "      <td>Martedi 05 gennaio super tombolata al Barfly!\\...</td>\n",
              "    </tr>\n",
              "    <tr>\n",
              "      <th>1</th>\n",
              "      <td>1007051849450711</td>\n",
              "      <td>0</td>\n",
              "      <td>0</td>\n",
              "      <td>0</td>\n",
              "      <td>-1</td>\n",
              "      <td>0</td>\n",
              "      <td>NaN</td>\n",
              "    </tr>\n",
              "    <tr>\n",
              "      <th>2</th>\n",
              "      <td>100731190460200</td>\n",
              "      <td>0</td>\n",
              "      <td>0</td>\n",
              "      <td>1</td>\n",
              "      <td>-1</td>\n",
              "      <td>1</td>\n",
              "      <td>Ingresso free senza obbligo di consumazione,se...</td>\n",
              "    </tr>\n",
              "    <tr>\n",
              "      <th>3</th>\n",
              "      <td>1014507045355357</td>\n",
              "      <td>0</td>\n",
              "      <td>0</td>\n",
              "      <td>0</td>\n",
              "      <td>-1</td>\n",
              "      <td>1</td>\n",
              "      <td>Giovedi 8 Marzo, Napulitanata \"celebra la donn...</td>\n",
              "    </tr>\n",
              "    <tr>\n",
              "      <th>4</th>\n",
              "      <td>1015563648832823</td>\n",
              "      <td>0</td>\n",
              "      <td>0</td>\n",
              "      <td>1</td>\n",
              "      <td>-1</td>\n",
              "      <td>1</td>\n",
              "      <td>yn e lieta di presentare\\n\\nNapoolyn x Resilie...</td>\n",
              "    </tr>\n",
              "    <tr>\n",
              "      <th>5</th>\n",
              "      <td>1021806692027608</td>\n",
              "      <td>0</td>\n",
              "      <td>0</td>\n",
              "      <td>0</td>\n",
              "      <td>-1</td>\n",
              "      <td>1</td>\n",
              "      <td>Serata live \\nVENERDI' 18 MARZO \\nUn piacevole...</td>\n",
              "    </tr>\n",
              "    <tr>\n",
              "      <th>6</th>\n",
              "      <td>1023358881203820</td>\n",
              "      <td>1</td>\n",
              "      <td>0</td>\n",
              "      <td>0</td>\n",
              "      <td>-1</td>\n",
              "      <td>0</td>\n",
              "      <td>Quest'anno in occasione di san Valentino il ri...</td>\n",
              "    </tr>\n",
              "    <tr>\n",
              "      <th>7</th>\n",
              "      <td>1026307021482635</td>\n",
              "      <td>1</td>\n",
              "      <td>0</td>\n",
              "      <td>1</td>\n",
              "      <td>-1</td>\n",
              "      <td>0</td>\n",
              "      <td>Menu adulti 30.00\\nMenu bambini 15.00</td>\n",
              "    </tr>\n",
              "    <tr>\n",
              "      <th>8</th>\n",
              "      <td>1026761354178792</td>\n",
              "      <td>1</td>\n",
              "      <td>0</td>\n",
              "      <td>1</td>\n",
              "      <td>-1</td>\n",
              "      <td>0</td>\n",
              "      <td>Menu adulti 30.00\\nMenu bambini 15.00</td>\n",
              "    </tr>\n",
              "    <tr>\n",
              "      <th>9</th>\n",
              "      <td>103006560538403</td>\n",
              "      <td>0</td>\n",
              "      <td>1</td>\n",
              "      <td>1</td>\n",
              "      <td>-1</td>\n",
              "      <td>1</td>\n",
              "      <td>La 1 Esposizione dei disegni di DIPSTER accomp...</td>\n",
              "    </tr>\n",
              "  </tbody>\n",
              "</table>\n",
              "</div>\n",
              "      <button class=\"colab-df-convert\" onclick=\"convertToInteractive('df-9e214fa7-cc46-42e2-a860-5ac2b8f5ad4d')\"\n",
              "              title=\"Convert this dataframe to an interactive table.\"\n",
              "              style=\"display:none;\">\n",
              "        \n",
              "  <svg xmlns=\"http://www.w3.org/2000/svg\" height=\"24px\"viewBox=\"0 0 24 24\"\n",
              "       width=\"24px\">\n",
              "    <path d=\"M0 0h24v24H0V0z\" fill=\"none\"/>\n",
              "    <path d=\"M18.56 5.44l.94 2.06.94-2.06 2.06-.94-2.06-.94-.94-2.06-.94 2.06-2.06.94zm-11 1L8.5 8.5l.94-2.06 2.06-.94-2.06-.94L8.5 2.5l-.94 2.06-2.06.94zm10 10l.94 2.06.94-2.06 2.06-.94-2.06-.94-.94-2.06-.94 2.06-2.06.94z\"/><path d=\"M17.41 7.96l-1.37-1.37c-.4-.4-.92-.59-1.43-.59-.52 0-1.04.2-1.43.59L10.3 9.45l-7.72 7.72c-.78.78-.78 2.05 0 2.83L4 21.41c.39.39.9.59 1.41.59.51 0 1.02-.2 1.41-.59l7.78-7.78 2.81-2.81c.8-.78.8-2.07 0-2.86zM5.41 20L4 18.59l7.72-7.72 1.47 1.35L5.41 20z\"/>\n",
              "  </svg>\n",
              "      </button>\n",
              "      \n",
              "  <style>\n",
              "    .colab-df-container {\n",
              "      display:flex;\n",
              "      flex-wrap:wrap;\n",
              "      gap: 12px;\n",
              "    }\n",
              "\n",
              "    .colab-df-convert {\n",
              "      background-color: #E8F0FE;\n",
              "      border: none;\n",
              "      border-radius: 50%;\n",
              "      cursor: pointer;\n",
              "      display: none;\n",
              "      fill: #1967D2;\n",
              "      height: 32px;\n",
              "      padding: 0 0 0 0;\n",
              "      width: 32px;\n",
              "    }\n",
              "\n",
              "    .colab-df-convert:hover {\n",
              "      background-color: #E2EBFA;\n",
              "      box-shadow: 0px 1px 2px rgba(60, 64, 67, 0.3), 0px 1px 3px 1px rgba(60, 64, 67, 0.15);\n",
              "      fill: #174EA6;\n",
              "    }\n",
              "\n",
              "    [theme=dark] .colab-df-convert {\n",
              "      background-color: #3B4455;\n",
              "      fill: #D2E3FC;\n",
              "    }\n",
              "\n",
              "    [theme=dark] .colab-df-convert:hover {\n",
              "      background-color: #434B5C;\n",
              "      box-shadow: 0px 1px 3px 1px rgba(0, 0, 0, 0.15);\n",
              "      filter: drop-shadow(0px 1px 2px rgba(0, 0, 0, 0.3));\n",
              "      fill: #FFFFFF;\n",
              "    }\n",
              "  </style>\n",
              "\n",
              "      <script>\n",
              "        const buttonEl =\n",
              "          document.querySelector('#df-9e214fa7-cc46-42e2-a860-5ac2b8f5ad4d button.colab-df-convert');\n",
              "        buttonEl.style.display =\n",
              "          google.colab.kernel.accessAllowed ? 'block' : 'none';\n",
              "\n",
              "        async function convertToInteractive(key) {\n",
              "          const element = document.querySelector('#df-9e214fa7-cc46-42e2-a860-5ac2b8f5ad4d');\n",
              "          const dataTable =\n",
              "            await google.colab.kernel.invokeFunction('convertToInteractive',\n",
              "                                                     [key], {});\n",
              "          if (!dataTable) return;\n",
              "\n",
              "          const docLinkHtml = 'Like what you see? Visit the ' +\n",
              "            '<a target=\"_blank\" href=https://colab.research.google.com/notebooks/data_table.ipynb>data table notebook</a>'\n",
              "            + ' to learn more about interactive tables.';\n",
              "          element.innerHTML = '';\n",
              "          dataTable['output_type'] = 'display_data';\n",
              "          await google.colab.output.renderOutput(dataTable, element);\n",
              "          const docLink = document.createElement('div');\n",
              "          docLink.innerHTML = docLinkHtml;\n",
              "          element.appendChild(docLink);\n",
              "        }\n",
              "      </script>\n",
              "    </div>\n",
              "  </div>\n",
              "  "
            ]
          },
          "metadata": {},
          "execution_count": 1
        }
      ],
      "source": [
        "import numpy as np\n",
        "import pandas as pd\n",
        "import seaborn as sb\n",
        "from sklearn.model_selection import train_test_split\n",
        "\n",
        "from google.colab import drive\n",
        "drive.mount('/content/drive', force_remount=False)\n",
        "\n",
        "tot=pd.read_csv('/content/drive/MyDrive/Colab Notebooks/eventsFixed.csv')\n",
        "\n",
        "tot.head(10)"
      ]
    },
    {
      "cell_type": "code",
      "source": [
        "tot.count()"
      ],
      "metadata": {
        "colab": {
          "base_uri": "https://localhost:8080/"
        },
        "id": "hhs99Yrh5J99",
        "outputId": "0b8a3852-eee6-4a43-bf25-46a4e5228140"
      },
      "execution_count": 2,
      "outputs": [
        {
          "output_type": "execute_result",
          "data": {
            "text/plain": [
              "id         7688\n",
              "fun        7688\n",
              "food       7688\n",
              "culture    7688\n",
              "isOpen     7688\n",
              "isMusic    7688\n",
              "text       7170\n",
              "dtype: int64"
            ]
          },
          "metadata": {},
          "execution_count": 2
        }
      ]
    },
    {
      "cell_type": "markdown",
      "source": [
        "È chiaro che ci siano dei testi nulli. È possibile che siano eventi senza descrizione. Me ne accerto:"
      ],
      "metadata": {
        "id": "hj30YqWGCDRu"
      }
    },
    {
      "cell_type": "code",
      "source": [
        "sb.heatmap(tot.isna(), cbar=False)"
      ],
      "metadata": {
        "colab": {
          "base_uri": "https://localhost:8080/",
          "height": 287
        },
        "id": "CudRXskiAW-5",
        "outputId": "cc1c9519-8dd9-4399-da38-eb20107277e0"
      },
      "execution_count": 3,
      "outputs": [
        {
          "output_type": "execute_result",
          "data": {
            "text/plain": [
              "<matplotlib.axes._subplots.AxesSubplot at 0x7fb79d81c7f0>"
            ]
          },
          "metadata": {},
          "execution_count": 3
        },
        {
          "output_type": "display_data",
          "data": {
            "text/plain": [
              "<Figure size 432x288 with 1 Axes>"
            ],
            "image/png": "[encoded data removed]"
          },
          "metadata": {
            "needs_background": "light"
          }
        }
      ]
    },
    {
      "cell_type": "markdown",
      "source": [
        "##Quickfix"
      ],
      "metadata": {
        "id": "eTz9oWxwFogj"
      }
    },
    {
      "cell_type": "markdown",
      "source": [
        "Sapendo che \"id\" è la nostra colonna primaria, controllo che il numero di valori unici nella colonna primaria sia uguale al numero di righe. Questo mi permette di accertarmi di non avere la stessa riga per più di una volta nel mio dataset."
      ],
      "metadata": {
        "id": "Gh0B9OgaCTmg"
      }
    },
    {
      "cell_type": "code",
      "source": [
        "tot['id'].nunique() == len(tot['id'])"
      ],
      "metadata": {
        "colab": {
          "base_uri": "https://localhost:8080/"
        },
        "id": "jqzIa_MkB9Ma",
        "outputId": "74c5d74b-5952-4783-94b7-c3a0be50a17c"
      },
      "execution_count": 4,
      "outputs": [
        {
          "output_type": "execute_result",
          "data": {
            "text/plain": [
              "False"
            ]
          },
          "metadata": {},
          "execution_count": 4
        }
      ]
    },
    {
      "cell_type": "code",
      "source": [
        "for index, row in tot.iterrows():\n",
        "  \n",
        "  try:\n",
        "    trashId = row['id']\n",
        "    trash = row['text'].lower()\n",
        "  except AttributeError as ae:\n",
        "    tot.drop(tot[tot['id'] == trashId].index, inplace=True)\n",
        "\n",
        "tot = tot.drop_duplicates(subset=\"id\", keep='last')\n",
        "tot = tot.drop_duplicates(subset=\"text\", keep='last')"
      ],
      "metadata": {
        "id": "-MwpT4sA8W8t"
      },
      "execution_count": 5,
      "outputs": []
    },
    {
      "cell_type": "code",
      "source": [
        "tot['id'].nunique() == len(tot['id'])"
      ],
      "metadata": {
        "colab": {
          "base_uri": "https://localhost:8080/"
        },
        "id": "2cl7KnrbBuBZ",
        "outputId": "a496bc1f-4468-48c9-fb65-8e92ab85fe75"
      },
      "execution_count": 6,
      "outputs": [
        {
          "output_type": "execute_result",
          "data": {
            "text/plain": [
              "True"
            ]
          },
          "metadata": {},
          "execution_count": 6
        }
      ]
    },
    {
      "cell_type": "code",
      "source": [
        "tot.count()"
      ],
      "metadata": {
        "colab": {
          "base_uri": "https://localhost:8080/"
        },
        "id": "ptB1Oeqf8ffG",
        "outputId": "2fbbb6c5-2c7b-4ad0-fd2f-2c30d7055b0d"
      },
      "execution_count": 7,
      "outputs": [
        {
          "output_type": "execute_result",
          "data": {
            "text/plain": [
              "id         6327\n",
              "fun        6327\n",
              "food       6327\n",
              "culture    6327\n",
              "isOpen     6327\n",
              "isMusic    6327\n",
              "text       6327\n",
              "dtype: int64"
            ]
          },
          "metadata": {},
          "execution_count": 7
        }
      ]
    },
    {
      "cell_type": "markdown",
      "source": [
        "droppiamo"
      ],
      "metadata": {
        "id": "rK7yS1pp47E7"
      }
    },
    {
      "cell_type": "code",
      "source": [
        "tot.drop('isOpen',inplace=True,axis=1)\n",
        "tot.drop('id',inplace=True,axis=1)\n",
        "tot"
      ],
      "metadata": {
        "colab": {
          "base_uri": "https://localhost:8080/",
          "height": 0
        },
        "id": "V-9T-F_2B2GM",
        "outputId": "9467e858-41ab-4b8f-ac2c-48e7cf27e1d7"
      },
      "execution_count": 8,
      "outputs": [
        {
          "output_type": "execute_result",
          "data": {
            "text/plain": [
              "      fun  food  culture  isMusic  \\\n",
              "0       1     0        1        0   \n",
              "2       0     0        1        1   \n",
              "3       0     0        0        1   \n",
              "4       0     0        1        1   \n",
              "5       0     0        0        1   \n",
              "...   ...   ...      ...      ...   \n",
              "7683    0     0        0        1   \n",
              "7684    0     1        0        0   \n",
              "7685    0     1        1        1   \n",
              "7686    0     0        1        0   \n",
              "7687    0     1        0        0   \n",
              "\n",
              "                                                   text  \n",
              "0     Martedi 05 gennaio super tombolata al Barfly!\\...  \n",
              "2     Ingresso free senza obbligo di consumazione,se...  \n",
              "3     Giovedi 8 Marzo, Napulitanata \"celebra la donn...  \n",
              "4     yn e lieta di presentare\\n\\nNapoolyn x Resilie...  \n",
              "5     Serata live \\nVENERDI' 18 MARZO \\nUn piacevole...  \n",
              "...                                                 ...  \n",
              "7683  Hot Club Roma Trio\\n\\nMoreno Viglione chitarra...  \n",
              "7684  Presentazione del libro:\\n \"Tasmania\" (Einaudi...  \n",
              "7685  In occasione delle GIORNATE EUROPEE DEL PATRIM...  \n",
              "7686  Vieni a Danzare gratuitamente per un giorno co...  \n",
              "7687  Il convegno, in linea col precedente Leducazio...  \n",
              "\n",
              "[6327 rows x 5 columns]"
            ],
            "text/html": [
              "\n",
              "  <div id=\"df-e729cf0f-aa78-4412-9f7d-82af531efa99\">\n",
              "    <div class=\"colab-df-container\">\n",
              "      <div>\n",
              "<style scoped>\n",
              "    .dataframe tbody tr th:only-of-type {\n",
              "        vertical-align: middle;\n",
              "    }\n",
              "\n",
              "    .dataframe tbody tr th {\n",
              "        vertical-align: top;\n",
              "    }\n",
              "\n",
              "    .dataframe thead th {\n",
              "        text-align: right;\n",
              "    }\n",
              "</style>\n",
              "<table border=\"1\" class=\"dataframe\">\n",
              "  <thead>\n",
              "    <tr style=\"text-align: right;\">\n",
              "      <th></th>\n",
              "      <th>fun</th>\n",
              "      <th>food</th>\n",
              "      <th>culture</th>\n",
              "      <th>isMusic</th>\n",
              "      <th>text</th>\n",
              "    </tr>\n",
              "  </thead>\n",
              "  <tbody>\n",
              "    <tr>\n",
              "      <th>0</th>\n",
              "      <td>1</td>\n",
              "      <td>0</td>\n",
              "      <td>1</td>\n",
              "      <td>0</td>\n",
              "      <td>Martedi 05 gennaio super tombolata al Barfly!\\...</td>\n",
              "    </tr>\n",
              "    <tr>\n",
              "      <th>2</th>\n",
              "      <td>0</td>\n",
              "      <td>0</td>\n",
              "      <td>1</td>\n",
              "      <td>1</td>\n",
              "      <td>Ingresso free senza obbligo di consumazione,se...</td>\n",
              "    </tr>\n",
              "    <tr>\n",
              "      <th>3</th>\n",
              "      <td>0</td>\n",
              "      <td>0</td>\n",
              "      <td>0</td>\n",
              "      <td>1</td>\n",
              "      <td>Giovedi 8 Marzo, Napulitanata \"celebra la donn...</td>\n",
              "    </tr>\n",
              "    <tr>\n",
              "      <th>4</th>\n",
              "      <td>0</td>\n",
              "      <td>0</td>\n",
              "      <td>1</td>\n",
              "      <td>1</td>\n",
              "      <td>yn e lieta di presentare\\n\\nNapoolyn x Resilie...</td>\n",
              "    </tr>\n",
              "    <tr>\n",
              "      <th>5</th>\n",
              "      <td>0</td>\n",
              "      <td>0</td>\n",
              "      <td>0</td>\n",
              "      <td>1</td>\n",
              "      <td>Serata live \\nVENERDI' 18 MARZO \\nUn piacevole...</td>\n",
              "    </tr>\n",
              "    <tr>\n",
              "      <th>...</th>\n",
              "      <td>...</td>\n",
              "      <td>...</td>\n",
              "      <td>...</td>\n",
              "      <td>...</td>\n",
              "      <td>...</td>\n",
              "    </tr>\n",
              "    <tr>\n",
              "      <th>7683</th>\n",
              "      <td>0</td>\n",
              "      <td>0</td>\n",
              "      <td>0</td>\n",
              "      <td>1</td>\n",
              "      <td>Hot Club Roma Trio\\n\\nMoreno Viglione chitarra...</td>\n",
              "    </tr>\n",
              "    <tr>\n",
              "      <th>7684</th>\n",
              "      <td>0</td>\n",
              "      <td>1</td>\n",
              "      <td>0</td>\n",
              "      <td>0</td>\n",
              "      <td>Presentazione del libro:\\n \"Tasmania\" (Einaudi...</td>\n",
              "    </tr>\n",
              "    <tr>\n",
              "      <th>7685</th>\n",
              "      <td>0</td>\n",
              "      <td>1</td>\n",
              "      <td>1</td>\n",
              "      <td>1</td>\n",
              "      <td>In occasione delle GIORNATE EUROPEE DEL PATRIM...</td>\n",
              "    </tr>\n",
              "    <tr>\n",
              "      <th>7686</th>\n",
              "      <td>0</td>\n",
              "      <td>0</td>\n",
              "      <td>1</td>\n",
              "      <td>0</td>\n",
              "      <td>Vieni a Danzare gratuitamente per un giorno co...</td>\n",
              "    </tr>\n",
              "    <tr>\n",
              "      <th>7687</th>\n",
              "      <td>0</td>\n",
              "      <td>1</td>\n",
              "      <td>0</td>\n",
              "      <td>0</td>\n",
              "      <td>Il convegno, in linea col precedente Leducazio...</td>\n",
              "    </tr>\n",
              "  </tbody>\n",
              "</table>\n",
              "<p>6327 rows × 5 columns</p>\n",
              "</div>\n",
              "      <button class=\"colab-df-convert\" onclick=\"convertToInteractive('df-e729cf0f-aa78-4412-9f7d-82af531efa99')\"\n",
              "              title=\"Convert this dataframe to an interactive table.\"\n",
              "              style=\"display:none;\">\n",
              "        \n",
              "  <svg xmlns=\"http://www.w3.org/2000/svg\" height=\"24px\"viewBox=\"0 0 24 24\"\n",
              "       width=\"24px\">\n",
              "    <path d=\"M0 0h24v24H0V0z\" fill=\"none\"/>\n",
              "    <path d=\"M18.56 5.44l.94 2.06.94-2.06 2.06-.94-2.06-.94-.94-2.06-.94 2.06-2.06.94zm-11 1L8.5 8.5l.94-2.06 2.06-.94-2.06-.94L8.5 2.5l-.94 2.06-2.06.94zm10 10l.94 2.06.94-2.06 2.06-.94-2.06-.94-.94-2.06-.94 2.06-2.06.94z\"/><path d=\"M17.41 7.96l-1.37-1.37c-.4-.4-.92-.59-1.43-.59-.52 0-1.04.2-1.43.59L10.3 9.45l-7.72 7.72c-.78.78-.78 2.05 0 2.83L4 21.41c.39.39.9.59 1.41.59.51 0 1.02-.2 1.41-.59l7.78-7.78 2.81-2.81c.8-.78.8-2.07 0-2.86zM5.41 20L4 18.59l7.72-7.72 1.47 1.35L5.41 20z\"/>\n",
              "  </svg>\n",
              "      </button>\n",
              "      \n",
              "  <style>\n",
              "    .colab-df-container {\n",
              "      display:flex;\n",
              "      flex-wrap:wrap;\n",
              "      gap: 12px;\n",
              "    }\n",
              "\n",
              "    .colab-df-convert {\n",
              "      background-color: #E8F0FE;\n",
              "      border: none;\n",
              "      border-radius: 50%;\n",
              "      cursor: pointer;\n",
              "      display: none;\n",
              "      fill: #1967D2;\n",
              "      height: 32px;\n",
              "      padding: 0 0 0 0;\n",
              "      width: 32px;\n",
              "    }\n",
              "\n",
              "    .colab-df-convert:hover {\n",
              "      background-color: #E2EBFA;\n",
              "      box-shadow: 0px 1px 2px rgba(60, 64, 67, 0.3), 0px 1px 3px 1px rgba(60, 64, 67, 0.15);\n",
              "      fill: #174EA6;\n",
              "    }\n",
              "\n",
              "    [theme=dark] .colab-df-convert {\n",
              "      background-color: #3B4455;\n",
              "      fill: #D2E3FC;\n",
              "    }\n",
              "\n",
              "    [theme=dark] .colab-df-convert:hover {\n",
              "      background-color: #434B5C;\n",
              "      box-shadow: 0px 1px 3px 1px rgba(0, 0, 0, 0.15);\n",
              "      filter: drop-shadow(0px 1px 2px rgba(0, 0, 0, 0.3));\n",
              "      fill: #FFFFFF;\n",
              "    }\n",
              "  </style>\n",
              "\n",
              "      <script>\n",
              "        const buttonEl =\n",
              "          document.querySelector('#df-e729cf0f-aa78-4412-9f7d-82af531efa99 button.colab-df-convert');\n",
              "        buttonEl.style.display =\n",
              "          google.colab.kernel.accessAllowed ? 'block' : 'none';\n",
              "\n",
              "        async function convertToInteractive(key) {\n",
              "          const element = document.querySelector('#df-e729cf0f-aa78-4412-9f7d-82af531efa99');\n",
              "          const dataTable =\n",
              "            await google.colab.kernel.invokeFunction('convertToInteractive',\n",
              "                                                     [key], {});\n",
              "          if (!dataTable) return;\n",
              "\n",
              "          const docLinkHtml = 'Like what you see? Visit the ' +\n",
              "            '<a target=\"_blank\" href=https://colab.research.google.com/notebooks/data_table.ipynb>data table notebook</a>'\n",
              "            + ' to learn more about interactive tables.';\n",
              "          element.innerHTML = '';\n",
              "          dataTable['output_type'] = 'display_data';\n",
              "          await google.colab.output.renderOutput(dataTable, element);\n",
              "          const docLink = document.createElement('div');\n",
              "          docLink.innerHTML = docLinkHtml;\n",
              "          element.appendChild(docLink);\n",
              "        }\n",
              "      </script>\n",
              "    </div>\n",
              "  </div>\n",
              "  "
            ]
          },
          "metadata": {},
          "execution_count": 8
        }
      ]
    },
    {
      "cell_type": "code",
      "source": [
        "'''from imblearn.under_sampling import RandomUnderSampler\n",
        "colonna_bilanciamento = tot[\"fun\"]\n",
        "classe_da_bilanciare = tot[colonna_bilanciamento == 0]\n",
        "\n",
        "# Crea un'istanza di RandomUnderSampler\n",
        "rus = RandomUnderSampler()\n",
        "\n",
        "# Esegui il re-sampling della colonna\n",
        "X_resampled, y_resampled = rus.fit_resample(classe_da_bilanciare.values.reshape(-1, 1), classe_da_bilanciare)\n",
        "\n",
        "# Sostituisci i valori bilanciati nella colonna originale\n",
        "tot.loc[tot[colonna_bilanciamento == 0].index, \"fun\"] = X_resampled.ravel()'''"
      ],
      "metadata": {
        "colab": {
          "base_uri": "https://localhost:8080/",
          "height": 0
        },
        "id": "f2HPmDMz5CTw",
        "outputId": "1d666349-3462-4b5e-925e-0921086ae420"
      },
      "execution_count": 9,
      "outputs": [
        {
          "output_type": "execute_result",
          "data": {
            "text/plain": [
              "'from imblearn.under_sampling import RandomUnderSampler\\ncolonna_bilanciamento = tot[\"fun\"]\\nclasse_da_bilanciare = tot[colonna_bilanciamento == 0]\\n\\n# Crea un\\'istanza di RandomUnderSampler\\nrus = RandomUnderSampler()\\n\\n# Esegui il re-sampling della colonna\\nX_resampled, y_resampled = rus.fit_resample(classe_da_bilanciare.values.reshape(-1, 1), classe_da_bilanciare)\\n\\n# Sostituisci i valori bilanciati nella colonna originale\\ntot.loc[tot[colonna_bilanciamento == 0].index, \"fun\"] = X_resampled.ravel()'"
            ],
            "application/vnd.google.colaboratory.intrinsic+json": {
              "type": "string"
            }
          },
          "metadata": {},
          "execution_count": 9
        }
      ]
    },
    {
      "cell_type": "markdown",
      "source": [
        "##SomePlots"
      ],
      "metadata": {
        "id": "DwY_Pz15v7Dp"
      }
    },
    {
      "cell_type": "code",
      "source": [
        "import matplotlib.pyplot as plt\n",
        "import seaborn as sns"
      ],
      "metadata": {
        "id": "f52ywSESwPmP"
      },
      "execution_count": 10,
      "outputs": []
    },
    {
      "cell_type": "markdown",
      "source": [
        "Ecco i primi elementi del dataset."
      ],
      "metadata": {
        "id": "dvJ9Lm8aweaN"
      }
    },
    {
      "cell_type": "code",
      "source": [
        "tot.head()"
      ],
      "metadata": {
        "colab": {
          "base_uri": "https://localhost:8080/",
          "height": 0
        },
        "id": "LY8K8O1KwXSZ",
        "outputId": "9e80782a-af49-46ab-8ba2-cc56ab3abac4"
      },
      "execution_count": 11,
      "outputs": [
        {
          "output_type": "execute_result",
          "data": {
            "text/plain": [
              "   fun  food  culture  isMusic  \\\n",
              "0    1     0        1        0   \n",
              "2    0     0        1        1   \n",
              "3    0     0        0        1   \n",
              "4    0     0        1        1   \n",
              "5    0     0        0        1   \n",
              "\n",
              "                                                text  \n",
              "0  Martedi 05 gennaio super tombolata al Barfly!\\...  \n",
              "2  Ingresso free senza obbligo di consumazione,se...  \n",
              "3  Giovedi 8 Marzo, Napulitanata \"celebra la donn...  \n",
              "4  yn e lieta di presentare\\n\\nNapoolyn x Resilie...  \n",
              "5  Serata live \\nVENERDI' 18 MARZO \\nUn piacevole...  "
            ],
            "text/html": [
              "\n",
              "  <div id=\"df-61f1e40b-6276-4cb4-a08c-4472b7798146\">\n",
              "    <div class=\"colab-df-container\">\n",
              "      <div>\n",
              "<style scoped>\n",
              "    .dataframe tbody tr th:only-of-type {\n",
              "        vertical-align: middle;\n",
              "    }\n",
              "\n",
              "    .dataframe tbody tr th {\n",
              "        vertical-align: top;\n",
              "    }\n",
              "\n",
              "    .dataframe thead th {\n",
              "        text-align: right;\n",
              "    }\n",
              "</style>\n",
              "<table border=\"1\" class=\"dataframe\">\n",
              "  <thead>\n",
              "    <tr style=\"text-align: right;\">\n",
              "      <th></th>\n",
              "      <th>fun</th>\n",
              "      <th>food</th>\n",
              "      <th>culture</th>\n",
              "      <th>isMusic</th>\n",
              "      <th>text</th>\n",
              "    </tr>\n",
              "  </thead>\n",
              "  <tbody>\n",
              "    <tr>\n",
              "      <th>0</th>\n",
              "      <td>1</td>\n",
              "      <td>0</td>\n",
              "      <td>1</td>\n",
              "      <td>0</td>\n",
              "      <td>Martedi 05 gennaio super tombolata al Barfly!\\...</td>\n",
              "    </tr>\n",
              "    <tr>\n",
              "      <th>2</th>\n",
              "      <td>0</td>\n",
              "      <td>0</td>\n",
              "      <td>1</td>\n",
              "      <td>1</td>\n",
              "      <td>Ingresso free senza obbligo di consumazione,se...</td>\n",
              "    </tr>\n",
              "    <tr>\n",
              "      <th>3</th>\n",
              "      <td>0</td>\n",
              "      <td>0</td>\n",
              "      <td>0</td>\n",
              "      <td>1</td>\n",
              "      <td>Giovedi 8 Marzo, Napulitanata \"celebra la donn...</td>\n",
              "    </tr>\n",
              "    <tr>\n",
              "      <th>4</th>\n",
              "      <td>0</td>\n",
              "      <td>0</td>\n",
              "      <td>1</td>\n",
              "      <td>1</td>\n",
              "      <td>yn e lieta di presentare\\n\\nNapoolyn x Resilie...</td>\n",
              "    </tr>\n",
              "    <tr>\n",
              "      <th>5</th>\n",
              "      <td>0</td>\n",
              "      <td>0</td>\n",
              "      <td>0</td>\n",
              "      <td>1</td>\n",
              "      <td>Serata live \\nVENERDI' 18 MARZO \\nUn piacevole...</td>\n",
              "    </tr>\n",
              "  </tbody>\n",
              "</table>\n",
              "</div>\n",
              "      <button class=\"colab-df-convert\" onclick=\"convertToInteractive('df-61f1e40b-6276-4cb4-a08c-4472b7798146')\"\n",
              "              title=\"Convert this dataframe to an interactive table.\"\n",
              "              style=\"display:none;\">\n",
              "        \n",
              "  <svg xmlns=\"http://www.w3.org/2000/svg\" height=\"24px\"viewBox=\"0 0 24 24\"\n",
              "       width=\"24px\">\n",
              "    <path d=\"M0 0h24v24H0V0z\" fill=\"none\"/>\n",
              "    <path d=\"M18.56 5.44l.94 2.06.94-2.06 2.06-.94-2.06-.94-.94-2.06-.94 2.06-2.06.94zm-11 1L8.5 8.5l.94-2.06 2.06-.94-2.06-.94L8.5 2.5l-.94 2.06-2.06.94zm10 10l.94 2.06.94-2.06 2.06-.94-2.06-.94-.94-2.06-.94 2.06-2.06.94z\"/><path d=\"M17.41 7.96l-1.37-1.37c-.4-.4-.92-.59-1.43-.59-.52 0-1.04.2-1.43.59L10.3 9.45l-7.72 7.72c-.78.78-.78 2.05 0 2.83L4 21.41c.39.39.9.59 1.41.59.51 0 1.02-.2 1.41-.59l7.78-7.78 2.81-2.81c.8-.78.8-2.07 0-2.86zM5.41 20L4 18.59l7.72-7.72 1.47 1.35L5.41 20z\"/>\n",
              "  </svg>\n",
              "      </button>\n",
              "      \n",
              "  <style>\n",
              "    .colab-df-container {\n",
              "      display:flex;\n",
              "      flex-wrap:wrap;\n",
              "      gap: 12px;\n",
              "    }\n",
              "\n",
              "    .colab-df-convert {\n",
              "      background-color: #E8F0FE;\n",
              "      border: none;\n",
              "      border-radius: 50%;\n",
              "      cursor: pointer;\n",
              "      display: none;\n",
              "      fill: #1967D2;\n",
              "      height: 32px;\n",
              "      padding: 0 0 0 0;\n",
              "      width: 32px;\n",
              "    }\n",
              "\n",
              "    .colab-df-convert:hover {\n",
              "      background-color: #E2EBFA;\n",
              "      box-shadow: 0px 1px 2px rgba(60, 64, 67, 0.3), 0px 1px 3px 1px rgba(60, 64, 67, 0.15);\n",
              "      fill: #174EA6;\n",
              "    }\n",
              "\n",
              "    [theme=dark] .colab-df-convert {\n",
              "      background-color: #3B4455;\n",
              "      fill: #D2E3FC;\n",
              "    }\n",
              "\n",
              "    [theme=dark] .colab-df-convert:hover {\n",
              "      background-color: #434B5C;\n",
              "      box-shadow: 0px 1px 3px 1px rgba(0, 0, 0, 0.15);\n",
              "      filter: drop-shadow(0px 1px 2px rgba(0, 0, 0, 0.3));\n",
              "      fill: #FFFFFF;\n",
              "    }\n",
              "  </style>\n",
              "\n",
              "      <script>\n",
              "        const buttonEl =\n",
              "          document.querySelector('#df-61f1e40b-6276-4cb4-a08c-4472b7798146 button.colab-df-convert');\n",
              "        buttonEl.style.display =\n",
              "          google.colab.kernel.accessAllowed ? 'block' : 'none';\n",
              "\n",
              "        async function convertToInteractive(key) {\n",
              "          const element = document.querySelector('#df-61f1e40b-6276-4cb4-a08c-4472b7798146');\n",
              "          const dataTable =\n",
              "            await google.colab.kernel.invokeFunction('convertToInteractive',\n",
              "                                                     [key], {});\n",
              "          if (!dataTable) return;\n",
              "\n",
              "          const docLinkHtml = 'Like what you see? Visit the ' +\n",
              "            '<a target=\"_blank\" href=https://colab.research.google.com/notebooks/data_table.ipynb>data table notebook</a>'\n",
              "            + ' to learn more about interactive tables.';\n",
              "          element.innerHTML = '';\n",
              "          dataTable['output_type'] = 'display_data';\n",
              "          await google.colab.output.renderOutput(dataTable, element);\n",
              "          const docLink = document.createElement('div');\n",
              "          docLink.innerHTML = docLinkHtml;\n",
              "          element.appendChild(docLink);\n",
              "        }\n",
              "      </script>\n",
              "    </div>\n",
              "  </div>\n",
              "  "
            ]
          },
          "metadata": {},
          "execution_count": 11
        }
      ]
    },
    {
      "cell_type": "code",
      "source": [
        "tot.dtypes"
      ],
      "metadata": {
        "colab": {
          "base_uri": "https://localhost:8080/"
        },
        "id": "DUBObwy6w4FS",
        "outputId": "0e117b82-83c5-4ada-ee78-d9cbf8fc759d"
      },
      "execution_count": 12,
      "outputs": [
        {
          "output_type": "execute_result",
          "data": {
            "text/plain": [
              "fun         int64\n",
              "food        int64\n",
              "culture     int64\n",
              "isMusic     int64\n",
              "text       object\n",
              "dtype: object"
            ]
          },
          "metadata": {},
          "execution_count": 12
        }
      ]
    },
    {
      "cell_type": "code",
      "source": [
        "sns.countplot(tot['fun'])"
      ],
      "metadata": {
        "colab": {
          "base_uri": "https://localhost:8080/",
          "height": 0
        },
        "id": "8g71sbx2w420",
        "outputId": "01ee9d4d-418b-491b-c932-4d7d10ca0d42"
      },
      "execution_count": 13,
      "outputs": [
        {
          "output_type": "stream",
          "name": "stderr",
          "text": [
            "/usr/local/lib/python3.8/dist-packages/seaborn/_decorators.py:36: FutureWarning: Pass the following variable as a keyword arg: x. From version 0.12, the only valid positional argument will be `data`, and passing other arguments without an explicit keyword will result in an error or misinterpretation.\n",
            "  warnings.warn(\n"
          ]
        },
        {
          "output_type": "execute_result",
          "data": {
            "text/plain": [
              "<matplotlib.axes._subplots.AxesSubplot at 0x7fb7877a90d0>"
            ]
          },
          "metadata": {},
          "execution_count": 13
        },
        {
          "output_type": "display_data",
          "data": {
            "text/plain": [
              "<Figure size 432x288 with 1 Axes>"
            ],
            "image/png": "[encoded data removed]"
          },
          "metadata": {
            "needs_background": "light"
          }
        }
      ]
    },
    {
      "cell_type": "code",
      "source": [
        "sns.countplot((tot[\"text\"] == None))"
      ],
      "metadata": {
        "colab": {
          "base_uri": "https://localhost:8080/",
          "height": 0
        },
        "id": "M_8CTs070mQU",
        "outputId": "55a4ca99-5858-4d13-fdb9-15bf717b8515"
      },
      "execution_count": 14,
      "outputs": [
        {
          "output_type": "stream",
          "name": "stderr",
          "text": [
            "/usr/local/lib/python3.8/dist-packages/seaborn/_decorators.py:36: FutureWarning: Pass the following variable as a keyword arg: x. From version 0.12, the only valid positional argument will be `data`, and passing other arguments without an explicit keyword will result in an error or misinterpretation.\n",
            "  warnings.warn(\n"
          ]
        },
        {
          "output_type": "execute_result",
          "data": {
            "text/plain": [
              "<matplotlib.axes._subplots.AxesSubplot at 0x7fb787787250>"
            ]
          },
          "metadata": {},
          "execution_count": 14
        },
        {
          "output_type": "display_data",
          "data": {
            "text/plain": [
              "<Figure size 432x288 with 1 Axes>"
            ],
            "image/png": "[encoded data removed]"
          },
          "metadata": {
            "needs_background": "light"
          }
        }
      ]
    },
    {
      "cell_type": "markdown",
      "source": [
        "##Classificatori"
      ],
      "metadata": {
        "id": "Gyt1jv97HSVg"
      }
    },
    {
      "cell_type": "code",
      "source": [
        "corpus = tot[\"text\"]"
      ],
      "metadata": {
        "id": "5qQmQ9Lh92YC"
      },
      "execution_count": 15,
      "outputs": []
    },
    {
      "cell_type": "markdown",
      "source": [
        "###Tokenizzazione, trasformazione in sequenza e padding"
      ],
      "metadata": {
        "id": "C-zaR9jHb7ke"
      }
    },
    {
      "cell_type": "code",
      "source": [
        "from tensorflow.keras.preprocessing.text import Tokenizer\n",
        "from tensorflow.keras.preprocessing.sequence import pad_sequences\n",
        "\n",
        "MAX_NB_WORDS = 30000\n",
        "\n",
        "# get the raw text data\n",
        "\n",
        "# finally, vectorize the text samples into a 2D integer tensor\n",
        "tokenizer = Tokenizer(num_words=MAX_NB_WORDS, char_level=False)\n",
        "tokenizer.fit_on_texts(corpus)\n",
        "\n",
        "sequences = tokenizer.texts_to_sequences(corpus)\n",
        "#sequences_test = tokenizer.texts_to_sequences(texts_test)\n",
        "seq_lens = [len(s) for s in sequences]\n"
      ],
      "metadata": {
        "id": "p9r7hIIUb6rF"
      },
      "execution_count": 16,
      "outputs": []
    },
    {
      "cell_type": "code",
      "source": [
        "sampleIndex = 1998\n",
        "print('Sequenza parola numero %s: ' % sampleIndex)\n",
        "for x in sequences[sampleIndex]:\n",
        "  print('%d,' % x, end =' ')"
      ],
      "metadata": {
        "colab": {
          "base_uri": "https://localhost:8080/"
        },
        "id": "Rn2n_9xHHmOG",
        "outputId": "89a9bd7f-4109-4c93-fce0-4502c3d12b97"
      },
      "execution_count": 17,
      "outputs": [
        {
          "output_type": "stream",
          "name": "stdout",
          "text": [
            "Sequenza parola numero 1998: \n",
            "2238, 555, 13051, 25474, 1501, 2238, 1945, 555, 250, 163, 314, 3, 89, 25475, 1945, 6, 1738, 5, 83, 2627, 2, 1020, 282, 25475, 1945, 1119, 801, 1, 6611, 737, 3021, 3242, 2, 17153, 4, 126, 622, 2238, 19148, 2, 4295, 1808, 6732, 8, 4, 126, 2169, 335, 47, 238, 4466, 24394, 24395, 5804, 1, 1588, 5165, 5, 366, 91, 26, 153, 282, 1, 93, 79, 18, 151, 26, 114, 9012, 208, 321, 139, 172, 9787, 208, 11003, 1158, 1210, 5917, 14583, 18451, 22, 9, 100, 831, 97, 22, 42, 13, 1690, 1, 13, 1535, 19377, 1859, 6, 1801, 1, 165, 97, 25476, 54, 17, 516, 13051, 5743, 9, 2828, 5, 158, 445, 139, 9012, 34, 1218, 5313, 6397, 24396, "
          ]
        }
      ]
    },
    {
      "cell_type": "code",
      "source": [
        "print('Traduzione della sequenza numero %d in parole: ' % sampleIndex)\n",
        "index_to_word = dict((i, w) for w, i in tokenizer.word_index.items())\n",
        "\" \".join([index_to_word[i] for i in sequences[sampleIndex]])"
      ],
      "metadata": {
        "colab": {
          "base_uri": "https://localhost:8080/",
          "height": 87
        },
        "id": "-XqNP5E1-Jx3",
        "outputId": "0f9a090e-ee57-4995-d30a-787dd7765136"
      },
      "execution_count": 18,
      "outputs": [
        {
          "output_type": "stream",
          "name": "stdout",
          "text": [
            "Traduzione della sequenza numero 1998 in parole: \n"
          ]
        },
        {
          "output_type": "execute_result",
          "data": {
            "text/plain": [
              "\"carbonara day malanghino rilancia col carbonara roll day mercoledi 7 aprile il nostro carbo roll in regalo a ogni ordine di almeno 50 carbo roll pesce bianco e avocado all'interno scampi uova di quaglia la nostra salsa carbonara briciole di guanciale croccante ordina con la nostra app oppure su whatsapp 388 481 5046 delivery e take away a pranzo 12 30 14 50 e cena 19 00 23 30 dove palese san paolo bari citta modugno san girolamo santo spirito giovinazzo bitonto elenco non del tutto completo se non tra i quartieri e i paesi citati scrivici in privato e ti se arriviamo anche da te malanghino l'esperienza del giappone a casa tua bari palese via vittorio veneto 67 newopening\""
            ],
            "application/vnd.google.colaboratory.intrinsic+json": {
              "type": "string"
            }
          },
          "metadata": {},
          "execution_count": 18
        }
      ]
    },
    {
      "cell_type": "code",
      "source": [
        "%matplotlib inline\n",
        "import matplotlib.pyplot as plt\n",
        "\n",
        "plt.hist(seq_lens, bins=500, color = 'purple')\n",
        "plt.xlabel('#words')\n",
        "plt.ylabel('#descriptions')\n",
        "plt.title('Y documenti con X parole')"
      ],
      "metadata": {
        "colab": {
          "base_uri": "https://localhost:8080/",
          "height": 312
        },
        "id": "O3htyl3c_UzP",
        "outputId": "07f6a057-e896-4ea5-95de-2b0ae5fae890"
      },
      "execution_count": 19,
      "outputs": [
        {
          "output_type": "execute_result",
          "data": {
            "text/plain": [
              "Text(0.5, 1.0, 'Y documenti con X parole')"
            ]
          },
          "metadata": {},
          "execution_count": 19
        },
        {
          "output_type": "display_data",
          "data": {
            "text/plain": [
              "<Figure size 432x288 with 1 Axes>"
            ],
            "image/png": "[encoded data removed]"
          },
          "metadata": {
            "needs_background": "light"
          }
        }
      ]
    },
    {
      "cell_type": "code",
      "source": [
        "media=np.mean(seq_lens)\n",
        "print(\"average length: %0.1f\" % media)\n",
        "print(\"max length: %d\" % max(seq_lens))\n",
        "y = 0\n",
        "for i in seq_lens:\n",
        "  if i < media:\n",
        "    y = y + 1\n",
        "\n",
        "print(\"percentuale descrizioni di lunghezza inferiore ad average length: %d%%\" % (int(y*100/len(seq_lens))))\n"
      ],
      "metadata": {
        "colab": {
          "base_uri": "https://localhost:8080/"
        },
        "id": "rF9fciyQ-cUk",
        "outputId": "6b25bc67-e12e-412f-bd53-8455ff8267d1"
      },
      "execution_count": 20,
      "outputs": [
        {
          "output_type": "stream",
          "name": "stdout",
          "text": [
            "average length: 112.2\n",
            "max length: 1217\n",
            "percentuale descrizioni di lunghezza inferiore ad average length: 67%\n"
          ]
        }
      ]
    },
    {
      "cell_type": "markdown",
      "source": [
        "####Padding\n",
        "La lunghezza media dei testi è di circa 112: eseguo il pad con massima lunghezza 115, valutando che la maggior parte delle descrizioni non supera quel numero di parole."
      ],
      "metadata": {
        "id": "BpCi29f6-dvQ"
      }
    },
    {
      "cell_type": "code",
      "source": [
        "MAX_SEQUENCE_LENGTH = 120\n",
        "\n",
        "# pad sequences with 0s\n",
        "padded = pad_sequences(sequences, maxlen=MAX_SEQUENCE_LENGTH,padding='post')\n",
        "\n",
        "print('Shape of data tensor:', padded.shape)\n",
        "\n",
        "word_index = tokenizer.word_index\n",
        "print('Found %s unique tokens.' % len(word_index))"
      ],
      "metadata": {
        "colab": {
          "base_uri": "https://localhost:8080/"
        },
        "id": "DA_Jod7w-AaM",
        "outputId": "2884129f-1aef-442e-cc6d-de5513ef1684"
      },
      "execution_count": 21,
      "outputs": [
        {
          "output_type": "stream",
          "name": "stdout",
          "text": [
            "Shape of data tensor: (6327, 120)\n",
            "Found 61492 unique tokens.\n"
          ]
        }
      ]
    },
    {
      "cell_type": "code",
      "source": [
        "padded[sampleIndex].shape[0]"
      ],
      "metadata": {
        "colab": {
          "base_uri": "https://localhost:8080/"
        },
        "id": "wQrPJ9ol_Rdm",
        "outputId": "b15376dc-a7f8-4540-a492-ab9848535fa1"
      },
      "execution_count": 22,
      "outputs": [
        {
          "output_type": "execute_result",
          "data": {
            "text/plain": [
              "120"
            ]
          },
          "metadata": {},
          "execution_count": 22
        }
      ]
    },
    {
      "cell_type": "markdown",
      "source": [
        "###Test con alcuni classificatori (con supporto di word2vec)"
      ],
      "metadata": {
        "id": "BM5VMUcgEni5"
      }
    },
    {
      "cell_type": "code",
      "source": [
        "'''import gensim.downloader as api\n",
        "\n",
        "# Download the models (1660MB)\n",
        "word2vec_model300 = api.load('word2vec-google-news-300')'''"
      ],
      "metadata": {
        "colab": {
          "base_uri": "https://localhost:8080/",
          "height": 35
        },
        "id": "EP4cs4c1YzJy",
        "outputId": "9cbe4929-fbd0-4204-c77c-44b0af58d5b6"
      },
      "execution_count": 23,
      "outputs": [
        {
          "output_type": "execute_result",
          "data": {
            "text/plain": [
              "\"import gensim.downloader as api\\n\\n# Download the models (1660MB)\\nword2vec_model300 = api.load('word2vec-google-news-300')\""
            ],
            "application/vnd.google.colaboratory.intrinsic+json": {
              "type": "string"
            }
          },
          "metadata": {},
          "execution_count": 23
        }
      ]
    },
    {
      "cell_type": "code",
      "source": [
        "'''\n",
        "x_emb = []\n",
        "for sentence in padded:\n",
        "  print('sentence')\n",
        "  print(sentence)\n",
        "  sent_emb = [0 for k in range(300)] \n",
        "  \n",
        "  num_tok = 0\n",
        "  for tok in sentence:\n",
        "    if tok != 0:\n",
        "      word=list(word_index.keys())[list(word_index.values()).index(tok)]\n",
        "      print('word: '+ word)\n",
        "      try:\n",
        "          emb = word2vec_model300.wv[word]\n",
        "          sent_emb = [x + y for x, y in zip(sent_emb, emb)]\n",
        "          num_tok = num_tok +1\n",
        "      except:\n",
        "          pass\n",
        "  if num_tok != 0:\n",
        "    final_sent_emb = [x / num_tok for x in sent_emb]         \n",
        "  x_emb.append(final_sent_emb)\n",
        "  \n",
        "\n",
        "x_emb = np.array(x_emb)\n",
        "with open('/content/drive/MyDrive/Colab Notebooks/embeddings.npy', 'wb') as f:\n",
        "    np.save(f, x_emb)\n",
        "'''\n",
        "with open('/content/drive/MyDrive/Colab Notebooks/embeddings.npy', 'rb') as f:\n",
        "    x_emb = np.load(f)\n",
        "print(type(x_emb))\n",
        "print(len(x_emb))"
      ],
      "metadata": {
        "id": "mPraSkoHEuK-",
        "colab": {
          "base_uri": "https://localhost:8080/"
        },
        "outputId": "151ccf9b-0f09-4d39-9f68-6803801ec6b5"
      },
      "execution_count": 24,
      "outputs": [
        {
          "output_type": "stream",
          "name": "stdout",
          "text": [
            "<class 'numpy.ndarray'>\n",
            "6327\n"
          ]
        }
      ]
    },
    {
      "cell_type": "code",
      "source": [
        "x_emb.shape"
      ],
      "metadata": {
        "id": "zVI0FdubxGo9",
        "colab": {
          "base_uri": "https://localhost:8080/"
        },
        "outputId": "934bf1a2-ebca-4562-c18d-c38287db1b16"
      },
      "execution_count": 25,
      "outputs": [
        {
          "output_type": "execute_result",
          "data": {
            "text/plain": [
              "(6327, 300)"
            ]
          },
          "metadata": {},
          "execution_count": 25
        }
      ]
    },
    {
      "cell_type": "code",
      "source": [
        "print(x_emb[sampleIndex])"
      ],
      "metadata": {
        "colab": {
          "base_uri": "https://localhost:8080/"
        },
        "id": "9RqFQ3iOxNo1",
        "outputId": "8affa33e-2316-4ff2-db50-647b2ede99d8"
      },
      "execution_count": 26,
      "outputs": [
        {
          "output_type": "stream",
          "name": "stdout",
          "text": [
            "[-3.05786133e-02  7.58842699e-02  6.14662170e-02  1.44120419e-01\n",
            " -1.97686282e-02  8.10065992e-02 -5.22960316e-03 -4.96363784e-02\n",
            " -2.35274344e-03  1.17864435e-01 -9.83539928e-02 -1.38018984e-01\n",
            " -1.41777270e-01  2.63907404e-02 -1.08870564e-01  1.45015832e-01\n",
            "  1.37676239e-01  1.15994540e-01  2.90367820e-02  8.41785778e-02\n",
            " -1.09778664e-01 -3.43318130e-02  1.43727389e-01  8.06704434e-02\n",
            " -9.10098914e-02 -8.65139094e-02 -1.10806956e-01  9.51815518e-02\n",
            " -7.71336411e-02 -2.72553473e-02  1.11357949e-02  7.65165271e-02\n",
            "  2.58844549e-02 -3.79208651e-02 -9.34795033e-02 -6.82362643e-02\n",
            " -6.14663326e-02  4.35656923e-02  9.75188631e-02 -1.69354217e-02\n",
            " -2.76641846e-02 -5.28555205e-02  1.05245879e-01  9.82952696e-02\n",
            "  5.44472897e-03 -1.37826631e-01 -1.16993528e-01 -5.18678607e-02\n",
            " -2.40528222e-02  1.39574918e-01 -1.13349683e-01  1.99734775e-01\n",
            "  9.40972530e-02  5.69162080e-02 -6.25702829e-02  1.85667327e-01\n",
            " -1.14800655e-01 -1.09507243e-01  5.17938787e-02 -1.35975231e-01\n",
            " -1.49469202e-01  1.08104359e-01 -8.77846805e-02 -6.15924488e-02\n",
            "  3.38624896e-02 -1.65609331e-01 -9.47893090e-02 -7.83843994e-02\n",
            "  4.85032977e-02  1.53809981e-01  6.21957490e-02  6.84500030e-02\n",
            "  2.64712247e-02  7.61584369e-02 -5.86317814e-02 -3.55543657e-02\n",
            "  1.43758022e-02  3.15348307e-03 -4.19091889e-02 -4.12544482e-02\n",
            "  1.15152995e-02 -1.40649044e-02  1.46596504e-02 -1.51260145e-01\n",
            "  7.95040709e-02  5.43841738e-02 -6.29939455e-02  1.79260254e-01\n",
            "  5.94757542e-03  3.60269258e-02 -1.95367987e-02 -2.83195033e-02\n",
            " -7.77541652e-02 -2.56844723e-02  8.20229270e-03  4.23362038e-03\n",
            " -2.47983066e-02  3.44025583e-02  1.45578558e-01 -6.03390318e-02\n",
            " -9.66297496e-02  2.88855813e-02 -3.47101616e-02  4.23338919e-02\n",
            " -6.92182599e-02  4.92532181e-02 -4.39554850e-02  5.22797324e-02\n",
            "  2.51941103e-02  5.26964592e-02 -3.75153513e-02 -1.60517837e-01\n",
            "  6.79968632e-02 -7.78086113e-02  3.92012163e-03  9.85740893e-02\n",
            " -6.49585724e-02 -1.28793427e-01  1.21110858e-02 -3.96427964e-02\n",
            "  9.27318226e-02 -8.09192079e-02 -1.08231284e-01  3.05111047e-02\n",
            "  1.45270781e-01 -1.28740715e-01 -1.70828155e-01  6.15801956e-03\n",
            "  2.44780454e-02  8.13672615e-02 -1.27611565e-01  1.44358548e-02\n",
            "  1.10765515e-02  1.77431974e-02 -5.66045588e-02  7.64608672e-02\n",
            " -4.81373180e-02 -5.80939091e-02  2.01140433e-01  5.22744150e-02\n",
            "  1.30906539e-01 -1.49627686e-01 -5.74124365e-02  2.00879646e-02\n",
            "  9.14140181e-04 -1.60718036e-02 -6.93287705e-02  9.11023689e-02\n",
            " -7.60298064e-02 -5.51058451e-02  9.24546213e-02 -1.44130822e-01\n",
            " -6.64958087e-02  4.70611110e-02 -1.79963545e-02 -1.42991499e-01\n",
            "  1.03681160e-02  2.11171930e-01 -8.23608167e-02 -8.07076656e-02\n",
            " -3.26105754e-02  5.75991544e-02 -1.83614095e-02  8.92962831e-03\n",
            " -3.46661192e-02 -8.71798197e-02  1.29765366e-01  4.36493845e-04\n",
            " -8.33469738e-02  3.59062426e-02 -1.34682626e-01 -1.24968558e-01\n",
            " -1.73657735e-02 -3.96367853e-02 -5.03056844e-02  8.81948182e-02\n",
            "  1.72497836e-01 -1.66512229e-01  6.51645082e-02 -1.03328589e-02\n",
            " -1.94637414e-02 -6.13886615e-02 -2.25729509e-02 -3.14839681e-02\n",
            "  2.57022742e-02  4.79082050e-02 -3.69331475e-02 -2.09738991e-03\n",
            " -8.44423699e-02  8.02855058e-03  4.49708881e-02  1.20516690e-02\n",
            " -9.01729699e-02  2.64673522e-02  8.76686790e-02  6.10157360e-02\n",
            " -5.33551303e-02  1.59435850e-02  2.16369629e-02  4.22078913e-02\n",
            " -1.42394557e-02  3.93897548e-02 -1.21894605e-01 -1.05534828e-01\n",
            "  9.56402403e-02 -1.42042218e-01  3.51172938e-02  2.47862845e-02\n",
            " -8.45947266e-02  3.97126169e-02  3.72099443e-02 -5.85058964e-03\n",
            " -1.74858729e-01  8.40870250e-02 -9.23811017e-02  6.38561827e-02\n",
            "  5.91024919e-02 -6.99453643e-02 -9.63869962e-02 -3.58858975e-02\n",
            " -1.01771499e-03  1.00629344e-01  2.05913313e-02  1.36790420e-02\n",
            "  6.83286262e-02 -8.03495465e-02  8.39806759e-02  2.12013071e-02\n",
            "  2.28218599e-02 -2.83429695e-02 -1.90388073e-03 -1.08876460e-01\n",
            " -3.39818434e-02  2.46623646e-02  1.32373752e-02 -1.29158714e-02\n",
            " -1.26210993e-02  8.34883393e-02  2.02322187e-02  2.79731173e-02\n",
            "  6.76008282e-02 -2.36511230e-03  1.05069247e-01  2.03640100e-02\n",
            " -6.03438869e-02 -6.81288748e-02 -5.65342759e-02  1.46451777e-01\n",
            " -1.19964101e-02 -5.55712382e-02  5.25896477e-02  5.11215672e-02\n",
            "  8.72405081e-02  3.20134018e-02  6.79203380e-02 -1.27347773e-01\n",
            " -9.07752731e-02 -5.92595881e-02  1.21903853e-02 -3.63578083e-02\n",
            "  6.11643936e-02  1.15278764e-01  1.26362656e-01 -5.76030847e-02\n",
            " -6.65881995e-02 -4.78439331e-02 -5.68736683e-02  3.46256603e-02\n",
            " -4.85039913e-02 -3.79712654e-02 -7.56392045e-02 -5.14722304e-02\n",
            " -3.74802098e-02  3.40391217e-02  1.48439350e-01  1.59731778e-02\n",
            " -1.57637163e-01 -4.74806121e-02 -1.21924660e-01  1.04364337e-01\n",
            " -8.69935932e-02  1.03826349e-01  1.40741522e-02 -4.85541604e-03\n",
            "  6.20709044e-02 -5.89867794e-03  6.45030629e-05  5.58860085e-02\n",
            " -1.35677569e-01  5.47053019e-02  4.77553859e-03 -4.80607929e-02\n",
            " -1.11471465e-01  6.80588231e-02  4.02577718e-02 -1.17691502e-02\n",
            " -3.70973529e-02 -5.54991057e-02 -4.64514530e-02  1.07676651e-01]\n"
          ]
        }
      ]
    },
    {
      "cell_type": "code",
      "source": [
        "y = tot[['fun', 'food', 'culture', 'isMusic']]"
      ],
      "metadata": {
        "id": "Rh5z0z-T74kf"
      },
      "execution_count": 27,
      "outputs": []
    },
    {
      "cell_type": "code",
      "source": [
        "from sklearn.decomposition import PCA\n",
        "pca = PCA (170)\n",
        "\n",
        "reduced = pca.fit_transform(x_emb)\n",
        "\n",
        "X_reduced,X_testReduced,y_trainReduced,y_testReduced = train_test_split(reduced,y,test_size=0.25,random_state=42)\n",
        "reduced.shape"
      ],
      "metadata": {
        "colab": {
          "base_uri": "https://localhost:8080/"
        },
        "id": "WHexH5pHwP1N",
        "outputId": "07cb98ac-9620-4878-9489-7396e571df9a"
      },
      "execution_count": 28,
      "outputs": [
        {
          "output_type": "execute_result",
          "data": {
            "text/plain": [
              "(6327, 170)"
            ]
          },
          "metadata": {},
          "execution_count": 28
        }
      ]
    },
    {
      "cell_type": "code",
      "source": [
        "from sklearn.utils import class_weight\n",
        "weights = class_weight.compute_sample_weight(class_weight=\"balanced\", y=y)"
      ],
      "metadata": {
        "id": "Pf1gNSR88CcQ"
      },
      "execution_count": 29,
      "outputs": []
    },
    {
      "cell_type": "code",
      "source": [
        "weights"
      ],
      "metadata": {
        "colab": {
          "base_uri": "https://localhost:8080/"
        },
        "id": "Y4ePMJ---iaa",
        "outputId": "8e3d1e94-4378-46c5-f673-7bd02db4319e"
      },
      "execution_count": 30,
      "outputs": [
        {
          "output_type": "execute_result",
          "data": {
            "text/plain": [
              "array([0.84899271, 0.66966338, 1.26944883, ..., 0.82064974, 0.42600773,\n",
              "       0.98964042])"
            ]
          },
          "metadata": {},
          "execution_count": 30
        }
      ]
    },
    {
      "cell_type": "markdown",
      "source": [
        "####Split"
      ],
      "metadata": {
        "id": "Ujr0O_QlMIJ0"
      }
    },
    {
      "cell_type": "code",
      "source": [
        "\n",
        "X_train,X_test,y_train,y_test = train_test_split(x_emb,y,test_size=0.25,random_state=42)"
      ],
      "metadata": {
        "id": "OWgXvZQjMOyq"
      },
      "execution_count": 31,
      "outputs": []
    },
    {
      "cell_type": "markdown",
      "source": [
        "###Da Multi-label a Multi-classe\n",
        "A questo punto potremmo pensare di rappresentare il nostro Multi-Label problem come un Multi-Class binary classification problem. È utile costruire questo modello come base di confronto per i prossimi modelli: esso tratterà le label come singoli classification problems. Costruiamo il modello di base."
      ],
      "metadata": {
        "id": "0E_S_wcDOZi2"
      }
    },
    {
      "cell_type": "code",
      "source": [
        "!pip install scikit-multilearn"
      ],
      "metadata": {
        "colab": {
          "base_uri": "https://localhost:8080/"
        },
        "id": "p4FAvUd8eCtP",
        "outputId": "7a5127c0-eeb8-44be-8964-5752d1893ba4"
      },
      "execution_count": 32,
      "outputs": [
        {
          "output_type": "stream",
          "name": "stdout",
          "text": [
            "Looking in indexes: https://pypi.org/simple, https://us-python.pkg.dev/colab-wheels/public/simple/\n",
            "Collecting scikit-multilearn\n",
            "  Downloading scikit_multilearn-0.2.0-py3-none-any.whl (89 kB)\n",
            "\u001b[?25l     \u001b[90m━━━━━━━━━━━━━━━━━━━━━━━━━━━━━━━━━━━━━━━━\u001b[0m \u001b[32m0.0/89.4 KB\u001b[0m \u001b[31m?\u001b[0m eta \u001b[36m-:--:--\u001b[0m\r\u001b[2K     \u001b[90m━━━━━━━━━━━━━━━━━━━━━━━━━━━━━━━━━━━━━━━━\u001b[0m \u001b[32m89.4/89.4 KB\u001b[0m \u001b[31m8.4 MB/s\u001b[0m eta \u001b[36m0:00:00\u001b[0m\n",
            "\u001b[?25hInstalling collected packages: scikit-multilearn\n",
            "Successfully installed scikit-multilearn-0.2.0\n"
          ]
        }
      ]
    },
    {
      "cell_type": "code",
      "source": [
        "from sklearn.naive_bayes import GaussianNB,BernoulliNB,CategoricalNB\n",
        "from sklearn.linear_model import SGDClassifier\n",
        "from sklearn.neighbors import KNeighborsClassifier\n",
        "from sklearn.svm import SVC\n",
        "\n",
        "from sklearn.model_selection import GridSearchCV\n",
        "\n",
        "#Metrics\n",
        "from sklearn.metrics import accuracy_score, average_precision_score, f1_score, hamming_loss, label_ranking_average_precision_score, precision_recall_curve, recall_score, classification_report, r2_score\n",
        "\n",
        "#Multilable\n",
        "from skmultilearn.problem_transform import BinaryRelevance, LabelPowerset\n",
        "from skmultilearn.ensemble import RakelD, RakelO, LabelSpacePartitioningClassifier\n",
        "from skmultilearn.adapt import MLkNN\n",
        "\n",
        "import matplotlib.pyplot as plt\n",
        "import numpy as np"
      ],
      "metadata": {
        "id": "wl6nOAvlP7UO"
      },
      "execution_count": 33,
      "outputs": []
    },
    {
      "cell_type": "code",
      "source": [
        "y_test"
      ],
      "metadata": {
        "colab": {
          "base_uri": "https://localhost:8080/",
          "height": 424
        },
        "id": "LmLCZIW0Kmcw",
        "outputId": "68802bb6-b448-4ebf-bb4f-68f2f27710c1"
      },
      "execution_count": 34,
      "outputs": [
        {
          "output_type": "execute_result",
          "data": {
            "text/plain": [
              "      fun  food  culture  isMusic\n",
              "1293    1     1        1        0\n",
              "7141    0     0        1        1\n",
              "3846    0     0        1        1\n",
              "4310    0     1        0        0\n",
              "5319    0     1        0        0\n",
              "...   ...   ...      ...      ...\n",
              "3448    0     1        1        0\n",
              "6162    0     0        0        1\n",
              "1159    1     0        1        1\n",
              "6140    1     1        1        1\n",
              "4563    1     1        1        0\n",
              "\n",
              "[1582 rows x 4 columns]"
            ],
            "text/html": [
              "\n",
              "  <div id=\"df-018b2242-4333-4a34-980e-979b32cb4e8b\">\n",
              "    <div class=\"colab-df-container\">\n",
              "      <div>\n",
              "<style scoped>\n",
              "    .dataframe tbody tr th:only-of-type {\n",
              "        vertical-align: middle;\n",
              "    }\n",
              "\n",
              "    .dataframe tbody tr th {\n",
              "        vertical-align: top;\n",
              "    }\n",
              "\n",
              "    .dataframe thead th {\n",
              "        text-align: right;\n",
              "    }\n",
              "</style>\n",
              "<table border=\"1\" class=\"dataframe\">\n",
              "  <thead>\n",
              "    <tr style=\"text-align: right;\">\n",
              "      <th></th>\n",
              "      <th>fun</th>\n",
              "      <th>food</th>\n",
              "      <th>culture</th>\n",
              "      <th>isMusic</th>\n",
              "    </tr>\n",
              "  </thead>\n",
              "  <tbody>\n",
              "    <tr>\n",
              "      <th>1293</th>\n",
              "      <td>1</td>\n",
              "      <td>1</td>\n",
              "      <td>1</td>\n",
              "      <td>0</td>\n",
              "    </tr>\n",
              "    <tr>\n",
              "      <th>7141</th>\n",
              "      <td>0</td>\n",
              "      <td>0</td>\n",
              "      <td>1</td>\n",
              "      <td>1</td>\n",
              "    </tr>\n",
              "    <tr>\n",
              "      <th>3846</th>\n",
              "      <td>0</td>\n",
              "      <td>0</td>\n",
              "      <td>1</td>\n",
              "      <td>1</td>\n",
              "    </tr>\n",
              "    <tr>\n",
              "      <th>4310</th>\n",
              "      <td>0</td>\n",
              "      <td>1</td>\n",
              "      <td>0</td>\n",
              "      <td>0</td>\n",
              "    </tr>\n",
              "    <tr>\n",
              "      <th>5319</th>\n",
              "      <td>0</td>\n",
              "      <td>1</td>\n",
              "      <td>0</td>\n",
              "      <td>0</td>\n",
              "    </tr>\n",
              "    <tr>\n",
              "      <th>...</th>\n",
              "      <td>...</td>\n",
              "      <td>...</td>\n",
              "      <td>...</td>\n",
              "      <td>...</td>\n",
              "    </tr>\n",
              "    <tr>\n",
              "      <th>3448</th>\n",
              "      <td>0</td>\n",
              "      <td>1</td>\n",
              "      <td>1</td>\n",
              "      <td>0</td>\n",
              "    </tr>\n",
              "    <tr>\n",
              "      <th>6162</th>\n",
              "      <td>0</td>\n",
              "      <td>0</td>\n",
              "      <td>0</td>\n",
              "      <td>1</td>\n",
              "    </tr>\n",
              "    <tr>\n",
              "      <th>1159</th>\n",
              "      <td>1</td>\n",
              "      <td>0</td>\n",
              "      <td>1</td>\n",
              "      <td>1</td>\n",
              "    </tr>\n",
              "    <tr>\n",
              "      <th>6140</th>\n",
              "      <td>1</td>\n",
              "      <td>1</td>\n",
              "      <td>1</td>\n",
              "      <td>1</td>\n",
              "    </tr>\n",
              "    <tr>\n",
              "      <th>4563</th>\n",
              "      <td>1</td>\n",
              "      <td>1</td>\n",
              "      <td>1</td>\n",
              "      <td>0</td>\n",
              "    </tr>\n",
              "  </tbody>\n",
              "</table>\n",
              "<p>1582 rows × 4 columns</p>\n",
              "</div>\n",
              "      <button class=\"colab-df-convert\" onclick=\"convertToInteractive('df-018b2242-4333-4a34-980e-979b32cb4e8b')\"\n",
              "              title=\"Convert this dataframe to an interactive table.\"\n",
              "              style=\"display:none;\">\n",
              "        \n",
              "  <svg xmlns=\"http://www.w3.org/2000/svg\" height=\"24px\"viewBox=\"0 0 24 24\"\n",
              "       width=\"24px\">\n",
              "    <path d=\"M0 0h24v24H0V0z\" fill=\"none\"/>\n",
              "    <path d=\"M18.56 5.44l.94 2.06.94-2.06 2.06-.94-2.06-.94-.94-2.06-.94 2.06-2.06.94zm-11 1L8.5 8.5l.94-2.06 2.06-.94-2.06-.94L8.5 2.5l-.94 2.06-2.06.94zm10 10l.94 2.06.94-2.06 2.06-.94-2.06-.94-.94-2.06-.94 2.06-2.06.94z\"/><path d=\"M17.41 7.96l-1.37-1.37c-.4-.4-.92-.59-1.43-.59-.52 0-1.04.2-1.43.59L10.3 9.45l-7.72 7.72c-.78.78-.78 2.05 0 2.83L4 21.41c.39.39.9.59 1.41.59.51 0 1.02-.2 1.41-.59l7.78-7.78 2.81-2.81c.8-.78.8-2.07 0-2.86zM5.41 20L4 18.59l7.72-7.72 1.47 1.35L5.41 20z\"/>\n",
              "  </svg>\n",
              "      </button>\n",
              "      \n",
              "  <style>\n",
              "    .colab-df-container {\n",
              "      display:flex;\n",
              "      flex-wrap:wrap;\n",
              "      gap: 12px;\n",
              "    }\n",
              "\n",
              "    .colab-df-convert {\n",
              "      background-color: #E8F0FE;\n",
              "      border: none;\n",
              "      border-radius: 50%;\n",
              "      cursor: pointer;\n",
              "      display: none;\n",
              "      fill: #1967D2;\n",
              "      height: 32px;\n",
              "      padding: 0 0 0 0;\n",
              "      width: 32px;\n",
              "    }\n",
              "\n",
              "    .colab-df-convert:hover {\n",
              "      background-color: #E2EBFA;\n",
              "      box-shadow: 0px 1px 2px rgba(60, 64, 67, 0.3), 0px 1px 3px 1px rgba(60, 64, 67, 0.15);\n",
              "      fill: #174EA6;\n",
              "    }\n",
              "\n",
              "    [theme=dark] .colab-df-convert {\n",
              "      background-color: #3B4455;\n",
              "      fill: #D2E3FC;\n",
              "    }\n",
              "\n",
              "    [theme=dark] .colab-df-convert:hover {\n",
              "      background-color: #434B5C;\n",
              "      box-shadow: 0px 1px 3px 1px rgba(0, 0, 0, 0.15);\n",
              "      filter: drop-shadow(0px 1px 2px rgba(0, 0, 0, 0.3));\n",
              "      fill: #FFFFFF;\n",
              "    }\n",
              "  </style>\n",
              "\n",
              "      <script>\n",
              "        const buttonEl =\n",
              "          document.querySelector('#df-018b2242-4333-4a34-980e-979b32cb4e8b button.colab-df-convert');\n",
              "        buttonEl.style.display =\n",
              "          google.colab.kernel.accessAllowed ? 'block' : 'none';\n",
              "\n",
              "        async function convertToInteractive(key) {\n",
              "          const element = document.querySelector('#df-018b2242-4333-4a34-980e-979b32cb4e8b');\n",
              "          const dataTable =\n",
              "            await google.colab.kernel.invokeFunction('convertToInteractive',\n",
              "                                                     [key], {});\n",
              "          if (!dataTable) return;\n",
              "\n",
              "          const docLinkHtml = 'Like what you see? Visit the ' +\n",
              "            '<a target=\"_blank\" href=https://colab.research.google.com/notebooks/data_table.ipynb>data table notebook</a>'\n",
              "            + ' to learn more about interactive tables.';\n",
              "          element.innerHTML = '';\n",
              "          dataTable['output_type'] = 'display_data';\n",
              "          await google.colab.output.renderOutput(dataTable, element);\n",
              "          const docLink = document.createElement('div');\n",
              "          docLink.innerHTML = docLinkHtml;\n",
              "          element.appendChild(docLink);\n",
              "        }\n",
              "      </script>\n",
              "    </div>\n",
              "  </div>\n",
              "  "
            ]
          },
          "metadata": {},
          "execution_count": 34
        }
      ]
    },
    {
      "cell_type": "code",
      "source": [
        "# Convert Our Multi-Label Prob to Multi-Class\n",
        "# binary classficiation\n",
        "biRel = BinaryRelevance(KNeighborsClassifier())\n",
        "biRel2 = BinaryRelevance(SVC())\n",
        "biRelRed = BinaryRelevance(SVC())\n",
        "\n",
        "'''\n",
        "BISOGNA PROVARE COMBINAZIONI FRA CLAS E MOD:\n",
        "CLAS                | MOD\n",
        "GaussianNB            BinaryRelevance\n",
        "BernoulliNB           LabelPowerset\n",
        "CategoricalNB         RakelD\n",
        "SVC                   RakelO\n",
        "KNeighborsClassifier  LabelSpacePartitioningClassifier\n",
        "SGDClassifier         MLkNN\n",
        "LogisticRegression\n",
        "'''\n",
        "\n",
        "biRel.fit(X_train,y_train)\n",
        "biRel2.fit(X_train,y_train)\n",
        "biRelRed.fit(X_reduced, y_trainReduced)"
      ],
      "metadata": {
        "colab": {
          "base_uri": "https://localhost:8080/"
        },
        "id": "zv_D-D5qPurq",
        "outputId": "91e5a2b5-e4e1-4b34-cebc-77ca0e8a0c21"
      },
      "execution_count": 35,
      "outputs": [
        {
          "output_type": "execute_result",
          "data": {
            "text/plain": [
              "BinaryRelevance(classifier=SVC(), require_dense=[True, True])"
            ]
          },
          "metadata": {},
          "execution_count": 35
        }
      ]
    },
    {
      "cell_type": "code",
      "source": [
        "# Predictions\n",
        "prediction = biRel.predict(X_test).toarray()\n",
        "prediction2 = biRel2.predict(X_test).toarray()\n",
        "predictionRed = biRelRed.predict(X_testReduced).toarray()"
      ],
      "metadata": {
        "id": "ayphmqNHQ4QY"
      },
      "execution_count": 36,
      "outputs": []
    },
    {
      "cell_type": "code",
      "source": [
        "print('accuracy: %0.5f' % accuracy_score(y_test,prediction))\n",
        "print('loss di hamming: %0.5f' % hamming_loss(y_test,prediction))\n",
        "print('label ranking average precision: %0.5f' % label_ranking_average_precision_score(y_test,prediction))\n",
        "sns.heatmap(pd.DataFrame(classification_report(y_test,prediction, zero_division=1, output_dict=True, target_names=['fun ', 'food', 'culture', 'music'])).iloc[:-1, :].T, annot=True, linecolor='purple')"
      ],
      "metadata": {
        "colab": {
          "base_uri": "https://localhost:8080/",
          "height": 334
        },
        "id": "WnaVoxvvR_so",
        "outputId": "68cb2d64-fd67-46ab-e15b-48b32b884274"
      },
      "execution_count": 37,
      "outputs": [
        {
          "output_type": "stream",
          "name": "stdout",
          "text": [
            "accuracy: 0.30468\n",
            "loss di hamming: 0.28097\n",
            "label ranking average precision: 0.72733\n"
          ]
        },
        {
          "output_type": "execute_result",
          "data": {
            "text/plain": [
              "<matplotlib.axes._subplots.AxesSubplot at 0x7fb72cfb4a30>"
            ]
          },
          "metadata": {},
          "execution_count": 37
        },
        {
          "output_type": "display_data",
          "data": {
            "text/plain": [
              "<Figure size 432x288 with 2 Axes>"
            ],
            "image/png": "[encoded data removed]"
          },
          "metadata": {
            "needs_background": "light"
          }
        }
      ]
    },
    {
      "cell_type": "code",
      "source": [
        "print('accuracy: %0.5f' % accuracy_score(y_testReduced,predictionRed))\n",
        "print('loss di hamming: %0.5f' % hamming_loss(y_testReduced,predictionRed))\n",
        "print('label ranking average precision: %0.5f' % label_ranking_average_precision_score(y_testReduced,predictionRed))\n",
        "sns.heatmap(pd.DataFrame(classification_report(y_testReduced,predictionRed, zero_division=1, output_dict=True, target_names=['fun ', 'food', 'culture', 'music'])).iloc[:-1, :].T, annot=True, linecolor='purple')"
      ],
      "metadata": {
        "colab": {
          "base_uri": "https://localhost:8080/",
          "height": 334
        },
        "id": "kuHBF1p9yhd8",
        "outputId": "d558a478-3b98-4898-a219-951363315ce3"
      },
      "execution_count": 38,
      "outputs": [
        {
          "output_type": "stream",
          "name": "stdout",
          "text": [
            "accuracy: 0.38243\n",
            "loss di hamming: 0.21429\n",
            "label ranking average precision: 0.78273\n"
          ]
        },
        {
          "output_type": "execute_result",
          "data": {
            "text/plain": [
              "<matplotlib.axes._subplots.AxesSubplot at 0x7fb72cefca00>"
            ]
          },
          "metadata": {},
          "execution_count": 38
        },
        {
          "output_type": "display_data",
          "data": {
            "text/plain": [
              "<Figure size 432x288 with 2 Axes>"
            ],
            "image/png": "[encoded data removed]"
          },
          "metadata": {
            "needs_background": "light"
          }
        }
      ]
    },
    {
      "cell_type": "code",
      "source": [
        "print('accuracy: %0.5f' % accuracy_score(y_test,prediction2))\n",
        "print('loss di hamming: %0.5f' % hamming_loss(y_test,prediction2))\n",
        "print('label ranking average precision: %0.5f' % label_ranking_average_precision_score(y_test,prediction2))\n",
        "sns.heatmap(pd.DataFrame(classification_report(y_test,prediction2, zero_division=1, output_dict=True, target_names=['fun ', 'food', 'culture', 'music'])).iloc[:-1, :].T, annot=True, linecolor='purple')"
      ],
      "metadata": {
        "colab": {
          "base_uri": "https://localhost:8080/",
          "height": 334
        },
        "id": "v4G_BrBcQl4R",
        "outputId": "98e9c7e6-1f57-4271-9ad4-849e57d33138"
      },
      "execution_count": 39,
      "outputs": [
        {
          "output_type": "stream",
          "name": "stdout",
          "text": [
            "accuracy: 0.37863\n",
            "loss di hamming: 0.21587\n",
            "label ranking average precision: 0.77674\n"
          ]
        },
        {
          "output_type": "execute_result",
          "data": {
            "text/plain": [
              "<matplotlib.axes._subplots.AxesSubplot at 0x7fb72cdce0a0>"
            ]
          },
          "metadata": {},
          "execution_count": 39
        },
        {
          "output_type": "display_data",
          "data": {
            "text/plain": [
              "<Figure size 432x288 with 2 Axes>"
            ],
            "image/png": "[encoded data removed]"
          },
          "metadata": {
            "needs_background": "light"
          }
        }
      ]
    },
    {
      "cell_type": "code",
      "source": [
        "# mlp for multi-label classification\n",
        "from numpy import mean\n",
        "from numpy import std\n",
        "from sklearn.model_selection import RepeatedKFold\n",
        "from keras.models import Sequential\n",
        "from keras.layers import Dense\n",
        "from matplotlib import pyplot as plt\n",
        "\n",
        "# get the model\n",
        "def get_model(n_inputs, n_outputs):\n",
        "  model = Sequential()\n",
        "  model.add(Dense(256, input_dim=n_inputs, kernel_initializer='he_uniform', activation='relu'))\n",
        "  model.add(Dense(16, activation='relu'))\n",
        "  model.add(Dense(n_outputs, activation='sigmoid'))\n",
        "  model.compile(loss='binary_crossentropy', optimizer='adam', metrics='accuracy')\n",
        "  return model\n",
        "\n",
        "# evaluate a model using repeated k-fold cross-validation\n",
        "def evaluate_model(X_train, y_train, X_test, y_test):\n",
        "  results = list()\n",
        "  # define evaluation procedure\n",
        "  cv = RepeatedKFold(n_splits=10, n_repeats=3, random_state=1)\n",
        "  model = get_model(X_train.shape[1], y_train.shape[1])\n",
        "  # fit model\n",
        "  fit=model.fit(X_train, y_train, verbose=1, epochs=30)\n",
        "  # make a prediction on the test set\n",
        "  yhat = model.predict(X_test)\n",
        "  # round probabilities to class labels\n",
        "  pd.DataFrame(fit.history).plot(figsize=(8,5))\n",
        "  plt.show()\n",
        "  '''yhat = yhat.round()\n",
        "  # calculate accuracy\n",
        "  acc = accuracy_score(y_test, yhat)\n",
        "  # store result\n",
        "  print('>%.3f' % acc)\n",
        "  results.append(acc)\n",
        "  return results'''\n",
        "\n",
        "# evaluate model\n",
        "results = evaluate_model(X_train, y_train, X_test, y_test)\n",
        "# summarize performance\n",
        "#print('Accuracy: %.3f (%.3f)' % (mean(results), std(results)))"
      ],
      "metadata": {
        "colab": {
          "base_uri": "https://localhost:8080/",
          "height": 1000
        },
        "id": "uFx2yc-qFu1V",
        "outputId": "970350fa-2fcb-4ed6-fb73-d82c3fa0578a"
      },
      "execution_count": 40,
      "outputs": [
        {
          "output_type": "stream",
          "name": "stdout",
          "text": [
            "Epoch 1/30\n",
            "149/149 [==============================] - 4s 6ms/step - loss: 0.5948 - accuracy: 0.3210\n",
            "Epoch 2/30\n",
            "149/149 [==============================] - 1s 4ms/step - loss: 0.5252 - accuracy: 0.4287\n",
            "Epoch 3/30\n",
            "149/149 [==============================] - 1s 6ms/step - loss: 0.4976 - accuracy: 0.4750\n",
            "Epoch 4/30\n",
            "149/149 [==============================] - 1s 6ms/step - loss: 0.4823 - accuracy: 0.4953\n",
            "Epoch 5/30\n",
            "149/149 [==============================] - 1s 5ms/step - loss: 0.4725 - accuracy: 0.4957\n",
            "Epoch 6/30\n",
            "149/149 [==============================] - 1s 6ms/step - loss: 0.4610 - accuracy: 0.5062\n",
            "Epoch 7/30\n",
            "149/149 [==============================] - 1s 6ms/step - loss: 0.4557 - accuracy: 0.5113\n",
            "Epoch 8/30\n",
            "149/149 [==============================] - 1s 7ms/step - loss: 0.4488 - accuracy: 0.5176\n",
            "Epoch 9/30\n",
            "149/149 [==============================] - 1s 7ms/step - loss: 0.4410 - accuracy: 0.5237\n",
            "Epoch 10/30\n",
            "149/149 [==============================] - 1s 8ms/step - loss: 0.4401 - accuracy: 0.5241\n",
            "Epoch 11/30\n",
            "149/149 [==============================] - 1s 5ms/step - loss: 0.4341 - accuracy: 0.5243\n",
            "Epoch 12/30\n",
            "149/149 [==============================] - 1s 5ms/step - loss: 0.4282 - accuracy: 0.5326\n",
            "Epoch 13/30\n",
            "149/149 [==============================] - 1s 5ms/step - loss: 0.4235 - accuracy: 0.5351\n",
            "Epoch 14/30\n",
            "149/149 [==============================] - 1s 7ms/step - loss: 0.4179 - accuracy: 0.5378\n",
            "Epoch 15/30\n",
            "149/149 [==============================] - 1s 5ms/step - loss: 0.4162 - accuracy: 0.5336\n",
            "Epoch 16/30\n",
            "149/149 [==============================] - 1s 6ms/step - loss: 0.4095 - accuracy: 0.5406\n",
            "Epoch 17/30\n",
            "149/149 [==============================] - 1s 7ms/step - loss: 0.4100 - accuracy: 0.5427\n",
            "Epoch 18/30\n",
            "149/149 [==============================] - 1s 6ms/step - loss: 0.4054 - accuracy: 0.5450\n",
            "Epoch 19/30\n",
            "149/149 [==============================] - 1s 6ms/step - loss: 0.3979 - accuracy: 0.5437\n",
            "Epoch 20/30\n",
            "149/149 [==============================] - 1s 6ms/step - loss: 0.3948 - accuracy: 0.5484\n",
            "Epoch 21/30\n",
            "149/149 [==============================] - 1s 6ms/step - loss: 0.3914 - accuracy: 0.5484\n",
            "Epoch 22/30\n",
            "149/149 [==============================] - 1s 7ms/step - loss: 0.3882 - accuracy: 0.5471\n",
            "Epoch 23/30\n",
            "149/149 [==============================] - 1s 9ms/step - loss: 0.3846 - accuracy: 0.5530\n",
            "Epoch 24/30\n",
            "149/149 [==============================] - 1s 8ms/step - loss: 0.3805 - accuracy: 0.5557\n",
            "Epoch 25/30\n",
            "149/149 [==============================] - 1s 6ms/step - loss: 0.3720 - accuracy: 0.5665\n",
            "Epoch 26/30\n",
            "149/149 [==============================] - 1s 6ms/step - loss: 0.3713 - accuracy: 0.5600\n",
            "Epoch 27/30\n",
            "149/149 [==============================] - 1s 6ms/step - loss: 0.3676 - accuracy: 0.5589\n",
            "Epoch 28/30\n",
            "149/149 [==============================] - 1s 5ms/step - loss: 0.3633 - accuracy: 0.5625\n",
            "Epoch 29/30\n",
            "149/149 [==============================] - 1s 6ms/step - loss: 0.3589 - accuracy: 0.5619\n",
            "Epoch 30/30\n",
            "149/149 [==============================] - 1s 5ms/step - loss: 0.3523 - accuracy: 0.5673\n",
            "50/50 [==============================] - 1s 4ms/step\n"
          ]
        },
        {
          "output_type": "display_data",
          "data": {
            "text/plain": [
              "<Figure size 576x360 with 1 Axes>"
            ],
            "image/png": "[encoded data removed]"
          },
          "metadata": {
            "needs_background": "light"
          }
        }
      ]
    },
    {
      "cell_type": "code",
      "source": [],
      "metadata": {
        "id": "z56WsccLGZwp"
      },
      "execution_count": 40,
      "outputs": []
    },
    {
      "cell_type": "markdown",
      "source": [
        "#####Funzione per costruire il modello"
      ],
      "metadata": {
        "id": "L3qQdvsDjhm_"
      }
    },
    {
      "cell_type": "code",
      "source": [
        "def build_model(modello,mlb_estimator,xtrain,ytrain,xtest,ytest):\n",
        "    # Create an Instance\n",
        "    clf = mlb_estimator(modello)\n",
        "    clf.fit(xtrain,ytrain)\n",
        "    # Predict\n",
        "    clf_predictions = clf.predict(xtest)\n",
        "    # Check For Accuracy\n",
        "    acc = accuracy_score(ytest,clf_predictions)\n",
        "    ham = hamming_loss(ytest,clf_predictions)\n",
        "    result = {\"accuracy:\":acc,\"hamming_score\":ham}\n",
        "    return result"
      ],
      "metadata": {
        "id": "oKZl78x9jl8b"
      },
      "execution_count": 41,
      "outputs": []
    },
    {
      "cell_type": "markdown",
      "source": [
        "assegnarli categorie dobbiamo trovare dove la semantica dio un evento che poi puo’derivare da più dati che adesso abbiamo trascurato, in manieraa tale da collocare semantica anche tramite un ontologie esterne il nostro evento in una specie di spazio\n",
        "\n",
        "questo  ci potrebbe servire per rendere la ricerca di un evento il suo essere consigliato qualcosa di più semantica .\n",
        "\n",
        "\n",
        "non ci sarà nessun evento in cui ci sarà scritto 'qui si beve alcol' però ci stara degustazione di birra.\n",
        "\n",
        "potrebbe essere collocare dei termini nello spazio e vedere tramite i dati che noi estraiamo in che posto dello spazio il nostro evento si colloca\n",
        "\n",
        "Caso d’uso:\n",
        "\n",
        "mettiamo che tu cerchi :’alcol a bari a quest ora’ .\n",
        "\n",
        "prendo i "
      ],
      "metadata": {
        "id": "UpfMLKcenAeJ"
      }
    },
    {
      "cell_type": "code",
      "source": [
        "!pip install nltk"
      ],
      "metadata": {
        "colab": {
          "base_uri": "https://localhost:8080/"
        },
        "id": "tT7X3NnAtEeX",
        "outputId": "66d8cef3-b71b-48c4-a064-116553c944da"
      },
      "execution_count": 42,
      "outputs": [
        {
          "output_type": "stream",
          "name": "stdout",
          "text": [
            "Looking in indexes: https://pypi.org/simple, https://us-python.pkg.dev/colab-wheels/public/simple/\n",
            "Requirement already satisfied: nltk in /usr/local/lib/python3.8/dist-packages (3.7)\n",
            "Requirement already satisfied: regex>=2021.8.3 in /usr/local/lib/python3.8/dist-packages (from nltk) (2022.6.2)\n",
            "Requirement already satisfied: tqdm in /usr/local/lib/python3.8/dist-packages (from nltk) (4.64.1)\n",
            "Requirement already satisfied: joblib in /usr/local/lib/python3.8/dist-packages (from nltk) (1.2.0)\n",
            "Requirement already satisfied: click in /usr/local/lib/python3.8/dist-packages (from nltk) (7.1.2)\n"
          ]
        }
      ]
    },
    {
      "cell_type": "code",
      "source": [
        "from nltk.corpus import wordnet as wn"
      ],
      "metadata": {
        "id": "y_z2rTFutOB1"
      },
      "execution_count": 43,
      "outputs": []
    },
    {
      "cell_type": "code",
      "source": [
        "import nltk\n",
        "nltk.download('wordnet')"
      ],
      "metadata": {
        "colab": {
          "base_uri": "https://localhost:8080/"
        },
        "id": "4-9pOYzzth6w",
        "outputId": "30963ffd-a201-4bb6-f200-0b90d79a5464"
      },
      "execution_count": 44,
      "outputs": [
        {
          "output_type": "stream",
          "name": "stderr",
          "text": [
            "[nltk_data] Downloading package wordnet to /root/nltk_data...\n"
          ]
        },
        {
          "output_type": "execute_result",
          "data": {
            "text/plain": [
              "True"
            ]
          },
          "metadata": {},
          "execution_count": 44
        }
      ]
    },
    {
      "cell_type": "code",
      "source": [
        "nltk.download('omw-1.4')\n",
        "nltk.download('punkt')"
      ],
      "metadata": {
        "colab": {
          "base_uri": "https://localhost:8080/"
        },
        "id": "NNOXlxEft8Zh",
        "outputId": "bc37451d-f5d2-4964-d653-ab8658da5bb0"
      },
      "execution_count": 45,
      "outputs": [
        {
          "output_type": "stream",
          "name": "stderr",
          "text": [
            "[nltk_data] Downloading package omw-1.4 to /root/nltk_data...\n",
            "[nltk_data] Downloading package punkt to /root/nltk_data...\n",
            "[nltk_data]   Unzipping tokenizers/punkt.zip.\n"
          ]
        },
        {
          "output_type": "execute_result",
          "data": {
            "text/plain": [
              "True"
            ]
          },
          "metadata": {},
          "execution_count": 45
        }
      ]
    },
    {
      "cell_type": "code",
      "source": [
        "'''\n",
        "# Funzione per estrarre l'ontologia da una descrizione\n",
        "def get_ontology(description):\n",
        "  # Tokenizza la descrizione\n",
        "  words = nltk.word_tokenize(description)\n",
        "\n",
        "  # Crea una lista vuota per le lemmi delle parole\n",
        "  lemmas = []\n",
        "\n",
        "  # Itera su ogni parola nella descrizione\n",
        "  for word in words:\n",
        "    # Ottieni tutti i lemmi per la parola\n",
        "    lemma = wn.lemmas(word,lang='ita')\n",
        "\n",
        "    # Aggiungi il lemma alla lista\n",
        "    lemmas.append(lemma)\n",
        "\n",
        "  # Restituisci la lista dei lemmi\n",
        "  return lemmas\n",
        "\n",
        "# Esempio di utilizzo della funzione get_ontology\n",
        "description = \"oggi ho proprio voglia di gelato\"\n",
        "ontology = get_ontology(description)\n",
        "print(ontology)\n",
        "\n",
        "# Integrazione dell'ontologia con il modello di classificazione\n",
        "def classify_with_ontology(model, description):\n",
        "  # Estrarre l'ontologia dalla descrizione\n",
        "  ontology = get_ontology(description)\n",
        "\n",
        "  # Passare l'ontologia al modello di classificazione\n",
        "  prediction = model.predict(ontology)\n",
        "\n",
        "  # Restituire la predizione del modello\n",
        "  return prediction\n",
        "'''"
      ],
      "metadata": {
        "colab": {
          "base_uri": "https://localhost:8080/"
        },
        "id": "VoTMs-rYuflm",
        "outputId": "e2537056-337f-4564-8615-c12b57cd8a28"
      },
      "execution_count": 46,
      "outputs": [
        {
          "output_type": "stream",
          "name": "stdout",
          "text": [
            "[[Lemma('nowadays.r.01.oggi'), Lemma('today.r.02.oggi'), Lemma('today.n.02.oggi'), Lemma('today.n.01.oggi')], [], [Lemma('merely.r.01.proprio'), Lemma('quite.r.02.proprio'), Lemma('very.r.01.proprio'), Lemma('just.r.03.proprio'), Lemma('truly.r.01.proprio'), Lemma('in_truth.r.01.proprio'), Lemma('right.r.03.proprio'), Lemma('actually.r.01.proprio'), Lemma('precisely.r.01.proprio'), Lemma('right.r.01.proprio'), Lemma('very.r.02.proprio'), Lemma('own.s.01.proprio'), Lemma('very.s.01.proprio'), Lemma('identical.s.02.proprio')], [Lemma('birthmark.n.01.voglia'), Lemma('lecherousness.n.01.voglia')], [], [Lemma('cocaine.n.01.cocaina')]]\n"
          ]
        }
      ]
    },
    {
      "cell_type": "code",
      "source": [
        "import nltk\n",
        "from nltk.corpus import wordnet\n",
        "from nltk.stem import WordNetLemmatizer\n",
        "from sklearn.cluster import AffinityPropagation\n",
        "'''\n",
        "def get_wordnet_features(text):\n",
        "    lemmatizer = WordNetLemmatizer()\n",
        "    words = nltk.word_tokenize(text)\n",
        "    features = []\n",
        "    for word in words:\n",
        "        synsets = wordnet.synsets(word)\n",
        "        for synset in synsets:\n",
        "            features.append(lemmatizer.lemmatize(synset.name().split('.')[0]))\n",
        "    return features\n",
        "\n",
        "# Utilizza la funzione get_wordnet_features per estrarre le features dalle descrizioni\n",
        "'''\n",
        "\n",
        "\n",
        "\n"
      ],
      "metadata": {
        "id": "9zk0aAAJmFy1"
      },
      "execution_count": 91,
      "outputs": []
    },
    {
      "cell_type": "code",
      "source": [
        "from nltk.corpus import stopwords\n",
        "nltk.download('stopwords')"
      ],
      "metadata": {
        "colab": {
          "base_uri": "https://localhost:8080/"
        },
        "id": "N8k2oIxZxRCO",
        "outputId": "127f687b-d72c-40e4-bb35-47f2d52c7b6e"
      },
      "execution_count": 48,
      "outputs": [
        {
          "output_type": "stream",
          "name": "stderr",
          "text": [
            "[nltk_data] Downloading package stopwords to /root/nltk_data...\n",
            "[nltk_data]   Unzipping corpora/stopwords.zip.\n"
          ]
        },
        {
          "output_type": "execute_result",
          "data": {
            "text/plain": [
              "True"
            ]
          },
          "metadata": {},
          "execution_count": 48
        }
      ]
    },
    {
      "cell_type": "code",
      "source": [
        "stopwordsTotali =stopwords.words('italian') + stopwords.words('english')"
      ],
      "metadata": {
        "id": "MkZwoJqrxsmw"
      },
      "execution_count": 49,
      "outputs": []
    },
    {
      "cell_type": "code",
      "source": [
        "words = nltk.word_tokenize('Martedi 05 gennaio super tombolata al Barfly!\\nTante calze da vincere!!!\\nFormula 10 euro panino patatine e bibita e la cartella la offriamo noi!\\nConsigliata la prenotazione')\n",
        "\n",
        "def get_syns(description):\n",
        "  test=[]\n",
        "  for every in description:\n",
        "    if (every not in stopwordsTotali):\n",
        "      if(wn.synsets(every, lang ='ita') == []):\n",
        "        \n",
        "          test.append(wn.synsets(every))\n",
        "      else:\n",
        "        \n",
        "          test.append(wn.synsets(every, lang ='ita'))\n",
        "\n",
        "  lemmatizer = WordNetLemmatizer()\n",
        "  ciao =[]\n",
        "  for each in range(len(test)):\n",
        "    for q in range(len(test[each])):\n",
        "      ciao.append(lemmatizer.lemmatize(test[each][q].name().split('.')[0]))\n",
        "\n",
        "  ciao=list(set(ciao))\n",
        "  return ciao\n",
        "\n",
        "type(str(tot['text']))"
      ],
      "metadata": {
        "colab": {
          "base_uri": "https://localhost:8080/"
        },
        "id": "NKmt-hvHrI6w",
        "outputId": "e88d553d-d1e0-48eb-95f3-a8ff29cd21f6"
      },
      "execution_count": 121,
      "outputs": [
        {
          "output_type": "execute_result",
          "data": {
            "text/plain": [
              "pandas.core.series.Series"
            ]
          },
          "metadata": {},
          "execution_count": 121
        }
      ]
    },
    {
      "cell_type": "code",
      "source": [
        "import sys\n",
        "X1 = []\n",
        "for description in tot['text'].iteritems():\n",
        "    print(description[1])\n",
        "    feature =[]\n",
        "    features = get_syns(str(description[1]))\n",
        "    print(features)\n",
        "    sys.exit()\n",
        "    words = ''\n",
        "    for each in features:\n",
        "      words = words + ' ' + each\n",
        "    X1.append(words)\n",
        "    "
      ],
      "metadata": {
        "id": "jWCaq-98ix3T",
        "outputId": "8dddfa39-930e-4582-9598-51b7bb3f6417",
        "colab": {
          "base_uri": "https://localhost:8080/",
          "height": 237
        }
      },
      "execution_count": 139,
      "outputs": [
        {
          "output_type": "stream",
          "name": "stdout",
          "text": [
            "Martedi 05 gennaio super tombolata al Barfly!\n",
            "Tante calze da vincere!!!\n",
            "Formula 10 euro panino patatine e bibita e la cartella la offriamo noi!\n",
            "Consigliata la prenotazione\n",
            "081660023\n",
            "['u', 'two', 'boron', 'b', 'eight', 'roentgen', 'degree_centigrade', 'one', 'omega', 'uranium', 'gram', 'bel', 'z', 'phosphorus', 'ordinal_number', 'bacillus', 'fluorine', 'b-complex_vitamin', 'farad', 'barn', 'zero', 'uracil', 'metric_ton', 'six', 'speed_of_light', 'three', 'thousand', 'five']\n"
          ]
        },
        {
          "output_type": "error",
          "ename": "SystemExit",
          "evalue": "ignored",
          "traceback": [
            "An exception has occurred, use %tb to see the full traceback.\n",
            "\u001b[0;31mSystemExit\u001b[0m\n"
          ]
        }
      ]
    },
    {
      "cell_type": "code",
      "source": [
        "tot['text'][0]"
      ],
      "metadata": {
        "colab": {
          "base_uri": "https://localhost:8080/",
          "height": 35
        },
        "id": "Eixv1Pl978Th",
        "outputId": "cce20d6c-5383-4717-bbd0-49764820c8e5"
      },
      "execution_count": 127,
      "outputs": [
        {
          "output_type": "execute_result",
          "data": {
            "text/plain": [
              "'Martedi 05 gennaio super tombolata al Barfly!\\nTante calze da vincere!!!\\nFormula 10 euro panino patatine e bibita e la cartella la offriamo noi!\\nConsigliata la prenotazione\\n081660023'"
            ],
            "application/vnd.google.colaboratory.intrinsic+json": {
              "type": "string"
            }
          },
          "metadata": {},
          "execution_count": 127
        }
      ]
    },
    {
      "cell_type": "code",
      "source": [
        "X1[0]"
      ],
      "metadata": {
        "id": "41L0GRtHi25f",
        "outputId": "159fcd37-0034-40fe-e241-bde61212f9bc",
        "colab": {
          "base_uri": "https://localhost:8080/",
          "height": 35
        }
      },
      "execution_count": 128,
      "outputs": [
        {
          "output_type": "execute_result",
          "data": {
            "text/plain": [
              "' u two boron b eight roentgen degree_centigrade one omega uranium gram bel z phosphorus ordinal_number bacillus fluorine b-complex_vitamin farad barn zero uracil metric_ton six speed_of_light three thousand five'"
            ],
            "application/vnd.google.colaboratory.intrinsic+json": {
              "type": "string"
            }
          },
          "metadata": {},
          "execution_count": 128
        }
      ]
    },
    {
      "cell_type": "code",
      "source": [
        "'''X[0]\n",
        "descriptions = [' '.join(features) for features in X]\n",
        "descriptions[0]'''"
      ],
      "metadata": {
        "colab": {
          "base_uri": "https://localhost:8080/",
          "height": 53
        },
        "id": "XOYmbZY86bsA",
        "outputId": "b495c46e-1e6c-4d4c-9cc6-a571c0203594"
      },
      "execution_count": 93,
      "outputs": [
        {
          "output_type": "execute_result",
          "data": {
            "text/plain": [
              "'superintendent ace super super extremely aluminum alabama district_attorney formula recipe formula formula convention formula rule ten ten euro vitamin_e einsteinium east e e vitamin_e einsteinium east e e lanthanum louisiana la lanthanum louisiana la lanthanum louisiana la'"
            ],
            "application/vnd.google.colaboratory.intrinsic+json": {
              "type": "string"
            }
          },
          "metadata": {},
          "execution_count": 93
        }
      ]
    },
    {
      "cell_type": "code",
      "source": [
        "descSyns=[]\n",
        "for each in descriptions:\n",
        "  descSyns.append(get_syns(each))\n",
        "\n",
        "descSyns[199]"
      ],
      "metadata": {
        "id": "Z1iAwb52fzR5",
        "outputId": "311928ba-0a9f-43c1-a94f-2dad2bf66a79",
        "colab": {
          "base_uri": "https://localhost:8080/"
        }
      },
      "execution_count": 82,
      "outputs": [
        {
          "output_type": "execute_result",
          "data": {
            "text/plain": [
              "['u',\n",
              " 'boron',\n",
              " 'b',\n",
              " 'roentgen',\n",
              " 'adam',\n",
              " 'kilobyte',\n",
              " 'omega',\n",
              " 'x',\n",
              " 'heat_content',\n",
              " 'uranium',\n",
              " 'gram',\n",
              " 'bel',\n",
              " 'z',\n",
              " 'kelvin',\n",
              " 'h',\n",
              " 'phosphorus',\n",
              " 'ordinal_number',\n",
              " 'bacillus',\n",
              " 'henry',\n",
              " 'w',\n",
              " 'fluorine',\n",
              " 'b-complex_vitamin',\n",
              " 'tungsten',\n",
              " 'farad',\n",
              " 'barn',\n",
              " 'watt',\n",
              " 'uracil',\n",
              " 'west',\n",
              " 'ten',\n",
              " 'hydrogen',\n",
              " 'five',\n",
              " \"planck's_constant\"]"
            ]
          },
          "metadata": {},
          "execution_count": 82
        }
      ]
    },
    {
      "cell_type": "code",
      "source": [
        "aaaa = [' '.join(features) for features in descSyns]"
      ],
      "metadata": {
        "id": "qvRFmHRmhJiD"
      },
      "execution_count": 84,
      "outputs": []
    },
    {
      "cell_type": "code",
      "source": [
        "aaaa[0]"
      ],
      "metadata": {
        "id": "FiVSRXcihN7C",
        "outputId": "66329dab-ca1a-4593-abe7-0738ef9d0e04",
        "colab": {
          "base_uri": "https://localhost:8080/",
          "height": 35
        }
      },
      "execution_count": 85,
      "outputs": [
        {
          "output_type": "execute_result",
          "data": {
            "text/plain": [
              "\"u boron b roentgen adam x heat_content uranium bel h phosphorus ordinal_number bacillus henry fluorine b-complex_vitamin farad barn uracil ten hydrogen five planck's_constant\""
            ],
            "application/vnd.google.colaboratory.intrinsic+json": {
              "type": "string"
            }
          },
          "metadata": {},
          "execution_count": 85
        }
      ]
    },
    {
      "cell_type": "code",
      "source": [
        "from sklearn.feature_extraction.text import CountVectorizer"
      ],
      "metadata": {
        "id": "oylW0_3h67q2"
      },
      "execution_count": 53,
      "outputs": []
    },
    {
      "cell_type": "code",
      "source": [
        "vectorizer = CountVectorizer()\n",
        "vector = vectorizer.fit_transform(aaaa)"
      ],
      "metadata": {
        "id": "iHEHuQ3p7AFc"
      },
      "execution_count": 86,
      "outputs": []
    },
    {
      "cell_type": "code",
      "source": [
        "pd.DataFrame(aaaa, columns=vectorizer.get_feature_names())"
      ],
      "metadata": {
        "id": "lrkwnAZidPqB",
        "outputId": "3dcbdd97-ef7b-4dab-d864-760e59fa9200",
        "colab": {
          "base_uri": "https://localhost:8080/",
          "height": 365
        }
      },
      "execution_count": 88,
      "outputs": [
        {
          "output_type": "stream",
          "name": "stderr",
          "text": [
            "/usr/local/lib/python3.8/dist-packages/sklearn/utils/deprecation.py:87: FutureWarning: Function get_feature_names is deprecated; get_feature_names is deprecated in 1.0 and will be removed in 1.2. Please use get_feature_names_out instead.\n",
            "  warnings.warn(msg, category=FutureWarning)\n"
          ]
        },
        {
          "output_type": "error",
          "ename": "ValueError",
          "evalue": "ignored",
          "traceback": [
            "\u001b[0;31m---------------------------------------------------------------------------\u001b[0m",
            "\u001b[0;31mValueError\u001b[0m                                Traceback (most recent call last)",
            "\u001b[0;32m<ipython-input-88-aa6e75bcb9e3>\u001b[0m in \u001b[0;36m<module>\u001b[0;34m\u001b[0m\n\u001b[0;32m----> 1\u001b[0;31m \u001b[0mpd\u001b[0m\u001b[0;34m.\u001b[0m\u001b[0mDataFrame\u001b[0m\u001b[0;34m(\u001b[0m\u001b[0maaaa\u001b[0m\u001b[0;34m,\u001b[0m \u001b[0mcolumns\u001b[0m\u001b[0;34m=\u001b[0m\u001b[0mvectorizer\u001b[0m\u001b[0;34m.\u001b[0m\u001b[0mget_feature_names\u001b[0m\u001b[0;34m(\u001b[0m\u001b[0;34m)\u001b[0m\u001b[0;34m)\u001b[0m\u001b[0;34m\u001b[0m\u001b[0;34m\u001b[0m\u001b[0m\n\u001b[0m",
            "\u001b[0;32m/usr/local/lib/python3.8/dist-packages/pandas/core/frame.py\u001b[0m in \u001b[0;36m__init__\u001b[0;34m(self, data, index, columns, dtype, copy)\u001b[0m\n\u001b[1;32m    709\u001b[0m                     )\n\u001b[1;32m    710\u001b[0m                 \u001b[0;32melse\u001b[0m\u001b[0;34m:\u001b[0m\u001b[0;34m\u001b[0m\u001b[0;34m\u001b[0m\u001b[0m\n\u001b[0;32m--> 711\u001b[0;31m                     mgr = ndarray_to_mgr(\n\u001b[0m\u001b[1;32m    712\u001b[0m                         \u001b[0mdata\u001b[0m\u001b[0;34m,\u001b[0m\u001b[0;34m\u001b[0m\u001b[0;34m\u001b[0m\u001b[0m\n\u001b[1;32m    713\u001b[0m                         \u001b[0mindex\u001b[0m\u001b[0;34m,\u001b[0m\u001b[0;34m\u001b[0m\u001b[0;34m\u001b[0m\u001b[0m\n",
            "\u001b[0;32m/usr/local/lib/python3.8/dist-packages/pandas/core/internals/construction.py\u001b[0m in \u001b[0;36mndarray_to_mgr\u001b[0;34m(values, index, columns, dtype, copy, typ)\u001b[0m\n\u001b[1;32m    322\u001b[0m     )\n\u001b[1;32m    323\u001b[0m \u001b[0;34m\u001b[0m\u001b[0m\n\u001b[0;32m--> 324\u001b[0;31m     \u001b[0m_check_values_indices_shape_match\u001b[0m\u001b[0;34m(\u001b[0m\u001b[0mvalues\u001b[0m\u001b[0;34m,\u001b[0m \u001b[0mindex\u001b[0m\u001b[0;34m,\u001b[0m \u001b[0mcolumns\u001b[0m\u001b[0;34m)\u001b[0m\u001b[0;34m\u001b[0m\u001b[0;34m\u001b[0m\u001b[0m\n\u001b[0m\u001b[1;32m    325\u001b[0m \u001b[0;34m\u001b[0m\u001b[0m\n\u001b[1;32m    326\u001b[0m     \u001b[0;32mif\u001b[0m \u001b[0mtyp\u001b[0m \u001b[0;34m==\u001b[0m \u001b[0;34m\"array\"\u001b[0m\u001b[0;34m:\u001b[0m\u001b[0;34m\u001b[0m\u001b[0;34m\u001b[0m\u001b[0m\n",
            "\u001b[0;32m/usr/local/lib/python3.8/dist-packages/pandas/core/internals/construction.py\u001b[0m in \u001b[0;36m_check_values_indices_shape_match\u001b[0;34m(values, index, columns)\u001b[0m\n\u001b[1;32m    391\u001b[0m         \u001b[0mpassed\u001b[0m \u001b[0;34m=\u001b[0m \u001b[0mvalues\u001b[0m\u001b[0;34m.\u001b[0m\u001b[0mshape\u001b[0m\u001b[0;34m\u001b[0m\u001b[0;34m\u001b[0m\u001b[0m\n\u001b[1;32m    392\u001b[0m         \u001b[0mimplied\u001b[0m \u001b[0;34m=\u001b[0m \u001b[0;34m(\u001b[0m\u001b[0mlen\u001b[0m\u001b[0;34m(\u001b[0m\u001b[0mindex\u001b[0m\u001b[0;34m)\u001b[0m\u001b[0;34m,\u001b[0m \u001b[0mlen\u001b[0m\u001b[0;34m(\u001b[0m\u001b[0mcolumns\u001b[0m\u001b[0;34m)\u001b[0m\u001b[0;34m)\u001b[0m\u001b[0;34m\u001b[0m\u001b[0;34m\u001b[0m\u001b[0m\n\u001b[0;32m--> 393\u001b[0;31m         \u001b[0;32mraise\u001b[0m \u001b[0mValueError\u001b[0m\u001b[0;34m(\u001b[0m\u001b[0;34mf\"Shape of passed values is {passed}, indices imply {implied}\"\u001b[0m\u001b[0;34m)\u001b[0m\u001b[0;34m\u001b[0m\u001b[0;34m\u001b[0m\u001b[0m\n\u001b[0m\u001b[1;32m    394\u001b[0m \u001b[0;34m\u001b[0m\u001b[0m\n\u001b[1;32m    395\u001b[0m \u001b[0;34m\u001b[0m\u001b[0m\n",
            "\u001b[0;31mValueError\u001b[0m: Shape of passed values is (6327, 1), indices imply (6327, 29)"
          ]
        }
      ]
    },
    {
      "cell_type": "code",
      "source": [
        "from sklearn.model_selection import train_test_split\n",
        "X_train1, X_test1 = train_test_split(X, test_size=0.2, random_state=42) "
      ],
      "metadata": {
        "id": "m8FFVETJ6_8e"
      },
      "execution_count": 55,
      "outputs": []
    },
    {
      "cell_type": "code",
      "source": [
        "from sklearn.cluster import KMeans\n",
        "\n",
        "number_of_clusters=20\n",
        "km = KMeans(n_clusters=number_of_clusters)\n",
        "# Normally people fit the matrix\n",
        "km.fit(X)\n",
        "# But you could fit the idf_df instead\n",
        "km.fit\n",
        "print(\"Top terms per cluster:\")\n",
        "order_centroids = km.cluster_centers_.argsort()[:, ::-1]\n",
        "terms = vectorizer.get_feature_names()\n",
        "for i in range(number_of_clusters):\n",
        "    top_ten_words = [terms[ind] for ind in order_centroids[i, :5]]\n",
        "    print(\"Cluster {}: {}\".format(i, ' '.join(top_ten_words)))"
      ],
      "metadata": {
        "id": "wKawSkG7dxYE",
        "outputId": "0955f291-a750-4f80-96c4-e435efd935fa",
        "colab": {
          "base_uri": "https://localhost:8080/"
        }
      },
      "execution_count": 80,
      "outputs": [
        {
          "output_type": "stream",
          "name": "stdout",
          "text": [
            "Top terms per cluster:\n",
            "Cluster 0: set in live einsteinium vitamin_e\n",
            "Cluster 1: in einsteinium east vitamin_e come\n",
            "Cluster 2: be strike have call future\n",
            "Cluster 3: in einsteinium east vitamin_e con\n",
            "Cluster 4: open in einsteinium east vitamin_e\n",
            "Cluster 5: come in vitamin_e einsteinium east\n",
            "Cluster 6: call in east vitamin_e einsteinium\n",
            "Cluster 7: open live music close be\n",
            "Cluster 8: be in well work have\n",
            "Cluster 9: come in east vitamin_e einsteinium\n",
            "Cluster 10: in einsteinium vitamin_e east con\n",
            "Cluster 11: live in band alive einsteinium\n",
            "Cluster 12: black out sell con come\n",
            "Cluster 13: make in be east vitamin_e\n",
            "Cluster 14: in einsteinium east vitamin_e con\n",
            "Cluster 15: swing set come band big\n",
            "Cluster 16: in einsteinium vitamin_e east con\n",
            "Cluster 17: in einsteinium east vitamin_e come\n",
            "Cluster 18: come in einsteinium east vitamin_e\n",
            "Cluster 19: break run check in open\n"
          ]
        },
        {
          "output_type": "stream",
          "name": "stderr",
          "text": [
            "/usr/local/lib/python3.8/dist-packages/sklearn/utils/deprecation.py:87: FutureWarning: Function get_feature_names is deprecated; get_feature_names is deprecated in 1.0 and will be removed in 1.2. Please use get_feature_names_out instead.\n",
            "  warnings.warn(msg, category=FutureWarning)\n"
          ]
        }
      ]
    },
    {
      "cell_type": "code",
      "source": [
        "apModel = AffinityPropagation()\n",
        "# Addestra il modello sulla nuova rappresentazione delle descrizioni\n",
        "res11=apModel.fit(X_train1)\n"
      ],
      "metadata": {
        "id": "uPKCCXCU0hhK"
      },
      "execution_count": 68,
      "outputs": []
    },
    {
      "cell_type": "code",
      "source": [
        "from sklearn import metrics\n",
        "cluster_centers_indices = res11.cluster_centers_indices_\n",
        "labels = res11.labels_\n",
        "n_clusters_ = len(cluster_centers_indices)"
      ],
      "metadata": {
        "id": "rriMYaitYTaV"
      },
      "execution_count": 69,
      "outputs": []
    },
    {
      "cell_type": "code",
      "source": [
        "print(\"Estimated number of clusters: %d\" % n_clusters_)"
      ],
      "metadata": {
        "id": "9SOpTV_Nb7ZJ",
        "outputId": "1f167dab-339a-47d1-f446-47e6c862cd5f",
        "colab": {
          "base_uri": "https://localhost:8080/"
        }
      },
      "execution_count": 75,
      "outputs": [
        {
          "output_type": "stream",
          "name": "stdout",
          "text": [
            "Estimated number of clusters: 0\n"
          ]
        }
      ]
    },
    {
      "cell_type": "code",
      "source": [
        "\n",
        "print(\"Homogeneity: %0.3f\" % metrics.homogeneity_score(X_test1.toarray(), labels))\n",
        "print(\"Completeness: %0.3f\" % metrics.completeness_score(X_test1, labels))\n",
        "print(\"V-measure: %0.3f\" % metrics.v_measure_score(X_test1, labels))\n",
        "print(\"Adjusted Rand Index: %0.3f\" % metrics.adjusted_rand_score(X_test1, labels))\n",
        "print(\n",
        "    \"Adjusted Mutual Information: %0.3f\"\n",
        "    % metrics.adjusted_mutual_info_score(X_test1, labels)\n",
        ")\n",
        "print(\n",
        "    \"Silhouette Coefficient: %0.3f\"\n",
        "    % metrics.silhouette_score(X, labels, metric=\"sqeuclidean\")\n",
        ")"
      ],
      "metadata": {
        "id": "qeAXNueSZl2N"
      },
      "execution_count": null,
      "outputs": []
    },
    {
      "cell_type": "code",
      "source": [
        "plt.figure(1)\n",
        "plt.clf()\n",
        "\n",
        "colors = plt.cycler(\"color\", plt.cm.viridis(np.linspace(0, 1, 4)))\n",
        "\n",
        "for k, col in zip(range(n_clusters_), colors):\n",
        "    class_members = labels == k\n",
        "    cluster_center = X_train1[cluster_centers_indices[k]]\n",
        "    plt.scatter(\n",
        "        X_train1[class_members, 0], X_train1[class_members, 1], color=col[\"color\"], marker=\".\"\n",
        "    )\n",
        "    plt.scatter(\n",
        "        cluster_center[0], cluster_center[1], s=14, color=col[\"color\"], marker=\"o\"\n",
        "    )\n",
        "    for x in X_train1[class_members]:\n",
        "        plt.plot(\n",
        "            [cluster_center[0], x[0]], [cluster_center[1], x[1]], color=col[\"color\"]\n",
        "        )\n",
        "\n",
        "plt.title(\"Estimated number of clusters: %d\" % n_clusters_)\n",
        "plt.show()"
      ],
      "metadata": {
        "id": "uJSyfsF1Zj04",
        "outputId": "cd12639c-46d6-4d4d-e924-f43ec212e34c",
        "colab": {
          "base_uri": "https://localhost:8080/",
          "height": 281
        }
      },
      "execution_count": 74,
      "outputs": [
        {
          "output_type": "display_data",
          "data": {
            "text/plain": [
              "<Figure size 432x288 with 1 Axes>"
            ],
            "image/png": "[encoded data removed]"
          },
          "metadata": {
            "needs_background": "light"
          }
        }
      ]
    },
    {
      "cell_type": "code",
      "source": [
        "predictionRes11 = res11.predict(X_test1)"
      ],
      "metadata": {
        "colab": {
          "base_uri": "https://localhost:8080/"
        },
        "id": "OrGsr5Ed7cba",
        "outputId": "13930896-f495-431c-d87e-a850af962888"
      },
      "execution_count": 57,
      "outputs": [
        {
          "output_type": "stream",
          "name": "stderr",
          "text": [
            "/usr/local/lib/python3.8/dist-packages/sklearn/cluster/_affinity_propagation.py:528: ConvergenceWarning: This model does not have any cluster centers because affinity propagation did not converge. Labeling every sample as '-1'.\n",
            "  warnings.warn(\n"
          ]
        }
      ]
    },
    {
      "cell_type": "code",
      "source": [
        "plt.close(\"all\")\n",
        "plt.figure(1)\n",
        "plt.clf()\n",
        "\n",
        "colors = plt.cycler(\"color\", plt.cm.viridis(np.linspace(0, 1, 4)))\n",
        "\n",
        "for k, col in zip(range(n_clusters_), colors):\n",
        "    class_members = labels == k\n",
        "    cluster_center = X[cluster_centers_indices[k]]\n",
        "    plt.scatter(\n",
        "        X[class_members, 0], X[class_members, 1], color=col[\"color\"], marker=\".\"\n",
        "    )\n",
        "    plt.scatter(\n",
        "        cluster_center[0], cluster_center[1], s=14, color=col[\"color\"], marker=\"o\"\n",
        "    )\n",
        "    for x in X[class_members]:\n",
        "        plt.plot(\n",
        "            [cluster_center[0], x[0]], [cluster_center[1], x[1]], color=col[\"color\"]\n",
        "        )\n",
        "\n",
        "plt.title(\"Estimated number of clusters: %d\" % n_clusters_)\n",
        "plt.show()"
      ],
      "metadata": {
        "id": "ZEEE0_bB8CUB"
      },
      "execution_count": 57,
      "outputs": []
    },
    {
      "cell_type": "code",
      "source": [
        "from wordcloud import WordCloud"
      ],
      "metadata": {
        "id": "yJwPuoyz8y38"
      },
      "execution_count": null,
      "outputs": []
    },
    {
      "cell_type": "code",
      "source": [
        "with open('drive/MyDrive/Colab Notebooks/stopwordsita.txt') as file:\n",
        "  content=file.read()\n",
        "lines=content.split('\\n')\n",
        "swSet=set(lines)\n"
      ],
      "metadata": {
        "id": "mDbMuJhO-M9m"
      },
      "execution_count": null,
      "outputs": []
    },
    {
      "cell_type": "code",
      "source": [
        "labels=apModel.labels_\n",
        "cluster_labels = np.unique(labels)\n",
        "cluster_sizes = [(labels == c).sum() for c in cluster_labels]\n",
        "sizes_idx = np.argsort(cluster_sizes)[::-1][:5]\n",
        "\n",
        "# Plot dei risultati\n",
        "for i, c in enumerate(cluster_labels[sizes_idx]):\n",
        "    mask = (labels == c)\n",
        "    descrizioni_c = np.array(tot['text'])[mask]\n",
        "    text = \" \".join(descrizioni_c)\n",
        "    \n",
        "    wordcloud = WordCloud(width = 800, height = 800, \n",
        "                background_color ='white', \n",
        "                stopwords = swSet, \n",
        "                min_font_size = 10).generate(text)\n",
        "\n",
        "    plt.figure(figsize = (8, 8), facecolor = None) \n",
        "    plt.imshow(wordcloud) \n",
        "    plt.axis(\"off\") \n",
        "    plt.tight_layout(pad = 0)\n",
        "\n",
        "# Stampa dei 5 termini più comuni dei 5 cluster più grandi\n",
        "for i, c in enumerate(cluster_labels[sizes_idx]):\n",
        "    mask = (labels == c)\n",
        "    descrizioni_c = np.array(tot['text'])[mask]\n",
        "    text = \" \".join(descrizioni_c)\n",
        "    words = nltk.word_tokenize(text)\n",
        "    fdist = nltk.FreqDist(words)"
      ],
      "metadata": {
        "id": "NkUdHoHc8Qfs"
      },
      "execution_count": null,
      "outputs": []
    },
    {
      "cell_type": "code",
      "source": [
        "def search_events(query, model, lemmatizer):\n",
        "    features = get_wordnet_features(query)\n",
        "    query_vectors = []\n",
        "    for feature in features:\n",
        "        feature = lemmatizer.lemmatize(feature)\n",
        "        if feature in model.vocabulary_:\n",
        "            query_vectors.append(model.transform([feature]).toarray()[0])\n",
        "    query_vector = np.mean(query_vectors, axis=0)\n",
        "    events = model.predict(query_vector.reshape(1, -1))\n",
        "    return events\n",
        "\n",
        "lemmatizer = WordNetLemmatizer()\n",
        "events = search_events(\"alcool\", biRel2, lemmatizer)"
      ],
      "metadata": {
        "id": "lRILwr66mK87"
      },
      "execution_count": null,
      "outputs": []
    }
  ]
}