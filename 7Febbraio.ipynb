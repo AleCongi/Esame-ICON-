{
  "nbformat": 4,
  "nbformat_minor": 0,
  "metadata": {
    "colab": {
      "provenance": [],
      "collapsed_sections": [
        "C-zaR9jHb7ke",
        "XL7j0_VwaZOI"
      ],
      "include_colab_link": true
    },
    "kernelspec": {
      "name": "python3",
      "display_name": "Python 3"
    },
    "language_info": {
      "name": "python"
    }
  },
  "cells": [
    {
      "cell_type": "markdown",
      "metadata": {
        "id": "view-in-github",
        "colab_type": "text"
      },
      "source": [
        "<a href=\"https://colab.research.google.com/github/AleCongi/Esame-ICON-/blob/main/7Febbraio.ipynb\" target=\"_parent\"><img src=\"https://colab.research.google.com/assets/colab-badge.svg\" alt=\"Open In Colab\"/></a>"
      ]
    },
    {
      "cell_type": "markdown",
      "source": [
        "#ICON"
      ],
      "metadata": {
        "id": "g3GCD6NAFsy9"
      }
    },
    {
      "cell_type": "code",
      "execution_count": 4,
      "metadata": {
        "colab": {
          "base_uri": "https://localhost:8080/",
          "height": 600
        },
        "id": "xUtfUST4Lhjw",
        "outputId": "4d2271ae-be89-4557-dadc-dbba485cdd3f"
      },
      "outputs": [
        {
          "output_type": "stream",
          "name": "stdout",
          "text": [
            "Looking in indexes: https://pypi.org/simple, https://us-python.pkg.dev/colab-wheels/public/simple/\n",
            "Requirement already satisfied: nltk in /usr/local/lib/python3.8/dist-packages (3.7)\n",
            "Requirement already satisfied: click in /usr/local/lib/python3.8/dist-packages (from nltk) (7.1.2)\n",
            "Requirement already satisfied: joblib in /usr/local/lib/python3.8/dist-packages (from nltk) (1.2.0)\n",
            "Requirement already satisfied: tqdm in /usr/local/lib/python3.8/dist-packages (from nltk) (4.64.1)\n",
            "Requirement already satisfied: regex>=2021.8.3 in /usr/local/lib/python3.8/dist-packages (from nltk) (2022.6.2)\n"
          ]
        },
        {
          "output_type": "stream",
          "name": "stderr",
          "text": [
            "[nltk_data] Downloading package wordnet to /root/nltk_data...\n",
            "[nltk_data]   Package wordnet is already up-to-date!\n",
            "[nltk_data] Downloading package omw-1.4 to /root/nltk_data...\n",
            "[nltk_data]   Package omw-1.4 is already up-to-date!\n",
            "[nltk_data] Downloading package punkt to /root/nltk_data...\n",
            "[nltk_data]   Package punkt is already up-to-date!\n",
            "[nltk_data] Downloading package stopwords to /root/nltk_data...\n",
            "[nltk_data]   Package stopwords is already up-to-date!\n"
          ]
        },
        {
          "output_type": "stream",
          "name": "stdout",
          "text": [
            "Drive already mounted at /content/drive; to attempt to forcibly remount, call drive.mount(\"/content/drive\", force_remount=True).\n"
          ]
        },
        {
          "output_type": "execute_result",
          "data": {
            "text/plain": [
              "                 id  fun  food  culture  isOpen  isMusic  \\\n",
              "0  1000187186721956    1     0        1      -1        0   \n",
              "1  1007051849450711    0     0        0      -1        0   \n",
              "2   100731190460200    0     0        1      -1        1   \n",
              "3  1014507045355357    0     0        0      -1        1   \n",
              "4  1015563648832823    0     0        1      -1        1   \n",
              "5  1021806692027608    0     0        0      -1        1   \n",
              "6  1023358881203820    1     0        0      -1        0   \n",
              "7  1026307021482635    1     0        1      -1        0   \n",
              "8  1026761354178792    1     0        1      -1        0   \n",
              "9   103006560538403    0     1        1      -1        1   \n",
              "\n",
              "                                                text  \n",
              "0  Martedi 05 gennaio super tombolata al Barfly!\\...  \n",
              "1                                                NaN  \n",
              "2  Ingresso free senza obbligo di consumazione,se...  \n",
              "3  Giovedi 8 Marzo, Napulitanata \"celebra la donn...  \n",
              "4  yn e lieta di presentare\\n\\nNapoolyn x Resilie...  \n",
              "5  Serata live \\nVENERDI' 18 MARZO \\nUn piacevole...  \n",
              "6  Quest'anno in occasione di san Valentino il ri...  \n",
              "7              Menu adulti 30.00\\nMenu bambini 15.00  \n",
              "8              Menu adulti 30.00\\nMenu bambini 15.00  \n",
              "9  La 1 Esposizione dei disegni di DIPSTER accomp...  "
            ],
            "text/html": [
              "\n",
              "  <div id=\"df-b1f17538-4698-4856-b6cc-bc20d6ca9b34\">\n",
              "    <div class=\"colab-df-container\">\n",
              "      <div>\n",
              "<style scoped>\n",
              "    .dataframe tbody tr th:only-of-type {\n",
              "        vertical-align: middle;\n",
              "    }\n",
              "\n",
              "    .dataframe tbody tr th {\n",
              "        vertical-align: top;\n",
              "    }\n",
              "\n",
              "    .dataframe thead th {\n",
              "        text-align: right;\n",
              "    }\n",
              "</style>\n",
              "<table border=\"1\" class=\"dataframe\">\n",
              "  <thead>\n",
              "    <tr style=\"text-align: right;\">\n",
              "      <th></th>\n",
              "      <th>id</th>\n",
              "      <th>fun</th>\n",
              "      <th>food</th>\n",
              "      <th>culture</th>\n",
              "      <th>isOpen</th>\n",
              "      <th>isMusic</th>\n",
              "      <th>text</th>\n",
              "    </tr>\n",
              "  </thead>\n",
              "  <tbody>\n",
              "    <tr>\n",
              "      <th>0</th>\n",
              "      <td>1000187186721956</td>\n",
              "      <td>1</td>\n",
              "      <td>0</td>\n",
              "      <td>1</td>\n",
              "      <td>-1</td>\n",
              "      <td>0</td>\n",
              "      <td>Martedi 05 gennaio super tombolata al Barfly!\\...</td>\n",
              "    </tr>\n",
              "    <tr>\n",
              "      <th>1</th>\n",
              "      <td>1007051849450711</td>\n",
              "      <td>0</td>\n",
              "      <td>0</td>\n",
              "      <td>0</td>\n",
              "      <td>-1</td>\n",
              "      <td>0</td>\n",
              "      <td>NaN</td>\n",
              "    </tr>\n",
              "    <tr>\n",
              "      <th>2</th>\n",
              "      <td>100731190460200</td>\n",
              "      <td>0</td>\n",
              "      <td>0</td>\n",
              "      <td>1</td>\n",
              "      <td>-1</td>\n",
              "      <td>1</td>\n",
              "      <td>Ingresso free senza obbligo di consumazione,se...</td>\n",
              "    </tr>\n",
              "    <tr>\n",
              "      <th>3</th>\n",
              "      <td>1014507045355357</td>\n",
              "      <td>0</td>\n",
              "      <td>0</td>\n",
              "      <td>0</td>\n",
              "      <td>-1</td>\n",
              "      <td>1</td>\n",
              "      <td>Giovedi 8 Marzo, Napulitanata \"celebra la donn...</td>\n",
              "    </tr>\n",
              "    <tr>\n",
              "      <th>4</th>\n",
              "      <td>1015563648832823</td>\n",
              "      <td>0</td>\n",
              "      <td>0</td>\n",
              "      <td>1</td>\n",
              "      <td>-1</td>\n",
              "      <td>1</td>\n",
              "      <td>yn e lieta di presentare\\n\\nNapoolyn x Resilie...</td>\n",
              "    </tr>\n",
              "    <tr>\n",
              "      <th>5</th>\n",
              "      <td>1021806692027608</td>\n",
              "      <td>0</td>\n",
              "      <td>0</td>\n",
              "      <td>0</td>\n",
              "      <td>-1</td>\n",
              "      <td>1</td>\n",
              "      <td>Serata live \\nVENERDI' 18 MARZO \\nUn piacevole...</td>\n",
              "    </tr>\n",
              "    <tr>\n",
              "      <th>6</th>\n",
              "      <td>1023358881203820</td>\n",
              "      <td>1</td>\n",
              "      <td>0</td>\n",
              "      <td>0</td>\n",
              "      <td>-1</td>\n",
              "      <td>0</td>\n",
              "      <td>Quest'anno in occasione di san Valentino il ri...</td>\n",
              "    </tr>\n",
              "    <tr>\n",
              "      <th>7</th>\n",
              "      <td>1026307021482635</td>\n",
              "      <td>1</td>\n",
              "      <td>0</td>\n",
              "      <td>1</td>\n",
              "      <td>-1</td>\n",
              "      <td>0</td>\n",
              "      <td>Menu adulti 30.00\\nMenu bambini 15.00</td>\n",
              "    </tr>\n",
              "    <tr>\n",
              "      <th>8</th>\n",
              "      <td>1026761354178792</td>\n",
              "      <td>1</td>\n",
              "      <td>0</td>\n",
              "      <td>1</td>\n",
              "      <td>-1</td>\n",
              "      <td>0</td>\n",
              "      <td>Menu adulti 30.00\\nMenu bambini 15.00</td>\n",
              "    </tr>\n",
              "    <tr>\n",
              "      <th>9</th>\n",
              "      <td>103006560538403</td>\n",
              "      <td>0</td>\n",
              "      <td>1</td>\n",
              "      <td>1</td>\n",
              "      <td>-1</td>\n",
              "      <td>1</td>\n",
              "      <td>La 1 Esposizione dei disegni di DIPSTER accomp...</td>\n",
              "    </tr>\n",
              "  </tbody>\n",
              "</table>\n",
              "</div>\n",
              "      <button class=\"colab-df-convert\" onclick=\"convertToInteractive('df-b1f17538-4698-4856-b6cc-bc20d6ca9b34')\"\n",
              "              title=\"Convert this dataframe to an interactive table.\"\n",
              "              style=\"display:none;\">\n",
              "        \n",
              "  <svg xmlns=\"http://www.w3.org/2000/svg\" height=\"24px\"viewBox=\"0 0 24 24\"\n",
              "       width=\"24px\">\n",
              "    <path d=\"M0 0h24v24H0V0z\" fill=\"none\"/>\n",
              "    <path d=\"M18.56 5.44l.94 2.06.94-2.06 2.06-.94-2.06-.94-.94-2.06-.94 2.06-2.06.94zm-11 1L8.5 8.5l.94-2.06 2.06-.94-2.06-.94L8.5 2.5l-.94 2.06-2.06.94zm10 10l.94 2.06.94-2.06 2.06-.94-2.06-.94-.94-2.06-.94 2.06-2.06.94z\"/><path d=\"M17.41 7.96l-1.37-1.37c-.4-.4-.92-.59-1.43-.59-.52 0-1.04.2-1.43.59L10.3 9.45l-7.72 7.72c-.78.78-.78 2.05 0 2.83L4 21.41c.39.39.9.59 1.41.59.51 0 1.02-.2 1.41-.59l7.78-7.78 2.81-2.81c.8-.78.8-2.07 0-2.86zM5.41 20L4 18.59l7.72-7.72 1.47 1.35L5.41 20z\"/>\n",
              "  </svg>\n",
              "      </button>\n",
              "      \n",
              "  <style>\n",
              "    .colab-df-container {\n",
              "      display:flex;\n",
              "      flex-wrap:wrap;\n",
              "      gap: 12px;\n",
              "    }\n",
              "\n",
              "    .colab-df-convert {\n",
              "      background-color: #E8F0FE;\n",
              "      border: none;\n",
              "      border-radius: 50%;\n",
              "      cursor: pointer;\n",
              "      display: none;\n",
              "      fill: #1967D2;\n",
              "      height: 32px;\n",
              "      padding: 0 0 0 0;\n",
              "      width: 32px;\n",
              "    }\n",
              "\n",
              "    .colab-df-convert:hover {\n",
              "      background-color: #E2EBFA;\n",
              "      box-shadow: 0px 1px 2px rgba(60, 64, 67, 0.3), 0px 1px 3px 1px rgba(60, 64, 67, 0.15);\n",
              "      fill: #174EA6;\n",
              "    }\n",
              "\n",
              "    [theme=dark] .colab-df-convert {\n",
              "      background-color: #3B4455;\n",
              "      fill: #D2E3FC;\n",
              "    }\n",
              "\n",
              "    [theme=dark] .colab-df-convert:hover {\n",
              "      background-color: #434B5C;\n",
              "      box-shadow: 0px 1px 3px 1px rgba(0, 0, 0, 0.15);\n",
              "      filter: drop-shadow(0px 1px 2px rgba(0, 0, 0, 0.3));\n",
              "      fill: #FFFFFF;\n",
              "    }\n",
              "  </style>\n",
              "\n",
              "      <script>\n",
              "        const buttonEl =\n",
              "          document.querySelector('#df-b1f17538-4698-4856-b6cc-bc20d6ca9b34 button.colab-df-convert');\n",
              "        buttonEl.style.display =\n",
              "          google.colab.kernel.accessAllowed ? 'block' : 'none';\n",
              "\n",
              "        async function convertToInteractive(key) {\n",
              "          const element = document.querySelector('#df-b1f17538-4698-4856-b6cc-bc20d6ca9b34');\n",
              "          const dataTable =\n",
              "            await google.colab.kernel.invokeFunction('convertToInteractive',\n",
              "                                                     [key], {});\n",
              "          if (!dataTable) return;\n",
              "\n",
              "          const docLinkHtml = 'Like what you see? Visit the ' +\n",
              "            '<a target=\"_blank\" href=https://colab.research.google.com/notebooks/data_table.ipynb>data table notebook</a>'\n",
              "            + ' to learn more about interactive tables.';\n",
              "          element.innerHTML = '';\n",
              "          dataTable['output_type'] = 'display_data';\n",
              "          await google.colab.output.renderOutput(dataTable, element);\n",
              "          const docLink = document.createElement('div');\n",
              "          docLink.innerHTML = docLinkHtml;\n",
              "          element.appendChild(docLink);\n",
              "        }\n",
              "      </script>\n",
              "    </div>\n",
              "  </div>\n",
              "  "
            ]
          },
          "metadata": {},
          "execution_count": 4
        }
      ],
      "source": [
        "import numpy as np\n",
        "import pandas as pd\n",
        "import seaborn as sb\n",
        "from sklearn.model_selection import train_test_split\n",
        "!pip install nltk\n",
        "from nltk.corpus import wordnet as wn\n",
        "from nltk.corpus import stopwords\n",
        "from nltk.stem import WordNetLemmatizer\n",
        "from sklearn.cluster import AffinityPropagation\n",
        "from nltk import download as dl\n",
        "from numpy.ma.core import outer\n",
        "from sys import exit as exit\n",
        "from nltk import word_tokenize as tkn\n",
        "from re import sub as sub\n",
        "from sklearn.model_selection import train_test_split\n",
        "from sklearn.feature_extraction.text import CountVectorizer,TfidfVectorizer\n",
        "from sklearn.cluster import KMeans\n",
        "dl('wordnet')\n",
        "dl('omw-1.4')\n",
        "dl('punkt')\n",
        "dl('stopwords')\n",
        "from google.colab import drive\n",
        "drive.mount('/content/drive', force_remount=False)\n",
        "\n",
        "tot=pd.read_csv('/content/drive/MyDrive/Colab Notebooks/eventsFixed.csv')\n",
        "\n",
        "tot.head(10)"
      ]
    },
    {
      "cell_type": "code",
      "source": [
        "tot.count()"
      ],
      "metadata": {
        "colab": {
          "base_uri": "https://localhost:8080/"
        },
        "id": "hhs99Yrh5J99",
        "outputId": "0255cd56-e1c8-438b-cdcf-953038bd86bf"
      },
      "execution_count": 5,
      "outputs": [
        {
          "output_type": "execute_result",
          "data": {
            "text/plain": [
              "id         7688\n",
              "fun        7688\n",
              "food       7688\n",
              "culture    7688\n",
              "isOpen     7688\n",
              "isMusic    7688\n",
              "text       7170\n",
              "dtype: int64"
            ]
          },
          "metadata": {},
          "execution_count": 5
        }
      ]
    },
    {
      "cell_type": "markdown",
      "source": [
        "È chiaro che ci siano dei testi nulli. È possibile che siano eventi senza descrizione. Me ne accerto:"
      ],
      "metadata": {
        "id": "hj30YqWGCDRu"
      }
    },
    {
      "cell_type": "code",
      "source": [
        "sb.heatmap(tot.isna(), cbar=False)"
      ],
      "metadata": {
        "colab": {
          "base_uri": "https://localhost:8080/",
          "height": 287
        },
        "id": "CudRXskiAW-5",
        "outputId": "3459f585-b501-49bf-ebcc-c72aeaa22854"
      },
      "execution_count": null,
      "outputs": [
        {
          "output_type": "execute_result",
          "data": {
            "text/plain": [
              "<matplotlib.axes._subplots.AxesSubplot at 0x7f7e80bc8df0>"
            ]
          },
          "metadata": {},
          "execution_count": 41
        },
        {
          "output_type": "display_data",
          "data": {
            "text/plain": [
              "<Figure size 432x288 with 1 Axes>"
            ],
            "image/png": "[encoded data removed]"
          },
          "metadata": {
            "needs_background": "light"
          }
        }
      ]
    },
    {
      "cell_type": "markdown",
      "source": [
        "##Quickfix"
      ],
      "metadata": {
        "id": "eTz9oWxwFogj"
      }
    },
    {
      "cell_type": "code",
      "source": [
        "stp = open(\"/content/drive/MyDrive/Colab Notebooks/stopwordsita.txt\", \"r\")\n",
        "data = stp.read().split(\"\\n\")\n",
        "stp.close()\n",
        "stopwordsTotali = stopwords.words('italian') + stopwords.words('english') + data\n",
        "stopwordsTotali = list(set(stopwordsTotali))"
      ],
      "metadata": {
        "id": "P3oZZBH8v0Lk"
      },
      "execution_count": 6,
      "outputs": []
    },
    {
      "cell_type": "markdown",
      "source": [
        "Sapendo che \"id\" è la nostra colonna primaria, controllo che il numero di valori unici nella colonna primaria sia uguale al numero di righe. Questo mi permette di accertarmi di non avere la stessa riga per più di una volta nel mio dataset."
      ],
      "metadata": {
        "id": "Gh0B9OgaCTmg"
      }
    },
    {
      "cell_type": "code",
      "source": [
        "tot['id'].nunique() == len(tot['id'])"
      ],
      "metadata": {
        "colab": {
          "base_uri": "https://localhost:8080/"
        },
        "id": "jqzIa_MkB9Ma",
        "outputId": "90957862-3d6a-4b36-914b-726c1b4ac005"
      },
      "execution_count": 7,
      "outputs": [
        {
          "output_type": "execute_result",
          "data": {
            "text/plain": [
              "False"
            ]
          },
          "metadata": {},
          "execution_count": 7
        }
      ]
    },
    {
      "cell_type": "code",
      "source": [
        "tot = tot.drop_duplicates(subset=\"id\", keep='last')\n",
        "tot = tot.drop_duplicates(subset=\"text\", keep='last')\n",
        "for index, row in tot.iterrows():  \n",
        "  try:\n",
        "    trashId = row['id']\n",
        "    trash = row['text'].lower()\n",
        "  except AttributeError as ae:\n",
        "    tot.drop(tot[tot['id'] == trashId].index, inplace=True)\n"
      ],
      "metadata": {
        "id": "-MwpT4sA8W8t"
      },
      "execution_count": 8,
      "outputs": []
    },
    {
      "cell_type": "code",
      "source": [
        "descrizioni_filtrate = []\n",
        "for index, descrizione in tot.iterrows():\n",
        "  parole = tkn(str(descrizione['text']).lower())\n",
        "  parole_filtrate = [parola for parola in parole if not parola in stopwordsTotali]\n",
        "  descrizione_filtrata = \" \".join(parole_filtrate)\n",
        "  descrizioni_filtrate.append(descrizione_filtrata)"
      ],
      "metadata": {
        "id": "EAhQT3bVxBlj"
      },
      "execution_count": 9,
      "outputs": []
    },
    {
      "cell_type": "code",
      "source": [
        "tot['text'][200]"
      ],
      "metadata": {
        "colab": {
          "base_uri": "https://localhost:8080/",
          "height": 34
        },
        "id": "7bU-Mv6Wx2GA",
        "outputId": "7dd77f12-7189-464e-e06c-fb901dc3bc01"
      },
      "execution_count": 10,
      "outputs": [
        {
          "output_type": "execute_result",
          "data": {
            "text/plain": [
              "\"GIOVEDi 26 MAGGIO 2016 // 'NAPERITIVO IN OFFICINA...\\nUna serata speciale al borgo marinaro con mini fish burger, prosecco e dj set live. Ti aspettiamo!\\nINFO t. 081 19353543\""
            ],
            "application/vnd.google.colaboratory.intrinsic+json": {
              "type": "string"
            }
          },
          "metadata": {},
          "execution_count": 10
        }
      ]
    },
    {
      "cell_type": "code",
      "source": [
        "descrizioni_filtrate[200]"
      ],
      "metadata": {
        "colab": {
          "base_uri": "https://localhost:8080/",
          "height": 67
        },
        "id": "WUVsBmcwx7aF",
        "outputId": "026aa3e6-e384-4918-8eb5-a3f3fbab17db"
      },
      "execution_count": 11,
      "outputs": [
        {
          "output_type": "execute_result",
          "data": {
            "text/plain": [
              "\"napoel progetto discografico napoletano creato giri / gi napoletano louiel / secondlou ... seconda release , duo rilascia ep quattro tracce fonde piu pura techno detroit moderne sonorita industrial raw .. compresso perfetto due personalita artisti . venerdi , ore 21:00 , presenteremo esclusiva npl02 napoel - unit ep ascolta : https : //bit.ly/2uinye8 __________ l'occasione duo esibira dj set sara possibile acquistare l'ultima release prima , prezzi speciali . aspettiamo dischi , drink birre\""
            ],
            "application/vnd.google.colaboratory.intrinsic+json": {
              "type": "string"
            }
          },
          "metadata": {},
          "execution_count": 11
        }
      ]
    },
    {
      "cell_type": "code",
      "source": [
        "tot['id'].nunique() == len(tot['id'])"
      ],
      "metadata": {
        "colab": {
          "base_uri": "https://localhost:8080/"
        },
        "id": "2cl7KnrbBuBZ",
        "outputId": "8d0ccafe-e70b-4144-e1e4-3b145c35b893"
      },
      "execution_count": 12,
      "outputs": [
        {
          "output_type": "execute_result",
          "data": {
            "text/plain": [
              "True"
            ]
          },
          "metadata": {},
          "execution_count": 12
        }
      ]
    },
    {
      "cell_type": "code",
      "source": [
        "tot.count()"
      ],
      "metadata": {
        "colab": {
          "base_uri": "https://localhost:8080/"
        },
        "id": "ptB1Oeqf8ffG",
        "outputId": "516e86e3-f4a3-431e-84eb-7357ff00cfbe"
      },
      "execution_count": 13,
      "outputs": [
        {
          "output_type": "execute_result",
          "data": {
            "text/plain": [
              "id         6327\n",
              "fun        6327\n",
              "food       6327\n",
              "culture    6327\n",
              "isOpen     6327\n",
              "isMusic    6327\n",
              "text       6327\n",
              "dtype: int64"
            ]
          },
          "metadata": {},
          "execution_count": 13
        }
      ]
    },
    {
      "cell_type": "code",
      "source": [
        "tot.drop('isOpen',inplace=True,axis=1)\n",
        "tot.drop('id',inplace=True,axis=1)\n",
        "tot"
      ],
      "metadata": {
        "colab": {
          "base_uri": "https://localhost:8080/",
          "height": 411
        },
        "id": "V-9T-F_2B2GM",
        "outputId": "f6d7e481-9b80-4cc2-bda3-103517f04ad8"
      },
      "execution_count": 14,
      "outputs": [
        {
          "output_type": "execute_result",
          "data": {
            "text/plain": [
              "      fun  food  culture  isMusic  \\\n",
              "0       1     0        1        0   \n",
              "2       0     0        1        1   \n",
              "3       0     0        0        1   \n",
              "4       0     0        1        1   \n",
              "5       0     0        0        1   \n",
              "...   ...   ...      ...      ...   \n",
              "7683    0     0        0        1   \n",
              "7684    0     1        0        0   \n",
              "7685    0     1        1        1   \n",
              "7686    0     0        1        0   \n",
              "7687    0     1        0        0   \n",
              "\n",
              "                                                   text  \n",
              "0     Martedi 05 gennaio super tombolata al Barfly!\\...  \n",
              "2     Ingresso free senza obbligo di consumazione,se...  \n",
              "3     Giovedi 8 Marzo, Napulitanata \"celebra la donn...  \n",
              "4     yn e lieta di presentare\\n\\nNapoolyn x Resilie...  \n",
              "5     Serata live \\nVENERDI' 18 MARZO \\nUn piacevole...  \n",
              "...                                                 ...  \n",
              "7683  Hot Club Roma Trio\\n\\nMoreno Viglione chitarra...  \n",
              "7684  Presentazione del libro:\\n \"Tasmania\" (Einaudi...  \n",
              "7685  In occasione delle GIORNATE EUROPEE DEL PATRIM...  \n",
              "7686  Vieni a Danzare gratuitamente per un giorno co...  \n",
              "7687  Il convegno, in linea col precedente Leducazio...  \n",
              "\n",
              "[6327 rows x 5 columns]"
            ],
            "text/html": [
              "\n",
              "  <div id=\"df-d36af48d-042c-4812-ad88-55bac178930a\">\n",
              "    <div class=\"colab-df-container\">\n",
              "      <div>\n",
              "<style scoped>\n",
              "    .dataframe tbody tr th:only-of-type {\n",
              "        vertical-align: middle;\n",
              "    }\n",
              "\n",
              "    .dataframe tbody tr th {\n",
              "        vertical-align: top;\n",
              "    }\n",
              "\n",
              "    .dataframe thead th {\n",
              "        text-align: right;\n",
              "    }\n",
              "</style>\n",
              "<table border=\"1\" class=\"dataframe\">\n",
              "  <thead>\n",
              "    <tr style=\"text-align: right;\">\n",
              "      <th></th>\n",
              "      <th>fun</th>\n",
              "      <th>food</th>\n",
              "      <th>culture</th>\n",
              "      <th>isMusic</th>\n",
              "      <th>text</th>\n",
              "    </tr>\n",
              "  </thead>\n",
              "  <tbody>\n",
              "    <tr>\n",
              "      <th>0</th>\n",
              "      <td>1</td>\n",
              "      <td>0</td>\n",
              "      <td>1</td>\n",
              "      <td>0</td>\n",
              "      <td>Martedi 05 gennaio super tombolata al Barfly!\\...</td>\n",
              "    </tr>\n",
              "    <tr>\n",
              "      <th>2</th>\n",
              "      <td>0</td>\n",
              "      <td>0</td>\n",
              "      <td>1</td>\n",
              "      <td>1</td>\n",
              "      <td>Ingresso free senza obbligo di consumazione,se...</td>\n",
              "    </tr>\n",
              "    <tr>\n",
              "      <th>3</th>\n",
              "      <td>0</td>\n",
              "      <td>0</td>\n",
              "      <td>0</td>\n",
              "      <td>1</td>\n",
              "      <td>Giovedi 8 Marzo, Napulitanata \"celebra la donn...</td>\n",
              "    </tr>\n",
              "    <tr>\n",
              "      <th>4</th>\n",
              "      <td>0</td>\n",
              "      <td>0</td>\n",
              "      <td>1</td>\n",
              "      <td>1</td>\n",
              "      <td>yn e lieta di presentare\\n\\nNapoolyn x Resilie...</td>\n",
              "    </tr>\n",
              "    <tr>\n",
              "      <th>5</th>\n",
              "      <td>0</td>\n",
              "      <td>0</td>\n",
              "      <td>0</td>\n",
              "      <td>1</td>\n",
              "      <td>Serata live \\nVENERDI' 18 MARZO \\nUn piacevole...</td>\n",
              "    </tr>\n",
              "    <tr>\n",
              "      <th>...</th>\n",
              "      <td>...</td>\n",
              "      <td>...</td>\n",
              "      <td>...</td>\n",
              "      <td>...</td>\n",
              "      <td>...</td>\n",
              "    </tr>\n",
              "    <tr>\n",
              "      <th>7683</th>\n",
              "      <td>0</td>\n",
              "      <td>0</td>\n",
              "      <td>0</td>\n",
              "      <td>1</td>\n",
              "      <td>Hot Club Roma Trio\\n\\nMoreno Viglione chitarra...</td>\n",
              "    </tr>\n",
              "    <tr>\n",
              "      <th>7684</th>\n",
              "      <td>0</td>\n",
              "      <td>1</td>\n",
              "      <td>0</td>\n",
              "      <td>0</td>\n",
              "      <td>Presentazione del libro:\\n \"Tasmania\" (Einaudi...</td>\n",
              "    </tr>\n",
              "    <tr>\n",
              "      <th>7685</th>\n",
              "      <td>0</td>\n",
              "      <td>1</td>\n",
              "      <td>1</td>\n",
              "      <td>1</td>\n",
              "      <td>In occasione delle GIORNATE EUROPEE DEL PATRIM...</td>\n",
              "    </tr>\n",
              "    <tr>\n",
              "      <th>7686</th>\n",
              "      <td>0</td>\n",
              "      <td>0</td>\n",
              "      <td>1</td>\n",
              "      <td>0</td>\n",
              "      <td>Vieni a Danzare gratuitamente per un giorno co...</td>\n",
              "    </tr>\n",
              "    <tr>\n",
              "      <th>7687</th>\n",
              "      <td>0</td>\n",
              "      <td>1</td>\n",
              "      <td>0</td>\n",
              "      <td>0</td>\n",
              "      <td>Il convegno, in linea col precedente Leducazio...</td>\n",
              "    </tr>\n",
              "  </tbody>\n",
              "</table>\n",
              "<p>6327 rows × 5 columns</p>\n",
              "</div>\n",
              "      <button class=\"colab-df-convert\" onclick=\"convertToInteractive('df-d36af48d-042c-4812-ad88-55bac178930a')\"\n",
              "              title=\"Convert this dataframe to an interactive table.\"\n",
              "              style=\"display:none;\">\n",
              "        \n",
              "  <svg xmlns=\"http://www.w3.org/2000/svg\" height=\"24px\"viewBox=\"0 0 24 24\"\n",
              "       width=\"24px\">\n",
              "    <path d=\"M0 0h24v24H0V0z\" fill=\"none\"/>\n",
              "    <path d=\"M18.56 5.44l.94 2.06.94-2.06 2.06-.94-2.06-.94-.94-2.06-.94 2.06-2.06.94zm-11 1L8.5 8.5l.94-2.06 2.06-.94-2.06-.94L8.5 2.5l-.94 2.06-2.06.94zm10 10l.94 2.06.94-2.06 2.06-.94-2.06-.94-.94-2.06-.94 2.06-2.06.94z\"/><path d=\"M17.41 7.96l-1.37-1.37c-.4-.4-.92-.59-1.43-.59-.52 0-1.04.2-1.43.59L10.3 9.45l-7.72 7.72c-.78.78-.78 2.05 0 2.83L4 21.41c.39.39.9.59 1.41.59.51 0 1.02-.2 1.41-.59l7.78-7.78 2.81-2.81c.8-.78.8-2.07 0-2.86zM5.41 20L4 18.59l7.72-7.72 1.47 1.35L5.41 20z\"/>\n",
              "  </svg>\n",
              "      </button>\n",
              "      \n",
              "  <style>\n",
              "    .colab-df-container {\n",
              "      display:flex;\n",
              "      flex-wrap:wrap;\n",
              "      gap: 12px;\n",
              "    }\n",
              "\n",
              "    .colab-df-convert {\n",
              "      background-color: #E8F0FE;\n",
              "      border: none;\n",
              "      border-radius: 50%;\n",
              "      cursor: pointer;\n",
              "      display: none;\n",
              "      fill: #1967D2;\n",
              "      height: 32px;\n",
              "      padding: 0 0 0 0;\n",
              "      width: 32px;\n",
              "    }\n",
              "\n",
              "    .colab-df-convert:hover {\n",
              "      background-color: #E2EBFA;\n",
              "      box-shadow: 0px 1px 2px rgba(60, 64, 67, 0.3), 0px 1px 3px 1px rgba(60, 64, 67, 0.15);\n",
              "      fill: #174EA6;\n",
              "    }\n",
              "\n",
              "    [theme=dark] .colab-df-convert {\n",
              "      background-color: #3B4455;\n",
              "      fill: #D2E3FC;\n",
              "    }\n",
              "\n",
              "    [theme=dark] .colab-df-convert:hover {\n",
              "      background-color: #434B5C;\n",
              "      box-shadow: 0px 1px 3px 1px rgba(0, 0, 0, 0.15);\n",
              "      filter: drop-shadow(0px 1px 2px rgba(0, 0, 0, 0.3));\n",
              "      fill: #FFFFFF;\n",
              "    }\n",
              "  </style>\n",
              "\n",
              "      <script>\n",
              "        const buttonEl =\n",
              "          document.querySelector('#df-d36af48d-042c-4812-ad88-55bac178930a button.colab-df-convert');\n",
              "        buttonEl.style.display =\n",
              "          google.colab.kernel.accessAllowed ? 'block' : 'none';\n",
              "\n",
              "        async function convertToInteractive(key) {\n",
              "          const element = document.querySelector('#df-d36af48d-042c-4812-ad88-55bac178930a');\n",
              "          const dataTable =\n",
              "            await google.colab.kernel.invokeFunction('convertToInteractive',\n",
              "                                                     [key], {});\n",
              "          if (!dataTable) return;\n",
              "\n",
              "          const docLinkHtml = 'Like what you see? Visit the ' +\n",
              "            '<a target=\"_blank\" href=https://colab.research.google.com/notebooks/data_table.ipynb>data table notebook</a>'\n",
              "            + ' to learn more about interactive tables.';\n",
              "          element.innerHTML = '';\n",
              "          dataTable['output_type'] = 'display_data';\n",
              "          await google.colab.output.renderOutput(dataTable, element);\n",
              "          const docLink = document.createElement('div');\n",
              "          docLink.innerHTML = docLinkHtml;\n",
              "          element.appendChild(docLink);\n",
              "        }\n",
              "      </script>\n",
              "    </div>\n",
              "  </div>\n",
              "  "
            ]
          },
          "metadata": {},
          "execution_count": 14
        }
      ]
    },
    {
      "cell_type": "code",
      "source": [
        "'''from imblearn.under_sampling import RandomUnderSampler\n",
        "colonna_bilanciamento = tot[\"fun\"]\n",
        "classe_da_bilanciare = tot[colonna_bilanciamento == 0]\n",
        "\n",
        "# Crea un'istanza di RandomUnderSampler\n",
        "rus = RandomUnderSampler()\n",
        "\n",
        "# Esegui il re-sampling della colonna\n",
        "X_resampled, y_resampled = rus.fit_resample(classe_da_bilanciare.values.reshape(-1, 1), classe_da_bilanciare)\n",
        "\n",
        "# Sostituisci i valori bilanciati nella colonna originale\n",
        "tot.loc[tot[colonna_bilanciamento == 0].index, \"fun\"] = X_resampled.ravel()'''"
      ],
      "metadata": {
        "colab": {
          "base_uri": "https://localhost:8080/",
          "height": 67
        },
        "id": "f2HPmDMz5CTw",
        "outputId": "b8ec5f58-82e9-409f-9445-80d0db273f02"
      },
      "execution_count": 15,
      "outputs": [
        {
          "output_type": "execute_result",
          "data": {
            "text/plain": [
              "'from imblearn.under_sampling import RandomUnderSampler\\ncolonna_bilanciamento = tot[\"fun\"]\\nclasse_da_bilanciare = tot[colonna_bilanciamento == 0]\\n\\n# Crea un\\'istanza di RandomUnderSampler\\nrus = RandomUnderSampler()\\n\\n# Esegui il re-sampling della colonna\\nX_resampled, y_resampled = rus.fit_resample(classe_da_bilanciare.values.reshape(-1, 1), classe_da_bilanciare)\\n\\n# Sostituisci i valori bilanciati nella colonna originale\\ntot.loc[tot[colonna_bilanciamento == 0].index, \"fun\"] = X_resampled.ravel()'"
            ],
            "application/vnd.google.colaboratory.intrinsic+json": {
              "type": "string"
            }
          },
          "metadata": {},
          "execution_count": 15
        }
      ]
    },
    {
      "cell_type": "markdown",
      "source": [
        "##SomePlots"
      ],
      "metadata": {
        "id": "DwY_Pz15v7Dp"
      }
    },
    {
      "cell_type": "code",
      "source": [
        "import matplotlib.pyplot as plt\n",
        "import seaborn as sns"
      ],
      "metadata": {
        "id": "f52ywSESwPmP"
      },
      "execution_count": 14,
      "outputs": []
    },
    {
      "cell_type": "markdown",
      "source": [
        "Ecco i primi elementi del dataset."
      ],
      "metadata": {
        "id": "dvJ9Lm8aweaN"
      }
    },
    {
      "cell_type": "code",
      "source": [
        "tot.head()"
      ],
      "metadata": {
        "colab": {
          "base_uri": "https://localhost:8080/",
          "height": 201
        },
        "id": "LY8K8O1KwXSZ",
        "outputId": "683a36b6-176d-40e7-dd7d-ec341c39a174"
      },
      "execution_count": 15,
      "outputs": [
        {
          "output_type": "execute_result",
          "data": {
            "text/plain": [
              "   fun  food  culture  isMusic  \\\n",
              "0    1     0        1        0   \n",
              "2    0     0        1        1   \n",
              "3    0     0        0        1   \n",
              "4    0     0        1        1   \n",
              "5    0     0        0        1   \n",
              "\n",
              "                                                text  \n",
              "0  Martedi 05 gennaio super tombolata al Barfly!\\...  \n",
              "2  Ingresso free senza obbligo di consumazione,se...  \n",
              "3  Giovedi 8 Marzo, Napulitanata \"celebra la donn...  \n",
              "4  yn e lieta di presentare\\n\\nNapoolyn x Resilie...  \n",
              "5  Serata live \\nVENERDI' 18 MARZO \\nUn piacevole...  "
            ],
            "text/html": [
              "\n",
              "  <div id=\"df-ff3232de-e72a-40f0-9cb8-856896c0f374\">\n",
              "    <div class=\"colab-df-container\">\n",
              "      <div>\n",
              "<style scoped>\n",
              "    .dataframe tbody tr th:only-of-type {\n",
              "        vertical-align: middle;\n",
              "    }\n",
              "\n",
              "    .dataframe tbody tr th {\n",
              "        vertical-align: top;\n",
              "    }\n",
              "\n",
              "    .dataframe thead th {\n",
              "        text-align: right;\n",
              "    }\n",
              "</style>\n",
              "<table border=\"1\" class=\"dataframe\">\n",
              "  <thead>\n",
              "    <tr style=\"text-align: right;\">\n",
              "      <th></th>\n",
              "      <th>fun</th>\n",
              "      <th>food</th>\n",
              "      <th>culture</th>\n",
              "      <th>isMusic</th>\n",
              "      <th>text</th>\n",
              "    </tr>\n",
              "  </thead>\n",
              "  <tbody>\n",
              "    <tr>\n",
              "      <th>0</th>\n",
              "      <td>1</td>\n",
              "      <td>0</td>\n",
              "      <td>1</td>\n",
              "      <td>0</td>\n",
              "      <td>Martedi 05 gennaio super tombolata al Barfly!\\...</td>\n",
              "    </tr>\n",
              "    <tr>\n",
              "      <th>2</th>\n",
              "      <td>0</td>\n",
              "      <td>0</td>\n",
              "      <td>1</td>\n",
              "      <td>1</td>\n",
              "      <td>Ingresso free senza obbligo di consumazione,se...</td>\n",
              "    </tr>\n",
              "    <tr>\n",
              "      <th>3</th>\n",
              "      <td>0</td>\n",
              "      <td>0</td>\n",
              "      <td>0</td>\n",
              "      <td>1</td>\n",
              "      <td>Giovedi 8 Marzo, Napulitanata \"celebra la donn...</td>\n",
              "    </tr>\n",
              "    <tr>\n",
              "      <th>4</th>\n",
              "      <td>0</td>\n",
              "      <td>0</td>\n",
              "      <td>1</td>\n",
              "      <td>1</td>\n",
              "      <td>yn e lieta di presentare\\n\\nNapoolyn x Resilie...</td>\n",
              "    </tr>\n",
              "    <tr>\n",
              "      <th>5</th>\n",
              "      <td>0</td>\n",
              "      <td>0</td>\n",
              "      <td>0</td>\n",
              "      <td>1</td>\n",
              "      <td>Serata live \\nVENERDI' 18 MARZO \\nUn piacevole...</td>\n",
              "    </tr>\n",
              "  </tbody>\n",
              "</table>\n",
              "</div>\n",
              "      <button class=\"colab-df-convert\" onclick=\"convertToInteractive('df-ff3232de-e72a-40f0-9cb8-856896c0f374')\"\n",
              "              title=\"Convert this dataframe to an interactive table.\"\n",
              "              style=\"display:none;\">\n",
              "        \n",
              "  <svg xmlns=\"http://www.w3.org/2000/svg\" height=\"24px\"viewBox=\"0 0 24 24\"\n",
              "       width=\"24px\">\n",
              "    <path d=\"M0 0h24v24H0V0z\" fill=\"none\"/>\n",
              "    <path d=\"M18.56 5.44l.94 2.06.94-2.06 2.06-.94-2.06-.94-.94-2.06-.94 2.06-2.06.94zm-11 1L8.5 8.5l.94-2.06 2.06-.94-2.06-.94L8.5 2.5l-.94 2.06-2.06.94zm10 10l.94 2.06.94-2.06 2.06-.94-2.06-.94-.94-2.06-.94 2.06-2.06.94z\"/><path d=\"M17.41 7.96l-1.37-1.37c-.4-.4-.92-.59-1.43-.59-.52 0-1.04.2-1.43.59L10.3 9.45l-7.72 7.72c-.78.78-.78 2.05 0 2.83L4 21.41c.39.39.9.59 1.41.59.51 0 1.02-.2 1.41-.59l7.78-7.78 2.81-2.81c.8-.78.8-2.07 0-2.86zM5.41 20L4 18.59l7.72-7.72 1.47 1.35L5.41 20z\"/>\n",
              "  </svg>\n",
              "      </button>\n",
              "      \n",
              "  <style>\n",
              "    .colab-df-container {\n",
              "      display:flex;\n",
              "      flex-wrap:wrap;\n",
              "      gap: 12px;\n",
              "    }\n",
              "\n",
              "    .colab-df-convert {\n",
              "      background-color: #E8F0FE;\n",
              "      border: none;\n",
              "      border-radius: 50%;\n",
              "      cursor: pointer;\n",
              "      display: none;\n",
              "      fill: #1967D2;\n",
              "      height: 32px;\n",
              "      padding: 0 0 0 0;\n",
              "      width: 32px;\n",
              "    }\n",
              "\n",
              "    .colab-df-convert:hover {\n",
              "      background-color: #E2EBFA;\n",
              "      box-shadow: 0px 1px 2px rgba(60, 64, 67, 0.3), 0px 1px 3px 1px rgba(60, 64, 67, 0.15);\n",
              "      fill: #174EA6;\n",
              "    }\n",
              "\n",
              "    [theme=dark] .colab-df-convert {\n",
              "      background-color: #3B4455;\n",
              "      fill: #D2E3FC;\n",
              "    }\n",
              "\n",
              "    [theme=dark] .colab-df-convert:hover {\n",
              "      background-color: #434B5C;\n",
              "      box-shadow: 0px 1px 3px 1px rgba(0, 0, 0, 0.15);\n",
              "      filter: drop-shadow(0px 1px 2px rgba(0, 0, 0, 0.3));\n",
              "      fill: #FFFFFF;\n",
              "    }\n",
              "  </style>\n",
              "\n",
              "      <script>\n",
              "        const buttonEl =\n",
              "          document.querySelector('#df-ff3232de-e72a-40f0-9cb8-856896c0f374 button.colab-df-convert');\n",
              "        buttonEl.style.display =\n",
              "          google.colab.kernel.accessAllowed ? 'block' : 'none';\n",
              "\n",
              "        async function convertToInteractive(key) {\n",
              "          const element = document.querySelector('#df-ff3232de-e72a-40f0-9cb8-856896c0f374');\n",
              "          const dataTable =\n",
              "            await google.colab.kernel.invokeFunction('convertToInteractive',\n",
              "                                                     [key], {});\n",
              "          if (!dataTable) return;\n",
              "\n",
              "          const docLinkHtml = 'Like what you see? Visit the ' +\n",
              "            '<a target=\"_blank\" href=https://colab.research.google.com/notebooks/data_table.ipynb>data table notebook</a>'\n",
              "            + ' to learn more about interactive tables.';\n",
              "          element.innerHTML = '';\n",
              "          dataTable['output_type'] = 'display_data';\n",
              "          await google.colab.output.renderOutput(dataTable, element);\n",
              "          const docLink = document.createElement('div');\n",
              "          docLink.innerHTML = docLinkHtml;\n",
              "          element.appendChild(docLink);\n",
              "        }\n",
              "      </script>\n",
              "    </div>\n",
              "  </div>\n",
              "  "
            ]
          },
          "metadata": {},
          "execution_count": 15
        }
      ]
    },
    {
      "cell_type": "code",
      "source": [
        "tot.dtypes"
      ],
      "metadata": {
        "colab": {
          "base_uri": "https://localhost:8080/"
        },
        "id": "DUBObwy6w4FS",
        "outputId": "ca39acf4-8b27-43d0-f35d-bf2ee6fe8736"
      },
      "execution_count": 16,
      "outputs": [
        {
          "output_type": "execute_result",
          "data": {
            "text/plain": [
              "fun         int64\n",
              "food        int64\n",
              "culture     int64\n",
              "isMusic     int64\n",
              "text       object\n",
              "dtype: object"
            ]
          },
          "metadata": {},
          "execution_count": 16
        }
      ]
    },
    {
      "cell_type": "code",
      "source": [
        "sns.countplot(tot['fun'])"
      ],
      "metadata": {
        "colab": {
          "base_uri": "https://localhost:8080/",
          "height": 348
        },
        "id": "8g71sbx2w420",
        "outputId": "97066da6-88a9-4007-eb76-8ca6b4a1baed"
      },
      "execution_count": 17,
      "outputs": [
        {
          "output_type": "stream",
          "name": "stderr",
          "text": [
            "/usr/local/lib/python3.8/dist-packages/seaborn/_decorators.py:36: FutureWarning: Pass the following variable as a keyword arg: x. From version 0.12, the only valid positional argument will be `data`, and passing other arguments without an explicit keyword will result in an error or misinterpretation.\n",
            "  warnings.warn(\n"
          ]
        },
        {
          "output_type": "execute_result",
          "data": {
            "text/plain": [
              "<matplotlib.axes._subplots.AxesSubplot at 0x7f5d35a21580>"
            ]
          },
          "metadata": {},
          "execution_count": 17
        },
        {
          "output_type": "display_data",
          "data": {
            "text/plain": [
              "<Figure size 432x288 with 1 Axes>"
            ],
            "image/png": "[encoded data removed]"
          },
          "metadata": {
            "needs_background": "light"
          }
        }
      ]
    },
    {
      "cell_type": "code",
      "source": [
        "sns.countplot((tot[\"text\"] == None))"
      ],
      "metadata": {
        "colab": {
          "base_uri": "https://localhost:8080/",
          "height": 348
        },
        "id": "M_8CTs070mQU",
        "outputId": "819fc633-647d-465b-a144-b2106da0b4f7"
      },
      "execution_count": 18,
      "outputs": [
        {
          "output_type": "stream",
          "name": "stderr",
          "text": [
            "/usr/local/lib/python3.8/dist-packages/seaborn/_decorators.py:36: FutureWarning: Pass the following variable as a keyword arg: x. From version 0.12, the only valid positional argument will be `data`, and passing other arguments without an explicit keyword will result in an error or misinterpretation.\n",
            "  warnings.warn(\n"
          ]
        },
        {
          "output_type": "execute_result",
          "data": {
            "text/plain": [
              "<matplotlib.axes._subplots.AxesSubplot at 0x7f5d351eb700>"
            ]
          },
          "metadata": {},
          "execution_count": 18
        },
        {
          "output_type": "display_data",
          "data": {
            "text/plain": [
              "<Figure size 432x288 with 1 Axes>"
            ],
            "image/png": "[encoded data removed]"
          },
          "metadata": {
            "needs_background": "light"
          }
        }
      ]
    },
    {
      "cell_type": "markdown",
      "source": [
        "##Classificatori"
      ],
      "metadata": {
        "id": "Gyt1jv97HSVg"
      }
    },
    {
      "cell_type": "code",
      "source": [
        "corpus = descrizioni_filtrate"
      ],
      "metadata": {
        "id": "5qQmQ9Lh92YC"
      },
      "execution_count": 17,
      "outputs": []
    },
    {
      "cell_type": "markdown",
      "source": [
        "###Tokenizzazione, trasformazione in sequenza e padding"
      ],
      "metadata": {
        "id": "C-zaR9jHb7ke"
      }
    },
    {
      "cell_type": "code",
      "source": [
        "from tensorflow.keras.preprocessing.text import Tokenizer\n",
        "from tensorflow.keras.preprocessing.sequence import pad_sequences\n",
        "\n",
        "MAX_NB_WORDS = 30000\n",
        "\n",
        "# get the raw text data\n",
        "\n",
        "# finally, vectorize the text samples into a 2D integer tensor\n",
        "tokenizer = Tokenizer(num_words=MAX_NB_WORDS, char_level=False)\n",
        "tokenizer.fit_on_texts(corpus)\n",
        "\n",
        "sequences = tokenizer.texts_to_sequences(corpus)\n",
        "#sequences_test = tokenizer.texts_to_sequences(texts_test)\n",
        "seq_lens = [len(s) for s in sequences]"
      ],
      "metadata": {
        "id": "p9r7hIIUb6rF"
      },
      "execution_count": 18,
      "outputs": []
    },
    {
      "cell_type": "code",
      "source": [
        "def preProcessDescription(description,tokenizer,stopwordsTotali):\n",
        "  MAX_SEQUENCE_LENGTH = 300\n",
        "\n",
        "  description.lower()\n",
        "  words = description.split()\n",
        "\n",
        "  parole_filtrate = [parola for parola in words if not parola in stopwordsTotali]\n",
        " \n",
        "  descrizione_filtrata = \" \".join(parole_filtrate)\n",
        "  print(descrizione_filtrata)\n",
        "  # convert the text to a numerical representation\n",
        "  input_data = tokenizer.texts_to_sequences([descrizione_filtrata])\n",
        "  input_data = pad_sequences(input_data, maxlen=MAX_SEQUENCE_LENGTH,padding='post')\n",
        "  original_description = \"\"\n",
        "  for i, word in enumerate(input_data[0]):\n",
        "    if word == 1:\n",
        "      for key, value in tokenizer.word_index.items():\n",
        "        if value == i :\n",
        "          original_description += key + \" \"\n",
        "  print('Traduzione della sequenza numero in parole: ')\n",
        "  print(original_description)\n",
        "  \n",
        "  \n",
        "  return input_data"
      ],
      "metadata": {
        "id": "qRrXZpmd5F8G"
      },
      "execution_count": 19,
      "outputs": []
    },
    {
      "cell_type": "code",
      "source": [
        "preProcessDescription('patatine e cocacola',tokenizer,stopwordsTotali)"
      ],
      "metadata": {
        "colab": {
          "base_uri": "https://localhost:8080/"
        },
        "id": "FTmayUzZ7osP",
        "outputId": "a88f5630-d6a7-483c-d0e7-a8c0a7fbd8d2"
      },
      "execution_count": 20,
      "outputs": [
        {
          "output_type": "stream",
          "name": "stdout",
          "text": [
            "patatine cocacola\n",
            "Traduzione della sequenza numero in parole: \n",
            "\n"
          ]
        },
        {
          "output_type": "execute_result",
          "data": {
            "text/plain": [
              "array([[1427,    0,    0,    0,    0,    0,    0,    0,    0,    0,    0,\n",
              "           0,    0,    0,    0,    0,    0,    0,    0,    0,    0,    0,\n",
              "           0,    0,    0,    0,    0,    0,    0,    0,    0,    0,    0,\n",
              "           0,    0,    0,    0,    0,    0,    0,    0,    0,    0,    0,\n",
              "           0,    0,    0,    0,    0,    0,    0,    0,    0,    0,    0,\n",
              "           0,    0,    0,    0,    0,    0,    0,    0,    0,    0,    0,\n",
              "           0,    0,    0,    0,    0,    0,    0,    0,    0,    0,    0,\n",
              "           0,    0,    0,    0,    0,    0,    0,    0,    0,    0,    0,\n",
              "           0,    0,    0,    0,    0,    0,    0,    0,    0,    0,    0,\n",
              "           0,    0,    0,    0,    0,    0,    0,    0,    0,    0,    0,\n",
              "           0,    0,    0,    0,    0,    0,    0,    0,    0,    0,    0,\n",
              "           0,    0,    0,    0,    0,    0,    0,    0,    0,    0,    0,\n",
              "           0,    0,    0,    0,    0,    0,    0,    0,    0,    0,    0,\n",
              "           0,    0,    0,    0,    0,    0,    0,    0,    0,    0,    0,\n",
              "           0,    0,    0,    0,    0,    0,    0,    0,    0,    0,    0,\n",
              "           0,    0,    0,    0,    0,    0,    0,    0,    0,    0,    0,\n",
              "           0,    0,    0,    0,    0,    0,    0,    0,    0,    0,    0,\n",
              "           0,    0,    0,    0,    0,    0,    0,    0,    0,    0,    0,\n",
              "           0,    0,    0,    0,    0,    0,    0,    0,    0,    0,    0,\n",
              "           0,    0,    0,    0,    0,    0,    0,    0,    0,    0,    0,\n",
              "           0,    0,    0,    0,    0,    0,    0,    0,    0,    0,    0,\n",
              "           0,    0,    0,    0,    0,    0,    0,    0,    0,    0,    0,\n",
              "           0,    0,    0,    0,    0,    0,    0,    0,    0,    0,    0,\n",
              "           0,    0,    0,    0,    0,    0,    0,    0,    0,    0,    0,\n",
              "           0,    0,    0,    0,    0,    0,    0,    0,    0,    0,    0,\n",
              "           0,    0,    0,    0,    0,    0,    0,    0,    0,    0,    0,\n",
              "           0,    0,    0,    0,    0,    0,    0,    0,    0,    0,    0,\n",
              "           0,    0,    0]], dtype=int32)"
            ]
          },
          "metadata": {},
          "execution_count": 20
        }
      ]
    },
    {
      "cell_type": "code",
      "source": [
        "sampleIndex = 1998\n",
        "print('Sequenza parola numero %s: ' % sampleIndex)\n",
        "for x in sequences[sampleIndex]:\n",
        "  print('%d,' % x, end =' ')"
      ],
      "metadata": {
        "colab": {
          "base_uri": "https://localhost:8080/"
        },
        "id": "Rn2n_9xHHmOG",
        "outputId": "2dd52553-e802-4249-a30b-21f9602032ff"
      },
      "execution_count": 21,
      "outputs": [
        {
          "output_type": "stream",
          "name": "stdout",
          "text": [
            "Sequenza parola numero 1998: \n",
            "2050, 438, 12766, 25156, 2050, 1761, 438, 160, 92, 226, 25157, 1761, 1564, 36, 2420, 871, 193, 25157, 1761, 966, 672, 6358, 614, 2811, 3025, 16842, 503, 2050, 18849, 4079, 1630, 6477, 1981, 244, 156, 4244, 24076, 24077, 5560, 1417, 4931, 265, 40, 4, 86, 193, 41, 33, 1, 85, 4, 8739, 135, 230, 74, 99, 9515, 135, 10726, 1003, 1053, 5667, 14289, 18151, 696, 1517, 1364, 19080, 1677, 1623, 25158, 12766, 5499, 2618, 91, 74, 8739, 7, 1060, 5074, 6147, 24078, "
          ]
        }
      ]
    },
    {
      "cell_type": "code",
      "source": [
        "print('Traduzione della sequenza numero %d in parole: ' % sampleIndex)\n",
        "index_to_word = dict((i, w) for w, i in tokenizer.word_index.items())\n",
        "\" \".join([index_to_word[i] for i in sequences[sampleIndex]])"
      ],
      "metadata": {
        "colab": {
          "base_uri": "https://localhost:8080/",
          "height": 83
        },
        "id": "-XqNP5E1-Jx3",
        "outputId": "b46b3d46-c3d0-4ccb-8978-826016d68e0d"
      },
      "execution_count": 22,
      "outputs": [
        {
          "output_type": "stream",
          "name": "stdout",
          "text": [
            "Traduzione della sequenza numero 1998 in parole: \n"
          ]
        },
        {
          "output_type": "execute_result",
          "data": {
            "text/plain": [
              "\"carbonara day malanghino rilancia carbonara roll day mercoledi 7 aprile carbo roll regalo ogni ordine almeno 50 carbo roll pesce bianco avocado all'interno scampi uova quaglia salsa carbonara briciole guanciale croccante ordina app oppure whatsapp 388 481 5046 delivery take away pranzo 12 30 14 50 cena 19 00 23 30 palese san paolo bari citta modugno san girolamo santo spirito giovinazzo bitonto elenco completo quartieri paesi citati scrivici privato arriviamo malanghino l'esperienza giappone casa bari palese via vittorio veneto 67 newopening\""
            ],
            "application/vnd.google.colaboratory.intrinsic+json": {
              "type": "string"
            }
          },
          "metadata": {},
          "execution_count": 22
        }
      ]
    },
    {
      "cell_type": "code",
      "source": [
        "%matplotlib inline\n",
        "import matplotlib.pyplot as plt\n",
        "\n",
        "plt.hist(seq_lens, bins=500, color = 'purple')\n",
        "plt.xlabel('#words')\n",
        "plt.ylabel('#descriptions')\n",
        "plt.title('Y documenti con X parole')"
      ],
      "metadata": {
        "id": "O3htyl3c_UzP"
      },
      "execution_count": null,
      "outputs": []
    },
    {
      "cell_type": "code",
      "source": [
        "media=np.mean(seq_lens)\n",
        "print(\"average length: %0.1f\" % media)\n",
        "print(\"max length: %d\" % max(seq_lens))\n",
        "y = 0\n",
        "for i in seq_lens:\n",
        "  if i < media:\n",
        "    y = y + 1\n",
        "\n",
        "print(\"percentuale descrizioni di lunghezza inferiore ad average length: %d%%\" % (int(y*100/len(seq_lens))))\n"
      ],
      "metadata": {
        "id": "rF9fciyQ-cUk"
      },
      "execution_count": null,
      "outputs": []
    },
    {
      "cell_type": "markdown",
      "source": [
        "####Padding\n",
        "La lunghezza media dei testi è di circa 112: eseguo il pad con massima lunghezza 115, valutando che la maggior parte delle descrizioni non supera quel numero di parole."
      ],
      "metadata": {
        "id": "BpCi29f6-dvQ"
      }
    },
    {
      "cell_type": "code",
      "source": [
        "MAX_SEQUENCE_LENGTH = 120\n",
        "\n",
        "# pad sequences with 0s\n",
        "padded = pad_sequences(sequences, maxlen=MAX_SEQUENCE_LENGTH,padding='post')\n",
        "\n",
        "print('Shape of data tensor:', padded.shape)\n",
        "\n",
        "word_index = tokenizer.word_index\n",
        "print('Found %s unique tokens.' % len(word_index))"
      ],
      "metadata": {
        "colab": {
          "base_uri": "https://localhost:8080/"
        },
        "id": "DA_Jod7w-AaM",
        "outputId": "fe2ab2b4-b390-4e16-98ab-d0f54a956796"
      },
      "execution_count": 23,
      "outputs": [
        {
          "output_type": "stream",
          "name": "stdout",
          "text": [
            "Shape of data tensor: (6327, 120)\n",
            "Found 60963 unique tokens.\n"
          ]
        }
      ]
    },
    {
      "cell_type": "code",
      "source": [
        "padded[sampleIndex].shape[0]"
      ],
      "metadata": {
        "colab": {
          "base_uri": "https://localhost:8080/"
        },
        "id": "wQrPJ9ol_Rdm",
        "outputId": "c9a1faec-481e-49c4-d6e3-0904f4a9537f"
      },
      "execution_count": 24,
      "outputs": [
        {
          "output_type": "execute_result",
          "data": {
            "text/plain": [
              "120"
            ]
          },
          "metadata": {},
          "execution_count": 24
        }
      ]
    },
    {
      "cell_type": "code",
      "source": [
        "'''import gensim.downloader as api\n",
        "\n",
        "# Download the models (1660MB)\n",
        "word2vec_model300 = api.load('word2vec-google-news-300')'''"
      ],
      "metadata": {
        "id": "EP4cs4c1YzJy"
      },
      "execution_count": null,
      "outputs": []
    },
    {
      "cell_type": "code",
      "source": [
        "'''\n",
        "x_emb = []\n",
        "for sentence in padded:\n",
        "  print('sentence')\n",
        "  print(sentence)\n",
        "  sent_emb = [0 for k in range(300)] \n",
        "  \n",
        "  num_tok = 0\n",
        "  for tok in sentence:\n",
        "    if tok != 0:\n",
        "      word=list(word_index.keys())[list(word_index.values()).index(tok)]\n",
        "      print('word: '+ word)\n",
        "      try:\n",
        "          emb = word2vec_model300.wv[word]\n",
        "          sent_emb = [x + y for x, y in zip(sent_emb, emb)]\n",
        "          num_tok = num_tok +1\n",
        "      except:\n",
        "          pass\n",
        "  if num_tok != 0:\n",
        "    final_sent_emb = [x / num_tok for x in sent_emb]         \n",
        "  x_emb.append(final_sent_emb)\n",
        "  \n",
        "\n",
        "x_emb = np.array(x_emb)\n",
        "with open('/content/drive/MyDrive/Colab Notebooks/embeddings.npy', 'wb') as f:\n",
        "    np.save(f, x_emb)\n",
        "'''\n",
        "with open('/content/drive/MyDrive/Colab Notebooks/embeddings.npy', 'rb') as f:\n",
        "    x_emb = np.load(f)\n",
        "print(type(x_emb))\n",
        "print(len(x_emb))"
      ],
      "metadata": {
        "id": "mPraSkoHEuK-",
        "colab": {
          "base_uri": "https://localhost:8080/"
        },
        "outputId": "94ec1634-b205-405e-834d-acd6034e1dcd"
      },
      "execution_count": 27,
      "outputs": [
        {
          "output_type": "stream",
          "name": "stdout",
          "text": [
            "<class 'numpy.ndarray'>\n",
            "6327\n"
          ]
        }
      ]
    },
    {
      "cell_type": "code",
      "source": [
        "x_emb.shape"
      ],
      "metadata": {
        "id": "zVI0FdubxGo9",
        "colab": {
          "base_uri": "https://localhost:8080/"
        },
        "outputId": "3ee0d7b8-8c16-4731-d4f9-d8fab7f5d8fa"
      },
      "execution_count": 28,
      "outputs": [
        {
          "output_type": "execute_result",
          "data": {
            "text/plain": [
              "(6327, 300)"
            ]
          },
          "metadata": {},
          "execution_count": 28
        }
      ]
    },
    {
      "cell_type": "code",
      "source": [
        "print(x_emb[sampleIndex])"
      ],
      "metadata": {
        "id": "9RqFQ3iOxNo1"
      },
      "execution_count": null,
      "outputs": []
    },
    {
      "cell_type": "markdown",
      "source": [
        "###Test con alcuni classificatori (con supporto di word2vec)"
      ],
      "metadata": {
        "id": "BM5VMUcgEni5"
      }
    },
    {
      "cell_type": "code",
      "source": [
        "y = tot[['fun', 'food', 'culture', 'isMusic']]"
      ],
      "metadata": {
        "id": "Rh5z0z-T74kf"
      },
      "execution_count": 30,
      "outputs": []
    },
    {
      "cell_type": "code",
      "source": [
        "from sklearn.decomposition import PCA\n",
        "pca = PCA (170)\n",
        "\n",
        "reduced = pca.fit_transform(x_emb)\n",
        "\n",
        "X_reduced,X_testReduced,y_trainReduced,y_testReduced = train_test_split(reduced,y,test_size=0.25,random_state=42)\n",
        "reduced.shape"
      ],
      "metadata": {
        "id": "WHexH5pHwP1N"
      },
      "execution_count": null,
      "outputs": []
    },
    {
      "cell_type": "code",
      "source": [
        "from sklearn.utils import class_weight\n",
        "weights = class_weight.compute_sample_weight(class_weight=\"balanced\", y=y)"
      ],
      "metadata": {
        "id": "Pf1gNSR88CcQ"
      },
      "execution_count": null,
      "outputs": []
    },
    {
      "cell_type": "code",
      "source": [
        "weights"
      ],
      "metadata": {
        "id": "Y4ePMJ---iaa"
      },
      "execution_count": null,
      "outputs": []
    },
    {
      "cell_type": "markdown",
      "source": [
        "####Split"
      ],
      "metadata": {
        "id": "Ujr0O_QlMIJ0"
      }
    },
    {
      "cell_type": "code",
      "source": [
        "X_train,X_test,y_train,y_test = train_test_split(x_emb,y,test_size=0.25,random_state=42)"
      ],
      "metadata": {
        "id": "OWgXvZQjMOyq"
      },
      "execution_count": 31,
      "outputs": []
    },
    {
      "cell_type": "markdown",
      "source": [
        "##TEST"
      ],
      "metadata": {
        "id": "cLCb7MwRNklu"
      }
    },
    {
      "cell_type": "code",
      "source": [
        "import pandas as pd\n",
        "import numpy as np\n",
        "from sklearn.feature_extraction.text import TfidfVectorizer\n",
        "from sklearn.linear_model import LogisticRegression\n",
        "from sklearn.metrics import accuracy_score\n",
        "from sklearn.multiclass import OneVsRestClassifier\n",
        "from sklearn.metrics import classification_report\n",
        "\n",
        "# Carica i dati in un dataframe di pandas\n",
        "df = tot\n",
        "y = tot[['fun', 'food', 'culture', 'isMusic']]\n",
        "# Inizializza il TfidfVectorizer\n",
        "vectorizer = TfidfVectorizer()\n",
        "\n",
        "# Trasforma i documenti in una matrice di pesi TF-IDF\n",
        "X = vectorizer.fit_transform(corpus)\n",
        "\n",
        "X_trainLR, X_testLR, y_trainLR, y_testLR = train_test_split(X, y, test_size=0.2, random_state=42)\n",
        "\n",
        "# Creazione di un modello di regressione logistica per ogni classe\n",
        "classes = np.unique(y)\n",
        "clfs = []\n",
        "clf = OneVsRestClassifier(LogisticRegression(solver='lbfgs'))\n",
        "\n",
        "# Fit the classifier to the training data\n",
        "clf.fit(X_trainLR, y_trainLR)\n",
        "\n",
        "# Fai le predizioni sul test set\n",
        "y_pred = clf.predict(X_testLR)\n",
        "print(classification_report(y_testLR, y_pred))\n",
        "\n",
        "'''for class_ in classes:\n",
        "    clf = LogisticRegression(random_state=42)\n",
        "    clf.fit(X_trainLR, (y_trainLR == class_).astype(int))\n",
        "    clfs.append(clf)\n",
        "\n",
        "# Predizione per ogni classe\n",
        "y_pred = []\n",
        "for clf in clfs:\n",
        "    y_pred.append(clf.predict_proba(X_testLR)[:, 1])'''\n",
        "\n",
        "'''# Plottaggio dei risultati\n",
        "plt.figure(figsize=(12, 6))\n",
        "fpr, tpr, _ = roc_curve(y_testLR, y_p)\n",
        "plt.plot(fpr, tpr, label=f\"Class {class_}\")\n",
        "plt.xlabel(\"False Positive Rate\")\n",
        "plt.ylabel(\"True Positive Rate\")\n",
        "plt.legend()\n",
        "plt.show()'''\n",
        "\n",
        "'''# Estrai le etichette target\n",
        "y_fun = df['fun'].values\n",
        "y_food = df['food'].values\n",
        "y_culture = df['culture'].values\n",
        "y_music = df['isMusic'].values\n",
        "\n",
        "# Addestra un modello di regressione logistica per ogni classe\n",
        "clf_fun = LogisticRegression(max_iter=10000)\n",
        "clf_fun.fit(X, y_fun)\n",
        "\n",
        "clf_food = LogisticRegression(max_iter=10000)\n",
        "clf_food.fit(X, y_food)\n",
        "\n",
        "clf_culture = LogisticRegression(max_iter=10000)\n",
        "clf_culture.fit(X, y_culture)\n",
        "\n",
        "clf_music = LogisticRegression(max_iter=10000)\n",
        "clf_music.fit(X, y_music)\n",
        "\n",
        "# Prevedi le etichette per un nuovo evento\n",
        "new_event = ['Techno rave musica ballo amici alcohol']\n",
        "X_new = vectorizer.transform(new_event)\n",
        "\n",
        "y_pred_fun = clf_fun.predict_proba(X_new)[0][1]\n",
        "y_pred_food = clf_food.predict_proba(X_new)[0][1]\n",
        "y_pred_culture = clf_culture.predict_proba(X_new)[0][1]\n",
        "y_pred_music = clf_music.predict_proba(X_new)[0][1]\n",
        "\n",
        "# Confronta i risultati per evincere la categoria di appartenenza dell'evento\n",
        "probs = [y_pred_fun, y_pred_food, y_pred_culture, y_pred_music]\n",
        "pred_class = ['fun', 'food', 'culture', 'music'][np.argmax(probs)]\n",
        "print(f\"The new event belongs to the {pred_class} class with a probability of {np.max(probs):.2f}\")'''"
      ],
      "metadata": {
        "colab": {
          "base_uri": "https://localhost:8080/",
          "height": 400
        },
        "id": "SHj_0vQ3Pv-3",
        "outputId": "4887c8f2-4b2f-4d07-bdb3-466d2d723885"
      },
      "execution_count": 32,
      "outputs": [
        {
          "output_type": "stream",
          "name": "stdout",
          "text": [
            "              precision    recall  f1-score   support\n",
            "\n",
            "           0       0.84      0.57      0.67       430\n",
            "           1       0.89      0.78      0.83       572\n",
            "           2       0.73      0.92      0.81       817\n",
            "           3       0.92      0.70      0.79       484\n",
            "\n",
            "   micro avg       0.81      0.77      0.79      2303\n",
            "   macro avg       0.84      0.74      0.78      2303\n",
            "weighted avg       0.83      0.77      0.79      2303\n",
            " samples avg       0.83      0.80      0.78      2303\n",
            "\n"
          ]
        },
        {
          "output_type": "stream",
          "name": "stderr",
          "text": [
            "/usr/local/lib/python3.8/dist-packages/sklearn/metrics/_classification.py:1318: UndefinedMetricWarning: Precision and F-score are ill-defined and being set to 0.0 in samples with no predicted labels. Use `zero_division` parameter to control this behavior.\n",
            "  _warn_prf(average, modifier, msg_start, len(result))\n",
            "/usr/local/lib/python3.8/dist-packages/sklearn/metrics/_classification.py:1318: UndefinedMetricWarning: Recall and F-score are ill-defined and being set to 0.0 in samples with no true labels. Use `zero_division` parameter to control this behavior.\n",
            "  _warn_prf(average, modifier, msg_start, len(result))\n"
          ]
        },
        {
          "output_type": "execute_result",
          "data": {
            "text/plain": [
              "'# Estrai le etichette target\\ny_fun = df[\\'fun\\'].values\\ny_food = df[\\'food\\'].values\\ny_culture = df[\\'culture\\'].values\\ny_music = df[\\'isMusic\\'].values\\n\\n# Addestra un modello di regressione logistica per ogni classe\\nclf_fun = LogisticRegression(max_iter=10000)\\nclf_fun.fit(X, y_fun)\\n\\nclf_food = LogisticRegression(max_iter=10000)\\nclf_food.fit(X, y_food)\\n\\nclf_culture = LogisticRegression(max_iter=10000)\\nclf_culture.fit(X, y_culture)\\n\\nclf_music = LogisticRegression(max_iter=10000)\\nclf_music.fit(X, y_music)\\n\\n# Prevedi le etichette per un nuovo evento\\nnew_event = [\\'Techno rave musica ballo amici alcohol\\']\\nX_new = vectorizer.transform(new_event)\\n\\ny_pred_fun = clf_fun.predict_proba(X_new)[0][1]\\ny_pred_food = clf_food.predict_proba(X_new)[0][1]\\ny_pred_culture = clf_culture.predict_proba(X_new)[0][1]\\ny_pred_music = clf_music.predict_proba(X_new)[0][1]\\n\\n# Confronta i risultati per evincere la categoria di appartenenza dell\\'evento\\nprobs = [y_pred_fun, y_pred_food, y_pred_culture, y_pred_music]\\npred_class = [\\'fun\\', \\'food\\', \\'culture\\', \\'music\\'][np.argmax(probs)]\\nprint(f\"The new event belongs to the {pred_class} class with a probability of {np.max(probs):.2f}\")'"
            ],
            "application/vnd.google.colaboratory.intrinsic+json": {
              "type": "string"
            }
          },
          "metadata": {},
          "execution_count": 32
        }
      ]
    },
    {
      "cell_type": "code",
      "source": [
        "import numpy as np\n",
        "import pandas as pd\n",
        "import matplotlib.pyplot as plt\n",
        "from sklearn.linear_model import LogisticRegression\n",
        "from sklearn.feature_extraction.text import TfidfVectorizer\n",
        "\n",
        "tfidf = TfidfVectorizer()\n",
        "tfIdfText = tfidf.fit_transform(tot['text'])\n",
        "\n",
        "y1= tot['food'].values\n",
        "X_traint,X_testt,y_traint,y_testt = train_test_split(tfIdfText,y1,test_size=0.25,random_state=42)\n",
        "\n",
        "# Inizializza la regressione logistica\n",
        "clf = LogisticRegression()\n",
        "\n",
        "# Addestra il modello di regressione logistica\n",
        "clf.fit(X_traint, y_traint)\n",
        "\n",
        "# Calcola l'accuratezza del modello sui dati di test\n",
        "accuracy = clf.score(X_testt, y_testt)\n",
        "print(\"Accuratezza del modello sui dati di test: {:.2f}%\".format(accuracy * 100))\n",
        "\n",
        "new_event = np.array([\"gelato al cioccolato\"])\n",
        "vettorizzato = tfidf.transform(new_event)\n",
        "\n",
        "'''sequences1 = tokenizer.texts_to_sequences(desc)\n",
        "#sequences_test = tokenizer.texts_to_sequences(texts_test)\n",
        "seq_lens = [len(s) for s in sequences1]\n",
        "padded1 = pad_sequences(sequences1, maxlen=300,padding='post')\n",
        "# Fai una previsione per un nuovo esempio\n",
        "'''\n",
        "probabilities = clf.predict_proba(vettorizzato)\n",
        "\n",
        "# Mostra le probabilità di appartenenza ad ogni classe\n",
        "classes = [\"fun\"]\n",
        "for i, class_name in enumerate(classes):\n",
        "    print(\"Probabilità di appartenenza alla classe {}: {:.2f}%\".format(class_name, probabilities[0][i] * 100))\n",
        "\n",
        "# Plotta le probabilità di appartenenza ad ogni classe\n",
        "plt.bar(classes, probabilities[0])\n",
        "plt.xlabel(\"Classe\")\n",
        "plt.ylabel(\"Probabilità\")\n",
        "plt.show()"
      ],
      "metadata": {
        "colab": {
          "base_uri": "https://localhost:8080/",
          "height": 311
        },
        "id": "gURc6t8fNnmJ",
        "outputId": "14f3ad6e-b215-4656-8489-1783344d479a"
      },
      "execution_count": 33,
      "outputs": [
        {
          "output_type": "stream",
          "name": "stdout",
          "text": [
            "Accuratezza del modello sui dati di test: 83.94%\n",
            "Probabilità di appartenenza alla classe fun: 74.98%\n"
          ]
        },
        {
          "output_type": "display_data",
          "data": {
            "text/plain": [
              "<Figure size 432x288 with 1 Axes>"
            ],
            "image/png": "[encoded data removed]"
          },
          "metadata": {
            "needs_background": "light"
          }
        }
      ]
    },
    {
      "cell_type": "markdown",
      "source": [
        "##Da Multi-label a Multi-classe\n",
        "A questo punto potremmo pensare di rappresentare il nostro Multi-Label problem come un Multi-Class binary classification problem. È utile costruire questo modello come base di confronto per i prossimi modelli: esso tratterà le label come singoli classification problems. Costruiamo il modello di base."
      ],
      "metadata": {
        "id": "0E_S_wcDOZi2"
      }
    },
    {
      "cell_type": "code",
      "source": [
        "!pip install scikit-multilearn"
      ],
      "metadata": {
        "colab": {
          "base_uri": "https://localhost:8080/"
        },
        "id": "p4FAvUd8eCtP",
        "outputId": "963d1cf3-677c-40b6-c976-25500974aa4f"
      },
      "execution_count": 73,
      "outputs": [
        {
          "output_type": "stream",
          "name": "stdout",
          "text": [
            "Looking in indexes: https://pypi.org/simple, https://us-python.pkg.dev/colab-wheels/public/simple/\n",
            "Collecting scikit-multilearn\n",
            "  Downloading scikit_multilearn-0.2.0-py3-none-any.whl (89 kB)\n",
            "\u001b[2K     \u001b[90m━━━━━━━━━━━━━━━━━━━━━━━━━━━━━━━━━━━━━━━━\u001b[0m \u001b[32m89.4/89.4 KB\u001b[0m \u001b[31m4.3 MB/s\u001b[0m eta \u001b[36m0:00:00\u001b[0m\n",
            "\u001b[?25hInstalling collected packages: scikit-multilearn\n",
            "Successfully installed scikit-multilearn-0.2.0\n"
          ]
        }
      ]
    },
    {
      "cell_type": "code",
      "source": [
        "from sklearn.naive_bayes import GaussianNB,BernoulliNB,CategoricalNB\n",
        "from sklearn.linear_model import SGDClassifier\n",
        "from sklearn.neighbors import KNeighborsClassifier\n",
        "from sklearn.svm import SVC\n",
        "\n",
        "from sklearn.model_selection import GridSearchCV\n",
        "\n",
        "#Metrics\n",
        "from sklearn.metrics import accuracy_score, average_precision_score, f1_score, hamming_loss, label_ranking_average_precision_score, precision_recall_curve, recall_score, classification_report, r2_score\n",
        "\n",
        "#Multilable\n",
        "from skmultilearn.problem_transform import BinaryRelevance, LabelPowerset\n",
        "from skmultilearn.ensemble import RakelD, RakelO, LabelSpacePartitioningClassifier\n",
        "from skmultilearn.adapt import MLkNN\n",
        "\n",
        "import matplotlib.pyplot as plt\n",
        "import numpy as np"
      ],
      "metadata": {
        "id": "wl6nOAvlP7UO"
      },
      "execution_count": null,
      "outputs": []
    },
    {
      "cell_type": "code",
      "source": [
        "y_test"
      ],
      "metadata": {
        "colab": {
          "base_uri": "https://localhost:8080/",
          "height": 424
        },
        "id": "LmLCZIW0Kmcw",
        "outputId": "68802bb6-b448-4ebf-bb4f-68f2f27710c1"
      },
      "execution_count": null,
      "outputs": [
        {
          "output_type": "execute_result",
          "data": {
            "text/plain": [
              "      fun  food  culture  isMusic\n",
              "1293    1     1        1        0\n",
              "7141    0     0        1        1\n",
              "3846    0     0        1        1\n",
              "4310    0     1        0        0\n",
              "5319    0     1        0        0\n",
              "...   ...   ...      ...      ...\n",
              "3448    0     1        1        0\n",
              "6162    0     0        0        1\n",
              "1159    1     0        1        1\n",
              "6140    1     1        1        1\n",
              "4563    1     1        1        0\n",
              "\n",
              "[1582 rows x 4 columns]"
            ],
            "text/html": [
              "\n",
              "  <div id=\"df-018b2242-4333-4a34-980e-979b32cb4e8b\">\n",
              "    <div class=\"colab-df-container\">\n",
              "      <div>\n",
              "<style scoped>\n",
              "    .dataframe tbody tr th:only-of-type {\n",
              "        vertical-align: middle;\n",
              "    }\n",
              "\n",
              "    .dataframe tbody tr th {\n",
              "        vertical-align: top;\n",
              "    }\n",
              "\n",
              "    .dataframe thead th {\n",
              "        text-align: right;\n",
              "    }\n",
              "</style>\n",
              "<table border=\"1\" class=\"dataframe\">\n",
              "  <thead>\n",
              "    <tr style=\"text-align: right;\">\n",
              "      <th></th>\n",
              "      <th>fun</th>\n",
              "      <th>food</th>\n",
              "      <th>culture</th>\n",
              "      <th>isMusic</th>\n",
              "    </tr>\n",
              "  </thead>\n",
              "  <tbody>\n",
              "    <tr>\n",
              "      <th>1293</th>\n",
              "      <td>1</td>\n",
              "      <td>1</td>\n",
              "      <td>1</td>\n",
              "      <td>0</td>\n",
              "    </tr>\n",
              "    <tr>\n",
              "      <th>7141</th>\n",
              "      <td>0</td>\n",
              "      <td>0</td>\n",
              "      <td>1</td>\n",
              "      <td>1</td>\n",
              "    </tr>\n",
              "    <tr>\n",
              "      <th>3846</th>\n",
              "      <td>0</td>\n",
              "      <td>0</td>\n",
              "      <td>1</td>\n",
              "      <td>1</td>\n",
              "    </tr>\n",
              "    <tr>\n",
              "      <th>4310</th>\n",
              "      <td>0</td>\n",
              "      <td>1</td>\n",
              "      <td>0</td>\n",
              "      <td>0</td>\n",
              "    </tr>\n",
              "    <tr>\n",
              "      <th>5319</th>\n",
              "      <td>0</td>\n",
              "      <td>1</td>\n",
              "      <td>0</td>\n",
              "      <td>0</td>\n",
              "    </tr>\n",
              "    <tr>\n",
              "      <th>...</th>\n",
              "      <td>...</td>\n",
              "      <td>...</td>\n",
              "      <td>...</td>\n",
              "      <td>...</td>\n",
              "    </tr>\n",
              "    <tr>\n",
              "      <th>3448</th>\n",
              "      <td>0</td>\n",
              "      <td>1</td>\n",
              "      <td>1</td>\n",
              "      <td>0</td>\n",
              "    </tr>\n",
              "    <tr>\n",
              "      <th>6162</th>\n",
              "      <td>0</td>\n",
              "      <td>0</td>\n",
              "      <td>0</td>\n",
              "      <td>1</td>\n",
              "    </tr>\n",
              "    <tr>\n",
              "      <th>1159</th>\n",
              "      <td>1</td>\n",
              "      <td>0</td>\n",
              "      <td>1</td>\n",
              "      <td>1</td>\n",
              "    </tr>\n",
              "    <tr>\n",
              "      <th>6140</th>\n",
              "      <td>1</td>\n",
              "      <td>1</td>\n",
              "      <td>1</td>\n",
              "      <td>1</td>\n",
              "    </tr>\n",
              "    <tr>\n",
              "      <th>4563</th>\n",
              "      <td>1</td>\n",
              "      <td>1</td>\n",
              "      <td>1</td>\n",
              "      <td>0</td>\n",
              "    </tr>\n",
              "  </tbody>\n",
              "</table>\n",
              "<p>1582 rows × 4 columns</p>\n",
              "</div>\n",
              "      <button class=\"colab-df-convert\" onclick=\"convertToInteractive('df-018b2242-4333-4a34-980e-979b32cb4e8b')\"\n",
              "              title=\"Convert this dataframe to an interactive table.\"\n",
              "              style=\"display:none;\">\n",
              "        \n",
              "  <svg xmlns=\"http://www.w3.org/2000/svg\" height=\"24px\"viewBox=\"0 0 24 24\"\n",
              "       width=\"24px\">\n",
              "    <path d=\"M0 0h24v24H0V0z\" fill=\"none\"/>\n",
              "    <path d=\"M18.56 5.44l.94 2.06.94-2.06 2.06-.94-2.06-.94-.94-2.06-.94 2.06-2.06.94zm-11 1L8.5 8.5l.94-2.06 2.06-.94-2.06-.94L8.5 2.5l-.94 2.06-2.06.94zm10 10l.94 2.06.94-2.06 2.06-.94-2.06-.94-.94-2.06-.94 2.06-2.06.94z\"/><path d=\"M17.41 7.96l-1.37-1.37c-.4-.4-.92-.59-1.43-.59-.52 0-1.04.2-1.43.59L10.3 9.45l-7.72 7.72c-.78.78-.78 2.05 0 2.83L4 21.41c.39.39.9.59 1.41.59.51 0 1.02-.2 1.41-.59l7.78-7.78 2.81-2.81c.8-.78.8-2.07 0-2.86zM5.41 20L4 18.59l7.72-7.72 1.47 1.35L5.41 20z\"/>\n",
              "  </svg>\n",
              "      </button>\n",
              "      \n",
              "  <style>\n",
              "    .colab-df-container {\n",
              "      display:flex;\n",
              "      flex-wrap:wrap;\n",
              "      gap: 12px;\n",
              "    }\n",
              "\n",
              "    .colab-df-convert {\n",
              "      background-color: #E8F0FE;\n",
              "      border: none;\n",
              "      border-radius: 50%;\n",
              "      cursor: pointer;\n",
              "      display: none;\n",
              "      fill: #1967D2;\n",
              "      height: 32px;\n",
              "      padding: 0 0 0 0;\n",
              "      width: 32px;\n",
              "    }\n",
              "\n",
              "    .colab-df-convert:hover {\n",
              "      background-color: #E2EBFA;\n",
              "      box-shadow: 0px 1px 2px rgba(60, 64, 67, 0.3), 0px 1px 3px 1px rgba(60, 64, 67, 0.15);\n",
              "      fill: #174EA6;\n",
              "    }\n",
              "\n",
              "    [theme=dark] .colab-df-convert {\n",
              "      background-color: #3B4455;\n",
              "      fill: #D2E3FC;\n",
              "    }\n",
              "\n",
              "    [theme=dark] .colab-df-convert:hover {\n",
              "      background-color: #434B5C;\n",
              "      box-shadow: 0px 1px 3px 1px rgba(0, 0, 0, 0.15);\n",
              "      filter: drop-shadow(0px 1px 2px rgba(0, 0, 0, 0.3));\n",
              "      fill: #FFFFFF;\n",
              "    }\n",
              "  </style>\n",
              "\n",
              "      <script>\n",
              "        const buttonEl =\n",
              "          document.querySelector('#df-018b2242-4333-4a34-980e-979b32cb4e8b button.colab-df-convert');\n",
              "        buttonEl.style.display =\n",
              "          google.colab.kernel.accessAllowed ? 'block' : 'none';\n",
              "\n",
              "        async function convertToInteractive(key) {\n",
              "          const element = document.querySelector('#df-018b2242-4333-4a34-980e-979b32cb4e8b');\n",
              "          const dataTable =\n",
              "            await google.colab.kernel.invokeFunction('convertToInteractive',\n",
              "                                                     [key], {});\n",
              "          if (!dataTable) return;\n",
              "\n",
              "          const docLinkHtml = 'Like what you see? Visit the ' +\n",
              "            '<a target=\"_blank\" href=https://colab.research.google.com/notebooks/data_table.ipynb>data table notebook</a>'\n",
              "            + ' to learn more about interactive tables.';\n",
              "          element.innerHTML = '';\n",
              "          dataTable['output_type'] = 'display_data';\n",
              "          await google.colab.output.renderOutput(dataTable, element);\n",
              "          const docLink = document.createElement('div');\n",
              "          docLink.innerHTML = docLinkHtml;\n",
              "          element.appendChild(docLink);\n",
              "        }\n",
              "      </script>\n",
              "    </div>\n",
              "  </div>\n",
              "  "
            ]
          },
          "metadata": {},
          "execution_count": 34
        }
      ]
    },
    {
      "cell_type": "code",
      "source": [
        "# Convert Our Multi-Label Prob to Multi-Class\n",
        "# Binary Classficiation\n",
        "biRel = BinaryRelevance(KNeighborsClassifier())\n",
        "biRel2 = BinaryRelevance(SVC())\n",
        "biRelRed = BinaryRelevance(SVC())\n",
        "\n",
        "'''\n",
        "BISOGNA PROVARE COMBINAZIONI FRA CLAS E MOD:\n",
        "CLAS                | MOD\n",
        "GaussianNB            BinaryRelevance\n",
        "BernoulliNB           LabelPowerset\n",
        "CategoricalNB         RakelD\n",
        "SVC                   RakelO\n",
        "KNeighborsClassifier  LabelSpacePartitioningClassifier\n",
        "SGDClassifier         MLkNN\n",
        "LogisticRegression\n",
        "'''\n",
        "\n",
        "biRel.fit(X_train,y_train)\n",
        "biRel2.fit(X_train,y_train)\n",
        "biRelRed.fit(X_reduced, y_trainReduced)"
      ],
      "metadata": {
        "colab": {
          "base_uri": "https://localhost:8080/"
        },
        "id": "zv_D-D5qPurq",
        "outputId": "91e5a2b5-e4e1-4b34-cebc-77ca0e8a0c21"
      },
      "execution_count": null,
      "outputs": [
        {
          "output_type": "execute_result",
          "data": {
            "text/plain": [
              "BinaryRelevance(classifier=SVC(), require_dense=[True, True])"
            ]
          },
          "metadata": {},
          "execution_count": 35
        }
      ]
    },
    {
      "cell_type": "code",
      "source": [
        "# Predictions\n",
        "prediction = biRel.predict(X_test).toarray()\n",
        "prediction2 = biRel2.predict(X_test).toarray()\n",
        "predictionRed = biRelRed.predict(X_testReduced).toarray()"
      ],
      "metadata": {
        "id": "ayphmqNHQ4QY"
      },
      "execution_count": null,
      "outputs": []
    },
    {
      "cell_type": "code",
      "source": [
        "print('accuracy: %0.5f' % accuracy_score(y_test,prediction))\n",
        "print('loss di hamming: %0.5f' % hamming_loss(y_test,prediction))\n",
        "print('label ranking average precision: %0.5f' % label_ranking_average_precision_score(y_test,prediction))\n",
        "sns.heatmap(pd.DataFrame(classification_report(y_test,prediction, zero_division=1, output_dict=True, target_names=['fun ', 'food', 'culture', 'music'])).iloc[:-1, :].T, annot=True, linecolor='purple')"
      ],
      "metadata": {
        "colab": {
          "base_uri": "https://localhost:8080/",
          "height": 334
        },
        "id": "WnaVoxvvR_so",
        "outputId": "68cb2d64-fd67-46ab-e15b-48b32b884274"
      },
      "execution_count": null,
      "outputs": [
        {
          "output_type": "stream",
          "name": "stdout",
          "text": [
            "accuracy: 0.30468\n",
            "loss di hamming: 0.28097\n",
            "label ranking average precision: 0.72733\n"
          ]
        },
        {
          "output_type": "execute_result",
          "data": {
            "text/plain": [
              "<matplotlib.axes._subplots.AxesSubplot at 0x7fb72cfb4a30>"
            ]
          },
          "metadata": {},
          "execution_count": 37
        },
        {
          "output_type": "display_data",
          "data": {
            "text/plain": [
              "<Figure size 432x288 with 2 Axes>"
            ],
            "image/png": "[encoded data removed]"
          },
          "metadata": {
            "needs_background": "light"
          }
        }
      ]
    },
    {
      "cell_type": "code",
      "source": [
        "print('accuracy: %0.5f' % accuracy_score(y_testReduced,predictionRed))\n",
        "print('loss di hamming: %0.5f' % hamming_loss(y_testReduced,predictionRed))\n",
        "print('label ranking average precision: %0.5f' % label_ranking_average_precision_score(y_testReduced,predictionRed))\n",
        "sns.heatmap(pd.DataFrame(classification_report(y_testReduced,predictionRed, zero_division=1, output_dict=True, target_names=['fun ', 'food', 'culture', 'music'])).iloc[:-1, :].T, annot=True, linecolor='purple')"
      ],
      "metadata": {
        "colab": {
          "base_uri": "https://localhost:8080/",
          "height": 334
        },
        "id": "kuHBF1p9yhd8",
        "outputId": "d558a478-3b98-4898-a219-951363315ce3"
      },
      "execution_count": null,
      "outputs": [
        {
          "output_type": "stream",
          "name": "stdout",
          "text": [
            "accuracy: 0.38243\n",
            "loss di hamming: 0.21429\n",
            "label ranking average precision: 0.78273\n"
          ]
        },
        {
          "output_type": "execute_result",
          "data": {
            "text/plain": [
              "<matplotlib.axes._subplots.AxesSubplot at 0x7fb72cefca00>"
            ]
          },
          "metadata": {},
          "execution_count": 38
        },
        {
          "output_type": "display_data",
          "data": {
            "text/plain": [
              "<Figure size 432x288 with 2 Axes>"
            ],
            "image/png": "[encoded data removed]"
          },
          "metadata": {
            "needs_background": "light"
          }
        }
      ]
    },
    {
      "cell_type": "code",
      "source": [
        "print('accuracy: %0.5f' % accuracy_score(y_test,prediction2))\n",
        "print('loss di hamming: %0.5f' % hamming_loss(y_test,prediction2))\n",
        "print('label ranking average precision: %0.5f' % label_ranking_average_precision_score(y_test,prediction2))\n",
        "sns.heatmap(pd.DataFrame(classification_report(y_test,prediction2, zero_division=1, output_dict=True, target_names=['fun ', 'food', 'culture', 'music'])).iloc[:-1, :].T, annot=True, linecolor='purple')"
      ],
      "metadata": {
        "colab": {
          "base_uri": "https://localhost:8080/",
          "height": 334
        },
        "id": "v4G_BrBcQl4R",
        "outputId": "98e9c7e6-1f57-4271-9ad4-849e57d33138"
      },
      "execution_count": null,
      "outputs": [
        {
          "output_type": "stream",
          "name": "stdout",
          "text": [
            "accuracy: 0.37863\n",
            "loss di hamming: 0.21587\n",
            "label ranking average precision: 0.77674\n"
          ]
        },
        {
          "output_type": "execute_result",
          "data": {
            "text/plain": [
              "<matplotlib.axes._subplots.AxesSubplot at 0x7fb72cdce0a0>"
            ]
          },
          "metadata": {},
          "execution_count": 39
        },
        {
          "output_type": "display_data",
          "data": {
            "text/plain": [
              "<Figure size 432x288 with 2 Axes>"
            ],
            "image/png": "[encoded data removed]"
          },
          "metadata": {
            "needs_background": "light"
          }
        }
      ]
    },
    {
      "cell_type": "markdown",
      "source": [
        "##Deep Learning"
      ],
      "metadata": {
        "id": "XL7j0_VwaZOI"
      }
    },
    {
      "cell_type": "code",
      "source": [
        "# mlp for multi-label classification\n",
        "from numpy import mean\n",
        "from numpy import std\n",
        "from sklearn.model_selection import RepeatedKFold\n",
        "from keras.models import Sequential\n",
        "from keras.layers import Dense\n",
        "from matplotlib import pyplot as plt\n",
        "\n",
        "# get the model\n",
        "def get_model(n_inputs, n_outputs):\n",
        "  model = Sequential()\n",
        "  model.add(Dense(256, input_dim=n_inputs, kernel_initializer='he_uniform', activation='relu'))\n",
        "  model.add(Dense(16, activation='relu'))\n",
        "  model.add(Dense(n_outputs, activation='sigmoid'))\n",
        "  model.compile(loss='binary_crossentropy', optimizer='adam', metrics='accuracy')\n",
        "  return model\n",
        "\n",
        "# evaluate a model using repeated k-fold cross-validation\n",
        "def evaluate_model(X_train, y_train, X_test, y_test):\n",
        "  results = list()\n",
        "  # define evaluation procedure\n",
        "  cv = RepeatedKFold(n_splits=10, n_repeats=3, random_state=1)\n",
        "  model = get_model(X_train.shape[1], y_train.shape[1])\n",
        "  # fit model\n",
        "  fit=model.fit(X_train, y_train, verbose=1, epochs=50)\n",
        "  # make a prediction on the test set\n",
        "  yhat = model.predict(X_test)\n",
        "    # calculate accuracy\n",
        "  acc = accuracy_score(y_test.round(), yhat.round())\n",
        "  # store result\n",
        "  print('>%.3f' % acc)\n",
        "  results.append(acc)\n",
        "  print(yhat)\n",
        "  return results,model\n",
        "\n",
        " \n",
        "  '''yhat = yhat.round()\n",
        "  # calculate accuracy\n",
        "  acc = accuracy_score(y_test, yhat)\n",
        "  # store result\n",
        "  print('>%.3f' % acc)\n",
        "  results.append(acc)\n",
        "  return results'''\n",
        "\n",
        "\n",
        "# evaluate model\n",
        "results,model = evaluate_model(X_train, y_train, X_test, y_test)\n"
      ],
      "metadata": {
        "colab": {
          "base_uri": "https://localhost:8080/"
        },
        "id": "uFx2yc-qFu1V",
        "outputId": "018f119f-ce8d-4cd2-a7c3-e5317f777c05"
      },
      "execution_count": 34,
      "outputs": [
        {
          "output_type": "stream",
          "name": "stdout",
          "text": [
            "Epoch 1/50\n",
            "149/149 [==============================] - 2s 5ms/step - loss: 0.6074 - accuracy: 0.2957\n",
            "Epoch 2/50\n",
            "149/149 [==============================] - 1s 6ms/step - loss: 0.5289 - accuracy: 0.3937\n",
            "Epoch 3/50\n",
            "149/149 [==============================] - 1s 4ms/step - loss: 0.4981 - accuracy: 0.4207\n",
            "Epoch 4/50\n",
            "149/149 [==============================] - 1s 3ms/step - loss: 0.4818 - accuracy: 0.4710\n",
            "Epoch 5/50\n",
            "149/149 [==============================] - 0s 3ms/step - loss: 0.4685 - accuracy: 0.4940\n",
            "Epoch 6/50\n",
            "149/149 [==============================] - 0s 3ms/step - loss: 0.4613 - accuracy: 0.5047\n",
            "Epoch 7/50\n",
            "149/149 [==============================] - 0s 3ms/step - loss: 0.4508 - accuracy: 0.5094\n",
            "Epoch 8/50\n",
            "149/149 [==============================] - 0s 3ms/step - loss: 0.4458 - accuracy: 0.5151\n",
            "Epoch 9/50\n",
            "149/149 [==============================] - 0s 3ms/step - loss: 0.4368 - accuracy: 0.5235\n",
            "Epoch 10/50\n",
            "149/149 [==============================] - 0s 3ms/step - loss: 0.4408 - accuracy: 0.5180\n",
            "Epoch 11/50\n",
            "149/149 [==============================] - 1s 3ms/step - loss: 0.4270 - accuracy: 0.5248\n",
            "Epoch 12/50\n",
            "149/149 [==============================] - 1s 3ms/step - loss: 0.4232 - accuracy: 0.5302\n",
            "Epoch 13/50\n",
            "149/149 [==============================] - 1s 3ms/step - loss: 0.4204 - accuracy: 0.5256\n",
            "Epoch 14/50\n",
            "149/149 [==============================] - 1s 3ms/step - loss: 0.4152 - accuracy: 0.5294\n",
            "Epoch 15/50\n",
            "149/149 [==============================] - 1s 4ms/step - loss: 0.4096 - accuracy: 0.5290\n",
            "Epoch 16/50\n",
            "149/149 [==============================] - 1s 3ms/step - loss: 0.4065 - accuracy: 0.5391\n",
            "Epoch 17/50\n",
            "149/149 [==============================] - 1s 3ms/step - loss: 0.4053 - accuracy: 0.5328\n",
            "Epoch 18/50\n",
            "149/149 [==============================] - 0s 3ms/step - loss: 0.3995 - accuracy: 0.5431\n",
            "Epoch 19/50\n",
            "149/149 [==============================] - 0s 3ms/step - loss: 0.3945 - accuracy: 0.5427\n",
            "Epoch 20/50\n",
            "149/149 [==============================] - 0s 3ms/step - loss: 0.3917 - accuracy: 0.5460\n",
            "Epoch 21/50\n",
            "149/149 [==============================] - 0s 3ms/step - loss: 0.3845 - accuracy: 0.5452\n",
            "Epoch 22/50\n",
            "149/149 [==============================] - 0s 3ms/step - loss: 0.3818 - accuracy: 0.5475\n",
            "Epoch 23/50\n",
            "149/149 [==============================] - 1s 3ms/step - loss: 0.3814 - accuracy: 0.5458\n",
            "Epoch 24/50\n",
            "149/149 [==============================] - 1s 5ms/step - loss: 0.3774 - accuracy: 0.5490\n",
            "Epoch 25/50\n",
            "149/149 [==============================] - 1s 5ms/step - loss: 0.3704 - accuracy: 0.5490\n",
            "Epoch 26/50\n",
            "149/149 [==============================] - 1s 5ms/step - loss: 0.3694 - accuracy: 0.5442\n",
            "Epoch 27/50\n",
            "149/149 [==============================] - 1s 5ms/step - loss: 0.3643 - accuracy: 0.5593\n",
            "Epoch 28/50\n",
            "149/149 [==============================] - 1s 5ms/step - loss: 0.3591 - accuracy: 0.5564\n",
            "Epoch 29/50\n",
            "149/149 [==============================] - 1s 4ms/step - loss: 0.3564 - accuracy: 0.5562\n",
            "Epoch 30/50\n",
            "149/149 [==============================] - 0s 3ms/step - loss: 0.3536 - accuracy: 0.5555\n",
            "Epoch 31/50\n",
            "149/149 [==============================] - 1s 3ms/step - loss: 0.3482 - accuracy: 0.5532\n",
            "Epoch 32/50\n",
            "149/149 [==============================] - 0s 3ms/step - loss: 0.3450 - accuracy: 0.5621\n",
            "Epoch 33/50\n",
            "149/149 [==============================] - 0s 3ms/step - loss: 0.3427 - accuracy: 0.5619\n",
            "Epoch 34/50\n",
            "149/149 [==============================] - 0s 3ms/step - loss: 0.3372 - accuracy: 0.5625\n",
            "Epoch 35/50\n",
            "149/149 [==============================] - 0s 3ms/step - loss: 0.3333 - accuracy: 0.5709\n",
            "Epoch 36/50\n",
            "149/149 [==============================] - 0s 3ms/step - loss: 0.3316 - accuracy: 0.5659\n",
            "Epoch 37/50\n",
            "149/149 [==============================] - 0s 3ms/step - loss: 0.3277 - accuracy: 0.5726\n",
            "Epoch 38/50\n",
            "149/149 [==============================] - 0s 3ms/step - loss: 0.3223 - accuracy: 0.5701\n",
            "Epoch 39/50\n",
            "149/149 [==============================] - 1s 3ms/step - loss: 0.3206 - accuracy: 0.5743\n",
            "Epoch 40/50\n",
            "149/149 [==============================] - 0s 3ms/step - loss: 0.3160 - accuracy: 0.5751\n",
            "Epoch 41/50\n",
            "149/149 [==============================] - 0s 3ms/step - loss: 0.3111 - accuracy: 0.5707\n",
            "Epoch 42/50\n",
            "149/149 [==============================] - 0s 3ms/step - loss: 0.3064 - accuracy: 0.5768\n",
            "Epoch 43/50\n",
            "149/149 [==============================] - 0s 3ms/step - loss: 0.3048 - accuracy: 0.5804\n",
            "Epoch 44/50\n",
            "149/149 [==============================] - 0s 3ms/step - loss: 0.2980 - accuracy: 0.5802\n",
            "Epoch 45/50\n",
            "149/149 [==============================] - 0s 3ms/step - loss: 0.2954 - accuracy: 0.5852\n",
            "Epoch 46/50\n",
            "149/149 [==============================] - 0s 3ms/step - loss: 0.2892 - accuracy: 0.5855\n",
            "Epoch 47/50\n",
            "149/149 [==============================] - 0s 3ms/step - loss: 0.2851 - accuracy: 0.5855\n",
            "Epoch 48/50\n",
            "149/149 [==============================] - 0s 3ms/step - loss: 0.2857 - accuracy: 0.5825\n",
            "Epoch 49/50\n",
            "149/149 [==============================] - 0s 3ms/step - loss: 0.2789 - accuracy: 0.5846\n",
            "Epoch 50/50\n",
            "149/149 [==============================] - 1s 4ms/step - loss: 0.2850 - accuracy: 0.5834\n",
            "50/50 [==============================] - 0s 3ms/step\n",
            ">0.365\n",
            "[[0.02415897 0.9855632  0.3888032  0.00980724]\n",
            " [0.01892825 0.88534516 0.38922864 0.30268884]\n",
            " [0.7330836  0.12964095 0.983885   0.07739919]\n",
            " ...\n",
            " [0.98266405 0.02207589 0.27123335 0.06595834]\n",
            " [0.6846222  0.14955083 0.8006534  0.91451967]\n",
            " [0.5251183  0.6226548  0.9374858  0.74017   ]]\n"
          ]
        }
      ]
    },
    {
      "cell_type": "code",
      "source": [
        "# make a prediction\n",
        "yhat = model.predict(preProcessDescription('patatine e cocacola musica ma sempre con troppe parole roma cultura',tokenizer,stopwordsTotali))\n",
        "\n",
        "yhat = np.exp(yhat) / np.sum(np.exp(yhat), axis=1, keepdims=True)\n",
        "print(yhat)\n"
      ],
      "metadata": {
        "colab": {
          "base_uri": "https://localhost:8080/"
        },
        "id": "5Dfg874bBUSI",
        "outputId": "8be570d7-773f-4b31-bc74-73be76c48a32"
      },
      "execution_count": 39,
      "outputs": [
        {
          "output_type": "stream",
          "name": "stdout",
          "text": [
            "patatine cocacola musica sempre troppe parole roma cultura\n",
            "Traduzione della sequenza numero in parole: \n",
            "\n",
            "1/1 [==============================] - 0s 34ms/step\n",
            "[[0.13447072 0.13447072 0.36552933 0.36552933]]\n"
          ]
        }
      ]
    },
    {
      "cell_type": "markdown",
      "source": [
        "###Funzione per costruire il modello"
      ],
      "metadata": {
        "id": "L3qQdvsDjhm_"
      }
    },
    {
      "cell_type": "code",
      "source": [
        "def build_model(modello,mlb_estimator,xtrain,ytrain,xtest,ytest):\n",
        "    # Create an Instance\n",
        "    clf = mlb_estimator(modello)\n",
        "    clf.fit(xtrain,ytrain)\n",
        "    # Predict\n",
        "    clf_predictions = clf.predict(xtest)\n",
        "    # Check For Accuracy\n",
        "    acc = accuracy_score(ytest,clf_predictions)\n",
        "    ham = hamming_loss(ytest,clf_predictions)\n",
        "    result = {\"accuracy:\":acc,\"hamming_score\":ham}\n",
        "    return result"
      ],
      "metadata": {
        "id": "oKZl78x9jl8b"
      },
      "execution_count": null,
      "outputs": []
    },
    {
      "cell_type": "markdown",
      "source": [
        "assegnarli categorie dobbiamo trovare dove la semantica dio un evento che poi puo’derivare da più dati che adesso abbiamo trascurato, in manieraa tale da collocare semantica anche tramite un ontologie esterne il nostro evento in una specie di spazio\n",
        "\n",
        "questo  ci potrebbe servire per rendere la ricerca di un evento il suo essere consigliato qualcosa di più semantica .\n",
        "\n",
        "\n",
        "non ci sarà nessun evento in cui ci sarà scritto 'qui si beve alcol' però ci stara degustazione di birra.\n",
        "\n",
        "potrebbe essere collocare dei termini nello spazio e vedere tramite i dati che noi estraiamo in che posto dello spazio il nostro evento si colloca\n",
        "\n",
        "Caso d’uso:\n",
        "\n",
        "mettiamo che tu cerchi :’alcol a bari a quest ora’ .\n",
        "\n",
        "prendo i "
      ],
      "metadata": {
        "id": "UpfMLKcenAeJ"
      }
    },
    {
      "cell_type": "markdown",
      "source": [
        "##Ontologie: WordNet"
      ],
      "metadata": {
        "id": "HA0ZMUwNam3P"
      }
    },
    {
      "cell_type": "code",
      "source": [
        "!pip install nltk\n",
        "from nltk.corpus import wordnet as wn\n",
        "from nltk.corpus import stopwords\n",
        "from nltk.stem import WordNetLemmatizer\n",
        "from sklearn.cluster import AffinityPropagation\n",
        "from nltk import download as dl\n",
        "from numpy.ma.core import outer\n",
        "from sys import exit as exit\n",
        "from nltk import word_tokenize as tkn\n",
        "from re import sub as sub\n",
        "from sklearn.model_selection import train_test_split\n",
        "from sklearn.feature_extraction.text import CountVectorizer,TfidfVectorizer\n",
        "from sklearn.cluster import KMeans\n",
        "dl('wordnet')\n",
        "dl('omw-1.4')\n",
        "dl('punkt')\n",
        "dl('stopwords')"
      ],
      "metadata": {
        "colab": {
          "base_uri": "https://localhost:8080/"
        },
        "id": "tT7X3NnAtEeX",
        "outputId": "fa6179ea-0aa2-4deb-a210-bb857f24c5e2"
      },
      "execution_count": null,
      "outputs": [
        {
          "output_type": "stream",
          "name": "stdout",
          "text": [
            "Looking in indexes: https://pypi.org/simple, https://us-python.pkg.dev/colab-wheels/public/simple/\n",
            "Requirement already satisfied: nltk in /usr/local/lib/python3.8/dist-packages (3.7)\n",
            "Requirement already satisfied: joblib in /usr/local/lib/python3.8/dist-packages (from nltk) (1.2.0)\n",
            "Requirement already satisfied: click in /usr/local/lib/python3.8/dist-packages (from nltk) (7.1.2)\n",
            "Requirement already satisfied: tqdm in /usr/local/lib/python3.8/dist-packages (from nltk) (4.64.1)\n",
            "Requirement already satisfied: regex>=2021.8.3 in /usr/local/lib/python3.8/dist-packages (from nltk) (2022.6.2)\n"
          ]
        },
        {
          "output_type": "stream",
          "name": "stderr",
          "text": [
            "[nltk_data] Downloading package wordnet to /root/nltk_data...\n",
            "[nltk_data]   Package wordnet is already up-to-date!\n",
            "[nltk_data] Downloading package omw-1.4 to /root/nltk_data...\n",
            "[nltk_data]   Package omw-1.4 is already up-to-date!\n",
            "[nltk_data] Downloading package punkt to /root/nltk_data...\n",
            "[nltk_data]   Package punkt is already up-to-date!\n",
            "[nltk_data] Downloading package stopwords to /root/nltk_data...\n",
            "[nltk_data]   Package stopwords is already up-to-date!\n"
          ]
        },
        {
          "output_type": "execute_result",
          "data": {
            "text/plain": [
              "True"
            ]
          },
          "metadata": {},
          "execution_count": 41
        }
      ]
    },
    {
      "cell_type": "code",
      "source": [
        "stp = open(\"/content/drive/MyDrive/Colab Notebooks/stopwordsita.txt\", \"r\")\n",
        "data = stp.read().split(\"\\n\")\n",
        "stp.close()\n",
        "stopwordsTotali = stopwords.words('italian') + stopwords.words('english') + data\n",
        "stopwordsTotali = list(set(stopwordsTotali))"
      ],
      "metadata": {
        "id": "QFqaXJ5nb3Hp"
      },
      "execution_count": null,
      "outputs": []
    },
    {
      "cell_type": "code",
      "source": [
        "def get_max_depth(synset, depth=0):\n",
        "    hypernyms = synset.hypernyms()\n",
        "    if not hypernyms:\n",
        "        return depth\n",
        "    return max(get_max_depth(h, depth + 1) for h in hypernyms)\n",
        "###############################################################\n",
        "##\n",
        "##                     NON FUNZIONA\n",
        "##\n",
        "###############################################################\n",
        "def getHypernyms(stringa):\n",
        "  lemmatizer = WordNetLemmatizer()\n",
        "  synset=wn.synsets(stringa,lang='ita',pos=wn.NOUN)\n",
        "  if(synset == []):\n",
        "    synset=wn.synsets(stringa,lang='ita',pos=wn.VERB)\n",
        "    if(synset == []):\n",
        "      synset=wn.synsets(stringa,lang='ita',pos=wn.ADV)\n",
        "  dpt=get_max_depth(synset[0])\n",
        "  rangemax=3\n",
        "  \n",
        "  lista=[]\n",
        "  lista.append(synset[0])\n",
        "  while(dpt != rangemax):\n",
        "    if(dpt < rangemax):\n",
        "      lista.append(lista[len(lista)-1].hypernyms()[0])\n",
        "      dpt=dpt+1\n",
        "    else:\n",
        "      \n",
        "      dpt=dpt-1\n",
        "  return lista\n",
        "\n",
        "def get_syns(description):\n",
        "  test=[]\n",
        "  desc=sub(r'\\d+', '', description)\n",
        "  lwr=desc.lower()\n",
        "  words = tkn(lwr)\n",
        "  for every in words:\n",
        "    if (every not in stopwordsTotali):\n",
        "      if(wn.synsets(every, lang ='ita') == []):\n",
        "        \n",
        "          test.append(wn.synsets(every))\n",
        "      else:\n",
        "        \n",
        "          test.append(wn.synsets(every, lang ='ita'))\n",
        "\n",
        "  lemmatizer = WordNetLemmatizer()\n",
        "  ciao =[]\n",
        "  for each in range(len(test)):\n",
        "    for q in range(len(test[each])):\n",
        "      ciao.append(lemmatizer.lemmatize(test[each][q].name().split('.')[0]))\n",
        "\n",
        "  ciao=list(set(ciao))\n",
        "  return ciao\n",
        "\n",
        "  \n",
        "'''\n",
        "def get_wordnet_features(text):\n",
        "    lemmatizer = WordNetLemmatizer()\n",
        "    words = nltk.word_tokenize(text)\n",
        "    features = []\n",
        "    for word in words:\n",
        "        synsets = wordnet.synsets(word)\n",
        "        for synset in synsets:\n",
        "            features.append(lemmatizer.lemmatize(synset.name().split('.')[0]))\n",
        "    return features\n",
        "\n",
        "# Utilizza la funzione get_wordnet_features per estrarre le features dalle descrizioni\n",
        "'''"
      ],
      "metadata": {
        "colab": {
          "base_uri": "https://localhost:8080/",
          "height": 70
        },
        "id": "bwz-IlmTb6cl",
        "outputId": "ce916f5c-6f55-45fc-e4d9-0a12fae51c65"
      },
      "execution_count": null,
      "outputs": [
        {
          "output_type": "execute_result",
          "data": {
            "text/plain": [
              "\"\\ndef get_wordnet_features(text):\\n    lemmatizer = WordNetLemmatizer()\\n    words = nltk.word_tokenize(text)\\n    features = []\\n    for word in words:\\n        synsets = wordnet.synsets(word)\\n        for synset in synsets:\\n            features.append(lemmatizer.lemmatize(synset.name().split('.')[0]))\\n    return features\\n\\n# Utilizza la funzione get_wordnet_features per estrarre le features dalle descrizioni\\n\""
            ],
            "application/vnd.google.colaboratory.intrinsic+json": {
              "type": "string"
            }
          },
          "metadata": {},
          "execution_count": 57
        }
      ]
    },
    {
      "cell_type": "code",
      "source": [
        "#probabilmente da rimuovere\n",
        "'''\n",
        "# Funzione per estrarre l'ontologia da una descrizione\n",
        "def get_ontology(description):\n",
        "  # Tokenizza la descrizione\n",
        "  words = nltk.word_tokenize(description)\n",
        "\n",
        "  # Crea una lista vuota per le lemmi delle parole\n",
        "  lemmas = []\n",
        "\n",
        "  # Itera su ogni parola nella descrizione\n",
        "  for word in words:\n",
        "    # Ottieni tutti i lemmi per la parola\n",
        "    lemma = wn.lemmas(word,lang='ita')\n",
        "\n",
        "    # Aggiungi il lemma alla lista\n",
        "    lemmas.append(lemma)\n",
        "\n",
        "  # Restituisci la lista dei lemmi\n",
        "  return lemmas\n",
        "\n",
        "# Esempio di utilizzo della funzione get_ontology\n",
        "description = \"oggi ho proprio voglia di gelato\"\n",
        "ontology = get_ontology(description)\n",
        "print(ontology)\n",
        "\n",
        "# Integrazione dell'ontologia con il modello di classificazione\n",
        "def classify_with_ontology(model, description):\n",
        "  # Estrarre l'ontologia dalla descrizione\n",
        "  ontology = get_ontology(description)\n",
        "\n",
        "  # Passare l'ontologia al modello di classificazione\n",
        "  prediction = model.predict(ontology)\n",
        "\n",
        "  # Restituire la predizione del modello\n",
        "  return prediction\n",
        "'''"
      ],
      "metadata": {
        "colab": {
          "base_uri": "https://localhost:8080/"
        },
        "id": "VoTMs-rYuflm",
        "outputId": "e2537056-337f-4564-8615-c12b57cd8a28"
      },
      "execution_count": null,
      "outputs": [
        {
          "output_type": "stream",
          "name": "stdout",
          "text": [
            "[[Lemma('nowadays.r.01.oggi'), Lemma('today.r.02.oggi'), Lemma('today.n.02.oggi'), Lemma('today.n.01.oggi')], [], [Lemma('merely.r.01.proprio'), Lemma('quite.r.02.proprio'), Lemma('very.r.01.proprio'), Lemma('just.r.03.proprio'), Lemma('truly.r.01.proprio'), Lemma('in_truth.r.01.proprio'), Lemma('right.r.03.proprio'), Lemma('actually.r.01.proprio'), Lemma('precisely.r.01.proprio'), Lemma('right.r.01.proprio'), Lemma('very.r.02.proprio'), Lemma('own.s.01.proprio'), Lemma('very.s.01.proprio'), Lemma('identical.s.02.proprio')], [Lemma('birthmark.n.01.voglia'), Lemma('lecherousness.n.01.voglia')], [], [Lemma('cocaine.n.01.cocaina')]]\n"
          ]
        }
      ]
    },
    {
      "cell_type": "code",
      "source": [
        "X1 = []\n",
        "newText=tot['text'].tolist()\n",
        "for description in newText:\n",
        "    feature =[]\n",
        "    #print(description)\n",
        "    features = get_syns(str(description))\n",
        "    #print(features)\n",
        "    words = ''\n",
        "    for each in features:\n",
        "      words = words + ' ' + each\n",
        "    X1.append(words) "
      ],
      "metadata": {
        "id": "jWCaq-98ix3T"
      },
      "execution_count": null,
      "outputs": []
    },
    {
      "cell_type": "code",
      "source": [
        "tot['text'][0]"
      ],
      "metadata": {
        "colab": {
          "base_uri": "https://localhost:8080/",
          "height": 35
        },
        "id": "Eixv1Pl978Th",
        "outputId": "83615341-f725-4eca-9f97-a2032617c10d"
      },
      "execution_count": null,
      "outputs": [
        {
          "output_type": "execute_result",
          "data": {
            "text/plain": [
              "'Martedi 05 gennaio super tombolata al Barfly!\\nTante calze da vincere!!!\\nFormula 10 euro panino patatine e bibita e la cartella la offriamo noi!\\nConsigliata la prenotazione\\n081660023'"
            ],
            "application/vnd.google.colaboratory.intrinsic+json": {
              "type": "string"
            }
          },
          "metadata": {},
          "execution_count": 45
        }
      ]
    },
    {
      "cell_type": "code",
      "source": [
        "X1[0]"
      ],
      "metadata": {
        "id": "41L0GRtHi25f",
        "outputId": "0b4ea61f-520f-4d5f-9d9d-a317d3b11f72",
        "colab": {
          "base_uri": "https://localhost:8080/",
          "height": 53
        }
      },
      "execution_count": null,
      "outputs": [
        {
          "output_type": "execute_result",
          "data": {
            "text/plain": [
              "' bun satchel recipe rule chip security acquire file ace get_the_better_of overcome beat booking formula french_fries briefcase portfolio soft_drink super surpass prevail bail superintendent extremely win folder'"
            ],
            "application/vnd.google.colaboratory.intrinsic+json": {
              "type": "string"
            }
          },
          "metadata": {},
          "execution_count": 46
        }
      ]
    },
    {
      "cell_type": "code",
      "source": [
        "vectorizer = CountVectorizer()\n",
        "vectorizerTfIdf=TfidfVectorizer()\n",
        "\n",
        "vector = vectorizer.fit_transform(X1)\n",
        "vectorTfIdf=vectorizerTfIdf.fit_transform(X1)"
      ],
      "metadata": {
        "id": "iHEHuQ3p7AFc"
      },
      "execution_count": null,
      "outputs": []
    },
    {
      "cell_type": "code",
      "source": [
        "X_train1, X_test1 = train_test_split(vectorTfIdf, test_size=0.2, random_state=42) "
      ],
      "metadata": {
        "id": "m8FFVETJ6_8e"
      },
      "execution_count": null,
      "outputs": []
    },
    {
      "cell_type": "code",
      "source": [
        "number_of_clusters=10\n",
        "km = KMeans(n_clusters=number_of_clusters)\n",
        "# Normally people fit the matrix\n",
        "km.fit(X_train1)\n",
        "# But you could fit the idf_df instea\n",
        "print(\"Top terms per cluster:\")\n",
        "order_centroids = km.cluster_centers_.argsort()[:, ::-1]\n",
        "terms = vectorizerTfIdf.get_feature_names()\n",
        "for i in range(number_of_clusters):\n",
        "    top_ten_words = [terms[ind] for ind in order_centroids[i, :5]]\n",
        "    print(\"Cluster {}: {}\".format(i, ' '.join(top_ten_words)))"
      ],
      "metadata": {
        "id": "wKawSkG7dxYE",
        "outputId": "e923b839-6e20-492b-cfad-1044ed2b5570",
        "colab": {
          "base_uri": "https://localhost:8080/"
        }
      },
      "execution_count": null,
      "outputs": [
        {
          "output_type": "stream",
          "name": "stdout",
          "text": [
            "Top terms per cluster:\n",
            "Cluster 0: nan grandma zurich essence esprit_de_corps\n",
            "Cluster 1: manual ore corsican wale avenue\n",
            "Cluster 2: only lonely lone alone single\n",
            "Cluster 3: complimentary dislodge exempt absolve rid\n",
            "Cluster 4: first earlier once ahead sooner\n",
            "Cluster 5: together simultaneously jointly whole ensemble\n",
            "Cluster 6: menu music sheet_music band dinner\n",
            "Cluster 7: momentous adult distinguished important_person large\n",
            "Cluster 8: embody belong_to equal being occur\n",
            "Cluster 9: ore information band music live\n"
          ]
        },
        {
          "output_type": "stream",
          "name": "stderr",
          "text": [
            "/usr/local/lib/python3.8/dist-packages/sklearn/utils/deprecation.py:87: FutureWarning: Function get_feature_names is deprecated; get_feature_names is deprecated in 1.0 and will be removed in 1.2. Please use get_feature_names_out instead.\n",
            "  warnings.warn(msg, category=FutureWarning)\n"
          ]
        }
      ]
    },
    {
      "cell_type": "code",
      "source": [
        "apModel = AffinityPropagation()\n",
        "# Addestra il modello sulla nuova rappresentazione delle descrizioni\n",
        "res11=apModel.fit(X_train1)\n"
      ],
      "metadata": {
        "id": "uPKCCXCU0hhK"
      },
      "execution_count": null,
      "outputs": []
    },
    {
      "cell_type": "code",
      "source": [
        "from sklearn import metrics\n",
        "cluster_centers_indices = res11.cluster_centers_indices_\n",
        "labels = res11.labels_\n",
        "n_clusters_ = len(cluster_centers_indices)"
      ],
      "metadata": {
        "id": "rriMYaitYTaV"
      },
      "execution_count": null,
      "outputs": []
    },
    {
      "cell_type": "code",
      "source": [
        "print(\"Estimated number of clusters: %d\" % n_clusters_)"
      ],
      "metadata": {
        "id": "9SOpTV_Nb7ZJ",
        "outputId": "1f167dab-339a-47d1-f446-47e6c862cd5f",
        "colab": {
          "base_uri": "https://localhost:8080/"
        }
      },
      "execution_count": null,
      "outputs": [
        {
          "output_type": "stream",
          "name": "stdout",
          "text": [
            "Estimated number of clusters: 0\n"
          ]
        }
      ]
    },
    {
      "cell_type": "code",
      "source": [
        "\n",
        "print(\"Homogeneity: %0.3f\" % metrics.homogeneity_score(X_test1.toarray(), labels))\n",
        "print(\"Completeness: %0.3f\" % metrics.completeness_score(X_test1, labels))\n",
        "print(\"V-measure: %0.3f\" % metrics.v_measure_score(X_test1, labels))\n",
        "print(\"Adjusted Rand Index: %0.3f\" % metrics.adjusted_rand_score(X_test1, labels))\n",
        "print(\n",
        "    \"Adjusted Mutual Information: %0.3f\"\n",
        "    % metrics.adjusted_mutual_info_score(X_test1, labels)\n",
        ")\n",
        "print(\n",
        "    \"Silhouette Coefficient: %0.3f\"\n",
        "    % metrics.silhouette_score(X, labels, metric=\"sqeuclidean\")\n",
        ")"
      ],
      "metadata": {
        "id": "qeAXNueSZl2N"
      },
      "execution_count": null,
      "outputs": []
    },
    {
      "cell_type": "code",
      "source": [
        "plt.figure(1)\n",
        "plt.clf()\n",
        "\n",
        "colors = plt.cycler(\"color\", plt.cm.viridis(np.linspace(0, 1, 4)))\n",
        "\n",
        "for k, col in zip(range(n_clusters_), colors):\n",
        "    class_members = labels == k\n",
        "    cluster_center = X_train1[cluster_centers_indices[k]]\n",
        "    plt.scatter(\n",
        "        X_train1[class_members, 0], X_train1[class_members, 1], color=col[\"color\"], marker=\".\"\n",
        "    )\n",
        "    plt.scatter(\n",
        "        cluster_center[0], cluster_center[1], s=14, color=col[\"color\"], marker=\"o\"\n",
        "    )\n",
        "    for x in X_train1[class_members]:\n",
        "        plt.plot(\n",
        "            [cluster_center[0], x[0]], [cluster_center[1], x[1]], color=col[\"color\"]\n",
        "        )\n",
        "\n",
        "plt.title(\"Estimated number of clusters: %d\" % n_clusters_)\n",
        "plt.show()"
      ],
      "metadata": {
        "id": "uJSyfsF1Zj04",
        "outputId": "cd12639c-46d6-4d4d-e924-f43ec212e34c",
        "colab": {
          "base_uri": "https://localhost:8080/",
          "height": 281
        }
      },
      "execution_count": null,
      "outputs": [
        {
          "output_type": "display_data",
          "data": {
            "text/plain": [
              "<Figure size 432x288 with 1 Axes>"
            ],
            "image/png": "[encoded data removed]"
          },
          "metadata": {
            "needs_background": "light"
          }
        }
      ]
    },
    {
      "cell_type": "code",
      "source": [
        "predictionRes11 = res11.predict(X_test1)"
      ],
      "metadata": {
        "colab": {
          "base_uri": "https://localhost:8080/"
        },
        "id": "OrGsr5Ed7cba",
        "outputId": "13930896-f495-431c-d87e-a850af962888"
      },
      "execution_count": null,
      "outputs": [
        {
          "output_type": "stream",
          "name": "stderr",
          "text": [
            "/usr/local/lib/python3.8/dist-packages/sklearn/cluster/_affinity_propagation.py:528: ConvergenceWarning: This model does not have any cluster centers because affinity propagation did not converge. Labeling every sample as '-1'.\n",
            "  warnings.warn(\n"
          ]
        }
      ]
    },
    {
      "cell_type": "code",
      "source": [
        "plt.close(\"all\")\n",
        "plt.figure(1)\n",
        "plt.clf()\n",
        "\n",
        "colors = plt.cycler(\"color\", plt.cm.viridis(np.linspace(0, 1, 4)))\n",
        "\n",
        "for k, col in zip(range(n_clusters_), colors):\n",
        "    class_members = labels == k\n",
        "    cluster_center = X[cluster_centers_indices[k]]\n",
        "    plt.scatter(\n",
        "        X[class_members, 0], X[class_members, 1], color=col[\"color\"], marker=\".\"\n",
        "    )\n",
        "    plt.scatter(\n",
        "        cluster_center[0], cluster_center[1], s=14, color=col[\"color\"], marker=\"o\"\n",
        "    )\n",
        "    for x in X[class_members]:\n",
        "        plt.plot(\n",
        "            [cluster_center[0], x[0]], [cluster_center[1], x[1]], color=col[\"color\"]\n",
        "        )\n",
        "\n",
        "plt.title(\"Estimated number of clusters: %d\" % n_clusters_)\n",
        "plt.show()"
      ],
      "metadata": {
        "id": "ZEEE0_bB8CUB"
      },
      "execution_count": null,
      "outputs": []
    },
    {
      "cell_type": "code",
      "source": [
        "from wordcloud import WordCloud"
      ],
      "metadata": {
        "id": "yJwPuoyz8y38"
      },
      "execution_count": null,
      "outputs": []
    },
    {
      "cell_type": "code",
      "source": [
        "with open('drive/MyDrive/Colab Notebooks/stopwordsita.txt') as file:\n",
        "  content=file.read()\n",
        "lines=content.split('\\n')\n",
        "swSet=set(lines)\n"
      ],
      "metadata": {
        "id": "mDbMuJhO-M9m"
      },
      "execution_count": null,
      "outputs": []
    },
    {
      "cell_type": "code",
      "source": [
        "labels=apModel.labels_\n",
        "cluster_labels = np.unique(labels)\n",
        "cluster_sizes = [(labels == c).sum() for c in cluster_labels]\n",
        "sizes_idx = np.argsort(cluster_sizes)[::-1][:5]\n",
        "\n",
        "# Plot dei risultati\n",
        "for i, c in enumerate(cluster_labels[sizes_idx]):\n",
        "    mask = (labels == c)\n",
        "    descrizioni_c = np.array(tot['text'])[mask]\n",
        "    text = \" \".join(descrizioni_c)\n",
        "    \n",
        "    wordcloud = WordCloud(width = 800, height = 800, \n",
        "                background_color ='white', \n",
        "                stopwords = swSet, \n",
        "                min_font_size = 10).generate(text)\n",
        "\n",
        "    plt.figure(figsize = (8, 8), facecolor = None) \n",
        "    plt.imshow(wordcloud) \n",
        "    plt.axis(\"off\") \n",
        "    plt.tight_layout(pad = 0)\n",
        "\n",
        "# Stampa dei 5 termini più comuni dei 5 cluster più grandi\n",
        "for i, c in enumerate(cluster_labels[sizes_idx]):\n",
        "    mask = (labels == c)\n",
        "    descrizioni_c = np.array(tot['text'])[mask]\n",
        "    text = \" \".join(descrizioni_c)\n",
        "    words = nltk.word_tokenize(text)\n",
        "    fdist = nltk.FreqDist(words)"
      ],
      "metadata": {
        "id": "NkUdHoHc8Qfs"
      },
      "execution_count": null,
      "outputs": []
    },
    {
      "cell_type": "code",
      "source": [
        "def search_events(query, model, lemmatizer):\n",
        "    features = get_wordnet_features(query)\n",
        "    query_vectors = []\n",
        "    for feature in features:\n",
        "        feature = lemmatizer.lemmatize(feature)\n",
        "        if feature in model.vocabulary_:\n",
        "            query_vectors.append(model.transform([feature]).toarray()[0])\n",
        "    query_vector = np.mean(query_vectors, axis=0)\n",
        "    events = model.predict(query_vector.reshape(1, -1))\n",
        "    return events\n",
        "\n",
        "lemmatizer = WordNetLemmatizer()\n",
        "events = search_events(\"alcool\", biRel2, lemmatizer)"
      ],
      "metadata": {
        "id": "lRILwr66mK87"
      },
      "execution_count": null,
      "outputs": []
    }
  ]
}