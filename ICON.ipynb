{
  "nbformat": 4,
  "nbformat_minor": 0,
  "metadata": {
    "colab": {
      "provenance": [],
      "collapsed_sections": [
        "eTz9oWxwFogj",
        "DwY_Pz15v7Dp",
        "L3qQdvsDjhm_"
      ],
      "mount_file_id": "1AGZI_pnaRSIkqrhA8aeccQZ63jueTayQ",
      "authorship_tag": "ABX9TyOPMlYvgsv4BNcoJ9NFUcuK",
      "include_colab_link": true
    },
    "kernelspec": {
      "name": "python3",
      "display_name": "Python 3"
    },
    "language_info": {
      "name": "python"
    }
  },
  "cells": [
    {
      "cell_type": "markdown",
      "metadata": {
        "id": "view-in-github",
        "colab_type": "text"
      },
      "source": [
        "<a href=\"https://colab.research.google.com/github/AleCongi/Esame-ICON-/blob/main/ICON.ipynb\" target=\"_parent\"><img src=\"https://colab.research.google.com/assets/colab-badge.svg\" alt=\"Open In Colab\"/></a>"
      ]
    },
    {
      "cell_type": "markdown",
      "source": [
        "#ICON"
      ],
      "metadata": {
        "id": "g3GCD6NAFsy9"
      }
    },
    {
      "cell_type": "code",
      "execution_count": 4,
      "metadata": {
        "colab": {
          "base_uri": "https://localhost:8080/",
          "height": 380
        },
        "id": "xUtfUST4Lhjw",
        "outputId": "e3fe8f37-d647-400a-f194-6178f4f12678"
      },
      "outputs": [
        {
          "output_type": "stream",
          "name": "stdout",
          "text": [
            "Drive already mounted at /content/drive; to attempt to forcibly remount, call drive.mount(\"/content/drive\", force_remount=True).\n"
          ]
        },
        {
          "output_type": "execute_result",
          "data": {
            "text/plain": [
              "                 id  ...                                               text\n",
              "0  1000187186721956  ...  Martedi 05 gennaio super tombolata al Barfly!\\...\n",
              "1  1007051849450711  ...                                                NaN\n",
              "2   100731190460200  ...  Ingresso free senza obbligo di consumazione,se...\n",
              "3  1014507045355357  ...  Giovedi 8 Marzo, Napulitanata \"celebra la donn...\n",
              "4  1015563648832823  ...  yn e lieta di presentare\\n\\nNapoolyn x Resilie...\n",
              "5  1021806692027608  ...  Serata live \\nVENERDI' 18 MARZO \\nUn piacevole...\n",
              "6  1023358881203820  ...  Quest'anno in occasione di san Valentino il ri...\n",
              "7  1026307021482635  ...              Menu adulti 30.00\\nMenu bambini 15.00\n",
              "8  1026761354178792  ...              Menu adulti 30.00\\nMenu bambini 15.00\n",
              "9   103006560538403  ...  La 1 Esposizione dei disegni di DIPSTER accomp...\n",
              "\n",
              "[10 rows x 7 columns]"
            ],
            "text/html": [
              "\n",
              "  <div id=\"df-07195c56-d539-44d7-a497-7b55c6c45b86\">\n",
              "    <div class=\"colab-df-container\">\n",
              "      <div>\n",
              "<style scoped>\n",
              "    .dataframe tbody tr th:only-of-type {\n",
              "        vertical-align: middle;\n",
              "    }\n",
              "\n",
              "    .dataframe tbody tr th {\n",
              "        vertical-align: top;\n",
              "    }\n",
              "\n",
              "    .dataframe thead th {\n",
              "        text-align: right;\n",
              "    }\n",
              "</style>\n",
              "<table border=\"1\" class=\"dataframe\">\n",
              "  <thead>\n",
              "    <tr style=\"text-align: right;\">\n",
              "      <th></th>\n",
              "      <th>id</th>\n",
              "      <th>fun</th>\n",
              "      <th>food</th>\n",
              "      <th>culture</th>\n",
              "      <th>isOpen</th>\n",
              "      <th>isMusic</th>\n",
              "      <th>text</th>\n",
              "    </tr>\n",
              "  </thead>\n",
              "  <tbody>\n",
              "    <tr>\n",
              "      <th>0</th>\n",
              "      <td>1000187186721956</td>\n",
              "      <td>1</td>\n",
              "      <td>0</td>\n",
              "      <td>1</td>\n",
              "      <td>-1</td>\n",
              "      <td>0</td>\n",
              "      <td>Martedi 05 gennaio super tombolata al Barfly!\\...</td>\n",
              "    </tr>\n",
              "    <tr>\n",
              "      <th>1</th>\n",
              "      <td>1007051849450711</td>\n",
              "      <td>0</td>\n",
              "      <td>0</td>\n",
              "      <td>0</td>\n",
              "      <td>-1</td>\n",
              "      <td>0</td>\n",
              "      <td>NaN</td>\n",
              "    </tr>\n",
              "    <tr>\n",
              "      <th>2</th>\n",
              "      <td>100731190460200</td>\n",
              "      <td>0</td>\n",
              "      <td>0</td>\n",
              "      <td>1</td>\n",
              "      <td>-1</td>\n",
              "      <td>1</td>\n",
              "      <td>Ingresso free senza obbligo di consumazione,se...</td>\n",
              "    </tr>\n",
              "    <tr>\n",
              "      <th>3</th>\n",
              "      <td>1014507045355357</td>\n",
              "      <td>0</td>\n",
              "      <td>0</td>\n",
              "      <td>0</td>\n",
              "      <td>-1</td>\n",
              "      <td>1</td>\n",
              "      <td>Giovedi 8 Marzo, Napulitanata \"celebra la donn...</td>\n",
              "    </tr>\n",
              "    <tr>\n",
              "      <th>4</th>\n",
              "      <td>1015563648832823</td>\n",
              "      <td>0</td>\n",
              "      <td>0</td>\n",
              "      <td>1</td>\n",
              "      <td>-1</td>\n",
              "      <td>1</td>\n",
              "      <td>yn e lieta di presentare\\n\\nNapoolyn x Resilie...</td>\n",
              "    </tr>\n",
              "    <tr>\n",
              "      <th>5</th>\n",
              "      <td>1021806692027608</td>\n",
              "      <td>0</td>\n",
              "      <td>0</td>\n",
              "      <td>0</td>\n",
              "      <td>-1</td>\n",
              "      <td>1</td>\n",
              "      <td>Serata live \\nVENERDI' 18 MARZO \\nUn piacevole...</td>\n",
              "    </tr>\n",
              "    <tr>\n",
              "      <th>6</th>\n",
              "      <td>1023358881203820</td>\n",
              "      <td>1</td>\n",
              "      <td>0</td>\n",
              "      <td>0</td>\n",
              "      <td>-1</td>\n",
              "      <td>0</td>\n",
              "      <td>Quest'anno in occasione di san Valentino il ri...</td>\n",
              "    </tr>\n",
              "    <tr>\n",
              "      <th>7</th>\n",
              "      <td>1026307021482635</td>\n",
              "      <td>1</td>\n",
              "      <td>0</td>\n",
              "      <td>1</td>\n",
              "      <td>-1</td>\n",
              "      <td>0</td>\n",
              "      <td>Menu adulti 30.00\\nMenu bambini 15.00</td>\n",
              "    </tr>\n",
              "    <tr>\n",
              "      <th>8</th>\n",
              "      <td>1026761354178792</td>\n",
              "      <td>1</td>\n",
              "      <td>0</td>\n",
              "      <td>1</td>\n",
              "      <td>-1</td>\n",
              "      <td>0</td>\n",
              "      <td>Menu adulti 30.00\\nMenu bambini 15.00</td>\n",
              "    </tr>\n",
              "    <tr>\n",
              "      <th>9</th>\n",
              "      <td>103006560538403</td>\n",
              "      <td>0</td>\n",
              "      <td>1</td>\n",
              "      <td>1</td>\n",
              "      <td>-1</td>\n",
              "      <td>1</td>\n",
              "      <td>La 1 Esposizione dei disegni di DIPSTER accomp...</td>\n",
              "    </tr>\n",
              "  </tbody>\n",
              "</table>\n",
              "</div>\n",
              "      <button class=\"colab-df-convert\" onclick=\"convertToInteractive('df-07195c56-d539-44d7-a497-7b55c6c45b86')\"\n",
              "              title=\"Convert this dataframe to an interactive table.\"\n",
              "              style=\"display:none;\">\n",
              "        \n",
              "  <svg xmlns=\"http://www.w3.org/2000/svg\" height=\"24px\"viewBox=\"0 0 24 24\"\n",
              "       width=\"24px\">\n",
              "    <path d=\"M0 0h24v24H0V0z\" fill=\"none\"/>\n",
              "    <path d=\"M18.56 5.44l.94 2.06.94-2.06 2.06-.94-2.06-.94-.94-2.06-.94 2.06-2.06.94zm-11 1L8.5 8.5l.94-2.06 2.06-.94-2.06-.94L8.5 2.5l-.94 2.06-2.06.94zm10 10l.94 2.06.94-2.06 2.06-.94-2.06-.94-.94-2.06-.94 2.06-2.06.94z\"/><path d=\"M17.41 7.96l-1.37-1.37c-.4-.4-.92-.59-1.43-.59-.52 0-1.04.2-1.43.59L10.3 9.45l-7.72 7.72c-.78.78-.78 2.05 0 2.83L4 21.41c.39.39.9.59 1.41.59.51 0 1.02-.2 1.41-.59l7.78-7.78 2.81-2.81c.8-.78.8-2.07 0-2.86zM5.41 20L4 18.59l7.72-7.72 1.47 1.35L5.41 20z\"/>\n",
              "  </svg>\n",
              "      </button>\n",
              "      \n",
              "  <style>\n",
              "    .colab-df-container {\n",
              "      display:flex;\n",
              "      flex-wrap:wrap;\n",
              "      gap: 12px;\n",
              "    }\n",
              "\n",
              "    .colab-df-convert {\n",
              "      background-color: #E8F0FE;\n",
              "      border: none;\n",
              "      border-radius: 50%;\n",
              "      cursor: pointer;\n",
              "      display: none;\n",
              "      fill: #1967D2;\n",
              "      height: 32px;\n",
              "      padding: 0 0 0 0;\n",
              "      width: 32px;\n",
              "    }\n",
              "\n",
              "    .colab-df-convert:hover {\n",
              "      background-color: #E2EBFA;\n",
              "      box-shadow: 0px 1px 2px rgba(60, 64, 67, 0.3), 0px 1px 3px 1px rgba(60, 64, 67, 0.15);\n",
              "      fill: #174EA6;\n",
              "    }\n",
              "\n",
              "    [theme=dark] .colab-df-convert {\n",
              "      background-color: #3B4455;\n",
              "      fill: #D2E3FC;\n",
              "    }\n",
              "\n",
              "    [theme=dark] .colab-df-convert:hover {\n",
              "      background-color: #434B5C;\n",
              "      box-shadow: 0px 1px 3px 1px rgba(0, 0, 0, 0.15);\n",
              "      filter: drop-shadow(0px 1px 2px rgba(0, 0, 0, 0.3));\n",
              "      fill: #FFFFFF;\n",
              "    }\n",
              "  </style>\n",
              "\n",
              "      <script>\n",
              "        const buttonEl =\n",
              "          document.querySelector('#df-07195c56-d539-44d7-a497-7b55c6c45b86 button.colab-df-convert');\n",
              "        buttonEl.style.display =\n",
              "          google.colab.kernel.accessAllowed ? 'block' : 'none';\n",
              "\n",
              "        async function convertToInteractive(key) {\n",
              "          const element = document.querySelector('#df-07195c56-d539-44d7-a497-7b55c6c45b86');\n",
              "          const dataTable =\n",
              "            await google.colab.kernel.invokeFunction('convertToInteractive',\n",
              "                                                     [key], {});\n",
              "          if (!dataTable) return;\n",
              "\n",
              "          const docLinkHtml = 'Like what you see? Visit the ' +\n",
              "            '<a target=\"_blank\" href=https://colab.research.google.com/notebooks/data_table.ipynb>data table notebook</a>'\n",
              "            + ' to learn more about interactive tables.';\n",
              "          element.innerHTML = '';\n",
              "          dataTable['output_type'] = 'display_data';\n",
              "          await google.colab.output.renderOutput(dataTable, element);\n",
              "          const docLink = document.createElement('div');\n",
              "          docLink.innerHTML = docLinkHtml;\n",
              "          element.appendChild(docLink);\n",
              "        }\n",
              "      </script>\n",
              "    </div>\n",
              "  </div>\n",
              "  "
            ]
          },
          "metadata": {},
          "execution_count": 4
        }
      ],
      "source": [
        "import numpy as np\n",
        "import pandas as pd\n",
        "import seaborn as sb\n",
        "from sklearn.model_selection import train_test_split\n",
        "\n",
        "from google.colab import drive\n",
        "drive.mount('/content/drive', force_remount=False)\n",
        "\n",
        "tot=pd.read_csv('/content/drive/MyDrive/Colab Notebooks/eventsFixed.csv')\n",
        "\n",
        "tot.head(10)"
      ]
    },
    {
      "cell_type": "code",
      "source": [
        "tot.count()"
      ],
      "metadata": {
        "colab": {
          "base_uri": "https://localhost:8080/"
        },
        "id": "hhs99Yrh5J99",
        "outputId": "9cb642a4-e32a-46ef-a046-712cce48a0cb"
      },
      "execution_count": 5,
      "outputs": [
        {
          "output_type": "execute_result",
          "data": {
            "text/plain": [
              "id         7688\n",
              "fun        7688\n",
              "food       7688\n",
              "culture    7688\n",
              "isOpen     7688\n",
              "isMusic    7688\n",
              "text       7170\n",
              "dtype: int64"
            ]
          },
          "metadata": {},
          "execution_count": 5
        }
      ]
    },
    {
      "cell_type": "markdown",
      "source": [
        "È chiaro che ci siano dei testi nulli. È possibile che siano eventi senza descrizione. Me ne accerto:"
      ],
      "metadata": {
        "id": "hj30YqWGCDRu"
      }
    },
    {
      "cell_type": "code",
      "source": [
        "sb.heatmap(tot.isna(), cbar=False)"
      ],
      "metadata": {
        "colab": {
          "base_uri": "https://localhost:8080/",
          "height": 287
        },
        "id": "CudRXskiAW-5",
        "outputId": "f58b4285-5e46-41d8-c0cc-b8fc6959a859"
      },
      "execution_count": 6,
      "outputs": [
        {
          "output_type": "execute_result",
          "data": {
            "text/plain": [
              "<matplotlib.axes._subplots.AxesSubplot at 0x7f2571404820>"
            ]
          },
          "metadata": {},
          "execution_count": 6
        },
        {
          "output_type": "display_data",
          "data": {
            "text/plain": [
              "<Figure size 432x288 with 1 Axes>"
            ],
            "image/png": "[encoded data removed]"
          },
          "metadata": {
            "needs_background": "light"
          }
        }
      ]
    },
    {
      "cell_type": "markdown",
      "source": [
        "##Quickfix"
      ],
      "metadata": {
        "id": "eTz9oWxwFogj"
      }
    },
    {
      "cell_type": "markdown",
      "source": [
        "Sapendo che \"id\" è la nostra colonna primaria, controllo che il numero di valori unici nella colonna primaria sia uguale al numero di righe. Questo mi permette di accertarmi di non avere la stessa riga per più di una volta nel mio dataset."
      ],
      "metadata": {
        "id": "Gh0B9OgaCTmg"
      }
    },
    {
      "cell_type": "code",
      "source": [
        "tot['id'].nunique() == len(tot['id'])"
      ],
      "metadata": {
        "colab": {
          "base_uri": "https://localhost:8080/"
        },
        "id": "jqzIa_MkB9Ma",
        "outputId": "2b862747-a7f2-4643-a173-69846da8cdc4"
      },
      "execution_count": 7,
      "outputs": [
        {
          "output_type": "execute_result",
          "data": {
            "text/plain": [
              "False"
            ]
          },
          "metadata": {},
          "execution_count": 7
        }
      ]
    },
    {
      "cell_type": "code",
      "source": [
        "for index, row in tot.iterrows():\n",
        "  \n",
        "  try:\n",
        "    trashId = row['id']\n",
        "    trash = row['text'].lower()\n",
        "  except AttributeError as ae:\n",
        "    tot.drop(tot[tot['id'] == trashId].index, inplace=True)\n",
        "\n",
        "tot = tot.drop_duplicates(subset=\"id\", keep='last')\n",
        "tot = tot.drop_duplicates(subset=\"text\", keep='last')"
      ],
      "metadata": {
        "id": "-MwpT4sA8W8t"
      },
      "execution_count": 8,
      "outputs": []
    },
    {
      "cell_type": "code",
      "source": [
        "tot['id'].nunique() == len(tot['id'])"
      ],
      "metadata": {
        "colab": {
          "base_uri": "https://localhost:8080/"
        },
        "id": "2cl7KnrbBuBZ",
        "outputId": "615c3fc7-c460-4e9b-97cb-75dee8f6cf01"
      },
      "execution_count": 9,
      "outputs": [
        {
          "output_type": "execute_result",
          "data": {
            "text/plain": [
              "True"
            ]
          },
          "metadata": {},
          "execution_count": 9
        }
      ]
    },
    {
      "cell_type": "code",
      "source": [
        "tot.count()"
      ],
      "metadata": {
        "colab": {
          "base_uri": "https://localhost:8080/"
        },
        "id": "ptB1Oeqf8ffG",
        "outputId": "6115d524-6e0b-4c8f-d6f7-1eaa3f501d73"
      },
      "execution_count": 10,
      "outputs": [
        {
          "output_type": "execute_result",
          "data": {
            "text/plain": [
              "id         6327\n",
              "fun        6327\n",
              "food       6327\n",
              "culture    6327\n",
              "isOpen     6327\n",
              "isMusic    6327\n",
              "text       6327\n",
              "dtype: int64"
            ]
          },
          "metadata": {},
          "execution_count": 10
        }
      ]
    },
    {
      "cell_type": "markdown",
      "source": [
        "droppiamo"
      ],
      "metadata": {
        "id": "rK7yS1pp47E7"
      }
    },
    {
      "cell_type": "code",
      "source": [
        "tot.drop('isOpen',inplace=True,axis=1)\n",
        "tot.drop('id',inplace=True,axis=1)\n",
        "tot"
      ],
      "metadata": {
        "colab": {
          "base_uri": "https://localhost:8080/",
          "height": 0
        },
        "id": "V-9T-F_2B2GM",
        "outputId": "7bf0989c-6917-40c0-b228-a59537e16760"
      },
      "execution_count": 11,
      "outputs": [
        {
          "output_type": "execute_result",
          "data": {
            "text/plain": [
              "      fun  food  ...  isMusic                                               text\n",
              "0       1     0  ...        0  Martedi 05 gennaio super tombolata al Barfly!\\...\n",
              "2       0     0  ...        1  Ingresso free senza obbligo di consumazione,se...\n",
              "3       0     0  ...        1  Giovedi 8 Marzo, Napulitanata \"celebra la donn...\n",
              "4       0     0  ...        1  yn e lieta di presentare\\n\\nNapoolyn x Resilie...\n",
              "5       0     0  ...        1  Serata live \\nVENERDI' 18 MARZO \\nUn piacevole...\n",
              "...   ...   ...  ...      ...                                                ...\n",
              "7683    0     0  ...        1  Hot Club Roma Trio\\n\\nMoreno Viglione chitarra...\n",
              "7684    0     1  ...        0  Presentazione del libro:\\n \"Tasmania\" (Einaudi...\n",
              "7685    0     1  ...        1  In occasione delle GIORNATE EUROPEE DEL PATRIM...\n",
              "7686    0     0  ...        0  Vieni a Danzare gratuitamente per un giorno co...\n",
              "7687    0     1  ...        0  Il convegno, in linea col precedente Leducazio...\n",
              "\n",
              "[6327 rows x 5 columns]"
            ],
            "text/html": [
              "\n",
              "  <div id=\"df-79e619da-4dd3-4a86-bff8-bbd7c5ed1e5f\">\n",
              "    <div class=\"colab-df-container\">\n",
              "      <div>\n",
              "<style scoped>\n",
              "    .dataframe tbody tr th:only-of-type {\n",
              "        vertical-align: middle;\n",
              "    }\n",
              "\n",
              "    .dataframe tbody tr th {\n",
              "        vertical-align: top;\n",
              "    }\n",
              "\n",
              "    .dataframe thead th {\n",
              "        text-align: right;\n",
              "    }\n",
              "</style>\n",
              "<table border=\"1\" class=\"dataframe\">\n",
              "  <thead>\n",
              "    <tr style=\"text-align: right;\">\n",
              "      <th></th>\n",
              "      <th>fun</th>\n",
              "      <th>food</th>\n",
              "      <th>culture</th>\n",
              "      <th>isMusic</th>\n",
              "      <th>text</th>\n",
              "    </tr>\n",
              "  </thead>\n",
              "  <tbody>\n",
              "    <tr>\n",
              "      <th>0</th>\n",
              "      <td>1</td>\n",
              "      <td>0</td>\n",
              "      <td>1</td>\n",
              "      <td>0</td>\n",
              "      <td>Martedi 05 gennaio super tombolata al Barfly!\\...</td>\n",
              "    </tr>\n",
              "    <tr>\n",
              "      <th>2</th>\n",
              "      <td>0</td>\n",
              "      <td>0</td>\n",
              "      <td>1</td>\n",
              "      <td>1</td>\n",
              "      <td>Ingresso free senza obbligo di consumazione,se...</td>\n",
              "    </tr>\n",
              "    <tr>\n",
              "      <th>3</th>\n",
              "      <td>0</td>\n",
              "      <td>0</td>\n",
              "      <td>0</td>\n",
              "      <td>1</td>\n",
              "      <td>Giovedi 8 Marzo, Napulitanata \"celebra la donn...</td>\n",
              "    </tr>\n",
              "    <tr>\n",
              "      <th>4</th>\n",
              "      <td>0</td>\n",
              "      <td>0</td>\n",
              "      <td>1</td>\n",
              "      <td>1</td>\n",
              "      <td>yn e lieta di presentare\\n\\nNapoolyn x Resilie...</td>\n",
              "    </tr>\n",
              "    <tr>\n",
              "      <th>5</th>\n",
              "      <td>0</td>\n",
              "      <td>0</td>\n",
              "      <td>0</td>\n",
              "      <td>1</td>\n",
              "      <td>Serata live \\nVENERDI' 18 MARZO \\nUn piacevole...</td>\n",
              "    </tr>\n",
              "    <tr>\n",
              "      <th>...</th>\n",
              "      <td>...</td>\n",
              "      <td>...</td>\n",
              "      <td>...</td>\n",
              "      <td>...</td>\n",
              "      <td>...</td>\n",
              "    </tr>\n",
              "    <tr>\n",
              "      <th>7683</th>\n",
              "      <td>0</td>\n",
              "      <td>0</td>\n",
              "      <td>0</td>\n",
              "      <td>1</td>\n",
              "      <td>Hot Club Roma Trio\\n\\nMoreno Viglione chitarra...</td>\n",
              "    </tr>\n",
              "    <tr>\n",
              "      <th>7684</th>\n",
              "      <td>0</td>\n",
              "      <td>1</td>\n",
              "      <td>0</td>\n",
              "      <td>0</td>\n",
              "      <td>Presentazione del libro:\\n \"Tasmania\" (Einaudi...</td>\n",
              "    </tr>\n",
              "    <tr>\n",
              "      <th>7685</th>\n",
              "      <td>0</td>\n",
              "      <td>1</td>\n",
              "      <td>1</td>\n",
              "      <td>1</td>\n",
              "      <td>In occasione delle GIORNATE EUROPEE DEL PATRIM...</td>\n",
              "    </tr>\n",
              "    <tr>\n",
              "      <th>7686</th>\n",
              "      <td>0</td>\n",
              "      <td>0</td>\n",
              "      <td>1</td>\n",
              "      <td>0</td>\n",
              "      <td>Vieni a Danzare gratuitamente per un giorno co...</td>\n",
              "    </tr>\n",
              "    <tr>\n",
              "      <th>7687</th>\n",
              "      <td>0</td>\n",
              "      <td>1</td>\n",
              "      <td>0</td>\n",
              "      <td>0</td>\n",
              "      <td>Il convegno, in linea col precedente Leducazio...</td>\n",
              "    </tr>\n",
              "  </tbody>\n",
              "</table>\n",
              "<p>6327 rows × 5 columns</p>\n",
              "</div>\n",
              "      <button class=\"colab-df-convert\" onclick=\"convertToInteractive('df-79e619da-4dd3-4a86-bff8-bbd7c5ed1e5f')\"\n",
              "              title=\"Convert this dataframe to an interactive table.\"\n",
              "              style=\"display:none;\">\n",
              "        \n",
              "  <svg xmlns=\"http://www.w3.org/2000/svg\" height=\"24px\"viewBox=\"0 0 24 24\"\n",
              "       width=\"24px\">\n",
              "    <path d=\"M0 0h24v24H0V0z\" fill=\"none\"/>\n",
              "    <path d=\"M18.56 5.44l.94 2.06.94-2.06 2.06-.94-2.06-.94-.94-2.06-.94 2.06-2.06.94zm-11 1L8.5 8.5l.94-2.06 2.06-.94-2.06-.94L8.5 2.5l-.94 2.06-2.06.94zm10 10l.94 2.06.94-2.06 2.06-.94-2.06-.94-.94-2.06-.94 2.06-2.06.94z\"/><path d=\"M17.41 7.96l-1.37-1.37c-.4-.4-.92-.59-1.43-.59-.52 0-1.04.2-1.43.59L10.3 9.45l-7.72 7.72c-.78.78-.78 2.05 0 2.83L4 21.41c.39.39.9.59 1.41.59.51 0 1.02-.2 1.41-.59l7.78-7.78 2.81-2.81c.8-.78.8-2.07 0-2.86zM5.41 20L4 18.59l7.72-7.72 1.47 1.35L5.41 20z\"/>\n",
              "  </svg>\n",
              "      </button>\n",
              "      \n",
              "  <style>\n",
              "    .colab-df-container {\n",
              "      display:flex;\n",
              "      flex-wrap:wrap;\n",
              "      gap: 12px;\n",
              "    }\n",
              "\n",
              "    .colab-df-convert {\n",
              "      background-color: #E8F0FE;\n",
              "      border: none;\n",
              "      border-radius: 50%;\n",
              "      cursor: pointer;\n",
              "      display: none;\n",
              "      fill: #1967D2;\n",
              "      height: 32px;\n",
              "      padding: 0 0 0 0;\n",
              "      width: 32px;\n",
              "    }\n",
              "\n",
              "    .colab-df-convert:hover {\n",
              "      background-color: #E2EBFA;\n",
              "      box-shadow: 0px 1px 2px rgba(60, 64, 67, 0.3), 0px 1px 3px 1px rgba(60, 64, 67, 0.15);\n",
              "      fill: #174EA6;\n",
              "    }\n",
              "\n",
              "    [theme=dark] .colab-df-convert {\n",
              "      background-color: #3B4455;\n",
              "      fill: #D2E3FC;\n",
              "    }\n",
              "\n",
              "    [theme=dark] .colab-df-convert:hover {\n",
              "      background-color: #434B5C;\n",
              "      box-shadow: 0px 1px 3px 1px rgba(0, 0, 0, 0.15);\n",
              "      filter: drop-shadow(0px 1px 2px rgba(0, 0, 0, 0.3));\n",
              "      fill: #FFFFFF;\n",
              "    }\n",
              "  </style>\n",
              "\n",
              "      <script>\n",
              "        const buttonEl =\n",
              "          document.querySelector('#df-79e619da-4dd3-4a86-bff8-bbd7c5ed1e5f button.colab-df-convert');\n",
              "        buttonEl.style.display =\n",
              "          google.colab.kernel.accessAllowed ? 'block' : 'none';\n",
              "\n",
              "        async function convertToInteractive(key) {\n",
              "          const element = document.querySelector('#df-79e619da-4dd3-4a86-bff8-bbd7c5ed1e5f');\n",
              "          const dataTable =\n",
              "            await google.colab.kernel.invokeFunction('convertToInteractive',\n",
              "                                                     [key], {});\n",
              "          if (!dataTable) return;\n",
              "\n",
              "          const docLinkHtml = 'Like what you see? Visit the ' +\n",
              "            '<a target=\"_blank\" href=https://colab.research.google.com/notebooks/data_table.ipynb>data table notebook</a>'\n",
              "            + ' to learn more about interactive tables.';\n",
              "          element.innerHTML = '';\n",
              "          dataTable['output_type'] = 'display_data';\n",
              "          await google.colab.output.renderOutput(dataTable, element);\n",
              "          const docLink = document.createElement('div');\n",
              "          docLink.innerHTML = docLinkHtml;\n",
              "          element.appendChild(docLink);\n",
              "        }\n",
              "      </script>\n",
              "    </div>\n",
              "  </div>\n",
              "  "
            ]
          },
          "metadata": {},
          "execution_count": 11
        }
      ]
    },
    {
      "cell_type": "code",
      "source": [
        "'''from imblearn.under_sampling import RandomUnderSampler\n",
        "colonna_bilanciamento = tot[\"fun\"]\n",
        "classe_da_bilanciare = tot[colonna_bilanciamento == 0]\n",
        "\n",
        "# Crea un'istanza di RandomUnderSampler\n",
        "rus = RandomUnderSampler()\n",
        "\n",
        "# Esegui il re-sampling della colonna\n",
        "X_resampled, y_resampled = rus.fit_resample(classe_da_bilanciare.values.reshape(-1, 1), classe_da_bilanciare)\n",
        "\n",
        "# Sostituisci i valori bilanciati nella colonna originale\n",
        "tot.loc[tot[colonna_bilanciamento == 0].index, \"fun\"] = X_resampled.ravel()'''"
      ],
      "metadata": {
        "colab": {
          "base_uri": "https://localhost:8080/",
          "height": 0
        },
        "id": "f2HPmDMz5CTw",
        "outputId": "0a7cebde-0e6b-40da-f5d5-37098750f5a4"
      },
      "execution_count": 12,
      "outputs": [
        {
          "output_type": "execute_result",
          "data": {
            "text/plain": [
              "'from imblearn.under_sampling import RandomUnderSampler\\ncolonna_bilanciamento = tot[\"fun\"]\\nclasse_da_bilanciare = tot[colonna_bilanciamento == 0]\\n\\n# Crea un\\'istanza di RandomUnderSampler\\nrus = RandomUnderSampler()\\n\\n# Esegui il re-sampling della colonna\\nX_resampled, y_resampled = rus.fit_resample(classe_da_bilanciare.values.reshape(-1, 1), classe_da_bilanciare)\\n\\n# Sostituisci i valori bilanciati nella colonna originale\\ntot.loc[tot[colonna_bilanciamento == 0].index, \"fun\"] = X_resampled.ravel()'"
            ],
            "application/vnd.google.colaboratory.intrinsic+json": {
              "type": "string"
            }
          },
          "metadata": {},
          "execution_count": 12
        }
      ]
    },
    {
      "cell_type": "markdown",
      "source": [
        "##SomePlots"
      ],
      "metadata": {
        "id": "DwY_Pz15v7Dp"
      }
    },
    {
      "cell_type": "code",
      "source": [
        "import matplotlib.pyplot as plt\n",
        "import seaborn as sns"
      ],
      "metadata": {
        "id": "f52ywSESwPmP"
      },
      "execution_count": 13,
      "outputs": []
    },
    {
      "cell_type": "markdown",
      "source": [
        "Ecco i primi elementi del dataset."
      ],
      "metadata": {
        "id": "dvJ9Lm8aweaN"
      }
    },
    {
      "cell_type": "code",
      "source": [
        "tot.head()"
      ],
      "metadata": {
        "colab": {
          "base_uri": "https://localhost:8080/",
          "height": 0
        },
        "id": "LY8K8O1KwXSZ",
        "outputId": "631e6616-9921-48af-f0b8-96dca10099d8"
      },
      "execution_count": 14,
      "outputs": [
        {
          "output_type": "execute_result",
          "data": {
            "text/plain": [
              "   fun  food  ...  isMusic                                               text\n",
              "0    1     0  ...        0  Martedi 05 gennaio super tombolata al Barfly!\\...\n",
              "2    0     0  ...        1  Ingresso free senza obbligo di consumazione,se...\n",
              "3    0     0  ...        1  Giovedi 8 Marzo, Napulitanata \"celebra la donn...\n",
              "4    0     0  ...        1  yn e lieta di presentare\\n\\nNapoolyn x Resilie...\n",
              "5    0     0  ...        1  Serata live \\nVENERDI' 18 MARZO \\nUn piacevole...\n",
              "\n",
              "[5 rows x 5 columns]"
            ],
            "text/html": [
              "\n",
              "  <div id=\"df-03adc0af-5e86-455a-9dd2-34e1b3426234\">\n",
              "    <div class=\"colab-df-container\">\n",
              "      <div>\n",
              "<style scoped>\n",
              "    .dataframe tbody tr th:only-of-type {\n",
              "        vertical-align: middle;\n",
              "    }\n",
              "\n",
              "    .dataframe tbody tr th {\n",
              "        vertical-align: top;\n",
              "    }\n",
              "\n",
              "    .dataframe thead th {\n",
              "        text-align: right;\n",
              "    }\n",
              "</style>\n",
              "<table border=\"1\" class=\"dataframe\">\n",
              "  <thead>\n",
              "    <tr style=\"text-align: right;\">\n",
              "      <th></th>\n",
              "      <th>fun</th>\n",
              "      <th>food</th>\n",
              "      <th>culture</th>\n",
              "      <th>isMusic</th>\n",
              "      <th>text</th>\n",
              "    </tr>\n",
              "  </thead>\n",
              "  <tbody>\n",
              "    <tr>\n",
              "      <th>0</th>\n",
              "      <td>1</td>\n",
              "      <td>0</td>\n",
              "      <td>1</td>\n",
              "      <td>0</td>\n",
              "      <td>Martedi 05 gennaio super tombolata al Barfly!\\...</td>\n",
              "    </tr>\n",
              "    <tr>\n",
              "      <th>2</th>\n",
              "      <td>0</td>\n",
              "      <td>0</td>\n",
              "      <td>1</td>\n",
              "      <td>1</td>\n",
              "      <td>Ingresso free senza obbligo di consumazione,se...</td>\n",
              "    </tr>\n",
              "    <tr>\n",
              "      <th>3</th>\n",
              "      <td>0</td>\n",
              "      <td>0</td>\n",
              "      <td>0</td>\n",
              "      <td>1</td>\n",
              "      <td>Giovedi 8 Marzo, Napulitanata \"celebra la donn...</td>\n",
              "    </tr>\n",
              "    <tr>\n",
              "      <th>4</th>\n",
              "      <td>0</td>\n",
              "      <td>0</td>\n",
              "      <td>1</td>\n",
              "      <td>1</td>\n",
              "      <td>yn e lieta di presentare\\n\\nNapoolyn x Resilie...</td>\n",
              "    </tr>\n",
              "    <tr>\n",
              "      <th>5</th>\n",
              "      <td>0</td>\n",
              "      <td>0</td>\n",
              "      <td>0</td>\n",
              "      <td>1</td>\n",
              "      <td>Serata live \\nVENERDI' 18 MARZO \\nUn piacevole...</td>\n",
              "    </tr>\n",
              "  </tbody>\n",
              "</table>\n",
              "</div>\n",
              "      <button class=\"colab-df-convert\" onclick=\"convertToInteractive('df-03adc0af-5e86-455a-9dd2-34e1b3426234')\"\n",
              "              title=\"Convert this dataframe to an interactive table.\"\n",
              "              style=\"display:none;\">\n",
              "        \n",
              "  <svg xmlns=\"http://www.w3.org/2000/svg\" height=\"24px\"viewBox=\"0 0 24 24\"\n",
              "       width=\"24px\">\n",
              "    <path d=\"M0 0h24v24H0V0z\" fill=\"none\"/>\n",
              "    <path d=\"M18.56 5.44l.94 2.06.94-2.06 2.06-.94-2.06-.94-.94-2.06-.94 2.06-2.06.94zm-11 1L8.5 8.5l.94-2.06 2.06-.94-2.06-.94L8.5 2.5l-.94 2.06-2.06.94zm10 10l.94 2.06.94-2.06 2.06-.94-2.06-.94-.94-2.06-.94 2.06-2.06.94z\"/><path d=\"M17.41 7.96l-1.37-1.37c-.4-.4-.92-.59-1.43-.59-.52 0-1.04.2-1.43.59L10.3 9.45l-7.72 7.72c-.78.78-.78 2.05 0 2.83L4 21.41c.39.39.9.59 1.41.59.51 0 1.02-.2 1.41-.59l7.78-7.78 2.81-2.81c.8-.78.8-2.07 0-2.86zM5.41 20L4 18.59l7.72-7.72 1.47 1.35L5.41 20z\"/>\n",
              "  </svg>\n",
              "      </button>\n",
              "      \n",
              "  <style>\n",
              "    .colab-df-container {\n",
              "      display:flex;\n",
              "      flex-wrap:wrap;\n",
              "      gap: 12px;\n",
              "    }\n",
              "\n",
              "    .colab-df-convert {\n",
              "      background-color: #E8F0FE;\n",
              "      border: none;\n",
              "      border-radius: 50%;\n",
              "      cursor: pointer;\n",
              "      display: none;\n",
              "      fill: #1967D2;\n",
              "      height: 32px;\n",
              "      padding: 0 0 0 0;\n",
              "      width: 32px;\n",
              "    }\n",
              "\n",
              "    .colab-df-convert:hover {\n",
              "      background-color: #E2EBFA;\n",
              "      box-shadow: 0px 1px 2px rgba(60, 64, 67, 0.3), 0px 1px 3px 1px rgba(60, 64, 67, 0.15);\n",
              "      fill: #174EA6;\n",
              "    }\n",
              "\n",
              "    [theme=dark] .colab-df-convert {\n",
              "      background-color: #3B4455;\n",
              "      fill: #D2E3FC;\n",
              "    }\n",
              "\n",
              "    [theme=dark] .colab-df-convert:hover {\n",
              "      background-color: #434B5C;\n",
              "      box-shadow: 0px 1px 3px 1px rgba(0, 0, 0, 0.15);\n",
              "      filter: drop-shadow(0px 1px 2px rgba(0, 0, 0, 0.3));\n",
              "      fill: #FFFFFF;\n",
              "    }\n",
              "  </style>\n",
              "\n",
              "      <script>\n",
              "        const buttonEl =\n",
              "          document.querySelector('#df-03adc0af-5e86-455a-9dd2-34e1b3426234 button.colab-df-convert');\n",
              "        buttonEl.style.display =\n",
              "          google.colab.kernel.accessAllowed ? 'block' : 'none';\n",
              "\n",
              "        async function convertToInteractive(key) {\n",
              "          const element = document.querySelector('#df-03adc0af-5e86-455a-9dd2-34e1b3426234');\n",
              "          const dataTable =\n",
              "            await google.colab.kernel.invokeFunction('convertToInteractive',\n",
              "                                                     [key], {});\n",
              "          if (!dataTable) return;\n",
              "\n",
              "          const docLinkHtml = 'Like what you see? Visit the ' +\n",
              "            '<a target=\"_blank\" href=https://colab.research.google.com/notebooks/data_table.ipynb>data table notebook</a>'\n",
              "            + ' to learn more about interactive tables.';\n",
              "          element.innerHTML = '';\n",
              "          dataTable['output_type'] = 'display_data';\n",
              "          await google.colab.output.renderOutput(dataTable, element);\n",
              "          const docLink = document.createElement('div');\n",
              "          docLink.innerHTML = docLinkHtml;\n",
              "          element.appendChild(docLink);\n",
              "        }\n",
              "      </script>\n",
              "    </div>\n",
              "  </div>\n",
              "  "
            ]
          },
          "metadata": {},
          "execution_count": 14
        }
      ]
    },
    {
      "cell_type": "code",
      "source": [
        "tot.dtypes"
      ],
      "metadata": {
        "colab": {
          "base_uri": "https://localhost:8080/"
        },
        "id": "DUBObwy6w4FS",
        "outputId": "e818462d-e17b-4e8d-c3a0-b8bddec4f6a6"
      },
      "execution_count": 15,
      "outputs": [
        {
          "output_type": "execute_result",
          "data": {
            "text/plain": [
              "fun         int64\n",
              "food        int64\n",
              "culture     int64\n",
              "isMusic     int64\n",
              "text       object\n",
              "dtype: object"
            ]
          },
          "metadata": {},
          "execution_count": 15
        }
      ]
    },
    {
      "cell_type": "code",
      "source": [
        "sns.countplot(tot['fun'])"
      ],
      "metadata": {
        "colab": {
          "base_uri": "https://localhost:8080/",
          "height": 0
        },
        "id": "8g71sbx2w420",
        "outputId": "b490fcdf-d4c0-4e08-c1a5-93587a3372b8"
      },
      "execution_count": 16,
      "outputs": [
        {
          "output_type": "stream",
          "name": "stderr",
          "text": [
            "/usr/local/lib/python3.8/dist-packages/seaborn/_decorators.py:36: FutureWarning: Pass the following variable as a keyword arg: x. From version 0.12, the only valid positional argument will be `data`, and passing other arguments without an explicit keyword will result in an error or misinterpretation.\n",
            "  warnings.warn(\n"
          ]
        },
        {
          "output_type": "execute_result",
          "data": {
            "text/plain": [
              "<matplotlib.axes._subplots.AxesSubplot at 0x7f256e63b2b0>"
            ]
          },
          "metadata": {},
          "execution_count": 16
        },
        {
          "output_type": "display_data",
          "data": {
            "text/plain": [
              "<Figure size 432x288 with 1 Axes>"
            ],
            "image/png": "[encoded data removed]"
          },
          "metadata": {
            "needs_background": "light"
          }
        }
      ]
    },
    {
      "cell_type": "code",
      "source": [
        "sns.countplot((tot[\"text\"] == None))"
      ],
      "metadata": {
        "colab": {
          "base_uri": "https://localhost:8080/",
          "height": 0
        },
        "id": "M_8CTs070mQU",
        "outputId": "43169f6a-dcfc-49cb-9c5c-1c92b0724c83"
      },
      "execution_count": 17,
      "outputs": [
        {
          "output_type": "stream",
          "name": "stderr",
          "text": [
            "/usr/local/lib/python3.8/dist-packages/seaborn/_decorators.py:36: FutureWarning: Pass the following variable as a keyword arg: x. From version 0.12, the only valid positional argument will be `data`, and passing other arguments without an explicit keyword will result in an error or misinterpretation.\n",
            "  warnings.warn(\n"
          ]
        },
        {
          "output_type": "execute_result",
          "data": {
            "text/plain": [
              "<matplotlib.axes._subplots.AxesSubplot at 0x7f256e6252b0>"
            ]
          },
          "metadata": {},
          "execution_count": 17
        },
        {
          "output_type": "display_data",
          "data": {
            "text/plain": [
              "<Figure size 432x288 with 1 Axes>"
            ],
            "image/png": "[encoded data removed]"
          },
          "metadata": {
            "needs_background": "light"
          }
        }
      ]
    },
    {
      "cell_type": "markdown",
      "source": [
        "##Classificatori"
      ],
      "metadata": {
        "id": "Gyt1jv97HSVg"
      }
    },
    {
      "cell_type": "code",
      "source": [
        "corpus = tot[\"text\"]"
      ],
      "metadata": {
        "id": "5qQmQ9Lh92YC"
      },
      "execution_count": 18,
      "outputs": []
    },
    {
      "cell_type": "markdown",
      "source": [
        "###Tokenizzazione, trasformazione in sequenza e padding"
      ],
      "metadata": {
        "id": "C-zaR9jHb7ke"
      }
    },
    {
      "cell_type": "code",
      "source": [
        "from tensorflow.keras.preprocessing.text import Tokenizer\n",
        "from tensorflow.keras.preprocessing.sequence import pad_sequences\n",
        "\n",
        "MAX_NB_WORDS = 30000\n",
        "\n",
        "# get the raw text data\n",
        "\n",
        "# finally, vectorize the text samples into a 2D integer tensor\n",
        "tokenizer = Tokenizer(num_words=MAX_NB_WORDS, char_level=False)\n",
        "tokenizer.fit_on_texts(corpus)\n",
        "\n",
        "sequences = tokenizer.texts_to_sequences(corpus)\n",
        "#sequences_test = tokenizer.texts_to_sequences(texts_test)\n",
        "seq_lens = [len(s) for s in sequences]\n"
      ],
      "metadata": {
        "id": "p9r7hIIUb6rF"
      },
      "execution_count": 19,
      "outputs": []
    },
    {
      "cell_type": "code",
      "source": [
        "sampleIndex = 1998\n",
        "print('Sequenza parola numero %s: ' % sampleIndex)\n",
        "for x in sequences[sampleIndex]:\n",
        "  print('%d,' % x, end =' ')"
      ],
      "metadata": {
        "colab": {
          "base_uri": "https://localhost:8080/"
        },
        "id": "Rn2n_9xHHmOG",
        "outputId": "93de28d1-25c8-4a3b-cbce-57a5075402fc"
      },
      "execution_count": 20,
      "outputs": [
        {
          "output_type": "stream",
          "name": "stdout",
          "text": [
            "Sequenza parola numero 1998: \n",
            "2238, 555, 13051, 25474, 1501, 2238, 1945, 555, 250, 163, 314, 3, 89, 25475, 1945, 6, 1738, 5, 83, 2627, 2, 1020, 282, 25475, 1945, 1119, 801, 1, 6611, 737, 3021, 3242, 2, 17153, 4, 126, 622, 2238, 19148, 2, 4295, 1808, 6732, 8, 4, 126, 2169, 335, 47, 238, 4466, 24394, 24395, 5804, 1, 1588, 5165, 5, 366, 91, 26, 153, 282, 1, 93, 79, 18, 151, 26, 114, 9012, 208, 321, 139, 172, 9787, 208, 11003, 1158, 1210, 5917, 14583, 18451, 22, 9, 100, 831, 97, 22, 42, 13, 1690, 1, 13, 1535, 19377, 1859, 6, 1801, 1, 165, 97, 25476, 54, 17, 516, 13051, 5743, 9, 2828, 5, 158, 445, 139, 9012, 34, 1218, 5313, 6397, 24396, "
          ]
        }
      ]
    },
    {
      "cell_type": "code",
      "source": [
        "print('Traduzione della sequenza numero %d in parole: ' % sampleIndex)\n",
        "index_to_word = dict((i, w) for w, i in tokenizer.word_index.items())\n",
        "\" \".join([index_to_word[i] for i in sequences[sampleIndex]])"
      ],
      "metadata": {
        "colab": {
          "base_uri": "https://localhost:8080/",
          "height": 122
        },
        "id": "-XqNP5E1-Jx3",
        "outputId": "ecc306ee-c224-47e0-b538-d234cab1796e"
      },
      "execution_count": 21,
      "outputs": [
        {
          "output_type": "stream",
          "name": "stdout",
          "text": [
            "Traduzione della sequenza numero 1998 in parole: \n"
          ]
        },
        {
          "output_type": "execute_result",
          "data": {
            "text/plain": [
              "\"carbonara day malanghino rilancia col carbonara roll day mercoledi 7 aprile il nostro carbo roll in regalo a ogni ordine di almeno 50 carbo roll pesce bianco e avocado all'interno scampi uova di quaglia la nostra salsa carbonara briciole di guanciale croccante ordina con la nostra app oppure su whatsapp 388 481 5046 delivery e take away a pranzo 12 30 14 50 e cena 19 00 23 30 dove palese san paolo bari citta modugno san girolamo santo spirito giovinazzo bitonto elenco non del tutto completo se non tra i quartieri e i paesi citati scrivici in privato e ti se arriviamo anche da te malanghino l'esperienza del giappone a casa tua bari palese via vittorio veneto 67 newopening\""
            ],
            "application/vnd.google.colaboratory.intrinsic+json": {
              "type": "string"
            }
          },
          "metadata": {},
          "execution_count": 21
        }
      ]
    },
    {
      "cell_type": "code",
      "source": [
        "%matplotlib inline\n",
        "import matplotlib.pyplot as plt\n",
        "\n",
        "plt.hist(seq_lens, bins=500, color = 'purple')\n",
        "plt.xlabel('#words')\n",
        "plt.ylabel('#descriptions')\n",
        "plt.title('Y documenti con X parole')"
      ],
      "metadata": {
        "colab": {
          "base_uri": "https://localhost:8080/",
          "height": 312
        },
        "id": "O3htyl3c_UzP",
        "outputId": "46078a3a-bdb3-4a78-f7b1-89edb553ce70"
      },
      "execution_count": 22,
      "outputs": [
        {
          "output_type": "execute_result",
          "data": {
            "text/plain": [
              "Text(0.5, 1.0, 'Y documenti con X parole')"
            ]
          },
          "metadata": {},
          "execution_count": 22
        },
        {
          "output_type": "display_data",
          "data": {
            "text/plain": [
              "<Figure size 432x288 with 1 Axes>"
            ],
            "image/png": "[encoded data removed]"
          },
          "metadata": {
            "needs_background": "light"
          }
        }
      ]
    },
    {
      "cell_type": "code",
      "source": [
        "media=np.mean(seq_lens)\n",
        "print(\"average length: %0.1f\" % media)\n",
        "print(\"max length: %d\" % max(seq_lens))\n",
        "y = 0\n",
        "for i in seq_lens:\n",
        "  if i < media:\n",
        "    y = y + 1\n",
        "\n",
        "print(\"percentuale descrizioni di lunghezza inferiore ad average length: %d%%\" % (int(y*100/len(seq_lens))))\n"
      ],
      "metadata": {
        "colab": {
          "base_uri": "https://localhost:8080/"
        },
        "id": "rF9fciyQ-cUk",
        "outputId": "406fb7b1-eea0-4c5f-cfd7-e38e6ba7aa36"
      },
      "execution_count": 23,
      "outputs": [
        {
          "output_type": "stream",
          "name": "stdout",
          "text": [
            "average length: 112.2\n",
            "max length: 1217\n",
            "percentuale descrizioni di lunghezza inferiore ad average length: 67%\n"
          ]
        }
      ]
    },
    {
      "cell_type": "markdown",
      "source": [
        "####Padding\n",
        "La lunghezza media dei testi è di circa 112: eseguo il pad con massima lunghezza 115, valutando che la maggior parte delle descrizioni non supera quel numero di parole."
      ],
      "metadata": {
        "id": "BpCi29f6-dvQ"
      }
    },
    {
      "cell_type": "code",
      "source": [
        "MAX_SEQUENCE_LENGTH = 120\n",
        "\n",
        "# pad sequences with 0s\n",
        "padded = pad_sequences(sequences, maxlen=MAX_SEQUENCE_LENGTH,padding='post')\n",
        "\n",
        "print('Shape of data tensor:', padded.shape)\n",
        "\n",
        "word_index = tokenizer.word_index\n",
        "print('Found %s unique tokens.' % len(word_index))"
      ],
      "metadata": {
        "colab": {
          "base_uri": "https://localhost:8080/"
        },
        "id": "DA_Jod7w-AaM",
        "outputId": "ae7b02a5-19db-4dc2-f704-732ce02d2d1f"
      },
      "execution_count": 24,
      "outputs": [
        {
          "output_type": "stream",
          "name": "stdout",
          "text": [
            "Shape of data tensor: (6327, 120)\n",
            "Found 61492 unique tokens.\n"
          ]
        }
      ]
    },
    {
      "cell_type": "code",
      "source": [
        "padded[sampleIndex].shape[0]"
      ],
      "metadata": {
        "colab": {
          "base_uri": "https://localhost:8080/"
        },
        "id": "wQrPJ9ol_Rdm",
        "outputId": "330ffc3a-2fb9-4745-e309-e024cb24253d"
      },
      "execution_count": 25,
      "outputs": [
        {
          "output_type": "execute_result",
          "data": {
            "text/plain": [
              "120"
            ]
          },
          "metadata": {},
          "execution_count": 25
        }
      ]
    },
    {
      "cell_type": "markdown",
      "source": [
        "###Test con alcuni classificatori (con supporto di word2vec)"
      ],
      "metadata": {
        "id": "BM5VMUcgEni5"
      }
    },
    {
      "cell_type": "code",
      "source": [
        "'''import gensim.downloader as api\n",
        "\n",
        "# Download the models (1660MB)\n",
        "word2vec_model300 = api.load('word2vec-google-news-300')'''"
      ],
      "metadata": {
        "colab": {
          "base_uri": "https://localhost:8080/",
          "height": 35
        },
        "id": "EP4cs4c1YzJy",
        "outputId": "07049bad-cb6d-4c86-fe0d-e70d08d2dcc6"
      },
      "execution_count": 26,
      "outputs": [
        {
          "output_type": "execute_result",
          "data": {
            "text/plain": [
              "\"import gensim.downloader as api\\n\\n# Download the models (1660MB)\\nword2vec_model300 = api.load('word2vec-google-news-300')\""
            ],
            "application/vnd.google.colaboratory.intrinsic+json": {
              "type": "string"
            }
          },
          "metadata": {},
          "execution_count": 26
        }
      ]
    },
    {
      "cell_type": "code",
      "source": [
        "'''\n",
        "x_emb = []\n",
        "for sentence in padded:\n",
        "  print('sentence')\n",
        "  print(sentence)\n",
        "  sent_emb = [0 for k in range(300)] \n",
        "  \n",
        "  num_tok = 0\n",
        "  for tok in sentence:\n",
        "    if tok != 0:\n",
        "      word=list(word_index.keys())[list(word_index.values()).index(tok)]\n",
        "      print('word: '+ word)\n",
        "      try:\n",
        "          emb = word2vec_model300.wv[word]\n",
        "          sent_emb = [x + y for x, y in zip(sent_emb, emb)]\n",
        "          num_tok = num_tok +1\n",
        "      except:\n",
        "          pass\n",
        "  if num_tok != 0:\n",
        "    final_sent_emb = [x / num_tok for x in sent_emb]         \n",
        "  x_emb.append(final_sent_emb)\n",
        "  \n",
        "\n",
        "x_emb = np.array(x_emb)\n",
        "with open('/content/drive/MyDrive/Colab Notebooks/embeddings.npy', 'wb') as f:\n",
        "    np.save(f, x_emb)\n",
        "'''\n",
        "with open('/content/drive/MyDrive/Colab Notebooks/embeddings.npy', 'rb') as f:\n",
        "    x_emb = np.load(f)\n",
        "print(type(x_emb))\n",
        "print(len(x_emb))"
      ],
      "metadata": {
        "id": "mPraSkoHEuK-",
        "colab": {
          "base_uri": "https://localhost:8080/"
        },
        "outputId": "ef64330f-568f-445a-cf8e-c881c1eba4e9"
      },
      "execution_count": 27,
      "outputs": [
        {
          "output_type": "stream",
          "name": "stdout",
          "text": [
            "<class 'numpy.ndarray'>\n",
            "6327\n"
          ]
        }
      ]
    },
    {
      "cell_type": "code",
      "source": [
        "x_emb.shape"
      ],
      "metadata": {
        "id": "zVI0FdubxGo9",
        "colab": {
          "base_uri": "https://localhost:8080/"
        },
        "outputId": "007ca9b1-58d8-4670-8520-8acace333e73"
      },
      "execution_count": 28,
      "outputs": [
        {
          "output_type": "execute_result",
          "data": {
            "text/plain": [
              "(6327, 300)"
            ]
          },
          "metadata": {},
          "execution_count": 28
        }
      ]
    },
    {
      "cell_type": "code",
      "source": [
        "print(x_emb[sampleIndex])"
      ],
      "metadata": {
        "colab": {
          "base_uri": "https://localhost:8080/"
        },
        "id": "9RqFQ3iOxNo1",
        "outputId": "55d0c049-a1d4-47f8-9be8-733376cde6f8"
      },
      "execution_count": 29,
      "outputs": [
        {
          "output_type": "stream",
          "name": "stdout",
          "text": [
            "[-3.05786133e-02  7.58842699e-02  6.14662170e-02  1.44120419e-01\n",
            " -1.97686282e-02  8.10065992e-02 -5.22960316e-03 -4.96363784e-02\n",
            " -2.35274344e-03  1.17864435e-01 -9.83539928e-02 -1.38018984e-01\n",
            " -1.41777270e-01  2.63907404e-02 -1.08870564e-01  1.45015832e-01\n",
            "  1.37676239e-01  1.15994540e-01  2.90367820e-02  8.41785778e-02\n",
            " -1.09778664e-01 -3.43318130e-02  1.43727389e-01  8.06704434e-02\n",
            " -9.10098914e-02 -8.65139094e-02 -1.10806956e-01  9.51815518e-02\n",
            " -7.71336411e-02 -2.72553473e-02  1.11357949e-02  7.65165271e-02\n",
            "  2.58844549e-02 -3.79208651e-02 -9.34795033e-02 -6.82362643e-02\n",
            " -6.14663326e-02  4.35656923e-02  9.75188631e-02 -1.69354217e-02\n",
            " -2.76641846e-02 -5.28555205e-02  1.05245879e-01  9.82952696e-02\n",
            "  5.44472897e-03 -1.37826631e-01 -1.16993528e-01 -5.18678607e-02\n",
            " -2.40528222e-02  1.39574918e-01 -1.13349683e-01  1.99734775e-01\n",
            "  9.40972530e-02  5.69162080e-02 -6.25702829e-02  1.85667327e-01\n",
            " -1.14800655e-01 -1.09507243e-01  5.17938787e-02 -1.35975231e-01\n",
            " -1.49469202e-01  1.08104359e-01 -8.77846805e-02 -6.15924488e-02\n",
            "  3.38624896e-02 -1.65609331e-01 -9.47893090e-02 -7.83843994e-02\n",
            "  4.85032977e-02  1.53809981e-01  6.21957490e-02  6.84500030e-02\n",
            "  2.64712247e-02  7.61584369e-02 -5.86317814e-02 -3.55543657e-02\n",
            "  1.43758022e-02  3.15348307e-03 -4.19091889e-02 -4.12544482e-02\n",
            "  1.15152995e-02 -1.40649044e-02  1.46596504e-02 -1.51260145e-01\n",
            "  7.95040709e-02  5.43841738e-02 -6.29939455e-02  1.79260254e-01\n",
            "  5.94757542e-03  3.60269258e-02 -1.95367987e-02 -2.83195033e-02\n",
            " -7.77541652e-02 -2.56844723e-02  8.20229270e-03  4.23362038e-03\n",
            " -2.47983066e-02  3.44025583e-02  1.45578558e-01 -6.03390318e-02\n",
            " -9.66297496e-02  2.88855813e-02 -3.47101616e-02  4.23338919e-02\n",
            " -6.92182599e-02  4.92532181e-02 -4.39554850e-02  5.22797324e-02\n",
            "  2.51941103e-02  5.26964592e-02 -3.75153513e-02 -1.60517837e-01\n",
            "  6.79968632e-02 -7.78086113e-02  3.92012163e-03  9.85740893e-02\n",
            " -6.49585724e-02 -1.28793427e-01  1.21110858e-02 -3.96427964e-02\n",
            "  9.27318226e-02 -8.09192079e-02 -1.08231284e-01  3.05111047e-02\n",
            "  1.45270781e-01 -1.28740715e-01 -1.70828155e-01  6.15801956e-03\n",
            "  2.44780454e-02  8.13672615e-02 -1.27611565e-01  1.44358548e-02\n",
            "  1.10765515e-02  1.77431974e-02 -5.66045588e-02  7.64608672e-02\n",
            " -4.81373180e-02 -5.80939091e-02  2.01140433e-01  5.22744150e-02\n",
            "  1.30906539e-01 -1.49627686e-01 -5.74124365e-02  2.00879646e-02\n",
            "  9.14140181e-04 -1.60718036e-02 -6.93287705e-02  9.11023689e-02\n",
            " -7.60298064e-02 -5.51058451e-02  9.24546213e-02 -1.44130822e-01\n",
            " -6.64958087e-02  4.70611110e-02 -1.79963545e-02 -1.42991499e-01\n",
            "  1.03681160e-02  2.11171930e-01 -8.23608167e-02 -8.07076656e-02\n",
            " -3.26105754e-02  5.75991544e-02 -1.83614095e-02  8.92962831e-03\n",
            " -3.46661192e-02 -8.71798197e-02  1.29765366e-01  4.36493845e-04\n",
            " -8.33469738e-02  3.59062426e-02 -1.34682626e-01 -1.24968558e-01\n",
            " -1.73657735e-02 -3.96367853e-02 -5.03056844e-02  8.81948182e-02\n",
            "  1.72497836e-01 -1.66512229e-01  6.51645082e-02 -1.03328589e-02\n",
            " -1.94637414e-02 -6.13886615e-02 -2.25729509e-02 -3.14839681e-02\n",
            "  2.57022742e-02  4.79082050e-02 -3.69331475e-02 -2.09738991e-03\n",
            " -8.44423699e-02  8.02855058e-03  4.49708881e-02  1.20516690e-02\n",
            " -9.01729699e-02  2.64673522e-02  8.76686790e-02  6.10157360e-02\n",
            " -5.33551303e-02  1.59435850e-02  2.16369629e-02  4.22078913e-02\n",
            " -1.42394557e-02  3.93897548e-02 -1.21894605e-01 -1.05534828e-01\n",
            "  9.56402403e-02 -1.42042218e-01  3.51172938e-02  2.47862845e-02\n",
            " -8.45947266e-02  3.97126169e-02  3.72099443e-02 -5.85058964e-03\n",
            " -1.74858729e-01  8.40870250e-02 -9.23811017e-02  6.38561827e-02\n",
            "  5.91024919e-02 -6.99453643e-02 -9.63869962e-02 -3.58858975e-02\n",
            " -1.01771499e-03  1.00629344e-01  2.05913313e-02  1.36790420e-02\n",
            "  6.83286262e-02 -8.03495465e-02  8.39806759e-02  2.12013071e-02\n",
            "  2.28218599e-02 -2.83429695e-02 -1.90388073e-03 -1.08876460e-01\n",
            " -3.39818434e-02  2.46623646e-02  1.32373752e-02 -1.29158714e-02\n",
            " -1.26210993e-02  8.34883393e-02  2.02322187e-02  2.79731173e-02\n",
            "  6.76008282e-02 -2.36511230e-03  1.05069247e-01  2.03640100e-02\n",
            " -6.03438869e-02 -6.81288748e-02 -5.65342759e-02  1.46451777e-01\n",
            " -1.19964101e-02 -5.55712382e-02  5.25896477e-02  5.11215672e-02\n",
            "  8.72405081e-02  3.20134018e-02  6.79203380e-02 -1.27347773e-01\n",
            " -9.07752731e-02 -5.92595881e-02  1.21903853e-02 -3.63578083e-02\n",
            "  6.11643936e-02  1.15278764e-01  1.26362656e-01 -5.76030847e-02\n",
            " -6.65881995e-02 -4.78439331e-02 -5.68736683e-02  3.46256603e-02\n",
            " -4.85039913e-02 -3.79712654e-02 -7.56392045e-02 -5.14722304e-02\n",
            " -3.74802098e-02  3.40391217e-02  1.48439350e-01  1.59731778e-02\n",
            " -1.57637163e-01 -4.74806121e-02 -1.21924660e-01  1.04364337e-01\n",
            " -8.69935932e-02  1.03826349e-01  1.40741522e-02 -4.85541604e-03\n",
            "  6.20709044e-02 -5.89867794e-03  6.45030629e-05  5.58860085e-02\n",
            " -1.35677569e-01  5.47053019e-02  4.77553859e-03 -4.80607929e-02\n",
            " -1.11471465e-01  6.80588231e-02  4.02577718e-02 -1.17691502e-02\n",
            " -3.70973529e-02 -5.54991057e-02 -4.64514530e-02  1.07676651e-01]\n"
          ]
        }
      ]
    },
    {
      "cell_type": "code",
      "source": [
        "y = tot[['fun', 'food', 'culture', 'isMusic']]"
      ],
      "metadata": {
        "id": "Rh5z0z-T74kf"
      },
      "execution_count": 30,
      "outputs": []
    },
    {
      "cell_type": "code",
      "source": [
        "from sklearn.decomposition import PCA\n",
        "pca = PCA (170)\n",
        "\n",
        "reduced = pca.fit_transform(x_emb)\n",
        "\n",
        "X_reduced,X_testReduced,y_trainReduced,y_testReduced = train_test_split(reduced,y,test_size=0.25,random_state=42)\n",
        "reduced.shape"
      ],
      "metadata": {
        "colab": {
          "base_uri": "https://localhost:8080/"
        },
        "id": "WHexH5pHwP1N",
        "outputId": "e83770f5-e529-45d6-ce79-ce5d11d842ed"
      },
      "execution_count": 31,
      "outputs": [
        {
          "output_type": "execute_result",
          "data": {
            "text/plain": [
              "(6327, 170)"
            ]
          },
          "metadata": {},
          "execution_count": 31
        }
      ]
    },
    {
      "cell_type": "code",
      "source": [
        "from sklearn.utils import class_weight\n",
        "weights = class_weight.compute_sample_weight(class_weight=\"balanced\", y=y)"
      ],
      "metadata": {
        "id": "Pf1gNSR88CcQ"
      },
      "execution_count": 32,
      "outputs": []
    },
    {
      "cell_type": "code",
      "source": [
        "weights"
      ],
      "metadata": {
        "colab": {
          "base_uri": "https://localhost:8080/"
        },
        "id": "Y4ePMJ---iaa",
        "outputId": "cbacd6d3-0dd1-4589-fe48-dfe58cc967d8"
      },
      "execution_count": 33,
      "outputs": [
        {
          "output_type": "execute_result",
          "data": {
            "text/plain": [
              "array([0.84899271, 0.66966338, 1.26944883, ..., 0.82064974, 0.42600773,\n",
              "       0.98964042])"
            ]
          },
          "metadata": {},
          "execution_count": 33
        }
      ]
    },
    {
      "cell_type": "markdown",
      "source": [
        "####Split"
      ],
      "metadata": {
        "id": "Ujr0O_QlMIJ0"
      }
    },
    {
      "cell_type": "code",
      "source": [
        "\n",
        "X_train,X_test,y_train,y_test = train_test_split(x_emb,y,test_size=0.25,random_state=42)"
      ],
      "metadata": {
        "id": "OWgXvZQjMOyq"
      },
      "execution_count": 34,
      "outputs": []
    },
    {
      "cell_type": "markdown",
      "source": [
        "###Da Multi-label a Multi-classe\n",
        "A questo punto potremmo pensare di rappresentare il nostro Multi-Label problem come un Multi-Class binary classification problem. È utile costruire questo modello come base di confronto per i prossimi modelli: esso tratterà le label come singoli classification problems. Costruiamo il modello di base."
      ],
      "metadata": {
        "id": "0E_S_wcDOZi2"
      }
    },
    {
      "cell_type": "code",
      "source": [
        "!pip install scikit-multilearn"
      ],
      "metadata": {
        "colab": {
          "base_uri": "https://localhost:8080/"
        },
        "id": "p4FAvUd8eCtP",
        "outputId": "609cd8c7-f0ff-4945-a8fe-b52c1e3fe160"
      },
      "execution_count": 35,
      "outputs": [
        {
          "output_type": "stream",
          "name": "stdout",
          "text": [
            "Looking in indexes: https://pypi.org/simple, https://us-python.pkg.dev/colab-wheels/public/simple/\n",
            "Collecting scikit-multilearn\n",
            "  Downloading scikit_multilearn-0.2.0-py3-none-any.whl (89 kB)\n",
            "\u001b[2K     \u001b[90m━━━━━━━━━━━━━━━━━━━━━━━━━━━━━━━━━━━━━━━━\u001b[0m \u001b[32m89.4/89.4 KB\u001b[0m \u001b[31m4.8 MB/s\u001b[0m eta \u001b[36m0:00:00\u001b[0m\n",
            "\u001b[?25hInstalling collected packages: scikit-multilearn\n",
            "Successfully installed scikit-multilearn-0.2.0\n"
          ]
        }
      ]
    },
    {
      "cell_type": "code",
      "source": [
        "from sklearn.naive_bayes import GaussianNB,BernoulliNB,CategoricalNB\n",
        "from sklearn.linear_model import SGDClassifier\n",
        "from sklearn.neighbors import KNeighborsClassifier\n",
        "from sklearn.svm import SVC\n",
        "\n",
        "from sklearn.model_selection import GridSearchCV\n",
        "\n",
        "#Metrics\n",
        "from sklearn.metrics import accuracy_score, average_precision_score, f1_score, hamming_loss, label_ranking_average_precision_score, precision_recall_curve, recall_score, classification_report, r2_score\n",
        "\n",
        "#Multilable\n",
        "from skmultilearn.problem_transform import BinaryRelevance, LabelPowerset\n",
        "from skmultilearn.ensemble import RakelD, RakelO, LabelSpacePartitioningClassifier\n",
        "from skmultilearn.adapt import MLkNN\n",
        "\n",
        "import matplotlib.pyplot as plt\n",
        "import numpy as np"
      ],
      "metadata": {
        "id": "wl6nOAvlP7UO"
      },
      "execution_count": 36,
      "outputs": []
    },
    {
      "cell_type": "code",
      "source": [
        "y_test"
      ],
      "metadata": {
        "colab": {
          "base_uri": "https://localhost:8080/",
          "height": 424
        },
        "id": "LmLCZIW0Kmcw",
        "outputId": "ffc58b03-1d54-414c-9204-4b4545c3dc7a"
      },
      "execution_count": 37,
      "outputs": [
        {
          "output_type": "execute_result",
          "data": {
            "text/plain": [
              "      fun  food  culture  isMusic\n",
              "1293    1     1        1        0\n",
              "7141    0     0        1        1\n",
              "3846    0     0        1        1\n",
              "4310    0     1        0        0\n",
              "5319    0     1        0        0\n",
              "...   ...   ...      ...      ...\n",
              "3448    0     1        1        0\n",
              "6162    0     0        0        1\n",
              "1159    1     0        1        1\n",
              "6140    1     1        1        1\n",
              "4563    1     1        1        0\n",
              "\n",
              "[1582 rows x 4 columns]"
            ],
            "text/html": [
              "\n",
              "  <div id=\"df-bd676446-6ed3-4038-bc0d-c344f110453d\">\n",
              "    <div class=\"colab-df-container\">\n",
              "      <div>\n",
              "<style scoped>\n",
              "    .dataframe tbody tr th:only-of-type {\n",
              "        vertical-align: middle;\n",
              "    }\n",
              "\n",
              "    .dataframe tbody tr th {\n",
              "        vertical-align: top;\n",
              "    }\n",
              "\n",
              "    .dataframe thead th {\n",
              "        text-align: right;\n",
              "    }\n",
              "</style>\n",
              "<table border=\"1\" class=\"dataframe\">\n",
              "  <thead>\n",
              "    <tr style=\"text-align: right;\">\n",
              "      <th></th>\n",
              "      <th>fun</th>\n",
              "      <th>food</th>\n",
              "      <th>culture</th>\n",
              "      <th>isMusic</th>\n",
              "    </tr>\n",
              "  </thead>\n",
              "  <tbody>\n",
              "    <tr>\n",
              "      <th>1293</th>\n",
              "      <td>1</td>\n",
              "      <td>1</td>\n",
              "      <td>1</td>\n",
              "      <td>0</td>\n",
              "    </tr>\n",
              "    <tr>\n",
              "      <th>7141</th>\n",
              "      <td>0</td>\n",
              "      <td>0</td>\n",
              "      <td>1</td>\n",
              "      <td>1</td>\n",
              "    </tr>\n",
              "    <tr>\n",
              "      <th>3846</th>\n",
              "      <td>0</td>\n",
              "      <td>0</td>\n",
              "      <td>1</td>\n",
              "      <td>1</td>\n",
              "    </tr>\n",
              "    <tr>\n",
              "      <th>4310</th>\n",
              "      <td>0</td>\n",
              "      <td>1</td>\n",
              "      <td>0</td>\n",
              "      <td>0</td>\n",
              "    </tr>\n",
              "    <tr>\n",
              "      <th>5319</th>\n",
              "      <td>0</td>\n",
              "      <td>1</td>\n",
              "      <td>0</td>\n",
              "      <td>0</td>\n",
              "    </tr>\n",
              "    <tr>\n",
              "      <th>...</th>\n",
              "      <td>...</td>\n",
              "      <td>...</td>\n",
              "      <td>...</td>\n",
              "      <td>...</td>\n",
              "    </tr>\n",
              "    <tr>\n",
              "      <th>3448</th>\n",
              "      <td>0</td>\n",
              "      <td>1</td>\n",
              "      <td>1</td>\n",
              "      <td>0</td>\n",
              "    </tr>\n",
              "    <tr>\n",
              "      <th>6162</th>\n",
              "      <td>0</td>\n",
              "      <td>0</td>\n",
              "      <td>0</td>\n",
              "      <td>1</td>\n",
              "    </tr>\n",
              "    <tr>\n",
              "      <th>1159</th>\n",
              "      <td>1</td>\n",
              "      <td>0</td>\n",
              "      <td>1</td>\n",
              "      <td>1</td>\n",
              "    </tr>\n",
              "    <tr>\n",
              "      <th>6140</th>\n",
              "      <td>1</td>\n",
              "      <td>1</td>\n",
              "      <td>1</td>\n",
              "      <td>1</td>\n",
              "    </tr>\n",
              "    <tr>\n",
              "      <th>4563</th>\n",
              "      <td>1</td>\n",
              "      <td>1</td>\n",
              "      <td>1</td>\n",
              "      <td>0</td>\n",
              "    </tr>\n",
              "  </tbody>\n",
              "</table>\n",
              "<p>1582 rows × 4 columns</p>\n",
              "</div>\n",
              "      <button class=\"colab-df-convert\" onclick=\"convertToInteractive('df-bd676446-6ed3-4038-bc0d-c344f110453d')\"\n",
              "              title=\"Convert this dataframe to an interactive table.\"\n",
              "              style=\"display:none;\">\n",
              "        \n",
              "  <svg xmlns=\"http://www.w3.org/2000/svg\" height=\"24px\"viewBox=\"0 0 24 24\"\n",
              "       width=\"24px\">\n",
              "    <path d=\"M0 0h24v24H0V0z\" fill=\"none\"/>\n",
              "    <path d=\"M18.56 5.44l.94 2.06.94-2.06 2.06-.94-2.06-.94-.94-2.06-.94 2.06-2.06.94zm-11 1L8.5 8.5l.94-2.06 2.06-.94-2.06-.94L8.5 2.5l-.94 2.06-2.06.94zm10 10l.94 2.06.94-2.06 2.06-.94-2.06-.94-.94-2.06-.94 2.06-2.06.94z\"/><path d=\"M17.41 7.96l-1.37-1.37c-.4-.4-.92-.59-1.43-.59-.52 0-1.04.2-1.43.59L10.3 9.45l-7.72 7.72c-.78.78-.78 2.05 0 2.83L4 21.41c.39.39.9.59 1.41.59.51 0 1.02-.2 1.41-.59l7.78-7.78 2.81-2.81c.8-.78.8-2.07 0-2.86zM5.41 20L4 18.59l7.72-7.72 1.47 1.35L5.41 20z\"/>\n",
              "  </svg>\n",
              "      </button>\n",
              "      \n",
              "  <style>\n",
              "    .colab-df-container {\n",
              "      display:flex;\n",
              "      flex-wrap:wrap;\n",
              "      gap: 12px;\n",
              "    }\n",
              "\n",
              "    .colab-df-convert {\n",
              "      background-color: #E8F0FE;\n",
              "      border: none;\n",
              "      border-radius: 50%;\n",
              "      cursor: pointer;\n",
              "      display: none;\n",
              "      fill: #1967D2;\n",
              "      height: 32px;\n",
              "      padding: 0 0 0 0;\n",
              "      width: 32px;\n",
              "    }\n",
              "\n",
              "    .colab-df-convert:hover {\n",
              "      background-color: #E2EBFA;\n",
              "      box-shadow: 0px 1px 2px rgba(60, 64, 67, 0.3), 0px 1px 3px 1px rgba(60, 64, 67, 0.15);\n",
              "      fill: #174EA6;\n",
              "    }\n",
              "\n",
              "    [theme=dark] .colab-df-convert {\n",
              "      background-color: #3B4455;\n",
              "      fill: #D2E3FC;\n",
              "    }\n",
              "\n",
              "    [theme=dark] .colab-df-convert:hover {\n",
              "      background-color: #434B5C;\n",
              "      box-shadow: 0px 1px 3px 1px rgba(0, 0, 0, 0.15);\n",
              "      filter: drop-shadow(0px 1px 2px rgba(0, 0, 0, 0.3));\n",
              "      fill: #FFFFFF;\n",
              "    }\n",
              "  </style>\n",
              "\n",
              "      <script>\n",
              "        const buttonEl =\n",
              "          document.querySelector('#df-bd676446-6ed3-4038-bc0d-c344f110453d button.colab-df-convert');\n",
              "        buttonEl.style.display =\n",
              "          google.colab.kernel.accessAllowed ? 'block' : 'none';\n",
              "\n",
              "        async function convertToInteractive(key) {\n",
              "          const element = document.querySelector('#df-bd676446-6ed3-4038-bc0d-c344f110453d');\n",
              "          const dataTable =\n",
              "            await google.colab.kernel.invokeFunction('convertToInteractive',\n",
              "                                                     [key], {});\n",
              "          if (!dataTable) return;\n",
              "\n",
              "          const docLinkHtml = 'Like what you see? Visit the ' +\n",
              "            '<a target=\"_blank\" href=https://colab.research.google.com/notebooks/data_table.ipynb>data table notebook</a>'\n",
              "            + ' to learn more about interactive tables.';\n",
              "          element.innerHTML = '';\n",
              "          dataTable['output_type'] = 'display_data';\n",
              "          await google.colab.output.renderOutput(dataTable, element);\n",
              "          const docLink = document.createElement('div');\n",
              "          docLink.innerHTML = docLinkHtml;\n",
              "          element.appendChild(docLink);\n",
              "        }\n",
              "      </script>\n",
              "    </div>\n",
              "  </div>\n",
              "  "
            ]
          },
          "metadata": {},
          "execution_count": 37
        }
      ]
    },
    {
      "cell_type": "code",
      "source": [
        "# Convert Our Multi-Label Prob to Multi-Class\n",
        "# binary classficiation\n",
        "biRel = BinaryRelevance(KNeighborsClassifier())\n",
        "biRel2 = BinaryRelevance(SVC())\n",
        "biRelRed = BinaryRelevance(SVC())\n",
        "\n",
        "'''\n",
        "BISOGNA PROVARE COMBINAZIONI FRA CLAS E MOD:\n",
        "CLAS                | MOD\n",
        "GaussianNB            BinaryRelevance\n",
        "BernoulliNB           LabelPowerset\n",
        "CategoricalNB         RakelD\n",
        "SVC                   RakelO\n",
        "KNeighborsClassifier  LabelSpacePartitioningClassifier\n",
        "SGDClassifier         MLkNN\n",
        "LogisticRegression\n",
        "'''\n",
        "\n",
        "biRel.fit(X_train,y_train)\n",
        "biRel2.fit(X_train,y_train)\n",
        "biRelRed.fit(X_reduced, y_trainReduced)"
      ],
      "metadata": {
        "colab": {
          "base_uri": "https://localhost:8080/"
        },
        "id": "zv_D-D5qPurq",
        "outputId": "4f5968bb-de47-48d5-b913-cfa69452cfa2"
      },
      "execution_count": 38,
      "outputs": [
        {
          "output_type": "execute_result",
          "data": {
            "text/plain": [
              "BinaryRelevance(classifier=SVC(), require_dense=[True, True])"
            ]
          },
          "metadata": {},
          "execution_count": 38
        }
      ]
    },
    {
      "cell_type": "code",
      "source": [
        "# Predictions\n",
        "prediction = biRel.predict(X_test).toarray()\n",
        "prediction2 = biRel2.predict(X_test).toarray()\n",
        "predictionRed = biRelRed.predict(X_testReduced).toarray()"
      ],
      "metadata": {
        "id": "ayphmqNHQ4QY"
      },
      "execution_count": 39,
      "outputs": []
    },
    {
      "cell_type": "code",
      "source": [
        "print('accuracy: %0.5f' % accuracy_score(y_test,prediction))\n",
        "print('loss di hamming: %0.5f' % hamming_loss(y_test,prediction))\n",
        "print('label ranking average precision: %0.5f' % label_ranking_average_precision_score(y_test,prediction))\n",
        "sns.heatmap(pd.DataFrame(classification_report(y_test,prediction, zero_division=1, output_dict=True, target_names=['fun ', 'food', 'culture', 'music'])).iloc[:-1, :].T, annot=True, linecolor='purple')"
      ],
      "metadata": {
        "colab": {
          "base_uri": "https://localhost:8080/",
          "height": 334
        },
        "id": "WnaVoxvvR_so",
        "outputId": "e638eb2c-3a7e-4021-f340-44da72334ccd"
      },
      "execution_count": 40,
      "outputs": [
        {
          "output_type": "stream",
          "name": "stdout",
          "text": [
            "accuracy: 0.30468\n",
            "loss di hamming: 0.28097\n",
            "label ranking average precision: 0.72733\n"
          ]
        },
        {
          "output_type": "execute_result",
          "data": {
            "text/plain": [
              "<matplotlib.axes._subplots.AxesSubplot at 0x7f256a2bb0a0>"
            ]
          },
          "metadata": {},
          "execution_count": 40
        },
        {
          "output_type": "display_data",
          "data": {
            "text/plain": [
              "<Figure size 432x288 with 2 Axes>"
            ],
            "image/png": "[encoded data removed]"
          },
          "metadata": {
            "needs_background": "light"
          }
        }
      ]
    },
    {
      "cell_type": "code",
      "source": [
        "print('accuracy: %0.5f' % accuracy_score(y_testReduced,predictionRed))\n",
        "print('loss di hamming: %0.5f' % hamming_loss(y_testReduced,predictionRed))\n",
        "print('label ranking average precision: %0.5f' % label_ranking_average_precision_score(y_testReduced,predictionRed))\n",
        "sns.heatmap(pd.DataFrame(classification_report(y_testReduced,predictionRed, zero_division=1, output_dict=True, target_names=['fun ', 'food', 'culture', 'music'])).iloc[:-1, :].T, annot=True, linecolor='purple')"
      ],
      "metadata": {
        "colab": {
          "base_uri": "https://localhost:8080/",
          "height": 334
        },
        "id": "kuHBF1p9yhd8",
        "outputId": "d217baf2-5307-4546-abcf-cc5cccd1953b"
      },
      "execution_count": 41,
      "outputs": [
        {
          "output_type": "stream",
          "name": "stdout",
          "text": [
            "accuracy: 0.38685\n",
            "loss di hamming: 0.21318\n",
            "label ranking average precision: 0.78322\n"
          ]
        },
        {
          "output_type": "execute_result",
          "data": {
            "text/plain": [
              "<matplotlib.axes._subplots.AxesSubplot at 0x7f256a1fa8e0>"
            ]
          },
          "metadata": {},
          "execution_count": 41
        },
        {
          "output_type": "display_data",
          "data": {
            "text/plain": [
              "<Figure size 432x288 with 2 Axes>"
            ],
            "image/png": "[encoded data removed]"
          },
          "metadata": {
            "needs_background": "light"
          }
        }
      ]
    },
    {
      "cell_type": "code",
      "source": [
        "print('accuracy: %0.5f' % accuracy_score(y_test,prediction2))\n",
        "print('loss di hamming: %0.5f' % hamming_loss(y_test,prediction2))\n",
        "print('label ranking average precision: %0.5f' % label_ranking_average_precision_score(y_test,prediction2))\n",
        "sns.heatmap(pd.DataFrame(classification_report(y_test,prediction2, zero_division=1, output_dict=True, target_names=['fun ', 'food', 'culture', 'music'])).iloc[:-1, :].T, annot=True, linecolor='purple')"
      ],
      "metadata": {
        "colab": {
          "base_uri": "https://localhost:8080/",
          "height": 334
        },
        "id": "v4G_BrBcQl4R",
        "outputId": "3af7edba-ee70-4284-fdc5-c8958977d55e"
      },
      "execution_count": 42,
      "outputs": [
        {
          "output_type": "stream",
          "name": "stdout",
          "text": [
            "accuracy: 0.37863\n",
            "loss di hamming: 0.21587\n",
            "label ranking average precision: 0.77674\n"
          ]
        },
        {
          "output_type": "execute_result",
          "data": {
            "text/plain": [
              "<matplotlib.axes._subplots.AxesSubplot at 0x7f256a143e80>"
            ]
          },
          "metadata": {},
          "execution_count": 42
        },
        {
          "output_type": "display_data",
          "data": {
            "text/plain": [
              "<Figure size 432x288 with 2 Axes>"
            ],
            "image/png": "[encoded data removed]"
          },
          "metadata": {
            "needs_background": "light"
          }
        }
      ]
    },
    {
      "cell_type": "code",
      "source": [
        "# mlp for multi-label classification\n",
        "from numpy import mean\n",
        "from numpy import std\n",
        "from sklearn.model_selection import RepeatedKFold\n",
        "from keras.models import Sequential\n",
        "from keras.layers import Dense\n",
        "from matplotlib import pyplot as plt\n",
        "\n",
        "# get the model\n",
        "def get_model(n_inputs, n_outputs):\n",
        "  model = Sequential()\n",
        "  model.add(Dense(256, input_dim=n_inputs, kernel_initializer='he_uniform', activation='relu'))\n",
        "  model.add(Dense(16, activation='relu'))\n",
        "  model.add(Dense(n_outputs, activation='sigmoid'))\n",
        "  model.compile(loss='binary_crossentropy', optimizer='adam', metrics='accuracy')\n",
        "  return model\n",
        "\n",
        "# evaluate a model using repeated k-fold cross-validation\n",
        "def evaluate_model(X_train, y_train, X_test, y_test):\n",
        "  results = list()\n",
        "  # define evaluation procedure\n",
        "  cv = RepeatedKFold(n_splits=10, n_repeats=3, random_state=1)\n",
        "  model = get_model(X_train.shape[1], y_train.shape[1])\n",
        "  # fit model\n",
        "  fit=model.fit(X_train, y_train, verbose=1, epochs=30)\n",
        "  # make a prediction on the test set\n",
        "  yhat = model.predict(X_test)\n",
        "  # round probabilities to class labels\n",
        "  pd.DataFrame(fit.history).plot(figsize=(8,5))\n",
        "  plt.show()\n",
        "  '''yhat = yhat.round()\n",
        "  # calculate accuracy\n",
        "  acc = accuracy_score(y_test, yhat)\n",
        "  # store result\n",
        "  print('>%.3f' % acc)\n",
        "  results.append(acc)\n",
        "  return results'''\n",
        "\n",
        "# evaluate model\n",
        "results = evaluate_model(X_train, y_train, X_test, y_test)\n",
        "# summarize performance\n",
        "#print('Accuracy: %.3f (%.3f)' % (mean(results), std(results)))"
      ],
      "metadata": {
        "colab": {
          "base_uri": "https://localhost:8080/",
          "height": 1000
        },
        "id": "uFx2yc-qFu1V",
        "outputId": "7d4d9f23-065d-4d42-e75f-d758186403a6"
      },
      "execution_count": 58,
      "outputs": [
        {
          "output_type": "stream",
          "name": "stdout",
          "text": [
            "Epoch 1/30\n",
            "149/149 [==============================] - 1s 3ms/step - loss: 0.6124 - accuracy: 0.2885\n",
            "Epoch 2/30\n",
            "149/149 [==============================] - 0s 3ms/step - loss: 0.5265 - accuracy: 0.4464\n",
            "Epoch 3/30\n",
            "149/149 [==============================] - 0s 3ms/step - loss: 0.4958 - accuracy: 0.4894\n",
            "Epoch 4/30\n",
            "149/149 [==============================] - 0s 3ms/step - loss: 0.4815 - accuracy: 0.4982\n",
            "Epoch 5/30\n",
            "149/149 [==============================] - 0s 3ms/step - loss: 0.4708 - accuracy: 0.5031\n",
            "Epoch 6/30\n",
            "149/149 [==============================] - 0s 3ms/step - loss: 0.4609 - accuracy: 0.5092\n",
            "Epoch 7/30\n",
            "149/149 [==============================] - 0s 3ms/step - loss: 0.4546 - accuracy: 0.5153\n",
            "Epoch 8/30\n",
            "149/149 [==============================] - 0s 3ms/step - loss: 0.4481 - accuracy: 0.5176\n",
            "Epoch 9/30\n",
            "149/149 [==============================] - 0s 3ms/step - loss: 0.4454 - accuracy: 0.5262\n",
            "Epoch 10/30\n",
            "149/149 [==============================] - 0s 3ms/step - loss: 0.4387 - accuracy: 0.5260\n",
            "Epoch 11/30\n",
            "149/149 [==============================] - 0s 3ms/step - loss: 0.4310 - accuracy: 0.5313\n",
            "Epoch 12/30\n",
            "149/149 [==============================] - 0s 3ms/step - loss: 0.4283 - accuracy: 0.5347\n",
            "Epoch 13/30\n",
            "149/149 [==============================] - 0s 3ms/step - loss: 0.4218 - accuracy: 0.5342\n",
            "Epoch 14/30\n",
            "149/149 [==============================] - 0s 3ms/step - loss: 0.4198 - accuracy: 0.5372\n",
            "Epoch 15/30\n",
            "149/149 [==============================] - 0s 3ms/step - loss: 0.4136 - accuracy: 0.5364\n",
            "Epoch 16/30\n",
            "149/149 [==============================] - 0s 3ms/step - loss: 0.4107 - accuracy: 0.5370\n",
            "Epoch 17/30\n",
            "149/149 [==============================] - 0s 3ms/step - loss: 0.4073 - accuracy: 0.5423\n",
            "Epoch 18/30\n",
            "149/149 [==============================] - 0s 3ms/step - loss: 0.4022 - accuracy: 0.5423\n",
            "Epoch 19/30\n",
            "149/149 [==============================] - 0s 3ms/step - loss: 0.3996 - accuracy: 0.5423\n",
            "Epoch 20/30\n",
            "149/149 [==============================] - 0s 3ms/step - loss: 0.3938 - accuracy: 0.5471\n",
            "Epoch 21/30\n",
            "149/149 [==============================] - 0s 3ms/step - loss: 0.3867 - accuracy: 0.5509\n",
            "Epoch 22/30\n",
            "149/149 [==============================] - 0s 3ms/step - loss: 0.3839 - accuracy: 0.5513\n",
            "Epoch 23/30\n",
            "149/149 [==============================] - 0s 3ms/step - loss: 0.3791 - accuracy: 0.5560\n",
            "Epoch 24/30\n",
            "149/149 [==============================] - 0s 3ms/step - loss: 0.3750 - accuracy: 0.5560\n",
            "Epoch 25/30\n",
            "149/149 [==============================] - 0s 3ms/step - loss: 0.3725 - accuracy: 0.5610\n",
            "Epoch 26/30\n",
            "149/149 [==============================] - 0s 3ms/step - loss: 0.3666 - accuracy: 0.5574\n",
            "Epoch 27/30\n",
            "149/149 [==============================] - 0s 3ms/step - loss: 0.3660 - accuracy: 0.5648\n",
            "Epoch 28/30\n",
            "149/149 [==============================] - 0s 3ms/step - loss: 0.3585 - accuracy: 0.5667\n",
            "Epoch 29/30\n",
            "149/149 [==============================] - 0s 3ms/step - loss: 0.3549 - accuracy: 0.5671\n",
            "Epoch 30/30\n",
            "149/149 [==============================] - 0s 3ms/step - loss: 0.3510 - accuracy: 0.5722\n",
            "50/50 [==============================] - 0s 2ms/step\n"
          ]
        },
        {
          "output_type": "display_data",
          "data": {
            "text/plain": [
              "<Figure size 576x360 with 1 Axes>"
            ],
            "image/png": "[encoded data removed]"
          },
          "metadata": {
            "needs_background": "light"
          }
        }
      ]
    },
    {
      "cell_type": "code",
      "source": [],
      "metadata": {
        "id": "z56WsccLGZwp"
      },
      "execution_count": 43,
      "outputs": []
    },
    {
      "cell_type": "markdown",
      "source": [
        "#####Funzione per costruire il modello"
      ],
      "metadata": {
        "id": "L3qQdvsDjhm_"
      }
    },
    {
      "cell_type": "code",
      "source": [
        "def build_model(modello,mlb_estimator,xtrain,ytrain,xtest,ytest):\n",
        "    # Create an Instance\n",
        "    clf = mlb_estimator(modello)\n",
        "    clf.fit(xtrain,ytrain)\n",
        "    # Predict\n",
        "    clf_predictions = clf.predict(xtest)\n",
        "    # Check For Accuracy\n",
        "    acc = accuracy_score(ytest,clf_predictions)\n",
        "    ham = hamming_loss(ytest,clf_predictions)\n",
        "    result = {\"accuracy:\":acc,\"hamming_score\":ham}\n",
        "    return result"
      ],
      "metadata": {
        "id": "oKZl78x9jl8b"
      },
      "execution_count": 44,
      "outputs": []
    }
  ]
}