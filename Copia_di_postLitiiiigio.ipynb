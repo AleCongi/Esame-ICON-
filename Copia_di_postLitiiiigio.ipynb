{
  "cells": [
    {
      "cell_type": "markdown",
      "metadata": {
        "id": "view-in-github",
        "colab_type": "text"
      },
      "source": [
        "<a href=\"https://colab.research.google.com/github/AleCongi/Esame-ICON-/blob/main/Copia_di_postLitiiiigio.ipynb\" target=\"_parent\"><img src=\"https://colab.research.google.com/assets/colab-badge.svg\" alt=\"Open In Colab\"/></a>"
      ]
    },
    {
      "cell_type": "markdown",
      "metadata": {
        "id": "g3GCD6NAFsy9"
      },
      "source": [
        "#Ingegneria della Conoscenza\n",
        "Università degli studi di Bari \"Aldo Moro\", Dipartimento di Informatica.\n",
        "\n",
        "Il seguente notebook è stato elaborato degli studenti:\n",
        "\n",
        "\n",
        "*   Congedo Alessandro (mat. 677315)\n",
        "*   Romano Andrea (mat. XXXXXX)"
      ]
    },
    {
      "cell_type": "markdown",
      "source": [
        "Il progetto che presentiamo è un esempio di come l'IA possa essere utilizzata per classificare eventi in base a descrizioni e categorie.\n",
        "\n",
        "---\n",
        "\n",
        "\n",
        "\n",
        "L'obiettivo di questo studio è quello di sviluppare un sistema di apprendimento automatico che sia in grado di rappresentare la conoscenza sia a basso livello che ad alto livello, garantendo una gestione d'incertezza.\n",
        "\n",
        "Il progetto è stato condotto nell'ottica di arricchire il precedente lavoro dei [**BroUsers**](https://www.instagram.com/bro__users) chiamato [**OneNight**](https://t.me/wannight_bot), un **bot Telegram** che raccoglie informazioni sugli eventi in una determinata zona geografica.\n",
        "\n",
        "---\n",
        "L'esigenza di una filtrazione ulteriore degli eventi mediante delle categorie prestabilite si configura come una nuova espansione del progetto.\n",
        "\n",
        "La passione che abbiamo per il nostro lavoro, sia quello sviluppato in passato che quello presentato, ci ha spinto a esplorare nuove soluzioni e a sviluppare un sistema che possa fornire un contributo significativo alla comunità."
      ],
      "metadata": {
        "id": "x8LtpLPlDwA8"
      }
    },
    {
      "cell_type": "markdown",
      "source": [
        "**Indice delle sezioni:**\n",
        "\n",
        "\n",
        "*   **A**: *CARICAMENTO E FIX DEL DATASET*\n",
        "  * **A1**: *PLOT DEL DATASET*\n",
        "*   **B**: *PREPROCESS DELLE DESCRIZIONI*\n",
        "  * **B1**: *FUNZIONI PREPROCESSING*\n",
        "  * **B2**: *PREPROCESSING*\n",
        "  * **B3**: *TOKENIZATION, SEQUENCING & PADDING*\n",
        "  * **B4**: *RAPPRESENTAZIONE DEL TESTO A BASSO LIVELLO*\n",
        "      * **B4.1** *ALTERNATIVA EMBEDDINGS VIA WORLD2VEC*\n",
        "      * **B4.2** *ALTERNATIVA FEATURE EXTRACTION VIA RETE NEURALE*\n",
        "      * **B4.3** *ALTERNATIVA VECTORIZATION VIA TERM FREQUENCY - INVERSE DOCUMENT FREQUENCY*\n",
        "*   **C**: *CLASSIFICAZIONE*\n",
        "*   **D**: *RETE NEURALE*\n",
        "*   **E**: *LOGICHE FUZZY*\n",
        "*   **F**: *RAPPRESENTAZIONE DELLA CONOSCENZA*\n",
        "  * **F1**: *ONTOLOGIA: WORDNET*\n",
        "  * **F2**: *RETE SEMANTICA*\n",
        "\n"
      ],
      "metadata": {
        "id": "FpZXgZjMIXdk"
      }
    },
    {
      "cell_type": "code",
      "execution_count": 3,
      "metadata": {
        "colab": {
          "base_uri": "https://localhost:8080/"
        },
        "id": "T8QNuY9K3Iy7",
        "outputId": "b40b4a7e-b6f8-4a06-f8dc-7f7862558644"
      },
      "outputs": [
        {
          "output_type": "stream",
          "name": "stdout",
          "text": [
            "Looking in indexes: https://pypi.org/simple, https://us-python.pkg.dev/colab-wheels/public/simple/\n",
            "Requirement already satisfied: nltk in /usr/local/lib/python3.8/dist-packages (3.7)\n",
            "Requirement already satisfied: click in /usr/local/lib/python3.8/dist-packages (from nltk) (7.1.2)\n",
            "Requirement already satisfied: regex>=2021.8.3 in /usr/local/lib/python3.8/dist-packages (from nltk) (2022.6.2)\n",
            "Requirement already satisfied: tqdm in /usr/local/lib/python3.8/dist-packages (from nltk) (4.64.1)\n",
            "Requirement already satisfied: joblib in /usr/local/lib/python3.8/dist-packages (from nltk) (1.2.0)\n",
            "Looking in indexes: https://pypi.org/simple, https://us-python.pkg.dev/colab-wheels/public/simple/\n",
            "Collecting scikit-multilearn\n",
            "  Downloading scikit_multilearn-0.2.0-py3-none-any.whl (89 kB)\n",
            "\u001b[2K     \u001b[90m━━━━━━━━━━━━━━━━━━━━━━━━━━━━━━━━━━━━━━━━\u001b[0m \u001b[32m89.4/89.4 KB\u001b[0m \u001b[31m3.3 MB/s\u001b[0m eta \u001b[36m0:00:00\u001b[0m\n",
            "\u001b[?25hInstalling collected packages: scikit-multilearn\n",
            "Successfully installed scikit-multilearn-0.2.0\n",
            "Looking in indexes: https://pypi.org/simple, https://us-python.pkg.dev/colab-wheels/public/simple/\n",
            "Collecting scikit-fuzzy\n",
            "  Downloading scikit-fuzzy-0.4.2.tar.gz (993 kB)\n",
            "\u001b[2K     \u001b[90m━━━━━━━━━━━━━━━━━━━━━━━━━━━━━━━━━━━━━━\u001b[0m \u001b[32m994.0/994.0 KB\u001b[0m \u001b[31m19.8 MB/s\u001b[0m eta \u001b[36m0:00:00\u001b[0m\n",
            "\u001b[?25h  Preparing metadata (setup.py) ... \u001b[?25l\u001b[?25hdone\n",
            "Requirement already satisfied: numpy>=1.6.0 in /usr/local/lib/python3.8/dist-packages (from scikit-fuzzy) (1.21.6)\n",
            "Requirement already satisfied: scipy>=0.9.0 in /usr/local/lib/python3.8/dist-packages (from scikit-fuzzy) (1.7.3)\n",
            "Requirement already satisfied: networkx>=1.9.0 in /usr/local/lib/python3.8/dist-packages (from scikit-fuzzy) (3.0)\n",
            "Building wheels for collected packages: scikit-fuzzy\n",
            "  Building wheel for scikit-fuzzy (setup.py) ... \u001b[?25l\u001b[?25hdone\n",
            "  Created wheel for scikit-fuzzy: filename=scikit_fuzzy-0.4.2-py3-none-any.whl size=894088 sha256=2718d022c1dde179d41bdbf10a97e60ed6bab60da3e3ac02bf9a51048b03e391\n",
            "  Stored in directory: /root/.cache/pip/wheels/2c/04/80/7eefb1a2de7d36aefd06432fab2a1486caf0a0596a7067391a\n",
            "Successfully built scikit-fuzzy\n",
            "Installing collected packages: scikit-fuzzy\n",
            "Successfully installed scikit-fuzzy-0.4.2\n",
            "Looking in indexes: https://pypi.org/simple, https://us-python.pkg.dev/colab-wheels/public/simple/\n",
            "Collecting fuzzywuzzy\n",
            "  Downloading fuzzywuzzy-0.18.0-py2.py3-none-any.whl (18 kB)\n",
            "Installing collected packages: fuzzywuzzy\n",
            "Successfully installed fuzzywuzzy-0.18.0\n"
          ]
        }
      ],
      "source": [
        "!pip install nltk\n",
        "!pip install scikit-multilearn\n",
        "!pip install scikit-fuzzy\n",
        "!pip install fuzzywuzzy\n",
        "!pip install stanza"
      ]
    },
    {
      "cell_type": "code",
      "execution_count": 32,
      "metadata": {
        "colab": {
          "base_uri": "https://localhost:8080/"
        },
        "id": "xUtfUST4Lhjw",
        "outputId": "8a4f63e7-496f-4102-ebba-d508427d6a71"
      },
      "outputs": [
        {
          "output_type": "stream",
          "name": "stderr",
          "text": [
            "[nltk_data] Downloading package wordnet to /root/nltk_data...\n",
            "[nltk_data]   Package wordnet is already up-to-date!\n",
            "[nltk_data] Downloading package omw-1.4 to /root/nltk_data...\n",
            "[nltk_data]   Package omw-1.4 is already up-to-date!\n",
            "[nltk_data] Downloading package punkt to /root/nltk_data...\n",
            "[nltk_data]   Package punkt is already up-to-date!\n",
            "[nltk_data] Downloading package stopwords to /root/nltk_data...\n",
            "[nltk_data]   Package stopwords is already up-to-date!\n",
            "[nltk_data] Downloading package averaged_perceptron_tagger to\n",
            "[nltk_data]     /root/nltk_data...\n",
            "[nltk_data]   Package averaged_perceptron_tagger is already up-to-\n",
            "[nltk_data]       date!\n",
            "[nltk_data] Downloading package tagsets to /root/nltk_data...\n",
            "[nltk_data]   Unzipping help/tagsets.zip.\n"
          ]
        },
        {
          "output_type": "stream",
          "name": "stdout",
          "text": [
            "Drive already mounted at /content/drive; to attempt to forcibly remount, call drive.mount(\"/content/drive\", force_remount=True).\n"
          ]
        }
      ],
      "source": [
        "from google.colab import drive\n",
        "\n",
        "import pandas as pd\n",
        "\n",
        "import seaborn as sns\n",
        "\n",
        "from re import sub as sub\n",
        "\n",
        "import matplotlib.pyplot as plt\n",
        "\n",
        "import string\n",
        "\n",
        "import networkx as nx\n",
        "\n",
        "from operator import pos\n",
        "\n",
        "import random\n",
        "\n",
        "import gensim.downloader as api\n",
        "\n",
        "from sys import exit as exit\n",
        "import sys\n",
        "\n",
        "import numpy as np\n",
        "from numpy.ma.core import outer\n",
        "from numpy import mean\n",
        "from numpy import std\n",
        "\n",
        "import keras\n",
        "from keras.models import Sequential\n",
        "from keras.layers import Dense, Embedding, Flatten\n",
        "from tensorflow.keras.preprocessing.text import Tokenizer\n",
        "from tensorflow.keras.preprocessing.sequence import pad_sequences\n",
        "\n",
        "from nltk.corpus import wordnet as wn\n",
        "from nltk.corpus import stopwords\n",
        "from nltk.stem import WordNetLemmatizer\n",
        "from nltk import download as dl\n",
        "from nltk import word_tokenize as tkn\n",
        "from nltk import pos_tag\n",
        "\n",
        "import stanza\n",
        "from stanza.pipeline.processor import Processor\n",
        "\n",
        "from wordcloud import WordCloud\n",
        "\n",
        "from sklearn.model_selection import train_test_split, GridSearchCV, RepeatedKFold\n",
        "from sklearn.feature_extraction.text import TfidfVectorizer\n",
        "from sklearn.cluster import KMeans, AffinityPropagation\n",
        "from sklearn.linear_model import SGDClassifier, LogisticRegression\n",
        "from sklearn.neighbors import KNeighborsClassifier\n",
        "from sklearn.svm import SVC\n",
        "from sklearn.ensemble import RandomForestClassifier\n",
        "from sklearn.tree import DecisionTreeClassifier\n",
        "from sklearn.multiclass import OneVsRestClassifier\n",
        "from sklearn.multioutput  import  ClassifierChain\n",
        "from sklearn.decomposition import PCA\n",
        "from sklearn.metrics import pairwise_distances,accuracy_score, average_precision_score, f1_score, hamming_loss, label_ranking_average_precision_score, precision_recall_curve, recall_score, classification_report, r2_score\n",
        "from sklearn.utils import class_weight\n",
        "from sklearn.metrics.pairwise import cosine_similarity\n",
        "\n",
        "from skmultilearn.problem_transform import LabelPowerset\n",
        "\n",
        "dl('wordnet')\n",
        "dl('omw-1.4')\n",
        "dl('punkt')\n",
        "dl('stopwords')\n",
        "dl('averaged_perceptron_tagger')\n",
        "dl('tagsets')\n",
        "stanza.download('it')\n",
        "\n",
        "drive.mount('/content/drive', force_remount=False)"
      ]
    },
    {
      "cell_type": "markdown",
      "metadata": {
        "id": "eTz9oWxwFogj"
      },
      "source": [
        "##**A**: *CARICAMENTO E FIX DEL DATASET*"
      ]
    },
    {
      "cell_type": "code",
      "execution_count": 5,
      "metadata": {
        "colab": {
          "base_uri": "https://localhost:8080/",
          "height": 362
        },
        "id": "wkMIjegi3pzH",
        "outputId": "7fe40992-4658-42f1-c6aa-d8fecb841717"
      },
      "outputs": [
        {
          "output_type": "execute_result",
          "data": {
            "text/plain": [
              "   culture  ...                                               text\n",
              "0        0  ...  Martedi 05 gennaio super tombolata al Barfly!\\...\n",
              "1        0  ...  Ingresso free senza obbligo di consumazione,se...\n",
              "2        1  ...  Giovedi 8 Marzo, Napulitanata \"celebra la donn...\n",
              "3        1  ...  yn e lieta di presentare\\n\\nNapoolyn x Resilie...\n",
              "4        0  ...  Serata live \\nVENERDI' 18 MARZO \\nUn piacevole...\n",
              "5        1  ...  Quest'anno in occasione di san Valentino il ri...\n",
              "6        1  ...  La 1 Esposizione dei disegni di DIPSTER accomp...\n",
              "7        1  ...  LELIO MORRA e tornato a suonare in giro\\n\\nha ...\n",
              "8        1  ...  Largo alla beneficenza!  Per iniziare al megli...\n",
              "9        1  ...  L'evento piu internazionale a Napoli! L Aperil...\n",
              "\n",
              "[10 rows x 6 columns]"
            ],
            "text/html": [
              "\n",
              "  <div id=\"df-8148d8aa-0611-4d1d-95b3-d72961feb814\">\n",
              "    <div class=\"colab-df-container\">\n",
              "      <div>\n",
              "<style scoped>\n",
              "    .dataframe tbody tr th:only-of-type {\n",
              "        vertical-align: middle;\n",
              "    }\n",
              "\n",
              "    .dataframe tbody tr th {\n",
              "        vertical-align: top;\n",
              "    }\n",
              "\n",
              "    .dataframe thead th {\n",
              "        text-align: right;\n",
              "    }\n",
              "</style>\n",
              "<table border=\"1\" class=\"dataframe\">\n",
              "  <thead>\n",
              "    <tr style=\"text-align: right;\">\n",
              "      <th></th>\n",
              "      <th>culture</th>\n",
              "      <th>music</th>\n",
              "      <th>food</th>\n",
              "      <th>fun</th>\n",
              "      <th>id</th>\n",
              "      <th>text</th>\n",
              "    </tr>\n",
              "  </thead>\n",
              "  <tbody>\n",
              "    <tr>\n",
              "      <th>0</th>\n",
              "      <td>0</td>\n",
              "      <td>0</td>\n",
              "      <td>0</td>\n",
              "      <td>1</td>\n",
              "      <td>1000187186721956</td>\n",
              "      <td>Martedi 05 gennaio super tombolata al Barfly!\\...</td>\n",
              "    </tr>\n",
              "    <tr>\n",
              "      <th>1</th>\n",
              "      <td>0</td>\n",
              "      <td>1</td>\n",
              "      <td>0</td>\n",
              "      <td>1</td>\n",
              "      <td>100731190460200</td>\n",
              "      <td>Ingresso free senza obbligo di consumazione,se...</td>\n",
              "    </tr>\n",
              "    <tr>\n",
              "      <th>2</th>\n",
              "      <td>1</td>\n",
              "      <td>1</td>\n",
              "      <td>0</td>\n",
              "      <td>1</td>\n",
              "      <td>1014507045355357</td>\n",
              "      <td>Giovedi 8 Marzo, Napulitanata \"celebra la donn...</td>\n",
              "    </tr>\n",
              "    <tr>\n",
              "      <th>3</th>\n",
              "      <td>1</td>\n",
              "      <td>1</td>\n",
              "      <td>0</td>\n",
              "      <td>1</td>\n",
              "      <td>1015563648832823</td>\n",
              "      <td>yn e lieta di presentare\\n\\nNapoolyn x Resilie...</td>\n",
              "    </tr>\n",
              "    <tr>\n",
              "      <th>4</th>\n",
              "      <td>0</td>\n",
              "      <td>0</td>\n",
              "      <td>0</td>\n",
              "      <td>1</td>\n",
              "      <td>1021806692027608</td>\n",
              "      <td>Serata live \\nVENERDI' 18 MARZO \\nUn piacevole...</td>\n",
              "    </tr>\n",
              "    <tr>\n",
              "      <th>5</th>\n",
              "      <td>1</td>\n",
              "      <td>1</td>\n",
              "      <td>1</td>\n",
              "      <td>1</td>\n",
              "      <td>1023358881203820</td>\n",
              "      <td>Quest'anno in occasione di san Valentino il ri...</td>\n",
              "    </tr>\n",
              "    <tr>\n",
              "      <th>6</th>\n",
              "      <td>1</td>\n",
              "      <td>1</td>\n",
              "      <td>0</td>\n",
              "      <td>1</td>\n",
              "      <td>103006560538403</td>\n",
              "      <td>La 1 Esposizione dei disegni di DIPSTER accomp...</td>\n",
              "    </tr>\n",
              "    <tr>\n",
              "      <th>7</th>\n",
              "      <td>1</td>\n",
              "      <td>1</td>\n",
              "      <td>0</td>\n",
              "      <td>1</td>\n",
              "      <td>1033389857374299</td>\n",
              "      <td>LELIO MORRA e tornato a suonare in giro\\n\\nha ...</td>\n",
              "    </tr>\n",
              "    <tr>\n",
              "      <th>8</th>\n",
              "      <td>1</td>\n",
              "      <td>0</td>\n",
              "      <td>0</td>\n",
              "      <td>1</td>\n",
              "      <td>1033660330389424</td>\n",
              "      <td>Largo alla beneficenza!  Per iniziare al megli...</td>\n",
              "    </tr>\n",
              "    <tr>\n",
              "      <th>9</th>\n",
              "      <td>1</td>\n",
              "      <td>1</td>\n",
              "      <td>0</td>\n",
              "      <td>1</td>\n",
              "      <td>1034778187923694</td>\n",
              "      <td>L'evento piu internazionale a Napoli! L Aperil...</td>\n",
              "    </tr>\n",
              "  </tbody>\n",
              "</table>\n",
              "</div>\n",
              "      <button class=\"colab-df-convert\" onclick=\"convertToInteractive('df-8148d8aa-0611-4d1d-95b3-d72961feb814')\"\n",
              "              title=\"Convert this dataframe to an interactive table.\"\n",
              "              style=\"display:none;\">\n",
              "        \n",
              "  <svg xmlns=\"http://www.w3.org/2000/svg\" height=\"24px\"viewBox=\"0 0 24 24\"\n",
              "       width=\"24px\">\n",
              "    <path d=\"M0 0h24v24H0V0z\" fill=\"none\"/>\n",
              "    <path d=\"M18.56 5.44l.94 2.06.94-2.06 2.06-.94-2.06-.94-.94-2.06-.94 2.06-2.06.94zm-11 1L8.5 8.5l.94-2.06 2.06-.94-2.06-.94L8.5 2.5l-.94 2.06-2.06.94zm10 10l.94 2.06.94-2.06 2.06-.94-2.06-.94-.94-2.06-.94 2.06-2.06.94z\"/><path d=\"M17.41 7.96l-1.37-1.37c-.4-.4-.92-.59-1.43-.59-.52 0-1.04.2-1.43.59L10.3 9.45l-7.72 7.72c-.78.78-.78 2.05 0 2.83L4 21.41c.39.39.9.59 1.41.59.51 0 1.02-.2 1.41-.59l7.78-7.78 2.81-2.81c.8-.78.8-2.07 0-2.86zM5.41 20L4 18.59l7.72-7.72 1.47 1.35L5.41 20z\"/>\n",
              "  </svg>\n",
              "      </button>\n",
              "      \n",
              "  <style>\n",
              "    .colab-df-container {\n",
              "      display:flex;\n",
              "      flex-wrap:wrap;\n",
              "      gap: 12px;\n",
              "    }\n",
              "\n",
              "    .colab-df-convert {\n",
              "      background-color: #E8F0FE;\n",
              "      border: none;\n",
              "      border-radius: 50%;\n",
              "      cursor: pointer;\n",
              "      display: none;\n",
              "      fill: #1967D2;\n",
              "      height: 32px;\n",
              "      padding: 0 0 0 0;\n",
              "      width: 32px;\n",
              "    }\n",
              "\n",
              "    .colab-df-convert:hover {\n",
              "      background-color: #E2EBFA;\n",
              "      box-shadow: 0px 1px 2px rgba(60, 64, 67, 0.3), 0px 1px 3px 1px rgba(60, 64, 67, 0.15);\n",
              "      fill: #174EA6;\n",
              "    }\n",
              "\n",
              "    [theme=dark] .colab-df-convert {\n",
              "      background-color: #3B4455;\n",
              "      fill: #D2E3FC;\n",
              "    }\n",
              "\n",
              "    [theme=dark] .colab-df-convert:hover {\n",
              "      background-color: #434B5C;\n",
              "      box-shadow: 0px 1px 3px 1px rgba(0, 0, 0, 0.15);\n",
              "      filter: drop-shadow(0px 1px 2px rgba(0, 0, 0, 0.3));\n",
              "      fill: #FFFFFF;\n",
              "    }\n",
              "  </style>\n",
              "\n",
              "      <script>\n",
              "        const buttonEl =\n",
              "          document.querySelector('#df-8148d8aa-0611-4d1d-95b3-d72961feb814 button.colab-df-convert');\n",
              "        buttonEl.style.display =\n",
              "          google.colab.kernel.accessAllowed ? 'block' : 'none';\n",
              "\n",
              "        async function convertToInteractive(key) {\n",
              "          const element = document.querySelector('#df-8148d8aa-0611-4d1d-95b3-d72961feb814');\n",
              "          const dataTable =\n",
              "            await google.colab.kernel.invokeFunction('convertToInteractive',\n",
              "                                                     [key], {});\n",
              "          if (!dataTable) return;\n",
              "\n",
              "          const docLinkHtml = 'Like what you see? Visit the ' +\n",
              "            '<a target=\"_blank\" href=https://colab.research.google.com/notebooks/data_table.ipynb>data table notebook</a>'\n",
              "            + ' to learn more about interactive tables.';\n",
              "          element.innerHTML = '';\n",
              "          dataTable['output_type'] = 'display_data';\n",
              "          await google.colab.output.renderOutput(dataTable, element);\n",
              "          const docLink = document.createElement('div');\n",
              "          docLink.innerHTML = docLinkHtml;\n",
              "          element.appendChild(docLink);\n",
              "        }\n",
              "      </script>\n",
              "    </div>\n",
              "  </div>\n",
              "  "
            ]
          },
          "metadata": {},
          "execution_count": 5
        }
      ],
      "source": [
        "tot=pd.read_csv('/content/drive/MyDrive/Colab Notebooks/eventi.csv')\n",
        "tot.head(10)"
      ]
    },
    {
      "cell_type": "code",
      "source": [
        "sns.countplot((tot[\"text\"] == None))"
      ],
      "metadata": {
        "colab": {
          "base_uri": "https://localhost:8080/",
          "height": 353
        },
        "id": "64UB7rLixKZ4",
        "outputId": "98682aea-ed90-4f20-c2e5-ec51390ef96c"
      },
      "execution_count": 6,
      "outputs": [
        {
          "output_type": "stream",
          "name": "stderr",
          "text": [
            "/usr/local/lib/python3.8/dist-packages/seaborn/_decorators.py:36: FutureWarning: Pass the following variable as a keyword arg: x. From version 0.12, the only valid positional argument will be `data`, and passing other arguments without an explicit keyword will result in an error or misinterpretation.\n",
            "  warnings.warn(\n"
          ]
        },
        {
          "output_type": "execute_result",
          "data": {
            "text/plain": [
              "<matplotlib.axes._subplots.AxesSubplot at 0x7f90b41f67f0>"
            ]
          },
          "metadata": {},
          "execution_count": 6
        },
        {
          "output_type": "display_data",
          "data": {
            "text/plain": [
              "<Figure size 432x288 with 1 Axes>"
            ],
            "image/png": "[encoded data removed]"
          },
          "metadata": {
            "needs_background": "light"
          }
        }
      ]
    },
    {
      "cell_type": "markdown",
      "metadata": {
        "id": "Gh0B9OgaCTmg"
      },
      "source": [
        "Sapendo che \"id\" è la nostra colonna primaria, controllo che il numero di valori unici nella colonna primaria sia uguale al numero di righe. Questo mi permette di accertarmi di non avere la stessa riga per più di una volta nel mio dataset."
      ]
    },
    {
      "cell_type": "code",
      "execution_count": 7,
      "metadata": {
        "colab": {
          "base_uri": "https://localhost:8080/"
        },
        "id": "jqzIa_MkB9Ma",
        "outputId": "5fc3218a-5598-4302-c5bf-1eab3e5399da"
      },
      "outputs": [
        {
          "output_type": "execute_result",
          "data": {
            "text/plain": [
              "False"
            ]
          },
          "metadata": {},
          "execution_count": 7
        }
      ],
      "source": [
        "tot['id'].nunique() == len(tot['id'])"
      ]
    },
    {
      "cell_type": "code",
      "execution_count": 8,
      "metadata": {
        "id": "-MwpT4sA8W8t"
      },
      "outputs": [],
      "source": [
        "tot = tot.drop_duplicates(subset=\"id\", keep='last')\n",
        "tot = tot.drop_duplicates(subset=\"text\", keep='last')\n",
        "\n",
        "for index, row in tot.iterrows():  \n",
        "  try:\n",
        "    trashId = row['id']\n",
        "    trash = row['text'].lower()\n",
        "  except AttributeError as ae:\n",
        "    tot.drop(tot[tot['id'] == trashId].index, inplace=True)"
      ]
    },
    {
      "cell_type": "code",
      "execution_count": 9,
      "metadata": {
        "colab": {
          "base_uri": "https://localhost:8080/"
        },
        "id": "2cl7KnrbBuBZ",
        "outputId": "0649297f-c59c-4c6f-ab21-887d09cfa02a"
      },
      "outputs": [
        {
          "output_type": "execute_result",
          "data": {
            "text/plain": [
              "True"
            ]
          },
          "metadata": {},
          "execution_count": 9
        }
      ],
      "source": [
        "tot['id'].nunique() == len(tot['id'])"
      ]
    },
    {
      "cell_type": "code",
      "source": [
        "tot=tot.reset_index(drop=True)"
      ],
      "metadata": {
        "id": "d0bI7Sh4cazY"
      },
      "execution_count": 10,
      "outputs": []
    },
    {
      "cell_type": "code",
      "execution_count": 11,
      "metadata": {
        "colab": {
          "base_uri": "https://localhost:8080/"
        },
        "id": "ptB1Oeqf8ffG",
        "outputId": "24546627-8d6f-45cd-99d9-3f5e8ac9e604"
      },
      "outputs": [
        {
          "output_type": "execute_result",
          "data": {
            "text/plain": [
              "culture    6053\n",
              "music      6053\n",
              "food       6053\n",
              "fun        6053\n",
              "id         6053\n",
              "text       6053\n",
              "dtype: int64"
            ]
          },
          "metadata": {},
          "execution_count": 11
        }
      ],
      "source": [
        "tot.count()"
      ]
    },
    {
      "cell_type": "markdown",
      "metadata": {
        "id": "DwY_Pz15v7Dp"
      },
      "source": [
        "###**A1**: *PLOT DEL DATASET*"
      ]
    },
    {
      "cell_type": "code",
      "source": [
        "def getRandomIndex(df):\n",
        "  return random.randint(0, len(df) - 1)\n",
        "\n",
        "getRandomIndex(tot)"
      ],
      "metadata": {
        "colab": {
          "base_uri": "https://localhost:8080/"
        },
        "id": "vjPCPyGi1aw7",
        "outputId": "1adc44d8-9068-4387-a3a8-f2f3c1192c38"
      },
      "execution_count": 24,
      "outputs": [
        {
          "output_type": "execute_result",
          "data": {
            "text/plain": [
              "4948"
            ]
          },
          "metadata": {},
          "execution_count": 24
        }
      ]
    },
    {
      "cell_type": "markdown",
      "metadata": {
        "id": "dvJ9Lm8aweaN"
      },
      "source": [
        "Ecco i primi elementi del dataset."
      ]
    },
    {
      "cell_type": "code",
      "execution_count": 12,
      "metadata": {
        "colab": {
          "base_uri": "https://localhost:8080/",
          "height": 206
        },
        "id": "LY8K8O1KwXSZ",
        "outputId": "a5d462d5-fc16-41a6-e6af-3ff5ede658a7"
      },
      "outputs": [
        {
          "output_type": "execute_result",
          "data": {
            "text/plain": [
              "   culture  ...                                               text\n",
              "0        0  ...  Martedi 05 gennaio super tombolata al Barfly!\\...\n",
              "1        0  ...  Ingresso free senza obbligo di consumazione,se...\n",
              "2        1  ...  Giovedi 8 Marzo, Napulitanata \"celebra la donn...\n",
              "3        1  ...  yn e lieta di presentare\\n\\nNapoolyn x Resilie...\n",
              "4        0  ...  Serata live \\nVENERDI' 18 MARZO \\nUn piacevole...\n",
              "\n",
              "[5 rows x 6 columns]"
            ],
            "text/html": [
              "\n",
              "  <div id=\"df-5b761a00-a95e-4d53-9faf-2e906c9df7af\">\n",
              "    <div class=\"colab-df-container\">\n",
              "      <div>\n",
              "<style scoped>\n",
              "    .dataframe tbody tr th:only-of-type {\n",
              "        vertical-align: middle;\n",
              "    }\n",
              "\n",
              "    .dataframe tbody tr th {\n",
              "        vertical-align: top;\n",
              "    }\n",
              "\n",
              "    .dataframe thead th {\n",
              "        text-align: right;\n",
              "    }\n",
              "</style>\n",
              "<table border=\"1\" class=\"dataframe\">\n",
              "  <thead>\n",
              "    <tr style=\"text-align: right;\">\n",
              "      <th></th>\n",
              "      <th>culture</th>\n",
              "      <th>music</th>\n",
              "      <th>food</th>\n",
              "      <th>fun</th>\n",
              "      <th>id</th>\n",
              "      <th>text</th>\n",
              "    </tr>\n",
              "  </thead>\n",
              "  <tbody>\n",
              "    <tr>\n",
              "      <th>0</th>\n",
              "      <td>0</td>\n",
              "      <td>0</td>\n",
              "      <td>0</td>\n",
              "      <td>1</td>\n",
              "      <td>1000187186721956</td>\n",
              "      <td>Martedi 05 gennaio super tombolata al Barfly!\\...</td>\n",
              "    </tr>\n",
              "    <tr>\n",
              "      <th>1</th>\n",
              "      <td>0</td>\n",
              "      <td>1</td>\n",
              "      <td>0</td>\n",
              "      <td>1</td>\n",
              "      <td>100731190460200</td>\n",
              "      <td>Ingresso free senza obbligo di consumazione,se...</td>\n",
              "    </tr>\n",
              "    <tr>\n",
              "      <th>2</th>\n",
              "      <td>1</td>\n",
              "      <td>1</td>\n",
              "      <td>0</td>\n",
              "      <td>1</td>\n",
              "      <td>1014507045355357</td>\n",
              "      <td>Giovedi 8 Marzo, Napulitanata \"celebra la donn...</td>\n",
              "    </tr>\n",
              "    <tr>\n",
              "      <th>3</th>\n",
              "      <td>1</td>\n",
              "      <td>1</td>\n",
              "      <td>0</td>\n",
              "      <td>1</td>\n",
              "      <td>1015563648832823</td>\n",
              "      <td>yn e lieta di presentare\\n\\nNapoolyn x Resilie...</td>\n",
              "    </tr>\n",
              "    <tr>\n",
              "      <th>4</th>\n",
              "      <td>0</td>\n",
              "      <td>0</td>\n",
              "      <td>0</td>\n",
              "      <td>1</td>\n",
              "      <td>1021806692027608</td>\n",
              "      <td>Serata live \\nVENERDI' 18 MARZO \\nUn piacevole...</td>\n",
              "    </tr>\n",
              "  </tbody>\n",
              "</table>\n",
              "</div>\n",
              "      <button class=\"colab-df-convert\" onclick=\"convertToInteractive('df-5b761a00-a95e-4d53-9faf-2e906c9df7af')\"\n",
              "              title=\"Convert this dataframe to an interactive table.\"\n",
              "              style=\"display:none;\">\n",
              "        \n",
              "  <svg xmlns=\"http://www.w3.org/2000/svg\" height=\"24px\"viewBox=\"0 0 24 24\"\n",
              "       width=\"24px\">\n",
              "    <path d=\"M0 0h24v24H0V0z\" fill=\"none\"/>\n",
              "    <path d=\"M18.56 5.44l.94 2.06.94-2.06 2.06-.94-2.06-.94-.94-2.06-.94 2.06-2.06.94zm-11 1L8.5 8.5l.94-2.06 2.06-.94-2.06-.94L8.5 2.5l-.94 2.06-2.06.94zm10 10l.94 2.06.94-2.06 2.06-.94-2.06-.94-.94-2.06-.94 2.06-2.06.94z\"/><path d=\"M17.41 7.96l-1.37-1.37c-.4-.4-.92-.59-1.43-.59-.52 0-1.04.2-1.43.59L10.3 9.45l-7.72 7.72c-.78.78-.78 2.05 0 2.83L4 21.41c.39.39.9.59 1.41.59.51 0 1.02-.2 1.41-.59l7.78-7.78 2.81-2.81c.8-.78.8-2.07 0-2.86zM5.41 20L4 18.59l7.72-7.72 1.47 1.35L5.41 20z\"/>\n",
              "  </svg>\n",
              "      </button>\n",
              "      \n",
              "  <style>\n",
              "    .colab-df-container {\n",
              "      display:flex;\n",
              "      flex-wrap:wrap;\n",
              "      gap: 12px;\n",
              "    }\n",
              "\n",
              "    .colab-df-convert {\n",
              "      background-color: #E8F0FE;\n",
              "      border: none;\n",
              "      border-radius: 50%;\n",
              "      cursor: pointer;\n",
              "      display: none;\n",
              "      fill: #1967D2;\n",
              "      height: 32px;\n",
              "      padding: 0 0 0 0;\n",
              "      width: 32px;\n",
              "    }\n",
              "\n",
              "    .colab-df-convert:hover {\n",
              "      background-color: #E2EBFA;\n",
              "      box-shadow: 0px 1px 2px rgba(60, 64, 67, 0.3), 0px 1px 3px 1px rgba(60, 64, 67, 0.15);\n",
              "      fill: #174EA6;\n",
              "    }\n",
              "\n",
              "    [theme=dark] .colab-df-convert {\n",
              "      background-color: #3B4455;\n",
              "      fill: #D2E3FC;\n",
              "    }\n",
              "\n",
              "    [theme=dark] .colab-df-convert:hover {\n",
              "      background-color: #434B5C;\n",
              "      box-shadow: 0px 1px 3px 1px rgba(0, 0, 0, 0.15);\n",
              "      filter: drop-shadow(0px 1px 2px rgba(0, 0, 0, 0.3));\n",
              "      fill: #FFFFFF;\n",
              "    }\n",
              "  </style>\n",
              "\n",
              "      <script>\n",
              "        const buttonEl =\n",
              "          document.querySelector('#df-5b761a00-a95e-4d53-9faf-2e906c9df7af button.colab-df-convert');\n",
              "        buttonEl.style.display =\n",
              "          google.colab.kernel.accessAllowed ? 'block' : 'none';\n",
              "\n",
              "        async function convertToInteractive(key) {\n",
              "          const element = document.querySelector('#df-5b761a00-a95e-4d53-9faf-2e906c9df7af');\n",
              "          const dataTable =\n",
              "            await google.colab.kernel.invokeFunction('convertToInteractive',\n",
              "                                                     [key], {});\n",
              "          if (!dataTable) return;\n",
              "\n",
              "          const docLinkHtml = 'Like what you see? Visit the ' +\n",
              "            '<a target=\"_blank\" href=https://colab.research.google.com/notebooks/data_table.ipynb>data table notebook</a>'\n",
              "            + ' to learn more about interactive tables.';\n",
              "          element.innerHTML = '';\n",
              "          dataTable['output_type'] = 'display_data';\n",
              "          await google.colab.output.renderOutput(dataTable, element);\n",
              "          const docLink = document.createElement('div');\n",
              "          docLink.innerHTML = docLinkHtml;\n",
              "          element.appendChild(docLink);\n",
              "        }\n",
              "      </script>\n",
              "    </div>\n",
              "  </div>\n",
              "  "
            ]
          },
          "metadata": {},
          "execution_count": 12
        }
      ],
      "source": [
        "tot.head()"
      ]
    },
    {
      "cell_type": "code",
      "execution_count": 13,
      "metadata": {
        "colab": {
          "base_uri": "https://localhost:8080/"
        },
        "id": "DUBObwy6w4FS",
        "outputId": "800876a8-2696-4654-edb5-ddb6a08495c1"
      },
      "outputs": [
        {
          "output_type": "execute_result",
          "data": {
            "text/plain": [
              "culture     int64\n",
              "music       int64\n",
              "food        int64\n",
              "fun         int64\n",
              "id          int64\n",
              "text       object\n",
              "dtype: object"
            ]
          },
          "metadata": {},
          "execution_count": 13
        }
      ],
      "source": [
        "tot.dtypes"
      ]
    },
    {
      "cell_type": "code",
      "execution_count": 14,
      "metadata": {
        "colab": {
          "base_uri": "https://localhost:8080/",
          "height": 353
        },
        "id": "8g71sbx2w420",
        "outputId": "8531bdf1-7701-4e33-cef6-199734f171c4"
      },
      "outputs": [
        {
          "output_type": "stream",
          "name": "stderr",
          "text": [
            "/usr/local/lib/python3.8/dist-packages/seaborn/_decorators.py:36: FutureWarning: Pass the following variable as a keyword arg: x. From version 0.12, the only valid positional argument will be `data`, and passing other arguments without an explicit keyword will result in an error or misinterpretation.\n",
            "  warnings.warn(\n"
          ]
        },
        {
          "output_type": "execute_result",
          "data": {
            "text/plain": [
              "<matplotlib.axes._subplots.AxesSubplot at 0x7f90b404aa60>"
            ]
          },
          "metadata": {},
          "execution_count": 14
        },
        {
          "output_type": "display_data",
          "data": {
            "text/plain": [
              "<Figure size 432x288 with 1 Axes>"
            ],
            "image/png": "[encoded data removed]"
          },
          "metadata": {
            "needs_background": "light"
          }
        }
      ],
      "source": [
        "sns.countplot(tot['food'])"
      ]
    },
    {
      "cell_type": "code",
      "source": [
        "sns.countplot(tot['fun'])"
      ],
      "metadata": {
        "colab": {
          "base_uri": "https://localhost:8080/",
          "height": 353
        },
        "id": "cbHhcBGxxBV-",
        "outputId": "44eb1c6a-889d-4fd5-e624-26000238d437"
      },
      "execution_count": 15,
      "outputs": [
        {
          "output_type": "stream",
          "name": "stderr",
          "text": [
            "/usr/local/lib/python3.8/dist-packages/seaborn/_decorators.py:36: FutureWarning: Pass the following variable as a keyword arg: x. From version 0.12, the only valid positional argument will be `data`, and passing other arguments without an explicit keyword will result in an error or misinterpretation.\n",
            "  warnings.warn(\n"
          ]
        },
        {
          "output_type": "execute_result",
          "data": {
            "text/plain": [
              "<matplotlib.axes._subplots.AxesSubplot at 0x7f90afb0c130>"
            ]
          },
          "metadata": {},
          "execution_count": 15
        },
        {
          "output_type": "display_data",
          "data": {
            "text/plain": [
              "<Figure size 432x288 with 1 Axes>"
            ],
            "image/png": "[encoded data removed]"
          },
          "metadata": {
            "needs_background": "light"
          }
        }
      ]
    },
    {
      "cell_type": "code",
      "source": [
        "sns.countplot(tot['culture'])"
      ],
      "metadata": {
        "colab": {
          "base_uri": "https://localhost:8080/",
          "height": 353
        },
        "id": "5w_8COB_xCe6",
        "outputId": "ff7481e2-4151-49b2-c86d-56b782bd1ab1"
      },
      "execution_count": 16,
      "outputs": [
        {
          "output_type": "stream",
          "name": "stderr",
          "text": [
            "/usr/local/lib/python3.8/dist-packages/seaborn/_decorators.py:36: FutureWarning: Pass the following variable as a keyword arg: x. From version 0.12, the only valid positional argument will be `data`, and passing other arguments without an explicit keyword will result in an error or misinterpretation.\n",
            "  warnings.warn(\n"
          ]
        },
        {
          "output_type": "execute_result",
          "data": {
            "text/plain": [
              "<matplotlib.axes._subplots.AxesSubplot at 0x7f90afadb310>"
            ]
          },
          "metadata": {},
          "execution_count": 16
        },
        {
          "output_type": "display_data",
          "data": {
            "text/plain": [
              "<Figure size 432x288 with 1 Axes>"
            ],
            "image/png": "[encoded data removed]"
          },
          "metadata": {
            "needs_background": "light"
          }
        }
      ]
    },
    {
      "cell_type": "code",
      "source": [
        "sns.countplot(tot['music'])"
      ],
      "metadata": {
        "colab": {
          "base_uri": "https://localhost:8080/",
          "height": 353
        },
        "id": "EwBZ5HiWxEgc",
        "outputId": "f3580ce0-bcee-44ca-a238-1821d64ee558"
      },
      "execution_count": 17,
      "outputs": [
        {
          "output_type": "stream",
          "name": "stderr",
          "text": [
            "/usr/local/lib/python3.8/dist-packages/seaborn/_decorators.py:36: FutureWarning: Pass the following variable as a keyword arg: x. From version 0.12, the only valid positional argument will be `data`, and passing other arguments without an explicit keyword will result in an error or misinterpretation.\n",
            "  warnings.warn(\n"
          ]
        },
        {
          "output_type": "execute_result",
          "data": {
            "text/plain": [
              "<matplotlib.axes._subplots.AxesSubplot at 0x7f90afab0550>"
            ]
          },
          "metadata": {},
          "execution_count": 17
        },
        {
          "output_type": "display_data",
          "data": {
            "text/plain": [
              "<Figure size 432x288 with 1 Axes>"
            ],
            "image/png": "[encoded data removed]"
          },
          "metadata": {
            "needs_background": "light"
          }
        }
      ]
    },
    {
      "cell_type": "markdown",
      "metadata": {
        "id": "Gyt1jv97HSVg"
      },
      "source": [
        "##**B**: *PREPROCESS DELLE DESCRIZIONI*"
      ]
    },
    {
      "cell_type": "markdown",
      "metadata": {
        "id": "VGOdBAaRuLNS"
      },
      "source": [
        "###**B1**: *FUNZIONI PREPROCESSING*"
      ]
    },
    {
      "cell_type": "code",
      "execution_count": 53,
      "metadata": {
        "id": "4QeY8IGtuNEm",
        "colab": {
          "base_uri": "https://localhost:8080/",
          "height": 387,
          "referenced_widgets": [
            "55aece3ec5014f13b8c6ecc29c5542e7",
            "3380631bb47d4a42891f2e440fffa7a9",
            "83a7ba65a2ca4b43a349eec3b53a8ad8",
            "8d350a8a2f6d4006a97134adc13b6f06",
            "3312f42635bd43039bbaf380ecf3276c",
            "d5983c8783f6478d89dd1b2afe49b675",
            "5894a04b329c48eebb9a1cc93a74c5a8",
            "1411906756d944fdbe3afd771cf13a5b",
            "ba4a01cb049f4dba8b84b891ef26117c",
            "13a9f4c298d1441cad446e25fcad50ad",
            "0b1fd05f75e74d29baac4bd0a5430c02"
          ]
        },
        "outputId": "ed250d5a-1d66-4356-f852-0e85f01f7fee"
      },
      "outputs": [
        {
          "output_type": "stream",
          "name": "stderr",
          "text": [
            "INFO:stanza:Checking for updates to resources.json in case models have been updated.  Note: this behavior can be turned off with download_method=None or download_method=DownloadMethod.REUSE_RESOURCES\n"
          ]
        },
        {
          "output_type": "display_data",
          "data": {
            "text/plain": [
              "Downloading https://raw.githubusercontent.com/stanfordnlp/stanza-resources/main/resources_1.4.1.json:   0%|   …"
            ],
            "application/vnd.jupyter.widget-view+json": {
              "version_major": 2,
              "version_minor": 0,
              "model_id": "55aece3ec5014f13b8c6ecc29c5542e7"
            }
          },
          "metadata": {}
        },
        {
          "output_type": "stream",
          "name": "stderr",
          "text": [
            "WARNING:stanza:Language it package default expects mwt, which has been added\n",
            "INFO:stanza:Loading these models for language: it (Italian):\n",
            "========================\n",
            "| Processor | Package  |\n",
            "------------------------\n",
            "| tokenize  | combined |\n",
            "| mwt       | combined |\n",
            "| pos       | combined |\n",
            "========================\n",
            "\n",
            "INFO:stanza:Use device: cpu\n",
            "INFO:stanza:Loading: tokenize\n",
            "INFO:stanza:Loading: mwt\n",
            "INFO:stanza:Loading: pos\n",
            "INFO:stanza:Done loading processors!\n"
          ]
        }
      ],
      "source": [
        "def remove_numbers(input_string):\n",
        "    # Crea una tabella di traduzione che mappa tutti i numeri a None\n",
        "    translate_table = input_string.maketrans(\"\", \"\", string.digits)\n",
        "    # Utilizza la tabella di traduzione per rimuovere tutti i numeri\n",
        "    return input_string.translate(translate_table)\n",
        "\n",
        "def remove_punctuation(input_string):\n",
        "    for char in string.punctuation:\n",
        "          input_string = input_string.replace(char, \" \")\n",
        "    return input_string\n",
        "\n",
        "stnzPipe = stanza.Pipeline(lang='it', processors='tokenize,pos')\n",
        "\n",
        "def remove_non_N_V(input_string):\n",
        "    words = tkn(input_string)\n",
        "    doc = stnzPipe(' '.join(words))\n",
        "    tagged_words = [word.text for sent in doc.sentences for word in sent.words if word.upos in ['NOUN', 'VERB']]\n",
        "    return ' '.join(tagged_words)\n",
        "\n",
        "def preProcessDescription(description, stopwordsTotali, maxSeqLen = None,tokenizer = None):\n",
        "  words = remove_non_N_V(remove_punctuation(remove_numbers(description.lower()))).split()\n",
        "\n",
        "  parole_filtrate = [parola for parola in words if not parola in stopwordsTotali]\n",
        " \n",
        "  descrizione_filtrata = \" \".join(parole_filtrate)\n",
        "  if (maxSeqLen is None or tokenizer is None):\n",
        "    input_data = descrizione_filtrata\n",
        "  else:\n",
        "    # convert the text to a numerical representation\n",
        "    input_data = tokenizer.texts_to_sequences([descrizione_filtrata])\n",
        "    input_data = pad_sequences(input_data, maxlen=maxSeqLen,padding='post')\n",
        "    original_description = \"\"\n",
        "    for i, word in enumerate(input_data[0]):\n",
        "      if word == 1:\n",
        "        for key, value in tokenizer.word_index.items():\n",
        "          if value == i :\n",
        "            original_description += key + \" \"\n",
        "    print('Traduzione della sequenza numero in parole: ')\n",
        "    print(original_description)\n",
        "  return input_data"
      ]
    },
    {
      "cell_type": "markdown",
      "source": [
        "Wordnet Ontology Functions"
      ],
      "metadata": {
        "id": "vnJJgbD4acqb"
      }
    },
    {
      "cell_type": "code",
      "source": [
        "#Wordnet\n",
        "\n",
        "def get_syns(description):\n",
        "  test=[]\n",
        "  words = tkn(description)\n",
        "  for every in words:\n",
        "    if (every not in stopwordsTotali):\n",
        "      if(wn.synsets(every, lang ='ita') == []):\n",
        "        \n",
        "          test.append(wn.synsets(every))\n",
        "      else:\n",
        "        \n",
        "          test.append(wn.synsets(every, lang ='ita'))\n",
        "      #print('parola iniziale: ',every)\n",
        "      #print('synset: ',wn.synsets(every, lang ='ita'))\n",
        "  lemmatizer = WordNetLemmatizer()\n",
        "  out =[]\n",
        "  for each in range(len(test)):\n",
        "    for q in range(len(test[each])):\n",
        "      wordToAdd=lemmatizer.lemmatize(test[each][q].name().split('.')[0])\n",
        "      out.append(wordToAdd)\n",
        "      if(q==1):\n",
        "        #print(out)\n",
        "        break\n",
        "  #out=test\n",
        "  out=list(set(out))\n",
        "  return out\n",
        "\n",
        "def reduced_description(description):\n",
        "    # Tokenize the description\n",
        "    tokens = tkn(description)\n",
        "    # Reduce the words to their most common synset\n",
        "    reduced_description = []\n",
        "    for token in tokens:\n",
        "      try:\n",
        "          synset = wn.synsets(token, lang='ita',pos=wn.NOUN)\n",
        "         \n",
        "          \n",
        "          lemma = max(synset[0].lemmas(), key=lambda x: x.count()).name()\n",
        "          reduced_description.append(lemma)\n",
        "      except:\n",
        "        try:\n",
        "          synset = wn.synsets(token, lang='ita',pos=wn.VERB)\n",
        "          lemma = max(synset[0].lemmas(), key=lambda x: x.count()).name()\n",
        "          reduced_description.append(lemma)\n",
        "        except:\n",
        "          try:\n",
        "            synset = wn.synsets(token, lang='eng',pos=wn.NOUN)\n",
        "            lemma = max(synset[0].lemmas(), key=lambda x: x.count()).name()\n",
        "            reduced_description.append(lemma)\n",
        "          except:\n",
        "            try:\n",
        "                synset = wn.synsets(token, lang='eng',pos=wn.VERB)\n",
        "                lemma = max(synset[0].lemmas(), key=lambda x: x.count()).name()\n",
        "                reduced_description.append(lemma)\n",
        "            except:\n",
        "    \n",
        "                continue\n",
        "   \n",
        "    return list(set(reduced_description))\n",
        "\n",
        "\n",
        "def predict_closest_clusters(df, description, km, X, vectorizerTfIdf):\n",
        "\n",
        "    description=get_syns(description)\n",
        "\n",
        "    newWords = ''\n",
        "    \n",
        "    for each in description:\n",
        "      newWords = newWords + ' ' + each\n",
        "    description=newWords\n",
        "\n",
        "    # Transform the input description into a tf-idf representation\n",
        "    input_tfidf = vectorizerTfIdf.transform([description])\n",
        "\n",
        "    # Calculate the distances between the input and each of the 10 clusters\n",
        "    cluster_distances = km.transform(input_tfidf).flatten()\n",
        "\n",
        "    # Get the index of the closest cluster\n",
        "    closest_cluster_index = np.argmin(cluster_distances)\n",
        "\n",
        "    print(\"Il cluster più vicino è il cluster numero: \", closest_cluster_index)\n",
        "\n",
        "    terms = vectorizerTfIdf.get_feature_names()\n",
        "    top_ten_words = [terms[ind] for ind in order_centroids[closest_cluster_index, :5]]\n",
        "    print(\"Le sue parole più rilevanti sono: {}\".format(', '.join(top_ten_words)))\n",
        "    \n",
        "    # Calculate the distances between the input and each sample in X\n",
        "    sample_distances = pairwise_distances(input_tfidf, X).flatten()\n",
        "    # Get the indices of the 5 closest samples\n",
        "    closest_sample_indices = sample_distances.argsort()\n",
        "    print(\"I 5 eventi più importanti nel dataset sono:\")\n",
        "    count = 0\n",
        "    for i in closest_sample_indices: \n",
        "      if (len(df['text'][i]) > 100):\n",
        "        print(df['text'][i])\n",
        "        count = count + 1\n",
        "      if (count == 5):\n",
        "        break"
      ],
      "metadata": {
        "id": "rKFlhyXyabfj"
      },
      "execution_count": 19,
      "outputs": []
    },
    {
      "cell_type": "markdown",
      "metadata": {
        "id": "3X-GaEPguBRC"
      },
      "source": [
        "###**B2**: *PREPROCESSING*"
      ]
    },
    {
      "cell_type": "code",
      "execution_count": 20,
      "metadata": {
        "id": "P3oZZBH8v0Lk"
      },
      "outputs": [],
      "source": [
        "stp = open(\"/content/drive/MyDrive/Colab Notebooks/stopwordsita.txt\", \"r\")\n",
        "data = stp.read().split(\"\\n\")\n",
        "stp.close()\n",
        "stopwordsTotali = stopwords.words('italian') + stopwords.words('english') + data\n",
        "stopwordsTotali = list(set(stopwordsTotali).union(['il', 'lo', 'la', 'i', 'gli', 'le', 'una', 'un', 'uno', 'di', 'a', 'da', 'in', 'con', 'su', 'per', 'tra', 'fra', 'www', 'http', 'https', 'it','com']))"
      ]
    },
    {
      "cell_type": "code",
      "execution_count": 58,
      "metadata": {
        "id": "EAhQT3bVxBlj",
        "colab": {
          "base_uri": "https://localhost:8080/",
          "height": 393
        },
        "outputId": "d80d1659-6d63-4ddd-e209-ca422929cab4"
      },
      "outputs": [
        {
          "output_type": "error",
          "ename": "KeyboardInterrupt",
          "evalue": "ignored",
          "traceback": [
            "\u001b[0;31m---------------------------------------------------------------------------\u001b[0m",
            "\u001b[0;31mKeyboardInterrupt\u001b[0m                         Traceback (most recent call last)",
            "\u001b[0;32m<ipython-input-58-2e54d9b221fc>\u001b[0m in \u001b[0;36m<module>\u001b[0;34m\u001b[0m\n\u001b[1;32m      1\u001b[0m \u001b[0mdescrizioni_filtrate\u001b[0m \u001b[0;34m=\u001b[0m \u001b[0;34m[\u001b[0m\u001b[0;34m]\u001b[0m\u001b[0;34m\u001b[0m\u001b[0;34m\u001b[0m\u001b[0m\n\u001b[1;32m      2\u001b[0m \u001b[0;32mfor\u001b[0m \u001b[0mindex\u001b[0m\u001b[0;34m,\u001b[0m \u001b[0mevento\u001b[0m \u001b[0;32min\u001b[0m \u001b[0mtot\u001b[0m\u001b[0;34m.\u001b[0m\u001b[0miterrows\u001b[0m\u001b[0;34m(\u001b[0m\u001b[0;34m)\u001b[0m\u001b[0;34m:\u001b[0m\u001b[0;34m\u001b[0m\u001b[0;34m\u001b[0m\u001b[0m\n\u001b[0;32m----> 3\u001b[0;31m   \u001b[0mdescrizione_filtrata\u001b[0m\u001b[0;34m=\u001b[0m\u001b[0mpreProcessDescription\u001b[0m\u001b[0;34m(\u001b[0m\u001b[0mevento\u001b[0m\u001b[0;34m[\u001b[0m\u001b[0;34m'text'\u001b[0m\u001b[0;34m]\u001b[0m\u001b[0;34m,\u001b[0m\u001b[0mstopwordsTotali\u001b[0m\u001b[0;34m)\u001b[0m\u001b[0;34m\u001b[0m\u001b[0;34m\u001b[0m\u001b[0m\n\u001b[0m\u001b[1;32m      4\u001b[0m   '''parole = tkn(remove_punctuation(remove_numbers(str(descrizione['text']).lower())))\n\u001b[1;32m      5\u001b[0m   \u001b[0mparole_filtrate\u001b[0m \u001b[0;34m=\u001b[0m \u001b[0;34m[\u001b[0m\u001b[0mparola\u001b[0m \u001b[0;32mfor\u001b[0m \u001b[0mparola\u001b[0m \u001b[0;32min\u001b[0m \u001b[0mparole\u001b[0m \u001b[0;32mif\u001b[0m \u001b[0;32mnot\u001b[0m \u001b[0mparola\u001b[0m \u001b[0;32min\u001b[0m \u001b[0mstopwordsTotali\u001b[0m\u001b[0;34m]\u001b[0m\u001b[0;34m\u001b[0m\u001b[0;34m\u001b[0m\u001b[0m\n",
            "\u001b[0;32m<ipython-input-53-c9ae0a381239>\u001b[0m in \u001b[0;36mpreProcessDescription\u001b[0;34m(description, stopwordsTotali, maxSeqLen, tokenizer)\u001b[0m\n\u001b[1;32m     19\u001b[0m \u001b[0;34m\u001b[0m\u001b[0m\n\u001b[1;32m     20\u001b[0m \u001b[0;32mdef\u001b[0m \u001b[0mpreProcessDescription\u001b[0m\u001b[0;34m(\u001b[0m\u001b[0mdescription\u001b[0m\u001b[0;34m,\u001b[0m \u001b[0mstopwordsTotali\u001b[0m\u001b[0;34m,\u001b[0m \u001b[0mmaxSeqLen\u001b[0m \u001b[0;34m=\u001b[0m \u001b[0;32mNone\u001b[0m\u001b[0;34m,\u001b[0m\u001b[0mtokenizer\u001b[0m \u001b[0;34m=\u001b[0m \u001b[0;32mNone\u001b[0m\u001b[0;34m)\u001b[0m\u001b[0;34m:\u001b[0m\u001b[0;34m\u001b[0m\u001b[0;34m\u001b[0m\u001b[0m\n\u001b[0;32m---> 21\u001b[0;31m   \u001b[0mwords\u001b[0m \u001b[0;34m=\u001b[0m \u001b[0mremove_non_N_V\u001b[0m\u001b[0;34m(\u001b[0m\u001b[0mremove_punctuation\u001b[0m\u001b[0;34m(\u001b[0m\u001b[0mremove_numbers\u001b[0m\u001b[0;34m(\u001b[0m\u001b[0mdescription\u001b[0m\u001b[0;34m.\u001b[0m\u001b[0mlower\u001b[0m\u001b[0;34m(\u001b[0m\u001b[0;34m)\u001b[0m\u001b[0;34m)\u001b[0m\u001b[0;34m)\u001b[0m\u001b[0;34m)\u001b[0m\u001b[0;34m.\u001b[0m\u001b[0msplit\u001b[0m\u001b[0;34m(\u001b[0m\u001b[0;34m)\u001b[0m\u001b[0;34m\u001b[0m\u001b[0;34m\u001b[0m\u001b[0m\n\u001b[0m\u001b[1;32m     22\u001b[0m \u001b[0;34m\u001b[0m\u001b[0m\n\u001b[1;32m     23\u001b[0m   \u001b[0mparole_filtrate\u001b[0m \u001b[0;34m=\u001b[0m \u001b[0;34m[\u001b[0m\u001b[0mparola\u001b[0m \u001b[0;32mfor\u001b[0m \u001b[0mparola\u001b[0m \u001b[0;32min\u001b[0m \u001b[0mwords\u001b[0m \u001b[0;32mif\u001b[0m \u001b[0;32mnot\u001b[0m \u001b[0mparola\u001b[0m \u001b[0;32min\u001b[0m \u001b[0mstopwordsTotali\u001b[0m\u001b[0;34m]\u001b[0m\u001b[0;34m\u001b[0m\u001b[0;34m\u001b[0m\u001b[0m\n",
            "\u001b[0;32m<ipython-input-53-c9ae0a381239>\u001b[0m in \u001b[0;36mremove_non_N_V\u001b[0;34m(input_string)\u001b[0m\n\u001b[1;32m     14\u001b[0m \u001b[0;32mdef\u001b[0m \u001b[0mremove_non_N_V\u001b[0m\u001b[0;34m(\u001b[0m\u001b[0minput_string\u001b[0m\u001b[0;34m)\u001b[0m\u001b[0;34m:\u001b[0m\u001b[0;34m\u001b[0m\u001b[0;34m\u001b[0m\u001b[0m\n\u001b[1;32m     15\u001b[0m     \u001b[0mwords\u001b[0m \u001b[0;34m=\u001b[0m \u001b[0mtkn\u001b[0m\u001b[0;34m(\u001b[0m\u001b[0minput_string\u001b[0m\u001b[0;34m)\u001b[0m\u001b[0;34m\u001b[0m\u001b[0;34m\u001b[0m\u001b[0m\n\u001b[0;32m---> 16\u001b[0;31m     \u001b[0mdoc\u001b[0m \u001b[0;34m=\u001b[0m \u001b[0mnlp\u001b[0m\u001b[0;34m(\u001b[0m\u001b[0;34m' '\u001b[0m\u001b[0;34m.\u001b[0m\u001b[0mjoin\u001b[0m\u001b[0;34m(\u001b[0m\u001b[0mwords\u001b[0m\u001b[0;34m)\u001b[0m\u001b[0;34m)\u001b[0m\u001b[0;34m\u001b[0m\u001b[0;34m\u001b[0m\u001b[0m\n\u001b[0m\u001b[1;32m     17\u001b[0m     \u001b[0mtagged_words\u001b[0m \u001b[0;34m=\u001b[0m \u001b[0;34m[\u001b[0m\u001b[0mword\u001b[0m\u001b[0;34m.\u001b[0m\u001b[0mtext\u001b[0m \u001b[0;32mfor\u001b[0m \u001b[0msent\u001b[0m \u001b[0;32min\u001b[0m \u001b[0mdoc\u001b[0m\u001b[0;34m.\u001b[0m\u001b[0msentences\u001b[0m \u001b[0;32mfor\u001b[0m \u001b[0mword\u001b[0m \u001b[0;32min\u001b[0m \u001b[0msent\u001b[0m\u001b[0;34m.\u001b[0m\u001b[0mwords\u001b[0m \u001b[0;32mif\u001b[0m \u001b[0mword\u001b[0m\u001b[0;34m.\u001b[0m\u001b[0mupos\u001b[0m \u001b[0;32min\u001b[0m \u001b[0;34m[\u001b[0m\u001b[0;34m'NOUN'\u001b[0m\u001b[0;34m,\u001b[0m \u001b[0;34m'VERB'\u001b[0m\u001b[0;34m]\u001b[0m\u001b[0;34m]\u001b[0m\u001b[0;34m\u001b[0m\u001b[0;34m\u001b[0m\u001b[0m\n\u001b[1;32m     18\u001b[0m     \u001b[0;32mreturn\u001b[0m \u001b[0;34m' '\u001b[0m\u001b[0;34m.\u001b[0m\u001b[0mjoin\u001b[0m\u001b[0;34m(\u001b[0m\u001b[0mtagged_words\u001b[0m\u001b[0;34m)\u001b[0m\u001b[0;34m\u001b[0m\u001b[0;34m\u001b[0m\u001b[0m\n",
            "\u001b[0;32m/usr/local/lib/python3.8/dist-packages/stanza/pipeline/core.py\u001b[0m in \u001b[0;36m__call__\u001b[0;34m(self, doc, processors)\u001b[0m\n\u001b[1;32m    406\u001b[0m \u001b[0;34m\u001b[0m\u001b[0m\n\u001b[1;32m    407\u001b[0m     \u001b[0;32mdef\u001b[0m \u001b[0m__call__\u001b[0m\u001b[0;34m(\u001b[0m\u001b[0mself\u001b[0m\u001b[0;34m,\u001b[0m \u001b[0mdoc\u001b[0m\u001b[0;34m,\u001b[0m \u001b[0mprocessors\u001b[0m\u001b[0;34m=\u001b[0m\u001b[0;32mNone\u001b[0m\u001b[0;34m)\u001b[0m\u001b[0;34m:\u001b[0m\u001b[0;34m\u001b[0m\u001b[0;34m\u001b[0m\u001b[0m\n\u001b[0;32m--> 408\u001b[0;31m         \u001b[0;32mreturn\u001b[0m \u001b[0mself\u001b[0m\u001b[0;34m.\u001b[0m\u001b[0mprocess\u001b[0m\u001b[0;34m(\u001b[0m\u001b[0mdoc\u001b[0m\u001b[0;34m,\u001b[0m \u001b[0mprocessors\u001b[0m\u001b[0;34m)\u001b[0m\u001b[0;34m\u001b[0m\u001b[0;34m\u001b[0m\u001b[0m\n\u001b[0m\u001b[1;32m    409\u001b[0m \u001b[0;34m\u001b[0m\u001b[0m\n",
            "\u001b[0;32m/usr/local/lib/python3.8/dist-packages/stanza/pipeline/core.py\u001b[0m in \u001b[0;36mprocess\u001b[0;34m(self, doc, processors)\u001b[0m\n\u001b[1;32m    395\u001b[0m             \u001b[0;32mif\u001b[0m \u001b[0mself\u001b[0m\u001b[0;34m.\u001b[0m\u001b[0mprocessors\u001b[0m\u001b[0;34m.\u001b[0m\u001b[0mget\u001b[0m\u001b[0;34m(\u001b[0m\u001b[0mprocessor_name\u001b[0m\u001b[0;34m)\u001b[0m\u001b[0;34m:\u001b[0m\u001b[0;34m\u001b[0m\u001b[0;34m\u001b[0m\u001b[0m\n\u001b[1;32m    396\u001b[0m                 \u001b[0mprocess\u001b[0m \u001b[0;34m=\u001b[0m \u001b[0mself\u001b[0m\u001b[0;34m.\u001b[0m\u001b[0mprocessors\u001b[0m\u001b[0;34m[\u001b[0m\u001b[0mprocessor_name\u001b[0m\u001b[0;34m]\u001b[0m\u001b[0;34m.\u001b[0m\u001b[0mbulk_process\u001b[0m \u001b[0;32mif\u001b[0m \u001b[0mbulk\u001b[0m \u001b[0;32melse\u001b[0m \u001b[0mself\u001b[0m\u001b[0;34m.\u001b[0m\u001b[0mprocessors\u001b[0m\u001b[0;34m[\u001b[0m\u001b[0mprocessor_name\u001b[0m\u001b[0;34m]\u001b[0m\u001b[0;34m.\u001b[0m\u001b[0mprocess\u001b[0m\u001b[0;34m\u001b[0m\u001b[0;34m\u001b[0m\u001b[0m\n\u001b[0;32m--> 397\u001b[0;31m                 \u001b[0mdoc\u001b[0m \u001b[0;34m=\u001b[0m \u001b[0mprocess\u001b[0m\u001b[0;34m(\u001b[0m\u001b[0mdoc\u001b[0m\u001b[0;34m)\u001b[0m\u001b[0;34m\u001b[0m\u001b[0;34m\u001b[0m\u001b[0m\n\u001b[0m\u001b[1;32m    398\u001b[0m         \u001b[0;32mreturn\u001b[0m \u001b[0mdoc\u001b[0m\u001b[0;34m\u001b[0m\u001b[0;34m\u001b[0m\u001b[0m\n\u001b[1;32m    399\u001b[0m \u001b[0;34m\u001b[0m\u001b[0m\n",
            "\u001b[0;32m/usr/local/lib/python3.8/dist-packages/stanza/pipeline/pos_processor.py\u001b[0m in \u001b[0;36mprocess\u001b[0;34m(self, document)\u001b[0m\n\u001b[1;32m     75\u001b[0m         \u001b[0;32melse\u001b[0m\u001b[0;34m:\u001b[0m\u001b[0;34m\u001b[0m\u001b[0;34m\u001b[0m\u001b[0m\n\u001b[1;32m     76\u001b[0m             \u001b[0;32mfor\u001b[0m \u001b[0mi\u001b[0m\u001b[0;34m,\u001b[0m \u001b[0mb\u001b[0m \u001b[0;32min\u001b[0m \u001b[0menumerate\u001b[0m\u001b[0;34m(\u001b[0m\u001b[0mbatch\u001b[0m\u001b[0;34m)\u001b[0m\u001b[0;34m:\u001b[0m\u001b[0;34m\u001b[0m\u001b[0;34m\u001b[0m\u001b[0m\n\u001b[0;32m---> 77\u001b[0;31m                 \u001b[0mpreds\u001b[0m \u001b[0;34m+=\u001b[0m \u001b[0mself\u001b[0m\u001b[0;34m.\u001b[0m\u001b[0mtrainer\u001b[0m\u001b[0;34m.\u001b[0m\u001b[0mpredict\u001b[0m\u001b[0;34m(\u001b[0m\u001b[0mb\u001b[0m\u001b[0;34m)\u001b[0m\u001b[0;34m\u001b[0m\u001b[0;34m\u001b[0m\u001b[0m\n\u001b[0m\u001b[1;32m     78\u001b[0m \u001b[0;34m\u001b[0m\u001b[0m\n\u001b[1;32m     79\u001b[0m         \u001b[0mpreds\u001b[0m \u001b[0;34m=\u001b[0m \u001b[0munsort\u001b[0m\u001b[0;34m(\u001b[0m\u001b[0mpreds\u001b[0m\u001b[0;34m,\u001b[0m \u001b[0mbatch\u001b[0m\u001b[0;34m.\u001b[0m\u001b[0mdata_orig_idx\u001b[0m\u001b[0;34m)\u001b[0m\u001b[0;34m\u001b[0m\u001b[0;34m\u001b[0m\u001b[0m\n",
            "\u001b[0;32m/usr/local/lib/python3.8/dist-packages/stanza/models/pos/trainer.py\u001b[0m in \u001b[0;36mpredict\u001b[0;34m(self, batch, unsort)\u001b[0m\n\u001b[1;32m     72\u001b[0m         \u001b[0mself\u001b[0m\u001b[0;34m.\u001b[0m\u001b[0mmodel\u001b[0m\u001b[0;34m.\u001b[0m\u001b[0meval\u001b[0m\u001b[0;34m(\u001b[0m\u001b[0;34m)\u001b[0m\u001b[0;34m\u001b[0m\u001b[0;34m\u001b[0m\u001b[0m\n\u001b[1;32m     73\u001b[0m         \u001b[0mbatch_size\u001b[0m \u001b[0;34m=\u001b[0m \u001b[0mword\u001b[0m\u001b[0;34m.\u001b[0m\u001b[0msize\u001b[0m\u001b[0;34m(\u001b[0m\u001b[0;36m0\u001b[0m\u001b[0;34m)\u001b[0m\u001b[0;34m\u001b[0m\u001b[0;34m\u001b[0m\u001b[0m\n\u001b[0;32m---> 74\u001b[0;31m         \u001b[0m_\u001b[0m\u001b[0;34m,\u001b[0m \u001b[0mpreds\u001b[0m \u001b[0;34m=\u001b[0m \u001b[0mself\u001b[0m\u001b[0;34m.\u001b[0m\u001b[0mmodel\u001b[0m\u001b[0;34m(\u001b[0m\u001b[0mword\u001b[0m\u001b[0;34m,\u001b[0m \u001b[0mword_mask\u001b[0m\u001b[0;34m,\u001b[0m \u001b[0mwordchars\u001b[0m\u001b[0;34m,\u001b[0m \u001b[0mwordchars_mask\u001b[0m\u001b[0;34m,\u001b[0m \u001b[0mupos\u001b[0m\u001b[0;34m,\u001b[0m \u001b[0mxpos\u001b[0m\u001b[0;34m,\u001b[0m \u001b[0mufeats\u001b[0m\u001b[0;34m,\u001b[0m \u001b[0mpretrained\u001b[0m\u001b[0;34m,\u001b[0m \u001b[0mword_orig_idx\u001b[0m\u001b[0;34m,\u001b[0m \u001b[0msentlens\u001b[0m\u001b[0;34m,\u001b[0m \u001b[0mwordlens\u001b[0m\u001b[0;34m,\u001b[0m \u001b[0mtext\u001b[0m\u001b[0;34m)\u001b[0m\u001b[0;34m\u001b[0m\u001b[0;34m\u001b[0m\u001b[0m\n\u001b[0m\u001b[1;32m     75\u001b[0m         \u001b[0mupos_seqs\u001b[0m \u001b[0;34m=\u001b[0m \u001b[0;34m[\u001b[0m\u001b[0mself\u001b[0m\u001b[0;34m.\u001b[0m\u001b[0mvocab\u001b[0m\u001b[0;34m[\u001b[0m\u001b[0;34m'upos'\u001b[0m\u001b[0;34m]\u001b[0m\u001b[0;34m.\u001b[0m\u001b[0munmap\u001b[0m\u001b[0;34m(\u001b[0m\u001b[0msent\u001b[0m\u001b[0;34m)\u001b[0m \u001b[0;32mfor\u001b[0m \u001b[0msent\u001b[0m \u001b[0;32min\u001b[0m \u001b[0mpreds\u001b[0m\u001b[0;34m[\u001b[0m\u001b[0;36m0\u001b[0m\u001b[0;34m]\u001b[0m\u001b[0;34m.\u001b[0m\u001b[0mtolist\u001b[0m\u001b[0;34m(\u001b[0m\u001b[0;34m)\u001b[0m\u001b[0;34m]\u001b[0m\u001b[0;34m\u001b[0m\u001b[0;34m\u001b[0m\u001b[0m\n\u001b[1;32m     76\u001b[0m         \u001b[0mxpos_seqs\u001b[0m \u001b[0;34m=\u001b[0m \u001b[0;34m[\u001b[0m\u001b[0mself\u001b[0m\u001b[0;34m.\u001b[0m\u001b[0mvocab\u001b[0m\u001b[0;34m[\u001b[0m\u001b[0;34m'xpos'\u001b[0m\u001b[0;34m]\u001b[0m\u001b[0;34m.\u001b[0m\u001b[0munmap\u001b[0m\u001b[0;34m(\u001b[0m\u001b[0msent\u001b[0m\u001b[0;34m)\u001b[0m \u001b[0;32mfor\u001b[0m \u001b[0msent\u001b[0m \u001b[0;32min\u001b[0m \u001b[0mpreds\u001b[0m\u001b[0;34m[\u001b[0m\u001b[0;36m1\u001b[0m\u001b[0;34m]\u001b[0m\u001b[0;34m.\u001b[0m\u001b[0mtolist\u001b[0m\u001b[0;34m(\u001b[0m\u001b[0;34m)\u001b[0m\u001b[0;34m]\u001b[0m\u001b[0;34m\u001b[0m\u001b[0;34m\u001b[0m\u001b[0m\n",
            "\u001b[0;32m/usr/local/lib/python3.8/dist-packages/torch/nn/modules/module.py\u001b[0m in \u001b[0;36m_call_impl\u001b[0;34m(self, *input, **kwargs)\u001b[0m\n\u001b[1;32m   1192\u001b[0m         if not (self._backward_hooks or self._forward_hooks or self._forward_pre_hooks or _global_backward_hooks\n\u001b[1;32m   1193\u001b[0m                 or _global_forward_hooks or _global_forward_pre_hooks):\n\u001b[0;32m-> 1194\u001b[0;31m             \u001b[0;32mreturn\u001b[0m \u001b[0mforward_call\u001b[0m\u001b[0;34m(\u001b[0m\u001b[0;34m*\u001b[0m\u001b[0minput\u001b[0m\u001b[0;34m,\u001b[0m \u001b[0;34m**\u001b[0m\u001b[0mkwargs\u001b[0m\u001b[0;34m)\u001b[0m\u001b[0;34m\u001b[0m\u001b[0;34m\u001b[0m\u001b[0m\n\u001b[0m\u001b[1;32m   1195\u001b[0m         \u001b[0;31m# Do not call functions when jit is used\u001b[0m\u001b[0;34m\u001b[0m\u001b[0;34m\u001b[0m\u001b[0;34m\u001b[0m\u001b[0m\n\u001b[1;32m   1196\u001b[0m         \u001b[0mfull_backward_hooks\u001b[0m\u001b[0;34m,\u001b[0m \u001b[0mnon_full_backward_hooks\u001b[0m \u001b[0;34m=\u001b[0m \u001b[0;34m[\u001b[0m\u001b[0;34m]\u001b[0m\u001b[0;34m,\u001b[0m \u001b[0;34m[\u001b[0m\u001b[0;34m]\u001b[0m\u001b[0;34m\u001b[0m\u001b[0;34m\u001b[0m\u001b[0m\n",
            "\u001b[0;32m/usr/local/lib/python3.8/dist-packages/stanza/models/pos/model.py\u001b[0m in \u001b[0;36mforward\u001b[0;34m(self, word, word_mask, wordchars, wordchars_mask, upos, xpos, ufeats, pretrained, word_orig_idx, sentlens, wordlens, text)\u001b[0m\n\u001b[1;32m    131\u001b[0m         \u001b[0;32mif\u001b[0m \u001b[0mself\u001b[0m\u001b[0;34m.\u001b[0m\u001b[0margs\u001b[0m\u001b[0;34m[\u001b[0m\u001b[0;34m'char'\u001b[0m\u001b[0;34m]\u001b[0m \u001b[0;32mand\u001b[0m \u001b[0mself\u001b[0m\u001b[0;34m.\u001b[0m\u001b[0margs\u001b[0m\u001b[0;34m[\u001b[0m\u001b[0;34m'char_emb_dim'\u001b[0m\u001b[0;34m]\u001b[0m \u001b[0;34m>\u001b[0m \u001b[0;36m0\u001b[0m\u001b[0;34m:\u001b[0m\u001b[0;34m\u001b[0m\u001b[0;34m\u001b[0m\u001b[0m\n\u001b[1;32m    132\u001b[0m             \u001b[0;32mif\u001b[0m \u001b[0mself\u001b[0m\u001b[0;34m.\u001b[0m\u001b[0margs\u001b[0m\u001b[0;34m.\u001b[0m\u001b[0mget\u001b[0m\u001b[0;34m(\u001b[0m\u001b[0;34m'charlm'\u001b[0m\u001b[0;34m,\u001b[0m \u001b[0;32mNone\u001b[0m\u001b[0;34m)\u001b[0m\u001b[0;34m:\u001b[0m\u001b[0;34m\u001b[0m\u001b[0;34m\u001b[0m\u001b[0m\n\u001b[0;32m--> 133\u001b[0;31m                 \u001b[0mall_forward_chars\u001b[0m \u001b[0;34m=\u001b[0m \u001b[0mself\u001b[0m\u001b[0;34m.\u001b[0m\u001b[0mcharmodel_forward\u001b[0m\u001b[0;34m.\u001b[0m\u001b[0mbuild_char_representation\u001b[0m\u001b[0;34m(\u001b[0m\u001b[0mtext\u001b[0m\u001b[0;34m)\u001b[0m\u001b[0;34m\u001b[0m\u001b[0;34m\u001b[0m\u001b[0m\n\u001b[0m\u001b[1;32m    134\u001b[0m                 \u001b[0mall_forward_chars\u001b[0m \u001b[0;34m=\u001b[0m \u001b[0mpack\u001b[0m\u001b[0;34m(\u001b[0m\u001b[0mpad_sequence\u001b[0m\u001b[0;34m(\u001b[0m\u001b[0mall_forward_chars\u001b[0m\u001b[0;34m,\u001b[0m \u001b[0mbatch_first\u001b[0m\u001b[0;34m=\u001b[0m\u001b[0;32mTrue\u001b[0m\u001b[0;34m)\u001b[0m\u001b[0;34m)\u001b[0m\u001b[0;34m\u001b[0m\u001b[0;34m\u001b[0m\u001b[0m\n\u001b[1;32m    135\u001b[0m                 \u001b[0mall_backward_chars\u001b[0m \u001b[0;34m=\u001b[0m \u001b[0mself\u001b[0m\u001b[0;34m.\u001b[0m\u001b[0mcharmodel_backward\u001b[0m\u001b[0;34m.\u001b[0m\u001b[0mbuild_char_representation\u001b[0m\u001b[0;34m(\u001b[0m\u001b[0mtext\u001b[0m\u001b[0;34m)\u001b[0m\u001b[0;34m\u001b[0m\u001b[0;34m\u001b[0m\u001b[0m\n",
            "\u001b[0;32m/usr/local/lib/python3.8/dist-packages/stanza/models/common/char_model.py\u001b[0m in \u001b[0;36mbuild_char_representation\u001b[0;34m(self, sentences)\u001b[0m\n\u001b[1;32m    177\u001b[0m \u001b[0;34m\u001b[0m\u001b[0m\n\u001b[1;32m    178\u001b[0m         \u001b[0;32mwith\u001b[0m \u001b[0mtorch\u001b[0m\u001b[0;34m.\u001b[0m\u001b[0mno_grad\u001b[0m\u001b[0;34m(\u001b[0m\u001b[0;34m)\u001b[0m\u001b[0;34m:\u001b[0m\u001b[0;34m\u001b[0m\u001b[0;34m\u001b[0m\u001b[0m\n\u001b[0;32m--> 179\u001b[0;31m             \u001b[0moutput\u001b[0m\u001b[0;34m,\u001b[0m \u001b[0m_\u001b[0m\u001b[0;34m,\u001b[0m \u001b[0m_\u001b[0m \u001b[0;34m=\u001b[0m \u001b[0mself\u001b[0m\u001b[0;34m.\u001b[0m\u001b[0mforward\u001b[0m\u001b[0;34m(\u001b[0m\u001b[0mchars\u001b[0m\u001b[0;34m,\u001b[0m \u001b[0mchar_lens\u001b[0m\u001b[0;34m)\u001b[0m\u001b[0;34m\u001b[0m\u001b[0;34m\u001b[0m\u001b[0m\n\u001b[0m\u001b[1;32m    180\u001b[0m             \u001b[0mres\u001b[0m \u001b[0;34m=\u001b[0m \u001b[0;34m[\u001b[0m\u001b[0moutput\u001b[0m\u001b[0;34m[\u001b[0m\u001b[0mi\u001b[0m\u001b[0;34m,\u001b[0m \u001b[0moffsets\u001b[0m\u001b[0;34m]\u001b[0m \u001b[0;32mfor\u001b[0m \u001b[0mi\u001b[0m\u001b[0;34m,\u001b[0m \u001b[0moffsets\u001b[0m \u001b[0;32min\u001b[0m \u001b[0menumerate\u001b[0m\u001b[0;34m(\u001b[0m\u001b[0mchar_offsets\u001b[0m\u001b[0;34m)\u001b[0m\u001b[0;34m]\u001b[0m\u001b[0;34m\u001b[0m\u001b[0;34m\u001b[0m\u001b[0m\n\u001b[1;32m    181\u001b[0m             \u001b[0mres\u001b[0m \u001b[0;34m=\u001b[0m \u001b[0munsort\u001b[0m\u001b[0;34m(\u001b[0m\u001b[0mres\u001b[0m\u001b[0;34m,\u001b[0m \u001b[0morig_idx\u001b[0m\u001b[0;34m)\u001b[0m\u001b[0;34m\u001b[0m\u001b[0;34m\u001b[0m\u001b[0m\n",
            "\u001b[0;32m/usr/local/lib/python3.8/dist-packages/stanza/models/common/char_model.py\u001b[0m in \u001b[0;36mforward\u001b[0;34m(self, chars, charlens, hidden)\u001b[0m\n\u001b[1;32m    132\u001b[0m         \u001b[0moutput\u001b[0m\u001b[0;34m,\u001b[0m \u001b[0mhidden\u001b[0m \u001b[0;34m=\u001b[0m \u001b[0mself\u001b[0m\u001b[0;34m.\u001b[0m\u001b[0mcharlstm\u001b[0m\u001b[0;34m(\u001b[0m\u001b[0membs\u001b[0m\u001b[0;34m,\u001b[0m \u001b[0mcharlens\u001b[0m\u001b[0;34m,\u001b[0m \u001b[0mhx\u001b[0m\u001b[0;34m=\u001b[0m\u001b[0mhidden\u001b[0m\u001b[0;34m)\u001b[0m\u001b[0;34m\u001b[0m\u001b[0;34m\u001b[0m\u001b[0m\n\u001b[1;32m    133\u001b[0m         \u001b[0moutput\u001b[0m \u001b[0;34m=\u001b[0m \u001b[0mself\u001b[0m\u001b[0;34m.\u001b[0m\u001b[0mdropout\u001b[0m\u001b[0;34m(\u001b[0m\u001b[0mpad_packed_sequence\u001b[0m\u001b[0;34m(\u001b[0m\u001b[0moutput\u001b[0m\u001b[0;34m,\u001b[0m \u001b[0mbatch_first\u001b[0m\u001b[0;34m=\u001b[0m\u001b[0;32mTrue\u001b[0m\u001b[0;34m)\u001b[0m\u001b[0;34m[\u001b[0m\u001b[0;36m0\u001b[0m\u001b[0;34m]\u001b[0m\u001b[0;34m)\u001b[0m\u001b[0;34m\u001b[0m\u001b[0;34m\u001b[0m\u001b[0m\n\u001b[0;32m--> 134\u001b[0;31m         \u001b[0mdecoded\u001b[0m \u001b[0;34m=\u001b[0m \u001b[0mself\u001b[0m\u001b[0;34m.\u001b[0m\u001b[0mdecoder\u001b[0m\u001b[0;34m(\u001b[0m\u001b[0moutput\u001b[0m\u001b[0;34m)\u001b[0m\u001b[0;34m\u001b[0m\u001b[0;34m\u001b[0m\u001b[0m\n\u001b[0m\u001b[1;32m    135\u001b[0m         \u001b[0;32mreturn\u001b[0m \u001b[0moutput\u001b[0m\u001b[0;34m,\u001b[0m \u001b[0mhidden\u001b[0m\u001b[0;34m,\u001b[0m \u001b[0mdecoded\u001b[0m\u001b[0;34m\u001b[0m\u001b[0;34m\u001b[0m\u001b[0m\n\u001b[1;32m    136\u001b[0m \u001b[0;34m\u001b[0m\u001b[0m\n",
            "\u001b[0;32m/usr/local/lib/python3.8/dist-packages/torch/nn/modules/module.py\u001b[0m in \u001b[0;36m_call_impl\u001b[0;34m(self, *input, **kwargs)\u001b[0m\n\u001b[1;32m   1192\u001b[0m         if not (self._backward_hooks or self._forward_hooks or self._forward_pre_hooks or _global_backward_hooks\n\u001b[1;32m   1193\u001b[0m                 or _global_forward_hooks or _global_forward_pre_hooks):\n\u001b[0;32m-> 1194\u001b[0;31m             \u001b[0;32mreturn\u001b[0m \u001b[0mforward_call\u001b[0m\u001b[0;34m(\u001b[0m\u001b[0;34m*\u001b[0m\u001b[0minput\u001b[0m\u001b[0;34m,\u001b[0m \u001b[0;34m**\u001b[0m\u001b[0mkwargs\u001b[0m\u001b[0;34m)\u001b[0m\u001b[0;34m\u001b[0m\u001b[0;34m\u001b[0m\u001b[0m\n\u001b[0m\u001b[1;32m   1195\u001b[0m         \u001b[0;31m# Do not call functions when jit is used\u001b[0m\u001b[0;34m\u001b[0m\u001b[0;34m\u001b[0m\u001b[0;34m\u001b[0m\u001b[0m\n\u001b[1;32m   1196\u001b[0m         \u001b[0mfull_backward_hooks\u001b[0m\u001b[0;34m,\u001b[0m \u001b[0mnon_full_backward_hooks\u001b[0m \u001b[0;34m=\u001b[0m \u001b[0;34m[\u001b[0m\u001b[0;34m]\u001b[0m\u001b[0;34m,\u001b[0m \u001b[0;34m[\u001b[0m\u001b[0;34m]\u001b[0m\u001b[0;34m\u001b[0m\u001b[0;34m\u001b[0m\u001b[0m\n",
            "\u001b[0;32m/usr/local/lib/python3.8/dist-packages/torch/nn/modules/linear.py\u001b[0m in \u001b[0;36mforward\u001b[0;34m(self, input)\u001b[0m\n\u001b[1;32m    112\u001b[0m \u001b[0;34m\u001b[0m\u001b[0m\n\u001b[1;32m    113\u001b[0m     \u001b[0;32mdef\u001b[0m \u001b[0mforward\u001b[0m\u001b[0;34m(\u001b[0m\u001b[0mself\u001b[0m\u001b[0;34m,\u001b[0m \u001b[0minput\u001b[0m\u001b[0;34m:\u001b[0m \u001b[0mTensor\u001b[0m\u001b[0;34m)\u001b[0m \u001b[0;34m->\u001b[0m \u001b[0mTensor\u001b[0m\u001b[0;34m:\u001b[0m\u001b[0;34m\u001b[0m\u001b[0;34m\u001b[0m\u001b[0m\n\u001b[0;32m--> 114\u001b[0;31m         \u001b[0;32mreturn\u001b[0m \u001b[0mF\u001b[0m\u001b[0;34m.\u001b[0m\u001b[0mlinear\u001b[0m\u001b[0;34m(\u001b[0m\u001b[0minput\u001b[0m\u001b[0;34m,\u001b[0m \u001b[0mself\u001b[0m\u001b[0;34m.\u001b[0m\u001b[0mweight\u001b[0m\u001b[0;34m,\u001b[0m \u001b[0mself\u001b[0m\u001b[0;34m.\u001b[0m\u001b[0mbias\u001b[0m\u001b[0;34m)\u001b[0m\u001b[0;34m\u001b[0m\u001b[0;34m\u001b[0m\u001b[0m\n\u001b[0m\u001b[1;32m    115\u001b[0m \u001b[0;34m\u001b[0m\u001b[0m\n\u001b[1;32m    116\u001b[0m     \u001b[0;32mdef\u001b[0m \u001b[0mextra_repr\u001b[0m\u001b[0;34m(\u001b[0m\u001b[0mself\u001b[0m\u001b[0;34m)\u001b[0m \u001b[0;34m->\u001b[0m \u001b[0mstr\u001b[0m\u001b[0;34m:\u001b[0m\u001b[0;34m\u001b[0m\u001b[0;34m\u001b[0m\u001b[0m\n",
            "\u001b[0;31mKeyboardInterrupt\u001b[0m: "
          ]
        }
      ],
      "source": [
        "descrizioni_filtrate = []\n",
        "for index, evento in tot.iterrows():\n",
        "  descrizione_filtrata=preProcessDescription(evento['text'],stopwordsTotali)\n",
        "  descrizioni_filtrate.append(descrizione_filtrata)"
      ]
    },
    {
      "cell_type": "code",
      "source": [
        "np.savetxt('/content/drive/MyDrive/Colab Notebooks/descrizioni_filtrate.txt', np.array(descrizioni_filtrate), fmt='%s')\n",
        "\n",
        "#descrizioni_filtrate_loaded = np.loadtxt('/content/drive/MyDrive/Colab Notebooks/descrizioni_filtrate.txt', dtype=str)"
      ],
      "metadata": {
        "id": "SxktEpxr-72N"
      },
      "execution_count": null,
      "outputs": []
    },
    {
      "cell_type": "code",
      "execution_count": 27,
      "metadata": {
        "colab": {
          "base_uri": "https://localhost:8080/"
        },
        "id": "WUVsBmcwx7aF",
        "outputId": "fa63a7e6-3f97-46be-b4e8-2f73f3f5c67f"
      },
      "outputs": [
        {
          "output_type": "stream",
          "name": "stdout",
          "text": [
            "risolvi crittogramma scoprire spettacolo fantastico premio prima pubblichera soluzione commenti aggiudichera biglietto omaggio spettacolo risolverlo bisogna ricordare ogni numero corrisponde lettera dellalfabeto corrisponde lettera scoprire quattro risolvi definizione\n",
            "\n",
            "\n",
            "\n",
            "Risolvi il crittogramma per scoprire la sinossi dello spettacolo e vincere un fantastico premio: la persona che per prima pubblichera la soluzione nei commenti, si aggiudichera un biglietto omaggio per lo spettacolo. Per risolverlo, bisogna ricordare che ad ogni numero corrisponde una lettera dellalfabeto e che a numero uguale corrisponde lettera uguale. Per scoprire le prime quattro lettere, risolvi la definizione.\n"
          ]
        }
      ],
      "source": [
        "ix = getRandomIndex(tot)\n",
        "print(descrizioni_filtrate[ix])\n",
        "print('\\n\\n')\n",
        "print(tot['text'][ix])"
      ]
    },
    {
      "cell_type": "code",
      "execution_count": 57,
      "metadata": {
        "colab": {
          "base_uri": "https://localhost:8080/",
          "height": 36
        },
        "id": "Bg9uI0-sEKyH",
        "outputId": "720dcb4a-3994-47f0-ca39-131a007c6eaf"
      },
      "outputs": [
        {
          "output_type": "execute_result",
          "data": {
            "text/plain": [
              "'ADJ'"
            ],
            "application/vnd.google.colaboratory.intrinsic+json": {
              "type": "string"
            }
          },
          "metadata": {},
          "execution_count": 57
        }
      ],
      "source": [
        "doc = stnzPipe('bello')\n",
        "doc.sentences[0].words[0].upos"
      ]
    },
    {
      "cell_type": "code",
      "execution_count": null,
      "metadata": {
        "id": "5qQmQ9Lh92YC"
      },
      "outputs": [],
      "source": [
        "corpus = descrizioni_filtrate"
      ]
    },
    {
      "cell_type": "code",
      "execution_count": null,
      "metadata": {
        "id": "9H1i7q-JFGnK"
      },
      "outputs": [],
      "source": [
        "type(corpus)"
      ]
    },
    {
      "cell_type": "code",
      "execution_count": null,
      "metadata": {
        "id": "CERubiWYEsUg"
      },
      "outputs": [],
      "source": [
        "print(len(tot['text']) == len(corpus))"
      ]
    },
    {
      "cell_type": "code",
      "execution_count": null,
      "metadata": {
        "id": "ko4uVBbFDk06"
      },
      "outputs": [],
      "source": [
        "tot['filtered_desc']=corpus"
      ]
    },
    {
      "cell_type": "code",
      "execution_count": null,
      "metadata": {
        "id": "2lFxU5_B5s01"
      },
      "outputs": [],
      "source": [
        "X1 = []\n",
        "newText=corpus\n",
        "\n",
        "for description in newText:   \n",
        "    feature =[]\n",
        "    features = reduced_description(str(description))\n",
        "    words = ''\n",
        "    for each in features:\n",
        "      words = words + ' ' + each\n",
        "    X1.append(words)"
      ]
    },
    {
      "cell_type": "code",
      "source": [
        "tot['wordnet_desc']=X1"
      ],
      "metadata": {
        "id": "AKGH1wHaaGV-"
      },
      "execution_count": null,
      "outputs": []
    },
    {
      "cell_type": "code",
      "source": [
        "inx=7\n",
        "print(corpus[inx])\n",
        "print(X1[inx])"
      ],
      "metadata": {
        "id": "aQDaq-QAardl"
      },
      "execution_count": null,
      "outputs": []
    },
    {
      "cell_type": "code",
      "execution_count": null,
      "metadata": {
        "id": "2S9jzm8mFa6i"
      },
      "outputs": [],
      "source": [
        "tot"
      ]
    },
    {
      "cell_type": "markdown",
      "metadata": {
        "id": "C-zaR9jHb7ke"
      },
      "source": [
        "###**B3**: *TOKENIZATION, SEQUENCING & PADDING*"
      ]
    },
    {
      "cell_type": "code",
      "execution_count": null,
      "metadata": {
        "id": "p9r7hIIUb6rF"
      },
      "outputs": [],
      "source": [
        "MAX_NB_WORDS = 30000\n",
        "\n",
        "tokenizer = Tokenizer(num_words=MAX_NB_WORDS, char_level=False)\n",
        "tokenizer.fit_on_texts(corpus)\n",
        "sequences = tokenizer.texts_to_sequences(corpus)\n",
        "seq_lens = [len(s) for s in sequences]"
      ]
    },
    {
      "cell_type": "code",
      "execution_count": null,
      "metadata": {
        "id": "Rn2n_9xHHmOG"
      },
      "outputs": [],
      "source": [
        "sampleIndex = 1998\n",
        "print('Sequenza parola numero %s: ' % sampleIndex)\n",
        "for x in sequences[sampleIndex]:\n",
        "  print('%d,' % x, end =' ')"
      ]
    },
    {
      "cell_type": "code",
      "execution_count": null,
      "metadata": {
        "id": "-XqNP5E1-Jx3"
      },
      "outputs": [],
      "source": [
        "print('Traduzione della sequenza numero %d in parole: ' % sampleIndex)\n",
        "index_to_word = dict((i, w) for w, i in tokenizer.word_index.items())\n",
        "\" \".join([index_to_word[i] for i in sequences[sampleIndex]])"
      ]
    },
    {
      "cell_type": "code",
      "execution_count": null,
      "metadata": {
        "id": "O3htyl3c_UzP"
      },
      "outputs": [],
      "source": [
        "%matplotlib inline\n",
        "\n",
        "plt.hist(seq_lens, bins=500, color = 'purple')\n",
        "plt.xlabel('#words')\n",
        "plt.ylabel('#descriptions')\n",
        "plt.title('Y documenti con X parole')"
      ]
    },
    {
      "cell_type": "code",
      "execution_count": null,
      "metadata": {
        "id": "rF9fciyQ-cUk"
      },
      "outputs": [],
      "source": [
        "media=np.mean(seq_lens)\n",
        "print(\"average length: %0.1f\" % media)\n",
        "print(\"max length: %d\" % max(seq_lens))\n",
        "y = 0\n",
        "for i in seq_lens:\n",
        "  if i < media:\n",
        "    y = y + 1\n",
        "\n",
        "print(\"percentuale descrizioni di lunghezza inferiore ad average length: %d%%\" % (int(y*100/len(seq_lens))))\n"
      ]
    },
    {
      "cell_type": "markdown",
      "metadata": {
        "id": "BpCi29f6-dvQ"
      },
      "source": [
        "La lunghezza media dei testi è di circa 65: eseguo il pad con massima lunghezza 70, valutando che la maggior parte delle descrizioni non supera quel numero di parole."
      ]
    },
    {
      "cell_type": "code",
      "execution_count": null,
      "metadata": {
        "id": "DA_Jod7w-AaM"
      },
      "outputs": [],
      "source": [
        "MAX_SEQUENCE_LENGTH = 70\n",
        "\n",
        "# pad sequences with 0s\n",
        "padded = pad_sequences(sequences, maxlen=MAX_SEQUENCE_LENGTH,padding='post')\n",
        "\n",
        "print('Shape of data tensor:', padded.shape)\n",
        "\n",
        "word_index = tokenizer.word_index\n",
        "print('Found %s unique tokens.' % len(word_index))"
      ]
    },
    {
      "cell_type": "code",
      "execution_count": null,
      "metadata": {
        "id": "wQrPJ9ol_Rdm"
      },
      "outputs": [],
      "source": [
        "padded[sampleIndex].shape[0]"
      ]
    },
    {
      "cell_type": "code",
      "execution_count": null,
      "metadata": {
        "id": "-FzeY0H0vSr_"
      },
      "outputs": [],
      "source": [
        "preProcessDescription('techno rave party festa scuola',stopwordsTotali, MAX_SEQUENCE_LENGTH, tokenizer)"
      ]
    },
    {
      "cell_type": "markdown",
      "source": [
        "###**B4**: *RAPPRESENTAZIONE DEL TESTO A BASSO LIVELLO*"
      ],
      "metadata": {
        "id": "O8RihMMrOjM1"
      }
    },
    {
      "cell_type": "markdown",
      "metadata": {
        "id": "EykRlnQNx3Se"
      },
      "source": [
        "####**B4.1**: *ALTERNATIVA EMBEDDINGS VIA WORLD2VEC*\n"
      ]
    },
    {
      "cell_type": "code",
      "execution_count": null,
      "metadata": {
        "id": "EP4cs4c1YzJy"
      },
      "outputs": [],
      "source": [
        "# Download the models (1660MB)\n",
        "word2vec_model300 = api.load('word2vec-google-news-300')"
      ]
    },
    {
      "cell_type": "code",
      "source": [
        "word2vec_model300.save(\"/content/drive/MyDrive/Colab Notebooks/word2vec.bin\")"
      ],
      "metadata": {
        "id": "HTXuWgWbmUms"
      },
      "execution_count": null,
      "outputs": []
    },
    {
      "cell_type": "code",
      "execution_count": null,
      "metadata": {
        "id": "mPraSkoHEuK-"
      },
      "outputs": [],
      "source": [
        "'''\n",
        "x_emb = []\n",
        "for sentence in padded:\n",
        "  print('sentence')\n",
        "  print(sentence)\n",
        "  sent_emb = [0 for k in range(300)] \n",
        "  \n",
        "  num_tok = 0\n",
        "  for tok in sentence:\n",
        "    if tok != 0:\n",
        "      word=list(word_index.keys())[list(word_index.values()).index(tok)]\n",
        "      print('word: '+ word)\n",
        "      try:\n",
        "          emb = word2vec_model300.wv[word]\n",
        "          sent_emb = [x + y for x, y in zip(sent_emb, emb)]\n",
        "          num_tok = num_tok +1\n",
        "      except:\n",
        "          pass\n",
        "  if num_tok != 0:\n",
        "    final_sent_emb = [x / num_tok for x in sent_emb]         \n",
        "  x_emb.append(final_sent_emb)\n",
        "  \n",
        "\n",
        "x_emb = np.array(x_emb)\n",
        "with open('/content/drive/MyDrive/Colab Notebooks/embeddings.npy', 'wb') as f:\n",
        "    np.save(f, x_emb)\n",
        "'''\n",
        "with open('/content/drive/MyDrive/Colab Notebooks/embeddings.npy', 'rb') as f:\n",
        "    x_emb = np.load(f)\n",
        "print(type(x_emb))\n",
        "print(x_emb.shape)\n"
      ]
    },
    {
      "cell_type": "code",
      "execution_count": null,
      "metadata": {
        "id": "zVI0FdubxGo9"
      },
      "outputs": [],
      "source": [
        "x_emb.shape"
      ]
    },
    {
      "cell_type": "code",
      "execution_count": null,
      "metadata": {
        "id": "9RqFQ3iOxNo1"
      },
      "outputs": [],
      "source": [
        "print(x_emb[sampleIndex])"
      ]
    },
    {
      "cell_type": "markdown",
      "metadata": {
        "id": "TGSsIChIx7Ze"
      },
      "source": [
        "####**B4.2**: *ALTERNATIVA FEATURE EXTRACTION VIA RETE NEURALE*"
      ]
    },
    {
      "cell_type": "code",
      "execution_count": null,
      "metadata": {
        "id": "JTk_zuky0bjf"
      },
      "outputs": [],
      "source": [
        "embedding_size = 1000\n",
        "\n",
        "# Creare la rete neurale feed-forward\n",
        "model = Sequential()\n",
        "model.add(Embedding(input_dim=len(tokenizer.word_index)+1, output_dim=embedding_size, input_length=MAX_SEQUENCE_LENGTH))\n",
        "model.add(Flatten())\n",
        "model.add(Dense(32, activation='relu'))\n",
        "model.add(Dense(1, activation='sigmoid'))\n",
        "model.compile(loss='binary_crossentropy', optimizer='adam', metrics=['accuracy'])\n",
        "\n",
        "# Creare la matrice di vettorizzazione delle descrizioni degli eventi\n",
        "#POTREI PROVARE CON \"CORPUS\" AL POSTO DI PADDINGS\n",
        "token_matrix = model.predict(padded)"
      ]
    },
    {
      "cell_type": "markdown",
      "metadata": {
        "id": "zRXl9UQe6mc4"
      },
      "source": [
        "####**B4.3**: *ALTERNATIVA VECTORIZATION VIA TERM FREQUENCY - INVERSE DOCUMENT FREQUENCY*"
      ]
    },
    {
      "cell_type": "code",
      "execution_count": null,
      "metadata": {
        "id": "wRIhGcF96jUl"
      },
      "outputs": [],
      "source": [
        "vectorizer = TfidfVectorizer()\n",
        "\n",
        "X = vectorizer.fit_transform(corpus)"
      ]
    },
    {
      "cell_type": "markdown",
      "metadata": {
        "id": "BM5VMUcgEni5"
      },
      "source": [
        "##**C**: *CLASSIFICAZIONE*"
      ]
    },
    {
      "cell_type": "code",
      "execution_count": null,
      "metadata": {
        "id": "Rh5z0z-T74kf"
      },
      "outputs": [],
      "source": [
        "y = tot[['culture', 'music', 'food', 'fun']]"
      ]
    },
    {
      "cell_type": "markdown",
      "metadata": {
        "id": "Ujr0O_QlMIJ0"
      },
      "source": [
        "####Split"
      ]
    },
    {
      "cell_type": "code",
      "execution_count": null,
      "metadata": {
        "id": "OWgXvZQjMOyq"
      },
      "outputs": [],
      "source": [
        "X_train,X_test,y_train,y_test = train_test_split(X,y,test_size=0.25,random_state=42)"
      ]
    },
    {
      "cell_type": "code",
      "source": [
        "X_trainEmb,X_testEmb,y_trainEmb,y_testEmb = train_test_split(x_emb,y,test_size=0.25,random_state=42)"
      ],
      "metadata": {
        "id": "o6jOzrVfFRo8"
      },
      "execution_count": null,
      "outputs": []
    },
    {
      "cell_type": "code",
      "source": [
        "X_trainTM,X_testTM,y_trainTM,y_testTM = train_test_split(token_matrix,y,test_size=0.25,random_state=42)"
      ],
      "metadata": {
        "id": "jeaTcTevFqao"
      },
      "execution_count": null,
      "outputs": []
    },
    {
      "cell_type": "markdown",
      "source": [
        "###Pesi"
      ],
      "metadata": {
        "id": "Fp-R9BaFkq7k"
      }
    },
    {
      "cell_type": "code",
      "execution_count": null,
      "metadata": {
        "id": "Pf1gNSR88CcQ"
      },
      "outputs": [],
      "source": [
        "weights = class_weight.compute_sample_weight(class_weight=\"balanced\", y=y_train)\n",
        "weightsEmb = class_weight.compute_sample_weight(class_weight=\"balanced\", y=y_trainEmb)\n",
        "weightsTM = class_weight.compute_sample_weight(class_weight=\"balanced\", y=y_trainTM)"
      ]
    },
    {
      "cell_type": "code",
      "execution_count": null,
      "metadata": {
        "id": "Y4ePMJ---iaa"
      },
      "outputs": [],
      "source": [
        "print(weights==weightsEmb)\n",
        "print(weightsEmb==weightsTM)"
      ]
    },
    {
      "cell_type": "code",
      "execution_count": null,
      "metadata": {
        "id": "WHexH5pHwP1N"
      },
      "outputs": [],
      "source": [
        "\n",
        "pca = PCA (170)\n",
        "\n",
        "reduced = pca.fit_transform(x_emb)\n",
        "\n",
        "X_reduced,X_testReduced,y_trainReduced,y_testReduced = train_test_split(reduced,y,test_size=0.25,random_state=42)\n",
        "reduced.shape"
      ]
    },
    {
      "cell_type": "markdown",
      "source": [
        "###Classificazione"
      ],
      "metadata": {
        "id": "Xkv6J99Kkyhy"
      }
    },
    {
      "cell_type": "markdown",
      "source": [
        "Ora utilizzeremo la tecnica di classificazione a multipli riferimenti (OneVsRest) in quanto il nostro dataset risulta sbilanciato. È buona norma utilizzare questo tipo di classificazione sui dataset sbilanciati perché si addestra un classificatore per ogni classe: ogni classificatore è responsabile della distinzione tra la sua classe specifica e tutte le altre (appunto One vs Rest). Questo significa che ogni classificatore può concentrarsi sulle proprietà distintive della classe stessa"
      ],
      "metadata": {
        "id": "am6hrdpZJwrU"
      }
    },
    {
      "cell_type": "code",
      "source": [
        "classificatori = [OneVsRestClassifier, ClassifierChain, LabelPowerset]\n",
        "estimatori =[DecisionTreeClassifier(),RandomForestClassifier(), SVC()]\n",
        "#prova anche uno fra logistic reg e sdgclassifier\n",
        "param_grid = {\n",
        "    'estimator__criterion': ['gini', 'entropy'],\n",
        "    'estimator__max_depth': [None, 5, 10],\n",
        "    'estimator__min_samples_split': [2, 10],\n",
        "    'estimator__min_samples_leaf': [1, 4]\n",
        "}"
      ],
      "metadata": {
        "id": "-1wvSbjKdATW"
      },
      "execution_count": null,
      "outputs": []
    },
    {
      "cell_type": "code",
      "source": [
        "def atlas (estimatori, classificatori, x_train, x_test, y_train, y_test, parametri = None):\n",
        "  results = []\n",
        "  for ml in classificatori:\n",
        "    for each in estimatori:\n",
        "      clf = ml(each)\n",
        "      if (parametri is None):\n",
        "          clf.fit(x_train, y_train)\n",
        "          y_pred = clf.predict(x_test)\n",
        "      else:\n",
        "        try:\n",
        "          grid_search = GridSearchCV(clf, parametri, cv=5, scoring='accuracy')\n",
        "          grid_search.fit(x_train, y_train)\n",
        "          best_clf = grid_search.best_estimator_\n",
        "          y_pred = best_clf.predict(x_test)\n",
        "        except:\n",
        "          clf.fit(x_train, y_train)\n",
        "          y_pred = clf.predict(x_test)\n",
        "      print('\\n\\n')\n",
        "      print(str(ml) + ' con ' + str(each) + ':\\n\\n')\n",
        "      try:\n",
        "        print('Accuracy: %0.5f' % accuracy_score(y_test,y_pred))\n",
        "      except:\n",
        "        try:\n",
        "          print('Accuracy: %0.5f' % accuracy_score(y_test,y_pred.toarray()))\n",
        "        except:\n",
        "          print('skip')\n",
        "          continue\n",
        "      try:\n",
        "        print('Loss di hamming: %0.5f' % hamming_loss(y_test,y_pred))\n",
        "      except:\n",
        "        try:\n",
        "          print('Loss di hamming: %0.5f' % hamming_loss(y_test,y_pred.toarray()))\n",
        "        except:\n",
        "          print('skip')\n",
        "          continue\n",
        "      try:\n",
        "        print('Label ranking Average-Precision: %0.5f' % label_ranking_average_precision_score(y_test,y_pred))\n",
        "      except:\n",
        "        try:\n",
        "          print('Label ranking Average-Precision: %0.5f' % label_ranking_average_precision_score(y_test,y_pred.toarray()))\n",
        "        except:\n",
        "          print('skip')\n",
        "          continue\n",
        "      results.append([str(ml), str(each), y_pred])\n",
        "  return results"
      ],
      "metadata": {
        "id": "9xC1ZvMjce7c"
      },
      "execution_count": null,
      "outputs": []
    },
    {
      "cell_type": "code",
      "source": [
        "print('Eseguo classificazione su Embeddings (Word2Vec)\\n')\n",
        "risultatiEmb = atlas(estimatori, classificatori, X_trainEmb, X_testEmb, y_trainEmb, y_testEmb, param_grid)"
      ],
      "metadata": {
        "id": "E5uQa0zKfS_s"
      },
      "execution_count": null,
      "outputs": []
    },
    {
      "cell_type": "code",
      "source": [
        "print('Eseguo classificazione su matrice di token (feature Neural Network)\\n')\n",
        "risultatiNN = atlas(estimatori, classificatori, X_trainTM, X_testTM, y_trainTM, y_testTM, param_grid)"
      ],
      "metadata": {
        "id": "oq1DqPQz652Z"
      },
      "execution_count": null,
      "outputs": []
    },
    {
      "cell_type": "code",
      "source": [
        "print('Eseguo classificazione su vettori Tf-Idf\\n')\n",
        "risultatiTfIdf = atlas(estimatori, classificatori, X_train, X_test, y_train, y_test, param_grid)"
      ],
      "metadata": {
        "id": "GOCDSkZz68xX"
      },
      "execution_count": null,
      "outputs": []
    },
    {
      "cell_type": "markdown",
      "source": [
        "####VariousPlots"
      ],
      "metadata": {
        "id": "Nawi8QC0klHS"
      }
    },
    {
      "cell_type": "code",
      "source": [
        "print(risultatiTfIdf[0][0] + ':\\n')\n",
        "sns.heatmap(pd.DataFrame(classification_report(y_test,results[0][1], zero_division=1, output_dict=True, target_names=['culture', 'music','food','fun'])).iloc[:-1, :].T, annot=True, linecolor='purple')"
      ],
      "metadata": {
        "id": "pnZ9VfnZPASl"
      },
      "execution_count": null,
      "outputs": []
    },
    {
      "cell_type": "code",
      "source": [
        "print(results[1][0] + ':\\n')\n",
        "sns.heatmap(pd.DataFrame(classification_report(y_test,results[1][1], zero_division=1, output_dict=True, target_names=['fun ', 'food', 'culture', 'music'])).iloc[:-1, :].T, annot=True, linecolor='purple')"
      ],
      "metadata": {
        "id": "4gUPVgFAPWK7"
      },
      "execution_count": null,
      "outputs": []
    },
    {
      "cell_type": "code",
      "source": [
        "print(results[2][0] + ':\\n')\n",
        "sns.heatmap(pd.DataFrame(classification_report(y_test,results[2][1], zero_division=1, output_dict=True, target_names=['fun ', 'food', 'culture', 'music'])).iloc[:-1, :].T, annot=True, linecolor='purple')"
      ],
      "metadata": {
        "id": "DjhoCYytPWtV"
      },
      "execution_count": null,
      "outputs": []
    },
    {
      "cell_type": "code",
      "source": [
        "print(results[3][0] + ':\\n')\n",
        "sns.heatmap(pd.DataFrame(classification_report(y_test,results[3][1], zero_division=1, output_dict=True, target_names=['fun ', 'food', 'culture', 'music'])).iloc[:-1, :].T, annot=True, linecolor='purple')"
      ],
      "metadata": {
        "id": "1S-SK92MPXLB"
      },
      "execution_count": null,
      "outputs": []
    },
    {
      "cell_type": "code",
      "source": [
        "print(results[4][0] + ':\\n')\n",
        "sns.heatmap(pd.DataFrame(classification_report(y_test,results[4][1], zero_division=1, output_dict=True, target_names=['fun ', 'food', 'culture', 'music'])).iloc[:-1, :].T, annot=True, linecolor='purple')"
      ],
      "metadata": {
        "id": "LKwMsoK_PX6t"
      },
      "execution_count": null,
      "outputs": []
    },
    {
      "cell_type": "markdown",
      "metadata": {
        "id": "cLCb7MwRNklu"
      },
      "source": [
        "###Trasformazione del dataset in valori discreti (rivedere)"
      ]
    },
    {
      "cell_type": "markdown",
      "source": [
        "Abbiamo dimostrato che, approssimativamente, il LabelPowerset con Support Vector Machine sia la combinazione migliore nell'ambito dei tentativi effettuati. Procediamo con il trasformare il dataset in valori discreti (da 0 a 1)"
      ],
      "metadata": {
        "id": "RmYj5Pq_a4iA"
      }
    },
    {
      "cell_type": "code",
      "source": [
        "# Define target variables\n",
        "target_variables = [\"culture\", \"music\", \"food\", \"fun\"]\n",
        "\n",
        "# Fit a LabelPowerset model with an SVC base estimator for each target variable\n",
        "models = []\n",
        "for target in target_variables:\n",
        "    clf = LabelPowerset(classifier=SVC(random_state=0))\n",
        "    clf.fit(X, tot[target])\n",
        "    models.append(clf)\n",
        "\n",
        "# Generate probability estimates for each target variable\n",
        "probabilities = np.zeros((tot.shape[0], len(target_variables)))\n",
        "for i, clf in enumerate(models):\n",
        "    probabilities[:, i] = clf.predict_proba(vectorizer.transform(tot[\"filtered_desc\"])).toarray()[:, 1]\n",
        "\n",
        "# Normalize the probabilities so that they sum up to 1 for each sample\n",
        "probabilities /= probabilities.sum(axis=1, keepdims=True)\n",
        "\n",
        "# Create a new dataset with the probabilities\n",
        "new_df = pd.DataFrame(probabilities, columns=target_variables)\n",
        "\n",
        "# Add descriptions as new columns\n",
        "new_df[\"filtered_desc\"] = tot[\"filtered_desc\"]\n",
        "new_df[\"wordnet_desc\"] = tot[\"wordnet_desc\"]\n",
        "new_df[\"text\"] = tot[\"text\"]\n",
        "new_df[\"id\"] = tot[\"id\"].astype(str)\n",
        "\n",
        "# Save the new dataset\n",
        "# new_df.to_csv(\"probabilities.csv\", index=False)\n",
        "\n",
        "\n"
      ],
      "metadata": {
        "id": "mvopINA8doxN"
      },
      "execution_count": null,
      "outputs": []
    },
    {
      "cell_type": "markdown",
      "source": [
        "OROROROROROROROROROR"
      ],
      "metadata": {
        "id": "aYU1Q5qBqm4N"
      }
    },
    {
      "cell_type": "code",
      "source": [
        "target_variables = [\"culture\", \"music\", \"food\", \"fun\"]\n",
        "\n",
        "# Fit a logistic regression model for each target variable\n",
        "models = []\n",
        "for target in target_variables:\n",
        "    clf = LogisticRegression(random_state=0)\n",
        "    clf.fit(X, tot[target])\n",
        "    models.append(clf)\n",
        "\n",
        "# Generate probability estimates for each target variable\n",
        "probabilities = np.zeros((tot.shape[0], len(target_variables)))\n",
        "for i, clf in enumerate(models):\n",
        "    probabilities[:, i] = clf.predict_proba(vectorizer.fit_transform(tot[\"filtered_desc\"]))[:, 1]\n",
        "\n",
        "# Normalize the probabilities so that they sum up to 1 for each sample\n",
        "probabilities /= probabilities.sum(axis=1, keepdims=True)\n",
        "\n",
        "# Creare un nuovo dataset con le probabilità\n",
        "new_df = pd.DataFrame(probabilities, columns=target_variables)\n",
        "\n",
        "# Aggiungere le descrizioni come nuova colonna\n",
        "new_df[\"filtered_desc\"] = tot[\"filtered_desc\"]\n",
        "new_df[\"wordnet_desc\"] = tot[\"wordnet_desc\"]\n",
        "new_df[\"text\"] = tot[\"text\"]\n",
        "new_df[\"id\"]=tot[\"id\"].astype(str)\n",
        "# Salvare il nuovo dataset\n",
        "#new_df.to_csv(\"probabilities.csv\", index=False)"
      ],
      "metadata": {
        "id": "ZQqdbR-O2krI"
      },
      "execution_count": null,
      "outputs": []
    },
    {
      "cell_type": "code",
      "source": [
        "new_df"
      ],
      "metadata": {
        "id": "TCjgbtuXOrYq"
      },
      "execution_count": null,
      "outputs": []
    },
    {
      "cell_type": "code",
      "source": [
        "tot"
      ],
      "metadata": {
        "id": "og6vG43eOtTQ"
      },
      "execution_count": null,
      "outputs": []
    },
    {
      "cell_type": "code",
      "source": [
        "new_event = ['Techno rave musica ballo amici alcohol']\n",
        "X_new = vectorizer.transform(new_event)\n",
        "\n",
        "y_pred = [clf.predict_proba(X_new).toarray()[0][1] for clf in models]\n",
        "\n",
        "# Compare the results to determine the event's class membership\n",
        "pred_class = target_variables[np.argmax(y_pred)]\n",
        "print(f\"The new event belongs to the {pred_class} class with a probability of {np.max(y_pred):.2f}\")"
      ],
      "metadata": {
        "id": "i-fe5F8osbQ2"
      },
      "execution_count": null,
      "outputs": []
    },
    {
      "cell_type": "markdown",
      "source": [
        "OROROROROROROROROR"
      ],
      "metadata": {
        "id": "AXIzDUGjsZkC"
      }
    },
    {
      "cell_type": "code",
      "execution_count": null,
      "metadata": {
        "id": "4-NywfQD9MMd"
      },
      "outputs": [],
      "source": [
        "# Prevedi le etichette per un nuovo evento\n",
        "#_____________________________________________\n",
        "# Importantissimo: questo funziona per la logistic regression\n",
        "#_____________________________________________\n",
        "new_event = ['Techno rave musica ballo amici alcohol']\n",
        "X_new = vectorizer.transform(new_event)\n",
        "\n",
        "y_pred_fun = models[0].predict_proba(X_new)[0][1]\n",
        "y_pred_food = models[1].predict_proba(X_new)[0][1]\n",
        "y_pred_culture = models[2].predict_proba(X_new)[0][1]\n",
        "y_pred_music = models[3].predict_proba(X_new)[0][1]\n",
        "\n",
        "# Confronta i risultati per evincere la categoria di appartenenza dell'evento\n",
        "probs = [y_pred_fun, y_pred_food, y_pred_culture, y_pred_music]\n",
        "pred_class = ['culture', 'music', 'food', 'fun'][np.argmax(probs)]\n",
        "print(f\"The new event belongs to the {pred_class} class with a probability of {np.max(probs):.2f}\")"
      ]
    },
    {
      "cell_type": "markdown",
      "metadata": {
        "id": "XL7j0_VwaZOI"
      },
      "source": [
        "##**D**: *RETE NEURALE*"
      ]
    },
    {
      "cell_type": "code",
      "execution_count": null,
      "metadata": {
        "id": "uFx2yc-qFu1V"
      },
      "outputs": [],
      "source": [
        "# mlp for multi-label classification\n",
        "from numpy import mean\n",
        "from numpy import std\n",
        "from sklearn.model_selection import RepeatedKFold\n",
        "from keras.models import Sequential\n",
        "from keras.layers import Dense\n",
        "\n",
        "# get the model\n",
        "def get_model(n_inputs, n_outputs):\n",
        "  model = Sequential()\n",
        "  model.add(Dense(256, input_dim=n_inputs, kernel_initializer='he_uniform', activation='relu'))\n",
        "  model.add(Dense(16, activation='relu'))\n",
        "  model.add(Dense(n_outputs, activation='sigmoid'))\n",
        "  model.compile(loss='binary_crossentropy', optimizer='adam', metrics='accuracy')\n",
        "  return model\n",
        "\n",
        "# evaluate a model using repeated k-fold cross-validation\n",
        "def evaluate_model(X_train, y_train, X_test, y_test):\n",
        "  results = list()\n",
        "  # define evaluation procedure\n",
        "  cv = RepeatedKFold(n_splits=10, n_repeats=3, random_state=1)\n",
        "  model = get_model(X_train.shape[1], y_train.shape[1])\n",
        "  # fit model\n",
        "  fit=model.fit(X_train, y_train, verbose=1, epochs=50)\n",
        "  # make a prediction on the test set\n",
        "  yhat = model.predict(X_test)\n",
        "    # calculate accuracy\n",
        "  acc = accuracy_score(y_test.round(), yhat.round())\n",
        "  # store result\n",
        "  print('>%.3f' % acc)\n",
        "  results.append(acc)\n",
        "  print(yhat)\n",
        "  return results,model"
      ]
    },
    {
      "cell_type": "code",
      "execution_count": null,
      "metadata": {
        "id": "oKZl78x9jl8b"
      },
      "outputs": [],
      "source": [
        "# evaluate model\n",
        "results,model = evaluate_model(X_train, y_train, X_test, y_test)\n",
        "# summarize performance\n",
        "print('Accuracy tfidf: %.3f (%.3f)' % (mean(results), std(results)))\n",
        "\n",
        "# evaluate model\n",
        "resultsTM,modelTM = evaluate_model(X_trainTM, y_trainTM, X_testTM, y_testTM)\n",
        "# summarize performance\n",
        "print('Accuracy matrice di token NN: %.3f (%.3f)' % (mean(resultsTM), std(resultsTM)))\n",
        "\n",
        "# evaluate model\n",
        "resultsEmb,modelEmb = evaluate_model(X_trainEmb, y_trainEmb, X_testEmb, y_testEmb)\n",
        "# summarize performance\n",
        "print('Accuracy Embeddings word2vec: %.3f (%.3f)' % (mean(resultsEmb), std(resultsEmb)))"
      ]
    },
    {
      "cell_type": "markdown",
      "metadata": {
        "id": "PxY64ZdNS52a"
      },
      "source": [
        "##**E**: *LOGICHE FUZZY*"
      ]
    },
    {
      "cell_type": "markdown",
      "source": [
        "Vogliamo tramite regole fuzzy determinare se un evento si svolgerà di notte o meno"
      ],
      "metadata": {
        "id": "hkSFeTh3_Uzp"
      }
    },
    {
      "cell_type": "code",
      "execution_count": null,
      "metadata": {
        "id": "nh4zQQuETmYD"
      },
      "outputs": [],
      "source": [
        "\n",
        "from skfuzzy import control as ctrl\n",
        "from fuzzywuzzy import fuzz"
      ]
    },
    {
      "cell_type": "code",
      "source": [
        "def is_night_event(event_vector, night_vector, threshold=25):\n",
        "  similarity = fuzz.token_set_ratio(event_vector, night_vector)\n",
        "  if similarity >= threshold:\n",
        "    return True\n",
        "  else:\n",
        "    return False"
      ],
      "metadata": {
        "id": "ovdfyyHF_PLO"
      },
      "execution_count": null,
      "outputs": []
    },
    {
      "cell_type": "markdown",
      "source": [
        "Deduco la costruzione della regola da delle stime probabilistiche effettuate sul dataset"
      ],
      "metadata": {
        "id": "QpSr-ow3_hB8"
      }
    },
    {
      "cell_type": "code",
      "source": [
        "def categorize_text(df, string):\n",
        "  words = string.split()\n",
        "  result = [0, 0, 0, 0]\n",
        "  count = 0\n",
        "  for index, row in tot.iterrows():\n",
        "    for word in words:\n",
        "      if word in row['text']:\n",
        "        result[0] = result[0] + row['fun']\n",
        "        result[1] = result[1] + row['food']\n",
        "        result[2] = result[2] + row['culture']\n",
        "        result[3] = result[3] + row['music']\n",
        "        count = count + 1\n",
        "        break\n",
        "  result[0] = result[0] / count\n",
        "  result[1] = result[1] / count\n",
        "  result[2] = result[2] / count\n",
        "  result[3] = result[3] / count\n",
        "  return result\n",
        "#questi rappresentano i valori medi su cui definiremo la regola\n",
        "valoriNotte=categorize_text(tot,'notte')\n",
        "valoriNotte"
      ],
      "metadata": {
        "id": "RWRKdix-_pnp"
      },
      "execution_count": null,
      "outputs": []
    },
    {
      "cell_type": "markdown",
      "source": [
        "estrae il vettore delle feature per quell'evento"
      ],
      "metadata": {
        "id": "B6byrBdeAvl1"
      }
    },
    {
      "cell_type": "code",
      "source": [
        "def get_event_vector(event_tuple):\n",
        "    event_vector = []\n",
        "    for header in ['fun', 'food', 'culture', 'music']:\n",
        "        event_vector.append(event_tuple[header])\n",
        "    return event_vector"
      ],
      "metadata": {
        "id": "IicWCP1I_xjO"
      },
      "execution_count": null,
      "outputs": []
    },
    {
      "cell_type": "code",
      "source": [
        "event_vector=get_event_vector(new_df.iloc[0])\n",
        "event_vector"
      ],
      "metadata": {
        "id": "lGiXh8LA_0OF"
      },
      "execution_count": null,
      "outputs": []
    },
    {
      "cell_type": "code",
      "source": [
        "result = is_night_event(event_vector, valoriNotte)\n",
        "if result:\n",
        "  print(\"L'evento è di notte\")\n",
        "else:\n",
        "  print(\"L'evento non è di notte\")"
      ],
      "metadata": {
        "id": "VolTv8jPAgPj"
      },
      "execution_count": null,
      "outputs": []
    },
    {
      "cell_type": "code",
      "source": [
        "tag=[]\n",
        "for index, row in new_df.iterrows():\n",
        "    event_vector=get_event_vector(new_df.iloc[index])\n",
        "    tag.append(is_night_event(event_vector, valoriNotte))\n",
        "\n",
        "new_df['atNight'] = tag"
      ],
      "metadata": {
        "id": "s8TuC6eya_k7"
      },
      "execution_count": null,
      "outputs": []
    },
    {
      "cell_type": "code",
      "source": [
        "new_df"
      ],
      "metadata": {
        "id": "JXpNvTg2lNHy"
      },
      "execution_count": null,
      "outputs": []
    },
    {
      "cell_type": "markdown",
      "metadata": {
        "id": "D2CNXQg1-TFx"
      },
      "source": [
        "##**F**: *RAPPRESENTAZIONE DELLA CONOSCENZA*"
      ]
    },
    {
      "cell_type": "markdown",
      "metadata": {
        "id": "HA0ZMUwNam3P"
      },
      "source": [
        "###**F1**: *ONTOLOGIA: WORDNET*"
      ]
    },
    {
      "cell_type": "code",
      "execution_count": null,
      "metadata": {
        "id": "sNH4c7XO7MgM"
      },
      "outputs": [],
      "source": [
        "vectorizerTfIdf=TfidfVectorizer()\n",
        "vectorTfIdf=vectorizerTfIdf.fit_transform(new_df['wordnet_desc'])\n",
        "#X_train1, X_test1 = train_test_split(vectorTfIdf, test_size=0.2, random_state=42) "
      ]
    },
    {
      "cell_type": "code",
      "execution_count": null,
      "metadata": {
        "id": "H-ooXcoA7NPf"
      },
      "outputs": [],
      "source": [
        "number_of_clusters=10\n",
        "km = KMeans(n_clusters=number_of_clusters)\n",
        "# Normally people fit the matrix\n",
        "km.fit(vectorTfIdf)"
      ]
    },
    {
      "cell_type": "code",
      "execution_count": null,
      "metadata": {
        "id": "ngBEXbpu7TzB"
      },
      "outputs": [],
      "source": [
        "# But you could fit the idf_df instea\n",
        "print(\"Top terms per cluster:\")\n",
        "order_centroids = km.cluster_centers_.argsort()[:, ::-1]\n",
        "terms = vectorizerTfIdf.get_feature_names()\n",
        "for i in range(number_of_clusters):\n",
        "    top_ten_words = [terms[ind] for ind in order_centroids[i, :5]]\n",
        "    print(\"Cluster {}: {}\".format(i, ' '.join(top_ten_words)))"
      ]
    },
    {
      "cell_type": "code",
      "execution_count": null,
      "metadata": {
        "id": "WdiAObTc7UX2"
      },
      "outputs": [],
      "source": [
        "cluster_labels=km.labels_\n",
        "len(cluster_labels)"
      ]
    },
    {
      "cell_type": "code",
      "execution_count": null,
      "metadata": {
        "id": "DBN17pDl7Y_S"
      },
      "outputs": [],
      "source": [
        "descrizione='pizza pasta mandolino'\n",
        "predict_closest_clusters(new_df, descrizione, km, vectorTfIdf, vectorizerTfIdf)"
      ]
    },
    {
      "cell_type": "code",
      "execution_count": null,
      "metadata": {
        "id": "cK9pH2io7v1d"
      },
      "outputs": [],
      "source": [
        "labels=km.labels_\n",
        "cluster_labels = np.unique(labels)\n",
        "cluster_sizes = [(labels == c).sum() for c in cluster_labels]\n",
        "sizes_idx = np.argsort(cluster_sizes)[::-1][:5]\n",
        "X1=new_df['wordnet_desc']\n",
        "# Plot dei risultati\n",
        "for i, c in enumerate(cluster_labels[sizes_idx]):\n",
        "    mask = (labels == c)\n",
        "    descrizioni_c = np.array(X1)[mask]\n",
        "    text = \" \".join(descrizioni_c)\n",
        "    \n",
        "    wordcloud = WordCloud(width = 800, height = 800, \n",
        "                background_color ='white', \n",
        "                stopwords = stopwordsTotali, \n",
        "                min_font_size = 10).generate(text)\n",
        "\n",
        "    plt.figure(figsize = (8, 8), facecolor = None) \n",
        "    plt.imshow(wordcloud) \n",
        "    plt.axis(\"off\") \n",
        "    plt.tight_layout(pad = 0)"
      ]
    },
    {
      "cell_type": "markdown",
      "metadata": {
        "id": "365okRRs8g3m"
      },
      "source": [
        "##CNN"
      ]
    },
    {
      "cell_type": "code",
      "execution_count": null,
      "metadata": {
        "id": "agDTWW3n8jI9"
      },
      "outputs": [],
      "source": [
        "def cosine_similarity(a, b):\n",
        "    dot_product = np.dot(a, b)\n",
        "    norm_a = np.linalg.norm(a)\n",
        "    norm_b = np.linalg.norm(b)\n",
        "    return dot_product / (norm_a * norm_b)\n",
        "\n",
        "def content_based_recommendation(event_index, content_matrix, num_recommendations):\n",
        "    similarity = np.zeros(content_matrix.shape[0])\n",
        "    for i in range(len(similarity)):\n",
        "        similarity[i] = cosine_similarity(content_matrix[event_index], content_matrix[i])\n",
        "\n",
        "    recommendation_indices = np.argsort(similarity)[::-1][1:num_recommendations+1]\n",
        "    return recommendation_indices"
      ]
    },
    {
      "cell_type": "code",
      "source": [
        "num_events = new_df.shape[0]\n",
        "num_recommendations = 5\n",
        "recommendation_matrix = np.zeros((num_events, num_recommendations), dtype=int)\n",
        "content_columns = [\"culture\", \"music\", \"food\", \"fun\"]\n",
        "content_matrix = new_df[content_columns].values\n",
        "for i in range(num_events):\n",
        "    recommended_indices = content_based_recommendation(i, content_matrix, num_recommendations)\n",
        "    recommendation_matrix[i, :] = recommended_indices\n",
        "\n",
        "#np.savetxt(\"recommendation_matrix.csv\", recommendation_matrix, delimiter=\",\", fmt='%d')\n",
        "recommendation_matrix"
      ],
      "metadata": {
        "id": "U6vS1k-mnV-c"
      },
      "execution_count": null,
      "outputs": []
    },
    {
      "cell_type": "code",
      "source": [],
      "metadata": {
        "id": "aaWaetUXqsSV"
      },
      "execution_count": null,
      "outputs": []
    },
    {
      "cell_type": "code",
      "source": [
        "print('EVENTO PRESO IN ESAME: ')\n",
        "print(new_df['text'][1000])\n",
        "count = 1\n",
        "for each in recommendation_matrix[1000]:\n",
        "  print('EVENTO CONSIGLIATO NUMERO ' + str(count) + ': ')\n",
        "  print(new_df['text'][each])\n",
        "  print('\\n\\n')\n",
        "  count = count + 1"
      ],
      "metadata": {
        "id": "EAmD1gDVq2mp"
      },
      "execution_count": null,
      "outputs": []
    },
    {
      "cell_type": "code",
      "source": [],
      "metadata": {
        "id": "LBhSYeY8q66L"
      },
      "execution_count": null,
      "outputs": []
    }
  ],
  "metadata": {
    "colab": {
      "collapsed_sections": [
        "VGOdBAaRuLNS"
      ],
      "provenance": [],
      "include_colab_link": true
    },
    "kernelspec": {
      "display_name": "Python 3",
      "name": "python3"
    },
    "language_info": {
      "name": "python"
    },
    "widgets": {
      "application/vnd.jupyter.widget-state+json": {
        "55aece3ec5014f13b8c6ecc29c5542e7": {
          "model_module": "@jupyter-widgets/controls",
          "model_name": "HBoxModel",
          "model_module_version": "1.5.0",
          "state": {
            "_dom_classes": [],
            "_model_module": "@jupyter-widgets/controls",
            "_model_module_version": "1.5.0",
            "_model_name": "HBoxModel",
            "_view_count": null,
            "_view_module": "@jupyter-widgets/controls",
            "_view_module_version": "1.5.0",
            "_view_name": "HBoxView",
            "box_style": "",
            "children": [
              "IPY_MODEL_3380631bb47d4a42891f2e440fffa7a9",
              "IPY_MODEL_83a7ba65a2ca4b43a349eec3b53a8ad8",
              "IPY_MODEL_8d350a8a2f6d4006a97134adc13b6f06"
            ],
            "layout": "IPY_MODEL_3312f42635bd43039bbaf380ecf3276c"
          }
        },
        "3380631bb47d4a42891f2e440fffa7a9": {
          "model_module": "@jupyter-widgets/controls",
          "model_name": "HTMLModel",
          "model_module_version": "1.5.0",
          "state": {
            "_dom_classes": [],
            "_model_module": "@jupyter-widgets/controls",
            "_model_module_version": "1.5.0",
            "_model_name": "HTMLModel",
            "_view_count": null,
            "_view_module": "@jupyter-widgets/controls",
            "_view_module_version": "1.5.0",
            "_view_name": "HTMLView",
            "description": "",
            "description_tooltip": null,
            "layout": "IPY_MODEL_d5983c8783f6478d89dd1b2afe49b675",
            "placeholder": "​",
            "style": "IPY_MODEL_5894a04b329c48eebb9a1cc93a74c5a8",
            "value": "Downloading https://raw.githubusercontent.com/stanfordnlp/stanza-resources/main/resources_1.4.1.json: "
          }
        },
        "83a7ba65a2ca4b43a349eec3b53a8ad8": {
          "model_module": "@jupyter-widgets/controls",
          "model_name": "FloatProgressModel",
          "model_module_version": "1.5.0",
          "state": {
            "_dom_classes": [],
            "_model_module": "@jupyter-widgets/controls",
            "_model_module_version": "1.5.0",
            "_model_name": "FloatProgressModel",
            "_view_count": null,
            "_view_module": "@jupyter-widgets/controls",
            "_view_module_version": "1.5.0",
            "_view_name": "ProgressView",
            "bar_style": "success",
            "description": "",
            "description_tooltip": null,
            "layout": "IPY_MODEL_1411906756d944fdbe3afd771cf13a5b",
            "max": 28918,
            "min": 0,
            "orientation": "horizontal",
            "style": "IPY_MODEL_ba4a01cb049f4dba8b84b891ef26117c",
            "value": 28918
          }
        },
        "8d350a8a2f6d4006a97134adc13b6f06": {
          "model_module": "@jupyter-widgets/controls",
          "model_name": "HTMLModel",
          "model_module_version": "1.5.0",
          "state": {
            "_dom_classes": [],
            "_model_module": "@jupyter-widgets/controls",
            "_model_module_version": "1.5.0",
            "_model_name": "HTMLModel",
            "_view_count": null,
            "_view_module": "@jupyter-widgets/controls",
            "_view_module_version": "1.5.0",
            "_view_name": "HTMLView",
            "description": "",
            "description_tooltip": null,
            "layout": "IPY_MODEL_13a9f4c298d1441cad446e25fcad50ad",
            "placeholder": "​",
            "style": "IPY_MODEL_0b1fd05f75e74d29baac4bd0a5430c02",
            "value": " 193k/? [00:00&lt;00:00, 6.01MB/s]"
          }
        },
        "3312f42635bd43039bbaf380ecf3276c": {
          "model_module": "@jupyter-widgets/base",
          "model_name": "LayoutModel",
          "model_module_version": "1.2.0",
          "state": {
            "_model_module": "@jupyter-widgets/base",
            "_model_module_version": "1.2.0",
            "_model_name": "LayoutModel",
            "_view_count": null,
            "_view_module": "@jupyter-widgets/base",
            "_view_module_version": "1.2.0",
            "_view_name": "LayoutView",
            "align_content": null,
            "align_items": null,
            "align_self": null,
            "border": null,
            "bottom": null,
            "display": null,
            "flex": null,
            "flex_flow": null,
            "grid_area": null,
            "grid_auto_columns": null,
            "grid_auto_flow": null,
            "grid_auto_rows": null,
            "grid_column": null,
            "grid_gap": null,
            "grid_row": null,
            "grid_template_areas": null,
            "grid_template_columns": null,
            "grid_template_rows": null,
            "height": null,
            "justify_content": null,
            "justify_items": null,
            "left": null,
            "margin": null,
            "max_height": null,
            "max_width": null,
            "min_height": null,
            "min_width": null,
            "object_fit": null,
            "object_position": null,
            "order": null,
            "overflow": null,
            "overflow_x": null,
            "overflow_y": null,
            "padding": null,
            "right": null,
            "top": null,
            "visibility": null,
            "width": null
          }
        },
        "d5983c8783f6478d89dd1b2afe49b675": {
          "model_module": "@jupyter-widgets/base",
          "model_name": "LayoutModel",
          "model_module_version": "1.2.0",
          "state": {
            "_model_module": "@jupyter-widgets/base",
            "_model_module_version": "1.2.0",
            "_model_name": "LayoutModel",
            "_view_count": null,
            "_view_module": "@jupyter-widgets/base",
            "_view_module_version": "1.2.0",
            "_view_name": "LayoutView",
            "align_content": null,
            "align_items": null,
            "align_self": null,
            "border": null,
            "bottom": null,
            "display": null,
            "flex": null,
            "flex_flow": null,
            "grid_area": null,
            "grid_auto_columns": null,
            "grid_auto_flow": null,
            "grid_auto_rows": null,
            "grid_column": null,
            "grid_gap": null,
            "grid_row": null,
            "grid_template_areas": null,
            "grid_template_columns": null,
            "grid_template_rows": null,
            "height": null,
            "justify_content": null,
            "justify_items": null,
            "left": null,
            "margin": null,
            "max_height": null,
            "max_width": null,
            "min_height": null,
            "min_width": null,
            "object_fit": null,
            "object_position": null,
            "order": null,
            "overflow": null,
            "overflow_x": null,
            "overflow_y": null,
            "padding": null,
            "right": null,
            "top": null,
            "visibility": null,
            "width": null
          }
        },
        "5894a04b329c48eebb9a1cc93a74c5a8": {
          "model_module": "@jupyter-widgets/controls",
          "model_name": "DescriptionStyleModel",
          "model_module_version": "1.5.0",
          "state": {
            "_model_module": "@jupyter-widgets/controls",
            "_model_module_version": "1.5.0",
            "_model_name": "DescriptionStyleModel",
            "_view_count": null,
            "_view_module": "@jupyter-widgets/base",
            "_view_module_version": "1.2.0",
            "_view_name": "StyleView",
            "description_width": ""
          }
        },
        "1411906756d944fdbe3afd771cf13a5b": {
          "model_module": "@jupyter-widgets/base",
          "model_name": "LayoutModel",
          "model_module_version": "1.2.0",
          "state": {
            "_model_module": "@jupyter-widgets/base",
            "_model_module_version": "1.2.0",
            "_model_name": "LayoutModel",
            "_view_count": null,
            "_view_module": "@jupyter-widgets/base",
            "_view_module_version": "1.2.0",
            "_view_name": "LayoutView",
            "align_content": null,
            "align_items": null,
            "align_self": null,
            "border": null,
            "bottom": null,
            "display": null,
            "flex": null,
            "flex_flow": null,
            "grid_area": null,
            "grid_auto_columns": null,
            "grid_auto_flow": null,
            "grid_auto_rows": null,
            "grid_column": null,
            "grid_gap": null,
            "grid_row": null,
            "grid_template_areas": null,
            "grid_template_columns": null,
            "grid_template_rows": null,
            "height": null,
            "justify_content": null,
            "justify_items": null,
            "left": null,
            "margin": null,
            "max_height": null,
            "max_width": null,
            "min_height": null,
            "min_width": null,
            "object_fit": null,
            "object_position": null,
            "order": null,
            "overflow": null,
            "overflow_x": null,
            "overflow_y": null,
            "padding": null,
            "right": null,
            "top": null,
            "visibility": null,
            "width": null
          }
        },
        "ba4a01cb049f4dba8b84b891ef26117c": {
          "model_module": "@jupyter-widgets/controls",
          "model_name": "ProgressStyleModel",
          "model_module_version": "1.5.0",
          "state": {
            "_model_module": "@jupyter-widgets/controls",
            "_model_module_version": "1.5.0",
            "_model_name": "ProgressStyleModel",
            "_view_count": null,
            "_view_module": "@jupyter-widgets/base",
            "_view_module_version": "1.2.0",
            "_view_name": "StyleView",
            "bar_color": null,
            "description_width": ""
          }
        },
        "13a9f4c298d1441cad446e25fcad50ad": {
          "model_module": "@jupyter-widgets/base",
          "model_name": "LayoutModel",
          "model_module_version": "1.2.0",
          "state": {
            "_model_module": "@jupyter-widgets/base",
            "_model_module_version": "1.2.0",
            "_model_name": "LayoutModel",
            "_view_count": null,
            "_view_module": "@jupyter-widgets/base",
            "_view_module_version": "1.2.0",
            "_view_name": "LayoutView",
            "align_content": null,
            "align_items": null,
            "align_self": null,
            "border": null,
            "bottom": null,
            "display": null,
            "flex": null,
            "flex_flow": null,
            "grid_area": null,
            "grid_auto_columns": null,
            "grid_auto_flow": null,
            "grid_auto_rows": null,
            "grid_column": null,
            "grid_gap": null,
            "grid_row": null,
            "grid_template_areas": null,
            "grid_template_columns": null,
            "grid_template_rows": null,
            "height": null,
            "justify_content": null,
            "justify_items": null,
            "left": null,
            "margin": null,
            "max_height": null,
            "max_width": null,
            "min_height": null,
            "min_width": null,
            "object_fit": null,
            "object_position": null,
            "order": null,
            "overflow": null,
            "overflow_x": null,
            "overflow_y": null,
            "padding": null,
            "right": null,
            "top": null,
            "visibility": null,
            "width": null
          }
        },
        "0b1fd05f75e74d29baac4bd0a5430c02": {
          "model_module": "@jupyter-widgets/controls",
          "model_name": "DescriptionStyleModel",
          "model_module_version": "1.5.0",
          "state": {
            "_model_module": "@jupyter-widgets/controls",
            "_model_module_version": "1.5.0",
            "_model_name": "DescriptionStyleModel",
            "_view_count": null,
            "_view_module": "@jupyter-widgets/base",
            "_view_module_version": "1.2.0",
            "_view_name": "StyleView",
            "description_width": ""
          }
        }
      }
    }
  },
  "nbformat": 4,
  "nbformat_minor": 0
}